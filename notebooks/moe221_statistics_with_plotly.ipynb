{
 "cells": [
  {
   "cell_type": "code",
   "execution_count": 282,
   "id": "17494f48",
   "metadata": {},
   "outputs": [],
   "source": [
    "import pandas as pd\n",
    "import plotly.graph_objects as go\n",
    "import plotly.express as px\n",
    "from google.cloud import storage\n",
    "from tqdm import tqdm"
   ]
  },
  {
   "cell_type": "code",
   "execution_count": 268,
   "id": "803e6c53",
   "metadata": {},
   "outputs": [],
   "source": [
    "# project id - GCP project id\n",
    "PROJECT_ID=\"le-wagon-bootcamp-328018\"\n",
    "\n",
    "# bucket name - GCP bucket name\n",
    "BUCKET_NAME=\"diversity-in-cinema-735\"\n",
    "\n",
    "# train data file location\n",
    "BUCKET_TRAIN_DATA_PATH = \"data/training_data\"\n",
    "\n",
    "# Streamlit bucket name - GCP bucket name\n",
    "BUCKET_NAME_STREAMLIT = \"wagon-data-735-movie-diversity\""
   ]
  },
  {
   "cell_type": "code",
   "execution_count": 269,
   "id": "23a1b589",
   "metadata": {},
   "outputs": [],
   "source": [
    "def get_movie_list(subfolders):\n",
    "\n",
    "    \"\"\"\n",
    "    Function ro grab file names from a GCP bucket directory\n",
    "\n",
    "    Parameters:\n",
    "\n",
    "    bucket_name: Name of GCP bucket\n",
    "    subfolders: complete subfolder path as a string where file names should\n",
    "                be retrieved from in the format folder_1/folder_2/.../folder_n\n",
    "\n",
    "    \"\"\"\n",
    "\n",
    "    # check if movie was already processed:\n",
    "\n",
    "    client = storage.Client()\n",
    "    file_names = [str(x).split(f\"{subfolders}/\")[1].\\\n",
    "        split(\"/statistics\")[0]\\\n",
    "                for x in \\\n",
    "                    client.list_blobs(BUCKET_NAME_STREAMLIT, prefix=subfolders)]\n",
    "    # replace first entry with empty string\n",
    "\n",
    "    return file_names"
   ]
  },
  {
   "cell_type": "code",
   "execution_count": 345,
   "id": "69c357b2",
   "metadata": {},
   "outputs": [],
   "source": [
    "def get_evolution_data():\n",
    "    \n",
    "    df_stats_list = []\n",
    "    \n",
    "    regex = re.compile(r'\\((\\d{4})\\)')\n",
    "    \n",
    "    movie_list = get_movie_list(\"CSVs\")[1:]\n",
    "    \n",
    "    for movie in tqdm(movie_list):\n",
    "        \n",
    "        if movie == \"\":\n",
    "            continue\n",
    "\n",
    "        year = regex.findall(movie)[0]\n",
    "\n",
    "        df = pd.read_csv(f\"gs://{BUCKET_NAME_STREAMLIT}/CSVs/{movie}/statistics\", index_col=None)\n",
    "\n",
    "        df[\"title\"] = movie\n",
    "        df[\"year\"] = year\n",
    "\n",
    "        df[\"year\"] = pd.to_datetime(df[\"year\"].values)\n",
    "        df.sort_values(\"year\", inplace=True)\n",
    "        df_stats_list.append(df)\n",
    "        \n",
    "    df_stats_total = pd.concat(df_stats_list, axis=0)\n",
    "    df_stats_total.sort_values(\"year\", inplace=True)\n",
    "    \n",
    "    return df_stats_total.reset_index()"
   ]
  },
  {
   "cell_type": "code",
   "execution_count": 330,
   "id": "59b40408",
   "metadata": {},
   "outputs": [],
   "source": [
    "def plot_gender_timeline(df, plot_type=\"bar\"):\n",
    "    \n",
    "    # group by decade\n",
    "    df_grouped = df.groupby(pd.cut(df[\"year\"], pd.date_range('1920', '2030', freq='5YS'), right=False)).mean()\n",
    "\n",
    "    new_df = pd.DataFrame({'year':pd.date_range(start='01-01-1920', end='01-01-2030', freq='5YS')})\n",
    "    df_stats_total = new_df.merge(df, on ='year', how='left')\n",
    "    df_grouped = df_stats_total.groupby(pd.Grouper(key='year', freq = '5AS')).mean()\n",
    "    df_grouped = df_grouped.dropna()\n",
    "    \n",
    "    if plot_type == \"bar\":\n",
    "    # plot gender over time\n",
    "        fig = px.bar(df_grouped, x=df_grouped.index,\n",
    "                     y = ['man_screentime', 'woman_screentime', 'only_men', 'only_women'],\n",
    "                     barmode=\"overlay\", labels={\"value\": \"Screentime [%]\", \"year\":\"\"} )\n",
    "        fig.show()\n",
    "        \n",
    "    elif plot_type == \"line\":\n",
    "        fig = px.line(df_grouped, x=df_grouped.index,\n",
    "             y = ['man_screentime', 'woman_screentime', 'only_men', 'only_women'],\n",
    "                      labels={\"value\": \"Screentime [%]\", \"year\":\"\"} )\n",
    "        fig.show()"
   ]
  },
  {
   "cell_type": "code",
   "execution_count": 331,
   "id": "db671cb5",
   "metadata": {},
   "outputs": [],
   "source": [
    "def plot_race_timeline(df, plot_type=\"bar\", step=\"5YS\"):\n",
    "    \n",
    "    # group by decade\n",
    "    df_grouped = df.groupby(pd.cut(df[\"year\"], pd.date_range('1920', '2030', freq=f'{step}YS'), right=False)).mean()\n",
    "\n",
    "    new_df = pd.DataFrame({'year':pd.date_range(start='01-01-1920', end='01-01-2030', freq=f'{step}YS')})\n",
    "    df_stats_total = new_df.merge(df, on ='year', how='left')\n",
    "    df_grouped = df_stats_total.groupby(pd.Grouper(key='year', freq=f'{step}YS')).mean()\n",
    "    df_grouped = df_grouped.dropna()\n",
    "    \n",
    "    if plot_type == \"bar\":\n",
    "    # plot gender over time\n",
    "        fig = px.bar(df_grouped, x=df_grouped.index,\n",
    "                     y = ['asian_screentime', 'black_screentime', 'indian_screentime','latino_hispanic_screentime', 'middle_eastern_screentime', 'white_screentime', 'women_of_color'],\n",
    "                     barmode=\"overlay\", labels={\"value\": \"Screentime [%]\", \"year\":\"\"} )\n",
    "        fig.show()\n",
    "        \n",
    "    elif plot_type == \"line\":\n",
    "        fig = px.line(df_grouped, x=df_grouped.index,\n",
    "             y = ['asian_screentime', 'black_screentime', 'indian_screentime', 'latino_hispanic_screentime', 'middle_eastern_screentime', 'white_screentime', 'women_of_color'],\n",
    "                      labels={\"value\": \"Screentime [%]\", \"year\":\"\"} )\n",
    "        fig.show()"
   ]
  },
  {
   "cell_type": "code",
   "execution_count": 346,
   "id": "90747c94",
   "metadata": {},
   "outputs": [
    {
     "name": "stderr",
     "output_type": "stream",
     "text": [
      "100%|█████████████████████████████████████████| 116/116 [00:17<00:00,  6.60it/s]\n"
     ]
    }
   ],
   "source": [
    "df_evo = get_evolution_data()"
   ]
  },
  {
   "cell_type": "code",
   "execution_count": 394,
   "id": "86fe1491",
   "metadata": {},
   "outputs": [
    {
     "data": {
      "application/vnd.plotly.v1+json": {
       "config": {
        "plotlyServerURL": "https://plot.ly"
       },
       "data": [
        {
         "hovertemplate": "variable=man_screentime<br>=%{x}<br>Screentime [%]=%{y}<extra></extra>",
         "legendgroup": "man_screentime",
         "line": {
          "color": "#636efa",
          "dash": "solid"
         },
         "marker": {
          "symbol": "circle"
         },
         "mode": "lines",
         "name": "man_screentime",
         "orientation": "v",
         "showlegend": true,
         "type": "scatter",
         "x": [
          "1955-01-01T00:00:00",
          "1960-01-01T00:00:00",
          "1980-01-01T00:00:00",
          "1990-01-01T00:00:00",
          "1995-01-01T00:00:00",
          "2000-01-01T00:00:00",
          "2005-01-01T00:00:00",
          "2010-01-01T00:00:00",
          "2015-01-01T00:00:00"
         ],
         "xaxis": "x",
         "y": [
          94.3096379642178,
          76.17048756861479,
          90.95636025998142,
          93.10539968056385,
          93.75573187485008,
          89.67400126081033,
          86.3558908893416,
          92.4043140246574,
          80.6656455636188
         ],
         "yaxis": "y"
        },
        {
         "hovertemplate": "variable=woman_screentime<br>=%{x}<br>Screentime [%]=%{y}<extra></extra>",
         "legendgroup": "woman_screentime",
         "line": {
          "color": "#EF553B",
          "dash": "solid"
         },
         "marker": {
          "symbol": "circle"
         },
         "mode": "lines",
         "name": "woman_screentime",
         "orientation": "v",
         "showlegend": true,
         "type": "scatter",
         "x": [
          "1955-01-01T00:00:00",
          "1960-01-01T00:00:00",
          "1980-01-01T00:00:00",
          "1990-01-01T00:00:00",
          "1995-01-01T00:00:00",
          "2000-01-01T00:00:00",
          "2005-01-01T00:00:00",
          "2010-01-01T00:00:00",
          "2015-01-01T00:00:00"
         ],
         "xaxis": "x",
         "y": [
          5.69036203578221,
          23.82951243138521,
          9.04363974001857,
          6.894600319436133,
          6.2442681251499,
          10.325998739189684,
          13.644109110658407,
          7.595685975342605,
          19.334354436381194
         ],
         "yaxis": "y"
        },
        {
         "hovertemplate": "variable=only_men<br>=%{x}<br>Screentime [%]=%{y}<extra></extra>",
         "legendgroup": "only_men",
         "line": {
          "color": "#00cc96",
          "dash": "solid"
         },
         "marker": {
          "symbol": "circle"
         },
         "mode": "lines",
         "name": "only_men",
         "orientation": "v",
         "showlegend": true,
         "type": "scatter",
         "x": [
          "1955-01-01T00:00:00",
          "1960-01-01T00:00:00",
          "1980-01-01T00:00:00",
          "1990-01-01T00:00:00",
          "1995-01-01T00:00:00",
          "2000-01-01T00:00:00",
          "2005-01-01T00:00:00",
          "2010-01-01T00:00:00",
          "2015-01-01T00:00:00"
         ],
         "xaxis": "x",
         "y": [
          91.09648116919618,
          70.3883495145631,
          83.94308943089432,
          89.29093456129057,
          90.88262462982422,
          85.742613934309,
          80.77371436184386,
          89.701793768704,
          67.22691765911128
         ],
         "yaxis": "y"
        },
        {
         "hovertemplate": "variable=only_women<br>=%{x}<br>Screentime [%]=%{y}<extra></extra>",
         "legendgroup": "only_women",
         "line": {
          "color": "#ab63fa",
          "dash": "solid"
         },
         "marker": {
          "symbol": "circle"
         },
         "mode": "lines",
         "name": "only_women",
         "orientation": "v",
         "showlegend": true,
         "type": "scatter",
         "x": [
          "1955-01-01T00:00:00",
          "1960-01-01T00:00:00",
          "1980-01-01T00:00:00",
          "1990-01-01T00:00:00",
          "1995-01-01T00:00:00",
          "2000-01-01T00:00:00",
          "2005-01-01T00:00:00",
          "2010-01-01T00:00:00",
          "2015-01-01T00:00:00"
         ],
         "xaxis": "x",
         "y": [
          4.479235525576167,
          22.936893203883496,
          6.605691056910569,
          5.365456221314712,
          4.124288744820476,
          9.098536492348762,
          15.848520014397838,
          6.550174283499981,
          15.96107783559762
         ],
         "yaxis": "y"
        }
       ],
       "layout": {
        "legend": {
         "title": {
          "text": "variable"
         },
         "tracegroupgap": 0
        },
        "margin": {
         "t": 60
        },
        "template": {
         "data": {
          "bar": [
           {
            "error_x": {
             "color": "#2a3f5f"
            },
            "error_y": {
             "color": "#2a3f5f"
            },
            "marker": {
             "line": {
              "color": "#E5ECF6",
              "width": 0.5
             },
             "pattern": {
              "fillmode": "overlay",
              "size": 10,
              "solidity": 0.2
             }
            },
            "type": "bar"
           }
          ],
          "barpolar": [
           {
            "marker": {
             "line": {
              "color": "#E5ECF6",
              "width": 0.5
             },
             "pattern": {
              "fillmode": "overlay",
              "size": 10,
              "solidity": 0.2
             }
            },
            "type": "barpolar"
           }
          ],
          "carpet": [
           {
            "aaxis": {
             "endlinecolor": "#2a3f5f",
             "gridcolor": "white",
             "linecolor": "white",
             "minorgridcolor": "white",
             "startlinecolor": "#2a3f5f"
            },
            "baxis": {
             "endlinecolor": "#2a3f5f",
             "gridcolor": "white",
             "linecolor": "white",
             "minorgridcolor": "white",
             "startlinecolor": "#2a3f5f"
            },
            "type": "carpet"
           }
          ],
          "choropleth": [
           {
            "colorbar": {
             "outlinewidth": 0,
             "ticks": ""
            },
            "type": "choropleth"
           }
          ],
          "contour": [
           {
            "colorbar": {
             "outlinewidth": 0,
             "ticks": ""
            },
            "colorscale": [
             [
              0,
              "#0d0887"
             ],
             [
              0.1111111111111111,
              "#46039f"
             ],
             [
              0.2222222222222222,
              "#7201a8"
             ],
             [
              0.3333333333333333,
              "#9c179e"
             ],
             [
              0.4444444444444444,
              "#bd3786"
             ],
             [
              0.5555555555555556,
              "#d8576b"
             ],
             [
              0.6666666666666666,
              "#ed7953"
             ],
             [
              0.7777777777777778,
              "#fb9f3a"
             ],
             [
              0.8888888888888888,
              "#fdca26"
             ],
             [
              1,
              "#f0f921"
             ]
            ],
            "type": "contour"
           }
          ],
          "contourcarpet": [
           {
            "colorbar": {
             "outlinewidth": 0,
             "ticks": ""
            },
            "type": "contourcarpet"
           }
          ],
          "heatmap": [
           {
            "colorbar": {
             "outlinewidth": 0,
             "ticks": ""
            },
            "colorscale": [
             [
              0,
              "#0d0887"
             ],
             [
              0.1111111111111111,
              "#46039f"
             ],
             [
              0.2222222222222222,
              "#7201a8"
             ],
             [
              0.3333333333333333,
              "#9c179e"
             ],
             [
              0.4444444444444444,
              "#bd3786"
             ],
             [
              0.5555555555555556,
              "#d8576b"
             ],
             [
              0.6666666666666666,
              "#ed7953"
             ],
             [
              0.7777777777777778,
              "#fb9f3a"
             ],
             [
              0.8888888888888888,
              "#fdca26"
             ],
             [
              1,
              "#f0f921"
             ]
            ],
            "type": "heatmap"
           }
          ],
          "heatmapgl": [
           {
            "colorbar": {
             "outlinewidth": 0,
             "ticks": ""
            },
            "colorscale": [
             [
              0,
              "#0d0887"
             ],
             [
              0.1111111111111111,
              "#46039f"
             ],
             [
              0.2222222222222222,
              "#7201a8"
             ],
             [
              0.3333333333333333,
              "#9c179e"
             ],
             [
              0.4444444444444444,
              "#bd3786"
             ],
             [
              0.5555555555555556,
              "#d8576b"
             ],
             [
              0.6666666666666666,
              "#ed7953"
             ],
             [
              0.7777777777777778,
              "#fb9f3a"
             ],
             [
              0.8888888888888888,
              "#fdca26"
             ],
             [
              1,
              "#f0f921"
             ]
            ],
            "type": "heatmapgl"
           }
          ],
          "histogram": [
           {
            "marker": {
             "pattern": {
              "fillmode": "overlay",
              "size": 10,
              "solidity": 0.2
             }
            },
            "type": "histogram"
           }
          ],
          "histogram2d": [
           {
            "colorbar": {
             "outlinewidth": 0,
             "ticks": ""
            },
            "colorscale": [
             [
              0,
              "#0d0887"
             ],
             [
              0.1111111111111111,
              "#46039f"
             ],
             [
              0.2222222222222222,
              "#7201a8"
             ],
             [
              0.3333333333333333,
              "#9c179e"
             ],
             [
              0.4444444444444444,
              "#bd3786"
             ],
             [
              0.5555555555555556,
              "#d8576b"
             ],
             [
              0.6666666666666666,
              "#ed7953"
             ],
             [
              0.7777777777777778,
              "#fb9f3a"
             ],
             [
              0.8888888888888888,
              "#fdca26"
             ],
             [
              1,
              "#f0f921"
             ]
            ],
            "type": "histogram2d"
           }
          ],
          "histogram2dcontour": [
           {
            "colorbar": {
             "outlinewidth": 0,
             "ticks": ""
            },
            "colorscale": [
             [
              0,
              "#0d0887"
             ],
             [
              0.1111111111111111,
              "#46039f"
             ],
             [
              0.2222222222222222,
              "#7201a8"
             ],
             [
              0.3333333333333333,
              "#9c179e"
             ],
             [
              0.4444444444444444,
              "#bd3786"
             ],
             [
              0.5555555555555556,
              "#d8576b"
             ],
             [
              0.6666666666666666,
              "#ed7953"
             ],
             [
              0.7777777777777778,
              "#fb9f3a"
             ],
             [
              0.8888888888888888,
              "#fdca26"
             ],
             [
              1,
              "#f0f921"
             ]
            ],
            "type": "histogram2dcontour"
           }
          ],
          "mesh3d": [
           {
            "colorbar": {
             "outlinewidth": 0,
             "ticks": ""
            },
            "type": "mesh3d"
           }
          ],
          "parcoords": [
           {
            "line": {
             "colorbar": {
              "outlinewidth": 0,
              "ticks": ""
             }
            },
            "type": "parcoords"
           }
          ],
          "pie": [
           {
            "automargin": true,
            "type": "pie"
           }
          ],
          "scatter": [
           {
            "marker": {
             "colorbar": {
              "outlinewidth": 0,
              "ticks": ""
             }
            },
            "type": "scatter"
           }
          ],
          "scatter3d": [
           {
            "line": {
             "colorbar": {
              "outlinewidth": 0,
              "ticks": ""
             }
            },
            "marker": {
             "colorbar": {
              "outlinewidth": 0,
              "ticks": ""
             }
            },
            "type": "scatter3d"
           }
          ],
          "scattercarpet": [
           {
            "marker": {
             "colorbar": {
              "outlinewidth": 0,
              "ticks": ""
             }
            },
            "type": "scattercarpet"
           }
          ],
          "scattergeo": [
           {
            "marker": {
             "colorbar": {
              "outlinewidth": 0,
              "ticks": ""
             }
            },
            "type": "scattergeo"
           }
          ],
          "scattergl": [
           {
            "marker": {
             "colorbar": {
              "outlinewidth": 0,
              "ticks": ""
             }
            },
            "type": "scattergl"
           }
          ],
          "scattermapbox": [
           {
            "marker": {
             "colorbar": {
              "outlinewidth": 0,
              "ticks": ""
             }
            },
            "type": "scattermapbox"
           }
          ],
          "scatterpolar": [
           {
            "marker": {
             "colorbar": {
              "outlinewidth": 0,
              "ticks": ""
             }
            },
            "type": "scatterpolar"
           }
          ],
          "scatterpolargl": [
           {
            "marker": {
             "colorbar": {
              "outlinewidth": 0,
              "ticks": ""
             }
            },
            "type": "scatterpolargl"
           }
          ],
          "scatterternary": [
           {
            "marker": {
             "colorbar": {
              "outlinewidth": 0,
              "ticks": ""
             }
            },
            "type": "scatterternary"
           }
          ],
          "surface": [
           {
            "colorbar": {
             "outlinewidth": 0,
             "ticks": ""
            },
            "colorscale": [
             [
              0,
              "#0d0887"
             ],
             [
              0.1111111111111111,
              "#46039f"
             ],
             [
              0.2222222222222222,
              "#7201a8"
             ],
             [
              0.3333333333333333,
              "#9c179e"
             ],
             [
              0.4444444444444444,
              "#bd3786"
             ],
             [
              0.5555555555555556,
              "#d8576b"
             ],
             [
              0.6666666666666666,
              "#ed7953"
             ],
             [
              0.7777777777777778,
              "#fb9f3a"
             ],
             [
              0.8888888888888888,
              "#fdca26"
             ],
             [
              1,
              "#f0f921"
             ]
            ],
            "type": "surface"
           }
          ],
          "table": [
           {
            "cells": {
             "fill": {
              "color": "#EBF0F8"
             },
             "line": {
              "color": "white"
             }
            },
            "header": {
             "fill": {
              "color": "#C8D4E3"
             },
             "line": {
              "color": "white"
             }
            },
            "type": "table"
           }
          ]
         },
         "layout": {
          "annotationdefaults": {
           "arrowcolor": "#2a3f5f",
           "arrowhead": 0,
           "arrowwidth": 1
          },
          "autotypenumbers": "strict",
          "coloraxis": {
           "colorbar": {
            "outlinewidth": 0,
            "ticks": ""
           }
          },
          "colorscale": {
           "diverging": [
            [
             0,
             "#8e0152"
            ],
            [
             0.1,
             "#c51b7d"
            ],
            [
             0.2,
             "#de77ae"
            ],
            [
             0.3,
             "#f1b6da"
            ],
            [
             0.4,
             "#fde0ef"
            ],
            [
             0.5,
             "#f7f7f7"
            ],
            [
             0.6,
             "#e6f5d0"
            ],
            [
             0.7,
             "#b8e186"
            ],
            [
             0.8,
             "#7fbc41"
            ],
            [
             0.9,
             "#4d9221"
            ],
            [
             1,
             "#276419"
            ]
           ],
           "sequential": [
            [
             0,
             "#0d0887"
            ],
            [
             0.1111111111111111,
             "#46039f"
            ],
            [
             0.2222222222222222,
             "#7201a8"
            ],
            [
             0.3333333333333333,
             "#9c179e"
            ],
            [
             0.4444444444444444,
             "#bd3786"
            ],
            [
             0.5555555555555556,
             "#d8576b"
            ],
            [
             0.6666666666666666,
             "#ed7953"
            ],
            [
             0.7777777777777778,
             "#fb9f3a"
            ],
            [
             0.8888888888888888,
             "#fdca26"
            ],
            [
             1,
             "#f0f921"
            ]
           ],
           "sequentialminus": [
            [
             0,
             "#0d0887"
            ],
            [
             0.1111111111111111,
             "#46039f"
            ],
            [
             0.2222222222222222,
             "#7201a8"
            ],
            [
             0.3333333333333333,
             "#9c179e"
            ],
            [
             0.4444444444444444,
             "#bd3786"
            ],
            [
             0.5555555555555556,
             "#d8576b"
            ],
            [
             0.6666666666666666,
             "#ed7953"
            ],
            [
             0.7777777777777778,
             "#fb9f3a"
            ],
            [
             0.8888888888888888,
             "#fdca26"
            ],
            [
             1,
             "#f0f921"
            ]
           ]
          },
          "colorway": [
           "#636efa",
           "#EF553B",
           "#00cc96",
           "#ab63fa",
           "#FFA15A",
           "#19d3f3",
           "#FF6692",
           "#B6E880",
           "#FF97FF",
           "#FECB52"
          ],
          "font": {
           "color": "#2a3f5f"
          },
          "geo": {
           "bgcolor": "white",
           "lakecolor": "white",
           "landcolor": "#E5ECF6",
           "showlakes": true,
           "showland": true,
           "subunitcolor": "white"
          },
          "hoverlabel": {
           "align": "left"
          },
          "hovermode": "closest",
          "mapbox": {
           "style": "light"
          },
          "paper_bgcolor": "white",
          "plot_bgcolor": "#E5ECF6",
          "polar": {
           "angularaxis": {
            "gridcolor": "white",
            "linecolor": "white",
            "ticks": ""
           },
           "bgcolor": "#E5ECF6",
           "radialaxis": {
            "gridcolor": "white",
            "linecolor": "white",
            "ticks": ""
           }
          },
          "scene": {
           "xaxis": {
            "backgroundcolor": "#E5ECF6",
            "gridcolor": "white",
            "gridwidth": 2,
            "linecolor": "white",
            "showbackground": true,
            "ticks": "",
            "zerolinecolor": "white"
           },
           "yaxis": {
            "backgroundcolor": "#E5ECF6",
            "gridcolor": "white",
            "gridwidth": 2,
            "linecolor": "white",
            "showbackground": true,
            "ticks": "",
            "zerolinecolor": "white"
           },
           "zaxis": {
            "backgroundcolor": "#E5ECF6",
            "gridcolor": "white",
            "gridwidth": 2,
            "linecolor": "white",
            "showbackground": true,
            "ticks": "",
            "zerolinecolor": "white"
           }
          },
          "shapedefaults": {
           "line": {
            "color": "#2a3f5f"
           }
          },
          "ternary": {
           "aaxis": {
            "gridcolor": "white",
            "linecolor": "white",
            "ticks": ""
           },
           "baxis": {
            "gridcolor": "white",
            "linecolor": "white",
            "ticks": ""
           },
           "bgcolor": "#E5ECF6",
           "caxis": {
            "gridcolor": "white",
            "linecolor": "white",
            "ticks": ""
           }
          },
          "title": {
           "x": 0.05
          },
          "xaxis": {
           "automargin": true,
           "gridcolor": "white",
           "linecolor": "white",
           "ticks": "",
           "title": {
            "standoff": 15
           },
           "zerolinecolor": "white",
           "zerolinewidth": 2
          },
          "yaxis": {
           "automargin": true,
           "gridcolor": "white",
           "linecolor": "white",
           "ticks": "",
           "title": {
            "standoff": 15
           },
           "zerolinecolor": "white",
           "zerolinewidth": 2
          }
         }
        },
        "xaxis": {
         "anchor": "y",
         "domain": [
          0,
          1
         ],
         "title": {
          "text": ""
         }
        },
        "yaxis": {
         "anchor": "x",
         "domain": [
          0,
          1
         ],
         "title": {
          "text": "Screentime [%]"
         }
        }
       }
      },
      "text/html": [
       "<div>                            <div id=\"a107a23b-8415-4736-bec2-e44d4e8560b9\" class=\"plotly-graph-div\" style=\"height:525px; width:100%;\"></div>            <script type=\"text/javascript\">                require([\"plotly\"], function(Plotly) {                    window.PLOTLYENV=window.PLOTLYENV || {};                                    if (document.getElementById(\"a107a23b-8415-4736-bec2-e44d4e8560b9\")) {                    Plotly.newPlot(                        \"a107a23b-8415-4736-bec2-e44d4e8560b9\",                        [{\"hovertemplate\":\"variable=man_screentime<br>=%{x}<br>Screentime [%]=%{y}<extra></extra>\",\"legendgroup\":\"man_screentime\",\"line\":{\"color\":\"#636efa\",\"dash\":\"solid\"},\"marker\":{\"symbol\":\"circle\"},\"mode\":\"lines\",\"name\":\"man_screentime\",\"orientation\":\"v\",\"showlegend\":true,\"type\":\"scatter\",\"x\":[\"1955-01-01T00:00:00\",\"1960-01-01T00:00:00\",\"1980-01-01T00:00:00\",\"1990-01-01T00:00:00\",\"1995-01-01T00:00:00\",\"2000-01-01T00:00:00\",\"2005-01-01T00:00:00\",\"2010-01-01T00:00:00\",\"2015-01-01T00:00:00\"],\"xaxis\":\"x\",\"y\":[94.3096379642178,76.17048756861479,90.95636025998142,93.10539968056385,93.75573187485008,89.67400126081033,86.3558908893416,92.4043140246574,80.6656455636188],\"yaxis\":\"y\"},{\"hovertemplate\":\"variable=woman_screentime<br>=%{x}<br>Screentime [%]=%{y}<extra></extra>\",\"legendgroup\":\"woman_screentime\",\"line\":{\"color\":\"#EF553B\",\"dash\":\"solid\"},\"marker\":{\"symbol\":\"circle\"},\"mode\":\"lines\",\"name\":\"woman_screentime\",\"orientation\":\"v\",\"showlegend\":true,\"type\":\"scatter\",\"x\":[\"1955-01-01T00:00:00\",\"1960-01-01T00:00:00\",\"1980-01-01T00:00:00\",\"1990-01-01T00:00:00\",\"1995-01-01T00:00:00\",\"2000-01-01T00:00:00\",\"2005-01-01T00:00:00\",\"2010-01-01T00:00:00\",\"2015-01-01T00:00:00\"],\"xaxis\":\"x\",\"y\":[5.69036203578221,23.82951243138521,9.04363974001857,6.894600319436133,6.2442681251499,10.325998739189684,13.644109110658407,7.595685975342605,19.334354436381194],\"yaxis\":\"y\"},{\"hovertemplate\":\"variable=only_men<br>=%{x}<br>Screentime [%]=%{y}<extra></extra>\",\"legendgroup\":\"only_men\",\"line\":{\"color\":\"#00cc96\",\"dash\":\"solid\"},\"marker\":{\"symbol\":\"circle\"},\"mode\":\"lines\",\"name\":\"only_men\",\"orientation\":\"v\",\"showlegend\":true,\"type\":\"scatter\",\"x\":[\"1955-01-01T00:00:00\",\"1960-01-01T00:00:00\",\"1980-01-01T00:00:00\",\"1990-01-01T00:00:00\",\"1995-01-01T00:00:00\",\"2000-01-01T00:00:00\",\"2005-01-01T00:00:00\",\"2010-01-01T00:00:00\",\"2015-01-01T00:00:00\"],\"xaxis\":\"x\",\"y\":[91.09648116919618,70.3883495145631,83.94308943089432,89.29093456129057,90.88262462982422,85.742613934309,80.77371436184386,89.701793768704,67.22691765911128],\"yaxis\":\"y\"},{\"hovertemplate\":\"variable=only_women<br>=%{x}<br>Screentime [%]=%{y}<extra></extra>\",\"legendgroup\":\"only_women\",\"line\":{\"color\":\"#ab63fa\",\"dash\":\"solid\"},\"marker\":{\"symbol\":\"circle\"},\"mode\":\"lines\",\"name\":\"only_women\",\"orientation\":\"v\",\"showlegend\":true,\"type\":\"scatter\",\"x\":[\"1955-01-01T00:00:00\",\"1960-01-01T00:00:00\",\"1980-01-01T00:00:00\",\"1990-01-01T00:00:00\",\"1995-01-01T00:00:00\",\"2000-01-01T00:00:00\",\"2005-01-01T00:00:00\",\"2010-01-01T00:00:00\",\"2015-01-01T00:00:00\"],\"xaxis\":\"x\",\"y\":[4.479235525576167,22.936893203883496,6.605691056910569,5.365456221314712,4.124288744820476,9.098536492348762,15.848520014397838,6.550174283499981,15.96107783559762],\"yaxis\":\"y\"}],                        {\"legend\":{\"title\":{\"text\":\"variable\"},\"tracegroupgap\":0},\"margin\":{\"t\":60},\"template\":{\"data\":{\"bar\":[{\"error_x\":{\"color\":\"#2a3f5f\"},\"error_y\":{\"color\":\"#2a3f5f\"},\"marker\":{\"line\":{\"color\":\"#E5ECF6\",\"width\":0.5},\"pattern\":{\"fillmode\":\"overlay\",\"size\":10,\"solidity\":0.2}},\"type\":\"bar\"}],\"barpolar\":[{\"marker\":{\"line\":{\"color\":\"#E5ECF6\",\"width\":0.5},\"pattern\":{\"fillmode\":\"overlay\",\"size\":10,\"solidity\":0.2}},\"type\":\"barpolar\"}],\"carpet\":[{\"aaxis\":{\"endlinecolor\":\"#2a3f5f\",\"gridcolor\":\"white\",\"linecolor\":\"white\",\"minorgridcolor\":\"white\",\"startlinecolor\":\"#2a3f5f\"},\"baxis\":{\"endlinecolor\":\"#2a3f5f\",\"gridcolor\":\"white\",\"linecolor\":\"white\",\"minorgridcolor\":\"white\",\"startlinecolor\":\"#2a3f5f\"},\"type\":\"carpet\"}],\"choropleth\":[{\"colorbar\":{\"outlinewidth\":0,\"ticks\":\"\"},\"type\":\"choropleth\"}],\"contour\":[{\"colorbar\":{\"outlinewidth\":0,\"ticks\":\"\"},\"colorscale\":[[0.0,\"#0d0887\"],[0.1111111111111111,\"#46039f\"],[0.2222222222222222,\"#7201a8\"],[0.3333333333333333,\"#9c179e\"],[0.4444444444444444,\"#bd3786\"],[0.5555555555555556,\"#d8576b\"],[0.6666666666666666,\"#ed7953\"],[0.7777777777777778,\"#fb9f3a\"],[0.8888888888888888,\"#fdca26\"],[1.0,\"#f0f921\"]],\"type\":\"contour\"}],\"contourcarpet\":[{\"colorbar\":{\"outlinewidth\":0,\"ticks\":\"\"},\"type\":\"contourcarpet\"}],\"heatmap\":[{\"colorbar\":{\"outlinewidth\":0,\"ticks\":\"\"},\"colorscale\":[[0.0,\"#0d0887\"],[0.1111111111111111,\"#46039f\"],[0.2222222222222222,\"#7201a8\"],[0.3333333333333333,\"#9c179e\"],[0.4444444444444444,\"#bd3786\"],[0.5555555555555556,\"#d8576b\"],[0.6666666666666666,\"#ed7953\"],[0.7777777777777778,\"#fb9f3a\"],[0.8888888888888888,\"#fdca26\"],[1.0,\"#f0f921\"]],\"type\":\"heatmap\"}],\"heatmapgl\":[{\"colorbar\":{\"outlinewidth\":0,\"ticks\":\"\"},\"colorscale\":[[0.0,\"#0d0887\"],[0.1111111111111111,\"#46039f\"],[0.2222222222222222,\"#7201a8\"],[0.3333333333333333,\"#9c179e\"],[0.4444444444444444,\"#bd3786\"],[0.5555555555555556,\"#d8576b\"],[0.6666666666666666,\"#ed7953\"],[0.7777777777777778,\"#fb9f3a\"],[0.8888888888888888,\"#fdca26\"],[1.0,\"#f0f921\"]],\"type\":\"heatmapgl\"}],\"histogram\":[{\"marker\":{\"pattern\":{\"fillmode\":\"overlay\",\"size\":10,\"solidity\":0.2}},\"type\":\"histogram\"}],\"histogram2d\":[{\"colorbar\":{\"outlinewidth\":0,\"ticks\":\"\"},\"colorscale\":[[0.0,\"#0d0887\"],[0.1111111111111111,\"#46039f\"],[0.2222222222222222,\"#7201a8\"],[0.3333333333333333,\"#9c179e\"],[0.4444444444444444,\"#bd3786\"],[0.5555555555555556,\"#d8576b\"],[0.6666666666666666,\"#ed7953\"],[0.7777777777777778,\"#fb9f3a\"],[0.8888888888888888,\"#fdca26\"],[1.0,\"#f0f921\"]],\"type\":\"histogram2d\"}],\"histogram2dcontour\":[{\"colorbar\":{\"outlinewidth\":0,\"ticks\":\"\"},\"colorscale\":[[0.0,\"#0d0887\"],[0.1111111111111111,\"#46039f\"],[0.2222222222222222,\"#7201a8\"],[0.3333333333333333,\"#9c179e\"],[0.4444444444444444,\"#bd3786\"],[0.5555555555555556,\"#d8576b\"],[0.6666666666666666,\"#ed7953\"],[0.7777777777777778,\"#fb9f3a\"],[0.8888888888888888,\"#fdca26\"],[1.0,\"#f0f921\"]],\"type\":\"histogram2dcontour\"}],\"mesh3d\":[{\"colorbar\":{\"outlinewidth\":0,\"ticks\":\"\"},\"type\":\"mesh3d\"}],\"parcoords\":[{\"line\":{\"colorbar\":{\"outlinewidth\":0,\"ticks\":\"\"}},\"type\":\"parcoords\"}],\"pie\":[{\"automargin\":true,\"type\":\"pie\"}],\"scatter\":[{\"marker\":{\"colorbar\":{\"outlinewidth\":0,\"ticks\":\"\"}},\"type\":\"scatter\"}],\"scatter3d\":[{\"line\":{\"colorbar\":{\"outlinewidth\":0,\"ticks\":\"\"}},\"marker\":{\"colorbar\":{\"outlinewidth\":0,\"ticks\":\"\"}},\"type\":\"scatter3d\"}],\"scattercarpet\":[{\"marker\":{\"colorbar\":{\"outlinewidth\":0,\"ticks\":\"\"}},\"type\":\"scattercarpet\"}],\"scattergeo\":[{\"marker\":{\"colorbar\":{\"outlinewidth\":0,\"ticks\":\"\"}},\"type\":\"scattergeo\"}],\"scattergl\":[{\"marker\":{\"colorbar\":{\"outlinewidth\":0,\"ticks\":\"\"}},\"type\":\"scattergl\"}],\"scattermapbox\":[{\"marker\":{\"colorbar\":{\"outlinewidth\":0,\"ticks\":\"\"}},\"type\":\"scattermapbox\"}],\"scatterpolar\":[{\"marker\":{\"colorbar\":{\"outlinewidth\":0,\"ticks\":\"\"}},\"type\":\"scatterpolar\"}],\"scatterpolargl\":[{\"marker\":{\"colorbar\":{\"outlinewidth\":0,\"ticks\":\"\"}},\"type\":\"scatterpolargl\"}],\"scatterternary\":[{\"marker\":{\"colorbar\":{\"outlinewidth\":0,\"ticks\":\"\"}},\"type\":\"scatterternary\"}],\"surface\":[{\"colorbar\":{\"outlinewidth\":0,\"ticks\":\"\"},\"colorscale\":[[0.0,\"#0d0887\"],[0.1111111111111111,\"#46039f\"],[0.2222222222222222,\"#7201a8\"],[0.3333333333333333,\"#9c179e\"],[0.4444444444444444,\"#bd3786\"],[0.5555555555555556,\"#d8576b\"],[0.6666666666666666,\"#ed7953\"],[0.7777777777777778,\"#fb9f3a\"],[0.8888888888888888,\"#fdca26\"],[1.0,\"#f0f921\"]],\"type\":\"surface\"}],\"table\":[{\"cells\":{\"fill\":{\"color\":\"#EBF0F8\"},\"line\":{\"color\":\"white\"}},\"header\":{\"fill\":{\"color\":\"#C8D4E3\"},\"line\":{\"color\":\"white\"}},\"type\":\"table\"}]},\"layout\":{\"annotationdefaults\":{\"arrowcolor\":\"#2a3f5f\",\"arrowhead\":0,\"arrowwidth\":1},\"autotypenumbers\":\"strict\",\"coloraxis\":{\"colorbar\":{\"outlinewidth\":0,\"ticks\":\"\"}},\"colorscale\":{\"diverging\":[[0,\"#8e0152\"],[0.1,\"#c51b7d\"],[0.2,\"#de77ae\"],[0.3,\"#f1b6da\"],[0.4,\"#fde0ef\"],[0.5,\"#f7f7f7\"],[0.6,\"#e6f5d0\"],[0.7,\"#b8e186\"],[0.8,\"#7fbc41\"],[0.9,\"#4d9221\"],[1,\"#276419\"]],\"sequential\":[[0.0,\"#0d0887\"],[0.1111111111111111,\"#46039f\"],[0.2222222222222222,\"#7201a8\"],[0.3333333333333333,\"#9c179e\"],[0.4444444444444444,\"#bd3786\"],[0.5555555555555556,\"#d8576b\"],[0.6666666666666666,\"#ed7953\"],[0.7777777777777778,\"#fb9f3a\"],[0.8888888888888888,\"#fdca26\"],[1.0,\"#f0f921\"]],\"sequentialminus\":[[0.0,\"#0d0887\"],[0.1111111111111111,\"#46039f\"],[0.2222222222222222,\"#7201a8\"],[0.3333333333333333,\"#9c179e\"],[0.4444444444444444,\"#bd3786\"],[0.5555555555555556,\"#d8576b\"],[0.6666666666666666,\"#ed7953\"],[0.7777777777777778,\"#fb9f3a\"],[0.8888888888888888,\"#fdca26\"],[1.0,\"#f0f921\"]]},\"colorway\":[\"#636efa\",\"#EF553B\",\"#00cc96\",\"#ab63fa\",\"#FFA15A\",\"#19d3f3\",\"#FF6692\",\"#B6E880\",\"#FF97FF\",\"#FECB52\"],\"font\":{\"color\":\"#2a3f5f\"},\"geo\":{\"bgcolor\":\"white\",\"lakecolor\":\"white\",\"landcolor\":\"#E5ECF6\",\"showlakes\":true,\"showland\":true,\"subunitcolor\":\"white\"},\"hoverlabel\":{\"align\":\"left\"},\"hovermode\":\"closest\",\"mapbox\":{\"style\":\"light\"},\"paper_bgcolor\":\"white\",\"plot_bgcolor\":\"#E5ECF6\",\"polar\":{\"angularaxis\":{\"gridcolor\":\"white\",\"linecolor\":\"white\",\"ticks\":\"\"},\"bgcolor\":\"#E5ECF6\",\"radialaxis\":{\"gridcolor\":\"white\",\"linecolor\":\"white\",\"ticks\":\"\"}},\"scene\":{\"xaxis\":{\"backgroundcolor\":\"#E5ECF6\",\"gridcolor\":\"white\",\"gridwidth\":2,\"linecolor\":\"white\",\"showbackground\":true,\"ticks\":\"\",\"zerolinecolor\":\"white\"},\"yaxis\":{\"backgroundcolor\":\"#E5ECF6\",\"gridcolor\":\"white\",\"gridwidth\":2,\"linecolor\":\"white\",\"showbackground\":true,\"ticks\":\"\",\"zerolinecolor\":\"white\"},\"zaxis\":{\"backgroundcolor\":\"#E5ECF6\",\"gridcolor\":\"white\",\"gridwidth\":2,\"linecolor\":\"white\",\"showbackground\":true,\"ticks\":\"\",\"zerolinecolor\":\"white\"}},\"shapedefaults\":{\"line\":{\"color\":\"#2a3f5f\"}},\"ternary\":{\"aaxis\":{\"gridcolor\":\"white\",\"linecolor\":\"white\",\"ticks\":\"\"},\"baxis\":{\"gridcolor\":\"white\",\"linecolor\":\"white\",\"ticks\":\"\"},\"bgcolor\":\"#E5ECF6\",\"caxis\":{\"gridcolor\":\"white\",\"linecolor\":\"white\",\"ticks\":\"\"}},\"title\":{\"x\":0.05},\"xaxis\":{\"automargin\":true,\"gridcolor\":\"white\",\"linecolor\":\"white\",\"ticks\":\"\",\"title\":{\"standoff\":15},\"zerolinecolor\":\"white\",\"zerolinewidth\":2},\"yaxis\":{\"automargin\":true,\"gridcolor\":\"white\",\"linecolor\":\"white\",\"ticks\":\"\",\"title\":{\"standoff\":15},\"zerolinecolor\":\"white\",\"zerolinewidth\":2}}},\"xaxis\":{\"anchor\":\"y\",\"domain\":[0.0,1.0],\"title\":{\"text\":\"\"}},\"yaxis\":{\"anchor\":\"x\",\"domain\":[0.0,1.0],\"title\":{\"text\":\"Screentime [%]\"}}},                        {\"responsive\": true}                    ).then(function(){\n",
       "                            \n",
       "var gd = document.getElementById('a107a23b-8415-4736-bec2-e44d4e8560b9');\n",
       "var x = new MutationObserver(function (mutations, observer) {{\n",
       "        var display = window.getComputedStyle(gd).display;\n",
       "        if (!display || display === 'none') {{\n",
       "            console.log([gd, 'removed!']);\n",
       "            Plotly.purge(gd);\n",
       "            observer.disconnect();\n",
       "        }}\n",
       "}});\n",
       "\n",
       "// Listen for the removal of the full notebook cells\n",
       "var notebookContainer = gd.closest('#notebook-container');\n",
       "if (notebookContainer) {{\n",
       "    x.observe(notebookContainer, {childList: true});\n",
       "}}\n",
       "\n",
       "// Listen for the clearing of the current output cell\n",
       "var outputEl = gd.closest('.output');\n",
       "if (outputEl) {{\n",
       "    x.observe(outputEl, {childList: true});\n",
       "}}\n",
       "\n",
       "                        })                };                });            </script>        </div>"
      ]
     },
     "metadata": {},
     "output_type": "display_data"
    }
   ],
   "source": [
    "plot_gender_timeline(df_evo,plot_type=\"line\")"
   ]
  },
  {
   "cell_type": "code",
   "execution_count": 357,
   "id": "40f3b6fc",
   "metadata": {},
   "outputs": [
    {
     "data": {
      "text/html": [
       "<div>\n",
       "<style scoped>\n",
       "    .dataframe tbody tr th:only-of-type {\n",
       "        vertical-align: middle;\n",
       "    }\n",
       "\n",
       "    .dataframe tbody tr th {\n",
       "        vertical-align: top;\n",
       "    }\n",
       "\n",
       "    .dataframe thead th {\n",
       "        text-align: right;\n",
       "    }\n",
       "</style>\n",
       "<table border=\"1\" class=\"dataframe\">\n",
       "  <thead>\n",
       "    <tr style=\"text-align: right;\">\n",
       "      <th></th>\n",
       "      <th>man_screentime</th>\n",
       "      <th>woman_screentime</th>\n",
       "      <th>only_men</th>\n",
       "      <th>only_women</th>\n",
       "      <th>asian_screentime</th>\n",
       "      <th>black_screentime</th>\n",
       "      <th>indian_screentime</th>\n",
       "      <th>latino_hispanic_screentime</th>\n",
       "      <th>middle_eastern_screentime</th>\n",
       "      <th>white_screentime</th>\n",
       "      <th>women_of_color</th>\n",
       "      <th>title</th>\n",
       "      <th>year</th>\n",
       "    </tr>\n",
       "  </thead>\n",
       "  <tbody>\n",
       "    <tr>\n",
       "      <th>0</th>\n",
       "      <td>94.101509</td>\n",
       "      <td>5.898491</td>\n",
       "      <td>91.476710</td>\n",
       "      <td>5.946482</td>\n",
       "      <td>4.183813</td>\n",
       "      <td>0.411523</td>\n",
       "      <td>2.057613</td>\n",
       "      <td>2.263374</td>\n",
       "      <td>4.595336</td>\n",
       "      <td>86.488340</td>\n",
       "      <td>0.198216</td>\n",
       "      <td>The_Hunchback_of_Notre_Dame_(1923)</td>\n",
       "      <td>1923-01-01</td>\n",
       "    </tr>\n",
       "    <tr>\n",
       "      <th>1</th>\n",
       "      <td>93.626943</td>\n",
       "      <td>6.373057</td>\n",
       "      <td>90.096618</td>\n",
       "      <td>6.843800</td>\n",
       "      <td>3.056995</td>\n",
       "      <td>1.036269</td>\n",
       "      <td>2.020725</td>\n",
       "      <td>4.455959</td>\n",
       "      <td>8.290155</td>\n",
       "      <td>81.139896</td>\n",
       "      <td>0.241546</td>\n",
       "      <td>Frankenstein_(1931)</td>\n",
       "      <td>1931-01-01</td>\n",
       "    </tr>\n",
       "    <tr>\n",
       "      <th>2</th>\n",
       "      <td>90.578735</td>\n",
       "      <td>9.421265</td>\n",
       "      <td>87.899942</td>\n",
       "      <td>8.260617</td>\n",
       "      <td>2.781516</td>\n",
       "      <td>2.198295</td>\n",
       "      <td>3.095559</td>\n",
       "      <td>4.665769</td>\n",
       "      <td>5.204127</td>\n",
       "      <td>82.054733</td>\n",
       "      <td>0.349040</td>\n",
       "      <td>Dr._Jekyll_and_Mr._Hyde_(1931)</td>\n",
       "      <td>1931-01-01</td>\n",
       "    </tr>\n",
       "    <tr>\n",
       "      <th>3</th>\n",
       "      <td>82.366864</td>\n",
       "      <td>17.633136</td>\n",
       "      <td>79.891304</td>\n",
       "      <td>13.179348</td>\n",
       "      <td>1.775148</td>\n",
       "      <td>2.366864</td>\n",
       "      <td>2.958580</td>\n",
       "      <td>5.325444</td>\n",
       "      <td>1.183432</td>\n",
       "      <td>86.390533</td>\n",
       "      <td>0.000000</td>\n",
       "      <td>White_Zombie_(1932)</td>\n",
       "      <td>1932-01-01</td>\n",
       "    </tr>\n",
       "    <tr>\n",
       "      <th>4</th>\n",
       "      <td>90.473888</td>\n",
       "      <td>9.526112</td>\n",
       "      <td>86.661912</td>\n",
       "      <td>5.991441</td>\n",
       "      <td>4.013540</td>\n",
       "      <td>0.918762</td>\n",
       "      <td>1.160542</td>\n",
       "      <td>6.721470</td>\n",
       "      <td>3.384913</td>\n",
       "      <td>83.800774</td>\n",
       "      <td>0.499287</td>\n",
       "      <td>The_Wolf_Man_(1941)</td>\n",
       "      <td>1941-01-01</td>\n",
       "    </tr>\n",
       "    <tr>\n",
       "      <th>...</th>\n",
       "      <td>...</td>\n",
       "      <td>...</td>\n",
       "      <td>...</td>\n",
       "      <td>...</td>\n",
       "      <td>...</td>\n",
       "      <td>...</td>\n",
       "      <td>...</td>\n",
       "      <td>...</td>\n",
       "      <td>...</td>\n",
       "      <td>...</td>\n",
       "      <td>...</td>\n",
       "      <td>...</td>\n",
       "      <td>...</td>\n",
       "    </tr>\n",
       "    <tr>\n",
       "      <th>92</th>\n",
       "      <td>83.677686</td>\n",
       "      <td>16.322314</td>\n",
       "      <td>81.455399</td>\n",
       "      <td>18.075117</td>\n",
       "      <td>19.421488</td>\n",
       "      <td>5.922865</td>\n",
       "      <td>1.859504</td>\n",
       "      <td>4.338843</td>\n",
       "      <td>3.719008</td>\n",
       "      <td>64.738292</td>\n",
       "      <td>3.442879</td>\n",
       "      <td>Ghost_in_the_Shell_(2017)</td>\n",
       "      <td>2017-01-01</td>\n",
       "    </tr>\n",
       "    <tr>\n",
       "      <th>93</th>\n",
       "      <td>96.786632</td>\n",
       "      <td>3.213368</td>\n",
       "      <td>95.523724</td>\n",
       "      <td>4.297225</td>\n",
       "      <td>6.041131</td>\n",
       "      <td>8.226221</td>\n",
       "      <td>2.313625</td>\n",
       "      <td>5.526992</td>\n",
       "      <td>14.267352</td>\n",
       "      <td>63.624679</td>\n",
       "      <td>0.984781</td>\n",
       "      <td>War_for_the_Planet_of_the_Apes_(2017)</td>\n",
       "      <td>2017-01-01</td>\n",
       "    </tr>\n",
       "    <tr>\n",
       "      <th>94</th>\n",
       "      <td>80.009255</td>\n",
       "      <td>19.990745</td>\n",
       "      <td>72.528202</td>\n",
       "      <td>21.101526</td>\n",
       "      <td>18.695049</td>\n",
       "      <td>4.488663</td>\n",
       "      <td>2.591393</td>\n",
       "      <td>15.085609</td>\n",
       "      <td>3.146691</td>\n",
       "      <td>55.992596</td>\n",
       "      <td>10.749834</td>\n",
       "      <td>Bumblebee_(2018)</td>\n",
       "      <td>2018-01-01</td>\n",
       "    </tr>\n",
       "    <tr>\n",
       "      <th>95</th>\n",
       "      <td>91.747573</td>\n",
       "      <td>8.252427</td>\n",
       "      <td>91.101322</td>\n",
       "      <td>7.841410</td>\n",
       "      <td>12.378641</td>\n",
       "      <td>3.478964</td>\n",
       "      <td>4.692557</td>\n",
       "      <td>14.563107</td>\n",
       "      <td>3.074434</td>\n",
       "      <td>61.812298</td>\n",
       "      <td>2.995595</td>\n",
       "      <td>A_Quiet_Place_(2018)</td>\n",
       "      <td>2018-01-01</td>\n",
       "    </tr>\n",
       "    <tr>\n",
       "      <th>96</th>\n",
       "      <td>93.146853</td>\n",
       "      <td>6.853147</td>\n",
       "      <td>91.218638</td>\n",
       "      <td>5.824373</td>\n",
       "      <td>13.636364</td>\n",
       "      <td>1.958042</td>\n",
       "      <td>3.986014</td>\n",
       "      <td>18.881119</td>\n",
       "      <td>1.398601</td>\n",
       "      <td>60.139860</td>\n",
       "      <td>1.433692</td>\n",
       "      <td>Scary_Stories_to_Tell_in_the_Dark_(2019)</td>\n",
       "      <td>2019-01-01</td>\n",
       "    </tr>\n",
       "  </tbody>\n",
       "</table>\n",
       "<p>97 rows × 13 columns</p>\n",
       "</div>"
      ],
      "text/plain": [
       "    man_screentime  woman_screentime   only_men  only_women  asian_screentime  \\\n",
       "0        94.101509          5.898491  91.476710    5.946482          4.183813   \n",
       "1        93.626943          6.373057  90.096618    6.843800          3.056995   \n",
       "2        90.578735          9.421265  87.899942    8.260617          2.781516   \n",
       "3        82.366864         17.633136  79.891304   13.179348          1.775148   \n",
       "4        90.473888          9.526112  86.661912    5.991441          4.013540   \n",
       "..             ...               ...        ...         ...               ...   \n",
       "92       83.677686         16.322314  81.455399   18.075117         19.421488   \n",
       "93       96.786632          3.213368  95.523724    4.297225          6.041131   \n",
       "94       80.009255         19.990745  72.528202   21.101526         18.695049   \n",
       "95       91.747573          8.252427  91.101322    7.841410         12.378641   \n",
       "96       93.146853          6.853147  91.218638    5.824373         13.636364   \n",
       "\n",
       "    black_screentime  indian_screentime  latino_hispanic_screentime  \\\n",
       "0           0.411523           2.057613                    2.263374   \n",
       "1           1.036269           2.020725                    4.455959   \n",
       "2           2.198295           3.095559                    4.665769   \n",
       "3           2.366864           2.958580                    5.325444   \n",
       "4           0.918762           1.160542                    6.721470   \n",
       "..               ...                ...                         ...   \n",
       "92          5.922865           1.859504                    4.338843   \n",
       "93          8.226221           2.313625                    5.526992   \n",
       "94          4.488663           2.591393                   15.085609   \n",
       "95          3.478964           4.692557                   14.563107   \n",
       "96          1.958042           3.986014                   18.881119   \n",
       "\n",
       "    middle_eastern_screentime  white_screentime  women_of_color  \\\n",
       "0                    4.595336         86.488340        0.198216   \n",
       "1                    8.290155         81.139896        0.241546   \n",
       "2                    5.204127         82.054733        0.349040   \n",
       "3                    1.183432         86.390533        0.000000   \n",
       "4                    3.384913         83.800774        0.499287   \n",
       "..                        ...               ...             ...   \n",
       "92                   3.719008         64.738292        3.442879   \n",
       "93                  14.267352         63.624679        0.984781   \n",
       "94                   3.146691         55.992596       10.749834   \n",
       "95                   3.074434         61.812298        2.995595   \n",
       "96                   1.398601         60.139860        1.433692   \n",
       "\n",
       "                                       title       year  \n",
       "0         The_Hunchback_of_Notre_Dame_(1923) 1923-01-01  \n",
       "1                        Frankenstein_(1931) 1931-01-01  \n",
       "2             Dr._Jekyll_and_Mr._Hyde_(1931) 1931-01-01  \n",
       "3                        White_Zombie_(1932) 1932-01-01  \n",
       "4                        The_Wolf_Man_(1941) 1941-01-01  \n",
       "..                                       ...        ...  \n",
       "92                 Ghost_in_the_Shell_(2017) 2017-01-01  \n",
       "93     War_for_the_Planet_of_the_Apes_(2017) 2017-01-01  \n",
       "94                          Bumblebee_(2018) 2018-01-01  \n",
       "95                      A_Quiet_Place_(2018) 2018-01-01  \n",
       "96  Scary_Stories_to_Tell_in_the_Dark_(2019) 2019-01-01  \n",
       "\n",
       "[97 rows x 13 columns]"
      ]
     },
     "execution_count": 357,
     "metadata": {},
     "output_type": "execute_result"
    }
   ],
   "source": [
    "df_stats_total = pd.concat(df_stats_list, axis=0)\n",
    "df_stats_total.sort_values(\"year\", inplace=True)\n",
    "df_stats_total.reset_index(drop=True, inplace=True)\n",
    "df_stats_total"
   ]
  },
  {
   "cell_type": "markdown",
   "id": "d56ecb0b",
   "metadata": {},
   "source": [
    "## Visualize"
   ]
  },
  {
   "cell_type": "code",
   "execution_count": 388,
   "id": "6cfd4ac4",
   "metadata": {},
   "outputs": [
    {
     "data": {
      "text/plain": [
       "Index(['man_screentime', 'woman_screentime', 'only_men', 'only_women',\n",
       "       'asian_screentime', 'black_screentime', 'indian_screentime',\n",
       "       'latino_hispanic_screentime', 'middle_eastern_screentime',\n",
       "       'white_screentime', 'women_of_color', 'title', 'year'],\n",
       "      dtype='object')"
      ]
     },
     "execution_count": 388,
     "metadata": {},
     "output_type": "execute_result"
    }
   ],
   "source": [
    "one_movie = df_stats_total.dropna().iloc[0:1, ::]\n",
    "one_movie.columns"
   ]
  },
  {
   "cell_type": "code",
   "execution_count": 375,
   "id": "fce054dd",
   "metadata": {},
   "outputs": [],
   "source": [
    "one_movie_gender = one_movie[[\"man_screentime\", \"woman_screentime\"]]\n",
    "one_movie_gender = one_movie_gender.T"
   ]
  },
  {
   "cell_type": "code",
   "execution_count": 376,
   "id": "00a3dbb4",
   "metadata": {},
   "outputs": [
    {
     "data": {
      "text/html": [
       "<div>\n",
       "<style scoped>\n",
       "    .dataframe tbody tr th:only-of-type {\n",
       "        vertical-align: middle;\n",
       "    }\n",
       "\n",
       "    .dataframe tbody tr th {\n",
       "        vertical-align: top;\n",
       "    }\n",
       "\n",
       "    .dataframe thead th {\n",
       "        text-align: right;\n",
       "    }\n",
       "</style>\n",
       "<table border=\"1\" class=\"dataframe\">\n",
       "  <thead>\n",
       "    <tr style=\"text-align: right;\">\n",
       "      <th></th>\n",
       "      <th>0</th>\n",
       "    </tr>\n",
       "  </thead>\n",
       "  <tbody>\n",
       "    <tr>\n",
       "      <th>man_screentime</th>\n",
       "      <td>94.101509</td>\n",
       "    </tr>\n",
       "    <tr>\n",
       "      <th>woman_screentime</th>\n",
       "      <td>5.898491</td>\n",
       "    </tr>\n",
       "  </tbody>\n",
       "</table>\n",
       "</div>"
      ],
      "text/plain": [
       "                          0\n",
       "man_screentime    94.101509\n",
       "woman_screentime   5.898491"
      ]
     },
     "execution_count": 376,
     "metadata": {},
     "output_type": "execute_result"
    }
   ],
   "source": [
    "one_movie_gender"
   ]
  },
  {
   "cell_type": "code",
   "execution_count": 469,
   "id": "16dd833a",
   "metadata": {},
   "outputs": [],
   "source": [
    "def man_woman_screentime_bar(df):\n",
    "    \n",
    "    \"\"\"\n",
    "    Input: Original movie overview dataframe\n",
    "    \"\"\"\n",
    "    \n",
    "    one_movie_gender = df[[\"man_screentime\", \"woman_screentime\"]]\n",
    "    one_movie_gender = one_movie_gender.T\n",
    "\n",
    "    fig = px.bar(one_movie_gender,\n",
    "                 x=one_movie_gender.index,\n",
    "                 y=one_movie_gender[0],\n",
    "                 labels={\"index\":\"\", \"0\": \"Screentime [%]\"},\n",
    "                 color=one_movie_gender.index)\n",
    "    return fig"
   ]
  },
  {
   "cell_type": "code",
   "execution_count": 531,
   "id": "1cde5ecc",
   "metadata": {},
   "outputs": [],
   "source": [
    "import plotly.graph_objects as go\n",
    "\n",
    "def race_screentime_bar(df):\n",
    "    \n",
    "    \"\"\"\n",
    "    Input: Original movie overview dataframe\n",
    "    \"\"\"\n",
    "    \n",
    "    one_movie_race = df[['asian_screentime', 'black_screentime', 'indian_screentime',\n",
    "       'latino_hispanic_screentime', 'middle_eastern_screentime',\n",
    "       'white_screentime']]\n",
    "    \n",
    "    one_movie_race = one_movie_race.T\n",
    "    \n",
    "    fig = go.Figure()\n",
    "    fig.add_trace(go.Bar(x=one_movie_race.index,\n",
    "                 y=one_movie_race[0],\n",
    "                 marker=dict(color=one_movie_race[0])))\n",
    "        \n",
    "    fig.update_layout(legend_title_text = \"Race\")\n",
    "    fig.update_xaxes(title_text=\"\")\n",
    "    fig.update_yaxes(title_text=\"Screentime [%]\")\n",
    "    \n",
    "    fig.update_layout(\n",
    "    title_text=\"Screentime Percentage Distribution - Gender\")\n",
    "    \n",
    "    return fig"
   ]
  },
  {
   "cell_type": "code",
   "execution_count": 532,
   "id": "3eb1bf57",
   "metadata": {},
   "outputs": [],
   "source": [
    "def race_screentime_bar(df):\n",
    "    \n",
    "    \"\"\"\n",
    "    Input: Original movie overview dataframe\n",
    "    \"\"\"\n",
    "    \n",
    "    one_movie_race = df[['asian_screentime', 'black_screentime', 'indian_screentime',\n",
    "       'latino_hispanic_screentime', 'middle_eastern_screentime',\n",
    "       'white_screentime']]\n",
    "    \n",
    "    one_movie_race = one_movie_race.T\n",
    "\n",
    "    fig = px.bar(one_movie_race,\n",
    "                 x=one_movie_race.index,\n",
    "                 y=one_movie_race[0],\n",
    "                 labels={\"index\":\"\", \"0\": \"Screentime [%]\"},\n",
    "                 color=one_movie_race.index)\n",
    "    \n",
    "    fig.update_layout(\n",
    "    title_text=\"Screentime Percentage Distribution - Race\")\n",
    "    \n",
    "    return fig"
   ]
  },
  {
   "cell_type": "code",
   "execution_count": 533,
   "id": "198972a6",
   "metadata": {},
   "outputs": [
    {
     "data": {
      "application/vnd.plotly.v1+json": {
       "config": {
        "plotlyServerURL": "https://plot.ly"
       },
       "data": [
        {
         "alignmentgroup": "True",
         "hovertemplate": "=%{x}<br>Screentime [%]=%{y}<extra></extra>",
         "legendgroup": "asian_screentime",
         "marker": {
          "color": "#636efa",
          "pattern": {
           "shape": ""
          }
         },
         "name": "asian_screentime",
         "offsetgroup": "asian_screentime",
         "orientation": "v",
         "showlegend": true,
         "textposition": "auto",
         "type": "bar",
         "x": [
          "asian_screentime"
         ],
         "xaxis": "x",
         "y": [
          4.183813443072702
         ],
         "yaxis": "y"
        },
        {
         "alignmentgroup": "True",
         "hovertemplate": "=%{x}<br>Screentime [%]=%{y}<extra></extra>",
         "legendgroup": "black_screentime",
         "marker": {
          "color": "#EF553B",
          "pattern": {
           "shape": ""
          }
         },
         "name": "black_screentime",
         "offsetgroup": "black_screentime",
         "orientation": "v",
         "showlegend": true,
         "textposition": "auto",
         "type": "bar",
         "x": [
          "black_screentime"
         ],
         "xaxis": "x",
         "y": [
          0.411522633744856
         ],
         "yaxis": "y"
        },
        {
         "alignmentgroup": "True",
         "hovertemplate": "=%{x}<br>Screentime [%]=%{y}<extra></extra>",
         "legendgroup": "indian_screentime",
         "marker": {
          "color": "#00cc96",
          "pattern": {
           "shape": ""
          }
         },
         "name": "indian_screentime",
         "offsetgroup": "indian_screentime",
         "orientation": "v",
         "showlegend": true,
         "textposition": "auto",
         "type": "bar",
         "x": [
          "indian_screentime"
         ],
         "xaxis": "x",
         "y": [
          2.05761316872428
         ],
         "yaxis": "y"
        },
        {
         "alignmentgroup": "True",
         "hovertemplate": "=%{x}<br>Screentime [%]=%{y}<extra></extra>",
         "legendgroup": "latino_hispanic_screentime",
         "marker": {
          "color": "#ab63fa",
          "pattern": {
           "shape": ""
          }
         },
         "name": "latino_hispanic_screentime",
         "offsetgroup": "latino_hispanic_screentime",
         "orientation": "v",
         "showlegend": true,
         "textposition": "auto",
         "type": "bar",
         "x": [
          "latino_hispanic_screentime"
         ],
         "xaxis": "x",
         "y": [
          2.263374485596708
         ],
         "yaxis": "y"
        },
        {
         "alignmentgroup": "True",
         "hovertemplate": "=%{x}<br>Screentime [%]=%{y}<extra></extra>",
         "legendgroup": "middle_eastern_screentime",
         "marker": {
          "color": "#FFA15A",
          "pattern": {
           "shape": ""
          }
         },
         "name": "middle_eastern_screentime",
         "offsetgroup": "middle_eastern_screentime",
         "orientation": "v",
         "showlegend": true,
         "textposition": "auto",
         "type": "bar",
         "x": [
          "middle_eastern_screentime"
         ],
         "xaxis": "x",
         "y": [
          4.595336076817558
         ],
         "yaxis": "y"
        },
        {
         "alignmentgroup": "True",
         "hovertemplate": "=%{x}<br>Screentime [%]=%{y}<extra></extra>",
         "legendgroup": "white_screentime",
         "marker": {
          "color": "#19d3f3",
          "pattern": {
           "shape": ""
          }
         },
         "name": "white_screentime",
         "offsetgroup": "white_screentime",
         "orientation": "v",
         "showlegend": true,
         "textposition": "auto",
         "type": "bar",
         "x": [
          "white_screentime"
         ],
         "xaxis": "x",
         "y": [
          86.48834019204389
         ],
         "yaxis": "y"
        }
       ],
       "layout": {
        "barmode": "relative",
        "legend": {
         "title": {
          "text": ""
         },
         "tracegroupgap": 0
        },
        "margin": {
         "t": 60
        },
        "template": {
         "data": {
          "bar": [
           {
            "error_x": {
             "color": "#2a3f5f"
            },
            "error_y": {
             "color": "#2a3f5f"
            },
            "marker": {
             "line": {
              "color": "#E5ECF6",
              "width": 0.5
             },
             "pattern": {
              "fillmode": "overlay",
              "size": 10,
              "solidity": 0.2
             }
            },
            "type": "bar"
           }
          ],
          "barpolar": [
           {
            "marker": {
             "line": {
              "color": "#E5ECF6",
              "width": 0.5
             },
             "pattern": {
              "fillmode": "overlay",
              "size": 10,
              "solidity": 0.2
             }
            },
            "type": "barpolar"
           }
          ],
          "carpet": [
           {
            "aaxis": {
             "endlinecolor": "#2a3f5f",
             "gridcolor": "white",
             "linecolor": "white",
             "minorgridcolor": "white",
             "startlinecolor": "#2a3f5f"
            },
            "baxis": {
             "endlinecolor": "#2a3f5f",
             "gridcolor": "white",
             "linecolor": "white",
             "minorgridcolor": "white",
             "startlinecolor": "#2a3f5f"
            },
            "type": "carpet"
           }
          ],
          "choropleth": [
           {
            "colorbar": {
             "outlinewidth": 0,
             "ticks": ""
            },
            "type": "choropleth"
           }
          ],
          "contour": [
           {
            "colorbar": {
             "outlinewidth": 0,
             "ticks": ""
            },
            "colorscale": [
             [
              0,
              "#0d0887"
             ],
             [
              0.1111111111111111,
              "#46039f"
             ],
             [
              0.2222222222222222,
              "#7201a8"
             ],
             [
              0.3333333333333333,
              "#9c179e"
             ],
             [
              0.4444444444444444,
              "#bd3786"
             ],
             [
              0.5555555555555556,
              "#d8576b"
             ],
             [
              0.6666666666666666,
              "#ed7953"
             ],
             [
              0.7777777777777778,
              "#fb9f3a"
             ],
             [
              0.8888888888888888,
              "#fdca26"
             ],
             [
              1,
              "#f0f921"
             ]
            ],
            "type": "contour"
           }
          ],
          "contourcarpet": [
           {
            "colorbar": {
             "outlinewidth": 0,
             "ticks": ""
            },
            "type": "contourcarpet"
           }
          ],
          "heatmap": [
           {
            "colorbar": {
             "outlinewidth": 0,
             "ticks": ""
            },
            "colorscale": [
             [
              0,
              "#0d0887"
             ],
             [
              0.1111111111111111,
              "#46039f"
             ],
             [
              0.2222222222222222,
              "#7201a8"
             ],
             [
              0.3333333333333333,
              "#9c179e"
             ],
             [
              0.4444444444444444,
              "#bd3786"
             ],
             [
              0.5555555555555556,
              "#d8576b"
             ],
             [
              0.6666666666666666,
              "#ed7953"
             ],
             [
              0.7777777777777778,
              "#fb9f3a"
             ],
             [
              0.8888888888888888,
              "#fdca26"
             ],
             [
              1,
              "#f0f921"
             ]
            ],
            "type": "heatmap"
           }
          ],
          "heatmapgl": [
           {
            "colorbar": {
             "outlinewidth": 0,
             "ticks": ""
            },
            "colorscale": [
             [
              0,
              "#0d0887"
             ],
             [
              0.1111111111111111,
              "#46039f"
             ],
             [
              0.2222222222222222,
              "#7201a8"
             ],
             [
              0.3333333333333333,
              "#9c179e"
             ],
             [
              0.4444444444444444,
              "#bd3786"
             ],
             [
              0.5555555555555556,
              "#d8576b"
             ],
             [
              0.6666666666666666,
              "#ed7953"
             ],
             [
              0.7777777777777778,
              "#fb9f3a"
             ],
             [
              0.8888888888888888,
              "#fdca26"
             ],
             [
              1,
              "#f0f921"
             ]
            ],
            "type": "heatmapgl"
           }
          ],
          "histogram": [
           {
            "marker": {
             "pattern": {
              "fillmode": "overlay",
              "size": 10,
              "solidity": 0.2
             }
            },
            "type": "histogram"
           }
          ],
          "histogram2d": [
           {
            "colorbar": {
             "outlinewidth": 0,
             "ticks": ""
            },
            "colorscale": [
             [
              0,
              "#0d0887"
             ],
             [
              0.1111111111111111,
              "#46039f"
             ],
             [
              0.2222222222222222,
              "#7201a8"
             ],
             [
              0.3333333333333333,
              "#9c179e"
             ],
             [
              0.4444444444444444,
              "#bd3786"
             ],
             [
              0.5555555555555556,
              "#d8576b"
             ],
             [
              0.6666666666666666,
              "#ed7953"
             ],
             [
              0.7777777777777778,
              "#fb9f3a"
             ],
             [
              0.8888888888888888,
              "#fdca26"
             ],
             [
              1,
              "#f0f921"
             ]
            ],
            "type": "histogram2d"
           }
          ],
          "histogram2dcontour": [
           {
            "colorbar": {
             "outlinewidth": 0,
             "ticks": ""
            },
            "colorscale": [
             [
              0,
              "#0d0887"
             ],
             [
              0.1111111111111111,
              "#46039f"
             ],
             [
              0.2222222222222222,
              "#7201a8"
             ],
             [
              0.3333333333333333,
              "#9c179e"
             ],
             [
              0.4444444444444444,
              "#bd3786"
             ],
             [
              0.5555555555555556,
              "#d8576b"
             ],
             [
              0.6666666666666666,
              "#ed7953"
             ],
             [
              0.7777777777777778,
              "#fb9f3a"
             ],
             [
              0.8888888888888888,
              "#fdca26"
             ],
             [
              1,
              "#f0f921"
             ]
            ],
            "type": "histogram2dcontour"
           }
          ],
          "mesh3d": [
           {
            "colorbar": {
             "outlinewidth": 0,
             "ticks": ""
            },
            "type": "mesh3d"
           }
          ],
          "parcoords": [
           {
            "line": {
             "colorbar": {
              "outlinewidth": 0,
              "ticks": ""
             }
            },
            "type": "parcoords"
           }
          ],
          "pie": [
           {
            "automargin": true,
            "type": "pie"
           }
          ],
          "scatter": [
           {
            "marker": {
             "colorbar": {
              "outlinewidth": 0,
              "ticks": ""
             }
            },
            "type": "scatter"
           }
          ],
          "scatter3d": [
           {
            "line": {
             "colorbar": {
              "outlinewidth": 0,
              "ticks": ""
             }
            },
            "marker": {
             "colorbar": {
              "outlinewidth": 0,
              "ticks": ""
             }
            },
            "type": "scatter3d"
           }
          ],
          "scattercarpet": [
           {
            "marker": {
             "colorbar": {
              "outlinewidth": 0,
              "ticks": ""
             }
            },
            "type": "scattercarpet"
           }
          ],
          "scattergeo": [
           {
            "marker": {
             "colorbar": {
              "outlinewidth": 0,
              "ticks": ""
             }
            },
            "type": "scattergeo"
           }
          ],
          "scattergl": [
           {
            "marker": {
             "colorbar": {
              "outlinewidth": 0,
              "ticks": ""
             }
            },
            "type": "scattergl"
           }
          ],
          "scattermapbox": [
           {
            "marker": {
             "colorbar": {
              "outlinewidth": 0,
              "ticks": ""
             }
            },
            "type": "scattermapbox"
           }
          ],
          "scatterpolar": [
           {
            "marker": {
             "colorbar": {
              "outlinewidth": 0,
              "ticks": ""
             }
            },
            "type": "scatterpolar"
           }
          ],
          "scatterpolargl": [
           {
            "marker": {
             "colorbar": {
              "outlinewidth": 0,
              "ticks": ""
             }
            },
            "type": "scatterpolargl"
           }
          ],
          "scatterternary": [
           {
            "marker": {
             "colorbar": {
              "outlinewidth": 0,
              "ticks": ""
             }
            },
            "type": "scatterternary"
           }
          ],
          "surface": [
           {
            "colorbar": {
             "outlinewidth": 0,
             "ticks": ""
            },
            "colorscale": [
             [
              0,
              "#0d0887"
             ],
             [
              0.1111111111111111,
              "#46039f"
             ],
             [
              0.2222222222222222,
              "#7201a8"
             ],
             [
              0.3333333333333333,
              "#9c179e"
             ],
             [
              0.4444444444444444,
              "#bd3786"
             ],
             [
              0.5555555555555556,
              "#d8576b"
             ],
             [
              0.6666666666666666,
              "#ed7953"
             ],
             [
              0.7777777777777778,
              "#fb9f3a"
             ],
             [
              0.8888888888888888,
              "#fdca26"
             ],
             [
              1,
              "#f0f921"
             ]
            ],
            "type": "surface"
           }
          ],
          "table": [
           {
            "cells": {
             "fill": {
              "color": "#EBF0F8"
             },
             "line": {
              "color": "white"
             }
            },
            "header": {
             "fill": {
              "color": "#C8D4E3"
             },
             "line": {
              "color": "white"
             }
            },
            "type": "table"
           }
          ]
         },
         "layout": {
          "annotationdefaults": {
           "arrowcolor": "#2a3f5f",
           "arrowhead": 0,
           "arrowwidth": 1
          },
          "autotypenumbers": "strict",
          "coloraxis": {
           "colorbar": {
            "outlinewidth": 0,
            "ticks": ""
           }
          },
          "colorscale": {
           "diverging": [
            [
             0,
             "#8e0152"
            ],
            [
             0.1,
             "#c51b7d"
            ],
            [
             0.2,
             "#de77ae"
            ],
            [
             0.3,
             "#f1b6da"
            ],
            [
             0.4,
             "#fde0ef"
            ],
            [
             0.5,
             "#f7f7f7"
            ],
            [
             0.6,
             "#e6f5d0"
            ],
            [
             0.7,
             "#b8e186"
            ],
            [
             0.8,
             "#7fbc41"
            ],
            [
             0.9,
             "#4d9221"
            ],
            [
             1,
             "#276419"
            ]
           ],
           "sequential": [
            [
             0,
             "#0d0887"
            ],
            [
             0.1111111111111111,
             "#46039f"
            ],
            [
             0.2222222222222222,
             "#7201a8"
            ],
            [
             0.3333333333333333,
             "#9c179e"
            ],
            [
             0.4444444444444444,
             "#bd3786"
            ],
            [
             0.5555555555555556,
             "#d8576b"
            ],
            [
             0.6666666666666666,
             "#ed7953"
            ],
            [
             0.7777777777777778,
             "#fb9f3a"
            ],
            [
             0.8888888888888888,
             "#fdca26"
            ],
            [
             1,
             "#f0f921"
            ]
           ],
           "sequentialminus": [
            [
             0,
             "#0d0887"
            ],
            [
             0.1111111111111111,
             "#46039f"
            ],
            [
             0.2222222222222222,
             "#7201a8"
            ],
            [
             0.3333333333333333,
             "#9c179e"
            ],
            [
             0.4444444444444444,
             "#bd3786"
            ],
            [
             0.5555555555555556,
             "#d8576b"
            ],
            [
             0.6666666666666666,
             "#ed7953"
            ],
            [
             0.7777777777777778,
             "#fb9f3a"
            ],
            [
             0.8888888888888888,
             "#fdca26"
            ],
            [
             1,
             "#f0f921"
            ]
           ]
          },
          "colorway": [
           "#636efa",
           "#EF553B",
           "#00cc96",
           "#ab63fa",
           "#FFA15A",
           "#19d3f3",
           "#FF6692",
           "#B6E880",
           "#FF97FF",
           "#FECB52"
          ],
          "font": {
           "color": "#2a3f5f"
          },
          "geo": {
           "bgcolor": "white",
           "lakecolor": "white",
           "landcolor": "#E5ECF6",
           "showlakes": true,
           "showland": true,
           "subunitcolor": "white"
          },
          "hoverlabel": {
           "align": "left"
          },
          "hovermode": "closest",
          "mapbox": {
           "style": "light"
          },
          "paper_bgcolor": "white",
          "plot_bgcolor": "#E5ECF6",
          "polar": {
           "angularaxis": {
            "gridcolor": "white",
            "linecolor": "white",
            "ticks": ""
           },
           "bgcolor": "#E5ECF6",
           "radialaxis": {
            "gridcolor": "white",
            "linecolor": "white",
            "ticks": ""
           }
          },
          "scene": {
           "xaxis": {
            "backgroundcolor": "#E5ECF6",
            "gridcolor": "white",
            "gridwidth": 2,
            "linecolor": "white",
            "showbackground": true,
            "ticks": "",
            "zerolinecolor": "white"
           },
           "yaxis": {
            "backgroundcolor": "#E5ECF6",
            "gridcolor": "white",
            "gridwidth": 2,
            "linecolor": "white",
            "showbackground": true,
            "ticks": "",
            "zerolinecolor": "white"
           },
           "zaxis": {
            "backgroundcolor": "#E5ECF6",
            "gridcolor": "white",
            "gridwidth": 2,
            "linecolor": "white",
            "showbackground": true,
            "ticks": "",
            "zerolinecolor": "white"
           }
          },
          "shapedefaults": {
           "line": {
            "color": "#2a3f5f"
           }
          },
          "ternary": {
           "aaxis": {
            "gridcolor": "white",
            "linecolor": "white",
            "ticks": ""
           },
           "baxis": {
            "gridcolor": "white",
            "linecolor": "white",
            "ticks": ""
           },
           "bgcolor": "#E5ECF6",
           "caxis": {
            "gridcolor": "white",
            "linecolor": "white",
            "ticks": ""
           }
          },
          "title": {
           "x": 0.05
          },
          "xaxis": {
           "automargin": true,
           "gridcolor": "white",
           "linecolor": "white",
           "ticks": "",
           "title": {
            "standoff": 15
           },
           "zerolinecolor": "white",
           "zerolinewidth": 2
          },
          "yaxis": {
           "automargin": true,
           "gridcolor": "white",
           "linecolor": "white",
           "ticks": "",
           "title": {
            "standoff": 15
           },
           "zerolinecolor": "white",
           "zerolinewidth": 2
          }
         }
        },
        "title": {
         "text": "Screentime Percentage Distribution - Race"
        },
        "xaxis": {
         "anchor": "y",
         "categoryarray": [
          "asian_screentime",
          "black_screentime",
          "indian_screentime",
          "latino_hispanic_screentime",
          "middle_eastern_screentime",
          "white_screentime"
         ],
         "categoryorder": "array",
         "domain": [
          0,
          1
         ],
         "title": {
          "text": ""
         }
        },
        "yaxis": {
         "anchor": "x",
         "domain": [
          0,
          1
         ],
         "title": {
          "text": "Screentime [%]"
         }
        }
       }
      },
      "text/html": [
       "<div>                            <div id=\"f4bb17ae-f514-42e7-b2e0-6123929b1334\" class=\"plotly-graph-div\" style=\"height:525px; width:100%;\"></div>            <script type=\"text/javascript\">                require([\"plotly\"], function(Plotly) {                    window.PLOTLYENV=window.PLOTLYENV || {};                                    if (document.getElementById(\"f4bb17ae-f514-42e7-b2e0-6123929b1334\")) {                    Plotly.newPlot(                        \"f4bb17ae-f514-42e7-b2e0-6123929b1334\",                        [{\"alignmentgroup\":\"True\",\"hovertemplate\":\"=%{x}<br>Screentime [%]=%{y}<extra></extra>\",\"legendgroup\":\"asian_screentime\",\"marker\":{\"color\":\"#636efa\",\"pattern\":{\"shape\":\"\"}},\"name\":\"asian_screentime\",\"offsetgroup\":\"asian_screentime\",\"orientation\":\"v\",\"showlegend\":true,\"textposition\":\"auto\",\"type\":\"bar\",\"x\":[\"asian_screentime\"],\"xaxis\":\"x\",\"y\":[4.183813443072702],\"yaxis\":\"y\"},{\"alignmentgroup\":\"True\",\"hovertemplate\":\"=%{x}<br>Screentime [%]=%{y}<extra></extra>\",\"legendgroup\":\"black_screentime\",\"marker\":{\"color\":\"#EF553B\",\"pattern\":{\"shape\":\"\"}},\"name\":\"black_screentime\",\"offsetgroup\":\"black_screentime\",\"orientation\":\"v\",\"showlegend\":true,\"textposition\":\"auto\",\"type\":\"bar\",\"x\":[\"black_screentime\"],\"xaxis\":\"x\",\"y\":[0.411522633744856],\"yaxis\":\"y\"},{\"alignmentgroup\":\"True\",\"hovertemplate\":\"=%{x}<br>Screentime [%]=%{y}<extra></extra>\",\"legendgroup\":\"indian_screentime\",\"marker\":{\"color\":\"#00cc96\",\"pattern\":{\"shape\":\"\"}},\"name\":\"indian_screentime\",\"offsetgroup\":\"indian_screentime\",\"orientation\":\"v\",\"showlegend\":true,\"textposition\":\"auto\",\"type\":\"bar\",\"x\":[\"indian_screentime\"],\"xaxis\":\"x\",\"y\":[2.05761316872428],\"yaxis\":\"y\"},{\"alignmentgroup\":\"True\",\"hovertemplate\":\"=%{x}<br>Screentime [%]=%{y}<extra></extra>\",\"legendgroup\":\"latino_hispanic_screentime\",\"marker\":{\"color\":\"#ab63fa\",\"pattern\":{\"shape\":\"\"}},\"name\":\"latino_hispanic_screentime\",\"offsetgroup\":\"latino_hispanic_screentime\",\"orientation\":\"v\",\"showlegend\":true,\"textposition\":\"auto\",\"type\":\"bar\",\"x\":[\"latino_hispanic_screentime\"],\"xaxis\":\"x\",\"y\":[2.263374485596708],\"yaxis\":\"y\"},{\"alignmentgroup\":\"True\",\"hovertemplate\":\"=%{x}<br>Screentime [%]=%{y}<extra></extra>\",\"legendgroup\":\"middle_eastern_screentime\",\"marker\":{\"color\":\"#FFA15A\",\"pattern\":{\"shape\":\"\"}},\"name\":\"middle_eastern_screentime\",\"offsetgroup\":\"middle_eastern_screentime\",\"orientation\":\"v\",\"showlegend\":true,\"textposition\":\"auto\",\"type\":\"bar\",\"x\":[\"middle_eastern_screentime\"],\"xaxis\":\"x\",\"y\":[4.595336076817558],\"yaxis\":\"y\"},{\"alignmentgroup\":\"True\",\"hovertemplate\":\"=%{x}<br>Screentime [%]=%{y}<extra></extra>\",\"legendgroup\":\"white_screentime\",\"marker\":{\"color\":\"#19d3f3\",\"pattern\":{\"shape\":\"\"}},\"name\":\"white_screentime\",\"offsetgroup\":\"white_screentime\",\"orientation\":\"v\",\"showlegend\":true,\"textposition\":\"auto\",\"type\":\"bar\",\"x\":[\"white_screentime\"],\"xaxis\":\"x\",\"y\":[86.48834019204389],\"yaxis\":\"y\"}],                        {\"barmode\":\"relative\",\"legend\":{\"title\":{\"text\":\"\"},\"tracegroupgap\":0},\"margin\":{\"t\":60},\"template\":{\"data\":{\"bar\":[{\"error_x\":{\"color\":\"#2a3f5f\"},\"error_y\":{\"color\":\"#2a3f5f\"},\"marker\":{\"line\":{\"color\":\"#E5ECF6\",\"width\":0.5},\"pattern\":{\"fillmode\":\"overlay\",\"size\":10,\"solidity\":0.2}},\"type\":\"bar\"}],\"barpolar\":[{\"marker\":{\"line\":{\"color\":\"#E5ECF6\",\"width\":0.5},\"pattern\":{\"fillmode\":\"overlay\",\"size\":10,\"solidity\":0.2}},\"type\":\"barpolar\"}],\"carpet\":[{\"aaxis\":{\"endlinecolor\":\"#2a3f5f\",\"gridcolor\":\"white\",\"linecolor\":\"white\",\"minorgridcolor\":\"white\",\"startlinecolor\":\"#2a3f5f\"},\"baxis\":{\"endlinecolor\":\"#2a3f5f\",\"gridcolor\":\"white\",\"linecolor\":\"white\",\"minorgridcolor\":\"white\",\"startlinecolor\":\"#2a3f5f\"},\"type\":\"carpet\"}],\"choropleth\":[{\"colorbar\":{\"outlinewidth\":0,\"ticks\":\"\"},\"type\":\"choropleth\"}],\"contour\":[{\"colorbar\":{\"outlinewidth\":0,\"ticks\":\"\"},\"colorscale\":[[0.0,\"#0d0887\"],[0.1111111111111111,\"#46039f\"],[0.2222222222222222,\"#7201a8\"],[0.3333333333333333,\"#9c179e\"],[0.4444444444444444,\"#bd3786\"],[0.5555555555555556,\"#d8576b\"],[0.6666666666666666,\"#ed7953\"],[0.7777777777777778,\"#fb9f3a\"],[0.8888888888888888,\"#fdca26\"],[1.0,\"#f0f921\"]],\"type\":\"contour\"}],\"contourcarpet\":[{\"colorbar\":{\"outlinewidth\":0,\"ticks\":\"\"},\"type\":\"contourcarpet\"}],\"heatmap\":[{\"colorbar\":{\"outlinewidth\":0,\"ticks\":\"\"},\"colorscale\":[[0.0,\"#0d0887\"],[0.1111111111111111,\"#46039f\"],[0.2222222222222222,\"#7201a8\"],[0.3333333333333333,\"#9c179e\"],[0.4444444444444444,\"#bd3786\"],[0.5555555555555556,\"#d8576b\"],[0.6666666666666666,\"#ed7953\"],[0.7777777777777778,\"#fb9f3a\"],[0.8888888888888888,\"#fdca26\"],[1.0,\"#f0f921\"]],\"type\":\"heatmap\"}],\"heatmapgl\":[{\"colorbar\":{\"outlinewidth\":0,\"ticks\":\"\"},\"colorscale\":[[0.0,\"#0d0887\"],[0.1111111111111111,\"#46039f\"],[0.2222222222222222,\"#7201a8\"],[0.3333333333333333,\"#9c179e\"],[0.4444444444444444,\"#bd3786\"],[0.5555555555555556,\"#d8576b\"],[0.6666666666666666,\"#ed7953\"],[0.7777777777777778,\"#fb9f3a\"],[0.8888888888888888,\"#fdca26\"],[1.0,\"#f0f921\"]],\"type\":\"heatmapgl\"}],\"histogram\":[{\"marker\":{\"pattern\":{\"fillmode\":\"overlay\",\"size\":10,\"solidity\":0.2}},\"type\":\"histogram\"}],\"histogram2d\":[{\"colorbar\":{\"outlinewidth\":0,\"ticks\":\"\"},\"colorscale\":[[0.0,\"#0d0887\"],[0.1111111111111111,\"#46039f\"],[0.2222222222222222,\"#7201a8\"],[0.3333333333333333,\"#9c179e\"],[0.4444444444444444,\"#bd3786\"],[0.5555555555555556,\"#d8576b\"],[0.6666666666666666,\"#ed7953\"],[0.7777777777777778,\"#fb9f3a\"],[0.8888888888888888,\"#fdca26\"],[1.0,\"#f0f921\"]],\"type\":\"histogram2d\"}],\"histogram2dcontour\":[{\"colorbar\":{\"outlinewidth\":0,\"ticks\":\"\"},\"colorscale\":[[0.0,\"#0d0887\"],[0.1111111111111111,\"#46039f\"],[0.2222222222222222,\"#7201a8\"],[0.3333333333333333,\"#9c179e\"],[0.4444444444444444,\"#bd3786\"],[0.5555555555555556,\"#d8576b\"],[0.6666666666666666,\"#ed7953\"],[0.7777777777777778,\"#fb9f3a\"],[0.8888888888888888,\"#fdca26\"],[1.0,\"#f0f921\"]],\"type\":\"histogram2dcontour\"}],\"mesh3d\":[{\"colorbar\":{\"outlinewidth\":0,\"ticks\":\"\"},\"type\":\"mesh3d\"}],\"parcoords\":[{\"line\":{\"colorbar\":{\"outlinewidth\":0,\"ticks\":\"\"}},\"type\":\"parcoords\"}],\"pie\":[{\"automargin\":true,\"type\":\"pie\"}],\"scatter\":[{\"marker\":{\"colorbar\":{\"outlinewidth\":0,\"ticks\":\"\"}},\"type\":\"scatter\"}],\"scatter3d\":[{\"line\":{\"colorbar\":{\"outlinewidth\":0,\"ticks\":\"\"}},\"marker\":{\"colorbar\":{\"outlinewidth\":0,\"ticks\":\"\"}},\"type\":\"scatter3d\"}],\"scattercarpet\":[{\"marker\":{\"colorbar\":{\"outlinewidth\":0,\"ticks\":\"\"}},\"type\":\"scattercarpet\"}],\"scattergeo\":[{\"marker\":{\"colorbar\":{\"outlinewidth\":0,\"ticks\":\"\"}},\"type\":\"scattergeo\"}],\"scattergl\":[{\"marker\":{\"colorbar\":{\"outlinewidth\":0,\"ticks\":\"\"}},\"type\":\"scattergl\"}],\"scattermapbox\":[{\"marker\":{\"colorbar\":{\"outlinewidth\":0,\"ticks\":\"\"}},\"type\":\"scattermapbox\"}],\"scatterpolar\":[{\"marker\":{\"colorbar\":{\"outlinewidth\":0,\"ticks\":\"\"}},\"type\":\"scatterpolar\"}],\"scatterpolargl\":[{\"marker\":{\"colorbar\":{\"outlinewidth\":0,\"ticks\":\"\"}},\"type\":\"scatterpolargl\"}],\"scatterternary\":[{\"marker\":{\"colorbar\":{\"outlinewidth\":0,\"ticks\":\"\"}},\"type\":\"scatterternary\"}],\"surface\":[{\"colorbar\":{\"outlinewidth\":0,\"ticks\":\"\"},\"colorscale\":[[0.0,\"#0d0887\"],[0.1111111111111111,\"#46039f\"],[0.2222222222222222,\"#7201a8\"],[0.3333333333333333,\"#9c179e\"],[0.4444444444444444,\"#bd3786\"],[0.5555555555555556,\"#d8576b\"],[0.6666666666666666,\"#ed7953\"],[0.7777777777777778,\"#fb9f3a\"],[0.8888888888888888,\"#fdca26\"],[1.0,\"#f0f921\"]],\"type\":\"surface\"}],\"table\":[{\"cells\":{\"fill\":{\"color\":\"#EBF0F8\"},\"line\":{\"color\":\"white\"}},\"header\":{\"fill\":{\"color\":\"#C8D4E3\"},\"line\":{\"color\":\"white\"}},\"type\":\"table\"}]},\"layout\":{\"annotationdefaults\":{\"arrowcolor\":\"#2a3f5f\",\"arrowhead\":0,\"arrowwidth\":1},\"autotypenumbers\":\"strict\",\"coloraxis\":{\"colorbar\":{\"outlinewidth\":0,\"ticks\":\"\"}},\"colorscale\":{\"diverging\":[[0,\"#8e0152\"],[0.1,\"#c51b7d\"],[0.2,\"#de77ae\"],[0.3,\"#f1b6da\"],[0.4,\"#fde0ef\"],[0.5,\"#f7f7f7\"],[0.6,\"#e6f5d0\"],[0.7,\"#b8e186\"],[0.8,\"#7fbc41\"],[0.9,\"#4d9221\"],[1,\"#276419\"]],\"sequential\":[[0.0,\"#0d0887\"],[0.1111111111111111,\"#46039f\"],[0.2222222222222222,\"#7201a8\"],[0.3333333333333333,\"#9c179e\"],[0.4444444444444444,\"#bd3786\"],[0.5555555555555556,\"#d8576b\"],[0.6666666666666666,\"#ed7953\"],[0.7777777777777778,\"#fb9f3a\"],[0.8888888888888888,\"#fdca26\"],[1.0,\"#f0f921\"]],\"sequentialminus\":[[0.0,\"#0d0887\"],[0.1111111111111111,\"#46039f\"],[0.2222222222222222,\"#7201a8\"],[0.3333333333333333,\"#9c179e\"],[0.4444444444444444,\"#bd3786\"],[0.5555555555555556,\"#d8576b\"],[0.6666666666666666,\"#ed7953\"],[0.7777777777777778,\"#fb9f3a\"],[0.8888888888888888,\"#fdca26\"],[1.0,\"#f0f921\"]]},\"colorway\":[\"#636efa\",\"#EF553B\",\"#00cc96\",\"#ab63fa\",\"#FFA15A\",\"#19d3f3\",\"#FF6692\",\"#B6E880\",\"#FF97FF\",\"#FECB52\"],\"font\":{\"color\":\"#2a3f5f\"},\"geo\":{\"bgcolor\":\"white\",\"lakecolor\":\"white\",\"landcolor\":\"#E5ECF6\",\"showlakes\":true,\"showland\":true,\"subunitcolor\":\"white\"},\"hoverlabel\":{\"align\":\"left\"},\"hovermode\":\"closest\",\"mapbox\":{\"style\":\"light\"},\"paper_bgcolor\":\"white\",\"plot_bgcolor\":\"#E5ECF6\",\"polar\":{\"angularaxis\":{\"gridcolor\":\"white\",\"linecolor\":\"white\",\"ticks\":\"\"},\"bgcolor\":\"#E5ECF6\",\"radialaxis\":{\"gridcolor\":\"white\",\"linecolor\":\"white\",\"ticks\":\"\"}},\"scene\":{\"xaxis\":{\"backgroundcolor\":\"#E5ECF6\",\"gridcolor\":\"white\",\"gridwidth\":2,\"linecolor\":\"white\",\"showbackground\":true,\"ticks\":\"\",\"zerolinecolor\":\"white\"},\"yaxis\":{\"backgroundcolor\":\"#E5ECF6\",\"gridcolor\":\"white\",\"gridwidth\":2,\"linecolor\":\"white\",\"showbackground\":true,\"ticks\":\"\",\"zerolinecolor\":\"white\"},\"zaxis\":{\"backgroundcolor\":\"#E5ECF6\",\"gridcolor\":\"white\",\"gridwidth\":2,\"linecolor\":\"white\",\"showbackground\":true,\"ticks\":\"\",\"zerolinecolor\":\"white\"}},\"shapedefaults\":{\"line\":{\"color\":\"#2a3f5f\"}},\"ternary\":{\"aaxis\":{\"gridcolor\":\"white\",\"linecolor\":\"white\",\"ticks\":\"\"},\"baxis\":{\"gridcolor\":\"white\",\"linecolor\":\"white\",\"ticks\":\"\"},\"bgcolor\":\"#E5ECF6\",\"caxis\":{\"gridcolor\":\"white\",\"linecolor\":\"white\",\"ticks\":\"\"}},\"title\":{\"x\":0.05},\"xaxis\":{\"automargin\":true,\"gridcolor\":\"white\",\"linecolor\":\"white\",\"ticks\":\"\",\"title\":{\"standoff\":15},\"zerolinecolor\":\"white\",\"zerolinewidth\":2},\"yaxis\":{\"automargin\":true,\"gridcolor\":\"white\",\"linecolor\":\"white\",\"ticks\":\"\",\"title\":{\"standoff\":15},\"zerolinecolor\":\"white\",\"zerolinewidth\":2}}},\"title\":{\"text\":\"Screentime Percentage Distribution - Race\"},\"xaxis\":{\"anchor\":\"y\",\"categoryarray\":[\"asian_screentime\",\"black_screentime\",\"indian_screentime\",\"latino_hispanic_screentime\",\"middle_eastern_screentime\",\"white_screentime\"],\"categoryorder\":\"array\",\"domain\":[0.0,1.0],\"title\":{\"text\":\"\"}},\"yaxis\":{\"anchor\":\"x\",\"domain\":[0.0,1.0],\"title\":{\"text\":\"Screentime [%]\"}}},                        {\"responsive\": true}                    ).then(function(){\n",
       "                            \n",
       "var gd = document.getElementById('f4bb17ae-f514-42e7-b2e0-6123929b1334');\n",
       "var x = new MutationObserver(function (mutations, observer) {{\n",
       "        var display = window.getComputedStyle(gd).display;\n",
       "        if (!display || display === 'none') {{\n",
       "            console.log([gd, 'removed!']);\n",
       "            Plotly.purge(gd);\n",
       "            observer.disconnect();\n",
       "        }}\n",
       "}});\n",
       "\n",
       "// Listen for the removal of the full notebook cells\n",
       "var notebookContainer = gd.closest('#notebook-container');\n",
       "if (notebookContainer) {{\n",
       "    x.observe(notebookContainer, {childList: true});\n",
       "}}\n",
       "\n",
       "// Listen for the clearing of the current output cell\n",
       "var outputEl = gd.closest('.output');\n",
       "if (outputEl) {{\n",
       "    x.observe(outputEl, {childList: true});\n",
       "}}\n",
       "\n",
       "                        })                };                });            </script>        </div>"
      ]
     },
     "metadata": {},
     "output_type": "display_data"
    }
   ],
   "source": [
    "race_screentime_bar(one_movie)"
   ]
  },
  {
   "cell_type": "markdown",
   "id": "15aa382c",
   "metadata": {},
   "source": [
    "## Distribution over run time"
   ]
  },
  {
   "cell_type": "code",
   "execution_count": 395,
   "id": "50c6c578",
   "metadata": {},
   "outputs": [],
   "source": [
    "def gcp_file_names(bucket_name, subfolders):\n",
    "\n",
    "    \"\"\"\n",
    "    Function ro grab file names from a GCP bucket directory\n",
    "\n",
    "    Parameters:\n",
    "\n",
    "    bucket_name: Name of GCP bucket\n",
    "    subfolders: complete subfolder path as a string where file names should\n",
    "                be retrieved from in the format folder_1/folder_2/.../folder_n\n",
    "\n",
    "    \"\"\"\n",
    "\n",
    "    client = storage.Client()\n",
    "    file_names = [str(x).split(f\"{subfolders}/\")[1].\\\n",
    "        split(\".csv\")[0].\\\n",
    "            strip() + \".csv\" for x in \\\n",
    "                client.list_blobs(bucket_name, prefix=subfolders)]\n",
    "\n",
    "    return file_names"
   ]
  },
  {
   "cell_type": "code",
   "execution_count": 407,
   "id": "a5a5c93b",
   "metadata": {},
   "outputs": [
    {
     "data": {
      "text/plain": [
       "'Diary of a Wimpy Kid: Dog Days (2012).csv'"
      ]
     },
     "execution_count": 407,
     "metadata": {},
     "output_type": "execute_result"
    }
   ],
   "source": [
    "file_names = gcp_file_names(BUCKET_NAME, \"output\")\n",
    "file_names.remove(\"summary.csv\")\n",
    "\n",
    "\n",
    "file = file_names[30]\n",
    "file"
   ]
  },
  {
   "cell_type": "code",
   "execution_count": 400,
   "id": "bfe1e593",
   "metadata": {},
   "outputs": [],
   "source": [
    "df = pd.read_csv(\n",
    "    f\"gs://{BUCKET_NAME}/output/{file}\", index_col=None,)"
   ]
  },
  {
   "cell_type": "code",
   "execution_count": 401,
   "id": "5a182708",
   "metadata": {},
   "outputs": [
    {
     "data": {
      "text/html": [
       "<div>\n",
       "<style scoped>\n",
       "    .dataframe tbody tr th:only-of-type {\n",
       "        vertical-align: middle;\n",
       "    }\n",
       "\n",
       "    .dataframe tbody tr th {\n",
       "        vertical-align: top;\n",
       "    }\n",
       "\n",
       "    .dataframe thead th {\n",
       "        text-align: right;\n",
       "    }\n",
       "</style>\n",
       "<table border=\"1\" class=\"dataframe\">\n",
       "  <thead>\n",
       "    <tr style=\"text-align: right;\">\n",
       "      <th></th>\n",
       "      <th>Unnamed: 0</th>\n",
       "      <th>frame_number</th>\n",
       "      <th>face_id</th>\n",
       "      <th>gender</th>\n",
       "      <th>race</th>\n",
       "    </tr>\n",
       "  </thead>\n",
       "  <tbody>\n",
       "    <tr>\n",
       "      <th>0</th>\n",
       "      <td>0</td>\n",
       "      <td>13</td>\n",
       "      <td>0.0</td>\n",
       "      <td>Man</td>\n",
       "      <td>white</td>\n",
       "    </tr>\n",
       "    <tr>\n",
       "      <th>1</th>\n",
       "      <td>1</td>\n",
       "      <td>13</td>\n",
       "      <td>1.0</td>\n",
       "      <td>Man</td>\n",
       "      <td>white</td>\n",
       "    </tr>\n",
       "    <tr>\n",
       "      <th>2</th>\n",
       "      <td>2</td>\n",
       "      <td>13</td>\n",
       "      <td>2.0</td>\n",
       "      <td>Man</td>\n",
       "      <td>white</td>\n",
       "    </tr>\n",
       "    <tr>\n",
       "      <th>3</th>\n",
       "      <td>3</td>\n",
       "      <td>13</td>\n",
       "      <td>3.0</td>\n",
       "      <td>Man</td>\n",
       "      <td>white</td>\n",
       "    </tr>\n",
       "    <tr>\n",
       "      <th>4</th>\n",
       "      <td>4</td>\n",
       "      <td>13</td>\n",
       "      <td>4.0</td>\n",
       "      <td>Man</td>\n",
       "      <td>white</td>\n",
       "    </tr>\n",
       "    <tr>\n",
       "      <th>...</th>\n",
       "      <td>...</td>\n",
       "      <td>...</td>\n",
       "      <td>...</td>\n",
       "      <td>...</td>\n",
       "      <td>...</td>\n",
       "    </tr>\n",
       "    <tr>\n",
       "      <th>5498</th>\n",
       "      <td>5</td>\n",
       "      <td>10486</td>\n",
       "      <td>5498.0</td>\n",
       "      <td>Man</td>\n",
       "      <td>white</td>\n",
       "    </tr>\n",
       "    <tr>\n",
       "      <th>5499</th>\n",
       "      <td>0</td>\n",
       "      <td>10489</td>\n",
       "      <td>5499.0</td>\n",
       "      <td>Man</td>\n",
       "      <td>white</td>\n",
       "    </tr>\n",
       "    <tr>\n",
       "      <th>5500</th>\n",
       "      <td>0</td>\n",
       "      <td>10492</td>\n",
       "      <td>5500.0</td>\n",
       "      <td>Man</td>\n",
       "      <td>latino hispanic</td>\n",
       "    </tr>\n",
       "    <tr>\n",
       "      <th>5501</th>\n",
       "      <td>0</td>\n",
       "      <td>10507</td>\n",
       "      <td>5501.0</td>\n",
       "      <td>Man</td>\n",
       "      <td>white</td>\n",
       "    </tr>\n",
       "    <tr>\n",
       "      <th>5502</th>\n",
       "      <td>0</td>\n",
       "      <td>10510</td>\n",
       "      <td>5502.0</td>\n",
       "      <td>Man</td>\n",
       "      <td>white</td>\n",
       "    </tr>\n",
       "  </tbody>\n",
       "</table>\n",
       "<p>5503 rows × 5 columns</p>\n",
       "</div>"
      ],
      "text/plain": [
       "      Unnamed: 0  frame_number  face_id gender             race\n",
       "0              0            13      0.0    Man            white\n",
       "1              1            13      1.0    Man            white\n",
       "2              2            13      2.0    Man            white\n",
       "3              3            13      3.0    Man            white\n",
       "4              4            13      4.0    Man            white\n",
       "...          ...           ...      ...    ...              ...\n",
       "5498           5         10486   5498.0    Man            white\n",
       "5499           0         10489   5499.0    Man            white\n",
       "5500           0         10492   5500.0    Man  latino hispanic\n",
       "5501           0         10507   5501.0    Man            white\n",
       "5502           0         10510   5502.0    Man            white\n",
       "\n",
       "[5503 rows x 5 columns]"
      ]
     },
     "execution_count": 401,
     "metadata": {},
     "output_type": "execute_result"
    }
   ],
   "source": [
    "df"
   ]
  },
  {
   "cell_type": "code",
   "execution_count": 402,
   "id": "1ff6bf89",
   "metadata": {},
   "outputs": [],
   "source": [
    "# add seconds column -> 1 frame = 0.5 seconds\n",
    "df[\"seconds\"] = df[\"frame_number\"] / 2"
   ]
  },
  {
   "cell_type": "code",
   "execution_count": 415,
   "id": "5d8acc2e",
   "metadata": {},
   "outputs": [],
   "source": [
    "# add minutes\n",
    "df[\"minutes\"] = round((df[\"seconds\"] / 60), 4)"
   ]
  },
  {
   "cell_type": "code",
   "execution_count": 416,
   "id": "21972368",
   "metadata": {},
   "outputs": [
    {
     "data": {
      "text/html": [
       "<div>\n",
       "<style scoped>\n",
       "    .dataframe tbody tr th:only-of-type {\n",
       "        vertical-align: middle;\n",
       "    }\n",
       "\n",
       "    .dataframe tbody tr th {\n",
       "        vertical-align: top;\n",
       "    }\n",
       "\n",
       "    .dataframe thead th {\n",
       "        text-align: right;\n",
       "    }\n",
       "</style>\n",
       "<table border=\"1\" class=\"dataframe\">\n",
       "  <thead>\n",
       "    <tr style=\"text-align: right;\">\n",
       "      <th></th>\n",
       "      <th>Unnamed: 0</th>\n",
       "      <th>frame_number</th>\n",
       "      <th>face_id</th>\n",
       "      <th>gender</th>\n",
       "      <th>race</th>\n",
       "      <th>seconds</th>\n",
       "      <th>minutes</th>\n",
       "    </tr>\n",
       "  </thead>\n",
       "  <tbody>\n",
       "    <tr>\n",
       "      <th>0</th>\n",
       "      <td>0</td>\n",
       "      <td>13</td>\n",
       "      <td>0.0</td>\n",
       "      <td>Man</td>\n",
       "      <td>white</td>\n",
       "      <td>6.5</td>\n",
       "      <td>0.1083</td>\n",
       "    </tr>\n",
       "    <tr>\n",
       "      <th>1</th>\n",
       "      <td>1</td>\n",
       "      <td>13</td>\n",
       "      <td>1.0</td>\n",
       "      <td>Man</td>\n",
       "      <td>white</td>\n",
       "      <td>6.5</td>\n",
       "      <td>0.1083</td>\n",
       "    </tr>\n",
       "    <tr>\n",
       "      <th>2</th>\n",
       "      <td>2</td>\n",
       "      <td>13</td>\n",
       "      <td>2.0</td>\n",
       "      <td>Man</td>\n",
       "      <td>white</td>\n",
       "      <td>6.5</td>\n",
       "      <td>0.1083</td>\n",
       "    </tr>\n",
       "    <tr>\n",
       "      <th>3</th>\n",
       "      <td>3</td>\n",
       "      <td>13</td>\n",
       "      <td>3.0</td>\n",
       "      <td>Man</td>\n",
       "      <td>white</td>\n",
       "      <td>6.5</td>\n",
       "      <td>0.1083</td>\n",
       "    </tr>\n",
       "    <tr>\n",
       "      <th>4</th>\n",
       "      <td>4</td>\n",
       "      <td>13</td>\n",
       "      <td>4.0</td>\n",
       "      <td>Man</td>\n",
       "      <td>white</td>\n",
       "      <td>6.5</td>\n",
       "      <td>0.1083</td>\n",
       "    </tr>\n",
       "    <tr>\n",
       "      <th>...</th>\n",
       "      <td>...</td>\n",
       "      <td>...</td>\n",
       "      <td>...</td>\n",
       "      <td>...</td>\n",
       "      <td>...</td>\n",
       "      <td>...</td>\n",
       "      <td>...</td>\n",
       "    </tr>\n",
       "    <tr>\n",
       "      <th>5498</th>\n",
       "      <td>5</td>\n",
       "      <td>10486</td>\n",
       "      <td>5498.0</td>\n",
       "      <td>Man</td>\n",
       "      <td>white</td>\n",
       "      <td>5243.0</td>\n",
       "      <td>87.3833</td>\n",
       "    </tr>\n",
       "    <tr>\n",
       "      <th>5499</th>\n",
       "      <td>0</td>\n",
       "      <td>10489</td>\n",
       "      <td>5499.0</td>\n",
       "      <td>Man</td>\n",
       "      <td>white</td>\n",
       "      <td>5244.5</td>\n",
       "      <td>87.4083</td>\n",
       "    </tr>\n",
       "    <tr>\n",
       "      <th>5500</th>\n",
       "      <td>0</td>\n",
       "      <td>10492</td>\n",
       "      <td>5500.0</td>\n",
       "      <td>Man</td>\n",
       "      <td>latino hispanic</td>\n",
       "      <td>5246.0</td>\n",
       "      <td>87.4333</td>\n",
       "    </tr>\n",
       "    <tr>\n",
       "      <th>5501</th>\n",
       "      <td>0</td>\n",
       "      <td>10507</td>\n",
       "      <td>5501.0</td>\n",
       "      <td>Man</td>\n",
       "      <td>white</td>\n",
       "      <td>5253.5</td>\n",
       "      <td>87.5583</td>\n",
       "    </tr>\n",
       "    <tr>\n",
       "      <th>5502</th>\n",
       "      <td>0</td>\n",
       "      <td>10510</td>\n",
       "      <td>5502.0</td>\n",
       "      <td>Man</td>\n",
       "      <td>white</td>\n",
       "      <td>5255.0</td>\n",
       "      <td>87.5833</td>\n",
       "    </tr>\n",
       "  </tbody>\n",
       "</table>\n",
       "<p>5503 rows × 7 columns</p>\n",
       "</div>"
      ],
      "text/plain": [
       "      Unnamed: 0  frame_number  face_id gender             race  seconds  \\\n",
       "0              0            13      0.0    Man            white      6.5   \n",
       "1              1            13      1.0    Man            white      6.5   \n",
       "2              2            13      2.0    Man            white      6.5   \n",
       "3              3            13      3.0    Man            white      6.5   \n",
       "4              4            13      4.0    Man            white      6.5   \n",
       "...          ...           ...      ...    ...              ...      ...   \n",
       "5498           5         10486   5498.0    Man            white   5243.0   \n",
       "5499           0         10489   5499.0    Man            white   5244.5   \n",
       "5500           0         10492   5500.0    Man  latino hispanic   5246.0   \n",
       "5501           0         10507   5501.0    Man            white   5253.5   \n",
       "5502           0         10510   5502.0    Man            white   5255.0   \n",
       "\n",
       "      minutes  \n",
       "0      0.1083  \n",
       "1      0.1083  \n",
       "2      0.1083  \n",
       "3      0.1083  \n",
       "4      0.1083  \n",
       "...       ...  \n",
       "5498  87.3833  \n",
       "5499  87.4083  \n",
       "5500  87.4333  \n",
       "5501  87.5583  \n",
       "5502  87.5833  \n",
       "\n",
       "[5503 rows x 7 columns]"
      ]
     },
     "execution_count": 416,
     "metadata": {},
     "output_type": "execute_result"
    }
   ],
   "source": [
    "df"
   ]
  },
  {
   "cell_type": "code",
   "execution_count": 417,
   "id": "3753fdf9",
   "metadata": {},
   "outputs": [
    {
     "data": {
      "text/html": [
       "<div>\n",
       "<style scoped>\n",
       "    .dataframe tbody tr th:only-of-type {\n",
       "        vertical-align: middle;\n",
       "    }\n",
       "\n",
       "    .dataframe tbody tr th {\n",
       "        vertical-align: top;\n",
       "    }\n",
       "\n",
       "    .dataframe thead th {\n",
       "        text-align: right;\n",
       "    }\n",
       "</style>\n",
       "<table border=\"1\" class=\"dataframe\">\n",
       "  <thead>\n",
       "    <tr style=\"text-align: right;\">\n",
       "      <th></th>\n",
       "      <th>minutes</th>\n",
       "      <th>gender</th>\n",
       "      <th>Unnamed: 0</th>\n",
       "      <th>frame_number</th>\n",
       "      <th>face_id</th>\n",
       "      <th>race</th>\n",
       "      <th>seconds</th>\n",
       "    </tr>\n",
       "  </thead>\n",
       "  <tbody>\n",
       "    <tr>\n",
       "      <th>0</th>\n",
       "      <td>0.1083</td>\n",
       "      <td>Man</td>\n",
       "      <td>6</td>\n",
       "      <td>6</td>\n",
       "      <td>6</td>\n",
       "      <td>6</td>\n",
       "      <td>6</td>\n",
       "    </tr>\n",
       "    <tr>\n",
       "      <th>1</th>\n",
       "      <td>0.1333</td>\n",
       "      <td>Man</td>\n",
       "      <td>6</td>\n",
       "      <td>6</td>\n",
       "      <td>6</td>\n",
       "      <td>6</td>\n",
       "      <td>6</td>\n",
       "    </tr>\n",
       "    <tr>\n",
       "      <th>2</th>\n",
       "      <td>0.1583</td>\n",
       "      <td>Man</td>\n",
       "      <td>1</td>\n",
       "      <td>1</td>\n",
       "      <td>1</td>\n",
       "      <td>1</td>\n",
       "      <td>1</td>\n",
       "    </tr>\n",
       "    <tr>\n",
       "      <th>3</th>\n",
       "      <td>0.1583</td>\n",
       "      <td>Woman</td>\n",
       "      <td>1</td>\n",
       "      <td>1</td>\n",
       "      <td>1</td>\n",
       "      <td>1</td>\n",
       "      <td>1</td>\n",
       "    </tr>\n",
       "    <tr>\n",
       "      <th>4</th>\n",
       "      <td>0.1833</td>\n",
       "      <td>Man</td>\n",
       "      <td>1</td>\n",
       "      <td>1</td>\n",
       "      <td>1</td>\n",
       "      <td>1</td>\n",
       "      <td>1</td>\n",
       "    </tr>\n",
       "  </tbody>\n",
       "</table>\n",
       "</div>"
      ],
      "text/plain": [
       "   minutes gender  Unnamed: 0  frame_number  face_id  race  seconds\n",
       "0   0.1083    Man           6             6        6     6        6\n",
       "1   0.1333    Man           6             6        6     6        6\n",
       "2   0.1583    Man           1             1        1     1        1\n",
       "3   0.1583  Woman           1             1        1     1        1\n",
       "4   0.1833    Man           1             1        1     1        1"
      ]
     },
     "execution_count": 417,
     "metadata": {},
     "output_type": "execute_result"
    }
   ],
   "source": [
    "df_grouped = df.groupby([\"minutes\", \"gender\"], as_index=False).count()\n",
    "df_grouped.head()"
   ]
  },
  {
   "cell_type": "code",
   "execution_count": 460,
   "id": "c5d62d98",
   "metadata": {},
   "outputs": [],
   "source": [
    "def run_time(movie_title, by=\"gender\"):\n",
    "    \n",
    "    movie_title = movie_title.replace(\"_\", \" \").replace(\".csv\", \"\") + \".csv\"\n",
    "    \n",
    "    df = pd.read_csv(\n",
    "    f\"gs://{BUCKET_NAME}/output/{movie_title}\", index_col=None,)\n",
    "    \n",
    "    # add seconds column -> 1 frame = 0.5 seconds\n",
    "    df[\"seconds\"] = df[\"frame_number\"] / 2\n",
    "\n",
    "    # add minutes\n",
    "    df[\"minutes\"] = round((df[\"seconds\"] / 60))\n",
    "    \n",
    "    df_grouped = df.groupby([\"minutes\", by], as_index=False).count()\n",
    "\n",
    "\n",
    "    fig = px.scatter(df_grouped,\n",
    "                     x=\"minutes\",\n",
    "                     y=\"face_id\",\n",
    "                     size=\"face_id\",\n",
    "                     color=by,\n",
    "                     size_max=60, \n",
    "                     labels={\"face_id\": \"Number of detected faces\", \"minutes\": \"Film length [minutes]\"},\n",
    "                    title=f\"Distribution of {by.capitalize()} Over Film Run-time\")\n",
    "    return fig"
   ]
  },
  {
   "cell_type": "code",
   "execution_count": 461,
   "id": "3872186d",
   "metadata": {},
   "outputs": [
    {
     "data": {
      "application/vnd.plotly.v1+json": {
       "config": {
        "plotlyServerURL": "https://plot.ly"
       },
       "data": [
        {
         "hovertemplate": "gender=Man<br>Film length [minutes]=%{x}<br>Number of detected faces=%{marker.size}<extra></extra>",
         "legendgroup": "Man",
         "marker": {
          "color": "#636efa",
          "size": [
           1,
           17,
           23,
           12,
           105,
           149,
           81,
           40,
           153,
           84,
           9,
           4,
           6,
           30,
           25,
           42,
           12,
           31,
           42,
           41,
           31,
           17,
           24,
           54,
           54,
           50,
           36,
           11,
           21,
           6,
           16,
           15,
           36,
           16,
           39,
           38,
           75,
           127,
           66,
           20,
           17,
           18,
           31,
           30,
           16,
           17,
           15,
           23,
           17,
           11,
           43,
           13,
           5,
           16,
           19,
           22,
           23,
           35,
           26,
           21,
           10,
           12,
           22,
           18,
           28,
           53,
           54,
           29,
           11,
           10,
           29,
           22,
           21,
           57,
           86,
           46,
           23,
           9,
           20,
           18,
           19,
           12,
           35,
           33,
           33,
           23,
           22,
           15,
           18,
           21,
           19,
           21,
           8,
           2,
           6,
           14,
           22,
           25,
           31,
           30,
           22,
           10,
           18,
           7,
           9,
           56,
           22,
           19,
           33,
           31,
           47,
           14,
           42,
           43,
           31,
           51,
           56,
           16,
           17,
           27,
           59,
           188,
           115,
           119,
           9,
           13,
           16,
           27,
           46,
           20,
           15,
           16,
           4,
           18,
           7,
           7,
           3,
           6,
           6,
           6,
           9,
           30,
           13,
           23,
           66,
           56,
           64,
           17
          ],
          "sizemode": "area",
          "sizeref": 0.052222222222222225,
          "symbol": "circle"
         },
         "mode": "markers",
         "name": "Man",
         "orientation": "v",
         "showlegend": true,
         "type": "scatter",
         "x": [
          0,
          1,
          2,
          3,
          4,
          5,
          6,
          7,
          8,
          9,
          10,
          11,
          12,
          13,
          14,
          15,
          16,
          17,
          18,
          19,
          20,
          21,
          22,
          23,
          24,
          25,
          26,
          27,
          28,
          29,
          30,
          31,
          32,
          33,
          34,
          35,
          36,
          37,
          38,
          39,
          40,
          41,
          42,
          43,
          44,
          45,
          46,
          47,
          48,
          49,
          50,
          51,
          52,
          53,
          54,
          55,
          56,
          57,
          58,
          59,
          60,
          61,
          62,
          63,
          64,
          65,
          66,
          67,
          68,
          69,
          70,
          71,
          72,
          73,
          74,
          75,
          76,
          77,
          78,
          79,
          80,
          81,
          82,
          83,
          84,
          85,
          86,
          87,
          88,
          89,
          90,
          91,
          92,
          93,
          94,
          95,
          96,
          97,
          98,
          99,
          100,
          101,
          102,
          103,
          104,
          105,
          106,
          107,
          108,
          109,
          110,
          111,
          112,
          113,
          114,
          115,
          116,
          117,
          118,
          119,
          120,
          121,
          122,
          123,
          124,
          125,
          126,
          127,
          128,
          129,
          130,
          131,
          132,
          133,
          134,
          135,
          136,
          137,
          138,
          139,
          140,
          141,
          142,
          143,
          144,
          145,
          146,
          147
         ],
         "xaxis": "x",
         "y": [
          1,
          17,
          23,
          12,
          105,
          149,
          81,
          40,
          153,
          84,
          9,
          4,
          6,
          30,
          25,
          42,
          12,
          31,
          42,
          41,
          31,
          17,
          24,
          54,
          54,
          50,
          36,
          11,
          21,
          6,
          16,
          15,
          36,
          16,
          39,
          38,
          75,
          127,
          66,
          20,
          17,
          18,
          31,
          30,
          16,
          17,
          15,
          23,
          17,
          11,
          43,
          13,
          5,
          16,
          19,
          22,
          23,
          35,
          26,
          21,
          10,
          12,
          22,
          18,
          28,
          53,
          54,
          29,
          11,
          10,
          29,
          22,
          21,
          57,
          86,
          46,
          23,
          9,
          20,
          18,
          19,
          12,
          35,
          33,
          33,
          23,
          22,
          15,
          18,
          21,
          19,
          21,
          8,
          2,
          6,
          14,
          22,
          25,
          31,
          30,
          22,
          10,
          18,
          7,
          9,
          56,
          22,
          19,
          33,
          31,
          47,
          14,
          42,
          43,
          31,
          51,
          56,
          16,
          17,
          27,
          59,
          188,
          115,
          119,
          9,
          13,
          16,
          27,
          46,
          20,
          15,
          16,
          4,
          18,
          7,
          7,
          3,
          6,
          6,
          6,
          9,
          30,
          13,
          23,
          66,
          56,
          64,
          17
         ],
         "yaxis": "y"
        },
        {
         "hovertemplate": "gender=Woman<br>Film length [minutes]=%{x}<br>Number of detected faces=%{marker.size}<extra></extra>",
         "legendgroup": "Woman",
         "marker": {
          "color": "#EF553B",
          "size": [
           7,
           2,
           5,
           5,
           2,
           2,
           8,
           3,
           1,
           9,
           4,
           3,
           7,
           3,
           4,
           1,
           2,
           8,
           3,
           2,
           3,
           5,
           1,
           8,
           5,
           2,
           2,
           3,
           6,
           1,
           1,
           2,
           3,
           3,
           1,
           4,
           1,
           1,
           1,
           2,
           1,
           1,
           2,
           1,
           3,
           2,
           15,
           2,
           2,
           1,
           1,
           3,
           17,
           3,
           1,
           2,
           2,
           3,
           1,
           3,
           3,
           2,
           1,
           4,
           1,
           3,
           2,
           2,
           5,
           8,
           8,
           3,
           5,
           1,
           1,
           7,
           1,
           1,
           5,
           10,
           6,
           10,
           1,
           1,
           1,
           3,
           7,
           2,
           3,
           1,
           2,
           2,
           12,
           12,
           7,
           15,
           3
          ],
          "sizemode": "area",
          "sizeref": 0.052222222222222225,
          "symbol": "circle"
         },
         "mode": "markers",
         "name": "Woman",
         "orientation": "v",
         "showlegend": true,
         "type": "scatter",
         "x": [
          4,
          5,
          6,
          8,
          9,
          13,
          14,
          16,
          17,
          18,
          19,
          22,
          23,
          24,
          26,
          27,
          28,
          34,
          35,
          36,
          38,
          39,
          40,
          41,
          43,
          45,
          46,
          47,
          48,
          50,
          54,
          55,
          56,
          58,
          59,
          60,
          61,
          62,
          63,
          64,
          65,
          67,
          69,
          71,
          72,
          73,
          74,
          75,
          76,
          77,
          78,
          80,
          81,
          82,
          83,
          84,
          85,
          86,
          87,
          88,
          89,
          90,
          97,
          99,
          100,
          102,
          104,
          105,
          106,
          107,
          108,
          109,
          110,
          111,
          114,
          115,
          116,
          119,
          120,
          121,
          122,
          123,
          124,
          125,
          126,
          127,
          128,
          129,
          131,
          132,
          138,
          140,
          143,
          144,
          145,
          146,
          147
         ],
         "xaxis": "x",
         "y": [
          7,
          2,
          5,
          5,
          2,
          2,
          8,
          3,
          1,
          9,
          4,
          3,
          7,
          3,
          4,
          1,
          2,
          8,
          3,
          2,
          3,
          5,
          1,
          8,
          5,
          2,
          2,
          3,
          6,
          1,
          1,
          2,
          3,
          3,
          1,
          4,
          1,
          1,
          1,
          2,
          1,
          1,
          2,
          1,
          3,
          2,
          15,
          2,
          2,
          1,
          1,
          3,
          17,
          3,
          1,
          2,
          2,
          3,
          1,
          3,
          3,
          2,
          1,
          4,
          1,
          3,
          2,
          2,
          5,
          8,
          8,
          3,
          5,
          1,
          1,
          7,
          1,
          1,
          5,
          10,
          6,
          10,
          1,
          1,
          1,
          3,
          7,
          2,
          3,
          1,
          2,
          2,
          12,
          12,
          7,
          15,
          3
         ],
         "yaxis": "y"
        }
       ],
       "layout": {
        "legend": {
         "itemsizing": "constant",
         "title": {
          "text": "gender"
         },
         "tracegroupgap": 0
        },
        "template": {
         "data": {
          "bar": [
           {
            "error_x": {
             "color": "#2a3f5f"
            },
            "error_y": {
             "color": "#2a3f5f"
            },
            "marker": {
             "line": {
              "color": "#E5ECF6",
              "width": 0.5
             },
             "pattern": {
              "fillmode": "overlay",
              "size": 10,
              "solidity": 0.2
             }
            },
            "type": "bar"
           }
          ],
          "barpolar": [
           {
            "marker": {
             "line": {
              "color": "#E5ECF6",
              "width": 0.5
             },
             "pattern": {
              "fillmode": "overlay",
              "size": 10,
              "solidity": 0.2
             }
            },
            "type": "barpolar"
           }
          ],
          "carpet": [
           {
            "aaxis": {
             "endlinecolor": "#2a3f5f",
             "gridcolor": "white",
             "linecolor": "white",
             "minorgridcolor": "white",
             "startlinecolor": "#2a3f5f"
            },
            "baxis": {
             "endlinecolor": "#2a3f5f",
             "gridcolor": "white",
             "linecolor": "white",
             "minorgridcolor": "white",
             "startlinecolor": "#2a3f5f"
            },
            "type": "carpet"
           }
          ],
          "choropleth": [
           {
            "colorbar": {
             "outlinewidth": 0,
             "ticks": ""
            },
            "type": "choropleth"
           }
          ],
          "contour": [
           {
            "colorbar": {
             "outlinewidth": 0,
             "ticks": ""
            },
            "colorscale": [
             [
              0,
              "#0d0887"
             ],
             [
              0.1111111111111111,
              "#46039f"
             ],
             [
              0.2222222222222222,
              "#7201a8"
             ],
             [
              0.3333333333333333,
              "#9c179e"
             ],
             [
              0.4444444444444444,
              "#bd3786"
             ],
             [
              0.5555555555555556,
              "#d8576b"
             ],
             [
              0.6666666666666666,
              "#ed7953"
             ],
             [
              0.7777777777777778,
              "#fb9f3a"
             ],
             [
              0.8888888888888888,
              "#fdca26"
             ],
             [
              1,
              "#f0f921"
             ]
            ],
            "type": "contour"
           }
          ],
          "contourcarpet": [
           {
            "colorbar": {
             "outlinewidth": 0,
             "ticks": ""
            },
            "type": "contourcarpet"
           }
          ],
          "heatmap": [
           {
            "colorbar": {
             "outlinewidth": 0,
             "ticks": ""
            },
            "colorscale": [
             [
              0,
              "#0d0887"
             ],
             [
              0.1111111111111111,
              "#46039f"
             ],
             [
              0.2222222222222222,
              "#7201a8"
             ],
             [
              0.3333333333333333,
              "#9c179e"
             ],
             [
              0.4444444444444444,
              "#bd3786"
             ],
             [
              0.5555555555555556,
              "#d8576b"
             ],
             [
              0.6666666666666666,
              "#ed7953"
             ],
             [
              0.7777777777777778,
              "#fb9f3a"
             ],
             [
              0.8888888888888888,
              "#fdca26"
             ],
             [
              1,
              "#f0f921"
             ]
            ],
            "type": "heatmap"
           }
          ],
          "heatmapgl": [
           {
            "colorbar": {
             "outlinewidth": 0,
             "ticks": ""
            },
            "colorscale": [
             [
              0,
              "#0d0887"
             ],
             [
              0.1111111111111111,
              "#46039f"
             ],
             [
              0.2222222222222222,
              "#7201a8"
             ],
             [
              0.3333333333333333,
              "#9c179e"
             ],
             [
              0.4444444444444444,
              "#bd3786"
             ],
             [
              0.5555555555555556,
              "#d8576b"
             ],
             [
              0.6666666666666666,
              "#ed7953"
             ],
             [
              0.7777777777777778,
              "#fb9f3a"
             ],
             [
              0.8888888888888888,
              "#fdca26"
             ],
             [
              1,
              "#f0f921"
             ]
            ],
            "type": "heatmapgl"
           }
          ],
          "histogram": [
           {
            "marker": {
             "pattern": {
              "fillmode": "overlay",
              "size": 10,
              "solidity": 0.2
             }
            },
            "type": "histogram"
           }
          ],
          "histogram2d": [
           {
            "colorbar": {
             "outlinewidth": 0,
             "ticks": ""
            },
            "colorscale": [
             [
              0,
              "#0d0887"
             ],
             [
              0.1111111111111111,
              "#46039f"
             ],
             [
              0.2222222222222222,
              "#7201a8"
             ],
             [
              0.3333333333333333,
              "#9c179e"
             ],
             [
              0.4444444444444444,
              "#bd3786"
             ],
             [
              0.5555555555555556,
              "#d8576b"
             ],
             [
              0.6666666666666666,
              "#ed7953"
             ],
             [
              0.7777777777777778,
              "#fb9f3a"
             ],
             [
              0.8888888888888888,
              "#fdca26"
             ],
             [
              1,
              "#f0f921"
             ]
            ],
            "type": "histogram2d"
           }
          ],
          "histogram2dcontour": [
           {
            "colorbar": {
             "outlinewidth": 0,
             "ticks": ""
            },
            "colorscale": [
             [
              0,
              "#0d0887"
             ],
             [
              0.1111111111111111,
              "#46039f"
             ],
             [
              0.2222222222222222,
              "#7201a8"
             ],
             [
              0.3333333333333333,
              "#9c179e"
             ],
             [
              0.4444444444444444,
              "#bd3786"
             ],
             [
              0.5555555555555556,
              "#d8576b"
             ],
             [
              0.6666666666666666,
              "#ed7953"
             ],
             [
              0.7777777777777778,
              "#fb9f3a"
             ],
             [
              0.8888888888888888,
              "#fdca26"
             ],
             [
              1,
              "#f0f921"
             ]
            ],
            "type": "histogram2dcontour"
           }
          ],
          "mesh3d": [
           {
            "colorbar": {
             "outlinewidth": 0,
             "ticks": ""
            },
            "type": "mesh3d"
           }
          ],
          "parcoords": [
           {
            "line": {
             "colorbar": {
              "outlinewidth": 0,
              "ticks": ""
             }
            },
            "type": "parcoords"
           }
          ],
          "pie": [
           {
            "automargin": true,
            "type": "pie"
           }
          ],
          "scatter": [
           {
            "marker": {
             "colorbar": {
              "outlinewidth": 0,
              "ticks": ""
             }
            },
            "type": "scatter"
           }
          ],
          "scatter3d": [
           {
            "line": {
             "colorbar": {
              "outlinewidth": 0,
              "ticks": ""
             }
            },
            "marker": {
             "colorbar": {
              "outlinewidth": 0,
              "ticks": ""
             }
            },
            "type": "scatter3d"
           }
          ],
          "scattercarpet": [
           {
            "marker": {
             "colorbar": {
              "outlinewidth": 0,
              "ticks": ""
             }
            },
            "type": "scattercarpet"
           }
          ],
          "scattergeo": [
           {
            "marker": {
             "colorbar": {
              "outlinewidth": 0,
              "ticks": ""
             }
            },
            "type": "scattergeo"
           }
          ],
          "scattergl": [
           {
            "marker": {
             "colorbar": {
              "outlinewidth": 0,
              "ticks": ""
             }
            },
            "type": "scattergl"
           }
          ],
          "scattermapbox": [
           {
            "marker": {
             "colorbar": {
              "outlinewidth": 0,
              "ticks": ""
             }
            },
            "type": "scattermapbox"
           }
          ],
          "scatterpolar": [
           {
            "marker": {
             "colorbar": {
              "outlinewidth": 0,
              "ticks": ""
             }
            },
            "type": "scatterpolar"
           }
          ],
          "scatterpolargl": [
           {
            "marker": {
             "colorbar": {
              "outlinewidth": 0,
              "ticks": ""
             }
            },
            "type": "scatterpolargl"
           }
          ],
          "scatterternary": [
           {
            "marker": {
             "colorbar": {
              "outlinewidth": 0,
              "ticks": ""
             }
            },
            "type": "scatterternary"
           }
          ],
          "surface": [
           {
            "colorbar": {
             "outlinewidth": 0,
             "ticks": ""
            },
            "colorscale": [
             [
              0,
              "#0d0887"
             ],
             [
              0.1111111111111111,
              "#46039f"
             ],
             [
              0.2222222222222222,
              "#7201a8"
             ],
             [
              0.3333333333333333,
              "#9c179e"
             ],
             [
              0.4444444444444444,
              "#bd3786"
             ],
             [
              0.5555555555555556,
              "#d8576b"
             ],
             [
              0.6666666666666666,
              "#ed7953"
             ],
             [
              0.7777777777777778,
              "#fb9f3a"
             ],
             [
              0.8888888888888888,
              "#fdca26"
             ],
             [
              1,
              "#f0f921"
             ]
            ],
            "type": "surface"
           }
          ],
          "table": [
           {
            "cells": {
             "fill": {
              "color": "#EBF0F8"
             },
             "line": {
              "color": "white"
             }
            },
            "header": {
             "fill": {
              "color": "#C8D4E3"
             },
             "line": {
              "color": "white"
             }
            },
            "type": "table"
           }
          ]
         },
         "layout": {
          "annotationdefaults": {
           "arrowcolor": "#2a3f5f",
           "arrowhead": 0,
           "arrowwidth": 1
          },
          "autotypenumbers": "strict",
          "coloraxis": {
           "colorbar": {
            "outlinewidth": 0,
            "ticks": ""
           }
          },
          "colorscale": {
           "diverging": [
            [
             0,
             "#8e0152"
            ],
            [
             0.1,
             "#c51b7d"
            ],
            [
             0.2,
             "#de77ae"
            ],
            [
             0.3,
             "#f1b6da"
            ],
            [
             0.4,
             "#fde0ef"
            ],
            [
             0.5,
             "#f7f7f7"
            ],
            [
             0.6,
             "#e6f5d0"
            ],
            [
             0.7,
             "#b8e186"
            ],
            [
             0.8,
             "#7fbc41"
            ],
            [
             0.9,
             "#4d9221"
            ],
            [
             1,
             "#276419"
            ]
           ],
           "sequential": [
            [
             0,
             "#0d0887"
            ],
            [
             0.1111111111111111,
             "#46039f"
            ],
            [
             0.2222222222222222,
             "#7201a8"
            ],
            [
             0.3333333333333333,
             "#9c179e"
            ],
            [
             0.4444444444444444,
             "#bd3786"
            ],
            [
             0.5555555555555556,
             "#d8576b"
            ],
            [
             0.6666666666666666,
             "#ed7953"
            ],
            [
             0.7777777777777778,
             "#fb9f3a"
            ],
            [
             0.8888888888888888,
             "#fdca26"
            ],
            [
             1,
             "#f0f921"
            ]
           ],
           "sequentialminus": [
            [
             0,
             "#0d0887"
            ],
            [
             0.1111111111111111,
             "#46039f"
            ],
            [
             0.2222222222222222,
             "#7201a8"
            ],
            [
             0.3333333333333333,
             "#9c179e"
            ],
            [
             0.4444444444444444,
             "#bd3786"
            ],
            [
             0.5555555555555556,
             "#d8576b"
            ],
            [
             0.6666666666666666,
             "#ed7953"
            ],
            [
             0.7777777777777778,
             "#fb9f3a"
            ],
            [
             0.8888888888888888,
             "#fdca26"
            ],
            [
             1,
             "#f0f921"
            ]
           ]
          },
          "colorway": [
           "#636efa",
           "#EF553B",
           "#00cc96",
           "#ab63fa",
           "#FFA15A",
           "#19d3f3",
           "#FF6692",
           "#B6E880",
           "#FF97FF",
           "#FECB52"
          ],
          "font": {
           "color": "#2a3f5f"
          },
          "geo": {
           "bgcolor": "white",
           "lakecolor": "white",
           "landcolor": "#E5ECF6",
           "showlakes": true,
           "showland": true,
           "subunitcolor": "white"
          },
          "hoverlabel": {
           "align": "left"
          },
          "hovermode": "closest",
          "mapbox": {
           "style": "light"
          },
          "paper_bgcolor": "white",
          "plot_bgcolor": "#E5ECF6",
          "polar": {
           "angularaxis": {
            "gridcolor": "white",
            "linecolor": "white",
            "ticks": ""
           },
           "bgcolor": "#E5ECF6",
           "radialaxis": {
            "gridcolor": "white",
            "linecolor": "white",
            "ticks": ""
           }
          },
          "scene": {
           "xaxis": {
            "backgroundcolor": "#E5ECF6",
            "gridcolor": "white",
            "gridwidth": 2,
            "linecolor": "white",
            "showbackground": true,
            "ticks": "",
            "zerolinecolor": "white"
           },
           "yaxis": {
            "backgroundcolor": "#E5ECF6",
            "gridcolor": "white",
            "gridwidth": 2,
            "linecolor": "white",
            "showbackground": true,
            "ticks": "",
            "zerolinecolor": "white"
           },
           "zaxis": {
            "backgroundcolor": "#E5ECF6",
            "gridcolor": "white",
            "gridwidth": 2,
            "linecolor": "white",
            "showbackground": true,
            "ticks": "",
            "zerolinecolor": "white"
           }
          },
          "shapedefaults": {
           "line": {
            "color": "#2a3f5f"
           }
          },
          "ternary": {
           "aaxis": {
            "gridcolor": "white",
            "linecolor": "white",
            "ticks": ""
           },
           "baxis": {
            "gridcolor": "white",
            "linecolor": "white",
            "ticks": ""
           },
           "bgcolor": "#E5ECF6",
           "caxis": {
            "gridcolor": "white",
            "linecolor": "white",
            "ticks": ""
           }
          },
          "title": {
           "x": 0.05
          },
          "xaxis": {
           "automargin": true,
           "gridcolor": "white",
           "linecolor": "white",
           "ticks": "",
           "title": {
            "standoff": 15
           },
           "zerolinecolor": "white",
           "zerolinewidth": 2
          },
          "yaxis": {
           "automargin": true,
           "gridcolor": "white",
           "linecolor": "white",
           "ticks": "",
           "title": {
            "standoff": 15
           },
           "zerolinecolor": "white",
           "zerolinewidth": 2
          }
         }
        },
        "title": {
         "text": "Distribution of Gender Over Film Run-time"
        },
        "xaxis": {
         "anchor": "y",
         "domain": [
          0,
          1
         ],
         "title": {
          "text": "Film length [minutes]"
         }
        },
        "yaxis": {
         "anchor": "x",
         "domain": [
          0,
          1
         ],
         "title": {
          "text": "Number of detected faces"
         }
        }
       }
      },
      "text/html": [
       "<div>                            <div id=\"f2bf4ada-6ce7-494c-838d-b06e4ad2c68b\" class=\"plotly-graph-div\" style=\"height:525px; width:100%;\"></div>            <script type=\"text/javascript\">                require([\"plotly\"], function(Plotly) {                    window.PLOTLYENV=window.PLOTLYENV || {};                                    if (document.getElementById(\"f2bf4ada-6ce7-494c-838d-b06e4ad2c68b\")) {                    Plotly.newPlot(                        \"f2bf4ada-6ce7-494c-838d-b06e4ad2c68b\",                        [{\"hovertemplate\":\"gender=Man<br>Film length [minutes]=%{x}<br>Number of detected faces=%{marker.size}<extra></extra>\",\"legendgroup\":\"Man\",\"marker\":{\"color\":\"#636efa\",\"size\":[1,17,23,12,105,149,81,40,153,84,9,4,6,30,25,42,12,31,42,41,31,17,24,54,54,50,36,11,21,6,16,15,36,16,39,38,75,127,66,20,17,18,31,30,16,17,15,23,17,11,43,13,5,16,19,22,23,35,26,21,10,12,22,18,28,53,54,29,11,10,29,22,21,57,86,46,23,9,20,18,19,12,35,33,33,23,22,15,18,21,19,21,8,2,6,14,22,25,31,30,22,10,18,7,9,56,22,19,33,31,47,14,42,43,31,51,56,16,17,27,59,188,115,119,9,13,16,27,46,20,15,16,4,18,7,7,3,6,6,6,9,30,13,23,66,56,64,17],\"sizemode\":\"area\",\"sizeref\":0.052222222222222225,\"symbol\":\"circle\"},\"mode\":\"markers\",\"name\":\"Man\",\"orientation\":\"v\",\"showlegend\":true,\"type\":\"scatter\",\"x\":[0.0,1.0,2.0,3.0,4.0,5.0,6.0,7.0,8.0,9.0,10.0,11.0,12.0,13.0,14.0,15.0,16.0,17.0,18.0,19.0,20.0,21.0,22.0,23.0,24.0,25.0,26.0,27.0,28.0,29.0,30.0,31.0,32.0,33.0,34.0,35.0,36.0,37.0,38.0,39.0,40.0,41.0,42.0,43.0,44.0,45.0,46.0,47.0,48.0,49.0,50.0,51.0,52.0,53.0,54.0,55.0,56.0,57.0,58.0,59.0,60.0,61.0,62.0,63.0,64.0,65.0,66.0,67.0,68.0,69.0,70.0,71.0,72.0,73.0,74.0,75.0,76.0,77.0,78.0,79.0,80.0,81.0,82.0,83.0,84.0,85.0,86.0,87.0,88.0,89.0,90.0,91.0,92.0,93.0,94.0,95.0,96.0,97.0,98.0,99.0,100.0,101.0,102.0,103.0,104.0,105.0,106.0,107.0,108.0,109.0,110.0,111.0,112.0,113.0,114.0,115.0,116.0,117.0,118.0,119.0,120.0,121.0,122.0,123.0,124.0,125.0,126.0,127.0,128.0,129.0,130.0,131.0,132.0,133.0,134.0,135.0,136.0,137.0,138.0,139.0,140.0,141.0,142.0,143.0,144.0,145.0,146.0,147.0],\"xaxis\":\"x\",\"y\":[1,17,23,12,105,149,81,40,153,84,9,4,6,30,25,42,12,31,42,41,31,17,24,54,54,50,36,11,21,6,16,15,36,16,39,38,75,127,66,20,17,18,31,30,16,17,15,23,17,11,43,13,5,16,19,22,23,35,26,21,10,12,22,18,28,53,54,29,11,10,29,22,21,57,86,46,23,9,20,18,19,12,35,33,33,23,22,15,18,21,19,21,8,2,6,14,22,25,31,30,22,10,18,7,9,56,22,19,33,31,47,14,42,43,31,51,56,16,17,27,59,188,115,119,9,13,16,27,46,20,15,16,4,18,7,7,3,6,6,6,9,30,13,23,66,56,64,17],\"yaxis\":\"y\"},{\"hovertemplate\":\"gender=Woman<br>Film length [minutes]=%{x}<br>Number of detected faces=%{marker.size}<extra></extra>\",\"legendgroup\":\"Woman\",\"marker\":{\"color\":\"#EF553B\",\"size\":[7,2,5,5,2,2,8,3,1,9,4,3,7,3,4,1,2,8,3,2,3,5,1,8,5,2,2,3,6,1,1,2,3,3,1,4,1,1,1,2,1,1,2,1,3,2,15,2,2,1,1,3,17,3,1,2,2,3,1,3,3,2,1,4,1,3,2,2,5,8,8,3,5,1,1,7,1,1,5,10,6,10,1,1,1,3,7,2,3,1,2,2,12,12,7,15,3],\"sizemode\":\"area\",\"sizeref\":0.052222222222222225,\"symbol\":\"circle\"},\"mode\":\"markers\",\"name\":\"Woman\",\"orientation\":\"v\",\"showlegend\":true,\"type\":\"scatter\",\"x\":[4.0,5.0,6.0,8.0,9.0,13.0,14.0,16.0,17.0,18.0,19.0,22.0,23.0,24.0,26.0,27.0,28.0,34.0,35.0,36.0,38.0,39.0,40.0,41.0,43.0,45.0,46.0,47.0,48.0,50.0,54.0,55.0,56.0,58.0,59.0,60.0,61.0,62.0,63.0,64.0,65.0,67.0,69.0,71.0,72.0,73.0,74.0,75.0,76.0,77.0,78.0,80.0,81.0,82.0,83.0,84.0,85.0,86.0,87.0,88.0,89.0,90.0,97.0,99.0,100.0,102.0,104.0,105.0,106.0,107.0,108.0,109.0,110.0,111.0,114.0,115.0,116.0,119.0,120.0,121.0,122.0,123.0,124.0,125.0,126.0,127.0,128.0,129.0,131.0,132.0,138.0,140.0,143.0,144.0,145.0,146.0,147.0],\"xaxis\":\"x\",\"y\":[7,2,5,5,2,2,8,3,1,9,4,3,7,3,4,1,2,8,3,2,3,5,1,8,5,2,2,3,6,1,1,2,3,3,1,4,1,1,1,2,1,1,2,1,3,2,15,2,2,1,1,3,17,3,1,2,2,3,1,3,3,2,1,4,1,3,2,2,5,8,8,3,5,1,1,7,1,1,5,10,6,10,1,1,1,3,7,2,3,1,2,2,12,12,7,15,3],\"yaxis\":\"y\"}],                        {\"legend\":{\"itemsizing\":\"constant\",\"title\":{\"text\":\"gender\"},\"tracegroupgap\":0},\"template\":{\"data\":{\"bar\":[{\"error_x\":{\"color\":\"#2a3f5f\"},\"error_y\":{\"color\":\"#2a3f5f\"},\"marker\":{\"line\":{\"color\":\"#E5ECF6\",\"width\":0.5},\"pattern\":{\"fillmode\":\"overlay\",\"size\":10,\"solidity\":0.2}},\"type\":\"bar\"}],\"barpolar\":[{\"marker\":{\"line\":{\"color\":\"#E5ECF6\",\"width\":0.5},\"pattern\":{\"fillmode\":\"overlay\",\"size\":10,\"solidity\":0.2}},\"type\":\"barpolar\"}],\"carpet\":[{\"aaxis\":{\"endlinecolor\":\"#2a3f5f\",\"gridcolor\":\"white\",\"linecolor\":\"white\",\"minorgridcolor\":\"white\",\"startlinecolor\":\"#2a3f5f\"},\"baxis\":{\"endlinecolor\":\"#2a3f5f\",\"gridcolor\":\"white\",\"linecolor\":\"white\",\"minorgridcolor\":\"white\",\"startlinecolor\":\"#2a3f5f\"},\"type\":\"carpet\"}],\"choropleth\":[{\"colorbar\":{\"outlinewidth\":0,\"ticks\":\"\"},\"type\":\"choropleth\"}],\"contour\":[{\"colorbar\":{\"outlinewidth\":0,\"ticks\":\"\"},\"colorscale\":[[0.0,\"#0d0887\"],[0.1111111111111111,\"#46039f\"],[0.2222222222222222,\"#7201a8\"],[0.3333333333333333,\"#9c179e\"],[0.4444444444444444,\"#bd3786\"],[0.5555555555555556,\"#d8576b\"],[0.6666666666666666,\"#ed7953\"],[0.7777777777777778,\"#fb9f3a\"],[0.8888888888888888,\"#fdca26\"],[1.0,\"#f0f921\"]],\"type\":\"contour\"}],\"contourcarpet\":[{\"colorbar\":{\"outlinewidth\":0,\"ticks\":\"\"},\"type\":\"contourcarpet\"}],\"heatmap\":[{\"colorbar\":{\"outlinewidth\":0,\"ticks\":\"\"},\"colorscale\":[[0.0,\"#0d0887\"],[0.1111111111111111,\"#46039f\"],[0.2222222222222222,\"#7201a8\"],[0.3333333333333333,\"#9c179e\"],[0.4444444444444444,\"#bd3786\"],[0.5555555555555556,\"#d8576b\"],[0.6666666666666666,\"#ed7953\"],[0.7777777777777778,\"#fb9f3a\"],[0.8888888888888888,\"#fdca26\"],[1.0,\"#f0f921\"]],\"type\":\"heatmap\"}],\"heatmapgl\":[{\"colorbar\":{\"outlinewidth\":0,\"ticks\":\"\"},\"colorscale\":[[0.0,\"#0d0887\"],[0.1111111111111111,\"#46039f\"],[0.2222222222222222,\"#7201a8\"],[0.3333333333333333,\"#9c179e\"],[0.4444444444444444,\"#bd3786\"],[0.5555555555555556,\"#d8576b\"],[0.6666666666666666,\"#ed7953\"],[0.7777777777777778,\"#fb9f3a\"],[0.8888888888888888,\"#fdca26\"],[1.0,\"#f0f921\"]],\"type\":\"heatmapgl\"}],\"histogram\":[{\"marker\":{\"pattern\":{\"fillmode\":\"overlay\",\"size\":10,\"solidity\":0.2}},\"type\":\"histogram\"}],\"histogram2d\":[{\"colorbar\":{\"outlinewidth\":0,\"ticks\":\"\"},\"colorscale\":[[0.0,\"#0d0887\"],[0.1111111111111111,\"#46039f\"],[0.2222222222222222,\"#7201a8\"],[0.3333333333333333,\"#9c179e\"],[0.4444444444444444,\"#bd3786\"],[0.5555555555555556,\"#d8576b\"],[0.6666666666666666,\"#ed7953\"],[0.7777777777777778,\"#fb9f3a\"],[0.8888888888888888,\"#fdca26\"],[1.0,\"#f0f921\"]],\"type\":\"histogram2d\"}],\"histogram2dcontour\":[{\"colorbar\":{\"outlinewidth\":0,\"ticks\":\"\"},\"colorscale\":[[0.0,\"#0d0887\"],[0.1111111111111111,\"#46039f\"],[0.2222222222222222,\"#7201a8\"],[0.3333333333333333,\"#9c179e\"],[0.4444444444444444,\"#bd3786\"],[0.5555555555555556,\"#d8576b\"],[0.6666666666666666,\"#ed7953\"],[0.7777777777777778,\"#fb9f3a\"],[0.8888888888888888,\"#fdca26\"],[1.0,\"#f0f921\"]],\"type\":\"histogram2dcontour\"}],\"mesh3d\":[{\"colorbar\":{\"outlinewidth\":0,\"ticks\":\"\"},\"type\":\"mesh3d\"}],\"parcoords\":[{\"line\":{\"colorbar\":{\"outlinewidth\":0,\"ticks\":\"\"}},\"type\":\"parcoords\"}],\"pie\":[{\"automargin\":true,\"type\":\"pie\"}],\"scatter\":[{\"marker\":{\"colorbar\":{\"outlinewidth\":0,\"ticks\":\"\"}},\"type\":\"scatter\"}],\"scatter3d\":[{\"line\":{\"colorbar\":{\"outlinewidth\":0,\"ticks\":\"\"}},\"marker\":{\"colorbar\":{\"outlinewidth\":0,\"ticks\":\"\"}},\"type\":\"scatter3d\"}],\"scattercarpet\":[{\"marker\":{\"colorbar\":{\"outlinewidth\":0,\"ticks\":\"\"}},\"type\":\"scattercarpet\"}],\"scattergeo\":[{\"marker\":{\"colorbar\":{\"outlinewidth\":0,\"ticks\":\"\"}},\"type\":\"scattergeo\"}],\"scattergl\":[{\"marker\":{\"colorbar\":{\"outlinewidth\":0,\"ticks\":\"\"}},\"type\":\"scattergl\"}],\"scattermapbox\":[{\"marker\":{\"colorbar\":{\"outlinewidth\":0,\"ticks\":\"\"}},\"type\":\"scattermapbox\"}],\"scatterpolar\":[{\"marker\":{\"colorbar\":{\"outlinewidth\":0,\"ticks\":\"\"}},\"type\":\"scatterpolar\"}],\"scatterpolargl\":[{\"marker\":{\"colorbar\":{\"outlinewidth\":0,\"ticks\":\"\"}},\"type\":\"scatterpolargl\"}],\"scatterternary\":[{\"marker\":{\"colorbar\":{\"outlinewidth\":0,\"ticks\":\"\"}},\"type\":\"scatterternary\"}],\"surface\":[{\"colorbar\":{\"outlinewidth\":0,\"ticks\":\"\"},\"colorscale\":[[0.0,\"#0d0887\"],[0.1111111111111111,\"#46039f\"],[0.2222222222222222,\"#7201a8\"],[0.3333333333333333,\"#9c179e\"],[0.4444444444444444,\"#bd3786\"],[0.5555555555555556,\"#d8576b\"],[0.6666666666666666,\"#ed7953\"],[0.7777777777777778,\"#fb9f3a\"],[0.8888888888888888,\"#fdca26\"],[1.0,\"#f0f921\"]],\"type\":\"surface\"}],\"table\":[{\"cells\":{\"fill\":{\"color\":\"#EBF0F8\"},\"line\":{\"color\":\"white\"}},\"header\":{\"fill\":{\"color\":\"#C8D4E3\"},\"line\":{\"color\":\"white\"}},\"type\":\"table\"}]},\"layout\":{\"annotationdefaults\":{\"arrowcolor\":\"#2a3f5f\",\"arrowhead\":0,\"arrowwidth\":1},\"autotypenumbers\":\"strict\",\"coloraxis\":{\"colorbar\":{\"outlinewidth\":0,\"ticks\":\"\"}},\"colorscale\":{\"diverging\":[[0,\"#8e0152\"],[0.1,\"#c51b7d\"],[0.2,\"#de77ae\"],[0.3,\"#f1b6da\"],[0.4,\"#fde0ef\"],[0.5,\"#f7f7f7\"],[0.6,\"#e6f5d0\"],[0.7,\"#b8e186\"],[0.8,\"#7fbc41\"],[0.9,\"#4d9221\"],[1,\"#276419\"]],\"sequential\":[[0.0,\"#0d0887\"],[0.1111111111111111,\"#46039f\"],[0.2222222222222222,\"#7201a8\"],[0.3333333333333333,\"#9c179e\"],[0.4444444444444444,\"#bd3786\"],[0.5555555555555556,\"#d8576b\"],[0.6666666666666666,\"#ed7953\"],[0.7777777777777778,\"#fb9f3a\"],[0.8888888888888888,\"#fdca26\"],[1.0,\"#f0f921\"]],\"sequentialminus\":[[0.0,\"#0d0887\"],[0.1111111111111111,\"#46039f\"],[0.2222222222222222,\"#7201a8\"],[0.3333333333333333,\"#9c179e\"],[0.4444444444444444,\"#bd3786\"],[0.5555555555555556,\"#d8576b\"],[0.6666666666666666,\"#ed7953\"],[0.7777777777777778,\"#fb9f3a\"],[0.8888888888888888,\"#fdca26\"],[1.0,\"#f0f921\"]]},\"colorway\":[\"#636efa\",\"#EF553B\",\"#00cc96\",\"#ab63fa\",\"#FFA15A\",\"#19d3f3\",\"#FF6692\",\"#B6E880\",\"#FF97FF\",\"#FECB52\"],\"font\":{\"color\":\"#2a3f5f\"},\"geo\":{\"bgcolor\":\"white\",\"lakecolor\":\"white\",\"landcolor\":\"#E5ECF6\",\"showlakes\":true,\"showland\":true,\"subunitcolor\":\"white\"},\"hoverlabel\":{\"align\":\"left\"},\"hovermode\":\"closest\",\"mapbox\":{\"style\":\"light\"},\"paper_bgcolor\":\"white\",\"plot_bgcolor\":\"#E5ECF6\",\"polar\":{\"angularaxis\":{\"gridcolor\":\"white\",\"linecolor\":\"white\",\"ticks\":\"\"},\"bgcolor\":\"#E5ECF6\",\"radialaxis\":{\"gridcolor\":\"white\",\"linecolor\":\"white\",\"ticks\":\"\"}},\"scene\":{\"xaxis\":{\"backgroundcolor\":\"#E5ECF6\",\"gridcolor\":\"white\",\"gridwidth\":2,\"linecolor\":\"white\",\"showbackground\":true,\"ticks\":\"\",\"zerolinecolor\":\"white\"},\"yaxis\":{\"backgroundcolor\":\"#E5ECF6\",\"gridcolor\":\"white\",\"gridwidth\":2,\"linecolor\":\"white\",\"showbackground\":true,\"ticks\":\"\",\"zerolinecolor\":\"white\"},\"zaxis\":{\"backgroundcolor\":\"#E5ECF6\",\"gridcolor\":\"white\",\"gridwidth\":2,\"linecolor\":\"white\",\"showbackground\":true,\"ticks\":\"\",\"zerolinecolor\":\"white\"}},\"shapedefaults\":{\"line\":{\"color\":\"#2a3f5f\"}},\"ternary\":{\"aaxis\":{\"gridcolor\":\"white\",\"linecolor\":\"white\",\"ticks\":\"\"},\"baxis\":{\"gridcolor\":\"white\",\"linecolor\":\"white\",\"ticks\":\"\"},\"bgcolor\":\"#E5ECF6\",\"caxis\":{\"gridcolor\":\"white\",\"linecolor\":\"white\",\"ticks\":\"\"}},\"title\":{\"x\":0.05},\"xaxis\":{\"automargin\":true,\"gridcolor\":\"white\",\"linecolor\":\"white\",\"ticks\":\"\",\"title\":{\"standoff\":15},\"zerolinecolor\":\"white\",\"zerolinewidth\":2},\"yaxis\":{\"automargin\":true,\"gridcolor\":\"white\",\"linecolor\":\"white\",\"ticks\":\"\",\"title\":{\"standoff\":15},\"zerolinecolor\":\"white\",\"zerolinewidth\":2}}},\"title\":{\"text\":\"Distribution of Gender Over Film Run-time\"},\"xaxis\":{\"anchor\":\"y\",\"domain\":[0.0,1.0],\"title\":{\"text\":\"Film length [minutes]\"}},\"yaxis\":{\"anchor\":\"x\",\"domain\":[0.0,1.0],\"title\":{\"text\":\"Number of detected faces\"}}},                        {\"responsive\": true}                    ).then(function(){\n",
       "                            \n",
       "var gd = document.getElementById('f2bf4ada-6ce7-494c-838d-b06e4ad2c68b');\n",
       "var x = new MutationObserver(function (mutations, observer) {{\n",
       "        var display = window.getComputedStyle(gd).display;\n",
       "        if (!display || display === 'none') {{\n",
       "            console.log([gd, 'removed!']);\n",
       "            Plotly.purge(gd);\n",
       "            observer.disconnect();\n",
       "        }}\n",
       "}});\n",
       "\n",
       "// Listen for the removal of the full notebook cells\n",
       "var notebookContainer = gd.closest('#notebook-container');\n",
       "if (notebookContainer) {{\n",
       "    x.observe(notebookContainer, {childList: true});\n",
       "}}\n",
       "\n",
       "// Listen for the clearing of the current output cell\n",
       "var outputEl = gd.closest('.output');\n",
       "if (outputEl) {{\n",
       "    x.observe(outputEl, {childList: true});\n",
       "}}\n",
       "\n",
       "                        })                };                });            </script>        </div>"
      ]
     },
     "metadata": {},
     "output_type": "display_data"
    }
   ],
   "source": [
    "run_time(\"2012 (2009)\", by=\"gender\")"
   ]
  },
  {
   "cell_type": "markdown",
   "id": "ad609a01",
   "metadata": {},
   "source": [
    "## Dashboard"
   ]
  },
  {
   "cell_type": "code",
   "execution_count": 543,
   "id": "e3896ad4",
   "metadata": {},
   "outputs": [],
   "source": [
    "import plotly.graph_objects as go\n",
    "import plotly.subplots as sp\n",
    "\n",
    "def dashboard_gender(movie_title):\n",
    "    \n",
    "    # grab csvs\n",
    "    \n",
    "    movie_name = movie_title.replace(\" \", \"_\")\n",
    "    file_name = f'https://storage.googleapis.com/wagon-data-735-movie-diversity/CSVs/{movie_name}/statistics'\n",
    "    df = pd.read_csv(file_name)\n",
    "\n",
    "    # Create figures in Express\n",
    "    figure1 = run_time(movie_name, by=\"gender\")\n",
    "    figure2 = race_screentime_bar(df)\n",
    "    figure3 = man_woman_screentime_bar(df)\n",
    "\n",
    "    # For as many traces that exist per Express figure, get the traces from each plot and store them in an array.\n",
    "    # This is essentially breaking down the Express fig into it's traces\n",
    "\n",
    "    figure1_traces = []\n",
    "    figure2_traces = []\n",
    "    figure3_traces = []\n",
    "\n",
    "\n",
    "    for trace in range(len(figure1[\"data\"])):\n",
    "        figure1_traces.append(figure1[\"data\"][trace])\n",
    "\n",
    "    for trace in range(len(figure2[\"data\"])):\n",
    "        figure2_traces.append(figure2[\"data\"][trace])\n",
    "\n",
    "\n",
    "    for trace in range(len(figure3[\"data\"])):\n",
    "        figure3_traces.append(figure3[\"data\"][trace])\n",
    "\n",
    "    #Create a 1x2 subplot\n",
    "    this_figure = sp.make_subplots(rows=2, cols=2, specs=[[{'colspan': 2}, None],\n",
    "                                               [{}, {}]]) \n",
    "\n",
    "    # Get the Express fig broken down as traces and add the traces to the proper plot within in the subplot\n",
    "    for traces in figure1_traces:\n",
    "        this_figure.append_trace(traces, row=1, col=1)\n",
    "\n",
    "    for traces in figure2_traces:\n",
    "        this_figure.append_trace(traces, row=2, col=1)\n",
    "\n",
    "    for traces in figure3_traces:\n",
    "        this_figure.append_trace(traces, row=2, col=2)\n",
    "\n",
    "    this_figure.update_layout(height=900, width=1100)\n",
    "    this_figure.update_layout(uniformtext_minsize=15)\n",
    "\n",
    "    this_figure.update_layout(\n",
    "        title_text=f\"{movie_name} Gender Statistics\")\n",
    "        # Add annotations in the center of the donut pies\n",
    "\n",
    "    #the subplot as shown in the above image\n",
    "    return this_figure"
   ]
  },
  {
   "cell_type": "code",
   "execution_count": 544,
   "id": "6846fe14",
   "metadata": {},
   "outputs": [
    {
     "data": {
      "application/vnd.plotly.v1+json": {
       "config": {
        "plotlyServerURL": "https://plot.ly"
       },
       "data": [
        {
         "hovertemplate": "gender=Man<br>Film length [minutes]=%{x}<br>Number of detected faces=%{marker.size}<extra></extra>",
         "legendgroup": "Man",
         "marker": {
          "color": "#636efa",
          "size": [
           3,
           23,
           52,
           24,
           24,
           45,
           14,
           21,
           23,
           30,
           5,
           39,
           17,
           18,
           35,
           39,
           73,
           46,
           25,
           28,
           14,
           23,
           32,
           9,
           6,
           26,
           14,
           14,
           22,
           50,
           35,
           40,
           32,
           51,
           38,
           31,
           52,
           30,
           41,
           31,
           24,
           27,
           32,
           7,
           42,
           31,
           29,
           37,
           42,
           40,
           24,
           22,
           38,
           87,
           31,
           20,
           6,
           9,
           6,
           1,
           6,
           18,
           7,
           10,
           37,
           36,
           44,
           39,
           34,
           12,
           16,
           17,
           3,
           24,
           23,
           44,
           6,
           39,
           26,
           18,
           5,
           6,
           4,
           4,
           4,
           13,
           24,
           41,
           36
          ],
          "sizemode": "area",
          "sizeref": 0.024166666666666666,
          "symbol": "circle"
         },
         "mode": "markers",
         "name": "Man",
         "orientation": "v",
         "showlegend": true,
         "type": "scatter",
         "x": [
          0,
          1,
          2,
          3,
          4,
          5,
          6,
          7,
          8,
          9,
          10,
          11,
          12,
          13,
          14,
          15,
          16,
          17,
          18,
          19,
          20,
          21,
          22,
          23,
          24,
          25,
          26,
          27,
          28,
          29,
          30,
          31,
          32,
          33,
          34,
          35,
          36,
          37,
          38,
          39,
          40,
          41,
          42,
          43,
          44,
          45,
          46,
          47,
          48,
          49,
          50,
          51,
          52,
          53,
          54,
          55,
          56,
          57,
          58,
          59,
          60,
          61,
          62,
          63,
          64,
          65,
          66,
          67,
          68,
          69,
          70,
          71,
          72,
          73,
          74,
          75,
          76,
          77,
          78,
          79,
          80,
          81,
          82,
          83,
          84,
          85,
          86,
          87,
          88
         ],
         "xaxis": "x",
         "y": [
          3,
          23,
          52,
          24,
          24,
          45,
          14,
          21,
          23,
          30,
          5,
          39,
          17,
          18,
          35,
          39,
          73,
          46,
          25,
          28,
          14,
          23,
          32,
          9,
          6,
          26,
          14,
          14,
          22,
          50,
          35,
          40,
          32,
          51,
          38,
          31,
          52,
          30,
          41,
          31,
          24,
          27,
          32,
          7,
          42,
          31,
          29,
          37,
          42,
          40,
          24,
          22,
          38,
          87,
          31,
          20,
          6,
          9,
          6,
          1,
          6,
          18,
          7,
          10,
          37,
          36,
          44,
          39,
          34,
          12,
          16,
          17,
          3,
          24,
          23,
          44,
          6,
          39,
          26,
          18,
          5,
          6,
          4,
          4,
          4,
          13,
          24,
          41,
          36
         ],
         "yaxis": "y"
        },
        {
         "hovertemplate": "gender=Woman<br>Film length [minutes]=%{x}<br>Number of detected faces=%{marker.size}<extra></extra>",
         "legendgroup": "Woman",
         "marker": {
          "color": "#EF553B",
          "size": [
           5,
           8,
           2,
           2,
           1,
           3,
           4,
           12,
           5,
           1,
           10,
           12,
           11,
           7,
           5,
           4,
           5,
           4,
           3,
           12,
           10,
           7,
           1,
           1,
           1,
           8,
           12,
           17,
           9,
           16,
           2,
           9,
           8,
           5,
           5,
           1,
           6,
           3,
           1,
           16,
           14,
           18,
           4,
           5,
           18,
           9,
           6,
           1,
           6,
           3,
           1,
           9,
           7,
           3,
           7,
           2,
           1,
           1,
           8,
           1,
           3,
           1,
           3,
           2,
           1,
           5,
           5
          ],
          "sizemode": "area",
          "sizeref": 0.024166666666666666,
          "symbol": "circle"
         },
         "mode": "markers",
         "name": "Woman",
         "orientation": "v",
         "showlegend": true,
         "type": "scatter",
         "x": [
          2,
          3,
          4,
          5,
          6,
          10,
          11,
          13,
          14,
          15,
          16,
          17,
          18,
          19,
          20,
          21,
          22,
          24,
          25,
          26,
          27,
          28,
          29,
          30,
          31,
          32,
          33,
          34,
          35,
          36,
          38,
          39,
          40,
          41,
          42,
          43,
          44,
          45,
          47,
          48,
          49,
          50,
          51,
          52,
          53,
          54,
          55,
          59,
          60,
          62,
          63,
          64,
          65,
          66,
          68,
          71,
          72,
          74,
          75,
          76,
          77,
          79,
          80,
          85,
          86,
          87,
          88
         ],
         "xaxis": "x",
         "y": [
          5,
          8,
          2,
          2,
          1,
          3,
          4,
          12,
          5,
          1,
          10,
          12,
          11,
          7,
          5,
          4,
          5,
          4,
          3,
          12,
          10,
          7,
          1,
          1,
          1,
          8,
          12,
          17,
          9,
          16,
          2,
          9,
          8,
          5,
          5,
          1,
          6,
          3,
          1,
          16,
          14,
          18,
          4,
          5,
          18,
          9,
          6,
          1,
          6,
          3,
          1,
          9,
          7,
          3,
          7,
          2,
          1,
          1,
          8,
          1,
          3,
          1,
          3,
          2,
          1,
          5,
          5
         ],
         "yaxis": "y"
        },
        {
         "alignmentgroup": "True",
         "hovertemplate": "=%{x}<br>Screentime [%]=%{y}<extra></extra>",
         "legendgroup": "asian_screentime",
         "marker": {
          "color": "#636efa",
          "pattern": {
           "shape": ""
          }
         },
         "name": "asian_screentime",
         "offsetgroup": "asian_screentime",
         "orientation": "v",
         "showlegend": true,
         "textposition": "auto",
         "type": "bar",
         "x": [
          "asian_screentime"
         ],
         "xaxis": "x2",
         "y": [
          3.0469897209985315
         ],
         "yaxis": "y2"
        },
        {
         "alignmentgroup": "True",
         "hovertemplate": "=%{x}<br>Screentime [%]=%{y}<extra></extra>",
         "legendgroup": "black_screentime",
         "marker": {
          "color": "#EF553B",
          "pattern": {
           "shape": ""
          }
         },
         "name": "black_screentime",
         "offsetgroup": "black_screentime",
         "orientation": "v",
         "showlegend": true,
         "textposition": "auto",
         "type": "bar",
         "x": [
          "black_screentime"
         ],
         "xaxis": "x2",
         "y": [
          1.3215859030837005
         ],
         "yaxis": "y2"
        },
        {
         "alignmentgroup": "True",
         "hovertemplate": "=%{x}<br>Screentime [%]=%{y}<extra></extra>",
         "legendgroup": "indian_screentime",
         "marker": {
          "color": "#00cc96",
          "pattern": {
           "shape": ""
          }
         },
         "name": "indian_screentime",
         "offsetgroup": "indian_screentime",
         "orientation": "v",
         "showlegend": true,
         "textposition": "auto",
         "type": "bar",
         "x": [
          "indian_screentime"
         ],
         "xaxis": "x2",
         "y": [
          0.7342143906020557
         ],
         "yaxis": "y2"
        },
        {
         "alignmentgroup": "True",
         "hovertemplate": "=%{x}<br>Screentime [%]=%{y}<extra></extra>",
         "legendgroup": "latino_hispanic_screentime",
         "marker": {
          "color": "#ab63fa",
          "pattern": {
           "shape": ""
          }
         },
         "name": "latino_hispanic_screentime",
         "offsetgroup": "latino_hispanic_screentime",
         "orientation": "v",
         "showlegend": true,
         "textposition": "auto",
         "type": "bar",
         "x": [
          "latino_hispanic_screentime"
         ],
         "xaxis": "x2",
         "y": [
          4.038179148311307
         ],
         "yaxis": "y2"
        },
        {
         "alignmentgroup": "True",
         "hovertemplate": "=%{x}<br>Screentime [%]=%{y}<extra></extra>",
         "legendgroup": "middle_eastern_screentime",
         "marker": {
          "color": "#FFA15A",
          "pattern": {
           "shape": ""
          }
         },
         "name": "middle_eastern_screentime",
         "offsetgroup": "middle_eastern_screentime",
         "orientation": "v",
         "showlegend": true,
         "textposition": "auto",
         "type": "bar",
         "x": [
          "middle_eastern_screentime"
         ],
         "xaxis": "x2",
         "y": [
          2.5330396475770924
         ],
         "yaxis": "y2"
        },
        {
         "alignmentgroup": "True",
         "hovertemplate": "=%{x}<br>Screentime [%]=%{y}<extra></extra>",
         "legendgroup": "white_screentime",
         "marker": {
          "color": "#19d3f3",
          "pattern": {
           "shape": ""
          }
         },
         "name": "white_screentime",
         "offsetgroup": "white_screentime",
         "orientation": "v",
         "showlegend": true,
         "textposition": "auto",
         "type": "bar",
         "x": [
          "white_screentime"
         ],
         "xaxis": "x2",
         "y": [
          88.32599118942731
         ],
         "yaxis": "y2"
        },
        {
         "alignmentgroup": "True",
         "hovertemplate": "=%{x}<br>Screentime [%]=%{y}<extra></extra>",
         "legendgroup": "man_screentime",
         "marker": {
          "color": "#636efa",
          "pattern": {
           "shape": ""
          }
         },
         "name": "man_screentime",
         "offsetgroup": "man_screentime",
         "orientation": "v",
         "showlegend": true,
         "textposition": "auto",
         "type": "bar",
         "x": [
          "man_screentime"
         ],
         "xaxis": "x3",
         "y": [
          85.38913362701909
         ],
         "yaxis": "y3"
        },
        {
         "alignmentgroup": "True",
         "hovertemplate": "=%{x}<br>Screentime [%]=%{y}<extra></extra>",
         "legendgroup": "woman_screentime",
         "marker": {
          "color": "#EF553B",
          "pattern": {
           "shape": ""
          }
         },
         "name": "woman_screentime",
         "offsetgroup": "woman_screentime",
         "orientation": "v",
         "showlegend": true,
         "textposition": "auto",
         "type": "bar",
         "x": [
          "woman_screentime"
         ],
         "xaxis": "x3",
         "y": [
          14.61086637298091
         ],
         "yaxis": "y3"
        }
       ],
       "layout": {
        "height": 900,
        "template": {
         "data": {
          "bar": [
           {
            "error_x": {
             "color": "#2a3f5f"
            },
            "error_y": {
             "color": "#2a3f5f"
            },
            "marker": {
             "line": {
              "color": "#E5ECF6",
              "width": 0.5
             },
             "pattern": {
              "fillmode": "overlay",
              "size": 10,
              "solidity": 0.2
             }
            },
            "type": "bar"
           }
          ],
          "barpolar": [
           {
            "marker": {
             "line": {
              "color": "#E5ECF6",
              "width": 0.5
             },
             "pattern": {
              "fillmode": "overlay",
              "size": 10,
              "solidity": 0.2
             }
            },
            "type": "barpolar"
           }
          ],
          "carpet": [
           {
            "aaxis": {
             "endlinecolor": "#2a3f5f",
             "gridcolor": "white",
             "linecolor": "white",
             "minorgridcolor": "white",
             "startlinecolor": "#2a3f5f"
            },
            "baxis": {
             "endlinecolor": "#2a3f5f",
             "gridcolor": "white",
             "linecolor": "white",
             "minorgridcolor": "white",
             "startlinecolor": "#2a3f5f"
            },
            "type": "carpet"
           }
          ],
          "choropleth": [
           {
            "colorbar": {
             "outlinewidth": 0,
             "ticks": ""
            },
            "type": "choropleth"
           }
          ],
          "contour": [
           {
            "colorbar": {
             "outlinewidth": 0,
             "ticks": ""
            },
            "colorscale": [
             [
              0,
              "#0d0887"
             ],
             [
              0.1111111111111111,
              "#46039f"
             ],
             [
              0.2222222222222222,
              "#7201a8"
             ],
             [
              0.3333333333333333,
              "#9c179e"
             ],
             [
              0.4444444444444444,
              "#bd3786"
             ],
             [
              0.5555555555555556,
              "#d8576b"
             ],
             [
              0.6666666666666666,
              "#ed7953"
             ],
             [
              0.7777777777777778,
              "#fb9f3a"
             ],
             [
              0.8888888888888888,
              "#fdca26"
             ],
             [
              1,
              "#f0f921"
             ]
            ],
            "type": "contour"
           }
          ],
          "contourcarpet": [
           {
            "colorbar": {
             "outlinewidth": 0,
             "ticks": ""
            },
            "type": "contourcarpet"
           }
          ],
          "heatmap": [
           {
            "colorbar": {
             "outlinewidth": 0,
             "ticks": ""
            },
            "colorscale": [
             [
              0,
              "#0d0887"
             ],
             [
              0.1111111111111111,
              "#46039f"
             ],
             [
              0.2222222222222222,
              "#7201a8"
             ],
             [
              0.3333333333333333,
              "#9c179e"
             ],
             [
              0.4444444444444444,
              "#bd3786"
             ],
             [
              0.5555555555555556,
              "#d8576b"
             ],
             [
              0.6666666666666666,
              "#ed7953"
             ],
             [
              0.7777777777777778,
              "#fb9f3a"
             ],
             [
              0.8888888888888888,
              "#fdca26"
             ],
             [
              1,
              "#f0f921"
             ]
            ],
            "type": "heatmap"
           }
          ],
          "heatmapgl": [
           {
            "colorbar": {
             "outlinewidth": 0,
             "ticks": ""
            },
            "colorscale": [
             [
              0,
              "#0d0887"
             ],
             [
              0.1111111111111111,
              "#46039f"
             ],
             [
              0.2222222222222222,
              "#7201a8"
             ],
             [
              0.3333333333333333,
              "#9c179e"
             ],
             [
              0.4444444444444444,
              "#bd3786"
             ],
             [
              0.5555555555555556,
              "#d8576b"
             ],
             [
              0.6666666666666666,
              "#ed7953"
             ],
             [
              0.7777777777777778,
              "#fb9f3a"
             ],
             [
              0.8888888888888888,
              "#fdca26"
             ],
             [
              1,
              "#f0f921"
             ]
            ],
            "type": "heatmapgl"
           }
          ],
          "histogram": [
           {
            "marker": {
             "pattern": {
              "fillmode": "overlay",
              "size": 10,
              "solidity": 0.2
             }
            },
            "type": "histogram"
           }
          ],
          "histogram2d": [
           {
            "colorbar": {
             "outlinewidth": 0,
             "ticks": ""
            },
            "colorscale": [
             [
              0,
              "#0d0887"
             ],
             [
              0.1111111111111111,
              "#46039f"
             ],
             [
              0.2222222222222222,
              "#7201a8"
             ],
             [
              0.3333333333333333,
              "#9c179e"
             ],
             [
              0.4444444444444444,
              "#bd3786"
             ],
             [
              0.5555555555555556,
              "#d8576b"
             ],
             [
              0.6666666666666666,
              "#ed7953"
             ],
             [
              0.7777777777777778,
              "#fb9f3a"
             ],
             [
              0.8888888888888888,
              "#fdca26"
             ],
             [
              1,
              "#f0f921"
             ]
            ],
            "type": "histogram2d"
           }
          ],
          "histogram2dcontour": [
           {
            "colorbar": {
             "outlinewidth": 0,
             "ticks": ""
            },
            "colorscale": [
             [
              0,
              "#0d0887"
             ],
             [
              0.1111111111111111,
              "#46039f"
             ],
             [
              0.2222222222222222,
              "#7201a8"
             ],
             [
              0.3333333333333333,
              "#9c179e"
             ],
             [
              0.4444444444444444,
              "#bd3786"
             ],
             [
              0.5555555555555556,
              "#d8576b"
             ],
             [
              0.6666666666666666,
              "#ed7953"
             ],
             [
              0.7777777777777778,
              "#fb9f3a"
             ],
             [
              0.8888888888888888,
              "#fdca26"
             ],
             [
              1,
              "#f0f921"
             ]
            ],
            "type": "histogram2dcontour"
           }
          ],
          "mesh3d": [
           {
            "colorbar": {
             "outlinewidth": 0,
             "ticks": ""
            },
            "type": "mesh3d"
           }
          ],
          "parcoords": [
           {
            "line": {
             "colorbar": {
              "outlinewidth": 0,
              "ticks": ""
             }
            },
            "type": "parcoords"
           }
          ],
          "pie": [
           {
            "automargin": true,
            "type": "pie"
           }
          ],
          "scatter": [
           {
            "marker": {
             "colorbar": {
              "outlinewidth": 0,
              "ticks": ""
             }
            },
            "type": "scatter"
           }
          ],
          "scatter3d": [
           {
            "line": {
             "colorbar": {
              "outlinewidth": 0,
              "ticks": ""
             }
            },
            "marker": {
             "colorbar": {
              "outlinewidth": 0,
              "ticks": ""
             }
            },
            "type": "scatter3d"
           }
          ],
          "scattercarpet": [
           {
            "marker": {
             "colorbar": {
              "outlinewidth": 0,
              "ticks": ""
             }
            },
            "type": "scattercarpet"
           }
          ],
          "scattergeo": [
           {
            "marker": {
             "colorbar": {
              "outlinewidth": 0,
              "ticks": ""
             }
            },
            "type": "scattergeo"
           }
          ],
          "scattergl": [
           {
            "marker": {
             "colorbar": {
              "outlinewidth": 0,
              "ticks": ""
             }
            },
            "type": "scattergl"
           }
          ],
          "scattermapbox": [
           {
            "marker": {
             "colorbar": {
              "outlinewidth": 0,
              "ticks": ""
             }
            },
            "type": "scattermapbox"
           }
          ],
          "scatterpolar": [
           {
            "marker": {
             "colorbar": {
              "outlinewidth": 0,
              "ticks": ""
             }
            },
            "type": "scatterpolar"
           }
          ],
          "scatterpolargl": [
           {
            "marker": {
             "colorbar": {
              "outlinewidth": 0,
              "ticks": ""
             }
            },
            "type": "scatterpolargl"
           }
          ],
          "scatterternary": [
           {
            "marker": {
             "colorbar": {
              "outlinewidth": 0,
              "ticks": ""
             }
            },
            "type": "scatterternary"
           }
          ],
          "surface": [
           {
            "colorbar": {
             "outlinewidth": 0,
             "ticks": ""
            },
            "colorscale": [
             [
              0,
              "#0d0887"
             ],
             [
              0.1111111111111111,
              "#46039f"
             ],
             [
              0.2222222222222222,
              "#7201a8"
             ],
             [
              0.3333333333333333,
              "#9c179e"
             ],
             [
              0.4444444444444444,
              "#bd3786"
             ],
             [
              0.5555555555555556,
              "#d8576b"
             ],
             [
              0.6666666666666666,
              "#ed7953"
             ],
             [
              0.7777777777777778,
              "#fb9f3a"
             ],
             [
              0.8888888888888888,
              "#fdca26"
             ],
             [
              1,
              "#f0f921"
             ]
            ],
            "type": "surface"
           }
          ],
          "table": [
           {
            "cells": {
             "fill": {
              "color": "#EBF0F8"
             },
             "line": {
              "color": "white"
             }
            },
            "header": {
             "fill": {
              "color": "#C8D4E3"
             },
             "line": {
              "color": "white"
             }
            },
            "type": "table"
           }
          ]
         },
         "layout": {
          "annotationdefaults": {
           "arrowcolor": "#2a3f5f",
           "arrowhead": 0,
           "arrowwidth": 1
          },
          "autotypenumbers": "strict",
          "coloraxis": {
           "colorbar": {
            "outlinewidth": 0,
            "ticks": ""
           }
          },
          "colorscale": {
           "diverging": [
            [
             0,
             "#8e0152"
            ],
            [
             0.1,
             "#c51b7d"
            ],
            [
             0.2,
             "#de77ae"
            ],
            [
             0.3,
             "#f1b6da"
            ],
            [
             0.4,
             "#fde0ef"
            ],
            [
             0.5,
             "#f7f7f7"
            ],
            [
             0.6,
             "#e6f5d0"
            ],
            [
             0.7,
             "#b8e186"
            ],
            [
             0.8,
             "#7fbc41"
            ],
            [
             0.9,
             "#4d9221"
            ],
            [
             1,
             "#276419"
            ]
           ],
           "sequential": [
            [
             0,
             "#0d0887"
            ],
            [
             0.1111111111111111,
             "#46039f"
            ],
            [
             0.2222222222222222,
             "#7201a8"
            ],
            [
             0.3333333333333333,
             "#9c179e"
            ],
            [
             0.4444444444444444,
             "#bd3786"
            ],
            [
             0.5555555555555556,
             "#d8576b"
            ],
            [
             0.6666666666666666,
             "#ed7953"
            ],
            [
             0.7777777777777778,
             "#fb9f3a"
            ],
            [
             0.8888888888888888,
             "#fdca26"
            ],
            [
             1,
             "#f0f921"
            ]
           ],
           "sequentialminus": [
            [
             0,
             "#0d0887"
            ],
            [
             0.1111111111111111,
             "#46039f"
            ],
            [
             0.2222222222222222,
             "#7201a8"
            ],
            [
             0.3333333333333333,
             "#9c179e"
            ],
            [
             0.4444444444444444,
             "#bd3786"
            ],
            [
             0.5555555555555556,
             "#d8576b"
            ],
            [
             0.6666666666666666,
             "#ed7953"
            ],
            [
             0.7777777777777778,
             "#fb9f3a"
            ],
            [
             0.8888888888888888,
             "#fdca26"
            ],
            [
             1,
             "#f0f921"
            ]
           ]
          },
          "colorway": [
           "#636efa",
           "#EF553B",
           "#00cc96",
           "#ab63fa",
           "#FFA15A",
           "#19d3f3",
           "#FF6692",
           "#B6E880",
           "#FF97FF",
           "#FECB52"
          ],
          "font": {
           "color": "#2a3f5f"
          },
          "geo": {
           "bgcolor": "white",
           "lakecolor": "white",
           "landcolor": "#E5ECF6",
           "showlakes": true,
           "showland": true,
           "subunitcolor": "white"
          },
          "hoverlabel": {
           "align": "left"
          },
          "hovermode": "closest",
          "mapbox": {
           "style": "light"
          },
          "paper_bgcolor": "white",
          "plot_bgcolor": "#E5ECF6",
          "polar": {
           "angularaxis": {
            "gridcolor": "white",
            "linecolor": "white",
            "ticks": ""
           },
           "bgcolor": "#E5ECF6",
           "radialaxis": {
            "gridcolor": "white",
            "linecolor": "white",
            "ticks": ""
           }
          },
          "scene": {
           "xaxis": {
            "backgroundcolor": "#E5ECF6",
            "gridcolor": "white",
            "gridwidth": 2,
            "linecolor": "white",
            "showbackground": true,
            "ticks": "",
            "zerolinecolor": "white"
           },
           "yaxis": {
            "backgroundcolor": "#E5ECF6",
            "gridcolor": "white",
            "gridwidth": 2,
            "linecolor": "white",
            "showbackground": true,
            "ticks": "",
            "zerolinecolor": "white"
           },
           "zaxis": {
            "backgroundcolor": "#E5ECF6",
            "gridcolor": "white",
            "gridwidth": 2,
            "linecolor": "white",
            "showbackground": true,
            "ticks": "",
            "zerolinecolor": "white"
           }
          },
          "shapedefaults": {
           "line": {
            "color": "#2a3f5f"
           }
          },
          "ternary": {
           "aaxis": {
            "gridcolor": "white",
            "linecolor": "white",
            "ticks": ""
           },
           "baxis": {
            "gridcolor": "white",
            "linecolor": "white",
            "ticks": ""
           },
           "bgcolor": "#E5ECF6",
           "caxis": {
            "gridcolor": "white",
            "linecolor": "white",
            "ticks": ""
           }
          },
          "title": {
           "x": 0.05
          },
          "xaxis": {
           "automargin": true,
           "gridcolor": "white",
           "linecolor": "white",
           "ticks": "",
           "title": {
            "standoff": 15
           },
           "zerolinecolor": "white",
           "zerolinewidth": 2
          },
          "yaxis": {
           "automargin": true,
           "gridcolor": "white",
           "linecolor": "white",
           "ticks": "",
           "title": {
            "standoff": 15
           },
           "zerolinecolor": "white",
           "zerolinewidth": 2
          }
         }
        },
        "title": {
         "text": "102_Dalmatians_(2000) Gender Statistics"
        },
        "uniformtext": {
         "minsize": 15
        },
        "width": 1100,
        "xaxis": {
         "anchor": "y",
         "domain": [
          0,
          1
         ]
        },
        "xaxis2": {
         "anchor": "y2",
         "domain": [
          0,
          0.45
         ]
        },
        "xaxis3": {
         "anchor": "y3",
         "domain": [
          0.55,
          1
         ]
        },
        "yaxis": {
         "anchor": "x",
         "domain": [
          0.575,
          1
         ]
        },
        "yaxis2": {
         "anchor": "x2",
         "domain": [
          0,
          0.425
         ]
        },
        "yaxis3": {
         "anchor": "x3",
         "domain": [
          0,
          0.425
         ]
        }
       }
      },
      "text/html": [
       "<div>                            <div id=\"08f525e9-26db-49fb-b350-295f5cac1dc1\" class=\"plotly-graph-div\" style=\"height:900px; width:1100px;\"></div>            <script type=\"text/javascript\">                require([\"plotly\"], function(Plotly) {                    window.PLOTLYENV=window.PLOTLYENV || {};                                    if (document.getElementById(\"08f525e9-26db-49fb-b350-295f5cac1dc1\")) {                    Plotly.newPlot(                        \"08f525e9-26db-49fb-b350-295f5cac1dc1\",                        [{\"hovertemplate\":\"gender=Man<br>Film length [minutes]=%{x}<br>Number of detected faces=%{marker.size}<extra></extra>\",\"legendgroup\":\"Man\",\"marker\":{\"color\":\"#636efa\",\"size\":[3,23,52,24,24,45,14,21,23,30,5,39,17,18,35,39,73,46,25,28,14,23,32,9,6,26,14,14,22,50,35,40,32,51,38,31,52,30,41,31,24,27,32,7,42,31,29,37,42,40,24,22,38,87,31,20,6,9,6,1,6,18,7,10,37,36,44,39,34,12,16,17,3,24,23,44,6,39,26,18,5,6,4,4,4,13,24,41,36],\"sizemode\":\"area\",\"sizeref\":0.024166666666666666,\"symbol\":\"circle\"},\"mode\":\"markers\",\"name\":\"Man\",\"orientation\":\"v\",\"showlegend\":true,\"type\":\"scatter\",\"x\":[0.0,1.0,2.0,3.0,4.0,5.0,6.0,7.0,8.0,9.0,10.0,11.0,12.0,13.0,14.0,15.0,16.0,17.0,18.0,19.0,20.0,21.0,22.0,23.0,24.0,25.0,26.0,27.0,28.0,29.0,30.0,31.0,32.0,33.0,34.0,35.0,36.0,37.0,38.0,39.0,40.0,41.0,42.0,43.0,44.0,45.0,46.0,47.0,48.0,49.0,50.0,51.0,52.0,53.0,54.0,55.0,56.0,57.0,58.0,59.0,60.0,61.0,62.0,63.0,64.0,65.0,66.0,67.0,68.0,69.0,70.0,71.0,72.0,73.0,74.0,75.0,76.0,77.0,78.0,79.0,80.0,81.0,82.0,83.0,84.0,85.0,86.0,87.0,88.0],\"xaxis\":\"x\",\"y\":[3,23,52,24,24,45,14,21,23,30,5,39,17,18,35,39,73,46,25,28,14,23,32,9,6,26,14,14,22,50,35,40,32,51,38,31,52,30,41,31,24,27,32,7,42,31,29,37,42,40,24,22,38,87,31,20,6,9,6,1,6,18,7,10,37,36,44,39,34,12,16,17,3,24,23,44,6,39,26,18,5,6,4,4,4,13,24,41,36],\"yaxis\":\"y\"},{\"hovertemplate\":\"gender=Woman<br>Film length [minutes]=%{x}<br>Number of detected faces=%{marker.size}<extra></extra>\",\"legendgroup\":\"Woman\",\"marker\":{\"color\":\"#EF553B\",\"size\":[5,8,2,2,1,3,4,12,5,1,10,12,11,7,5,4,5,4,3,12,10,7,1,1,1,8,12,17,9,16,2,9,8,5,5,1,6,3,1,16,14,18,4,5,18,9,6,1,6,3,1,9,7,3,7,2,1,1,8,1,3,1,3,2,1,5,5],\"sizemode\":\"area\",\"sizeref\":0.024166666666666666,\"symbol\":\"circle\"},\"mode\":\"markers\",\"name\":\"Woman\",\"orientation\":\"v\",\"showlegend\":true,\"type\":\"scatter\",\"x\":[2.0,3.0,4.0,5.0,6.0,10.0,11.0,13.0,14.0,15.0,16.0,17.0,18.0,19.0,20.0,21.0,22.0,24.0,25.0,26.0,27.0,28.0,29.0,30.0,31.0,32.0,33.0,34.0,35.0,36.0,38.0,39.0,40.0,41.0,42.0,43.0,44.0,45.0,47.0,48.0,49.0,50.0,51.0,52.0,53.0,54.0,55.0,59.0,60.0,62.0,63.0,64.0,65.0,66.0,68.0,71.0,72.0,74.0,75.0,76.0,77.0,79.0,80.0,85.0,86.0,87.0,88.0],\"xaxis\":\"x\",\"y\":[5,8,2,2,1,3,4,12,5,1,10,12,11,7,5,4,5,4,3,12,10,7,1,1,1,8,12,17,9,16,2,9,8,5,5,1,6,3,1,16,14,18,4,5,18,9,6,1,6,3,1,9,7,3,7,2,1,1,8,1,3,1,3,2,1,5,5],\"yaxis\":\"y\"},{\"alignmentgroup\":\"True\",\"hovertemplate\":\"=%{x}<br>Screentime [%]=%{y}<extra></extra>\",\"legendgroup\":\"asian_screentime\",\"marker\":{\"color\":\"#636efa\",\"pattern\":{\"shape\":\"\"}},\"name\":\"asian_screentime\",\"offsetgroup\":\"asian_screentime\",\"orientation\":\"v\",\"showlegend\":true,\"textposition\":\"auto\",\"type\":\"bar\",\"x\":[\"asian_screentime\"],\"xaxis\":\"x2\",\"y\":[3.0469897209985315],\"yaxis\":\"y2\"},{\"alignmentgroup\":\"True\",\"hovertemplate\":\"=%{x}<br>Screentime [%]=%{y}<extra></extra>\",\"legendgroup\":\"black_screentime\",\"marker\":{\"color\":\"#EF553B\",\"pattern\":{\"shape\":\"\"}},\"name\":\"black_screentime\",\"offsetgroup\":\"black_screentime\",\"orientation\":\"v\",\"showlegend\":true,\"textposition\":\"auto\",\"type\":\"bar\",\"x\":[\"black_screentime\"],\"xaxis\":\"x2\",\"y\":[1.3215859030837005],\"yaxis\":\"y2\"},{\"alignmentgroup\":\"True\",\"hovertemplate\":\"=%{x}<br>Screentime [%]=%{y}<extra></extra>\",\"legendgroup\":\"indian_screentime\",\"marker\":{\"color\":\"#00cc96\",\"pattern\":{\"shape\":\"\"}},\"name\":\"indian_screentime\",\"offsetgroup\":\"indian_screentime\",\"orientation\":\"v\",\"showlegend\":true,\"textposition\":\"auto\",\"type\":\"bar\",\"x\":[\"indian_screentime\"],\"xaxis\":\"x2\",\"y\":[0.7342143906020557],\"yaxis\":\"y2\"},{\"alignmentgroup\":\"True\",\"hovertemplate\":\"=%{x}<br>Screentime [%]=%{y}<extra></extra>\",\"legendgroup\":\"latino_hispanic_screentime\",\"marker\":{\"color\":\"#ab63fa\",\"pattern\":{\"shape\":\"\"}},\"name\":\"latino_hispanic_screentime\",\"offsetgroup\":\"latino_hispanic_screentime\",\"orientation\":\"v\",\"showlegend\":true,\"textposition\":\"auto\",\"type\":\"bar\",\"x\":[\"latino_hispanic_screentime\"],\"xaxis\":\"x2\",\"y\":[4.038179148311307],\"yaxis\":\"y2\"},{\"alignmentgroup\":\"True\",\"hovertemplate\":\"=%{x}<br>Screentime [%]=%{y}<extra></extra>\",\"legendgroup\":\"middle_eastern_screentime\",\"marker\":{\"color\":\"#FFA15A\",\"pattern\":{\"shape\":\"\"}},\"name\":\"middle_eastern_screentime\",\"offsetgroup\":\"middle_eastern_screentime\",\"orientation\":\"v\",\"showlegend\":true,\"textposition\":\"auto\",\"type\":\"bar\",\"x\":[\"middle_eastern_screentime\"],\"xaxis\":\"x2\",\"y\":[2.5330396475770924],\"yaxis\":\"y2\"},{\"alignmentgroup\":\"True\",\"hovertemplate\":\"=%{x}<br>Screentime [%]=%{y}<extra></extra>\",\"legendgroup\":\"white_screentime\",\"marker\":{\"color\":\"#19d3f3\",\"pattern\":{\"shape\":\"\"}},\"name\":\"white_screentime\",\"offsetgroup\":\"white_screentime\",\"orientation\":\"v\",\"showlegend\":true,\"textposition\":\"auto\",\"type\":\"bar\",\"x\":[\"white_screentime\"],\"xaxis\":\"x2\",\"y\":[88.32599118942731],\"yaxis\":\"y2\"},{\"alignmentgroup\":\"True\",\"hovertemplate\":\"=%{x}<br>Screentime [%]=%{y}<extra></extra>\",\"legendgroup\":\"man_screentime\",\"marker\":{\"color\":\"#636efa\",\"pattern\":{\"shape\":\"\"}},\"name\":\"man_screentime\",\"offsetgroup\":\"man_screentime\",\"orientation\":\"v\",\"showlegend\":true,\"textposition\":\"auto\",\"type\":\"bar\",\"x\":[\"man_screentime\"],\"xaxis\":\"x3\",\"y\":[85.38913362701909],\"yaxis\":\"y3\"},{\"alignmentgroup\":\"True\",\"hovertemplate\":\"=%{x}<br>Screentime [%]=%{y}<extra></extra>\",\"legendgroup\":\"woman_screentime\",\"marker\":{\"color\":\"#EF553B\",\"pattern\":{\"shape\":\"\"}},\"name\":\"woman_screentime\",\"offsetgroup\":\"woman_screentime\",\"orientation\":\"v\",\"showlegend\":true,\"textposition\":\"auto\",\"type\":\"bar\",\"x\":[\"woman_screentime\"],\"xaxis\":\"x3\",\"y\":[14.61086637298091],\"yaxis\":\"y3\"}],                        {\"height\":900,\"template\":{\"data\":{\"bar\":[{\"error_x\":{\"color\":\"#2a3f5f\"},\"error_y\":{\"color\":\"#2a3f5f\"},\"marker\":{\"line\":{\"color\":\"#E5ECF6\",\"width\":0.5},\"pattern\":{\"fillmode\":\"overlay\",\"size\":10,\"solidity\":0.2}},\"type\":\"bar\"}],\"barpolar\":[{\"marker\":{\"line\":{\"color\":\"#E5ECF6\",\"width\":0.5},\"pattern\":{\"fillmode\":\"overlay\",\"size\":10,\"solidity\":0.2}},\"type\":\"barpolar\"}],\"carpet\":[{\"aaxis\":{\"endlinecolor\":\"#2a3f5f\",\"gridcolor\":\"white\",\"linecolor\":\"white\",\"minorgridcolor\":\"white\",\"startlinecolor\":\"#2a3f5f\"},\"baxis\":{\"endlinecolor\":\"#2a3f5f\",\"gridcolor\":\"white\",\"linecolor\":\"white\",\"minorgridcolor\":\"white\",\"startlinecolor\":\"#2a3f5f\"},\"type\":\"carpet\"}],\"choropleth\":[{\"colorbar\":{\"outlinewidth\":0,\"ticks\":\"\"},\"type\":\"choropleth\"}],\"contour\":[{\"colorbar\":{\"outlinewidth\":0,\"ticks\":\"\"},\"colorscale\":[[0.0,\"#0d0887\"],[0.1111111111111111,\"#46039f\"],[0.2222222222222222,\"#7201a8\"],[0.3333333333333333,\"#9c179e\"],[0.4444444444444444,\"#bd3786\"],[0.5555555555555556,\"#d8576b\"],[0.6666666666666666,\"#ed7953\"],[0.7777777777777778,\"#fb9f3a\"],[0.8888888888888888,\"#fdca26\"],[1.0,\"#f0f921\"]],\"type\":\"contour\"}],\"contourcarpet\":[{\"colorbar\":{\"outlinewidth\":0,\"ticks\":\"\"},\"type\":\"contourcarpet\"}],\"heatmap\":[{\"colorbar\":{\"outlinewidth\":0,\"ticks\":\"\"},\"colorscale\":[[0.0,\"#0d0887\"],[0.1111111111111111,\"#46039f\"],[0.2222222222222222,\"#7201a8\"],[0.3333333333333333,\"#9c179e\"],[0.4444444444444444,\"#bd3786\"],[0.5555555555555556,\"#d8576b\"],[0.6666666666666666,\"#ed7953\"],[0.7777777777777778,\"#fb9f3a\"],[0.8888888888888888,\"#fdca26\"],[1.0,\"#f0f921\"]],\"type\":\"heatmap\"}],\"heatmapgl\":[{\"colorbar\":{\"outlinewidth\":0,\"ticks\":\"\"},\"colorscale\":[[0.0,\"#0d0887\"],[0.1111111111111111,\"#46039f\"],[0.2222222222222222,\"#7201a8\"],[0.3333333333333333,\"#9c179e\"],[0.4444444444444444,\"#bd3786\"],[0.5555555555555556,\"#d8576b\"],[0.6666666666666666,\"#ed7953\"],[0.7777777777777778,\"#fb9f3a\"],[0.8888888888888888,\"#fdca26\"],[1.0,\"#f0f921\"]],\"type\":\"heatmapgl\"}],\"histogram\":[{\"marker\":{\"pattern\":{\"fillmode\":\"overlay\",\"size\":10,\"solidity\":0.2}},\"type\":\"histogram\"}],\"histogram2d\":[{\"colorbar\":{\"outlinewidth\":0,\"ticks\":\"\"},\"colorscale\":[[0.0,\"#0d0887\"],[0.1111111111111111,\"#46039f\"],[0.2222222222222222,\"#7201a8\"],[0.3333333333333333,\"#9c179e\"],[0.4444444444444444,\"#bd3786\"],[0.5555555555555556,\"#d8576b\"],[0.6666666666666666,\"#ed7953\"],[0.7777777777777778,\"#fb9f3a\"],[0.8888888888888888,\"#fdca26\"],[1.0,\"#f0f921\"]],\"type\":\"histogram2d\"}],\"histogram2dcontour\":[{\"colorbar\":{\"outlinewidth\":0,\"ticks\":\"\"},\"colorscale\":[[0.0,\"#0d0887\"],[0.1111111111111111,\"#46039f\"],[0.2222222222222222,\"#7201a8\"],[0.3333333333333333,\"#9c179e\"],[0.4444444444444444,\"#bd3786\"],[0.5555555555555556,\"#d8576b\"],[0.6666666666666666,\"#ed7953\"],[0.7777777777777778,\"#fb9f3a\"],[0.8888888888888888,\"#fdca26\"],[1.0,\"#f0f921\"]],\"type\":\"histogram2dcontour\"}],\"mesh3d\":[{\"colorbar\":{\"outlinewidth\":0,\"ticks\":\"\"},\"type\":\"mesh3d\"}],\"parcoords\":[{\"line\":{\"colorbar\":{\"outlinewidth\":0,\"ticks\":\"\"}},\"type\":\"parcoords\"}],\"pie\":[{\"automargin\":true,\"type\":\"pie\"}],\"scatter\":[{\"marker\":{\"colorbar\":{\"outlinewidth\":0,\"ticks\":\"\"}},\"type\":\"scatter\"}],\"scatter3d\":[{\"line\":{\"colorbar\":{\"outlinewidth\":0,\"ticks\":\"\"}},\"marker\":{\"colorbar\":{\"outlinewidth\":0,\"ticks\":\"\"}},\"type\":\"scatter3d\"}],\"scattercarpet\":[{\"marker\":{\"colorbar\":{\"outlinewidth\":0,\"ticks\":\"\"}},\"type\":\"scattercarpet\"}],\"scattergeo\":[{\"marker\":{\"colorbar\":{\"outlinewidth\":0,\"ticks\":\"\"}},\"type\":\"scattergeo\"}],\"scattergl\":[{\"marker\":{\"colorbar\":{\"outlinewidth\":0,\"ticks\":\"\"}},\"type\":\"scattergl\"}],\"scattermapbox\":[{\"marker\":{\"colorbar\":{\"outlinewidth\":0,\"ticks\":\"\"}},\"type\":\"scattermapbox\"}],\"scatterpolar\":[{\"marker\":{\"colorbar\":{\"outlinewidth\":0,\"ticks\":\"\"}},\"type\":\"scatterpolar\"}],\"scatterpolargl\":[{\"marker\":{\"colorbar\":{\"outlinewidth\":0,\"ticks\":\"\"}},\"type\":\"scatterpolargl\"}],\"scatterternary\":[{\"marker\":{\"colorbar\":{\"outlinewidth\":0,\"ticks\":\"\"}},\"type\":\"scatterternary\"}],\"surface\":[{\"colorbar\":{\"outlinewidth\":0,\"ticks\":\"\"},\"colorscale\":[[0.0,\"#0d0887\"],[0.1111111111111111,\"#46039f\"],[0.2222222222222222,\"#7201a8\"],[0.3333333333333333,\"#9c179e\"],[0.4444444444444444,\"#bd3786\"],[0.5555555555555556,\"#d8576b\"],[0.6666666666666666,\"#ed7953\"],[0.7777777777777778,\"#fb9f3a\"],[0.8888888888888888,\"#fdca26\"],[1.0,\"#f0f921\"]],\"type\":\"surface\"}],\"table\":[{\"cells\":{\"fill\":{\"color\":\"#EBF0F8\"},\"line\":{\"color\":\"white\"}},\"header\":{\"fill\":{\"color\":\"#C8D4E3\"},\"line\":{\"color\":\"white\"}},\"type\":\"table\"}]},\"layout\":{\"annotationdefaults\":{\"arrowcolor\":\"#2a3f5f\",\"arrowhead\":0,\"arrowwidth\":1},\"autotypenumbers\":\"strict\",\"coloraxis\":{\"colorbar\":{\"outlinewidth\":0,\"ticks\":\"\"}},\"colorscale\":{\"diverging\":[[0,\"#8e0152\"],[0.1,\"#c51b7d\"],[0.2,\"#de77ae\"],[0.3,\"#f1b6da\"],[0.4,\"#fde0ef\"],[0.5,\"#f7f7f7\"],[0.6,\"#e6f5d0\"],[0.7,\"#b8e186\"],[0.8,\"#7fbc41\"],[0.9,\"#4d9221\"],[1,\"#276419\"]],\"sequential\":[[0.0,\"#0d0887\"],[0.1111111111111111,\"#46039f\"],[0.2222222222222222,\"#7201a8\"],[0.3333333333333333,\"#9c179e\"],[0.4444444444444444,\"#bd3786\"],[0.5555555555555556,\"#d8576b\"],[0.6666666666666666,\"#ed7953\"],[0.7777777777777778,\"#fb9f3a\"],[0.8888888888888888,\"#fdca26\"],[1.0,\"#f0f921\"]],\"sequentialminus\":[[0.0,\"#0d0887\"],[0.1111111111111111,\"#46039f\"],[0.2222222222222222,\"#7201a8\"],[0.3333333333333333,\"#9c179e\"],[0.4444444444444444,\"#bd3786\"],[0.5555555555555556,\"#d8576b\"],[0.6666666666666666,\"#ed7953\"],[0.7777777777777778,\"#fb9f3a\"],[0.8888888888888888,\"#fdca26\"],[1.0,\"#f0f921\"]]},\"colorway\":[\"#636efa\",\"#EF553B\",\"#00cc96\",\"#ab63fa\",\"#FFA15A\",\"#19d3f3\",\"#FF6692\",\"#B6E880\",\"#FF97FF\",\"#FECB52\"],\"font\":{\"color\":\"#2a3f5f\"},\"geo\":{\"bgcolor\":\"white\",\"lakecolor\":\"white\",\"landcolor\":\"#E5ECF6\",\"showlakes\":true,\"showland\":true,\"subunitcolor\":\"white\"},\"hoverlabel\":{\"align\":\"left\"},\"hovermode\":\"closest\",\"mapbox\":{\"style\":\"light\"},\"paper_bgcolor\":\"white\",\"plot_bgcolor\":\"#E5ECF6\",\"polar\":{\"angularaxis\":{\"gridcolor\":\"white\",\"linecolor\":\"white\",\"ticks\":\"\"},\"bgcolor\":\"#E5ECF6\",\"radialaxis\":{\"gridcolor\":\"white\",\"linecolor\":\"white\",\"ticks\":\"\"}},\"scene\":{\"xaxis\":{\"backgroundcolor\":\"#E5ECF6\",\"gridcolor\":\"white\",\"gridwidth\":2,\"linecolor\":\"white\",\"showbackground\":true,\"ticks\":\"\",\"zerolinecolor\":\"white\"},\"yaxis\":{\"backgroundcolor\":\"#E5ECF6\",\"gridcolor\":\"white\",\"gridwidth\":2,\"linecolor\":\"white\",\"showbackground\":true,\"ticks\":\"\",\"zerolinecolor\":\"white\"},\"zaxis\":{\"backgroundcolor\":\"#E5ECF6\",\"gridcolor\":\"white\",\"gridwidth\":2,\"linecolor\":\"white\",\"showbackground\":true,\"ticks\":\"\",\"zerolinecolor\":\"white\"}},\"shapedefaults\":{\"line\":{\"color\":\"#2a3f5f\"}},\"ternary\":{\"aaxis\":{\"gridcolor\":\"white\",\"linecolor\":\"white\",\"ticks\":\"\"},\"baxis\":{\"gridcolor\":\"white\",\"linecolor\":\"white\",\"ticks\":\"\"},\"bgcolor\":\"#E5ECF6\",\"caxis\":{\"gridcolor\":\"white\",\"linecolor\":\"white\",\"ticks\":\"\"}},\"title\":{\"x\":0.05},\"xaxis\":{\"automargin\":true,\"gridcolor\":\"white\",\"linecolor\":\"white\",\"ticks\":\"\",\"title\":{\"standoff\":15},\"zerolinecolor\":\"white\",\"zerolinewidth\":2},\"yaxis\":{\"automargin\":true,\"gridcolor\":\"white\",\"linecolor\":\"white\",\"ticks\":\"\",\"title\":{\"standoff\":15},\"zerolinecolor\":\"white\",\"zerolinewidth\":2}}},\"title\":{\"text\":\"102_Dalmatians_(2000) Gender Statistics\"},\"uniformtext\":{\"minsize\":15},\"width\":1100,\"xaxis\":{\"anchor\":\"y\",\"domain\":[0.0,1.0]},\"xaxis2\":{\"anchor\":\"y2\",\"domain\":[0.0,0.45]},\"xaxis3\":{\"anchor\":\"y3\",\"domain\":[0.55,1.0]},\"yaxis\":{\"anchor\":\"x\",\"domain\":[0.575,1.0]},\"yaxis2\":{\"anchor\":\"x2\",\"domain\":[0.0,0.425]},\"yaxis3\":{\"anchor\":\"x3\",\"domain\":[0.0,0.425]}},                        {\"responsive\": true}                    ).then(function(){\n",
       "                            \n",
       "var gd = document.getElementById('08f525e9-26db-49fb-b350-295f5cac1dc1');\n",
       "var x = new MutationObserver(function (mutations, observer) {{\n",
       "        var display = window.getComputedStyle(gd).display;\n",
       "        if (!display || display === 'none') {{\n",
       "            console.log([gd, 'removed!']);\n",
       "            Plotly.purge(gd);\n",
       "            observer.disconnect();\n",
       "        }}\n",
       "}});\n",
       "\n",
       "// Listen for the removal of the full notebook cells\n",
       "var notebookContainer = gd.closest('#notebook-container');\n",
       "if (notebookContainer) {{\n",
       "    x.observe(notebookContainer, {childList: true});\n",
       "}}\n",
       "\n",
       "// Listen for the clearing of the current output cell\n",
       "var outputEl = gd.closest('.output');\n",
       "if (outputEl) {{\n",
       "    x.observe(outputEl, {childList: true});\n",
       "}}\n",
       "\n",
       "                        })                };                });            </script>        </div>"
      ]
     },
     "metadata": {},
     "output_type": "display_data"
    }
   ],
   "source": [
    "dashboard_gender(\"102 Dalmatians (2000)\")"
   ]
  },
  {
   "cell_type": "markdown",
   "id": "f10e90f2",
   "metadata": {},
   "source": [
    "## Horizontal bar plot of movies with the most number of women on screen"
   ]
  },
  {
   "cell_type": "code",
   "execution_count": 551,
   "id": "2c94c135",
   "metadata": {},
   "outputs": [],
   "source": [
    "from sklearn.preprocessing import OneHotEncoder\n"
   ]
  },
  {
   "cell_type": "code",
   "execution_count": 552,
   "id": "0f75d854",
   "metadata": {},
   "outputs": [],
   "source": [
    "def output_preproc(df):\n",
    "    '''One Hot Encodes gender and race data from output dataframe'''\n",
    "    ohe_g = OneHotEncoder(sparse=False)\n",
    "\n",
    "    ohe_g.fit(df[['gender']])\n",
    "    gender_encoded = ohe_g.transform(df[['gender']])\n",
    "    results_g = gender_encoded.T\n",
    "\n",
    "    for i, cat in enumerate(ohe_g.categories_[0]):\n",
    "        df[cat] = results_g[i]\n",
    "\n",
    "    ohe_r = OneHotEncoder(sparse=False)\n",
    "\n",
    "    ohe_r.fit(df[['race']])\n",
    "    race_encoded = ohe_r.transform(df[['race']])\n",
    "    results_r = race_encoded.T\n",
    "\n",
    "    for i, cat in enumerate(ohe_r.categories_[0]):\n",
    "        df[cat] = results_r[i]\n",
    "\n",
    "    return df\n",
    "\n",
    "\n",
    "def woman_of_color(x):\n",
    "    if 'Woman' in x and 'white' not in x:\n",
    "        return 1\n",
    "    return 0"
   ]
  },
  {
   "cell_type": "code",
   "execution_count": 571,
   "id": "a184dc23",
   "metadata": {},
   "outputs": [],
   "source": [
    "def baseline_stats(df):\n",
    "    '''Creates a dataframe of engineered/composite features from preprocessed output'''\n",
    "    df_new = output_preproc(df)\n",
    "\n",
    "    df_new['women_of_color'] = df_new['gender'] + ' ' + df_new['race']\n",
    "    df_new['women_of_color'] = df_new['women_of_color'].apply(woman_of_color)\n",
    "\n",
    "    df_new = df_new.groupby('frame_number').sum()\n",
    "\n",
    "    df_new['face_count'] = df_new['Man'] + df_new['Woman']\n",
    "\n",
    "    only_men = len(df_new[df_new['Woman'] == 0])\n",
    "    only_women = len(df_new[df_new['Man'] == 0])\n",
    "\n",
    "\n",
    "    dict_stats = {\n",
    "        'total_frames': [len(df_new)],\n",
    "        'total_seconds': [len(df_new) / 2],\n",
    "        'total_faces': [df_new['face_count'].sum()],\n",
    "        'total_men': [df_new['Man'].sum()],\n",
    "        'total_women': [df_new['Woman'].sum()],\n",
    "        'total_women_of_color': [df_new['women_of_color'].sum()],\n",
    "        'only_men_count': only_men,\n",
    "        'only_women_count': only_women\n",
    "    }\n",
    "\n",
    "\n",
    "    for cat in [\"Man\",\n",
    "                \"Woman\",\n",
    "                \"asian\",\n",
    "                \"black\",\n",
    "                \"indian\",\n",
    "                \"latino hispanic\",\n",
    "                \"middle eastern\",\n",
    "                \"white\"] :\n",
    "\n",
    "        new_key = \"total\" + \"_\" + cat.strip().replace(\" \", \"_\")\n",
    "\n",
    "        if cat.strip() not in df_new.columns:\n",
    "            dict_stats[new_key] = [0]\n",
    "\n",
    "        else:\n",
    "            dict_stats[new_key] = [df_new[cat].sum()]\n",
    "\n",
    "\n",
    "    df_stats = pd.DataFrame.from_dict(dict_stats)\n",
    "\n",
    "    return df_stats\n",
    "\n",
    "\n",
    "def final_stats(df):\n",
    "    '''Creates final statistical dataframe for use in dashboard'''\n",
    "    df_new = baseline_stats(df)\n",
    "\n",
    "    dict_stats = {\n",
    "        'man_screentime':\n",
    "        df_new['total_men'] / df_new['total_faces'] * 100,\n",
    "        'woman_screentime':\n",
    "        df_new['total_women'] / df_new['total_faces'] * 100,\n",
    "        'only_men':\n",
    "        df_new['only_men_count'] / df_new['total_frames'] * 100,\n",
    "        'only_women':\n",
    "        df_new['only_women_count'] / df_new['total_frames'] * 100,\n",
    "        'asian_screentime':\n",
    "        df_new['total_asian'] / df_new['total_faces'] * 100,\n",
    "        'black_screentime':\n",
    "        df_new['total_black'] / df_new['total_faces'] * 100,\n",
    "        'indian_screentime':\n",
    "        df_new['total_indian'] / df_new['total_faces'] * 100,\n",
    "        'latino_hispanic_screentime':\n",
    "        df_new['total_latino_hispanic'] / df_new['total_faces'] * 100,\n",
    "        'middle_eastern_screentime':\n",
    "        df_new['total_middle_eastern'] / df_new['total_faces'] * 100,\n",
    "        'white_screentime':\n",
    "        df_new['total_white'] / df_new['total_faces'] * 100,\n",
    "        'women_of_color':\n",
    "        df_new['total_women_of_color'] / df_new['total_frames'] * 100\n",
    "    }\n",
    "\n",
    "    final_df = pd.concat([pd.DataFrame.from_dict(dict_stats), df_new], axis=1)\n",
    "\n",
    "    return final_df"
   ]
  },
  {
   "cell_type": "code",
   "execution_count": 572,
   "id": "80b9fa0c",
   "metadata": {},
   "outputs": [],
   "source": [
    "movie_title = \"102 Dalmatians (2000)\".replace(\"_\", \" \").replace(\".csv\", \"\") + \".csv\"\n",
    "\n",
    "df = pd.read_csv(\n",
    "f\"gs://{BUCKET_NAME}/output/{movie_title}\", index_col=None,)"
   ]
  },
  {
   "cell_type": "code",
   "execution_count": 573,
   "id": "56216a04",
   "metadata": {},
   "outputs": [
    {
     "name": "stdout",
     "output_type": "stream",
     "text": [
      "<function final_stats at 0x13d07e8b0>\n"
     ]
    },
    {
     "data": {
      "text/html": [
       "<div>\n",
       "<style scoped>\n",
       "    .dataframe tbody tr th:only-of-type {\n",
       "        vertical-align: middle;\n",
       "    }\n",
       "\n",
       "    .dataframe tbody tr th {\n",
       "        vertical-align: top;\n",
       "    }\n",
       "\n",
       "    .dataframe thead th {\n",
       "        text-align: right;\n",
       "    }\n",
       "</style>\n",
       "<table border=\"1\" class=\"dataframe\">\n",
       "  <thead>\n",
       "    <tr style=\"text-align: right;\">\n",
       "      <th></th>\n",
       "      <th>man_screentime</th>\n",
       "      <th>woman_screentime</th>\n",
       "      <th>only_men</th>\n",
       "      <th>only_women</th>\n",
       "      <th>asian_screentime</th>\n",
       "      <th>black_screentime</th>\n",
       "      <th>indian_screentime</th>\n",
       "      <th>latino_hispanic_screentime</th>\n",
       "      <th>middle_eastern_screentime</th>\n",
       "      <th>white_screentime</th>\n",
       "      <th>...</th>\n",
       "      <th>only_men_count</th>\n",
       "      <th>only_women_count</th>\n",
       "      <th>total_Man</th>\n",
       "      <th>total_Woman</th>\n",
       "      <th>total_asian</th>\n",
       "      <th>total_black</th>\n",
       "      <th>total_indian</th>\n",
       "      <th>total_latino_hispanic</th>\n",
       "      <th>total_middle_eastern</th>\n",
       "      <th>total_white</th>\n",
       "    </tr>\n",
       "  </thead>\n",
       "  <tbody>\n",
       "    <tr>\n",
       "      <th>0</th>\n",
       "      <td>85.389134</td>\n",
       "      <td>14.610866</td>\n",
       "      <td>79.496592</td>\n",
       "      <td>12.742528</td>\n",
       "      <td>3.04699</td>\n",
       "      <td>1.321586</td>\n",
       "      <td>0.734214</td>\n",
       "      <td>4.038179</td>\n",
       "      <td>2.53304</td>\n",
       "      <td>88.325991</td>\n",
       "      <td>...</td>\n",
       "      <td>1516</td>\n",
       "      <td>243</td>\n",
       "      <td>2326.0</td>\n",
       "      <td>398.0</td>\n",
       "      <td>83.0</td>\n",
       "      <td>36.0</td>\n",
       "      <td>20.0</td>\n",
       "      <td>110.0</td>\n",
       "      <td>69.0</td>\n",
       "      <td>2406.0</td>\n",
       "    </tr>\n",
       "  </tbody>\n",
       "</table>\n",
       "<p>1 rows × 27 columns</p>\n",
       "</div>"
      ],
      "text/plain": [
       "   man_screentime  woman_screentime   only_men  only_women  asian_screentime  \\\n",
       "0       85.389134         14.610866  79.496592   12.742528           3.04699   \n",
       "\n",
       "   black_screentime  indian_screentime  latino_hispanic_screentime  \\\n",
       "0          1.321586           0.734214                    4.038179   \n",
       "\n",
       "   middle_eastern_screentime  white_screentime  ...  only_men_count  \\\n",
       "0                    2.53304         88.325991  ...            1516   \n",
       "\n",
       "   only_women_count  total_Man  total_Woman  total_asian  total_black  \\\n",
       "0               243     2326.0        398.0         83.0         36.0   \n",
       "\n",
       "   total_indian  total_latino_hispanic  total_middle_eastern  total_white  \n",
       "0          20.0                  110.0                  69.0       2406.0  \n",
       "\n",
       "[1 rows x 27 columns]"
      ]
     },
     "execution_count": 573,
     "metadata": {},
     "output_type": "execute_result"
    }
   ],
   "source": [
    "final_stats(df)"
   ]
  },
  {
   "cell_type": "code",
   "execution_count": null,
   "id": "b91110b9",
   "metadata": {},
   "outputs": [],
   "source": []
  },
  {
   "cell_type": "code",
   "execution_count": null,
   "id": "8273c67e",
   "metadata": {},
   "outputs": [],
   "source": []
  }
 ],
 "metadata": {
  "kernelspec": {
   "display_name": "Python 3 (ipykernel)",
   "language": "python",
   "name": "python3"
  },
  "language_info": {
   "codemirror_mode": {
    "name": "ipython",
    "version": 3
   },
   "file_extension": ".py",
   "mimetype": "text/x-python",
   "name": "python",
   "nbconvert_exporter": "python",
   "pygments_lexer": "ipython3",
   "version": "3.8.12"
  },
  "toc": {
   "base_numbering": 1,
   "nav_menu": {},
   "number_sections": true,
   "sideBar": true,
   "skip_h1_title": false,
   "title_cell": "Table of Contents",
   "title_sidebar": "Contents",
   "toc_cell": false,
   "toc_position": {},
   "toc_section_display": true,
   "toc_window_display": false
  }
 },
 "nbformat": 4,
 "nbformat_minor": 5
}
