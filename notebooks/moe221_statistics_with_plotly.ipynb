{
 "cells": [
  {
   "cell_type": "code",
   "execution_count": 25,
   "id": "17494f48",
   "metadata": {},
   "outputs": [],
   "source": [
    "import pandas as pd\n",
    "import plotly.graph_objects as go\n",
    "import plotly.express as px\n",
    "from google.cloud import storage\n",
    "from plotly.subplots import make_subplots\n",
    "\n",
    "from tqdm import tqdm\n",
    "import re"
   ]
  },
  {
   "cell_type": "code",
   "execution_count": 9,
   "id": "803e6c53",
   "metadata": {},
   "outputs": [],
   "source": [
    "# project id - GCP project id\n",
    "PROJECT_ID=\"le-wagon-bootcamp-328018\"\n",
    "\n",
    "# bucket name - GCP bucket name\n",
    "BUCKET_NAME=\"diversity-in-cinema-735\"\n",
    "\n",
    "# train data file location\n",
    "BUCKET_TRAIN_DATA_PATH = \"data/training_data\"\n",
    "\n",
    "# Streamlit bucket name - GCP bucket name\n",
    "BUCKET_NAME_STREAMLIT = \"wagon-data-735-movie-diversity\""
   ]
  },
  {
   "cell_type": "code",
   "execution_count": 10,
   "id": "63c908c8",
   "metadata": {},
   "outputs": [],
   "source": [
    "def get_movie_list(subfolders):\n",
    "\n",
    "    \"\"\"\n",
    "    Function ro grab file names from a GCP bucket directory\n",
    "\n",
    "    Parameters:\n",
    "\n",
    "    bucket_name: Name of GCP bucket\n",
    "    subfolders: complete subfolder path as a string where file names should\n",
    "                be retrieved from in the format folder_1/folder_2/.../folder_n\n",
    "\n",
    "    \"\"\"\n",
    "\n",
    "    # check if movie was already processed:\n",
    "\n",
    "    client = storage.Client()\n",
    "    file_names = [str(x).split(f\"{subfolders}/\")[1].\\\n",
    "        split(\"/statistics\")[0]\\\n",
    "                for x in \\\n",
    "                    client.list_blobs(BUCKET_NAME_STREAMLIT, prefix=subfolders)]\n",
    "    # replace first entry with empty string\n",
    "\n",
    "    return file_names"
   ]
  },
  {
   "cell_type": "code",
   "execution_count": 11,
   "id": "6cd4b3c5",
   "metadata": {},
   "outputs": [],
   "source": [
    "def get_evolution_data():\n",
    "    \n",
    "    df_stats_list = []\n",
    "    \n",
    "    regex = re.compile(r'\\((\\d{4})\\)')\n",
    "    \n",
    "    movie_list = get_movie_list(\"CSVs\")[1:]\n",
    "    \n",
    "    for movie in tqdm(movie_list):\n",
    "        \n",
    "        if movie == \"\":\n",
    "            continue\n",
    "\n",
    "        year = regex.findall(movie)[0]\n",
    "\n",
    "        df = pd.read_csv(f\"gs://{BUCKET_NAME_STREAMLIT}/CSVs/{movie}/statistics\", index_col=None)\n",
    "\n",
    "        df[\"title\"] = movie\n",
    "        df[\"year\"] = year\n",
    "\n",
    "        df[\"year\"] = pd.to_datetime(df[\"year\"].values)\n",
    "        df.sort_values(\"year\", inplace=True)\n",
    "        df_stats_list.append(df)\n",
    "        \n",
    "    df_stats_total = pd.concat(df_stats_list, axis=0)\n",
    "    df_stats_total.sort_values(\"year\", inplace=True)\n",
    "        \n",
    "    def add_revenue(column):\n",
    "    \n",
    "        column = column.replace(\"_\", \" \")\n",
    "        return fetch_movie_details(column).get(\"revenue\", None)\n",
    "    \n",
    "    def add_runtime(column):\n",
    "    \n",
    "        column = column.replace(\"_\", \" \")\n",
    "        return fetch_movie_details(column).get(\"runtime\", None)\n",
    "\n",
    "\n",
    "    df_stats_total[\"revenue\"] = df_stats_total[\"title\"].apply(add_revenue)\n",
    "    df_stats_total[\"runtime\"] = df_stats_total[\"title\"].apply(add_runtime)\n",
    "    \n",
    "    return df_stats_total.reset_index()"
   ]
  },
  {
   "cell_type": "code",
   "execution_count": 26,
   "id": "ac41118e",
   "metadata": {},
   "outputs": [],
   "source": [
    "def plot_gender_timeline(df, plot_type=\"bar\"):\n",
    "    \n",
    "    # group by decade\n",
    "    df_grouped = df.groupby(pd.cut(df[\"year\"], pd.date_range('1920', '2030', freq='5YS'), right=False)).mean()\n",
    "\n",
    "    new_df = pd.DataFrame({'year':pd.date_range(start='01-01-1920', end='01-01-2030', freq='5YS')})\n",
    "    df_stats_total = new_df.merge(df, on ='year', how='left')\n",
    "    df_grouped = df_stats_total.groupby(pd.Grouper(key='year', freq = '5AS')).mean()\n",
    "    df_grouped = df_grouped.dropna()\n",
    "    \n",
    "    if plot_type == \"bar\":\n",
    "    # plot gender over time\n",
    "        fig = px.bar(df_grouped, x=df_grouped.index,\n",
    "                     y = ['man_screentime', 'woman_screentime', 'only_men', 'only_women'],\n",
    "                     barmode=\"overlay\", labels={\"value\": \"Screentime [%]\", \"year\":\"\"} )\n",
    "        \n",
    "    elif plot_type == \"line\":\n",
    "        fig = px.line(df_grouped, x=df_grouped.index,\n",
    "             y = ['man_screentime', 'woman_screentime', 'only_men', 'only_women'],\n",
    "                      labels={\"value\": \"Screentime [%]\", \"year\":\"\"} )\n"
   ]
  },
  {
   "cell_type": "code",
   "execution_count": 91,
   "id": "54fa7337",
   "metadata": {},
   "outputs": [],
   "source": [
    "def plot_race_timeline(df, plot_type=\"bar\", step=5):\n",
    "    \n",
    "    # group by decade\n",
    "    df_grouped = df.groupby(pd.cut(df[\"year\"], pd.date_range('1920', '2030', freq=f'{step}YS'), right=False)).mean()\n",
    "\n",
    "    new_df = pd.DataFrame({'year':pd.date_range(start='01-01-1920', end='01-01-2030', freq=f'{step}YS')})\n",
    "    df_stats_total = new_df.merge(df, on ='year', how='left')\n",
    "    df_grouped = df_stats_total.groupby(pd.Grouper(key='year', freq=f'{step}YS')).mean()\n",
    "    df_grouped = df_grouped.dropna()\n",
    "    \n",
    "    if plot_type == \"bar\":\n",
    "    # plot gender over time\n",
    "        fig = px.bar(df_grouped, x=df_grouped.index,\n",
    "                     y = ['asian_screentime', 'black_screentime', 'indian_screentime','latino_hispanic_screentime', 'middle_eastern_screentime', 'white_screentime', 'women_of_color'],\n",
    "                     barmode=\"overlay\", labels={\"value\": \"Screentime [%]\", \"year\":\"\"} )\n",
    "        \n",
    "    elif plot_type == \"line\":\n",
    "        fig = px.line(df_grouped, x=df_grouped.index,\n",
    "             y = ['asian_screentime', 'black_screentime', 'indian_screentime', 'latino_hispanic_screentime', 'middle_eastern_screentime', 'white_screentime', 'women_of_color'],\n",
    "                      labels={\"value\": \"Screentime [%]\", \"year\":\"\"} )\n",
    "    \n",
    "    return fig"
   ]
  },
  {
   "cell_type": "markdown",
   "id": "21eabded",
   "metadata": {},
   "source": [
    "df_evo = get_evolution_data()"
   ]
  },
  {
   "cell_type": "code",
   "execution_count": 93,
   "id": "0a806dfd",
   "metadata": {},
   "outputs": [
    {
     "data": {
      "application/vnd.plotly.v1+json": {
       "config": {
        "plotlyServerURL": "https://plot.ly"
       },
       "data": [
        {
         "alignmentgroup": "True",
         "hovertemplate": "variable=asian_screentime<br>=%{x}<br>Screentime [%]=%{y}<extra></extra>",
         "legendgroup": "asian_screentime",
         "marker": {
          "color": "#636efa",
          "opacity": 0.5,
          "pattern": {
           "shape": ""
          }
         },
         "name": "asian_screentime",
         "offsetgroup": "asian_screentime",
         "orientation": "v",
         "showlegend": true,
         "textposition": "auto",
         "type": "bar",
         "x": [
          "1920-01-01T00:00:00",
          "1932-01-01T00:00:00",
          "1942-01-01T00:00:00",
          "1948-01-01T00:00:00",
          "1958-01-01T00:00:00",
          "1960-01-01T00:00:00",
          "1962-01-01T00:00:00",
          "1968-01-01T00:00:00",
          "1974-01-01T00:00:00",
          "1976-01-01T00:00:00",
          "1978-01-01T00:00:00",
          "1980-01-01T00:00:00",
          "1984-01-01T00:00:00",
          "1986-01-01T00:00:00",
          "1988-01-01T00:00:00",
          "1990-01-01T00:00:00",
          "1994-01-01T00:00:00",
          "1996-01-01T00:00:00",
          "1998-01-01T00:00:00",
          "2000-01-01T00:00:00",
          "2002-01-01T00:00:00",
          "2004-01-01T00:00:00",
          "2006-01-01T00:00:00",
          "2008-01-01T00:00:00",
          "2010-01-01T00:00:00",
          "2012-01-01T00:00:00",
          "2014-01-01T00:00:00",
          "2016-01-01T00:00:00",
          "2018-01-01T00:00:00"
         ],
         "xaxis": "x",
         "y": [
          3.009575923392613,
          1.7751479289940828,
          5.942947702060222,
          2.128401953942777,
          5.27906976744186,
          3.7778495318049727,
          4.411121174877664,
          14.148802017654477,
          4.866041844173057,
          8.47457627118644,
          6.100028910089621,
          7.576601671309192,
          5.990774196656549,
          12.743659610144622,
          4.019434628975265,
          9.210025647356792,
          10.090437040584641,
          8.474051351923354,
          8.220020129068603,
          4.886819624852308,
          7.132671730593971,
          5.621580694120851,
          6.41760010383383,
          6.480315833501369,
          7.560834207165087,
          9.339737365981875,
          7.090076268733101,
          7.235331618418979,
          9.442565087503217
         ],
         "yaxis": "y"
        },
        {
         "alignmentgroup": "True",
         "hovertemplate": "variable=black_screentime<br>=%{x}<br>Screentime [%]=%{y}<extra></extra>",
         "legendgroup": "black_screentime",
         "marker": {
          "color": "#EF553B",
          "opacity": 0.5,
          "pattern": {
           "shape": ""
          }
         },
         "name": "black_screentime",
         "offsetgroup": "black_screentime",
         "orientation": "v",
         "showlegend": true,
         "textposition": "auto",
         "type": "bar",
         "x": [
          "1920-01-01T00:00:00",
          "1932-01-01T00:00:00",
          "1942-01-01T00:00:00",
          "1948-01-01T00:00:00",
          "1958-01-01T00:00:00",
          "1960-01-01T00:00:00",
          "1962-01-01T00:00:00",
          "1968-01-01T00:00:00",
          "1974-01-01T00:00:00",
          "1976-01-01T00:00:00",
          "1978-01-01T00:00:00",
          "1980-01-01T00:00:00",
          "1984-01-01T00:00:00",
          "1986-01-01T00:00:00",
          "1988-01-01T00:00:00",
          "1990-01-01T00:00:00",
          "1994-01-01T00:00:00",
          "1996-01-01T00:00:00",
          "1998-01-01T00:00:00",
          "2000-01-01T00:00:00",
          "2002-01-01T00:00:00",
          "2004-01-01T00:00:00",
          "2006-01-01T00:00:00",
          "2008-01-01T00:00:00",
          "2010-01-01T00:00:00",
          "2012-01-01T00:00:00",
          "2014-01-01T00:00:00",
          "2016-01-01T00:00:00",
          "2018-01-01T00:00:00"
         ],
         "xaxis": "x",
         "y": [
          1.0031919744642042,
          2.366863905325444,
          4.3581616481774965,
          0.5931612002791348,
          2.697674418604651,
          0.7103648692282855,
          3.1567581211841222,
          2.471626733921816,
          7.904951244911483,
          2.803129074315515,
          1.6767851980341135,
          2.414113277623027,
          2.3801849978320564,
          2.5361559421504927,
          1.9434628975265016,
          5.270071032661568,
          11.70665521895045,
          6.262081576961537,
          1.4397828785606788,
          2.7601931229214562,
          12.470198248584277,
          9.6705541740374,
          4.916065417251118,
          7.352288059864648,
          5.501045318656986,
          4.3646049712078945,
          3.877328437873288,
          6.206337059625445,
          13.590087659741835
         ],
         "yaxis": "y"
        },
        {
         "alignmentgroup": "True",
         "hovertemplate": "variable=indian_screentime<br>=%{x}<br>Screentime [%]=%{y}<extra></extra>",
         "legendgroup": "indian_screentime",
         "marker": {
          "color": "#00cc96",
          "opacity": 0.5,
          "pattern": {
           "shape": ""
          }
         },
         "name": "indian_screentime",
         "offsetgroup": "indian_screentime",
         "orientation": "v",
         "showlegend": true,
         "textposition": "auto",
         "type": "bar",
         "x": [
          "1920-01-01T00:00:00",
          "1932-01-01T00:00:00",
          "1942-01-01T00:00:00",
          "1948-01-01T00:00:00",
          "1958-01-01T00:00:00",
          "1960-01-01T00:00:00",
          "1962-01-01T00:00:00",
          "1968-01-01T00:00:00",
          "1974-01-01T00:00:00",
          "1976-01-01T00:00:00",
          "1978-01-01T00:00:00",
          "1980-01-01T00:00:00",
          "1984-01-01T00:00:00",
          "1986-01-01T00:00:00",
          "1988-01-01T00:00:00",
          "1990-01-01T00:00:00",
          "1994-01-01T00:00:00",
          "1996-01-01T00:00:00",
          "1998-01-01T00:00:00",
          "2000-01-01T00:00:00",
          "2002-01-01T00:00:00",
          "2004-01-01T00:00:00",
          "2006-01-01T00:00:00",
          "2008-01-01T00:00:00",
          "2010-01-01T00:00:00",
          "2012-01-01T00:00:00",
          "2014-01-01T00:00:00",
          "2016-01-01T00:00:00",
          "2018-01-01T00:00:00"
         ],
         "xaxis": "x",
         "y": [
          3.2375740994072046,
          2.9585798816568047,
          1.664025356576862,
          0.418702023726448,
          0.9069767441860463,
          2.389409105586051,
          2.15352542022451,
          2.3707440100882726,
          7.157057654075547,
          1.8252933507170797,
          2.081526452732004,
          2.1355617455896008,
          3.1235486823722116,
          2.012156780549151,
          2.429328621908127,
          4.536001269557588,
          5.032911438004358,
          2.039775386062567,
          1.273039863590352,
          1.631031788274464,
          2.4352328202686224,
          2.9402059883596565,
          1.446912202457547,
          1.8883037167584338,
          2.47280178967675,
          5.847670232255858,
          2.3152879133908666,
          1.8713188640581377,
          3.537193187507233
         ],
         "yaxis": "y"
        },
        {
         "alignmentgroup": "True",
         "hovertemplate": "variable=latino_hispanic_screentime<br>=%{x}<br>Screentime [%]=%{y}<extra></extra>",
         "legendgroup": "latino_hispanic_screentime",
         "marker": {
          "color": "#ab63fa",
          "opacity": 0.5,
          "pattern": {
           "shape": ""
          }
         },
         "name": "latino_hispanic_screentime",
         "offsetgroup": "latino_hispanic_screentime",
         "orientation": "v",
         "showlegend": true,
         "textposition": "auto",
         "type": "bar",
         "x": [
          "1920-01-01T00:00:00",
          "1932-01-01T00:00:00",
          "1942-01-01T00:00:00",
          "1948-01-01T00:00:00",
          "1958-01-01T00:00:00",
          "1960-01-01T00:00:00",
          "1962-01-01T00:00:00",
          "1968-01-01T00:00:00",
          "1974-01-01T00:00:00",
          "1976-01-01T00:00:00",
          "1978-01-01T00:00:00",
          "1980-01-01T00:00:00",
          "1984-01-01T00:00:00",
          "1986-01-01T00:00:00",
          "1988-01-01T00:00:00",
          "1990-01-01T00:00:00",
          "1994-01-01T00:00:00",
          "1996-01-01T00:00:00",
          "1998-01-01T00:00:00",
          "2000-01-01T00:00:00",
          "2002-01-01T00:00:00",
          "2004-01-01T00:00:00",
          "2006-01-01T00:00:00",
          "2008-01-01T00:00:00",
          "2010-01-01T00:00:00",
          "2012-01-01T00:00:00",
          "2014-01-01T00:00:00",
          "2016-01-01T00:00:00",
          "2018-01-01T00:00:00"
         ],
         "xaxis": "x",
         "y": [
          5.88235294117647,
          5.325443786982249,
          5.625990491283677,
          6.66434054431263,
          11.093023255813954,
          14.982240878269293,
          8.978531119030762,
          19.84867591424969,
          11.909495408501371,
          6.51890482398957,
          5.897658282740677,
          7.205199628597956,
          8.903911933323696,
          3.66799413120939,
          9.054770318021202,
          11.06448524418734,
          12.145470400568499,
          7.98172411660108,
          5.243264941648155,
          5.189612281953426,
          5.8455447075062965,
          8.448758920435335,
          9.019307803000054,
          7.212631267950575,
          6.958969105174447,
          10.850012266724587,
          8.287677387718698,
          7.851652946289104,
          10.142418508454007
         ],
         "yaxis": "y"
        },
        {
         "alignmentgroup": "True",
         "hovertemplate": "variable=middle_eastern_screentime<br>=%{x}<br>Screentime [%]=%{y}<extra></extra>",
         "legendgroup": "middle_eastern_screentime",
         "marker": {
          "color": "#FFA15A",
          "opacity": 0.5,
          "pattern": {
           "shape": ""
          }
         },
         "name": "middle_eastern_screentime",
         "offsetgroup": "middle_eastern_screentime",
         "orientation": "v",
         "showlegend": true,
         "textposition": "auto",
         "type": "bar",
         "x": [
          "1920-01-01T00:00:00",
          "1932-01-01T00:00:00",
          "1942-01-01T00:00:00",
          "1948-01-01T00:00:00",
          "1958-01-01T00:00:00",
          "1960-01-01T00:00:00",
          "1962-01-01T00:00:00",
          "1968-01-01T00:00:00",
          "1974-01-01T00:00:00",
          "1976-01-01T00:00:00",
          "1978-01-01T00:00:00",
          "1980-01-01T00:00:00",
          "1984-01-01T00:00:00",
          "1986-01-01T00:00:00",
          "1988-01-01T00:00:00",
          "1990-01-01T00:00:00",
          "1994-01-01T00:00:00",
          "1996-01-01T00:00:00",
          "1998-01-01T00:00:00",
          "2000-01-01T00:00:00",
          "2002-01-01T00:00:00",
          "2004-01-01T00:00:00",
          "2006-01-01T00:00:00",
          "2008-01-01T00:00:00",
          "2010-01-01T00:00:00",
          "2012-01-01T00:00:00",
          "2014-01-01T00:00:00",
          "2016-01-01T00:00:00",
          "2018-01-01T00:00:00"
         ],
         "xaxis": "x",
         "y": [
          6.429548563611491,
          1.183431952662722,
          7.210776545166403,
          8.199581297976273,
          3.372093023255814,
          5.230868582499193,
          9.336603388205297,
          1.790668348045397,
          7.65880905045915,
          1.5971316818774446,
          2.8910089621277826,
          4.47539461467038,
          1.8901816254757429,
          0.5030391951372878,
          1.8551236749116609,
          4.874685350472506,
          3.987911180482484,
          2.7950910616257545,
          1.9864548078886763,
          3.5158771502666957,
          2.523775204324442,
          4.090062070149986,
          2.840521796338209,
          2.5776169014763375,
          3.051098751590484,
          4.427425717014777,
          4.281507811384556,
          5.221983582383911,
          3.6543377971022895
         ],
         "yaxis": "y"
        },
        {
         "alignmentgroup": "True",
         "hovertemplate": "variable=white_screentime<br>=%{x}<br>Screentime [%]=%{y}<extra></extra>",
         "legendgroup": "white_screentime",
         "marker": {
          "color": "#19d3f3",
          "opacity": 0.5,
          "pattern": {
           "shape": ""
          }
         },
         "name": "white_screentime",
         "offsetgroup": "white_screentime",
         "orientation": "v",
         "showlegend": true,
         "textposition": "auto",
         "type": "bar",
         "x": [
          "1920-01-01T00:00:00",
          "1932-01-01T00:00:00",
          "1942-01-01T00:00:00",
          "1948-01-01T00:00:00",
          "1958-01-01T00:00:00",
          "1960-01-01T00:00:00",
          "1962-01-01T00:00:00",
          "1968-01-01T00:00:00",
          "1974-01-01T00:00:00",
          "1976-01-01T00:00:00",
          "1978-01-01T00:00:00",
          "1980-01-01T00:00:00",
          "1984-01-01T00:00:00",
          "1986-01-01T00:00:00",
          "1988-01-01T00:00:00",
          "1990-01-01T00:00:00",
          "1994-01-01T00:00:00",
          "1996-01-01T00:00:00",
          "1998-01-01T00:00:00",
          "2000-01-01T00:00:00",
          "2002-01-01T00:00:00",
          "2004-01-01T00:00:00",
          "2006-01-01T00:00:00",
          "2008-01-01T00:00:00",
          "2010-01-01T00:00:00",
          "2012-01-01T00:00:00",
          "2014-01-01T00:00:00",
          "2016-01-01T00:00:00",
          "2018-01-01T00:00:00"
         ],
         "xaxis": "x",
         "y": [
          80.43775649794802,
          86.3905325443787,
          75.19809825673535,
          81.99581297976273,
          76.65116279069767,
          72.9092670326122,
          71.96346077647763,
          59.36948297604035,
          60.50364479787939,
          78.78096479791395,
          81.3529921942758,
          76.19312906220983,
          77.71139856433973,
          78.53699434080906,
          80.69787985865725,
          65.04473145576421,
          57.03661472140957,
          72.4472765068257,
          81.83743737924354,
          82.01646603173165,
          69.5925772887224,
          69.22883815289677,
          75.35959267711924,
          74.48884422044863,
          74.45525082773625,
          65.170549446815,
          74.14812218089949,
          71.61337592922443,
          59.63339775969141
         ],
         "yaxis": "y"
        },
        {
         "alignmentgroup": "True",
         "hovertemplate": "variable=women_of_color<br>=%{x}<br>Screentime [%]=%{y}<extra></extra>",
         "legendgroup": "women_of_color",
         "marker": {
          "color": "#FF6692",
          "opacity": 0.5,
          "pattern": {
           "shape": ""
          }
         },
         "name": "women_of_color",
         "offsetgroup": "women_of_color",
         "orientation": "v",
         "showlegend": true,
         "textposition": "auto",
         "type": "bar",
         "x": [
          "1920-01-01T00:00:00",
          "1932-01-01T00:00:00",
          "1942-01-01T00:00:00",
          "1948-01-01T00:00:00",
          "1958-01-01T00:00:00",
          "1960-01-01T00:00:00",
          "1962-01-01T00:00:00",
          "1968-01-01T00:00:00",
          "1974-01-01T00:00:00",
          "1976-01-01T00:00:00",
          "1978-01-01T00:00:00",
          "1980-01-01T00:00:00",
          "1984-01-01T00:00:00",
          "1986-01-01T00:00:00",
          "1988-01-01T00:00:00",
          "1990-01-01T00:00:00",
          "1994-01-01T00:00:00",
          "1996-01-01T00:00:00",
          "1998-01-01T00:00:00",
          "2000-01-01T00:00:00",
          "2002-01-01T00:00:00",
          "2004-01-01T00:00:00",
          "2006-01-01T00:00:00",
          "2008-01-01T00:00:00",
          "2010-01-01T00:00:00",
          "2012-01-01T00:00:00",
          "2014-01-01T00:00:00",
          "2016-01-01T00:00:00",
          "2018-01-01T00:00:00"
         ],
         "xaxis": "x",
         "y": [
          0,
          0,
          0.1119820828667413,
          0,
          1.7521090201168072,
          3.923948220064725,
          0.6209467848027082,
          10.18735362997658,
          1.2197928653624857,
          2.3783783783783785,
          0.8550855085508551,
          0.6775067750677507,
          1.95782992218268,
          0.5543710021321961,
          0.1330671989354624,
          1.5835077150537078,
          1.4902401169481736,
          1.9795574801752691,
          1.992386565972862,
          1.3789060637841446,
          3.8538444078924896,
          3.5885366329813135,
          1.4487720064667728,
          2.2964380535815114,
          3.807551931589533,
          3.580247101656146,
          2.4119152072526133,
          2.4241075239585594,
          4.701112009868479
         ],
         "yaxis": "y"
        }
       ],
       "layout": {
        "barmode": "overlay",
        "legend": {
         "title": {
          "text": "variable"
         },
         "tracegroupgap": 0
        },
        "margin": {
         "t": 60
        },
        "template": {
         "data": {
          "bar": [
           {
            "error_x": {
             "color": "#2a3f5f"
            },
            "error_y": {
             "color": "#2a3f5f"
            },
            "marker": {
             "line": {
              "color": "#E5ECF6",
              "width": 0.5
             },
             "pattern": {
              "fillmode": "overlay",
              "size": 10,
              "solidity": 0.2
             }
            },
            "type": "bar"
           }
          ],
          "barpolar": [
           {
            "marker": {
             "line": {
              "color": "#E5ECF6",
              "width": 0.5
             },
             "pattern": {
              "fillmode": "overlay",
              "size": 10,
              "solidity": 0.2
             }
            },
            "type": "barpolar"
           }
          ],
          "carpet": [
           {
            "aaxis": {
             "endlinecolor": "#2a3f5f",
             "gridcolor": "white",
             "linecolor": "white",
             "minorgridcolor": "white",
             "startlinecolor": "#2a3f5f"
            },
            "baxis": {
             "endlinecolor": "#2a3f5f",
             "gridcolor": "white",
             "linecolor": "white",
             "minorgridcolor": "white",
             "startlinecolor": "#2a3f5f"
            },
            "type": "carpet"
           }
          ],
          "choropleth": [
           {
            "colorbar": {
             "outlinewidth": 0,
             "ticks": ""
            },
            "type": "choropleth"
           }
          ],
          "contour": [
           {
            "colorbar": {
             "outlinewidth": 0,
             "ticks": ""
            },
            "colorscale": [
             [
              0,
              "#0d0887"
             ],
             [
              0.1111111111111111,
              "#46039f"
             ],
             [
              0.2222222222222222,
              "#7201a8"
             ],
             [
              0.3333333333333333,
              "#9c179e"
             ],
             [
              0.4444444444444444,
              "#bd3786"
             ],
             [
              0.5555555555555556,
              "#d8576b"
             ],
             [
              0.6666666666666666,
              "#ed7953"
             ],
             [
              0.7777777777777778,
              "#fb9f3a"
             ],
             [
              0.8888888888888888,
              "#fdca26"
             ],
             [
              1,
              "#f0f921"
             ]
            ],
            "type": "contour"
           }
          ],
          "contourcarpet": [
           {
            "colorbar": {
             "outlinewidth": 0,
             "ticks": ""
            },
            "type": "contourcarpet"
           }
          ],
          "heatmap": [
           {
            "colorbar": {
             "outlinewidth": 0,
             "ticks": ""
            },
            "colorscale": [
             [
              0,
              "#0d0887"
             ],
             [
              0.1111111111111111,
              "#46039f"
             ],
             [
              0.2222222222222222,
              "#7201a8"
             ],
             [
              0.3333333333333333,
              "#9c179e"
             ],
             [
              0.4444444444444444,
              "#bd3786"
             ],
             [
              0.5555555555555556,
              "#d8576b"
             ],
             [
              0.6666666666666666,
              "#ed7953"
             ],
             [
              0.7777777777777778,
              "#fb9f3a"
             ],
             [
              0.8888888888888888,
              "#fdca26"
             ],
             [
              1,
              "#f0f921"
             ]
            ],
            "type": "heatmap"
           }
          ],
          "heatmapgl": [
           {
            "colorbar": {
             "outlinewidth": 0,
             "ticks": ""
            },
            "colorscale": [
             [
              0,
              "#0d0887"
             ],
             [
              0.1111111111111111,
              "#46039f"
             ],
             [
              0.2222222222222222,
              "#7201a8"
             ],
             [
              0.3333333333333333,
              "#9c179e"
             ],
             [
              0.4444444444444444,
              "#bd3786"
             ],
             [
              0.5555555555555556,
              "#d8576b"
             ],
             [
              0.6666666666666666,
              "#ed7953"
             ],
             [
              0.7777777777777778,
              "#fb9f3a"
             ],
             [
              0.8888888888888888,
              "#fdca26"
             ],
             [
              1,
              "#f0f921"
             ]
            ],
            "type": "heatmapgl"
           }
          ],
          "histogram": [
           {
            "marker": {
             "pattern": {
              "fillmode": "overlay",
              "size": 10,
              "solidity": 0.2
             }
            },
            "type": "histogram"
           }
          ],
          "histogram2d": [
           {
            "colorbar": {
             "outlinewidth": 0,
             "ticks": ""
            },
            "colorscale": [
             [
              0,
              "#0d0887"
             ],
             [
              0.1111111111111111,
              "#46039f"
             ],
             [
              0.2222222222222222,
              "#7201a8"
             ],
             [
              0.3333333333333333,
              "#9c179e"
             ],
             [
              0.4444444444444444,
              "#bd3786"
             ],
             [
              0.5555555555555556,
              "#d8576b"
             ],
             [
              0.6666666666666666,
              "#ed7953"
             ],
             [
              0.7777777777777778,
              "#fb9f3a"
             ],
             [
              0.8888888888888888,
              "#fdca26"
             ],
             [
              1,
              "#f0f921"
             ]
            ],
            "type": "histogram2d"
           }
          ],
          "histogram2dcontour": [
           {
            "colorbar": {
             "outlinewidth": 0,
             "ticks": ""
            },
            "colorscale": [
             [
              0,
              "#0d0887"
             ],
             [
              0.1111111111111111,
              "#46039f"
             ],
             [
              0.2222222222222222,
              "#7201a8"
             ],
             [
              0.3333333333333333,
              "#9c179e"
             ],
             [
              0.4444444444444444,
              "#bd3786"
             ],
             [
              0.5555555555555556,
              "#d8576b"
             ],
             [
              0.6666666666666666,
              "#ed7953"
             ],
             [
              0.7777777777777778,
              "#fb9f3a"
             ],
             [
              0.8888888888888888,
              "#fdca26"
             ],
             [
              1,
              "#f0f921"
             ]
            ],
            "type": "histogram2dcontour"
           }
          ],
          "mesh3d": [
           {
            "colorbar": {
             "outlinewidth": 0,
             "ticks": ""
            },
            "type": "mesh3d"
           }
          ],
          "parcoords": [
           {
            "line": {
             "colorbar": {
              "outlinewidth": 0,
              "ticks": ""
             }
            },
            "type": "parcoords"
           }
          ],
          "pie": [
           {
            "automargin": true,
            "type": "pie"
           }
          ],
          "scatter": [
           {
            "marker": {
             "colorbar": {
              "outlinewidth": 0,
              "ticks": ""
             }
            },
            "type": "scatter"
           }
          ],
          "scatter3d": [
           {
            "line": {
             "colorbar": {
              "outlinewidth": 0,
              "ticks": ""
             }
            },
            "marker": {
             "colorbar": {
              "outlinewidth": 0,
              "ticks": ""
             }
            },
            "type": "scatter3d"
           }
          ],
          "scattercarpet": [
           {
            "marker": {
             "colorbar": {
              "outlinewidth": 0,
              "ticks": ""
             }
            },
            "type": "scattercarpet"
           }
          ],
          "scattergeo": [
           {
            "marker": {
             "colorbar": {
              "outlinewidth": 0,
              "ticks": ""
             }
            },
            "type": "scattergeo"
           }
          ],
          "scattergl": [
           {
            "marker": {
             "colorbar": {
              "outlinewidth": 0,
              "ticks": ""
             }
            },
            "type": "scattergl"
           }
          ],
          "scattermapbox": [
           {
            "marker": {
             "colorbar": {
              "outlinewidth": 0,
              "ticks": ""
             }
            },
            "type": "scattermapbox"
           }
          ],
          "scatterpolar": [
           {
            "marker": {
             "colorbar": {
              "outlinewidth": 0,
              "ticks": ""
             }
            },
            "type": "scatterpolar"
           }
          ],
          "scatterpolargl": [
           {
            "marker": {
             "colorbar": {
              "outlinewidth": 0,
              "ticks": ""
             }
            },
            "type": "scatterpolargl"
           }
          ],
          "scatterternary": [
           {
            "marker": {
             "colorbar": {
              "outlinewidth": 0,
              "ticks": ""
             }
            },
            "type": "scatterternary"
           }
          ],
          "surface": [
           {
            "colorbar": {
             "outlinewidth": 0,
             "ticks": ""
            },
            "colorscale": [
             [
              0,
              "#0d0887"
             ],
             [
              0.1111111111111111,
              "#46039f"
             ],
             [
              0.2222222222222222,
              "#7201a8"
             ],
             [
              0.3333333333333333,
              "#9c179e"
             ],
             [
              0.4444444444444444,
              "#bd3786"
             ],
             [
              0.5555555555555556,
              "#d8576b"
             ],
             [
              0.6666666666666666,
              "#ed7953"
             ],
             [
              0.7777777777777778,
              "#fb9f3a"
             ],
             [
              0.8888888888888888,
              "#fdca26"
             ],
             [
              1,
              "#f0f921"
             ]
            ],
            "type": "surface"
           }
          ],
          "table": [
           {
            "cells": {
             "fill": {
              "color": "#EBF0F8"
             },
             "line": {
              "color": "white"
             }
            },
            "header": {
             "fill": {
              "color": "#C8D4E3"
             },
             "line": {
              "color": "white"
             }
            },
            "type": "table"
           }
          ]
         },
         "layout": {
          "annotationdefaults": {
           "arrowcolor": "#2a3f5f",
           "arrowhead": 0,
           "arrowwidth": 1
          },
          "autotypenumbers": "strict",
          "coloraxis": {
           "colorbar": {
            "outlinewidth": 0,
            "ticks": ""
           }
          },
          "colorscale": {
           "diverging": [
            [
             0,
             "#8e0152"
            ],
            [
             0.1,
             "#c51b7d"
            ],
            [
             0.2,
             "#de77ae"
            ],
            [
             0.3,
             "#f1b6da"
            ],
            [
             0.4,
             "#fde0ef"
            ],
            [
             0.5,
             "#f7f7f7"
            ],
            [
             0.6,
             "#e6f5d0"
            ],
            [
             0.7,
             "#b8e186"
            ],
            [
             0.8,
             "#7fbc41"
            ],
            [
             0.9,
             "#4d9221"
            ],
            [
             1,
             "#276419"
            ]
           ],
           "sequential": [
            [
             0,
             "#0d0887"
            ],
            [
             0.1111111111111111,
             "#46039f"
            ],
            [
             0.2222222222222222,
             "#7201a8"
            ],
            [
             0.3333333333333333,
             "#9c179e"
            ],
            [
             0.4444444444444444,
             "#bd3786"
            ],
            [
             0.5555555555555556,
             "#d8576b"
            ],
            [
             0.6666666666666666,
             "#ed7953"
            ],
            [
             0.7777777777777778,
             "#fb9f3a"
            ],
            [
             0.8888888888888888,
             "#fdca26"
            ],
            [
             1,
             "#f0f921"
            ]
           ],
           "sequentialminus": [
            [
             0,
             "#0d0887"
            ],
            [
             0.1111111111111111,
             "#46039f"
            ],
            [
             0.2222222222222222,
             "#7201a8"
            ],
            [
             0.3333333333333333,
             "#9c179e"
            ],
            [
             0.4444444444444444,
             "#bd3786"
            ],
            [
             0.5555555555555556,
             "#d8576b"
            ],
            [
             0.6666666666666666,
             "#ed7953"
            ],
            [
             0.7777777777777778,
             "#fb9f3a"
            ],
            [
             0.8888888888888888,
             "#fdca26"
            ],
            [
             1,
             "#f0f921"
            ]
           ]
          },
          "colorway": [
           "#636efa",
           "#EF553B",
           "#00cc96",
           "#ab63fa",
           "#FFA15A",
           "#19d3f3",
           "#FF6692",
           "#B6E880",
           "#FF97FF",
           "#FECB52"
          ],
          "font": {
           "color": "#2a3f5f"
          },
          "geo": {
           "bgcolor": "white",
           "lakecolor": "white",
           "landcolor": "#E5ECF6",
           "showlakes": true,
           "showland": true,
           "subunitcolor": "white"
          },
          "hoverlabel": {
           "align": "left"
          },
          "hovermode": "closest",
          "mapbox": {
           "style": "light"
          },
          "paper_bgcolor": "white",
          "plot_bgcolor": "#E5ECF6",
          "polar": {
           "angularaxis": {
            "gridcolor": "white",
            "linecolor": "white",
            "ticks": ""
           },
           "bgcolor": "#E5ECF6",
           "radialaxis": {
            "gridcolor": "white",
            "linecolor": "white",
            "ticks": ""
           }
          },
          "scene": {
           "xaxis": {
            "backgroundcolor": "#E5ECF6",
            "gridcolor": "white",
            "gridwidth": 2,
            "linecolor": "white",
            "showbackground": true,
            "ticks": "",
            "zerolinecolor": "white"
           },
           "yaxis": {
            "backgroundcolor": "#E5ECF6",
            "gridcolor": "white",
            "gridwidth": 2,
            "linecolor": "white",
            "showbackground": true,
            "ticks": "",
            "zerolinecolor": "white"
           },
           "zaxis": {
            "backgroundcolor": "#E5ECF6",
            "gridcolor": "white",
            "gridwidth": 2,
            "linecolor": "white",
            "showbackground": true,
            "ticks": "",
            "zerolinecolor": "white"
           }
          },
          "shapedefaults": {
           "line": {
            "color": "#2a3f5f"
           }
          },
          "ternary": {
           "aaxis": {
            "gridcolor": "white",
            "linecolor": "white",
            "ticks": ""
           },
           "baxis": {
            "gridcolor": "white",
            "linecolor": "white",
            "ticks": ""
           },
           "bgcolor": "#E5ECF6",
           "caxis": {
            "gridcolor": "white",
            "linecolor": "white",
            "ticks": ""
           }
          },
          "title": {
           "x": 0.05
          },
          "xaxis": {
           "automargin": true,
           "gridcolor": "white",
           "linecolor": "white",
           "ticks": "",
           "title": {
            "standoff": 15
           },
           "zerolinecolor": "white",
           "zerolinewidth": 2
          },
          "yaxis": {
           "automargin": true,
           "gridcolor": "white",
           "linecolor": "white",
           "ticks": "",
           "title": {
            "standoff": 15
           },
           "zerolinecolor": "white",
           "zerolinewidth": 2
          }
         }
        },
        "xaxis": {
         "anchor": "y",
         "domain": [
          0,
          1
         ],
         "title": {
          "text": ""
         }
        },
        "yaxis": {
         "anchor": "x",
         "domain": [
          0,
          1
         ],
         "title": {
          "text": "Screentime [%]"
         }
        }
       }
      },
      "text/html": [
       "<div>                            <div id=\"6c89767b-1a31-45b0-8849-56900cbcb039\" class=\"plotly-graph-div\" style=\"height:525px; width:100%;\"></div>            <script type=\"text/javascript\">                require([\"plotly\"], function(Plotly) {                    window.PLOTLYENV=window.PLOTLYENV || {};                                    if (document.getElementById(\"6c89767b-1a31-45b0-8849-56900cbcb039\")) {                    Plotly.newPlot(                        \"6c89767b-1a31-45b0-8849-56900cbcb039\",                        [{\"alignmentgroup\":\"True\",\"hovertemplate\":\"variable=asian_screentime<br>=%{x}<br>Screentime [%]=%{y}<extra></extra>\",\"legendgroup\":\"asian_screentime\",\"marker\":{\"color\":\"#636efa\",\"opacity\":0.5,\"pattern\":{\"shape\":\"\"}},\"name\":\"asian_screentime\",\"offsetgroup\":\"asian_screentime\",\"orientation\":\"v\",\"showlegend\":true,\"textposition\":\"auto\",\"type\":\"bar\",\"x\":[\"1920-01-01T00:00:00\",\"1932-01-01T00:00:00\",\"1942-01-01T00:00:00\",\"1948-01-01T00:00:00\",\"1958-01-01T00:00:00\",\"1960-01-01T00:00:00\",\"1962-01-01T00:00:00\",\"1968-01-01T00:00:00\",\"1974-01-01T00:00:00\",\"1976-01-01T00:00:00\",\"1978-01-01T00:00:00\",\"1980-01-01T00:00:00\",\"1984-01-01T00:00:00\",\"1986-01-01T00:00:00\",\"1988-01-01T00:00:00\",\"1990-01-01T00:00:00\",\"1994-01-01T00:00:00\",\"1996-01-01T00:00:00\",\"1998-01-01T00:00:00\",\"2000-01-01T00:00:00\",\"2002-01-01T00:00:00\",\"2004-01-01T00:00:00\",\"2006-01-01T00:00:00\",\"2008-01-01T00:00:00\",\"2010-01-01T00:00:00\",\"2012-01-01T00:00:00\",\"2014-01-01T00:00:00\",\"2016-01-01T00:00:00\",\"2018-01-01T00:00:00\"],\"xaxis\":\"x\",\"y\":[3.009575923392613,1.7751479289940828,5.942947702060222,2.128401953942777,5.27906976744186,3.7778495318049727,4.411121174877664,14.148802017654477,4.866041844173057,8.47457627118644,6.100028910089621,7.576601671309192,5.990774196656549,12.743659610144622,4.019434628975265,9.210025647356792,10.090437040584641,8.474051351923354,8.220020129068603,4.886819624852308,7.132671730593971,5.621580694120851,6.41760010383383,6.480315833501369,7.560834207165087,9.339737365981875,7.090076268733101,7.235331618418979,9.442565087503217],\"yaxis\":\"y\"},{\"alignmentgroup\":\"True\",\"hovertemplate\":\"variable=black_screentime<br>=%{x}<br>Screentime [%]=%{y}<extra></extra>\",\"legendgroup\":\"black_screentime\",\"marker\":{\"color\":\"#EF553B\",\"opacity\":0.5,\"pattern\":{\"shape\":\"\"}},\"name\":\"black_screentime\",\"offsetgroup\":\"black_screentime\",\"orientation\":\"v\",\"showlegend\":true,\"textposition\":\"auto\",\"type\":\"bar\",\"x\":[\"1920-01-01T00:00:00\",\"1932-01-01T00:00:00\",\"1942-01-01T00:00:00\",\"1948-01-01T00:00:00\",\"1958-01-01T00:00:00\",\"1960-01-01T00:00:00\",\"1962-01-01T00:00:00\",\"1968-01-01T00:00:00\",\"1974-01-01T00:00:00\",\"1976-01-01T00:00:00\",\"1978-01-01T00:00:00\",\"1980-01-01T00:00:00\",\"1984-01-01T00:00:00\",\"1986-01-01T00:00:00\",\"1988-01-01T00:00:00\",\"1990-01-01T00:00:00\",\"1994-01-01T00:00:00\",\"1996-01-01T00:00:00\",\"1998-01-01T00:00:00\",\"2000-01-01T00:00:00\",\"2002-01-01T00:00:00\",\"2004-01-01T00:00:00\",\"2006-01-01T00:00:00\",\"2008-01-01T00:00:00\",\"2010-01-01T00:00:00\",\"2012-01-01T00:00:00\",\"2014-01-01T00:00:00\",\"2016-01-01T00:00:00\",\"2018-01-01T00:00:00\"],\"xaxis\":\"x\",\"y\":[1.0031919744642042,2.366863905325444,4.3581616481774965,0.5931612002791348,2.697674418604651,0.7103648692282855,3.1567581211841222,2.471626733921816,7.904951244911483,2.803129074315515,1.6767851980341135,2.414113277623027,2.3801849978320564,2.5361559421504927,1.9434628975265016,5.270071032661568,11.70665521895045,6.262081576961537,1.4397828785606788,2.7601931229214562,12.470198248584277,9.6705541740374,4.916065417251118,7.352288059864648,5.501045318656986,4.3646049712078945,3.877328437873288,6.206337059625445,13.590087659741835],\"yaxis\":\"y\"},{\"alignmentgroup\":\"True\",\"hovertemplate\":\"variable=indian_screentime<br>=%{x}<br>Screentime [%]=%{y}<extra></extra>\",\"legendgroup\":\"indian_screentime\",\"marker\":{\"color\":\"#00cc96\",\"opacity\":0.5,\"pattern\":{\"shape\":\"\"}},\"name\":\"indian_screentime\",\"offsetgroup\":\"indian_screentime\",\"orientation\":\"v\",\"showlegend\":true,\"textposition\":\"auto\",\"type\":\"bar\",\"x\":[\"1920-01-01T00:00:00\",\"1932-01-01T00:00:00\",\"1942-01-01T00:00:00\",\"1948-01-01T00:00:00\",\"1958-01-01T00:00:00\",\"1960-01-01T00:00:00\",\"1962-01-01T00:00:00\",\"1968-01-01T00:00:00\",\"1974-01-01T00:00:00\",\"1976-01-01T00:00:00\",\"1978-01-01T00:00:00\",\"1980-01-01T00:00:00\",\"1984-01-01T00:00:00\",\"1986-01-01T00:00:00\",\"1988-01-01T00:00:00\",\"1990-01-01T00:00:00\",\"1994-01-01T00:00:00\",\"1996-01-01T00:00:00\",\"1998-01-01T00:00:00\",\"2000-01-01T00:00:00\",\"2002-01-01T00:00:00\",\"2004-01-01T00:00:00\",\"2006-01-01T00:00:00\",\"2008-01-01T00:00:00\",\"2010-01-01T00:00:00\",\"2012-01-01T00:00:00\",\"2014-01-01T00:00:00\",\"2016-01-01T00:00:00\",\"2018-01-01T00:00:00\"],\"xaxis\":\"x\",\"y\":[3.2375740994072046,2.9585798816568047,1.664025356576862,0.418702023726448,0.9069767441860463,2.389409105586051,2.15352542022451,2.3707440100882726,7.157057654075547,1.8252933507170797,2.081526452732004,2.1355617455896008,3.1235486823722116,2.012156780549151,2.429328621908127,4.536001269557588,5.032911438004358,2.039775386062567,1.273039863590352,1.631031788274464,2.4352328202686224,2.9402059883596565,1.446912202457547,1.8883037167584338,2.47280178967675,5.847670232255858,2.3152879133908666,1.8713188640581377,3.537193187507233],\"yaxis\":\"y\"},{\"alignmentgroup\":\"True\",\"hovertemplate\":\"variable=latino_hispanic_screentime<br>=%{x}<br>Screentime [%]=%{y}<extra></extra>\",\"legendgroup\":\"latino_hispanic_screentime\",\"marker\":{\"color\":\"#ab63fa\",\"opacity\":0.5,\"pattern\":{\"shape\":\"\"}},\"name\":\"latino_hispanic_screentime\",\"offsetgroup\":\"latino_hispanic_screentime\",\"orientation\":\"v\",\"showlegend\":true,\"textposition\":\"auto\",\"type\":\"bar\",\"x\":[\"1920-01-01T00:00:00\",\"1932-01-01T00:00:00\",\"1942-01-01T00:00:00\",\"1948-01-01T00:00:00\",\"1958-01-01T00:00:00\",\"1960-01-01T00:00:00\",\"1962-01-01T00:00:00\",\"1968-01-01T00:00:00\",\"1974-01-01T00:00:00\",\"1976-01-01T00:00:00\",\"1978-01-01T00:00:00\",\"1980-01-01T00:00:00\",\"1984-01-01T00:00:00\",\"1986-01-01T00:00:00\",\"1988-01-01T00:00:00\",\"1990-01-01T00:00:00\",\"1994-01-01T00:00:00\",\"1996-01-01T00:00:00\",\"1998-01-01T00:00:00\",\"2000-01-01T00:00:00\",\"2002-01-01T00:00:00\",\"2004-01-01T00:00:00\",\"2006-01-01T00:00:00\",\"2008-01-01T00:00:00\",\"2010-01-01T00:00:00\",\"2012-01-01T00:00:00\",\"2014-01-01T00:00:00\",\"2016-01-01T00:00:00\",\"2018-01-01T00:00:00\"],\"xaxis\":\"x\",\"y\":[5.88235294117647,5.325443786982249,5.625990491283677,6.66434054431263,11.093023255813954,14.982240878269293,8.978531119030762,19.84867591424969,11.909495408501371,6.51890482398957,5.897658282740677,7.205199628597956,8.903911933323696,3.66799413120939,9.054770318021202,11.06448524418734,12.145470400568499,7.98172411660108,5.243264941648155,5.189612281953426,5.8455447075062965,8.448758920435335,9.019307803000054,7.212631267950575,6.958969105174447,10.850012266724587,8.287677387718698,7.851652946289104,10.142418508454007],\"yaxis\":\"y\"},{\"alignmentgroup\":\"True\",\"hovertemplate\":\"variable=middle_eastern_screentime<br>=%{x}<br>Screentime [%]=%{y}<extra></extra>\",\"legendgroup\":\"middle_eastern_screentime\",\"marker\":{\"color\":\"#FFA15A\",\"opacity\":0.5,\"pattern\":{\"shape\":\"\"}},\"name\":\"middle_eastern_screentime\",\"offsetgroup\":\"middle_eastern_screentime\",\"orientation\":\"v\",\"showlegend\":true,\"textposition\":\"auto\",\"type\":\"bar\",\"x\":[\"1920-01-01T00:00:00\",\"1932-01-01T00:00:00\",\"1942-01-01T00:00:00\",\"1948-01-01T00:00:00\",\"1958-01-01T00:00:00\",\"1960-01-01T00:00:00\",\"1962-01-01T00:00:00\",\"1968-01-01T00:00:00\",\"1974-01-01T00:00:00\",\"1976-01-01T00:00:00\",\"1978-01-01T00:00:00\",\"1980-01-01T00:00:00\",\"1984-01-01T00:00:00\",\"1986-01-01T00:00:00\",\"1988-01-01T00:00:00\",\"1990-01-01T00:00:00\",\"1994-01-01T00:00:00\",\"1996-01-01T00:00:00\",\"1998-01-01T00:00:00\",\"2000-01-01T00:00:00\",\"2002-01-01T00:00:00\",\"2004-01-01T00:00:00\",\"2006-01-01T00:00:00\",\"2008-01-01T00:00:00\",\"2010-01-01T00:00:00\",\"2012-01-01T00:00:00\",\"2014-01-01T00:00:00\",\"2016-01-01T00:00:00\",\"2018-01-01T00:00:00\"],\"xaxis\":\"x\",\"y\":[6.429548563611491,1.183431952662722,7.210776545166403,8.199581297976273,3.372093023255814,5.230868582499193,9.336603388205297,1.790668348045397,7.65880905045915,1.5971316818774446,2.8910089621277826,4.47539461467038,1.8901816254757429,0.5030391951372878,1.8551236749116609,4.874685350472506,3.987911180482484,2.7950910616257545,1.9864548078886763,3.5158771502666957,2.523775204324442,4.090062070149986,2.840521796338209,2.5776169014763375,3.051098751590484,4.427425717014777,4.281507811384556,5.221983582383911,3.6543377971022895],\"yaxis\":\"y\"},{\"alignmentgroup\":\"True\",\"hovertemplate\":\"variable=white_screentime<br>=%{x}<br>Screentime [%]=%{y}<extra></extra>\",\"legendgroup\":\"white_screentime\",\"marker\":{\"color\":\"#19d3f3\",\"opacity\":0.5,\"pattern\":{\"shape\":\"\"}},\"name\":\"white_screentime\",\"offsetgroup\":\"white_screentime\",\"orientation\":\"v\",\"showlegend\":true,\"textposition\":\"auto\",\"type\":\"bar\",\"x\":[\"1920-01-01T00:00:00\",\"1932-01-01T00:00:00\",\"1942-01-01T00:00:00\",\"1948-01-01T00:00:00\",\"1958-01-01T00:00:00\",\"1960-01-01T00:00:00\",\"1962-01-01T00:00:00\",\"1968-01-01T00:00:00\",\"1974-01-01T00:00:00\",\"1976-01-01T00:00:00\",\"1978-01-01T00:00:00\",\"1980-01-01T00:00:00\",\"1984-01-01T00:00:00\",\"1986-01-01T00:00:00\",\"1988-01-01T00:00:00\",\"1990-01-01T00:00:00\",\"1994-01-01T00:00:00\",\"1996-01-01T00:00:00\",\"1998-01-01T00:00:00\",\"2000-01-01T00:00:00\",\"2002-01-01T00:00:00\",\"2004-01-01T00:00:00\",\"2006-01-01T00:00:00\",\"2008-01-01T00:00:00\",\"2010-01-01T00:00:00\",\"2012-01-01T00:00:00\",\"2014-01-01T00:00:00\",\"2016-01-01T00:00:00\",\"2018-01-01T00:00:00\"],\"xaxis\":\"x\",\"y\":[80.43775649794802,86.3905325443787,75.19809825673535,81.99581297976273,76.65116279069767,72.9092670326122,71.96346077647763,59.36948297604035,60.50364479787939,78.78096479791395,81.3529921942758,76.19312906220983,77.71139856433973,78.53699434080906,80.69787985865725,65.04473145576421,57.03661472140957,72.4472765068257,81.83743737924354,82.01646603173165,69.5925772887224,69.22883815289677,75.35959267711924,74.48884422044863,74.45525082773625,65.170549446815,74.14812218089949,71.61337592922443,59.63339775969141],\"yaxis\":\"y\"},{\"alignmentgroup\":\"True\",\"hovertemplate\":\"variable=women_of_color<br>=%{x}<br>Screentime [%]=%{y}<extra></extra>\",\"legendgroup\":\"women_of_color\",\"marker\":{\"color\":\"#FF6692\",\"opacity\":0.5,\"pattern\":{\"shape\":\"\"}},\"name\":\"women_of_color\",\"offsetgroup\":\"women_of_color\",\"orientation\":\"v\",\"showlegend\":true,\"textposition\":\"auto\",\"type\":\"bar\",\"x\":[\"1920-01-01T00:00:00\",\"1932-01-01T00:00:00\",\"1942-01-01T00:00:00\",\"1948-01-01T00:00:00\",\"1958-01-01T00:00:00\",\"1960-01-01T00:00:00\",\"1962-01-01T00:00:00\",\"1968-01-01T00:00:00\",\"1974-01-01T00:00:00\",\"1976-01-01T00:00:00\",\"1978-01-01T00:00:00\",\"1980-01-01T00:00:00\",\"1984-01-01T00:00:00\",\"1986-01-01T00:00:00\",\"1988-01-01T00:00:00\",\"1990-01-01T00:00:00\",\"1994-01-01T00:00:00\",\"1996-01-01T00:00:00\",\"1998-01-01T00:00:00\",\"2000-01-01T00:00:00\",\"2002-01-01T00:00:00\",\"2004-01-01T00:00:00\",\"2006-01-01T00:00:00\",\"2008-01-01T00:00:00\",\"2010-01-01T00:00:00\",\"2012-01-01T00:00:00\",\"2014-01-01T00:00:00\",\"2016-01-01T00:00:00\",\"2018-01-01T00:00:00\"],\"xaxis\":\"x\",\"y\":[0.0,0.0,0.1119820828667413,0.0,1.7521090201168072,3.923948220064725,0.6209467848027082,10.18735362997658,1.2197928653624857,2.3783783783783785,0.8550855085508551,0.6775067750677507,1.95782992218268,0.5543710021321961,0.1330671989354624,1.5835077150537078,1.4902401169481736,1.9795574801752691,1.992386565972862,1.3789060637841446,3.8538444078924896,3.5885366329813135,1.4487720064667728,2.2964380535815114,3.807551931589533,3.580247101656146,2.4119152072526133,2.4241075239585594,4.701112009868479],\"yaxis\":\"y\"}],                        {\"barmode\":\"overlay\",\"legend\":{\"title\":{\"text\":\"variable\"},\"tracegroupgap\":0},\"margin\":{\"t\":60},\"template\":{\"data\":{\"bar\":[{\"error_x\":{\"color\":\"#2a3f5f\"},\"error_y\":{\"color\":\"#2a3f5f\"},\"marker\":{\"line\":{\"color\":\"#E5ECF6\",\"width\":0.5},\"pattern\":{\"fillmode\":\"overlay\",\"size\":10,\"solidity\":0.2}},\"type\":\"bar\"}],\"barpolar\":[{\"marker\":{\"line\":{\"color\":\"#E5ECF6\",\"width\":0.5},\"pattern\":{\"fillmode\":\"overlay\",\"size\":10,\"solidity\":0.2}},\"type\":\"barpolar\"}],\"carpet\":[{\"aaxis\":{\"endlinecolor\":\"#2a3f5f\",\"gridcolor\":\"white\",\"linecolor\":\"white\",\"minorgridcolor\":\"white\",\"startlinecolor\":\"#2a3f5f\"},\"baxis\":{\"endlinecolor\":\"#2a3f5f\",\"gridcolor\":\"white\",\"linecolor\":\"white\",\"minorgridcolor\":\"white\",\"startlinecolor\":\"#2a3f5f\"},\"type\":\"carpet\"}],\"choropleth\":[{\"colorbar\":{\"outlinewidth\":0,\"ticks\":\"\"},\"type\":\"choropleth\"}],\"contour\":[{\"colorbar\":{\"outlinewidth\":0,\"ticks\":\"\"},\"colorscale\":[[0.0,\"#0d0887\"],[0.1111111111111111,\"#46039f\"],[0.2222222222222222,\"#7201a8\"],[0.3333333333333333,\"#9c179e\"],[0.4444444444444444,\"#bd3786\"],[0.5555555555555556,\"#d8576b\"],[0.6666666666666666,\"#ed7953\"],[0.7777777777777778,\"#fb9f3a\"],[0.8888888888888888,\"#fdca26\"],[1.0,\"#f0f921\"]],\"type\":\"contour\"}],\"contourcarpet\":[{\"colorbar\":{\"outlinewidth\":0,\"ticks\":\"\"},\"type\":\"contourcarpet\"}],\"heatmap\":[{\"colorbar\":{\"outlinewidth\":0,\"ticks\":\"\"},\"colorscale\":[[0.0,\"#0d0887\"],[0.1111111111111111,\"#46039f\"],[0.2222222222222222,\"#7201a8\"],[0.3333333333333333,\"#9c179e\"],[0.4444444444444444,\"#bd3786\"],[0.5555555555555556,\"#d8576b\"],[0.6666666666666666,\"#ed7953\"],[0.7777777777777778,\"#fb9f3a\"],[0.8888888888888888,\"#fdca26\"],[1.0,\"#f0f921\"]],\"type\":\"heatmap\"}],\"heatmapgl\":[{\"colorbar\":{\"outlinewidth\":0,\"ticks\":\"\"},\"colorscale\":[[0.0,\"#0d0887\"],[0.1111111111111111,\"#46039f\"],[0.2222222222222222,\"#7201a8\"],[0.3333333333333333,\"#9c179e\"],[0.4444444444444444,\"#bd3786\"],[0.5555555555555556,\"#d8576b\"],[0.6666666666666666,\"#ed7953\"],[0.7777777777777778,\"#fb9f3a\"],[0.8888888888888888,\"#fdca26\"],[1.0,\"#f0f921\"]],\"type\":\"heatmapgl\"}],\"histogram\":[{\"marker\":{\"pattern\":{\"fillmode\":\"overlay\",\"size\":10,\"solidity\":0.2}},\"type\":\"histogram\"}],\"histogram2d\":[{\"colorbar\":{\"outlinewidth\":0,\"ticks\":\"\"},\"colorscale\":[[0.0,\"#0d0887\"],[0.1111111111111111,\"#46039f\"],[0.2222222222222222,\"#7201a8\"],[0.3333333333333333,\"#9c179e\"],[0.4444444444444444,\"#bd3786\"],[0.5555555555555556,\"#d8576b\"],[0.6666666666666666,\"#ed7953\"],[0.7777777777777778,\"#fb9f3a\"],[0.8888888888888888,\"#fdca26\"],[1.0,\"#f0f921\"]],\"type\":\"histogram2d\"}],\"histogram2dcontour\":[{\"colorbar\":{\"outlinewidth\":0,\"ticks\":\"\"},\"colorscale\":[[0.0,\"#0d0887\"],[0.1111111111111111,\"#46039f\"],[0.2222222222222222,\"#7201a8\"],[0.3333333333333333,\"#9c179e\"],[0.4444444444444444,\"#bd3786\"],[0.5555555555555556,\"#d8576b\"],[0.6666666666666666,\"#ed7953\"],[0.7777777777777778,\"#fb9f3a\"],[0.8888888888888888,\"#fdca26\"],[1.0,\"#f0f921\"]],\"type\":\"histogram2dcontour\"}],\"mesh3d\":[{\"colorbar\":{\"outlinewidth\":0,\"ticks\":\"\"},\"type\":\"mesh3d\"}],\"parcoords\":[{\"line\":{\"colorbar\":{\"outlinewidth\":0,\"ticks\":\"\"}},\"type\":\"parcoords\"}],\"pie\":[{\"automargin\":true,\"type\":\"pie\"}],\"scatter\":[{\"marker\":{\"colorbar\":{\"outlinewidth\":0,\"ticks\":\"\"}},\"type\":\"scatter\"}],\"scatter3d\":[{\"line\":{\"colorbar\":{\"outlinewidth\":0,\"ticks\":\"\"}},\"marker\":{\"colorbar\":{\"outlinewidth\":0,\"ticks\":\"\"}},\"type\":\"scatter3d\"}],\"scattercarpet\":[{\"marker\":{\"colorbar\":{\"outlinewidth\":0,\"ticks\":\"\"}},\"type\":\"scattercarpet\"}],\"scattergeo\":[{\"marker\":{\"colorbar\":{\"outlinewidth\":0,\"ticks\":\"\"}},\"type\":\"scattergeo\"}],\"scattergl\":[{\"marker\":{\"colorbar\":{\"outlinewidth\":0,\"ticks\":\"\"}},\"type\":\"scattergl\"}],\"scattermapbox\":[{\"marker\":{\"colorbar\":{\"outlinewidth\":0,\"ticks\":\"\"}},\"type\":\"scattermapbox\"}],\"scatterpolar\":[{\"marker\":{\"colorbar\":{\"outlinewidth\":0,\"ticks\":\"\"}},\"type\":\"scatterpolar\"}],\"scatterpolargl\":[{\"marker\":{\"colorbar\":{\"outlinewidth\":0,\"ticks\":\"\"}},\"type\":\"scatterpolargl\"}],\"scatterternary\":[{\"marker\":{\"colorbar\":{\"outlinewidth\":0,\"ticks\":\"\"}},\"type\":\"scatterternary\"}],\"surface\":[{\"colorbar\":{\"outlinewidth\":0,\"ticks\":\"\"},\"colorscale\":[[0.0,\"#0d0887\"],[0.1111111111111111,\"#46039f\"],[0.2222222222222222,\"#7201a8\"],[0.3333333333333333,\"#9c179e\"],[0.4444444444444444,\"#bd3786\"],[0.5555555555555556,\"#d8576b\"],[0.6666666666666666,\"#ed7953\"],[0.7777777777777778,\"#fb9f3a\"],[0.8888888888888888,\"#fdca26\"],[1.0,\"#f0f921\"]],\"type\":\"surface\"}],\"table\":[{\"cells\":{\"fill\":{\"color\":\"#EBF0F8\"},\"line\":{\"color\":\"white\"}},\"header\":{\"fill\":{\"color\":\"#C8D4E3\"},\"line\":{\"color\":\"white\"}},\"type\":\"table\"}]},\"layout\":{\"annotationdefaults\":{\"arrowcolor\":\"#2a3f5f\",\"arrowhead\":0,\"arrowwidth\":1},\"autotypenumbers\":\"strict\",\"coloraxis\":{\"colorbar\":{\"outlinewidth\":0,\"ticks\":\"\"}},\"colorscale\":{\"diverging\":[[0,\"#8e0152\"],[0.1,\"#c51b7d\"],[0.2,\"#de77ae\"],[0.3,\"#f1b6da\"],[0.4,\"#fde0ef\"],[0.5,\"#f7f7f7\"],[0.6,\"#e6f5d0\"],[0.7,\"#b8e186\"],[0.8,\"#7fbc41\"],[0.9,\"#4d9221\"],[1,\"#276419\"]],\"sequential\":[[0.0,\"#0d0887\"],[0.1111111111111111,\"#46039f\"],[0.2222222222222222,\"#7201a8\"],[0.3333333333333333,\"#9c179e\"],[0.4444444444444444,\"#bd3786\"],[0.5555555555555556,\"#d8576b\"],[0.6666666666666666,\"#ed7953\"],[0.7777777777777778,\"#fb9f3a\"],[0.8888888888888888,\"#fdca26\"],[1.0,\"#f0f921\"]],\"sequentialminus\":[[0.0,\"#0d0887\"],[0.1111111111111111,\"#46039f\"],[0.2222222222222222,\"#7201a8\"],[0.3333333333333333,\"#9c179e\"],[0.4444444444444444,\"#bd3786\"],[0.5555555555555556,\"#d8576b\"],[0.6666666666666666,\"#ed7953\"],[0.7777777777777778,\"#fb9f3a\"],[0.8888888888888888,\"#fdca26\"],[1.0,\"#f0f921\"]]},\"colorway\":[\"#636efa\",\"#EF553B\",\"#00cc96\",\"#ab63fa\",\"#FFA15A\",\"#19d3f3\",\"#FF6692\",\"#B6E880\",\"#FF97FF\",\"#FECB52\"],\"font\":{\"color\":\"#2a3f5f\"},\"geo\":{\"bgcolor\":\"white\",\"lakecolor\":\"white\",\"landcolor\":\"#E5ECF6\",\"showlakes\":true,\"showland\":true,\"subunitcolor\":\"white\"},\"hoverlabel\":{\"align\":\"left\"},\"hovermode\":\"closest\",\"mapbox\":{\"style\":\"light\"},\"paper_bgcolor\":\"white\",\"plot_bgcolor\":\"#E5ECF6\",\"polar\":{\"angularaxis\":{\"gridcolor\":\"white\",\"linecolor\":\"white\",\"ticks\":\"\"},\"bgcolor\":\"#E5ECF6\",\"radialaxis\":{\"gridcolor\":\"white\",\"linecolor\":\"white\",\"ticks\":\"\"}},\"scene\":{\"xaxis\":{\"backgroundcolor\":\"#E5ECF6\",\"gridcolor\":\"white\",\"gridwidth\":2,\"linecolor\":\"white\",\"showbackground\":true,\"ticks\":\"\",\"zerolinecolor\":\"white\"},\"yaxis\":{\"backgroundcolor\":\"#E5ECF6\",\"gridcolor\":\"white\",\"gridwidth\":2,\"linecolor\":\"white\",\"showbackground\":true,\"ticks\":\"\",\"zerolinecolor\":\"white\"},\"zaxis\":{\"backgroundcolor\":\"#E5ECF6\",\"gridcolor\":\"white\",\"gridwidth\":2,\"linecolor\":\"white\",\"showbackground\":true,\"ticks\":\"\",\"zerolinecolor\":\"white\"}},\"shapedefaults\":{\"line\":{\"color\":\"#2a3f5f\"}},\"ternary\":{\"aaxis\":{\"gridcolor\":\"white\",\"linecolor\":\"white\",\"ticks\":\"\"},\"baxis\":{\"gridcolor\":\"white\",\"linecolor\":\"white\",\"ticks\":\"\"},\"bgcolor\":\"#E5ECF6\",\"caxis\":{\"gridcolor\":\"white\",\"linecolor\":\"white\",\"ticks\":\"\"}},\"title\":{\"x\":0.05},\"xaxis\":{\"automargin\":true,\"gridcolor\":\"white\",\"linecolor\":\"white\",\"ticks\":\"\",\"title\":{\"standoff\":15},\"zerolinecolor\":\"white\",\"zerolinewidth\":2},\"yaxis\":{\"automargin\":true,\"gridcolor\":\"white\",\"linecolor\":\"white\",\"ticks\":\"\",\"title\":{\"standoff\":15},\"zerolinecolor\":\"white\",\"zerolinewidth\":2}}},\"xaxis\":{\"anchor\":\"y\",\"domain\":[0.0,1.0],\"title\":{\"text\":\"\"}},\"yaxis\":{\"anchor\":\"x\",\"domain\":[0.0,1.0],\"title\":{\"text\":\"Screentime [%]\"}}},                        {\"responsive\": true}                    ).then(function(){\n",
       "                            \n",
       "var gd = document.getElementById('6c89767b-1a31-45b0-8849-56900cbcb039');\n",
       "var x = new MutationObserver(function (mutations, observer) {{\n",
       "        var display = window.getComputedStyle(gd).display;\n",
       "        if (!display || display === 'none') {{\n",
       "            console.log([gd, 'removed!']);\n",
       "            Plotly.purge(gd);\n",
       "            observer.disconnect();\n",
       "        }}\n",
       "}});\n",
       "\n",
       "// Listen for the removal of the full notebook cells\n",
       "var notebookContainer = gd.closest('#notebook-container');\n",
       "if (notebookContainer) {{\n",
       "    x.observe(notebookContainer, {childList: true});\n",
       "}}\n",
       "\n",
       "// Listen for the clearing of the current output cell\n",
       "var outputEl = gd.closest('.output');\n",
       "if (outputEl) {{\n",
       "    x.observe(outputEl, {childList: true});\n",
       "}}\n",
       "\n",
       "                        })                };                });            </script>        </div>"
      ]
     },
     "metadata": {},
     "output_type": "display_data"
    }
   ],
   "source": [
    "plot_race_timeline(df_evo,plot_type=\"bar\",step=2)"
   ]
  },
  {
   "cell_type": "code",
   "execution_count": 82,
   "id": "81fc95c2",
   "metadata": {},
   "outputs": [],
   "source": [
    "df = df_evo"
   ]
  },
  {
   "cell_type": "code",
   "execution_count": 63,
   "id": "6dec3682",
   "metadata": {},
   "outputs": [
    {
     "data": {
      "text/html": [
       "<div>\n",
       "<style scoped>\n",
       "    .dataframe tbody tr th:only-of-type {\n",
       "        vertical-align: middle;\n",
       "    }\n",
       "\n",
       "    .dataframe tbody tr th {\n",
       "        vertical-align: top;\n",
       "    }\n",
       "\n",
       "    .dataframe thead th {\n",
       "        text-align: right;\n",
       "    }\n",
       "</style>\n",
       "<table border=\"1\" class=\"dataframe\">\n",
       "  <thead>\n",
       "    <tr style=\"text-align: right;\">\n",
       "      <th>year</th>\n",
       "      <th>1920-01-01</th>\n",
       "      <th>1925-01-01</th>\n",
       "      <th>1955-01-01</th>\n",
       "      <th>1960-01-01</th>\n",
       "      <th>1965-01-01</th>\n",
       "      <th>1980-01-01</th>\n",
       "      <th>1990-01-01</th>\n",
       "      <th>1995-01-01</th>\n",
       "      <th>2000-01-01</th>\n",
       "      <th>2005-01-01</th>\n",
       "      <th>2010-01-01</th>\n",
       "      <th>2015-01-01</th>\n",
       "    </tr>\n",
       "  </thead>\n",
       "  <tbody>\n",
       "    <tr>\n",
       "      <th>index</th>\n",
       "      <td>0.000000</td>\n",
       "      <td>0.000000</td>\n",
       "      <td>0.000000</td>\n",
       "      <td>0.000000e+00</td>\n",
       "      <td>0.000000e+00</td>\n",
       "      <td>0.000000e+00</td>\n",
       "      <td>0.000000e+00</td>\n",
       "      <td>0.000000e+00</td>\n",
       "      <td>0.000000e+00</td>\n",
       "      <td>0.000000e+00</td>\n",
       "      <td>0.000000e+00</td>\n",
       "      <td>0.000000e+00</td>\n",
       "    </tr>\n",
       "    <tr>\n",
       "      <th>man_screentime</th>\n",
       "      <td>97.765618</td>\n",
       "      <td>96.304719</td>\n",
       "      <td>94.309638</td>\n",
       "      <td>7.617049e+01</td>\n",
       "      <td>9.462779e+01</td>\n",
       "      <td>9.095636e+01</td>\n",
       "      <td>9.310540e+01</td>\n",
       "      <td>9.375573e+01</td>\n",
       "      <td>8.967400e+01</td>\n",
       "      <td>8.878203e+01</td>\n",
       "      <td>8.550824e+01</td>\n",
       "      <td>8.441423e+01</td>\n",
       "    </tr>\n",
       "    <tr>\n",
       "      <th>woman_screentime</th>\n",
       "      <td>2.234382</td>\n",
       "      <td>3.695281</td>\n",
       "      <td>5.690362</td>\n",
       "      <td>2.382951e+01</td>\n",
       "      <td>5.372205e+00</td>\n",
       "      <td>9.043640e+00</td>\n",
       "      <td>6.894600e+00</td>\n",
       "      <td>6.244268e+00</td>\n",
       "      <td>1.032600e+01</td>\n",
       "      <td>1.121797e+01</td>\n",
       "      <td>1.449176e+01</td>\n",
       "      <td>1.558577e+01</td>\n",
       "    </tr>\n",
       "    <tr>\n",
       "      <th>only_men</th>\n",
       "      <td>96.153846</td>\n",
       "      <td>90.707965</td>\n",
       "      <td>91.096481</td>\n",
       "      <td>7.038835e+01</td>\n",
       "      <td>8.729201e+01</td>\n",
       "      <td>8.394309e+01</td>\n",
       "      <td>8.929093e+01</td>\n",
       "      <td>9.088262e+01</td>\n",
       "      <td>8.574261e+01</td>\n",
       "      <td>8.267467e+01</td>\n",
       "      <td>8.004515e+01</td>\n",
       "      <td>7.426239e+01</td>\n",
       "    </tr>\n",
       "    <tr>\n",
       "      <th>only_women</th>\n",
       "      <td>2.354788</td>\n",
       "      <td>6.342183</td>\n",
       "      <td>4.479236</td>\n",
       "      <td>2.293689e+01</td>\n",
       "      <td>5.178869e+00</td>\n",
       "      <td>6.605691e+00</td>\n",
       "      <td>5.365456e+00</td>\n",
       "      <td>4.124289e+00</td>\n",
       "      <td>9.098536e+00</td>\n",
       "      <td>1.187114e+01</td>\n",
       "      <td>1.359484e+01</td>\n",
       "      <td>1.272405e+01</td>\n",
       "    </tr>\n",
       "    <tr>\n",
       "      <th>asian_screentime</th>\n",
       "      <td>3.009576</td>\n",
       "      <td>2.103468</td>\n",
       "      <td>5.539011</td>\n",
       "      <td>3.777850e+00</td>\n",
       "      <td>5.126525e+00</td>\n",
       "      <td>7.576602e+00</td>\n",
       "      <td>9.210026e+00</td>\n",
       "      <td>5.254223e+00</td>\n",
       "      <td>4.886820e+00</td>\n",
       "      <td>9.012093e+00</td>\n",
       "      <td>7.560834e+00</td>\n",
       "      <td>7.126583e+00</td>\n",
       "    </tr>\n",
       "    <tr>\n",
       "      <th>black_screentime</th>\n",
       "      <td>1.003192</td>\n",
       "      <td>7.220011</td>\n",
       "      <td>6.425309</td>\n",
       "      <td>7.103649e-01</td>\n",
       "      <td>3.963639e+00</td>\n",
       "      <td>2.414113e+00</td>\n",
       "      <td>5.270071e+00</td>\n",
       "      <td>1.374231e+01</td>\n",
       "      <td>2.760193e+00</td>\n",
       "      <td>3.038001e+00</td>\n",
       "      <td>5.501045e+00</td>\n",
       "      <td>8.878458e+00</td>\n",
       "    </tr>\n",
       "    <tr>\n",
       "      <th>indian_screentime</th>\n",
       "      <td>3.237574</td>\n",
       "      <td>2.615122</td>\n",
       "      <td>4.351490</td>\n",
       "      <td>2.389409e+00</td>\n",
       "      <td>5.601507e+00</td>\n",
       "      <td>2.135562e+00</td>\n",
       "      <td>4.536001e+00</td>\n",
       "      <td>2.936752e+00</td>\n",
       "      <td>1.631032e+00</td>\n",
       "      <td>2.211741e+00</td>\n",
       "      <td>2.472802e+00</td>\n",
       "      <td>2.317073e+00</td>\n",
       "    </tr>\n",
       "    <tr>\n",
       "      <th>latino_hispanic_screentime</th>\n",
       "      <td>5.882353</td>\n",
       "      <td>4.206936</td>\n",
       "      <td>14.558530</td>\n",
       "      <td>1.498224e+01</td>\n",
       "      <td>6.756203e+00</td>\n",
       "      <td>7.205200e+00</td>\n",
       "      <td>1.106449e+01</td>\n",
       "      <td>1.244137e+01</td>\n",
       "      <td>5.189612e+00</td>\n",
       "      <td>6.411443e+00</td>\n",
       "      <td>6.958969e+00</td>\n",
       "      <td>1.012222e+01</td>\n",
       "    </tr>\n",
       "    <tr>\n",
       "      <th>middle_eastern_screentime</th>\n",
       "      <td>6.429549</td>\n",
       "      <td>2.728823</td>\n",
       "      <td>7.661231</td>\n",
       "      <td>5.230869e+00</td>\n",
       "      <td>7.534190e+00</td>\n",
       "      <td>4.475395e+00</td>\n",
       "      <td>4.874685e+00</td>\n",
       "      <td>3.237604e+00</td>\n",
       "      <td>3.515877e+00</td>\n",
       "      <td>2.896609e+00</td>\n",
       "      <td>3.051099e+00</td>\n",
       "      <td>4.108964e+00</td>\n",
       "    </tr>\n",
       "    <tr>\n",
       "      <th>white_screentime</th>\n",
       "      <td>80.437756</td>\n",
       "      <td>81.125640</td>\n",
       "      <td>61.464428</td>\n",
       "      <td>7.290927e+01</td>\n",
       "      <td>7.101793e+01</td>\n",
       "      <td>7.619313e+01</td>\n",
       "      <td>6.504473e+01</td>\n",
       "      <td>6.238775e+01</td>\n",
       "      <td>8.201647e+01</td>\n",
       "      <td>7.643011e+01</td>\n",
       "      <td>7.445525e+01</td>\n",
       "      <td>6.744670e+01</td>\n",
       "    </tr>\n",
       "    <tr>\n",
       "      <th>women_of_color</th>\n",
       "      <td>0.000000</td>\n",
       "      <td>0.147493</td>\n",
       "      <td>0.831658</td>\n",
       "      <td>3.923948e+00</td>\n",
       "      <td>1.476705e+00</td>\n",
       "      <td>6.775068e-01</td>\n",
       "      <td>1.583508e+00</td>\n",
       "      <td>1.378343e+00</td>\n",
       "      <td>1.378906e+00</td>\n",
       "      <td>1.728393e+00</td>\n",
       "      <td>3.807552e+00</td>\n",
       "      <td>5.197420e+00</td>\n",
       "    </tr>\n",
       "    <tr>\n",
       "      <th>total_frames</th>\n",
       "      <td>1274.000000</td>\n",
       "      <td>678.000000</td>\n",
       "      <td>1827.000000</td>\n",
       "      <td>2.472000e+03</td>\n",
       "      <td>4.808000e+03</td>\n",
       "      <td>2.952000e+03</td>\n",
       "      <td>3.690333e+03</td>\n",
       "      <td>2.594000e+03</td>\n",
       "      <td>1.833500e+03</td>\n",
       "      <td>2.455200e+03</td>\n",
       "      <td>2.119714e+03</td>\n",
       "      <td>2.464667e+03</td>\n",
       "    </tr>\n",
       "    <tr>\n",
       "      <th>total_seconds</th>\n",
       "      <td>637.000000</td>\n",
       "      <td>339.000000</td>\n",
       "      <td>913.500000</td>\n",
       "      <td>1.236000e+03</td>\n",
       "      <td>2.404000e+03</td>\n",
       "      <td>1.476000e+03</td>\n",
       "      <td>1.845167e+03</td>\n",
       "      <td>1.297000e+03</td>\n",
       "      <td>9.167500e+02</td>\n",
       "      <td>1.227600e+03</td>\n",
       "      <td>1.059857e+03</td>\n",
       "      <td>1.232333e+03</td>\n",
       "    </tr>\n",
       "    <tr>\n",
       "      <th>total_faces</th>\n",
       "      <td>2193.000000</td>\n",
       "      <td>1759.000000</td>\n",
       "      <td>2970.000000</td>\n",
       "      <td>3.097000e+03</td>\n",
       "      <td>1.221100e+04</td>\n",
       "      <td>5.385000e+03</td>\n",
       "      <td>7.154000e+03</td>\n",
       "      <td>4.119000e+03</td>\n",
       "      <td>2.529000e+03</td>\n",
       "      <td>4.898800e+03</td>\n",
       "      <td>3.226286e+03</td>\n",
       "      <td>5.211333e+03</td>\n",
       "    </tr>\n",
       "    <tr>\n",
       "      <th>total_men</th>\n",
       "      <td>2144.000000</td>\n",
       "      <td>1694.000000</td>\n",
       "      <td>2805.500000</td>\n",
       "      <td>2.359000e+03</td>\n",
       "      <td>1.155500e+04</td>\n",
       "      <td>4.898000e+03</td>\n",
       "      <td>6.778333e+03</td>\n",
       "      <td>3.949500e+03</td>\n",
       "      <td>2.259500e+03</td>\n",
       "      <td>4.436800e+03</td>\n",
       "      <td>2.728571e+03</td>\n",
       "      <td>4.109667e+03</td>\n",
       "    </tr>\n",
       "    <tr>\n",
       "      <th>total_women</th>\n",
       "      <td>49.000000</td>\n",
       "      <td>65.000000</td>\n",
       "      <td>164.500000</td>\n",
       "      <td>7.380000e+02</td>\n",
       "      <td>6.560000e+02</td>\n",
       "      <td>4.870000e+02</td>\n",
       "      <td>3.756667e+02</td>\n",
       "      <td>1.695000e+02</td>\n",
       "      <td>2.695000e+02</td>\n",
       "      <td>4.620000e+02</td>\n",
       "      <td>4.977143e+02</td>\n",
       "      <td>1.101667e+03</td>\n",
       "    </tr>\n",
       "    <tr>\n",
       "      <th>total_women_of_color</th>\n",
       "      <td>0.000000</td>\n",
       "      <td>1.000000</td>\n",
       "      <td>15.000000</td>\n",
       "      <td>9.700000e+01</td>\n",
       "      <td>7.100000e+01</td>\n",
       "      <td>2.000000e+01</td>\n",
       "      <td>5.866667e+01</td>\n",
       "      <td>3.200000e+01</td>\n",
       "      <td>2.450000e+01</td>\n",
       "      <td>4.660000e+01</td>\n",
       "      <td>9.357143e+01</td>\n",
       "      <td>1.783333e+02</td>\n",
       "    </tr>\n",
       "    <tr>\n",
       "      <th>only_men_count</th>\n",
       "      <td>1225.000000</td>\n",
       "      <td>615.000000</td>\n",
       "      <td>1663.000000</td>\n",
       "      <td>1.740000e+03</td>\n",
       "      <td>4.197000e+03</td>\n",
       "      <td>2.478000e+03</td>\n",
       "      <td>3.348667e+03</td>\n",
       "      <td>2.428500e+03</td>\n",
       "      <td>1.567500e+03</td>\n",
       "      <td>2.033600e+03</td>\n",
       "      <td>1.658857e+03</td>\n",
       "      <td>1.672667e+03</td>\n",
       "    </tr>\n",
       "    <tr>\n",
       "      <th>only_women_count</th>\n",
       "      <td>30.000000</td>\n",
       "      <td>43.000000</td>\n",
       "      <td>83.500000</td>\n",
       "      <td>5.670000e+02</td>\n",
       "      <td>2.490000e+02</td>\n",
       "      <td>1.950000e+02</td>\n",
       "      <td>1.676667e+02</td>\n",
       "      <td>6.850000e+01</td>\n",
       "      <td>1.695000e+02</td>\n",
       "      <td>2.748000e+02</td>\n",
       "      <td>3.137143e+02</td>\n",
       "      <td>3.713333e+02</td>\n",
       "    </tr>\n",
       "    <tr>\n",
       "      <th>total_Man</th>\n",
       "      <td>2144.000000</td>\n",
       "      <td>1694.000000</td>\n",
       "      <td>2805.500000</td>\n",
       "      <td>2.359000e+03</td>\n",
       "      <td>1.155500e+04</td>\n",
       "      <td>4.898000e+03</td>\n",
       "      <td>6.778333e+03</td>\n",
       "      <td>3.949500e+03</td>\n",
       "      <td>2.259500e+03</td>\n",
       "      <td>4.436800e+03</td>\n",
       "      <td>2.728571e+03</td>\n",
       "      <td>4.109667e+03</td>\n",
       "    </tr>\n",
       "    <tr>\n",
       "      <th>total_Woman</th>\n",
       "      <td>49.000000</td>\n",
       "      <td>65.000000</td>\n",
       "      <td>164.500000</td>\n",
       "      <td>7.380000e+02</td>\n",
       "      <td>6.560000e+02</td>\n",
       "      <td>4.870000e+02</td>\n",
       "      <td>3.756667e+02</td>\n",
       "      <td>1.695000e+02</td>\n",
       "      <td>2.695000e+02</td>\n",
       "      <td>4.620000e+02</td>\n",
       "      <td>4.977143e+02</td>\n",
       "      <td>1.101667e+03</td>\n",
       "    </tr>\n",
       "    <tr>\n",
       "      <th>total_asian</th>\n",
       "      <td>66.000000</td>\n",
       "      <td>37.000000</td>\n",
       "      <td>167.500000</td>\n",
       "      <td>1.170000e+02</td>\n",
       "      <td>6.260000e+02</td>\n",
       "      <td>4.080000e+02</td>\n",
       "      <td>5.636667e+02</td>\n",
       "      <td>2.510000e+02</td>\n",
       "      <td>1.200000e+02</td>\n",
       "      <td>4.444000e+02</td>\n",
       "      <td>2.450000e+02</td>\n",
       "      <td>3.766667e+02</td>\n",
       "    </tr>\n",
       "    <tr>\n",
       "      <th>total_black</th>\n",
       "      <td>22.000000</td>\n",
       "      <td>127.000000</td>\n",
       "      <td>200.000000</td>\n",
       "      <td>2.200000e+01</td>\n",
       "      <td>4.840000e+02</td>\n",
       "      <td>1.300000e+02</td>\n",
       "      <td>4.883333e+02</td>\n",
       "      <td>7.095000e+02</td>\n",
       "      <td>6.700000e+01</td>\n",
       "      <td>1.798000e+02</td>\n",
       "      <td>1.958571e+02</td>\n",
       "      <td>4.340000e+02</td>\n",
       "    </tr>\n",
       "    <tr>\n",
       "      <th>total_indian</th>\n",
       "      <td>71.000000</td>\n",
       "      <td>46.000000</td>\n",
       "      <td>130.000000</td>\n",
       "      <td>7.400000e+01</td>\n",
       "      <td>6.840000e+02</td>\n",
       "      <td>1.150000e+02</td>\n",
       "      <td>4.370000e+02</td>\n",
       "      <td>1.430000e+02</td>\n",
       "      <td>3.950000e+01</td>\n",
       "      <td>1.446000e+02</td>\n",
       "      <td>7.057143e+01</td>\n",
       "      <td>1.086667e+02</td>\n",
       "    </tr>\n",
       "    <tr>\n",
       "      <th>total_latino_hispanic</th>\n",
       "      <td>129.000000</td>\n",
       "      <td>74.000000</td>\n",
       "      <td>441.000000</td>\n",
       "      <td>4.640000e+02</td>\n",
       "      <td>8.250000e+02</td>\n",
       "      <td>3.880000e+02</td>\n",
       "      <td>9.306667e+02</td>\n",
       "      <td>6.190000e+02</td>\n",
       "      <td>1.290000e+02</td>\n",
       "      <td>3.408000e+02</td>\n",
       "      <td>2.497143e+02</td>\n",
       "      <td>5.323333e+02</td>\n",
       "    </tr>\n",
       "    <tr>\n",
       "      <th>total_middle_eastern</th>\n",
       "      <td>141.000000</td>\n",
       "      <td>48.000000</td>\n",
       "      <td>222.500000</td>\n",
       "      <td>1.620000e+02</td>\n",
       "      <td>9.200000e+02</td>\n",
       "      <td>2.410000e+02</td>\n",
       "      <td>4.853333e+02</td>\n",
       "      <td>1.595000e+02</td>\n",
       "      <td>8.700000e+01</td>\n",
       "      <td>1.730000e+02</td>\n",
       "      <td>9.528571e+01</td>\n",
       "      <td>1.570000e+02</td>\n",
       "    </tr>\n",
       "    <tr>\n",
       "      <th>total_white</th>\n",
       "      <td>1764.000000</td>\n",
       "      <td>1427.000000</td>\n",
       "      <td>1809.000000</td>\n",
       "      <td>2.258000e+03</td>\n",
       "      <td>8.672000e+03</td>\n",
       "      <td>4.103000e+03</td>\n",
       "      <td>4.249000e+03</td>\n",
       "      <td>2.237000e+03</td>\n",
       "      <td>2.086500e+03</td>\n",
       "      <td>3.616200e+03</td>\n",
       "      <td>2.369857e+03</td>\n",
       "      <td>3.602667e+03</td>\n",
       "    </tr>\n",
       "    <tr>\n",
       "      <th>revenue</th>\n",
       "      <td>8811.000000</td>\n",
       "      <td>0.000000</td>\n",
       "      <td>850000.000000</td>\n",
       "      <td>3.200000e+07</td>\n",
       "      <td>1.118584e+08</td>\n",
       "      <td>1.904587e+08</td>\n",
       "      <td>2.046583e+08</td>\n",
       "      <td>2.501569e+08</td>\n",
       "      <td>2.399756e+08</td>\n",
       "      <td>3.408490e+08</td>\n",
       "      <td>8.238161e+07</td>\n",
       "      <td>6.202958e+08</td>\n",
       "    </tr>\n",
       "    <tr>\n",
       "      <th>runtime</th>\n",
       "      <td>77.000000</td>\n",
       "      <td>93.000000</td>\n",
       "      <td>83.000000</td>\n",
       "      <td>1.090000e+02</td>\n",
       "      <td>2.000000e+02</td>\n",
       "      <td>1.270000e+02</td>\n",
       "      <td>1.520000e+02</td>\n",
       "      <td>9.500000e+01</td>\n",
       "      <td>1.020000e+02</td>\n",
       "      <td>1.276000e+02</td>\n",
       "      <td>1.004286e+02</td>\n",
       "      <td>1.186667e+02</td>\n",
       "    </tr>\n",
       "  </tbody>\n",
       "</table>\n",
       "</div>"
      ],
      "text/plain": [
       "year                         1920-01-01   1925-01-01     1955-01-01  \\\n",
       "index                          0.000000     0.000000       0.000000   \n",
       "man_screentime                97.765618    96.304719      94.309638   \n",
       "woman_screentime               2.234382     3.695281       5.690362   \n",
       "only_men                      96.153846    90.707965      91.096481   \n",
       "only_women                     2.354788     6.342183       4.479236   \n",
       "asian_screentime               3.009576     2.103468       5.539011   \n",
       "black_screentime               1.003192     7.220011       6.425309   \n",
       "indian_screentime              3.237574     2.615122       4.351490   \n",
       "latino_hispanic_screentime     5.882353     4.206936      14.558530   \n",
       "middle_eastern_screentime      6.429549     2.728823       7.661231   \n",
       "white_screentime              80.437756    81.125640      61.464428   \n",
       "women_of_color                 0.000000     0.147493       0.831658   \n",
       "total_frames                1274.000000   678.000000    1827.000000   \n",
       "total_seconds                637.000000   339.000000     913.500000   \n",
       "total_faces                 2193.000000  1759.000000    2970.000000   \n",
       "total_men                   2144.000000  1694.000000    2805.500000   \n",
       "total_women                   49.000000    65.000000     164.500000   \n",
       "total_women_of_color           0.000000     1.000000      15.000000   \n",
       "only_men_count              1225.000000   615.000000    1663.000000   \n",
       "only_women_count              30.000000    43.000000      83.500000   \n",
       "total_Man                   2144.000000  1694.000000    2805.500000   \n",
       "total_Woman                   49.000000    65.000000     164.500000   \n",
       "total_asian                   66.000000    37.000000     167.500000   \n",
       "total_black                   22.000000   127.000000     200.000000   \n",
       "total_indian                  71.000000    46.000000     130.000000   \n",
       "total_latino_hispanic        129.000000    74.000000     441.000000   \n",
       "total_middle_eastern         141.000000    48.000000     222.500000   \n",
       "total_white                 1764.000000  1427.000000    1809.000000   \n",
       "revenue                     8811.000000     0.000000  850000.000000   \n",
       "runtime                       77.000000    93.000000      83.000000   \n",
       "\n",
       "year                          1960-01-01    1965-01-01    1980-01-01  \\\n",
       "index                       0.000000e+00  0.000000e+00  0.000000e+00   \n",
       "man_screentime              7.617049e+01  9.462779e+01  9.095636e+01   \n",
       "woman_screentime            2.382951e+01  5.372205e+00  9.043640e+00   \n",
       "only_men                    7.038835e+01  8.729201e+01  8.394309e+01   \n",
       "only_women                  2.293689e+01  5.178869e+00  6.605691e+00   \n",
       "asian_screentime            3.777850e+00  5.126525e+00  7.576602e+00   \n",
       "black_screentime            7.103649e-01  3.963639e+00  2.414113e+00   \n",
       "indian_screentime           2.389409e+00  5.601507e+00  2.135562e+00   \n",
       "latino_hispanic_screentime  1.498224e+01  6.756203e+00  7.205200e+00   \n",
       "middle_eastern_screentime   5.230869e+00  7.534190e+00  4.475395e+00   \n",
       "white_screentime            7.290927e+01  7.101793e+01  7.619313e+01   \n",
       "women_of_color              3.923948e+00  1.476705e+00  6.775068e-01   \n",
       "total_frames                2.472000e+03  4.808000e+03  2.952000e+03   \n",
       "total_seconds               1.236000e+03  2.404000e+03  1.476000e+03   \n",
       "total_faces                 3.097000e+03  1.221100e+04  5.385000e+03   \n",
       "total_men                   2.359000e+03  1.155500e+04  4.898000e+03   \n",
       "total_women                 7.380000e+02  6.560000e+02  4.870000e+02   \n",
       "total_women_of_color        9.700000e+01  7.100000e+01  2.000000e+01   \n",
       "only_men_count              1.740000e+03  4.197000e+03  2.478000e+03   \n",
       "only_women_count            5.670000e+02  2.490000e+02  1.950000e+02   \n",
       "total_Man                   2.359000e+03  1.155500e+04  4.898000e+03   \n",
       "total_Woman                 7.380000e+02  6.560000e+02  4.870000e+02   \n",
       "total_asian                 1.170000e+02  6.260000e+02  4.080000e+02   \n",
       "total_black                 2.200000e+01  4.840000e+02  1.300000e+02   \n",
       "total_indian                7.400000e+01  6.840000e+02  1.150000e+02   \n",
       "total_latino_hispanic       4.640000e+02  8.250000e+02  3.880000e+02   \n",
       "total_middle_eastern        1.620000e+02  9.200000e+02  2.410000e+02   \n",
       "total_white                 2.258000e+03  8.672000e+03  4.103000e+03   \n",
       "revenue                     3.200000e+07  1.118584e+08  1.904587e+08   \n",
       "runtime                     1.090000e+02  2.000000e+02  1.270000e+02   \n",
       "\n",
       "year                          1990-01-01    1995-01-01    2000-01-01  \\\n",
       "index                       0.000000e+00  0.000000e+00  0.000000e+00   \n",
       "man_screentime              9.310540e+01  9.375573e+01  8.967400e+01   \n",
       "woman_screentime            6.894600e+00  6.244268e+00  1.032600e+01   \n",
       "only_men                    8.929093e+01  9.088262e+01  8.574261e+01   \n",
       "only_women                  5.365456e+00  4.124289e+00  9.098536e+00   \n",
       "asian_screentime            9.210026e+00  5.254223e+00  4.886820e+00   \n",
       "black_screentime            5.270071e+00  1.374231e+01  2.760193e+00   \n",
       "indian_screentime           4.536001e+00  2.936752e+00  1.631032e+00   \n",
       "latino_hispanic_screentime  1.106449e+01  1.244137e+01  5.189612e+00   \n",
       "middle_eastern_screentime   4.874685e+00  3.237604e+00  3.515877e+00   \n",
       "white_screentime            6.504473e+01  6.238775e+01  8.201647e+01   \n",
       "women_of_color              1.583508e+00  1.378343e+00  1.378906e+00   \n",
       "total_frames                3.690333e+03  2.594000e+03  1.833500e+03   \n",
       "total_seconds               1.845167e+03  1.297000e+03  9.167500e+02   \n",
       "total_faces                 7.154000e+03  4.119000e+03  2.529000e+03   \n",
       "total_men                   6.778333e+03  3.949500e+03  2.259500e+03   \n",
       "total_women                 3.756667e+02  1.695000e+02  2.695000e+02   \n",
       "total_women_of_color        5.866667e+01  3.200000e+01  2.450000e+01   \n",
       "only_men_count              3.348667e+03  2.428500e+03  1.567500e+03   \n",
       "only_women_count            1.676667e+02  6.850000e+01  1.695000e+02   \n",
       "total_Man                   6.778333e+03  3.949500e+03  2.259500e+03   \n",
       "total_Woman                 3.756667e+02  1.695000e+02  2.695000e+02   \n",
       "total_asian                 5.636667e+02  2.510000e+02  1.200000e+02   \n",
       "total_black                 4.883333e+02  7.095000e+02  6.700000e+01   \n",
       "total_indian                4.370000e+02  1.430000e+02  3.950000e+01   \n",
       "total_latino_hispanic       9.306667e+02  6.190000e+02  1.290000e+02   \n",
       "total_middle_eastern        4.853333e+02  1.595000e+02  8.700000e+01   \n",
       "total_white                 4.249000e+03  2.237000e+03  2.086500e+03   \n",
       "revenue                     2.046583e+08  2.501569e+08  2.399756e+08   \n",
       "runtime                     1.520000e+02  9.500000e+01  1.020000e+02   \n",
       "\n",
       "year                          2005-01-01    2010-01-01    2015-01-01  \n",
       "index                       0.000000e+00  0.000000e+00  0.000000e+00  \n",
       "man_screentime              8.878203e+01  8.550824e+01  8.441423e+01  \n",
       "woman_screentime            1.121797e+01  1.449176e+01  1.558577e+01  \n",
       "only_men                    8.267467e+01  8.004515e+01  7.426239e+01  \n",
       "only_women                  1.187114e+01  1.359484e+01  1.272405e+01  \n",
       "asian_screentime            9.012093e+00  7.560834e+00  7.126583e+00  \n",
       "black_screentime            3.038001e+00  5.501045e+00  8.878458e+00  \n",
       "indian_screentime           2.211741e+00  2.472802e+00  2.317073e+00  \n",
       "latino_hispanic_screentime  6.411443e+00  6.958969e+00  1.012222e+01  \n",
       "middle_eastern_screentime   2.896609e+00  3.051099e+00  4.108964e+00  \n",
       "white_screentime            7.643011e+01  7.445525e+01  6.744670e+01  \n",
       "women_of_color              1.728393e+00  3.807552e+00  5.197420e+00  \n",
       "total_frames                2.455200e+03  2.119714e+03  2.464667e+03  \n",
       "total_seconds               1.227600e+03  1.059857e+03  1.232333e+03  \n",
       "total_faces                 4.898800e+03  3.226286e+03  5.211333e+03  \n",
       "total_men                   4.436800e+03  2.728571e+03  4.109667e+03  \n",
       "total_women                 4.620000e+02  4.977143e+02  1.101667e+03  \n",
       "total_women_of_color        4.660000e+01  9.357143e+01  1.783333e+02  \n",
       "only_men_count              2.033600e+03  1.658857e+03  1.672667e+03  \n",
       "only_women_count            2.748000e+02  3.137143e+02  3.713333e+02  \n",
       "total_Man                   4.436800e+03  2.728571e+03  4.109667e+03  \n",
       "total_Woman                 4.620000e+02  4.977143e+02  1.101667e+03  \n",
       "total_asian                 4.444000e+02  2.450000e+02  3.766667e+02  \n",
       "total_black                 1.798000e+02  1.958571e+02  4.340000e+02  \n",
       "total_indian                1.446000e+02  7.057143e+01  1.086667e+02  \n",
       "total_latino_hispanic       3.408000e+02  2.497143e+02  5.323333e+02  \n",
       "total_middle_eastern        1.730000e+02  9.528571e+01  1.570000e+02  \n",
       "total_white                 3.616200e+03  2.369857e+03  3.602667e+03  \n",
       "revenue                     3.408490e+08  8.238161e+07  6.202958e+08  \n",
       "runtime                     1.276000e+02  1.004286e+02  1.186667e+02  "
      ]
     },
     "execution_count": 63,
     "metadata": {},
     "output_type": "execute_result"
    }
   ],
   "source": [
    "df_grouped.transpose()"
   ]
  },
  {
   "cell_type": "code",
   "execution_count": 182,
   "id": "5e1690fa",
   "metadata": {},
   "outputs": [],
   "source": [
    "def women_revenue_scatter(total_stats_df):\n",
    "    \n",
    "    total_stats_df.sort_values(by=\"woman_screentime\",\n",
    "                               ascending=False,\n",
    "                               inplace=True)\n",
    "\n",
    "    y = total_stats_df[\"revenue\"].values\n",
    "    x = total_stats_df[\"total_Woman\"].values\n",
    "    \n",
    "    \n",
    "    fig = go.Figure()\n",
    "\n",
    "    fig.add_trace(go.Scatter(\n",
    "        x=x,\n",
    "        y=y,\n",
    "        mode='markers',\n",
    "        hovertext=total_stats_df[\"title\"],\n",
    "        marker=dict(color='rgb(255,185,15)')\n",
    "    ))\n",
    "\n",
    "    fig.update_layout(title_text='Number of women on screen VS. movie revenue', font=dict(size=18))\n",
    "\n",
    "    fig.update_layout(\n",
    "        autosize=True,\n",
    "        width=700,\n",
    "        height=500,\n",
    "        yaxis=dict(\n",
    "            title_text=\"Movie revenue [US$]\",\n",
    "            titlefont=dict(size=18),\n",
    "        ),\n",
    "        xaxis=dict(\n",
    "            title_text=\"Cumulated number of women on screen\",\n",
    "            titlefont=dict(size=18),\n",
    "        )\n",
    "        \n",
    "    )\n",
    "    \n",
    "    return fig"
   ]
  },
  {
   "cell_type": "code",
   "execution_count": 183,
   "id": "c67e1b7b",
   "metadata": {},
   "outputs": [
    {
     "data": {
      "application/vnd.plotly.v1+json": {
       "config": {
        "plotlyServerURL": "https://plot.ly"
       },
       "data": [
        {
         "hovertext": [
          "Sex_and_the_City_(2008)",
          "Bloomington_(2010)",
          "The_Shallows_(2016)",
          "Princess_Protection_Program_(2009)",
          "Bound_(1996)",
          "An_American_Girl:_McKenna_Shoots_for_the_Stars_(2012)",
          "Juno_(2007)",
          "Nim's_Island_(2008)",
          "Pitch_Perfect_2_(2015)",
          "Halloweentown_(1998)",
          "Teenage_Mutant_Ninja_Turtles_(2014)",
          "Psycho_(1960)",
          "Supergirl_(1984)",
          "Super_Shark_(2011)",
          "Sweet_Home_Alabama_(2002)",
          "Paranormal_Movie_(2013)",
          "Dark_Shadows_(2012)",
          "Bumblebee_(2018)",
          "10_Cloverfield_Lane_(2016)",
          "Push_(2009)",
          "The_Phantom_of_the_Opera_at_the_Royal_Albert_Hall_(2011)",
          "Soul_Surfer_(2011)",
          "Sharknado_(2013)",
          "Camp_Rock_2:_The_Final_Jam_(2010)",
          "White_Zombie_(1932)",
          "Vertigo_(1958)",
          "Stuart_Little_2_(2002)",
          "Ghost_in_the_Shell_(2017)",
          "Mary_Poppins_Returns_(2018)",
          "Elektra_(2005)",
          "A_Perfect_Getaway_(2009)",
          "Bridge_to_Terabithia_(2007)",
          "Carrie_(1976)",
          "Chatroom_(2010)",
          "Mamma_Mia!_Here_We_Go_Again_(2018)",
          "Underworld:_Evolution_(2006)",
          "Anne_of_Green_Gables:_A_New_Beginning_(2008)",
          "Miss_Peregrine's_Home_for_Peculiar_Children_(2016)",
          "The_Princess_Diaries_2:_Royal_Engagement_(2004)",
          "Bonnie_and_Clyde_(1967)",
          "102_Dalmatians_(2000)",
          "Abominable_(2006)",
          "Underworld:_Awakening_(2012)",
          "Big_Eyes_(2014)",
          "RED_(2010)",
          "The_Giver_(2014)",
          "Hannah_Montana:_The_Movie_(2009)",
          "My_Week_with_Marilyn_(2011)",
          "Fantastic_4:_Rise_of_the_Silver_Surfer_(2007)",
          "The_Night_Flier_(1997)",
          "Edward_Scissorhands_(1990)",
          "Deadpool_(2016)",
          "Roman_Holiday_(1953)",
          "Herbie_Fully_Loaded_(2005)",
          "Hancock_(2008)",
          "Zoom_(2006)",
          "Iron_Man_Three_(2013)_[4K]",
          "Avengers:_Age_of_Ultron_(2015)",
          "Hansel_&_Gretel:_Witch_Hunters_(2013)",
          "Beautiful_Creatures_(2013)",
          "Trouble_with_the_Curve_(2012)",
          "Hugo_(2011)",
          "Madeline_(1998)",
          "Enemy_(2013)",
          "A_Nightmare_on_Elm_Street_(1984)",
          "Van_Helsing_(2004)",
          "John_Carter_(2012)",
          "Sausage_Party_(2016)",
          "The_Love_Bug_(1968)",
          "Need_for_Speed_(2014)",
          "Honey,_I_Shrunk_the_Kids_(1989)",
          "Batman_&_Robin_(1997)",
          "Justice_League_(2017)",
          "The_Shaggy_Dog_(2006)",
          "Ginger_Snaps_2:_Unleashed_(2004)",
          "Masters_of_the_Universe_(1987)",
          "King_Kong_(2005)",
          "Ace_Ventura:_Pet_Detective_(1994)",
          "Casper_(1995)",
          "Spider-Man_2_(2004)",
          "The_Great_Gatsby_(2013)",
          "Nanny_McPhee_(2005)",
          "The_Wolf_Man_(1941)",
          "Dr._Jekyll_and_Mr._Hyde_(1931)",
          "Sleepy_Hollow_(1999)",
          "Titanic_(1997)",
          "Saving_Mr._Banks_(2013)",
          "Superman_II_(1980)",
          "A_Nightmare_on_Elm_Street_3:_Dream_Warriors_(1987)",
          "Diary_of_a_Wimpy_Kid:_Dog_Days_(2012)",
          "A_Quiet_Place_(2018)",
          "Fantastic_Four_(2015)",
          "Abbott_and_Costello_Meet_the_Mummy_(1955)",
          "Cape_Fear_(1962)",
          "Superman_(1978)",
          "Fat_Albert_(2004)",
          "The_Inbetweeners_2_(2014)",
          "Deadpool_2_(2018)",
          "The_Haunted_Mansion_(2003)",
          "Austin_Powers_in_Goldmember_(2002)",
          "Suicide_Squad_(2016)",
          "2012_(2009)",
          "Muppets_Most_Wanted_(2014)",
          "Diary_of_a_Wimpy_Kid:_Rodrick_Rules_(2011)",
          "Transformers:_Dark_of_the_Moon_(2011)",
          "Homeward_Bound_II:_Lost_in_San_Francisco_(1996)",
          "Scary_Stories_to_Tell_in_the_Dark_(2019)",
          "Indiana_Jones_and_the_Kingdom_of_the_Crystal_Skull_(2008)",
          "G.I._Joe:_The_Rise_of_Cobra_(2009)",
          "Men_in_Black_II_(2002)",
          "Frankenstein_(1931)",
          "Death_Sentence_(2007)",
          "Air_Buddies_(2006)",
          "Cats_&_Dogs:_The_Revenge_of_Kitty_Galore_(2010)",
          "Troy_(2004)",
          "Inkheart_(2008)",
          "X-Men_(2000)",
          "Anne_of_the_Indies_(1951)",
          "The_Remains_of_the_Day_(1993)",
          "The_Punisher_(2004)",
          "The_Hunchback_of_Notre_Dame_(1923)",
          "Planet_of_the_Apes_(2001)",
          "Willy_Wonka_&_the_Chocolate_Factory_(1971)",
          "Harry_Potter_and_the_Goblet_of_Fire_(2005)",
          "Osmosis_Jones_(2001)",
          "Star_Trek:_First_Contact_(1996)",
          "Night_at_the_Museum_(2006)",
          "Red_Dawn_(2012)",
          "Doctor_Zhivago_(1965)",
          "Mr._Bean's_Holiday_(2007)",
          "The_Black_Hole_(1979)",
          "The_Sorcerer's_Apprentice_(2010)",
          "Trading_Places_(1983)",
          "The_Ninth_Gate_(1999)",
          "Killer_Klowns_from_Outer_Space_(1988)",
          "Redemption_(2013)",
          "X-Men:_Days_of_Future_Past_(2014)",
          "The_A-Team_(2010)",
          "Air_Bud_3:_World_Pup_(2001)",
          "The_Wolf_of_Wall_Street_(2013)",
          "The_Expendables_2_(2012)",
          "The_Jungle_Book_(1994)",
          "Black_Panther_(2018)",
          "Pulp_Fiction_(1994)",
          "The_Mummy's_Tomb_(1942)",
          "Dances_with_Wolves_(1990)",
          "Life_of_Pi_(2012)",
          "Harry_Potter_and_the_Sorcerer's_Stone_(2001)",
          "Abbott_and_Costello_Meet_Frankenstein_(1948)",
          "Harry_Potter_and_the_Deathly_Hallows:_Part_2_(2011)",
          "The_Lost_World_(1925)",
          "The_Lone_Ranger_(2013)",
          "Ernest_Scared_Stupid_(1991)",
          "The_Million_Dollar_Duck_(1971)",
          "The_Godfather:_Part_III_(1990)",
          "There_Be_Dragons_(2011)",
          "Raiders_of_the_Lost_Ark_(1981)",
          "This_Island_Earth_(1955)",
          "Son_of_Frankenstein_(1939)",
          "War_for_the_Planet_of_the_Apes_(2017)",
          "To_Kill_a_Mockingbird_(1962)",
          "The_Godfather:_Part_II_(1974)",
          "Walking_with_Dinosaurs_(2013)",
          "The_Cabinet_of_Dr._Caligari_(1920)",
          "Stand_by_Me_(1986)",
          "Unbroken_(2014)",
          "Ace_Ventura:_When_Nature_Calls_(1995)",
          "Lincoln_(2012)",
          "The_Princess_Bride_(1987)",
          "Master_and_Commander:_The_Far_Side_of_the_World_(2003)"
         ],
         "marker": {
          "color": "rgb(255,185,15)"
         },
         "mode": "markers",
         "type": "scatter",
         "x": [
          2198,
          933,
          389,
          1569,
          739,
          782,
          903,
          583,
          2769,
          746,
          368,
          738,
          874,
          550,
          1158,
          453,
          585,
          432,
          377,
          672,
          1913,
          1080,
          459,
          1197,
          149,
          751,
          301,
          237,
          803,
          287,
          477,
          548,
          471,
          505,
          1346,
          179,
          638,
          431,
          1692,
          479,
          398,
          250,
          233,
          829,
          537,
          316,
          1181,
          616,
          434,
          219,
          463,
          250,
          549,
          371,
          309,
          342,
          708,
          368,
          435,
          657,
          732,
          633,
          537,
          144,
          338,
          340,
          362,
          16,
          469,
          372,
          300,
          284,
          303,
          460,
          144,
          316,
          719,
          408,
          228,
          680,
          737,
          375,
          197,
          210,
          265,
          683,
          519,
          487,
          219,
          472,
          102,
          168,
          220,
          193,
          274,
          586,
          358,
          182,
          217,
          942,
          145,
          363,
          288,
          467,
          240,
          47,
          98,
          341,
          168,
          212,
          123,
          162,
          61,
          28,
          373,
          246,
          141,
          306,
          424,
          161,
          86,
          116,
          339,
          558,
          68,
          197,
          216,
          167,
          656,
          254,
          105,
          121,
          375,
          152,
          107,
          115,
          182,
          163,
          153,
          611,
          116,
          94,
          212,
          212,
          54,
          252,
          113,
          286,
          107,
          219,
          65,
          144,
          81,
          138,
          412,
          147,
          133,
          109,
          88,
          50,
          231,
          266,
          3,
          49,
          102,
          94,
          111,
          147,
          47,
          16
         ],
         "y": [
          415252786,
          0,
          119100758,
          0,
          7011317,
          0,
          231411584,
          100076342,
          287506194,
          0,
          477200000,
          32000000,
          14296438,
          0,
          180622424,
          0,
          245527149,
          467989645,
          108286421,
          45465299,
          0,
          47088990,
          0,
          0,
          0,
          7797728,
          169956806,
          169801921,
          348807090,
          56681566,
          22852638,
          137587063,
          33800000,
          0,
          395044706,
          111476513,
          0,
          296482446,
          134734481,
          50700000,
          183611771,
          1810000,
          160112671,
          28883511,
          71664962,
          66980456,
          155545279,
          35057696,
          301913131,
          91549,
          53000000,
          783100000,
          12000000,
          66002004,
          629443428,
          12506188,
          1214811252,
          1405403694,
          226349749,
          60052138,
          0,
          185770160,
          30000000,
          3396726,
          57000000,
          300257475,
          284139100,
          140705322,
          0,
          203277636,
          222724172,
          238207122,
          657924295,
          87134280,
          0,
          17336370,
          562363449,
          107217396,
          287928194,
          783766341,
          351040419,
          123276807,
          0,
          1300000,
          206071502,
          2187463944,
          112544580,
          190458706,
          44793222,
          76196538,
          340677200,
          167977596,
          0,
          103000000,
          300218018,
          48563556,
          0,
          786365638,
          182290266,
          296655431,
          746846894,
          791217826,
          80383290,
          72526996,
          1123794079,
          32709423,
          95438172,
          786636033,
          302469017,
          445135288,
          12000000,
          16974459,
          0,
          112483764,
          497409852,
          62803180,
          296339527,
          0,
          23237911,
          54700105,
          0,
          362211740,
          4000000,
          895921036,
          13596911,
          150000000,
          574480841,
          44806783,
          111858363,
          232225908,
          35841901,
          215283742,
          90404800,
          58401898,
          43625095,
          0,
          747862775,
          177238796,
          0,
          392000000,
          314975955,
          43,
          1346739107,
          214179088,
          0,
          424208848,
          609016565,
          976475550,
          4812444,
          1341511219,
          0,
          260502115,
          0,
          0,
          136766062,
          0,
          389925971,
          1700000,
          0,
          488533726,
          13129846,
          102600000,
          126546518,
          8811,
          52287414,
          163442937,
          212385533,
          116471580,
          30861665,
          212011111
         ]
        }
       ],
       "layout": {
        "autosize": true,
        "font": {
         "size": 18
        },
        "height": 500,
        "template": {
         "data": {
          "bar": [
           {
            "error_x": {
             "color": "#2a3f5f"
            },
            "error_y": {
             "color": "#2a3f5f"
            },
            "marker": {
             "line": {
              "color": "#E5ECF6",
              "width": 0.5
             },
             "pattern": {
              "fillmode": "overlay",
              "size": 10,
              "solidity": 0.2
             }
            },
            "type": "bar"
           }
          ],
          "barpolar": [
           {
            "marker": {
             "line": {
              "color": "#E5ECF6",
              "width": 0.5
             },
             "pattern": {
              "fillmode": "overlay",
              "size": 10,
              "solidity": 0.2
             }
            },
            "type": "barpolar"
           }
          ],
          "carpet": [
           {
            "aaxis": {
             "endlinecolor": "#2a3f5f",
             "gridcolor": "white",
             "linecolor": "white",
             "minorgridcolor": "white",
             "startlinecolor": "#2a3f5f"
            },
            "baxis": {
             "endlinecolor": "#2a3f5f",
             "gridcolor": "white",
             "linecolor": "white",
             "minorgridcolor": "white",
             "startlinecolor": "#2a3f5f"
            },
            "type": "carpet"
           }
          ],
          "choropleth": [
           {
            "colorbar": {
             "outlinewidth": 0,
             "ticks": ""
            },
            "type": "choropleth"
           }
          ],
          "contour": [
           {
            "colorbar": {
             "outlinewidth": 0,
             "ticks": ""
            },
            "colorscale": [
             [
              0,
              "#0d0887"
             ],
             [
              0.1111111111111111,
              "#46039f"
             ],
             [
              0.2222222222222222,
              "#7201a8"
             ],
             [
              0.3333333333333333,
              "#9c179e"
             ],
             [
              0.4444444444444444,
              "#bd3786"
             ],
             [
              0.5555555555555556,
              "#d8576b"
             ],
             [
              0.6666666666666666,
              "#ed7953"
             ],
             [
              0.7777777777777778,
              "#fb9f3a"
             ],
             [
              0.8888888888888888,
              "#fdca26"
             ],
             [
              1,
              "#f0f921"
             ]
            ],
            "type": "contour"
           }
          ],
          "contourcarpet": [
           {
            "colorbar": {
             "outlinewidth": 0,
             "ticks": ""
            },
            "type": "contourcarpet"
           }
          ],
          "heatmap": [
           {
            "colorbar": {
             "outlinewidth": 0,
             "ticks": ""
            },
            "colorscale": [
             [
              0,
              "#0d0887"
             ],
             [
              0.1111111111111111,
              "#46039f"
             ],
             [
              0.2222222222222222,
              "#7201a8"
             ],
             [
              0.3333333333333333,
              "#9c179e"
             ],
             [
              0.4444444444444444,
              "#bd3786"
             ],
             [
              0.5555555555555556,
              "#d8576b"
             ],
             [
              0.6666666666666666,
              "#ed7953"
             ],
             [
              0.7777777777777778,
              "#fb9f3a"
             ],
             [
              0.8888888888888888,
              "#fdca26"
             ],
             [
              1,
              "#f0f921"
             ]
            ],
            "type": "heatmap"
           }
          ],
          "heatmapgl": [
           {
            "colorbar": {
             "outlinewidth": 0,
             "ticks": ""
            },
            "colorscale": [
             [
              0,
              "#0d0887"
             ],
             [
              0.1111111111111111,
              "#46039f"
             ],
             [
              0.2222222222222222,
              "#7201a8"
             ],
             [
              0.3333333333333333,
              "#9c179e"
             ],
             [
              0.4444444444444444,
              "#bd3786"
             ],
             [
              0.5555555555555556,
              "#d8576b"
             ],
             [
              0.6666666666666666,
              "#ed7953"
             ],
             [
              0.7777777777777778,
              "#fb9f3a"
             ],
             [
              0.8888888888888888,
              "#fdca26"
             ],
             [
              1,
              "#f0f921"
             ]
            ],
            "type": "heatmapgl"
           }
          ],
          "histogram": [
           {
            "marker": {
             "pattern": {
              "fillmode": "overlay",
              "size": 10,
              "solidity": 0.2
             }
            },
            "type": "histogram"
           }
          ],
          "histogram2d": [
           {
            "colorbar": {
             "outlinewidth": 0,
             "ticks": ""
            },
            "colorscale": [
             [
              0,
              "#0d0887"
             ],
             [
              0.1111111111111111,
              "#46039f"
             ],
             [
              0.2222222222222222,
              "#7201a8"
             ],
             [
              0.3333333333333333,
              "#9c179e"
             ],
             [
              0.4444444444444444,
              "#bd3786"
             ],
             [
              0.5555555555555556,
              "#d8576b"
             ],
             [
              0.6666666666666666,
              "#ed7953"
             ],
             [
              0.7777777777777778,
              "#fb9f3a"
             ],
             [
              0.8888888888888888,
              "#fdca26"
             ],
             [
              1,
              "#f0f921"
             ]
            ],
            "type": "histogram2d"
           }
          ],
          "histogram2dcontour": [
           {
            "colorbar": {
             "outlinewidth": 0,
             "ticks": ""
            },
            "colorscale": [
             [
              0,
              "#0d0887"
             ],
             [
              0.1111111111111111,
              "#46039f"
             ],
             [
              0.2222222222222222,
              "#7201a8"
             ],
             [
              0.3333333333333333,
              "#9c179e"
             ],
             [
              0.4444444444444444,
              "#bd3786"
             ],
             [
              0.5555555555555556,
              "#d8576b"
             ],
             [
              0.6666666666666666,
              "#ed7953"
             ],
             [
              0.7777777777777778,
              "#fb9f3a"
             ],
             [
              0.8888888888888888,
              "#fdca26"
             ],
             [
              1,
              "#f0f921"
             ]
            ],
            "type": "histogram2dcontour"
           }
          ],
          "mesh3d": [
           {
            "colorbar": {
             "outlinewidth": 0,
             "ticks": ""
            },
            "type": "mesh3d"
           }
          ],
          "parcoords": [
           {
            "line": {
             "colorbar": {
              "outlinewidth": 0,
              "ticks": ""
             }
            },
            "type": "parcoords"
           }
          ],
          "pie": [
           {
            "automargin": true,
            "type": "pie"
           }
          ],
          "scatter": [
           {
            "marker": {
             "colorbar": {
              "outlinewidth": 0,
              "ticks": ""
             }
            },
            "type": "scatter"
           }
          ],
          "scatter3d": [
           {
            "line": {
             "colorbar": {
              "outlinewidth": 0,
              "ticks": ""
             }
            },
            "marker": {
             "colorbar": {
              "outlinewidth": 0,
              "ticks": ""
             }
            },
            "type": "scatter3d"
           }
          ],
          "scattercarpet": [
           {
            "marker": {
             "colorbar": {
              "outlinewidth": 0,
              "ticks": ""
             }
            },
            "type": "scattercarpet"
           }
          ],
          "scattergeo": [
           {
            "marker": {
             "colorbar": {
              "outlinewidth": 0,
              "ticks": ""
             }
            },
            "type": "scattergeo"
           }
          ],
          "scattergl": [
           {
            "marker": {
             "colorbar": {
              "outlinewidth": 0,
              "ticks": ""
             }
            },
            "type": "scattergl"
           }
          ],
          "scattermapbox": [
           {
            "marker": {
             "colorbar": {
              "outlinewidth": 0,
              "ticks": ""
             }
            },
            "type": "scattermapbox"
           }
          ],
          "scatterpolar": [
           {
            "marker": {
             "colorbar": {
              "outlinewidth": 0,
              "ticks": ""
             }
            },
            "type": "scatterpolar"
           }
          ],
          "scatterpolargl": [
           {
            "marker": {
             "colorbar": {
              "outlinewidth": 0,
              "ticks": ""
             }
            },
            "type": "scatterpolargl"
           }
          ],
          "scatterternary": [
           {
            "marker": {
             "colorbar": {
              "outlinewidth": 0,
              "ticks": ""
             }
            },
            "type": "scatterternary"
           }
          ],
          "surface": [
           {
            "colorbar": {
             "outlinewidth": 0,
             "ticks": ""
            },
            "colorscale": [
             [
              0,
              "#0d0887"
             ],
             [
              0.1111111111111111,
              "#46039f"
             ],
             [
              0.2222222222222222,
              "#7201a8"
             ],
             [
              0.3333333333333333,
              "#9c179e"
             ],
             [
              0.4444444444444444,
              "#bd3786"
             ],
             [
              0.5555555555555556,
              "#d8576b"
             ],
             [
              0.6666666666666666,
              "#ed7953"
             ],
             [
              0.7777777777777778,
              "#fb9f3a"
             ],
             [
              0.8888888888888888,
              "#fdca26"
             ],
             [
              1,
              "#f0f921"
             ]
            ],
            "type": "surface"
           }
          ],
          "table": [
           {
            "cells": {
             "fill": {
              "color": "#EBF0F8"
             },
             "line": {
              "color": "white"
             }
            },
            "header": {
             "fill": {
              "color": "#C8D4E3"
             },
             "line": {
              "color": "white"
             }
            },
            "type": "table"
           }
          ]
         },
         "layout": {
          "annotationdefaults": {
           "arrowcolor": "#2a3f5f",
           "arrowhead": 0,
           "arrowwidth": 1
          },
          "autotypenumbers": "strict",
          "coloraxis": {
           "colorbar": {
            "outlinewidth": 0,
            "ticks": ""
           }
          },
          "colorscale": {
           "diverging": [
            [
             0,
             "#8e0152"
            ],
            [
             0.1,
             "#c51b7d"
            ],
            [
             0.2,
             "#de77ae"
            ],
            [
             0.3,
             "#f1b6da"
            ],
            [
             0.4,
             "#fde0ef"
            ],
            [
             0.5,
             "#f7f7f7"
            ],
            [
             0.6,
             "#e6f5d0"
            ],
            [
             0.7,
             "#b8e186"
            ],
            [
             0.8,
             "#7fbc41"
            ],
            [
             0.9,
             "#4d9221"
            ],
            [
             1,
             "#276419"
            ]
           ],
           "sequential": [
            [
             0,
             "#0d0887"
            ],
            [
             0.1111111111111111,
             "#46039f"
            ],
            [
             0.2222222222222222,
             "#7201a8"
            ],
            [
             0.3333333333333333,
             "#9c179e"
            ],
            [
             0.4444444444444444,
             "#bd3786"
            ],
            [
             0.5555555555555556,
             "#d8576b"
            ],
            [
             0.6666666666666666,
             "#ed7953"
            ],
            [
             0.7777777777777778,
             "#fb9f3a"
            ],
            [
             0.8888888888888888,
             "#fdca26"
            ],
            [
             1,
             "#f0f921"
            ]
           ],
           "sequentialminus": [
            [
             0,
             "#0d0887"
            ],
            [
             0.1111111111111111,
             "#46039f"
            ],
            [
             0.2222222222222222,
             "#7201a8"
            ],
            [
             0.3333333333333333,
             "#9c179e"
            ],
            [
             0.4444444444444444,
             "#bd3786"
            ],
            [
             0.5555555555555556,
             "#d8576b"
            ],
            [
             0.6666666666666666,
             "#ed7953"
            ],
            [
             0.7777777777777778,
             "#fb9f3a"
            ],
            [
             0.8888888888888888,
             "#fdca26"
            ],
            [
             1,
             "#f0f921"
            ]
           ]
          },
          "colorway": [
           "#636efa",
           "#EF553B",
           "#00cc96",
           "#ab63fa",
           "#FFA15A",
           "#19d3f3",
           "#FF6692",
           "#B6E880",
           "#FF97FF",
           "#FECB52"
          ],
          "font": {
           "color": "#2a3f5f"
          },
          "geo": {
           "bgcolor": "white",
           "lakecolor": "white",
           "landcolor": "#E5ECF6",
           "showlakes": true,
           "showland": true,
           "subunitcolor": "white"
          },
          "hoverlabel": {
           "align": "left"
          },
          "hovermode": "closest",
          "mapbox": {
           "style": "light"
          },
          "paper_bgcolor": "white",
          "plot_bgcolor": "#E5ECF6",
          "polar": {
           "angularaxis": {
            "gridcolor": "white",
            "linecolor": "white",
            "ticks": ""
           },
           "bgcolor": "#E5ECF6",
           "radialaxis": {
            "gridcolor": "white",
            "linecolor": "white",
            "ticks": ""
           }
          },
          "scene": {
           "xaxis": {
            "backgroundcolor": "#E5ECF6",
            "gridcolor": "white",
            "gridwidth": 2,
            "linecolor": "white",
            "showbackground": true,
            "ticks": "",
            "zerolinecolor": "white"
           },
           "yaxis": {
            "backgroundcolor": "#E5ECF6",
            "gridcolor": "white",
            "gridwidth": 2,
            "linecolor": "white",
            "showbackground": true,
            "ticks": "",
            "zerolinecolor": "white"
           },
           "zaxis": {
            "backgroundcolor": "#E5ECF6",
            "gridcolor": "white",
            "gridwidth": 2,
            "linecolor": "white",
            "showbackground": true,
            "ticks": "",
            "zerolinecolor": "white"
           }
          },
          "shapedefaults": {
           "line": {
            "color": "#2a3f5f"
           }
          },
          "ternary": {
           "aaxis": {
            "gridcolor": "white",
            "linecolor": "white",
            "ticks": ""
           },
           "baxis": {
            "gridcolor": "white",
            "linecolor": "white",
            "ticks": ""
           },
           "bgcolor": "#E5ECF6",
           "caxis": {
            "gridcolor": "white",
            "linecolor": "white",
            "ticks": ""
           }
          },
          "title": {
           "x": 0.05
          },
          "xaxis": {
           "automargin": true,
           "gridcolor": "white",
           "linecolor": "white",
           "ticks": "",
           "title": {
            "standoff": 15
           },
           "zerolinecolor": "white",
           "zerolinewidth": 2
          },
          "yaxis": {
           "automargin": true,
           "gridcolor": "white",
           "linecolor": "white",
           "ticks": "",
           "title": {
            "standoff": 15
           },
           "zerolinecolor": "white",
           "zerolinewidth": 2
          }
         }
        },
        "title": {
         "text": "Number of women on screen VS. movie revenue"
        },
        "width": 700,
        "xaxis": {
         "title": {
          "font": {
           "size": 18
          },
          "text": "Cumulated number of women on screen"
         }
        },
        "yaxis": {
         "title": {
          "font": {
           "size": 18
          },
          "text": "Movie revenue [US$]"
         }
        }
       }
      },
      "text/html": [
       "<div>                            <div id=\"6a628750-5a83-416a-998c-2ab23c0a4e29\" class=\"plotly-graph-div\" style=\"height:500px; width:700px;\"></div>            <script type=\"text/javascript\">                require([\"plotly\"], function(Plotly) {                    window.PLOTLYENV=window.PLOTLYENV || {};                                    if (document.getElementById(\"6a628750-5a83-416a-998c-2ab23c0a4e29\")) {                    Plotly.newPlot(                        \"6a628750-5a83-416a-998c-2ab23c0a4e29\",                        [{\"hovertext\":[\"Sex_and_the_City_(2008)\",\"Bloomington_(2010)\",\"The_Shallows_(2016)\",\"Princess_Protection_Program_(2009)\",\"Bound_(1996)\",\"An_American_Girl:_McKenna_Shoots_for_the_Stars_(2012)\",\"Juno_(2007)\",\"Nim's_Island_(2008)\",\"Pitch_Perfect_2_(2015)\",\"Halloweentown_(1998)\",\"Teenage_Mutant_Ninja_Turtles_(2014)\",\"Psycho_(1960)\",\"Supergirl_(1984)\",\"Super_Shark_(2011)\",\"Sweet_Home_Alabama_(2002)\",\"Paranormal_Movie_(2013)\",\"Dark_Shadows_(2012)\",\"Bumblebee_(2018)\",\"10_Cloverfield_Lane_(2016)\",\"Push_(2009)\",\"The_Phantom_of_the_Opera_at_the_Royal_Albert_Hall_(2011)\",\"Soul_Surfer_(2011)\",\"Sharknado_(2013)\",\"Camp_Rock_2:_The_Final_Jam_(2010)\",\"White_Zombie_(1932)\",\"Vertigo_(1958)\",\"Stuart_Little_2_(2002)\",\"Ghost_in_the_Shell_(2017)\",\"Mary_Poppins_Returns_(2018)\",\"Elektra_(2005)\",\"A_Perfect_Getaway_(2009)\",\"Bridge_to_Terabithia_(2007)\",\"Carrie_(1976)\",\"Chatroom_(2010)\",\"Mamma_Mia!_Here_We_Go_Again_(2018)\",\"Underworld:_Evolution_(2006)\",\"Anne_of_Green_Gables:_A_New_Beginning_(2008)\",\"Miss_Peregrine's_Home_for_Peculiar_Children_(2016)\",\"The_Princess_Diaries_2:_Royal_Engagement_(2004)\",\"Bonnie_and_Clyde_(1967)\",\"102_Dalmatians_(2000)\",\"Abominable_(2006)\",\"Underworld:_Awakening_(2012)\",\"Big_Eyes_(2014)\",\"RED_(2010)\",\"The_Giver_(2014)\",\"Hannah_Montana:_The_Movie_(2009)\",\"My_Week_with_Marilyn_(2011)\",\"Fantastic_4:_Rise_of_the_Silver_Surfer_(2007)\",\"The_Night_Flier_(1997)\",\"Edward_Scissorhands_(1990)\",\"Deadpool_(2016)\",\"Roman_Holiday_(1953)\",\"Herbie_Fully_Loaded_(2005)\",\"Hancock_(2008)\",\"Zoom_(2006)\",\"Iron_Man_Three_(2013)_[4K]\",\"Avengers:_Age_of_Ultron_(2015)\",\"Hansel_&_Gretel:_Witch_Hunters_(2013)\",\"Beautiful_Creatures_(2013)\",\"Trouble_with_the_Curve_(2012)\",\"Hugo_(2011)\",\"Madeline_(1998)\",\"Enemy_(2013)\",\"A_Nightmare_on_Elm_Street_(1984)\",\"Van_Helsing_(2004)\",\"John_Carter_(2012)\",\"Sausage_Party_(2016)\",\"The_Love_Bug_(1968)\",\"Need_for_Speed_(2014)\",\"Honey,_I_Shrunk_the_Kids_(1989)\",\"Batman_&_Robin_(1997)\",\"Justice_League_(2017)\",\"The_Shaggy_Dog_(2006)\",\"Ginger_Snaps_2:_Unleashed_(2004)\",\"Masters_of_the_Universe_(1987)\",\"King_Kong_(2005)\",\"Ace_Ventura:_Pet_Detective_(1994)\",\"Casper_(1995)\",\"Spider-Man_2_(2004)\",\"The_Great_Gatsby_(2013)\",\"Nanny_McPhee_(2005)\",\"The_Wolf_Man_(1941)\",\"Dr._Jekyll_and_Mr._Hyde_(1931)\",\"Sleepy_Hollow_(1999)\",\"Titanic_(1997)\",\"Saving_Mr._Banks_(2013)\",\"Superman_II_(1980)\",\"A_Nightmare_on_Elm_Street_3:_Dream_Warriors_(1987)\",\"Diary_of_a_Wimpy_Kid:_Dog_Days_(2012)\",\"A_Quiet_Place_(2018)\",\"Fantastic_Four_(2015)\",\"Abbott_and_Costello_Meet_the_Mummy_(1955)\",\"Cape_Fear_(1962)\",\"Superman_(1978)\",\"Fat_Albert_(2004)\",\"The_Inbetweeners_2_(2014)\",\"Deadpool_2_(2018)\",\"The_Haunted_Mansion_(2003)\",\"Austin_Powers_in_Goldmember_(2002)\",\"Suicide_Squad_(2016)\",\"2012_(2009)\",\"Muppets_Most_Wanted_(2014)\",\"Diary_of_a_Wimpy_Kid:_Rodrick_Rules_(2011)\",\"Transformers:_Dark_of_the_Moon_(2011)\",\"Homeward_Bound_II:_Lost_in_San_Francisco_(1996)\",\"Scary_Stories_to_Tell_in_the_Dark_(2019)\",\"Indiana_Jones_and_the_Kingdom_of_the_Crystal_Skull_(2008)\",\"G.I._Joe:_The_Rise_of_Cobra_(2009)\",\"Men_in_Black_II_(2002)\",\"Frankenstein_(1931)\",\"Death_Sentence_(2007)\",\"Air_Buddies_(2006)\",\"Cats_&_Dogs:_The_Revenge_of_Kitty_Galore_(2010)\",\"Troy_(2004)\",\"Inkheart_(2008)\",\"X-Men_(2000)\",\"Anne_of_the_Indies_(1951)\",\"The_Remains_of_the_Day_(1993)\",\"The_Punisher_(2004)\",\"The_Hunchback_of_Notre_Dame_(1923)\",\"Planet_of_the_Apes_(2001)\",\"Willy_Wonka_&_the_Chocolate_Factory_(1971)\",\"Harry_Potter_and_the_Goblet_of_Fire_(2005)\",\"Osmosis_Jones_(2001)\",\"Star_Trek:_First_Contact_(1996)\",\"Night_at_the_Museum_(2006)\",\"Red_Dawn_(2012)\",\"Doctor_Zhivago_(1965)\",\"Mr._Bean's_Holiday_(2007)\",\"The_Black_Hole_(1979)\",\"The_Sorcerer's_Apprentice_(2010)\",\"Trading_Places_(1983)\",\"The_Ninth_Gate_(1999)\",\"Killer_Klowns_from_Outer_Space_(1988)\",\"Redemption_(2013)\",\"X-Men:_Days_of_Future_Past_(2014)\",\"The_A-Team_(2010)\",\"Air_Bud_3:_World_Pup_(2001)\",\"The_Wolf_of_Wall_Street_(2013)\",\"The_Expendables_2_(2012)\",\"The_Jungle_Book_(1994)\",\"Black_Panther_(2018)\",\"Pulp_Fiction_(1994)\",\"The_Mummy's_Tomb_(1942)\",\"Dances_with_Wolves_(1990)\",\"Life_of_Pi_(2012)\",\"Harry_Potter_and_the_Sorcerer's_Stone_(2001)\",\"Abbott_and_Costello_Meet_Frankenstein_(1948)\",\"Harry_Potter_and_the_Deathly_Hallows:_Part_2_(2011)\",\"The_Lost_World_(1925)\",\"The_Lone_Ranger_(2013)\",\"Ernest_Scared_Stupid_(1991)\",\"The_Million_Dollar_Duck_(1971)\",\"The_Godfather:_Part_III_(1990)\",\"There_Be_Dragons_(2011)\",\"Raiders_of_the_Lost_Ark_(1981)\",\"This_Island_Earth_(1955)\",\"Son_of_Frankenstein_(1939)\",\"War_for_the_Planet_of_the_Apes_(2017)\",\"To_Kill_a_Mockingbird_(1962)\",\"The_Godfather:_Part_II_(1974)\",\"Walking_with_Dinosaurs_(2013)\",\"The_Cabinet_of_Dr._Caligari_(1920)\",\"Stand_by_Me_(1986)\",\"Unbroken_(2014)\",\"Ace_Ventura:_When_Nature_Calls_(1995)\",\"Lincoln_(2012)\",\"The_Princess_Bride_(1987)\",\"Master_and_Commander:_The_Far_Side_of_the_World_(2003)\"],\"marker\":{\"color\":\"rgb(255,185,15)\"},\"mode\":\"markers\",\"type\":\"scatter\",\"x\":[2198.0,933.0,389.0,1569.0,739.0,782.0,903.0,583.0,2769.0,746.0,368.0,738.0,874.0,550.0,1158.0,453.0,585.0,432.0,377.0,672.0,1913.0,1080.0,459.0,1197.0,149.0,751.0,301.0,237.0,803.0,287.0,477.0,548.0,471.0,505.0,1346.0,179.0,638.0,431.0,1692.0,479.0,398.0,250.0,233.0,829.0,537.0,316.0,1181.0,616.0,434.0,219.0,463.0,250.0,549.0,371.0,309.0,342.0,708.0,368.0,435.0,657.0,732.0,633.0,537.0,144.0,338.0,340.0,362.0,16.0,469.0,372.0,300.0,284.0,303.0,460.0,144.0,316.0,719.0,408.0,228.0,680.0,737.0,375.0,197.0,210.0,265.0,683.0,519.0,487.0,219.0,472.0,102.0,168.0,220.0,193.0,274.0,586.0,358.0,182.0,217.0,942.0,145.0,363.0,288.0,467.0,240.0,47.0,98.0,341.0,168.0,212.0,123.0,162.0,61.0,28.0,373.0,246.0,141.0,306.0,424.0,161.0,86.0,116.0,339.0,558.0,68.0,197.0,216.0,167.0,656.0,254.0,105.0,121.0,375.0,152.0,107.0,115.0,182.0,163.0,153.0,611.0,116.0,94.0,212.0,212.0,54.0,252.0,113.0,286.0,107.0,219.0,65.0,144.0,81.0,138.0,412.0,147.0,133.0,109.0,88.0,50.0,231.0,266.0,3.0,49.0,102.0,94.0,111.0,147.0,47.0,16.0],\"y\":[415252786,0,119100758,0,7011317,0,231411584,100076342,287506194,0,477200000,32000000,14296438,0,180622424,0,245527149,467989645,108286421,45465299,0,47088990,0,0,0,7797728,169956806,169801921,348807090,56681566,22852638,137587063,33800000,0,395044706,111476513,0,296482446,134734481,50700000,183611771,1810000,160112671,28883511,71664962,66980456,155545279,35057696,301913131,91549,53000000,783100000,12000000,66002004,629443428,12506188,1214811252,1405403694,226349749,60052138,0,185770160,30000000,3396726,57000000,300257475,284139100,140705322,0,203277636,222724172,238207122,657924295,87134280,0,17336370,562363449,107217396,287928194,783766341,351040419,123276807,0,1300000,206071502,2187463944,112544580,190458706,44793222,76196538,340677200,167977596,0,103000000,300218018,48563556,0,786365638,182290266,296655431,746846894,791217826,80383290,72526996,1123794079,32709423,95438172,786636033,302469017,445135288,12000000,16974459,0,112483764,497409852,62803180,296339527,0,23237911,54700105,0,362211740,4000000,895921036,13596911,150000000,574480841,44806783,111858363,232225908,35841901,215283742,90404800,58401898,43625095,0,747862775,177238796,0,392000000,314975955,43,1346739107,214179088,0,424208848,609016565,976475550,4812444,1341511219,0,260502115,0,0,136766062,0,389925971,1700000,0,488533726,13129846,102600000,126546518,8811,52287414,163442937,212385533,116471580,30861665,212011111]}],                        {\"autosize\":true,\"font\":{\"size\":18},\"height\":500,\"template\":{\"data\":{\"bar\":[{\"error_x\":{\"color\":\"#2a3f5f\"},\"error_y\":{\"color\":\"#2a3f5f\"},\"marker\":{\"line\":{\"color\":\"#E5ECF6\",\"width\":0.5},\"pattern\":{\"fillmode\":\"overlay\",\"size\":10,\"solidity\":0.2}},\"type\":\"bar\"}],\"barpolar\":[{\"marker\":{\"line\":{\"color\":\"#E5ECF6\",\"width\":0.5},\"pattern\":{\"fillmode\":\"overlay\",\"size\":10,\"solidity\":0.2}},\"type\":\"barpolar\"}],\"carpet\":[{\"aaxis\":{\"endlinecolor\":\"#2a3f5f\",\"gridcolor\":\"white\",\"linecolor\":\"white\",\"minorgridcolor\":\"white\",\"startlinecolor\":\"#2a3f5f\"},\"baxis\":{\"endlinecolor\":\"#2a3f5f\",\"gridcolor\":\"white\",\"linecolor\":\"white\",\"minorgridcolor\":\"white\",\"startlinecolor\":\"#2a3f5f\"},\"type\":\"carpet\"}],\"choropleth\":[{\"colorbar\":{\"outlinewidth\":0,\"ticks\":\"\"},\"type\":\"choropleth\"}],\"contour\":[{\"colorbar\":{\"outlinewidth\":0,\"ticks\":\"\"},\"colorscale\":[[0.0,\"#0d0887\"],[0.1111111111111111,\"#46039f\"],[0.2222222222222222,\"#7201a8\"],[0.3333333333333333,\"#9c179e\"],[0.4444444444444444,\"#bd3786\"],[0.5555555555555556,\"#d8576b\"],[0.6666666666666666,\"#ed7953\"],[0.7777777777777778,\"#fb9f3a\"],[0.8888888888888888,\"#fdca26\"],[1.0,\"#f0f921\"]],\"type\":\"contour\"}],\"contourcarpet\":[{\"colorbar\":{\"outlinewidth\":0,\"ticks\":\"\"},\"type\":\"contourcarpet\"}],\"heatmap\":[{\"colorbar\":{\"outlinewidth\":0,\"ticks\":\"\"},\"colorscale\":[[0.0,\"#0d0887\"],[0.1111111111111111,\"#46039f\"],[0.2222222222222222,\"#7201a8\"],[0.3333333333333333,\"#9c179e\"],[0.4444444444444444,\"#bd3786\"],[0.5555555555555556,\"#d8576b\"],[0.6666666666666666,\"#ed7953\"],[0.7777777777777778,\"#fb9f3a\"],[0.8888888888888888,\"#fdca26\"],[1.0,\"#f0f921\"]],\"type\":\"heatmap\"}],\"heatmapgl\":[{\"colorbar\":{\"outlinewidth\":0,\"ticks\":\"\"},\"colorscale\":[[0.0,\"#0d0887\"],[0.1111111111111111,\"#46039f\"],[0.2222222222222222,\"#7201a8\"],[0.3333333333333333,\"#9c179e\"],[0.4444444444444444,\"#bd3786\"],[0.5555555555555556,\"#d8576b\"],[0.6666666666666666,\"#ed7953\"],[0.7777777777777778,\"#fb9f3a\"],[0.8888888888888888,\"#fdca26\"],[1.0,\"#f0f921\"]],\"type\":\"heatmapgl\"}],\"histogram\":[{\"marker\":{\"pattern\":{\"fillmode\":\"overlay\",\"size\":10,\"solidity\":0.2}},\"type\":\"histogram\"}],\"histogram2d\":[{\"colorbar\":{\"outlinewidth\":0,\"ticks\":\"\"},\"colorscale\":[[0.0,\"#0d0887\"],[0.1111111111111111,\"#46039f\"],[0.2222222222222222,\"#7201a8\"],[0.3333333333333333,\"#9c179e\"],[0.4444444444444444,\"#bd3786\"],[0.5555555555555556,\"#d8576b\"],[0.6666666666666666,\"#ed7953\"],[0.7777777777777778,\"#fb9f3a\"],[0.8888888888888888,\"#fdca26\"],[1.0,\"#f0f921\"]],\"type\":\"histogram2d\"}],\"histogram2dcontour\":[{\"colorbar\":{\"outlinewidth\":0,\"ticks\":\"\"},\"colorscale\":[[0.0,\"#0d0887\"],[0.1111111111111111,\"#46039f\"],[0.2222222222222222,\"#7201a8\"],[0.3333333333333333,\"#9c179e\"],[0.4444444444444444,\"#bd3786\"],[0.5555555555555556,\"#d8576b\"],[0.6666666666666666,\"#ed7953\"],[0.7777777777777778,\"#fb9f3a\"],[0.8888888888888888,\"#fdca26\"],[1.0,\"#f0f921\"]],\"type\":\"histogram2dcontour\"}],\"mesh3d\":[{\"colorbar\":{\"outlinewidth\":0,\"ticks\":\"\"},\"type\":\"mesh3d\"}],\"parcoords\":[{\"line\":{\"colorbar\":{\"outlinewidth\":0,\"ticks\":\"\"}},\"type\":\"parcoords\"}],\"pie\":[{\"automargin\":true,\"type\":\"pie\"}],\"scatter\":[{\"marker\":{\"colorbar\":{\"outlinewidth\":0,\"ticks\":\"\"}},\"type\":\"scatter\"}],\"scatter3d\":[{\"line\":{\"colorbar\":{\"outlinewidth\":0,\"ticks\":\"\"}},\"marker\":{\"colorbar\":{\"outlinewidth\":0,\"ticks\":\"\"}},\"type\":\"scatter3d\"}],\"scattercarpet\":[{\"marker\":{\"colorbar\":{\"outlinewidth\":0,\"ticks\":\"\"}},\"type\":\"scattercarpet\"}],\"scattergeo\":[{\"marker\":{\"colorbar\":{\"outlinewidth\":0,\"ticks\":\"\"}},\"type\":\"scattergeo\"}],\"scattergl\":[{\"marker\":{\"colorbar\":{\"outlinewidth\":0,\"ticks\":\"\"}},\"type\":\"scattergl\"}],\"scattermapbox\":[{\"marker\":{\"colorbar\":{\"outlinewidth\":0,\"ticks\":\"\"}},\"type\":\"scattermapbox\"}],\"scatterpolar\":[{\"marker\":{\"colorbar\":{\"outlinewidth\":0,\"ticks\":\"\"}},\"type\":\"scatterpolar\"}],\"scatterpolargl\":[{\"marker\":{\"colorbar\":{\"outlinewidth\":0,\"ticks\":\"\"}},\"type\":\"scatterpolargl\"}],\"scatterternary\":[{\"marker\":{\"colorbar\":{\"outlinewidth\":0,\"ticks\":\"\"}},\"type\":\"scatterternary\"}],\"surface\":[{\"colorbar\":{\"outlinewidth\":0,\"ticks\":\"\"},\"colorscale\":[[0.0,\"#0d0887\"],[0.1111111111111111,\"#46039f\"],[0.2222222222222222,\"#7201a8\"],[0.3333333333333333,\"#9c179e\"],[0.4444444444444444,\"#bd3786\"],[0.5555555555555556,\"#d8576b\"],[0.6666666666666666,\"#ed7953\"],[0.7777777777777778,\"#fb9f3a\"],[0.8888888888888888,\"#fdca26\"],[1.0,\"#f0f921\"]],\"type\":\"surface\"}],\"table\":[{\"cells\":{\"fill\":{\"color\":\"#EBF0F8\"},\"line\":{\"color\":\"white\"}},\"header\":{\"fill\":{\"color\":\"#C8D4E3\"},\"line\":{\"color\":\"white\"}},\"type\":\"table\"}]},\"layout\":{\"annotationdefaults\":{\"arrowcolor\":\"#2a3f5f\",\"arrowhead\":0,\"arrowwidth\":1},\"autotypenumbers\":\"strict\",\"coloraxis\":{\"colorbar\":{\"outlinewidth\":0,\"ticks\":\"\"}},\"colorscale\":{\"diverging\":[[0,\"#8e0152\"],[0.1,\"#c51b7d\"],[0.2,\"#de77ae\"],[0.3,\"#f1b6da\"],[0.4,\"#fde0ef\"],[0.5,\"#f7f7f7\"],[0.6,\"#e6f5d0\"],[0.7,\"#b8e186\"],[0.8,\"#7fbc41\"],[0.9,\"#4d9221\"],[1,\"#276419\"]],\"sequential\":[[0.0,\"#0d0887\"],[0.1111111111111111,\"#46039f\"],[0.2222222222222222,\"#7201a8\"],[0.3333333333333333,\"#9c179e\"],[0.4444444444444444,\"#bd3786\"],[0.5555555555555556,\"#d8576b\"],[0.6666666666666666,\"#ed7953\"],[0.7777777777777778,\"#fb9f3a\"],[0.8888888888888888,\"#fdca26\"],[1.0,\"#f0f921\"]],\"sequentialminus\":[[0.0,\"#0d0887\"],[0.1111111111111111,\"#46039f\"],[0.2222222222222222,\"#7201a8\"],[0.3333333333333333,\"#9c179e\"],[0.4444444444444444,\"#bd3786\"],[0.5555555555555556,\"#d8576b\"],[0.6666666666666666,\"#ed7953\"],[0.7777777777777778,\"#fb9f3a\"],[0.8888888888888888,\"#fdca26\"],[1.0,\"#f0f921\"]]},\"colorway\":[\"#636efa\",\"#EF553B\",\"#00cc96\",\"#ab63fa\",\"#FFA15A\",\"#19d3f3\",\"#FF6692\",\"#B6E880\",\"#FF97FF\",\"#FECB52\"],\"font\":{\"color\":\"#2a3f5f\"},\"geo\":{\"bgcolor\":\"white\",\"lakecolor\":\"white\",\"landcolor\":\"#E5ECF6\",\"showlakes\":true,\"showland\":true,\"subunitcolor\":\"white\"},\"hoverlabel\":{\"align\":\"left\"},\"hovermode\":\"closest\",\"mapbox\":{\"style\":\"light\"},\"paper_bgcolor\":\"white\",\"plot_bgcolor\":\"#E5ECF6\",\"polar\":{\"angularaxis\":{\"gridcolor\":\"white\",\"linecolor\":\"white\",\"ticks\":\"\"},\"bgcolor\":\"#E5ECF6\",\"radialaxis\":{\"gridcolor\":\"white\",\"linecolor\":\"white\",\"ticks\":\"\"}},\"scene\":{\"xaxis\":{\"backgroundcolor\":\"#E5ECF6\",\"gridcolor\":\"white\",\"gridwidth\":2,\"linecolor\":\"white\",\"showbackground\":true,\"ticks\":\"\",\"zerolinecolor\":\"white\"},\"yaxis\":{\"backgroundcolor\":\"#E5ECF6\",\"gridcolor\":\"white\",\"gridwidth\":2,\"linecolor\":\"white\",\"showbackground\":true,\"ticks\":\"\",\"zerolinecolor\":\"white\"},\"zaxis\":{\"backgroundcolor\":\"#E5ECF6\",\"gridcolor\":\"white\",\"gridwidth\":2,\"linecolor\":\"white\",\"showbackground\":true,\"ticks\":\"\",\"zerolinecolor\":\"white\"}},\"shapedefaults\":{\"line\":{\"color\":\"#2a3f5f\"}},\"ternary\":{\"aaxis\":{\"gridcolor\":\"white\",\"linecolor\":\"white\",\"ticks\":\"\"},\"baxis\":{\"gridcolor\":\"white\",\"linecolor\":\"white\",\"ticks\":\"\"},\"bgcolor\":\"#E5ECF6\",\"caxis\":{\"gridcolor\":\"white\",\"linecolor\":\"white\",\"ticks\":\"\"}},\"title\":{\"x\":0.05},\"xaxis\":{\"automargin\":true,\"gridcolor\":\"white\",\"linecolor\":\"white\",\"ticks\":\"\",\"title\":{\"standoff\":15},\"zerolinecolor\":\"white\",\"zerolinewidth\":2},\"yaxis\":{\"automargin\":true,\"gridcolor\":\"white\",\"linecolor\":\"white\",\"ticks\":\"\",\"title\":{\"standoff\":15},\"zerolinecolor\":\"white\",\"zerolinewidth\":2}}},\"title\":{\"text\":\"Number of women on screen VS. movie revenue\"},\"width\":700,\"xaxis\":{\"title\":{\"font\":{\"size\":18},\"text\":\"Cumulated number of women on screen\"}},\"yaxis\":{\"title\":{\"font\":{\"size\":18},\"text\":\"Movie revenue [US$]\"}}},                        {\"responsive\": true}                    ).then(function(){\n",
       "                            \n",
       "var gd = document.getElementById('6a628750-5a83-416a-998c-2ab23c0a4e29');\n",
       "var x = new MutationObserver(function (mutations, observer) {{\n",
       "        var display = window.getComputedStyle(gd).display;\n",
       "        if (!display || display === 'none') {{\n",
       "            console.log([gd, 'removed!']);\n",
       "            Plotly.purge(gd);\n",
       "            observer.disconnect();\n",
       "        }}\n",
       "}});\n",
       "\n",
       "// Listen for the removal of the full notebook cells\n",
       "var notebookContainer = gd.closest('#notebook-container');\n",
       "if (notebookContainer) {{\n",
       "    x.observe(notebookContainer, {childList: true});\n",
       "}}\n",
       "\n",
       "// Listen for the clearing of the current output cell\n",
       "var outputEl = gd.closest('.output');\n",
       "if (outputEl) {{\n",
       "    x.observe(outputEl, {childList: true});\n",
       "}}\n",
       "\n",
       "                        })                };                });            </script>        </div>"
      ]
     },
     "metadata": {},
     "output_type": "display_data"
    }
   ],
   "source": [
    "women_revenue_scatter(df_evo)"
   ]
  },
  {
   "cell_type": "code",
   "execution_count": 179,
   "id": "48714281",
   "metadata": {},
   "outputs": [],
   "source": []
  },
  {
   "cell_type": "code",
   "execution_count": 180,
   "id": "883775b5",
   "metadata": {},
   "outputs": [],
   "source": []
  },
  {
   "cell_type": "code",
   "execution_count": 206,
   "id": "f9ae8ec4",
   "metadata": {},
   "outputs": [],
   "source": [
    "def women_movie_percentage(total_stats_df):\n",
    "    \n",
    "    total_stats_df.sort_values(by=\"woman_screentime\",\n",
    "                               ascending=False,\n",
    "                               inplace=True)\n",
    "\n",
    "    y = total_stats_df[\"title\"].values\n",
    "    x = total_stats_df[\"woman_screentime\"].values\n",
    "    \n",
    "    \n",
    "    fig = go.Figure()\n",
    "\n",
    "    fig.add_trace(go.Bar(\n",
    "        x=x,\n",
    "        y=y,\n",
    "        hovertext=total_stats_df[\"revenue\"],\n",
    "        orientation='h',\n",
    "        marker=dict(color='rgb(24,116,205)')\n",
    "    ))\n",
    "\n",
    "    fig.update_layout(title_text='Screentime percentage of women in movies', font=dict(size=10))\n",
    "\n",
    "    fig.update_layout(\n",
    "        autosize=True,\n",
    "        width=800,\n",
    "        height=500,\n",
    "        xaxis=dict(\n",
    "            title_text=\"Screentime [%]\",\n",
    "            titlefont=dict(size=18),\n",
    "        )\n",
    "        \n",
    "    )\n",
    "    \n",
    "    return fig"
   ]
  },
  {
   "cell_type": "code",
   "execution_count": 207,
   "id": "d0c8d497",
   "metadata": {},
   "outputs": [
    {
     "data": {
      "application/vnd.plotly.v1+json": {
       "config": {
        "plotlyServerURL": "https://plot.ly"
       },
       "data": [
        {
         "hovertext": [
          415252786,
          0,
          119100758,
          0,
          7011317,
          0,
          231411584,
          100076342,
          287506194,
          0,
          477200000,
          32000000,
          14296438,
          0,
          180622424,
          0,
          245527149,
          467989645,
          108286421,
          45465299,
          0,
          47088990,
          0,
          0,
          0,
          7797728,
          169956806,
          169801921,
          348807090,
          56681566,
          22852638,
          137587063,
          33800000,
          0,
          395044706,
          111476513,
          0,
          296482446,
          134734481,
          50700000,
          183611771,
          1810000,
          160112671,
          28883511,
          71664962,
          66980456,
          155545279,
          35057696,
          301913131,
          91549,
          53000000,
          783100000,
          12000000,
          66002004,
          629443428,
          12506188,
          1214811252,
          1405403694,
          226349749,
          60052138,
          0,
          185770160,
          30000000,
          3396726,
          57000000,
          300257475,
          284139100,
          140705322,
          0,
          203277636,
          222724172,
          238207122,
          657924295,
          87134280,
          0,
          17336370,
          562363449,
          107217396,
          287928194,
          783766341,
          351040419,
          123276807,
          0,
          1300000,
          206071502,
          2187463944,
          112544580,
          190458706,
          44793222,
          76196538,
          340677200,
          167977596,
          0,
          103000000,
          300218018,
          48563556,
          0,
          786365638,
          182290266,
          296655431,
          746846894,
          791217826,
          80383290,
          72526996,
          1123794079,
          32709423,
          95438172,
          786636033,
          302469017,
          445135288,
          12000000,
          16974459,
          0,
          112483764,
          497409852,
          62803180,
          296339527,
          0,
          23237911,
          54700105,
          0,
          362211740,
          4000000,
          895921036,
          13596911,
          150000000,
          574480841,
          44806783,
          111858363,
          232225908,
          35841901,
          215283742,
          90404800,
          58401898,
          43625095,
          0,
          747862775,
          177238796,
          0,
          392000000,
          314975955,
          43,
          1346739107,
          214179088,
          0,
          424208848,
          609016565,
          976475550,
          4812444,
          1341511219,
          0,
          260502115,
          0,
          0,
          136766062,
          0,
          389925971,
          1700000,
          0,
          488533726,
          13129846,
          102600000,
          126546518,
          8811,
          52287414,
          163442937,
          212385533,
          116471580,
          30861665,
          212011111
         ],
         "marker": {
          "color": "rgb(24,116,205)"
         },
         "orientation": "h",
         "type": "bar",
         "x": [
          38.45346396081176,
          38.08163265306123,
          35.23550724637681,
          34.47593935398813,
          34.055299539170505,
          31.30504403522818,
          30.160320641282567,
          26.08501118568233,
          25.987799155326137,
          24.653007270323855,
          24.566088117489983,
          23.82951243138521,
          23.368983957219253,
          22.755482002482417,
          22.299248989023685,
          21.88405797101449,
          20.36908077994429,
          19.99074502545118,
          19.873484449130206,
          19.649122807017545,
          19.540347293156284,
          18.37359646138142,
          18.24324324324324,
          17.647058823529413,
          17.633136094674555,
          17.46511627906977,
          17.034521788341824,
          16.32231404958678,
          16.261644390441475,
          16.15990990990991,
          15.685629727063466,
          15.528478322470956,
          15.352020860495436,
          15.33090467516697,
          15.205603253502034,
          15.092748735244518,
          15.036530756540184,
          14.785591766723844,
          14.755385017877389,
          14.706785385323917,
          14.61086637298091,
          14.56876456876457,
          14.472049689440992,
          14.442508710801397,
          14.42385173247381,
          14.31159420289855,
          14.1301746829385,
          14.08,
          13.227674489484912,
          13.200723327305605,
          13.15340909090909,
          13.11647429171039,
          13.096374045801523,
          13.026685393258427,
          12.837557125051932,
          12.723214285714285,
          12.699551569506726,
          12.68090971743625,
          12.678519382104342,
          12.51905487804878,
          12.478690760313672,
          12.43614931237721,
          12.410446036514909,
          12.234494477485132,
          12.18018018018018,
          11.946591707659874,
          11.872745162348313,
          11.851851851851851,
          11.828499369482977,
          11.783338612606906,
          11.760094080752646,
          11.735537190082644,
          11.735089078233928,
          11.669203450025368,
          11.631663974151856,
          11.532846715328466,
          11.128308311406904,
          10.88871096877502,
          10.669162377164248,
          10.62334010310889,
          10.557226758344076,
          9.997334044254863,
          9.526112185686657,
          9.421265141318976,
          9.40049663001064,
          9.39865143800743,
          9.264548375580151,
          9.04363974001857,
          8.946078431372548,
          8.577139741958932,
          8.25242718446602,
          8.088589311506981,
          7.9422382671480145,
          7.929334428923583,
          7.921364556230125,
          7.814375250033338,
          7.543194268857986,
          7.523770152955766,
          7.487922705314009,
          7.357650550652191,
          7.330637007077856,
          7.295016077170419,
          7.239819004524888,
          7.17357910906298,
          7.042253521126761,
          6.983655274888559,
          6.853146853146853,
          6.788771650408123,
          6.624605678233439,
          6.587942821628341,
          6.373056994818653,
          6.27420604182804,
          6.25,
          6.222222222222222,
          6.194984221890051,
          6.0427413411938105,
          6.041131105398458,
          5.991775993734091,
          5.972672207353148,
          5.940959409594096,
          5.8984910836762685,
          5.861546235472461,
          5.858969927410992,
          5.777593704700766,
          5.657237936772046,
          5.647935779816514,
          5.439435910350038,
          5.434428896843476,
          5.372205388584064,
          5.343993267410057,
          5.104521147301896,
          5.086170659941152,
          5.079236082893133,
          4.781377791758415,
          4.726148409893993,
          4.7247329498767465,
          4.716247732573206,
          4.650499286733238,
          4.455445544554455,
          4.425612052730696,
          4.360902255639098,
          4.357904496986556,
          4.292366875885807,
          4.282828282828283,
          4.27892234548336,
          3.983559911476446,
          3.956582633053221,
          3.955192919374914,
          3.7334263782274943,
          3.715012722646311,
          3.695281409891984,
          3.693254680687356,
          3.620920876173447,
          3.617300131061599,
          3.546831955922865,
          3.5150645624103296,
          3.5129424194400425,
          3.438485804416404,
          3.260466839570211,
          3.2133676092544987,
          2.6252983293556085,
          2.518223989396952,
          2.2900763358778624,
          2.2343821249430005,
          2.137916579333473,
          1.8234723569350144,
          1.8193738731355515,
          1.192117427621442,
          1.1832829808660623,
          0.4160166406656266
         ],
         "y": [
          "Sex_and_the_City_(2008)",
          "Bloomington_(2010)",
          "The_Shallows_(2016)",
          "Princess_Protection_Program_(2009)",
          "Bound_(1996)",
          "An_American_Girl:_McKenna_Shoots_for_the_Stars_(2012)",
          "Juno_(2007)",
          "Nim's_Island_(2008)",
          "Pitch_Perfect_2_(2015)",
          "Halloweentown_(1998)",
          "Teenage_Mutant_Ninja_Turtles_(2014)",
          "Psycho_(1960)",
          "Supergirl_(1984)",
          "Super_Shark_(2011)",
          "Sweet_Home_Alabama_(2002)",
          "Paranormal_Movie_(2013)",
          "Dark_Shadows_(2012)",
          "Bumblebee_(2018)",
          "10_Cloverfield_Lane_(2016)",
          "Push_(2009)",
          "The_Phantom_of_the_Opera_at_the_Royal_Albert_Hall_(2011)",
          "Soul_Surfer_(2011)",
          "Sharknado_(2013)",
          "Camp_Rock_2:_The_Final_Jam_(2010)",
          "White_Zombie_(1932)",
          "Vertigo_(1958)",
          "Stuart_Little_2_(2002)",
          "Ghost_in_the_Shell_(2017)",
          "Mary_Poppins_Returns_(2018)",
          "Elektra_(2005)",
          "A_Perfect_Getaway_(2009)",
          "Bridge_to_Terabithia_(2007)",
          "Carrie_(1976)",
          "Chatroom_(2010)",
          "Mamma_Mia!_Here_We_Go_Again_(2018)",
          "Underworld:_Evolution_(2006)",
          "Anne_of_Green_Gables:_A_New_Beginning_(2008)",
          "Miss_Peregrine's_Home_for_Peculiar_Children_(2016)",
          "The_Princess_Diaries_2:_Royal_Engagement_(2004)",
          "Bonnie_and_Clyde_(1967)",
          "102_Dalmatians_(2000)",
          "Abominable_(2006)",
          "Underworld:_Awakening_(2012)",
          "Big_Eyes_(2014)",
          "RED_(2010)",
          "The_Giver_(2014)",
          "Hannah_Montana:_The_Movie_(2009)",
          "My_Week_with_Marilyn_(2011)",
          "Fantastic_4:_Rise_of_the_Silver_Surfer_(2007)",
          "The_Night_Flier_(1997)",
          "Edward_Scissorhands_(1990)",
          "Deadpool_(2016)",
          "Roman_Holiday_(1953)",
          "Herbie_Fully_Loaded_(2005)",
          "Hancock_(2008)",
          "Zoom_(2006)",
          "Iron_Man_Three_(2013)_[4K]",
          "Avengers:_Age_of_Ultron_(2015)",
          "Hansel_&_Gretel:_Witch_Hunters_(2013)",
          "Beautiful_Creatures_(2013)",
          "Trouble_with_the_Curve_(2012)",
          "Hugo_(2011)",
          "Madeline_(1998)",
          "Enemy_(2013)",
          "A_Nightmare_on_Elm_Street_(1984)",
          "Van_Helsing_(2004)",
          "John_Carter_(2012)",
          "Sausage_Party_(2016)",
          "The_Love_Bug_(1968)",
          "Need_for_Speed_(2014)",
          "Honey,_I_Shrunk_the_Kids_(1989)",
          "Batman_&_Robin_(1997)",
          "Justice_League_(2017)",
          "The_Shaggy_Dog_(2006)",
          "Ginger_Snaps_2:_Unleashed_(2004)",
          "Masters_of_the_Universe_(1987)",
          "King_Kong_(2005)",
          "Ace_Ventura:_Pet_Detective_(1994)",
          "Casper_(1995)",
          "Spider-Man_2_(2004)",
          "The_Great_Gatsby_(2013)",
          "Nanny_McPhee_(2005)",
          "The_Wolf_Man_(1941)",
          "Dr._Jekyll_and_Mr._Hyde_(1931)",
          "Sleepy_Hollow_(1999)",
          "Titanic_(1997)",
          "Saving_Mr._Banks_(2013)",
          "Superman_II_(1980)",
          "A_Nightmare_on_Elm_Street_3:_Dream_Warriors_(1987)",
          "Diary_of_a_Wimpy_Kid:_Dog_Days_(2012)",
          "A_Quiet_Place_(2018)",
          "Fantastic_Four_(2015)",
          "Abbott_and_Costello_Meet_the_Mummy_(1955)",
          "Cape_Fear_(1962)",
          "Superman_(1978)",
          "Fat_Albert_(2004)",
          "The_Inbetweeners_2_(2014)",
          "Deadpool_2_(2018)",
          "The_Haunted_Mansion_(2003)",
          "Austin_Powers_in_Goldmember_(2002)",
          "Suicide_Squad_(2016)",
          "2012_(2009)",
          "Muppets_Most_Wanted_(2014)",
          "Diary_of_a_Wimpy_Kid:_Rodrick_Rules_(2011)",
          "Transformers:_Dark_of_the_Moon_(2011)",
          "Homeward_Bound_II:_Lost_in_San_Francisco_(1996)",
          "Scary_Stories_to_Tell_in_the_Dark_(2019)",
          "Indiana_Jones_and_the_Kingdom_of_the_Crystal_Skull_(2008)",
          "G.I._Joe:_The_Rise_of_Cobra_(2009)",
          "Men_in_Black_II_(2002)",
          "Frankenstein_(1931)",
          "Death_Sentence_(2007)",
          "Air_Buddies_(2006)",
          "Cats_&_Dogs:_The_Revenge_of_Kitty_Galore_(2010)",
          "Troy_(2004)",
          "Inkheart_(2008)",
          "X-Men_(2000)",
          "Anne_of_the_Indies_(1951)",
          "The_Remains_of_the_Day_(1993)",
          "The_Punisher_(2004)",
          "The_Hunchback_of_Notre_Dame_(1923)",
          "Planet_of_the_Apes_(2001)",
          "Willy_Wonka_&_the_Chocolate_Factory_(1971)",
          "Harry_Potter_and_the_Goblet_of_Fire_(2005)",
          "Osmosis_Jones_(2001)",
          "Star_Trek:_First_Contact_(1996)",
          "Night_at_the_Museum_(2006)",
          "Red_Dawn_(2012)",
          "Doctor_Zhivago_(1965)",
          "Mr._Bean's_Holiday_(2007)",
          "The_Black_Hole_(1979)",
          "The_Sorcerer's_Apprentice_(2010)",
          "Trading_Places_(1983)",
          "The_Ninth_Gate_(1999)",
          "Killer_Klowns_from_Outer_Space_(1988)",
          "Redemption_(2013)",
          "X-Men:_Days_of_Future_Past_(2014)",
          "The_A-Team_(2010)",
          "Air_Bud_3:_World_Pup_(2001)",
          "The_Wolf_of_Wall_Street_(2013)",
          "The_Expendables_2_(2012)",
          "The_Jungle_Book_(1994)",
          "Black_Panther_(2018)",
          "Pulp_Fiction_(1994)",
          "The_Mummy's_Tomb_(1942)",
          "Dances_with_Wolves_(1990)",
          "Life_of_Pi_(2012)",
          "Harry_Potter_and_the_Sorcerer's_Stone_(2001)",
          "Abbott_and_Costello_Meet_Frankenstein_(1948)",
          "Harry_Potter_and_the_Deathly_Hallows:_Part_2_(2011)",
          "The_Lost_World_(1925)",
          "The_Lone_Ranger_(2013)",
          "Ernest_Scared_Stupid_(1991)",
          "The_Million_Dollar_Duck_(1971)",
          "The_Godfather:_Part_III_(1990)",
          "There_Be_Dragons_(2011)",
          "Raiders_of_the_Lost_Ark_(1981)",
          "This_Island_Earth_(1955)",
          "Son_of_Frankenstein_(1939)",
          "War_for_the_Planet_of_the_Apes_(2017)",
          "To_Kill_a_Mockingbird_(1962)",
          "The_Godfather:_Part_II_(1974)",
          "Walking_with_Dinosaurs_(2013)",
          "The_Cabinet_of_Dr._Caligari_(1920)",
          "Stand_by_Me_(1986)",
          "Unbroken_(2014)",
          "Ace_Ventura:_When_Nature_Calls_(1995)",
          "Lincoln_(2012)",
          "The_Princess_Bride_(1987)",
          "Master_and_Commander:_The_Far_Side_of_the_World_(2003)"
         ]
        }
       ],
       "layout": {
        "autosize": true,
        "font": {
         "size": 10
        },
        "height": 500,
        "template": {
         "data": {
          "bar": [
           {
            "error_x": {
             "color": "#2a3f5f"
            },
            "error_y": {
             "color": "#2a3f5f"
            },
            "marker": {
             "line": {
              "color": "#E5ECF6",
              "width": 0.5
             },
             "pattern": {
              "fillmode": "overlay",
              "size": 10,
              "solidity": 0.2
             }
            },
            "type": "bar"
           }
          ],
          "barpolar": [
           {
            "marker": {
             "line": {
              "color": "#E5ECF6",
              "width": 0.5
             },
             "pattern": {
              "fillmode": "overlay",
              "size": 10,
              "solidity": 0.2
             }
            },
            "type": "barpolar"
           }
          ],
          "carpet": [
           {
            "aaxis": {
             "endlinecolor": "#2a3f5f",
             "gridcolor": "white",
             "linecolor": "white",
             "minorgridcolor": "white",
             "startlinecolor": "#2a3f5f"
            },
            "baxis": {
             "endlinecolor": "#2a3f5f",
             "gridcolor": "white",
             "linecolor": "white",
             "minorgridcolor": "white",
             "startlinecolor": "#2a3f5f"
            },
            "type": "carpet"
           }
          ],
          "choropleth": [
           {
            "colorbar": {
             "outlinewidth": 0,
             "ticks": ""
            },
            "type": "choropleth"
           }
          ],
          "contour": [
           {
            "colorbar": {
             "outlinewidth": 0,
             "ticks": ""
            },
            "colorscale": [
             [
              0,
              "#0d0887"
             ],
             [
              0.1111111111111111,
              "#46039f"
             ],
             [
              0.2222222222222222,
              "#7201a8"
             ],
             [
              0.3333333333333333,
              "#9c179e"
             ],
             [
              0.4444444444444444,
              "#bd3786"
             ],
             [
              0.5555555555555556,
              "#d8576b"
             ],
             [
              0.6666666666666666,
              "#ed7953"
             ],
             [
              0.7777777777777778,
              "#fb9f3a"
             ],
             [
              0.8888888888888888,
              "#fdca26"
             ],
             [
              1,
              "#f0f921"
             ]
            ],
            "type": "contour"
           }
          ],
          "contourcarpet": [
           {
            "colorbar": {
             "outlinewidth": 0,
             "ticks": ""
            },
            "type": "contourcarpet"
           }
          ],
          "heatmap": [
           {
            "colorbar": {
             "outlinewidth": 0,
             "ticks": ""
            },
            "colorscale": [
             [
              0,
              "#0d0887"
             ],
             [
              0.1111111111111111,
              "#46039f"
             ],
             [
              0.2222222222222222,
              "#7201a8"
             ],
             [
              0.3333333333333333,
              "#9c179e"
             ],
             [
              0.4444444444444444,
              "#bd3786"
             ],
             [
              0.5555555555555556,
              "#d8576b"
             ],
             [
              0.6666666666666666,
              "#ed7953"
             ],
             [
              0.7777777777777778,
              "#fb9f3a"
             ],
             [
              0.8888888888888888,
              "#fdca26"
             ],
             [
              1,
              "#f0f921"
             ]
            ],
            "type": "heatmap"
           }
          ],
          "heatmapgl": [
           {
            "colorbar": {
             "outlinewidth": 0,
             "ticks": ""
            },
            "colorscale": [
             [
              0,
              "#0d0887"
             ],
             [
              0.1111111111111111,
              "#46039f"
             ],
             [
              0.2222222222222222,
              "#7201a8"
             ],
             [
              0.3333333333333333,
              "#9c179e"
             ],
             [
              0.4444444444444444,
              "#bd3786"
             ],
             [
              0.5555555555555556,
              "#d8576b"
             ],
             [
              0.6666666666666666,
              "#ed7953"
             ],
             [
              0.7777777777777778,
              "#fb9f3a"
             ],
             [
              0.8888888888888888,
              "#fdca26"
             ],
             [
              1,
              "#f0f921"
             ]
            ],
            "type": "heatmapgl"
           }
          ],
          "histogram": [
           {
            "marker": {
             "pattern": {
              "fillmode": "overlay",
              "size": 10,
              "solidity": 0.2
             }
            },
            "type": "histogram"
           }
          ],
          "histogram2d": [
           {
            "colorbar": {
             "outlinewidth": 0,
             "ticks": ""
            },
            "colorscale": [
             [
              0,
              "#0d0887"
             ],
             [
              0.1111111111111111,
              "#46039f"
             ],
             [
              0.2222222222222222,
              "#7201a8"
             ],
             [
              0.3333333333333333,
              "#9c179e"
             ],
             [
              0.4444444444444444,
              "#bd3786"
             ],
             [
              0.5555555555555556,
              "#d8576b"
             ],
             [
              0.6666666666666666,
              "#ed7953"
             ],
             [
              0.7777777777777778,
              "#fb9f3a"
             ],
             [
              0.8888888888888888,
              "#fdca26"
             ],
             [
              1,
              "#f0f921"
             ]
            ],
            "type": "histogram2d"
           }
          ],
          "histogram2dcontour": [
           {
            "colorbar": {
             "outlinewidth": 0,
             "ticks": ""
            },
            "colorscale": [
             [
              0,
              "#0d0887"
             ],
             [
              0.1111111111111111,
              "#46039f"
             ],
             [
              0.2222222222222222,
              "#7201a8"
             ],
             [
              0.3333333333333333,
              "#9c179e"
             ],
             [
              0.4444444444444444,
              "#bd3786"
             ],
             [
              0.5555555555555556,
              "#d8576b"
             ],
             [
              0.6666666666666666,
              "#ed7953"
             ],
             [
              0.7777777777777778,
              "#fb9f3a"
             ],
             [
              0.8888888888888888,
              "#fdca26"
             ],
             [
              1,
              "#f0f921"
             ]
            ],
            "type": "histogram2dcontour"
           }
          ],
          "mesh3d": [
           {
            "colorbar": {
             "outlinewidth": 0,
             "ticks": ""
            },
            "type": "mesh3d"
           }
          ],
          "parcoords": [
           {
            "line": {
             "colorbar": {
              "outlinewidth": 0,
              "ticks": ""
             }
            },
            "type": "parcoords"
           }
          ],
          "pie": [
           {
            "automargin": true,
            "type": "pie"
           }
          ],
          "scatter": [
           {
            "marker": {
             "colorbar": {
              "outlinewidth": 0,
              "ticks": ""
             }
            },
            "type": "scatter"
           }
          ],
          "scatter3d": [
           {
            "line": {
             "colorbar": {
              "outlinewidth": 0,
              "ticks": ""
             }
            },
            "marker": {
             "colorbar": {
              "outlinewidth": 0,
              "ticks": ""
             }
            },
            "type": "scatter3d"
           }
          ],
          "scattercarpet": [
           {
            "marker": {
             "colorbar": {
              "outlinewidth": 0,
              "ticks": ""
             }
            },
            "type": "scattercarpet"
           }
          ],
          "scattergeo": [
           {
            "marker": {
             "colorbar": {
              "outlinewidth": 0,
              "ticks": ""
             }
            },
            "type": "scattergeo"
           }
          ],
          "scattergl": [
           {
            "marker": {
             "colorbar": {
              "outlinewidth": 0,
              "ticks": ""
             }
            },
            "type": "scattergl"
           }
          ],
          "scattermapbox": [
           {
            "marker": {
             "colorbar": {
              "outlinewidth": 0,
              "ticks": ""
             }
            },
            "type": "scattermapbox"
           }
          ],
          "scatterpolar": [
           {
            "marker": {
             "colorbar": {
              "outlinewidth": 0,
              "ticks": ""
             }
            },
            "type": "scatterpolar"
           }
          ],
          "scatterpolargl": [
           {
            "marker": {
             "colorbar": {
              "outlinewidth": 0,
              "ticks": ""
             }
            },
            "type": "scatterpolargl"
           }
          ],
          "scatterternary": [
           {
            "marker": {
             "colorbar": {
              "outlinewidth": 0,
              "ticks": ""
             }
            },
            "type": "scatterternary"
           }
          ],
          "surface": [
           {
            "colorbar": {
             "outlinewidth": 0,
             "ticks": ""
            },
            "colorscale": [
             [
              0,
              "#0d0887"
             ],
             [
              0.1111111111111111,
              "#46039f"
             ],
             [
              0.2222222222222222,
              "#7201a8"
             ],
             [
              0.3333333333333333,
              "#9c179e"
             ],
             [
              0.4444444444444444,
              "#bd3786"
             ],
             [
              0.5555555555555556,
              "#d8576b"
             ],
             [
              0.6666666666666666,
              "#ed7953"
             ],
             [
              0.7777777777777778,
              "#fb9f3a"
             ],
             [
              0.8888888888888888,
              "#fdca26"
             ],
             [
              1,
              "#f0f921"
             ]
            ],
            "type": "surface"
           }
          ],
          "table": [
           {
            "cells": {
             "fill": {
              "color": "#EBF0F8"
             },
             "line": {
              "color": "white"
             }
            },
            "header": {
             "fill": {
              "color": "#C8D4E3"
             },
             "line": {
              "color": "white"
             }
            },
            "type": "table"
           }
          ]
         },
         "layout": {
          "annotationdefaults": {
           "arrowcolor": "#2a3f5f",
           "arrowhead": 0,
           "arrowwidth": 1
          },
          "autotypenumbers": "strict",
          "coloraxis": {
           "colorbar": {
            "outlinewidth": 0,
            "ticks": ""
           }
          },
          "colorscale": {
           "diverging": [
            [
             0,
             "#8e0152"
            ],
            [
             0.1,
             "#c51b7d"
            ],
            [
             0.2,
             "#de77ae"
            ],
            [
             0.3,
             "#f1b6da"
            ],
            [
             0.4,
             "#fde0ef"
            ],
            [
             0.5,
             "#f7f7f7"
            ],
            [
             0.6,
             "#e6f5d0"
            ],
            [
             0.7,
             "#b8e186"
            ],
            [
             0.8,
             "#7fbc41"
            ],
            [
             0.9,
             "#4d9221"
            ],
            [
             1,
             "#276419"
            ]
           ],
           "sequential": [
            [
             0,
             "#0d0887"
            ],
            [
             0.1111111111111111,
             "#46039f"
            ],
            [
             0.2222222222222222,
             "#7201a8"
            ],
            [
             0.3333333333333333,
             "#9c179e"
            ],
            [
             0.4444444444444444,
             "#bd3786"
            ],
            [
             0.5555555555555556,
             "#d8576b"
            ],
            [
             0.6666666666666666,
             "#ed7953"
            ],
            [
             0.7777777777777778,
             "#fb9f3a"
            ],
            [
             0.8888888888888888,
             "#fdca26"
            ],
            [
             1,
             "#f0f921"
            ]
           ],
           "sequentialminus": [
            [
             0,
             "#0d0887"
            ],
            [
             0.1111111111111111,
             "#46039f"
            ],
            [
             0.2222222222222222,
             "#7201a8"
            ],
            [
             0.3333333333333333,
             "#9c179e"
            ],
            [
             0.4444444444444444,
             "#bd3786"
            ],
            [
             0.5555555555555556,
             "#d8576b"
            ],
            [
             0.6666666666666666,
             "#ed7953"
            ],
            [
             0.7777777777777778,
             "#fb9f3a"
            ],
            [
             0.8888888888888888,
             "#fdca26"
            ],
            [
             1,
             "#f0f921"
            ]
           ]
          },
          "colorway": [
           "#636efa",
           "#EF553B",
           "#00cc96",
           "#ab63fa",
           "#FFA15A",
           "#19d3f3",
           "#FF6692",
           "#B6E880",
           "#FF97FF",
           "#FECB52"
          ],
          "font": {
           "color": "#2a3f5f"
          },
          "geo": {
           "bgcolor": "white",
           "lakecolor": "white",
           "landcolor": "#E5ECF6",
           "showlakes": true,
           "showland": true,
           "subunitcolor": "white"
          },
          "hoverlabel": {
           "align": "left"
          },
          "hovermode": "closest",
          "mapbox": {
           "style": "light"
          },
          "paper_bgcolor": "white",
          "plot_bgcolor": "#E5ECF6",
          "polar": {
           "angularaxis": {
            "gridcolor": "white",
            "linecolor": "white",
            "ticks": ""
           },
           "bgcolor": "#E5ECF6",
           "radialaxis": {
            "gridcolor": "white",
            "linecolor": "white",
            "ticks": ""
           }
          },
          "scene": {
           "xaxis": {
            "backgroundcolor": "#E5ECF6",
            "gridcolor": "white",
            "gridwidth": 2,
            "linecolor": "white",
            "showbackground": true,
            "ticks": "",
            "zerolinecolor": "white"
           },
           "yaxis": {
            "backgroundcolor": "#E5ECF6",
            "gridcolor": "white",
            "gridwidth": 2,
            "linecolor": "white",
            "showbackground": true,
            "ticks": "",
            "zerolinecolor": "white"
           },
           "zaxis": {
            "backgroundcolor": "#E5ECF6",
            "gridcolor": "white",
            "gridwidth": 2,
            "linecolor": "white",
            "showbackground": true,
            "ticks": "",
            "zerolinecolor": "white"
           }
          },
          "shapedefaults": {
           "line": {
            "color": "#2a3f5f"
           }
          },
          "ternary": {
           "aaxis": {
            "gridcolor": "white",
            "linecolor": "white",
            "ticks": ""
           },
           "baxis": {
            "gridcolor": "white",
            "linecolor": "white",
            "ticks": ""
           },
           "bgcolor": "#E5ECF6",
           "caxis": {
            "gridcolor": "white",
            "linecolor": "white",
            "ticks": ""
           }
          },
          "title": {
           "x": 0.05
          },
          "xaxis": {
           "automargin": true,
           "gridcolor": "white",
           "linecolor": "white",
           "ticks": "",
           "title": {
            "standoff": 15
           },
           "zerolinecolor": "white",
           "zerolinewidth": 2
          },
          "yaxis": {
           "automargin": true,
           "gridcolor": "white",
           "linecolor": "white",
           "ticks": "",
           "title": {
            "standoff": 15
           },
           "zerolinecolor": "white",
           "zerolinewidth": 2
          }
         }
        },
        "title": {
         "text": "Screentime percentage of women in movies"
        },
        "width": 800,
        "xaxis": {
         "title": {
          "font": {
           "size": 18
          },
          "text": "Screentime [%]"
         }
        }
       }
      },
      "text/html": [
       "<div>                            <div id=\"47953734-d29d-4618-880e-460d6463b608\" class=\"plotly-graph-div\" style=\"height:500px; width:800px;\"></div>            <script type=\"text/javascript\">                require([\"plotly\"], function(Plotly) {                    window.PLOTLYENV=window.PLOTLYENV || {};                                    if (document.getElementById(\"47953734-d29d-4618-880e-460d6463b608\")) {                    Plotly.newPlot(                        \"47953734-d29d-4618-880e-460d6463b608\",                        [{\"hovertext\":[415252786.0,0.0,119100758.0,0.0,7011317.0,0.0,231411584.0,100076342.0,287506194.0,0.0,477200000.0,32000000.0,14296438.0,0.0,180622424.0,0.0,245527149.0,467989645.0,108286421.0,45465299.0,0.0,47088990.0,0.0,0.0,0.0,7797728.0,169956806.0,169801921.0,348807090.0,56681566.0,22852638.0,137587063.0,33800000.0,0.0,395044706.0,111476513.0,0.0,296482446.0,134734481.0,50700000.0,183611771.0,1810000.0,160112671.0,28883511.0,71664962.0,66980456.0,155545279.0,35057696.0,301913131.0,91549.0,53000000.0,783100000.0,12000000.0,66002004.0,629443428.0,12506188.0,1214811252.0,1405403694.0,226349749.0,60052138.0,0.0,185770160.0,30000000.0,3396726.0,57000000.0,300257475.0,284139100.0,140705322.0,0.0,203277636.0,222724172.0,238207122.0,657924295.0,87134280.0,0.0,17336370.0,562363449.0,107217396.0,287928194.0,783766341.0,351040419.0,123276807.0,0.0,1300000.0,206071502.0,2187463944.0,112544580.0,190458706.0,44793222.0,76196538.0,340677200.0,167977596.0,0.0,103000000.0,300218018.0,48563556.0,0.0,786365638.0,182290266.0,296655431.0,746846894.0,791217826.0,80383290.0,72526996.0,1123794079.0,32709423.0,95438172.0,786636033.0,302469017.0,445135288.0,12000000.0,16974459.0,0.0,112483764.0,497409852.0,62803180.0,296339527.0,0.0,23237911.0,54700105.0,0.0,362211740.0,4000000.0,895921036.0,13596911.0,150000000.0,574480841.0,44806783.0,111858363.0,232225908.0,35841901.0,215283742.0,90404800.0,58401898.0,43625095.0,0.0,747862775.0,177238796.0,0.0,392000000.0,314975955.0,43.0,1346739107.0,214179088.0,0.0,424208848.0,609016565.0,976475550.0,4812444.0,1341511219.0,0.0,260502115.0,0.0,0.0,136766062.0,0.0,389925971.0,1700000.0,0.0,488533726.0,13129846.0,102600000.0,126546518.0,8811.0,52287414.0,163442937.0,212385533.0,116471580.0,30861665.0,212011111.0],\"marker\":{\"color\":\"rgb(24,116,205)\"},\"orientation\":\"h\",\"type\":\"bar\",\"x\":[38.45346396081176,38.08163265306123,35.23550724637681,34.47593935398813,34.055299539170505,31.30504403522818,30.160320641282567,26.08501118568233,25.987799155326137,24.653007270323855,24.566088117489983,23.82951243138521,23.368983957219253,22.755482002482417,22.299248989023685,21.88405797101449,20.36908077994429,19.99074502545118,19.873484449130206,19.649122807017545,19.540347293156284,18.37359646138142,18.24324324324324,17.647058823529413,17.633136094674555,17.46511627906977,17.034521788341824,16.32231404958678,16.261644390441475,16.15990990990991,15.685629727063466,15.528478322470956,15.352020860495436,15.33090467516697,15.205603253502034,15.092748735244518,15.036530756540184,14.785591766723844,14.755385017877389,14.706785385323917,14.61086637298091,14.56876456876457,14.472049689440992,14.442508710801397,14.42385173247381,14.31159420289855,14.1301746829385,14.08,13.227674489484912,13.200723327305605,13.15340909090909,13.11647429171039,13.096374045801523,13.026685393258427,12.837557125051932,12.723214285714285,12.699551569506726,12.68090971743625,12.678519382104342,12.51905487804878,12.478690760313672,12.43614931237721,12.410446036514909,12.234494477485132,12.18018018018018,11.946591707659874,11.872745162348313,11.851851851851851,11.828499369482977,11.783338612606906,11.760094080752646,11.735537190082644,11.735089078233928,11.669203450025368,11.631663974151856,11.532846715328466,11.128308311406904,10.88871096877502,10.669162377164248,10.62334010310889,10.557226758344076,9.997334044254863,9.526112185686657,9.421265141318976,9.40049663001064,9.39865143800743,9.264548375580151,9.04363974001857,8.946078431372548,8.577139741958932,8.25242718446602,8.088589311506981,7.9422382671480145,7.929334428923583,7.921364556230125,7.814375250033338,7.543194268857986,7.523770152955766,7.487922705314009,7.357650550652191,7.330637007077856,7.295016077170419,7.239819004524888,7.17357910906298,7.042253521126761,6.983655274888559,6.853146853146853,6.788771650408123,6.624605678233439,6.587942821628341,6.373056994818653,6.27420604182804,6.25,6.222222222222222,6.194984221890051,6.0427413411938105,6.041131105398458,5.991775993734091,5.972672207353148,5.940959409594096,5.8984910836762685,5.861546235472461,5.858969927410992,5.777593704700766,5.657237936772046,5.647935779816514,5.439435910350038,5.434428896843476,5.372205388584064,5.343993267410057,5.104521147301896,5.086170659941152,5.079236082893133,4.781377791758415,4.726148409893993,4.7247329498767465,4.716247732573206,4.650499286733238,4.455445544554455,4.425612052730696,4.360902255639098,4.357904496986556,4.292366875885807,4.282828282828283,4.27892234548336,3.983559911476446,3.956582633053221,3.955192919374914,3.7334263782274943,3.715012722646311,3.695281409891984,3.693254680687356,3.620920876173447,3.617300131061599,3.546831955922865,3.5150645624103296,3.5129424194400425,3.438485804416404,3.260466839570211,3.2133676092544987,2.6252983293556085,2.518223989396952,2.2900763358778624,2.2343821249430005,2.137916579333473,1.8234723569350144,1.8193738731355515,1.192117427621442,1.1832829808660623,0.4160166406656266],\"y\":[\"Sex_and_the_City_(2008)\",\"Bloomington_(2010)\",\"The_Shallows_(2016)\",\"Princess_Protection_Program_(2009)\",\"Bound_(1996)\",\"An_American_Girl:_McKenna_Shoots_for_the_Stars_(2012)\",\"Juno_(2007)\",\"Nim's_Island_(2008)\",\"Pitch_Perfect_2_(2015)\",\"Halloweentown_(1998)\",\"Teenage_Mutant_Ninja_Turtles_(2014)\",\"Psycho_(1960)\",\"Supergirl_(1984)\",\"Super_Shark_(2011)\",\"Sweet_Home_Alabama_(2002)\",\"Paranormal_Movie_(2013)\",\"Dark_Shadows_(2012)\",\"Bumblebee_(2018)\",\"10_Cloverfield_Lane_(2016)\",\"Push_(2009)\",\"The_Phantom_of_the_Opera_at_the_Royal_Albert_Hall_(2011)\",\"Soul_Surfer_(2011)\",\"Sharknado_(2013)\",\"Camp_Rock_2:_The_Final_Jam_(2010)\",\"White_Zombie_(1932)\",\"Vertigo_(1958)\",\"Stuart_Little_2_(2002)\",\"Ghost_in_the_Shell_(2017)\",\"Mary_Poppins_Returns_(2018)\",\"Elektra_(2005)\",\"A_Perfect_Getaway_(2009)\",\"Bridge_to_Terabithia_(2007)\",\"Carrie_(1976)\",\"Chatroom_(2010)\",\"Mamma_Mia!_Here_We_Go_Again_(2018)\",\"Underworld:_Evolution_(2006)\",\"Anne_of_Green_Gables:_A_New_Beginning_(2008)\",\"Miss_Peregrine's_Home_for_Peculiar_Children_(2016)\",\"The_Princess_Diaries_2:_Royal_Engagement_(2004)\",\"Bonnie_and_Clyde_(1967)\",\"102_Dalmatians_(2000)\",\"Abominable_(2006)\",\"Underworld:_Awakening_(2012)\",\"Big_Eyes_(2014)\",\"RED_(2010)\",\"The_Giver_(2014)\",\"Hannah_Montana:_The_Movie_(2009)\",\"My_Week_with_Marilyn_(2011)\",\"Fantastic_4:_Rise_of_the_Silver_Surfer_(2007)\",\"The_Night_Flier_(1997)\",\"Edward_Scissorhands_(1990)\",\"Deadpool_(2016)\",\"Roman_Holiday_(1953)\",\"Herbie_Fully_Loaded_(2005)\",\"Hancock_(2008)\",\"Zoom_(2006)\",\"Iron_Man_Three_(2013)_[4K]\",\"Avengers:_Age_of_Ultron_(2015)\",\"Hansel_&_Gretel:_Witch_Hunters_(2013)\",\"Beautiful_Creatures_(2013)\",\"Trouble_with_the_Curve_(2012)\",\"Hugo_(2011)\",\"Madeline_(1998)\",\"Enemy_(2013)\",\"A_Nightmare_on_Elm_Street_(1984)\",\"Van_Helsing_(2004)\",\"John_Carter_(2012)\",\"Sausage_Party_(2016)\",\"The_Love_Bug_(1968)\",\"Need_for_Speed_(2014)\",\"Honey,_I_Shrunk_the_Kids_(1989)\",\"Batman_&_Robin_(1997)\",\"Justice_League_(2017)\",\"The_Shaggy_Dog_(2006)\",\"Ginger_Snaps_2:_Unleashed_(2004)\",\"Masters_of_the_Universe_(1987)\",\"King_Kong_(2005)\",\"Ace_Ventura:_Pet_Detective_(1994)\",\"Casper_(1995)\",\"Spider-Man_2_(2004)\",\"The_Great_Gatsby_(2013)\",\"Nanny_McPhee_(2005)\",\"The_Wolf_Man_(1941)\",\"Dr._Jekyll_and_Mr._Hyde_(1931)\",\"Sleepy_Hollow_(1999)\",\"Titanic_(1997)\",\"Saving_Mr._Banks_(2013)\",\"Superman_II_(1980)\",\"A_Nightmare_on_Elm_Street_3:_Dream_Warriors_(1987)\",\"Diary_of_a_Wimpy_Kid:_Dog_Days_(2012)\",\"A_Quiet_Place_(2018)\",\"Fantastic_Four_(2015)\",\"Abbott_and_Costello_Meet_the_Mummy_(1955)\",\"Cape_Fear_(1962)\",\"Superman_(1978)\",\"Fat_Albert_(2004)\",\"The_Inbetweeners_2_(2014)\",\"Deadpool_2_(2018)\",\"The_Haunted_Mansion_(2003)\",\"Austin_Powers_in_Goldmember_(2002)\",\"Suicide_Squad_(2016)\",\"2012_(2009)\",\"Muppets_Most_Wanted_(2014)\",\"Diary_of_a_Wimpy_Kid:_Rodrick_Rules_(2011)\",\"Transformers:_Dark_of_the_Moon_(2011)\",\"Homeward_Bound_II:_Lost_in_San_Francisco_(1996)\",\"Scary_Stories_to_Tell_in_the_Dark_(2019)\",\"Indiana_Jones_and_the_Kingdom_of_the_Crystal_Skull_(2008)\",\"G.I._Joe:_The_Rise_of_Cobra_(2009)\",\"Men_in_Black_II_(2002)\",\"Frankenstein_(1931)\",\"Death_Sentence_(2007)\",\"Air_Buddies_(2006)\",\"Cats_&_Dogs:_The_Revenge_of_Kitty_Galore_(2010)\",\"Troy_(2004)\",\"Inkheart_(2008)\",\"X-Men_(2000)\",\"Anne_of_the_Indies_(1951)\",\"The_Remains_of_the_Day_(1993)\",\"The_Punisher_(2004)\",\"The_Hunchback_of_Notre_Dame_(1923)\",\"Planet_of_the_Apes_(2001)\",\"Willy_Wonka_&_the_Chocolate_Factory_(1971)\",\"Harry_Potter_and_the_Goblet_of_Fire_(2005)\",\"Osmosis_Jones_(2001)\",\"Star_Trek:_First_Contact_(1996)\",\"Night_at_the_Museum_(2006)\",\"Red_Dawn_(2012)\",\"Doctor_Zhivago_(1965)\",\"Mr._Bean's_Holiday_(2007)\",\"The_Black_Hole_(1979)\",\"The_Sorcerer's_Apprentice_(2010)\",\"Trading_Places_(1983)\",\"The_Ninth_Gate_(1999)\",\"Killer_Klowns_from_Outer_Space_(1988)\",\"Redemption_(2013)\",\"X-Men:_Days_of_Future_Past_(2014)\",\"The_A-Team_(2010)\",\"Air_Bud_3:_World_Pup_(2001)\",\"The_Wolf_of_Wall_Street_(2013)\",\"The_Expendables_2_(2012)\",\"The_Jungle_Book_(1994)\",\"Black_Panther_(2018)\",\"Pulp_Fiction_(1994)\",\"The_Mummy's_Tomb_(1942)\",\"Dances_with_Wolves_(1990)\",\"Life_of_Pi_(2012)\",\"Harry_Potter_and_the_Sorcerer's_Stone_(2001)\",\"Abbott_and_Costello_Meet_Frankenstein_(1948)\",\"Harry_Potter_and_the_Deathly_Hallows:_Part_2_(2011)\",\"The_Lost_World_(1925)\",\"The_Lone_Ranger_(2013)\",\"Ernest_Scared_Stupid_(1991)\",\"The_Million_Dollar_Duck_(1971)\",\"The_Godfather:_Part_III_(1990)\",\"There_Be_Dragons_(2011)\",\"Raiders_of_the_Lost_Ark_(1981)\",\"This_Island_Earth_(1955)\",\"Son_of_Frankenstein_(1939)\",\"War_for_the_Planet_of_the_Apes_(2017)\",\"To_Kill_a_Mockingbird_(1962)\",\"The_Godfather:_Part_II_(1974)\",\"Walking_with_Dinosaurs_(2013)\",\"The_Cabinet_of_Dr._Caligari_(1920)\",\"Stand_by_Me_(1986)\",\"Unbroken_(2014)\",\"Ace_Ventura:_When_Nature_Calls_(1995)\",\"Lincoln_(2012)\",\"The_Princess_Bride_(1987)\",\"Master_and_Commander:_The_Far_Side_of_the_World_(2003)\"]}],                        {\"autosize\":true,\"font\":{\"size\":10},\"height\":500,\"template\":{\"data\":{\"bar\":[{\"error_x\":{\"color\":\"#2a3f5f\"},\"error_y\":{\"color\":\"#2a3f5f\"},\"marker\":{\"line\":{\"color\":\"#E5ECF6\",\"width\":0.5},\"pattern\":{\"fillmode\":\"overlay\",\"size\":10,\"solidity\":0.2}},\"type\":\"bar\"}],\"barpolar\":[{\"marker\":{\"line\":{\"color\":\"#E5ECF6\",\"width\":0.5},\"pattern\":{\"fillmode\":\"overlay\",\"size\":10,\"solidity\":0.2}},\"type\":\"barpolar\"}],\"carpet\":[{\"aaxis\":{\"endlinecolor\":\"#2a3f5f\",\"gridcolor\":\"white\",\"linecolor\":\"white\",\"minorgridcolor\":\"white\",\"startlinecolor\":\"#2a3f5f\"},\"baxis\":{\"endlinecolor\":\"#2a3f5f\",\"gridcolor\":\"white\",\"linecolor\":\"white\",\"minorgridcolor\":\"white\",\"startlinecolor\":\"#2a3f5f\"},\"type\":\"carpet\"}],\"choropleth\":[{\"colorbar\":{\"outlinewidth\":0,\"ticks\":\"\"},\"type\":\"choropleth\"}],\"contour\":[{\"colorbar\":{\"outlinewidth\":0,\"ticks\":\"\"},\"colorscale\":[[0.0,\"#0d0887\"],[0.1111111111111111,\"#46039f\"],[0.2222222222222222,\"#7201a8\"],[0.3333333333333333,\"#9c179e\"],[0.4444444444444444,\"#bd3786\"],[0.5555555555555556,\"#d8576b\"],[0.6666666666666666,\"#ed7953\"],[0.7777777777777778,\"#fb9f3a\"],[0.8888888888888888,\"#fdca26\"],[1.0,\"#f0f921\"]],\"type\":\"contour\"}],\"contourcarpet\":[{\"colorbar\":{\"outlinewidth\":0,\"ticks\":\"\"},\"type\":\"contourcarpet\"}],\"heatmap\":[{\"colorbar\":{\"outlinewidth\":0,\"ticks\":\"\"},\"colorscale\":[[0.0,\"#0d0887\"],[0.1111111111111111,\"#46039f\"],[0.2222222222222222,\"#7201a8\"],[0.3333333333333333,\"#9c179e\"],[0.4444444444444444,\"#bd3786\"],[0.5555555555555556,\"#d8576b\"],[0.6666666666666666,\"#ed7953\"],[0.7777777777777778,\"#fb9f3a\"],[0.8888888888888888,\"#fdca26\"],[1.0,\"#f0f921\"]],\"type\":\"heatmap\"}],\"heatmapgl\":[{\"colorbar\":{\"outlinewidth\":0,\"ticks\":\"\"},\"colorscale\":[[0.0,\"#0d0887\"],[0.1111111111111111,\"#46039f\"],[0.2222222222222222,\"#7201a8\"],[0.3333333333333333,\"#9c179e\"],[0.4444444444444444,\"#bd3786\"],[0.5555555555555556,\"#d8576b\"],[0.6666666666666666,\"#ed7953\"],[0.7777777777777778,\"#fb9f3a\"],[0.8888888888888888,\"#fdca26\"],[1.0,\"#f0f921\"]],\"type\":\"heatmapgl\"}],\"histogram\":[{\"marker\":{\"pattern\":{\"fillmode\":\"overlay\",\"size\":10,\"solidity\":0.2}},\"type\":\"histogram\"}],\"histogram2d\":[{\"colorbar\":{\"outlinewidth\":0,\"ticks\":\"\"},\"colorscale\":[[0.0,\"#0d0887\"],[0.1111111111111111,\"#46039f\"],[0.2222222222222222,\"#7201a8\"],[0.3333333333333333,\"#9c179e\"],[0.4444444444444444,\"#bd3786\"],[0.5555555555555556,\"#d8576b\"],[0.6666666666666666,\"#ed7953\"],[0.7777777777777778,\"#fb9f3a\"],[0.8888888888888888,\"#fdca26\"],[1.0,\"#f0f921\"]],\"type\":\"histogram2d\"}],\"histogram2dcontour\":[{\"colorbar\":{\"outlinewidth\":0,\"ticks\":\"\"},\"colorscale\":[[0.0,\"#0d0887\"],[0.1111111111111111,\"#46039f\"],[0.2222222222222222,\"#7201a8\"],[0.3333333333333333,\"#9c179e\"],[0.4444444444444444,\"#bd3786\"],[0.5555555555555556,\"#d8576b\"],[0.6666666666666666,\"#ed7953\"],[0.7777777777777778,\"#fb9f3a\"],[0.8888888888888888,\"#fdca26\"],[1.0,\"#f0f921\"]],\"type\":\"histogram2dcontour\"}],\"mesh3d\":[{\"colorbar\":{\"outlinewidth\":0,\"ticks\":\"\"},\"type\":\"mesh3d\"}],\"parcoords\":[{\"line\":{\"colorbar\":{\"outlinewidth\":0,\"ticks\":\"\"}},\"type\":\"parcoords\"}],\"pie\":[{\"automargin\":true,\"type\":\"pie\"}],\"scatter\":[{\"marker\":{\"colorbar\":{\"outlinewidth\":0,\"ticks\":\"\"}},\"type\":\"scatter\"}],\"scatter3d\":[{\"line\":{\"colorbar\":{\"outlinewidth\":0,\"ticks\":\"\"}},\"marker\":{\"colorbar\":{\"outlinewidth\":0,\"ticks\":\"\"}},\"type\":\"scatter3d\"}],\"scattercarpet\":[{\"marker\":{\"colorbar\":{\"outlinewidth\":0,\"ticks\":\"\"}},\"type\":\"scattercarpet\"}],\"scattergeo\":[{\"marker\":{\"colorbar\":{\"outlinewidth\":0,\"ticks\":\"\"}},\"type\":\"scattergeo\"}],\"scattergl\":[{\"marker\":{\"colorbar\":{\"outlinewidth\":0,\"ticks\":\"\"}},\"type\":\"scattergl\"}],\"scattermapbox\":[{\"marker\":{\"colorbar\":{\"outlinewidth\":0,\"ticks\":\"\"}},\"type\":\"scattermapbox\"}],\"scatterpolar\":[{\"marker\":{\"colorbar\":{\"outlinewidth\":0,\"ticks\":\"\"}},\"type\":\"scatterpolar\"}],\"scatterpolargl\":[{\"marker\":{\"colorbar\":{\"outlinewidth\":0,\"ticks\":\"\"}},\"type\":\"scatterpolargl\"}],\"scatterternary\":[{\"marker\":{\"colorbar\":{\"outlinewidth\":0,\"ticks\":\"\"}},\"type\":\"scatterternary\"}],\"surface\":[{\"colorbar\":{\"outlinewidth\":0,\"ticks\":\"\"},\"colorscale\":[[0.0,\"#0d0887\"],[0.1111111111111111,\"#46039f\"],[0.2222222222222222,\"#7201a8\"],[0.3333333333333333,\"#9c179e\"],[0.4444444444444444,\"#bd3786\"],[0.5555555555555556,\"#d8576b\"],[0.6666666666666666,\"#ed7953\"],[0.7777777777777778,\"#fb9f3a\"],[0.8888888888888888,\"#fdca26\"],[1.0,\"#f0f921\"]],\"type\":\"surface\"}],\"table\":[{\"cells\":{\"fill\":{\"color\":\"#EBF0F8\"},\"line\":{\"color\":\"white\"}},\"header\":{\"fill\":{\"color\":\"#C8D4E3\"},\"line\":{\"color\":\"white\"}},\"type\":\"table\"}]},\"layout\":{\"annotationdefaults\":{\"arrowcolor\":\"#2a3f5f\",\"arrowhead\":0,\"arrowwidth\":1},\"autotypenumbers\":\"strict\",\"coloraxis\":{\"colorbar\":{\"outlinewidth\":0,\"ticks\":\"\"}},\"colorscale\":{\"diverging\":[[0,\"#8e0152\"],[0.1,\"#c51b7d\"],[0.2,\"#de77ae\"],[0.3,\"#f1b6da\"],[0.4,\"#fde0ef\"],[0.5,\"#f7f7f7\"],[0.6,\"#e6f5d0\"],[0.7,\"#b8e186\"],[0.8,\"#7fbc41\"],[0.9,\"#4d9221\"],[1,\"#276419\"]],\"sequential\":[[0.0,\"#0d0887\"],[0.1111111111111111,\"#46039f\"],[0.2222222222222222,\"#7201a8\"],[0.3333333333333333,\"#9c179e\"],[0.4444444444444444,\"#bd3786\"],[0.5555555555555556,\"#d8576b\"],[0.6666666666666666,\"#ed7953\"],[0.7777777777777778,\"#fb9f3a\"],[0.8888888888888888,\"#fdca26\"],[1.0,\"#f0f921\"]],\"sequentialminus\":[[0.0,\"#0d0887\"],[0.1111111111111111,\"#46039f\"],[0.2222222222222222,\"#7201a8\"],[0.3333333333333333,\"#9c179e\"],[0.4444444444444444,\"#bd3786\"],[0.5555555555555556,\"#d8576b\"],[0.6666666666666666,\"#ed7953\"],[0.7777777777777778,\"#fb9f3a\"],[0.8888888888888888,\"#fdca26\"],[1.0,\"#f0f921\"]]},\"colorway\":[\"#636efa\",\"#EF553B\",\"#00cc96\",\"#ab63fa\",\"#FFA15A\",\"#19d3f3\",\"#FF6692\",\"#B6E880\",\"#FF97FF\",\"#FECB52\"],\"font\":{\"color\":\"#2a3f5f\"},\"geo\":{\"bgcolor\":\"white\",\"lakecolor\":\"white\",\"landcolor\":\"#E5ECF6\",\"showlakes\":true,\"showland\":true,\"subunitcolor\":\"white\"},\"hoverlabel\":{\"align\":\"left\"},\"hovermode\":\"closest\",\"mapbox\":{\"style\":\"light\"},\"paper_bgcolor\":\"white\",\"plot_bgcolor\":\"#E5ECF6\",\"polar\":{\"angularaxis\":{\"gridcolor\":\"white\",\"linecolor\":\"white\",\"ticks\":\"\"},\"bgcolor\":\"#E5ECF6\",\"radialaxis\":{\"gridcolor\":\"white\",\"linecolor\":\"white\",\"ticks\":\"\"}},\"scene\":{\"xaxis\":{\"backgroundcolor\":\"#E5ECF6\",\"gridcolor\":\"white\",\"gridwidth\":2,\"linecolor\":\"white\",\"showbackground\":true,\"ticks\":\"\",\"zerolinecolor\":\"white\"},\"yaxis\":{\"backgroundcolor\":\"#E5ECF6\",\"gridcolor\":\"white\",\"gridwidth\":2,\"linecolor\":\"white\",\"showbackground\":true,\"ticks\":\"\",\"zerolinecolor\":\"white\"},\"zaxis\":{\"backgroundcolor\":\"#E5ECF6\",\"gridcolor\":\"white\",\"gridwidth\":2,\"linecolor\":\"white\",\"showbackground\":true,\"ticks\":\"\",\"zerolinecolor\":\"white\"}},\"shapedefaults\":{\"line\":{\"color\":\"#2a3f5f\"}},\"ternary\":{\"aaxis\":{\"gridcolor\":\"white\",\"linecolor\":\"white\",\"ticks\":\"\"},\"baxis\":{\"gridcolor\":\"white\",\"linecolor\":\"white\",\"ticks\":\"\"},\"bgcolor\":\"#E5ECF6\",\"caxis\":{\"gridcolor\":\"white\",\"linecolor\":\"white\",\"ticks\":\"\"}},\"title\":{\"x\":0.05},\"xaxis\":{\"automargin\":true,\"gridcolor\":\"white\",\"linecolor\":\"white\",\"ticks\":\"\",\"title\":{\"standoff\":15},\"zerolinecolor\":\"white\",\"zerolinewidth\":2},\"yaxis\":{\"automargin\":true,\"gridcolor\":\"white\",\"linecolor\":\"white\",\"ticks\":\"\",\"title\":{\"standoff\":15},\"zerolinecolor\":\"white\",\"zerolinewidth\":2}}},\"title\":{\"text\":\"Screentime percentage of women in movies\"},\"width\":800,\"xaxis\":{\"title\":{\"font\":{\"size\":18},\"text\":\"Screentime [%]\"}}},                        {\"responsive\": true}                    ).then(function(){\n",
       "                            \n",
       "var gd = document.getElementById('47953734-d29d-4618-880e-460d6463b608');\n",
       "var x = new MutationObserver(function (mutations, observer) {{\n",
       "        var display = window.getComputedStyle(gd).display;\n",
       "        if (!display || display === 'none') {{\n",
       "            console.log([gd, 'removed!']);\n",
       "            Plotly.purge(gd);\n",
       "            observer.disconnect();\n",
       "        }}\n",
       "}});\n",
       "\n",
       "// Listen for the removal of the full notebook cells\n",
       "var notebookContainer = gd.closest('#notebook-container');\n",
       "if (notebookContainer) {{\n",
       "    x.observe(notebookContainer, {childList: true});\n",
       "}}\n",
       "\n",
       "// Listen for the clearing of the current output cell\n",
       "var outputEl = gd.closest('.output');\n",
       "if (outputEl) {{\n",
       "    x.observe(outputEl, {childList: true});\n",
       "}}\n",
       "\n",
       "                        })                };                });            </script>        </div>"
      ]
     },
     "metadata": {},
     "output_type": "display_data"
    }
   ],
   "source": [
    "women_movie_percentage(df_evo)"
   ]
  },
  {
   "cell_type": "code",
   "execution_count": 178,
   "id": "5d473651",
   "metadata": {},
   "outputs": [],
   "source": [
    "def overall_gender_dash(total_stats_df):\n",
    "\n",
    "    total_stats_df.sort_values(by=\"woman_screentime\",\n",
    "                               ascending=False,\n",
    "                               inplace=True)\n",
    "\n",
    "    y_saving = total_stats_df[\"woman_screentime\"].values\n",
    "\n",
    "    x2 = total_stats_df[\"revenue\"].values\n",
    "\n",
    "    x1 = total_stats_df[\"year\"].values\n",
    "    y_net_worth = total_stats_df[\"total_Woman\"].values\n",
    "\n",
    "    # Creating two subplots\n",
    "    fig = make_subplots(rows=1,\n",
    "                        cols=4,\n",
    "                        specs=[[{}, {}, {}, {}]],\n",
    "                        column_widths=[25, 5, 30, 2])\n",
    "\n",
    "    fig.append_trace(\n",
    "        go.Bar(\n",
    "            x=y_saving,\n",
    "            y=x1,\n",
    "            marker=dict(\n",
    "                color='rgb(24,116,205)',\n",
    "                line=dict(color='rgb(0,191,255)', width=0.5),\n",
    "            ),\n",
    "            name='Screentime percentage of woman per movie',\n",
    "            orientation='h',\n",
    "        ), 1, 3)\n",
    "\n",
    "\n",
    "    fig.append_trace(\n",
    "        go.Scatter(\n",
    "            x=y_net_worth,\n",
    "            y=x2,\n",
    "            mode='markers',\n",
    "            hovertext=total_stats_df[\"title\"],\n",
    "            marker=dict(color='rgb(255,185,15)'),\n",
    "            name='Number of women on screen VS. movie revenue',\n",
    "        ), 1, 1)\n",
    "\n",
    "    fig.update_layout(\n",
    "        title='Women screentime and movie revenue',\n",
    "        yaxis=dict(showgrid=False,\n",
    "                   showline=False,\n",
    "                   showticklabels=True,\n",
    "                   domain=[0, 0.85]),\n",
    "        yaxis2=dict(showgrid=False,\n",
    "                    showline=True,\n",
    "                    showticklabels=True,\n",
    "                    domain=[0, 0.85]),\n",
    "        xaxis=dict(zeroline=False,\n",
    "                   showline=True,\n",
    "                   showticklabels=True,\n",
    "                   showgrid=True,\n",
    "                   domain=[0, 0.42]),\n",
    "        xaxis2=dict(zeroline=False,\n",
    "                    showline=True,\n",
    "                    showticklabels=True,\n",
    "                    showgrid=True,\n",
    "                    domain=[0.47, 1]),\n",
    "        height=600,\n",
    "        width=1500,\n",
    "        legend=dict(x=0.029, y=1.038, font_size=15),\n",
    "        margin=dict(l=100, r=20, t=70, b=70),\n",
    "    )\n",
    "\n",
    "    fig.update_layout(font_size=15)\n",
    "\n",
    "\n",
    "    # y axis labels\n",
    "    fig['layout'][f'yaxis{1}'].update(title=f'Movie revenue [US$]',\n",
    "                                      title_font_size=19)\n",
    "\n",
    "    # x axis labels\n",
    "    fig['layout'][f'xaxis{1}'].update(\n",
    "        title=f'Cumulated number of women on screen', title_font_size=19)\n",
    "    fig['layout'][f'xaxis{3}'].update(\n",
    "        title=f'Percantage of Screentime - Women', title_font_size=19)\n",
    "\n",
    "\n",
    "\n",
    "    return fig"
   ]
  },
  {
   "cell_type": "code",
   "execution_count": null,
   "id": "1eae9039",
   "metadata": {},
   "outputs": [],
   "source": []
  },
  {
   "cell_type": "code",
   "execution_count": null,
   "id": "0e700207",
   "metadata": {},
   "outputs": [],
   "source": []
  },
  {
   "cell_type": "code",
   "execution_count": null,
   "id": "f003711b",
   "metadata": {},
   "outputs": [],
   "source": []
  },
  {
   "cell_type": "markdown",
   "id": "83b39d60",
   "metadata": {},
   "source": [
    "## Visualize"
   ]
  },
  {
   "cell_type": "code",
   "execution_count": null,
   "id": "2387631e",
   "metadata": {},
   "outputs": [],
   "source": []
  },
  {
   "cell_type": "code",
   "execution_count": null,
   "id": "96c91fbf",
   "metadata": {},
   "outputs": [],
   "source": []
  },
  {
   "cell_type": "code",
   "execution_count": null,
   "id": "367d76e6",
   "metadata": {},
   "outputs": [],
   "source": []
  },
  {
   "cell_type": "code",
   "execution_count": null,
   "id": "63b05aa0",
   "metadata": {},
   "outputs": [],
   "source": []
  },
  {
   "cell_type": "code",
   "execution_count": 469,
   "id": "fe754b58",
   "metadata": {},
   "outputs": [],
   "source": [
    "def man_woman_screentime_bar(df):\n",
    "    \n",
    "    \"\"\"\n",
    "    Input: Original movie overview dataframe\n",
    "    \"\"\"\n",
    "    \n",
    "    one_movie_gender = df[[\"man_screentime\", \"woman_screentime\"]]\n",
    "    one_movie_gender = one_movie_gender.T\n",
    "\n",
    "    fig = px.bar(one_movie_gender,\n",
    "                 x=one_movie_gender.index,\n",
    "                 y=one_movie_gender[0],\n",
    "                 labels={\"index\":\"\", \"0\": \"Screentime [%]\"},\n",
    "                 color=one_movie_gender.index)\n",
    "    return fig"
   ]
  },
  {
   "cell_type": "code",
   "execution_count": 531,
   "id": "2ec300c2",
   "metadata": {},
   "outputs": [],
   "source": [
    "import plotly.graph_objects as go\n",
    "\n",
    "def race_screentime_bar(df):\n",
    "    \n",
    "    \"\"\"\n",
    "    Input: Original movie overview dataframe\n",
    "    \"\"\"\n",
    "    \n",
    "    one_movie_race = df[['asian_screentime', 'black_screentime', 'indian_screentime',\n",
    "       'latino_hispanic_screentime', 'middle_eastern_screentime',\n",
    "       'white_screentime']]\n",
    "    \n",
    "    one_movie_race = one_movie_race.T\n",
    "    \n",
    "    fig = go.Figure()\n",
    "    fig.add_trace(go.Bar(x=one_movie_race.index,\n",
    "                 y=one_movie_race[0],\n",
    "                 marker=dict(color=one_movie_race[0])))\n",
    "        \n",
    "    fig.update_layout(legend_title_text = \"Race\")\n",
    "    fig.update_xaxes(title_text=\"\")\n",
    "    fig.update_yaxes(title_text=\"Screentime [%]\")\n",
    "    \n",
    "    fig.update_layout(\n",
    "    title_text=\"Screentime Percentage Distribution - Gender\")\n",
    "    \n",
    "    return fig"
   ]
  },
  {
   "cell_type": "code",
   "execution_count": 532,
   "id": "90d50a99",
   "metadata": {},
   "outputs": [],
   "source": [
    "def race_screentime_bar(df):\n",
    "    \n",
    "    \"\"\"\n",
    "    Input: Original movie overview dataframe\n",
    "    \"\"\"\n",
    "    \n",
    "    one_movie_race = df[['asian_screentime', 'black_screentime', 'indian_screentime',\n",
    "       'latino_hispanic_screentime', 'middle_eastern_screentime',\n",
    "       'white_screentime']]\n",
    "    \n",
    "    one_movie_race = one_movie_race.T\n",
    "\n",
    "    fig = px.bar(one_movie_race,\n",
    "                 x=one_movie_race.index,\n",
    "                 y=one_movie_race[0],\n",
    "                 labels={\"index\":\"\", \"0\": \"Screentime [%]\"},\n",
    "                 color=one_movie_race.index)\n",
    "    \n",
    "    fig.update_layout(\n",
    "    title_text=\"Screentime Percentage Distribution - Race\")\n",
    "    \n",
    "    return fig"
   ]
  },
  {
   "cell_type": "code",
   "execution_count": 533,
   "id": "1e4815f2",
   "metadata": {},
   "outputs": [
    {
     "data": {
      "application/vnd.plotly.v1+json": {
       "config": {
        "plotlyServerURL": "https://plot.ly"
       },
       "data": [
        {
         "alignmentgroup": "True",
         "hovertemplate": "=%{x}<br>Screentime [%]=%{y}<extra></extra>",
         "legendgroup": "asian_screentime",
         "marker": {
          "color": "#636efa",
          "pattern": {
           "shape": ""
          }
         },
         "name": "asian_screentime",
         "offsetgroup": "asian_screentime",
         "orientation": "v",
         "showlegend": true,
         "textposition": "auto",
         "type": "bar",
         "x": [
          "asian_screentime"
         ],
         "xaxis": "x",
         "y": [
          4.183813443072702
         ],
         "yaxis": "y"
        },
        {
         "alignmentgroup": "True",
         "hovertemplate": "=%{x}<br>Screentime [%]=%{y}<extra></extra>",
         "legendgroup": "black_screentime",
         "marker": {
          "color": "#EF553B",
          "pattern": {
           "shape": ""
          }
         },
         "name": "black_screentime",
         "offsetgroup": "black_screentime",
         "orientation": "v",
         "showlegend": true,
         "textposition": "auto",
         "type": "bar",
         "x": [
          "black_screentime"
         ],
         "xaxis": "x",
         "y": [
          0.411522633744856
         ],
         "yaxis": "y"
        },
        {
         "alignmentgroup": "True",
         "hovertemplate": "=%{x}<br>Screentime [%]=%{y}<extra></extra>",
         "legendgroup": "indian_screentime",
         "marker": {
          "color": "#00cc96",
          "pattern": {
           "shape": ""
          }
         },
         "name": "indian_screentime",
         "offsetgroup": "indian_screentime",
         "orientation": "v",
         "showlegend": true,
         "textposition": "auto",
         "type": "bar",
         "x": [
          "indian_screentime"
         ],
         "xaxis": "x",
         "y": [
          2.05761316872428
         ],
         "yaxis": "y"
        },
        {
         "alignmentgroup": "True",
         "hovertemplate": "=%{x}<br>Screentime [%]=%{y}<extra></extra>",
         "legendgroup": "latino_hispanic_screentime",
         "marker": {
          "color": "#ab63fa",
          "pattern": {
           "shape": ""
          }
         },
         "name": "latino_hispanic_screentime",
         "offsetgroup": "latino_hispanic_screentime",
         "orientation": "v",
         "showlegend": true,
         "textposition": "auto",
         "type": "bar",
         "x": [
          "latino_hispanic_screentime"
         ],
         "xaxis": "x",
         "y": [
          2.263374485596708
         ],
         "yaxis": "y"
        },
        {
         "alignmentgroup": "True",
         "hovertemplate": "=%{x}<br>Screentime [%]=%{y}<extra></extra>",
         "legendgroup": "middle_eastern_screentime",
         "marker": {
          "color": "#FFA15A",
          "pattern": {
           "shape": ""
          }
         },
         "name": "middle_eastern_screentime",
         "offsetgroup": "middle_eastern_screentime",
         "orientation": "v",
         "showlegend": true,
         "textposition": "auto",
         "type": "bar",
         "x": [
          "middle_eastern_screentime"
         ],
         "xaxis": "x",
         "y": [
          4.595336076817558
         ],
         "yaxis": "y"
        },
        {
         "alignmentgroup": "True",
         "hovertemplate": "=%{x}<br>Screentime [%]=%{y}<extra></extra>",
         "legendgroup": "white_screentime",
         "marker": {
          "color": "#19d3f3",
          "pattern": {
           "shape": ""
          }
         },
         "name": "white_screentime",
         "offsetgroup": "white_screentime",
         "orientation": "v",
         "showlegend": true,
         "textposition": "auto",
         "type": "bar",
         "x": [
          "white_screentime"
         ],
         "xaxis": "x",
         "y": [
          86.48834019204389
         ],
         "yaxis": "y"
        }
       ],
       "layout": {
        "barmode": "relative",
        "legend": {
         "title": {
          "text": ""
         },
         "tracegroupgap": 0
        },
        "margin": {
         "t": 60
        },
        "template": {
         "data": {
          "bar": [
           {
            "error_x": {
             "color": "#2a3f5f"
            },
            "error_y": {
             "color": "#2a3f5f"
            },
            "marker": {
             "line": {
              "color": "#E5ECF6",
              "width": 0.5
             },
             "pattern": {
              "fillmode": "overlay",
              "size": 10,
              "solidity": 0.2
             }
            },
            "type": "bar"
           }
          ],
          "barpolar": [
           {
            "marker": {
             "line": {
              "color": "#E5ECF6",
              "width": 0.5
             },
             "pattern": {
              "fillmode": "overlay",
              "size": 10,
              "solidity": 0.2
             }
            },
            "type": "barpolar"
           }
          ],
          "carpet": [
           {
            "aaxis": {
             "endlinecolor": "#2a3f5f",
             "gridcolor": "white",
             "linecolor": "white",
             "minorgridcolor": "white",
             "startlinecolor": "#2a3f5f"
            },
            "baxis": {
             "endlinecolor": "#2a3f5f",
             "gridcolor": "white",
             "linecolor": "white",
             "minorgridcolor": "white",
             "startlinecolor": "#2a3f5f"
            },
            "type": "carpet"
           }
          ],
          "choropleth": [
           {
            "colorbar": {
             "outlinewidth": 0,
             "ticks": ""
            },
            "type": "choropleth"
           }
          ],
          "contour": [
           {
            "colorbar": {
             "outlinewidth": 0,
             "ticks": ""
            },
            "colorscale": [
             [
              0,
              "#0d0887"
             ],
             [
              0.1111111111111111,
              "#46039f"
             ],
             [
              0.2222222222222222,
              "#7201a8"
             ],
             [
              0.3333333333333333,
              "#9c179e"
             ],
             [
              0.4444444444444444,
              "#bd3786"
             ],
             [
              0.5555555555555556,
              "#d8576b"
             ],
             [
              0.6666666666666666,
              "#ed7953"
             ],
             [
              0.7777777777777778,
              "#fb9f3a"
             ],
             [
              0.8888888888888888,
              "#fdca26"
             ],
             [
              1,
              "#f0f921"
             ]
            ],
            "type": "contour"
           }
          ],
          "contourcarpet": [
           {
            "colorbar": {
             "outlinewidth": 0,
             "ticks": ""
            },
            "type": "contourcarpet"
           }
          ],
          "heatmap": [
           {
            "colorbar": {
             "outlinewidth": 0,
             "ticks": ""
            },
            "colorscale": [
             [
              0,
              "#0d0887"
             ],
             [
              0.1111111111111111,
              "#46039f"
             ],
             [
              0.2222222222222222,
              "#7201a8"
             ],
             [
              0.3333333333333333,
              "#9c179e"
             ],
             [
              0.4444444444444444,
              "#bd3786"
             ],
             [
              0.5555555555555556,
              "#d8576b"
             ],
             [
              0.6666666666666666,
              "#ed7953"
             ],
             [
              0.7777777777777778,
              "#fb9f3a"
             ],
             [
              0.8888888888888888,
              "#fdca26"
             ],
             [
              1,
              "#f0f921"
             ]
            ],
            "type": "heatmap"
           }
          ],
          "heatmapgl": [
           {
            "colorbar": {
             "outlinewidth": 0,
             "ticks": ""
            },
            "colorscale": [
             [
              0,
              "#0d0887"
             ],
             [
              0.1111111111111111,
              "#46039f"
             ],
             [
              0.2222222222222222,
              "#7201a8"
             ],
             [
              0.3333333333333333,
              "#9c179e"
             ],
             [
              0.4444444444444444,
              "#bd3786"
             ],
             [
              0.5555555555555556,
              "#d8576b"
             ],
             [
              0.6666666666666666,
              "#ed7953"
             ],
             [
              0.7777777777777778,
              "#fb9f3a"
             ],
             [
              0.8888888888888888,
              "#fdca26"
             ],
             [
              1,
              "#f0f921"
             ]
            ],
            "type": "heatmapgl"
           }
          ],
          "histogram": [
           {
            "marker": {
             "pattern": {
              "fillmode": "overlay",
              "size": 10,
              "solidity": 0.2
             }
            },
            "type": "histogram"
           }
          ],
          "histogram2d": [
           {
            "colorbar": {
             "outlinewidth": 0,
             "ticks": ""
            },
            "colorscale": [
             [
              0,
              "#0d0887"
             ],
             [
              0.1111111111111111,
              "#46039f"
             ],
             [
              0.2222222222222222,
              "#7201a8"
             ],
             [
              0.3333333333333333,
              "#9c179e"
             ],
             [
              0.4444444444444444,
              "#bd3786"
             ],
             [
              0.5555555555555556,
              "#d8576b"
             ],
             [
              0.6666666666666666,
              "#ed7953"
             ],
             [
              0.7777777777777778,
              "#fb9f3a"
             ],
             [
              0.8888888888888888,
              "#fdca26"
             ],
             [
              1,
              "#f0f921"
             ]
            ],
            "type": "histogram2d"
           }
          ],
          "histogram2dcontour": [
           {
            "colorbar": {
             "outlinewidth": 0,
             "ticks": ""
            },
            "colorscale": [
             [
              0,
              "#0d0887"
             ],
             [
              0.1111111111111111,
              "#46039f"
             ],
             [
              0.2222222222222222,
              "#7201a8"
             ],
             [
              0.3333333333333333,
              "#9c179e"
             ],
             [
              0.4444444444444444,
              "#bd3786"
             ],
             [
              0.5555555555555556,
              "#d8576b"
             ],
             [
              0.6666666666666666,
              "#ed7953"
             ],
             [
              0.7777777777777778,
              "#fb9f3a"
             ],
             [
              0.8888888888888888,
              "#fdca26"
             ],
             [
              1,
              "#f0f921"
             ]
            ],
            "type": "histogram2dcontour"
           }
          ],
          "mesh3d": [
           {
            "colorbar": {
             "outlinewidth": 0,
             "ticks": ""
            },
            "type": "mesh3d"
           }
          ],
          "parcoords": [
           {
            "line": {
             "colorbar": {
              "outlinewidth": 0,
              "ticks": ""
             }
            },
            "type": "parcoords"
           }
          ],
          "pie": [
           {
            "automargin": true,
            "type": "pie"
           }
          ],
          "scatter": [
           {
            "marker": {
             "colorbar": {
              "outlinewidth": 0,
              "ticks": ""
             }
            },
            "type": "scatter"
           }
          ],
          "scatter3d": [
           {
            "line": {
             "colorbar": {
              "outlinewidth": 0,
              "ticks": ""
             }
            },
            "marker": {
             "colorbar": {
              "outlinewidth": 0,
              "ticks": ""
             }
            },
            "type": "scatter3d"
           }
          ],
          "scattercarpet": [
           {
            "marker": {
             "colorbar": {
              "outlinewidth": 0,
              "ticks": ""
             }
            },
            "type": "scattercarpet"
           }
          ],
          "scattergeo": [
           {
            "marker": {
             "colorbar": {
              "outlinewidth": 0,
              "ticks": ""
             }
            },
            "type": "scattergeo"
           }
          ],
          "scattergl": [
           {
            "marker": {
             "colorbar": {
              "outlinewidth": 0,
              "ticks": ""
             }
            },
            "type": "scattergl"
           }
          ],
          "scattermapbox": [
           {
            "marker": {
             "colorbar": {
              "outlinewidth": 0,
              "ticks": ""
             }
            },
            "type": "scattermapbox"
           }
          ],
          "scatterpolar": [
           {
            "marker": {
             "colorbar": {
              "outlinewidth": 0,
              "ticks": ""
             }
            },
            "type": "scatterpolar"
           }
          ],
          "scatterpolargl": [
           {
            "marker": {
             "colorbar": {
              "outlinewidth": 0,
              "ticks": ""
             }
            },
            "type": "scatterpolargl"
           }
          ],
          "scatterternary": [
           {
            "marker": {
             "colorbar": {
              "outlinewidth": 0,
              "ticks": ""
             }
            },
            "type": "scatterternary"
           }
          ],
          "surface": [
           {
            "colorbar": {
             "outlinewidth": 0,
             "ticks": ""
            },
            "colorscale": [
             [
              0,
              "#0d0887"
             ],
             [
              0.1111111111111111,
              "#46039f"
             ],
             [
              0.2222222222222222,
              "#7201a8"
             ],
             [
              0.3333333333333333,
              "#9c179e"
             ],
             [
              0.4444444444444444,
              "#bd3786"
             ],
             [
              0.5555555555555556,
              "#d8576b"
             ],
             [
              0.6666666666666666,
              "#ed7953"
             ],
             [
              0.7777777777777778,
              "#fb9f3a"
             ],
             [
              0.8888888888888888,
              "#fdca26"
             ],
             [
              1,
              "#f0f921"
             ]
            ],
            "type": "surface"
           }
          ],
          "table": [
           {
            "cells": {
             "fill": {
              "color": "#EBF0F8"
             },
             "line": {
              "color": "white"
             }
            },
            "header": {
             "fill": {
              "color": "#C8D4E3"
             },
             "line": {
              "color": "white"
             }
            },
            "type": "table"
           }
          ]
         },
         "layout": {
          "annotationdefaults": {
           "arrowcolor": "#2a3f5f",
           "arrowhead": 0,
           "arrowwidth": 1
          },
          "autotypenumbers": "strict",
          "coloraxis": {
           "colorbar": {
            "outlinewidth": 0,
            "ticks": ""
           }
          },
          "colorscale": {
           "diverging": [
            [
             0,
             "#8e0152"
            ],
            [
             0.1,
             "#c51b7d"
            ],
            [
             0.2,
             "#de77ae"
            ],
            [
             0.3,
             "#f1b6da"
            ],
            [
             0.4,
             "#fde0ef"
            ],
            [
             0.5,
             "#f7f7f7"
            ],
            [
             0.6,
             "#e6f5d0"
            ],
            [
             0.7,
             "#b8e186"
            ],
            [
             0.8,
             "#7fbc41"
            ],
            [
             0.9,
             "#4d9221"
            ],
            [
             1,
             "#276419"
            ]
           ],
           "sequential": [
            [
             0,
             "#0d0887"
            ],
            [
             0.1111111111111111,
             "#46039f"
            ],
            [
             0.2222222222222222,
             "#7201a8"
            ],
            [
             0.3333333333333333,
             "#9c179e"
            ],
            [
             0.4444444444444444,
             "#bd3786"
            ],
            [
             0.5555555555555556,
             "#d8576b"
            ],
            [
             0.6666666666666666,
             "#ed7953"
            ],
            [
             0.7777777777777778,
             "#fb9f3a"
            ],
            [
             0.8888888888888888,
             "#fdca26"
            ],
            [
             1,
             "#f0f921"
            ]
           ],
           "sequentialminus": [
            [
             0,
             "#0d0887"
            ],
            [
             0.1111111111111111,
             "#46039f"
            ],
            [
             0.2222222222222222,
             "#7201a8"
            ],
            [
             0.3333333333333333,
             "#9c179e"
            ],
            [
             0.4444444444444444,
             "#bd3786"
            ],
            [
             0.5555555555555556,
             "#d8576b"
            ],
            [
             0.6666666666666666,
             "#ed7953"
            ],
            [
             0.7777777777777778,
             "#fb9f3a"
            ],
            [
             0.8888888888888888,
             "#fdca26"
            ],
            [
             1,
             "#f0f921"
            ]
           ]
          },
          "colorway": [
           "#636efa",
           "#EF553B",
           "#00cc96",
           "#ab63fa",
           "#FFA15A",
           "#19d3f3",
           "#FF6692",
           "#B6E880",
           "#FF97FF",
           "#FECB52"
          ],
          "font": {
           "color": "#2a3f5f"
          },
          "geo": {
           "bgcolor": "white",
           "lakecolor": "white",
           "landcolor": "#E5ECF6",
           "showlakes": true,
           "showland": true,
           "subunitcolor": "white"
          },
          "hoverlabel": {
           "align": "left"
          },
          "hovermode": "closest",
          "mapbox": {
           "style": "light"
          },
          "paper_bgcolor": "white",
          "plot_bgcolor": "#E5ECF6",
          "polar": {
           "angularaxis": {
            "gridcolor": "white",
            "linecolor": "white",
            "ticks": ""
           },
           "bgcolor": "#E5ECF6",
           "radialaxis": {
            "gridcolor": "white",
            "linecolor": "white",
            "ticks": ""
           }
          },
          "scene": {
           "xaxis": {
            "backgroundcolor": "#E5ECF6",
            "gridcolor": "white",
            "gridwidth": 2,
            "linecolor": "white",
            "showbackground": true,
            "ticks": "",
            "zerolinecolor": "white"
           },
           "yaxis": {
            "backgroundcolor": "#E5ECF6",
            "gridcolor": "white",
            "gridwidth": 2,
            "linecolor": "white",
            "showbackground": true,
            "ticks": "",
            "zerolinecolor": "white"
           },
           "zaxis": {
            "backgroundcolor": "#E5ECF6",
            "gridcolor": "white",
            "gridwidth": 2,
            "linecolor": "white",
            "showbackground": true,
            "ticks": "",
            "zerolinecolor": "white"
           }
          },
          "shapedefaults": {
           "line": {
            "color": "#2a3f5f"
           }
          },
          "ternary": {
           "aaxis": {
            "gridcolor": "white",
            "linecolor": "white",
            "ticks": ""
           },
           "baxis": {
            "gridcolor": "white",
            "linecolor": "white",
            "ticks": ""
           },
           "bgcolor": "#E5ECF6",
           "caxis": {
            "gridcolor": "white",
            "linecolor": "white",
            "ticks": ""
           }
          },
          "title": {
           "x": 0.05
          },
          "xaxis": {
           "automargin": true,
           "gridcolor": "white",
           "linecolor": "white",
           "ticks": "",
           "title": {
            "standoff": 15
           },
           "zerolinecolor": "white",
           "zerolinewidth": 2
          },
          "yaxis": {
           "automargin": true,
           "gridcolor": "white",
           "linecolor": "white",
           "ticks": "",
           "title": {
            "standoff": 15
           },
           "zerolinecolor": "white",
           "zerolinewidth": 2
          }
         }
        },
        "title": {
         "text": "Screentime Percentage Distribution - Race"
        },
        "xaxis": {
         "anchor": "y",
         "categoryarray": [
          "asian_screentime",
          "black_screentime",
          "indian_screentime",
          "latino_hispanic_screentime",
          "middle_eastern_screentime",
          "white_screentime"
         ],
         "categoryorder": "array",
         "domain": [
          0,
          1
         ],
         "title": {
          "text": ""
         }
        },
        "yaxis": {
         "anchor": "x",
         "domain": [
          0,
          1
         ],
         "title": {
          "text": "Screentime [%]"
         }
        }
       }
      },
      "text/html": [
       "<div>                            <div id=\"f4bb17ae-f514-42e7-b2e0-6123929b1334\" class=\"plotly-graph-div\" style=\"height:525px; width:100%;\"></div>            <script type=\"text/javascript\">                require([\"plotly\"], function(Plotly) {                    window.PLOTLYENV=window.PLOTLYENV || {};                                    if (document.getElementById(\"f4bb17ae-f514-42e7-b2e0-6123929b1334\")) {                    Plotly.newPlot(                        \"f4bb17ae-f514-42e7-b2e0-6123929b1334\",                        [{\"alignmentgroup\":\"True\",\"hovertemplate\":\"=%{x}<br>Screentime [%]=%{y}<extra></extra>\",\"legendgroup\":\"asian_screentime\",\"marker\":{\"color\":\"#636efa\",\"pattern\":{\"shape\":\"\"}},\"name\":\"asian_screentime\",\"offsetgroup\":\"asian_screentime\",\"orientation\":\"v\",\"showlegend\":true,\"textposition\":\"auto\",\"type\":\"bar\",\"x\":[\"asian_screentime\"],\"xaxis\":\"x\",\"y\":[4.183813443072702],\"yaxis\":\"y\"},{\"alignmentgroup\":\"True\",\"hovertemplate\":\"=%{x}<br>Screentime [%]=%{y}<extra></extra>\",\"legendgroup\":\"black_screentime\",\"marker\":{\"color\":\"#EF553B\",\"pattern\":{\"shape\":\"\"}},\"name\":\"black_screentime\",\"offsetgroup\":\"black_screentime\",\"orientation\":\"v\",\"showlegend\":true,\"textposition\":\"auto\",\"type\":\"bar\",\"x\":[\"black_screentime\"],\"xaxis\":\"x\",\"y\":[0.411522633744856],\"yaxis\":\"y\"},{\"alignmentgroup\":\"True\",\"hovertemplate\":\"=%{x}<br>Screentime [%]=%{y}<extra></extra>\",\"legendgroup\":\"indian_screentime\",\"marker\":{\"color\":\"#00cc96\",\"pattern\":{\"shape\":\"\"}},\"name\":\"indian_screentime\",\"offsetgroup\":\"indian_screentime\",\"orientation\":\"v\",\"showlegend\":true,\"textposition\":\"auto\",\"type\":\"bar\",\"x\":[\"indian_screentime\"],\"xaxis\":\"x\",\"y\":[2.05761316872428],\"yaxis\":\"y\"},{\"alignmentgroup\":\"True\",\"hovertemplate\":\"=%{x}<br>Screentime [%]=%{y}<extra></extra>\",\"legendgroup\":\"latino_hispanic_screentime\",\"marker\":{\"color\":\"#ab63fa\",\"pattern\":{\"shape\":\"\"}},\"name\":\"latino_hispanic_screentime\",\"offsetgroup\":\"latino_hispanic_screentime\",\"orientation\":\"v\",\"showlegend\":true,\"textposition\":\"auto\",\"type\":\"bar\",\"x\":[\"latino_hispanic_screentime\"],\"xaxis\":\"x\",\"y\":[2.263374485596708],\"yaxis\":\"y\"},{\"alignmentgroup\":\"True\",\"hovertemplate\":\"=%{x}<br>Screentime [%]=%{y}<extra></extra>\",\"legendgroup\":\"middle_eastern_screentime\",\"marker\":{\"color\":\"#FFA15A\",\"pattern\":{\"shape\":\"\"}},\"name\":\"middle_eastern_screentime\",\"offsetgroup\":\"middle_eastern_screentime\",\"orientation\":\"v\",\"showlegend\":true,\"textposition\":\"auto\",\"type\":\"bar\",\"x\":[\"middle_eastern_screentime\"],\"xaxis\":\"x\",\"y\":[4.595336076817558],\"yaxis\":\"y\"},{\"alignmentgroup\":\"True\",\"hovertemplate\":\"=%{x}<br>Screentime [%]=%{y}<extra></extra>\",\"legendgroup\":\"white_screentime\",\"marker\":{\"color\":\"#19d3f3\",\"pattern\":{\"shape\":\"\"}},\"name\":\"white_screentime\",\"offsetgroup\":\"white_screentime\",\"orientation\":\"v\",\"showlegend\":true,\"textposition\":\"auto\",\"type\":\"bar\",\"x\":[\"white_screentime\"],\"xaxis\":\"x\",\"y\":[86.48834019204389],\"yaxis\":\"y\"}],                        {\"barmode\":\"relative\",\"legend\":{\"title\":{\"text\":\"\"},\"tracegroupgap\":0},\"margin\":{\"t\":60},\"template\":{\"data\":{\"bar\":[{\"error_x\":{\"color\":\"#2a3f5f\"},\"error_y\":{\"color\":\"#2a3f5f\"},\"marker\":{\"line\":{\"color\":\"#E5ECF6\",\"width\":0.5},\"pattern\":{\"fillmode\":\"overlay\",\"size\":10,\"solidity\":0.2}},\"type\":\"bar\"}],\"barpolar\":[{\"marker\":{\"line\":{\"color\":\"#E5ECF6\",\"width\":0.5},\"pattern\":{\"fillmode\":\"overlay\",\"size\":10,\"solidity\":0.2}},\"type\":\"barpolar\"}],\"carpet\":[{\"aaxis\":{\"endlinecolor\":\"#2a3f5f\",\"gridcolor\":\"white\",\"linecolor\":\"white\",\"minorgridcolor\":\"white\",\"startlinecolor\":\"#2a3f5f\"},\"baxis\":{\"endlinecolor\":\"#2a3f5f\",\"gridcolor\":\"white\",\"linecolor\":\"white\",\"minorgridcolor\":\"white\",\"startlinecolor\":\"#2a3f5f\"},\"type\":\"carpet\"}],\"choropleth\":[{\"colorbar\":{\"outlinewidth\":0,\"ticks\":\"\"},\"type\":\"choropleth\"}],\"contour\":[{\"colorbar\":{\"outlinewidth\":0,\"ticks\":\"\"},\"colorscale\":[[0.0,\"#0d0887\"],[0.1111111111111111,\"#46039f\"],[0.2222222222222222,\"#7201a8\"],[0.3333333333333333,\"#9c179e\"],[0.4444444444444444,\"#bd3786\"],[0.5555555555555556,\"#d8576b\"],[0.6666666666666666,\"#ed7953\"],[0.7777777777777778,\"#fb9f3a\"],[0.8888888888888888,\"#fdca26\"],[1.0,\"#f0f921\"]],\"type\":\"contour\"}],\"contourcarpet\":[{\"colorbar\":{\"outlinewidth\":0,\"ticks\":\"\"},\"type\":\"contourcarpet\"}],\"heatmap\":[{\"colorbar\":{\"outlinewidth\":0,\"ticks\":\"\"},\"colorscale\":[[0.0,\"#0d0887\"],[0.1111111111111111,\"#46039f\"],[0.2222222222222222,\"#7201a8\"],[0.3333333333333333,\"#9c179e\"],[0.4444444444444444,\"#bd3786\"],[0.5555555555555556,\"#d8576b\"],[0.6666666666666666,\"#ed7953\"],[0.7777777777777778,\"#fb9f3a\"],[0.8888888888888888,\"#fdca26\"],[1.0,\"#f0f921\"]],\"type\":\"heatmap\"}],\"heatmapgl\":[{\"colorbar\":{\"outlinewidth\":0,\"ticks\":\"\"},\"colorscale\":[[0.0,\"#0d0887\"],[0.1111111111111111,\"#46039f\"],[0.2222222222222222,\"#7201a8\"],[0.3333333333333333,\"#9c179e\"],[0.4444444444444444,\"#bd3786\"],[0.5555555555555556,\"#d8576b\"],[0.6666666666666666,\"#ed7953\"],[0.7777777777777778,\"#fb9f3a\"],[0.8888888888888888,\"#fdca26\"],[1.0,\"#f0f921\"]],\"type\":\"heatmapgl\"}],\"histogram\":[{\"marker\":{\"pattern\":{\"fillmode\":\"overlay\",\"size\":10,\"solidity\":0.2}},\"type\":\"histogram\"}],\"histogram2d\":[{\"colorbar\":{\"outlinewidth\":0,\"ticks\":\"\"},\"colorscale\":[[0.0,\"#0d0887\"],[0.1111111111111111,\"#46039f\"],[0.2222222222222222,\"#7201a8\"],[0.3333333333333333,\"#9c179e\"],[0.4444444444444444,\"#bd3786\"],[0.5555555555555556,\"#d8576b\"],[0.6666666666666666,\"#ed7953\"],[0.7777777777777778,\"#fb9f3a\"],[0.8888888888888888,\"#fdca26\"],[1.0,\"#f0f921\"]],\"type\":\"histogram2d\"}],\"histogram2dcontour\":[{\"colorbar\":{\"outlinewidth\":0,\"ticks\":\"\"},\"colorscale\":[[0.0,\"#0d0887\"],[0.1111111111111111,\"#46039f\"],[0.2222222222222222,\"#7201a8\"],[0.3333333333333333,\"#9c179e\"],[0.4444444444444444,\"#bd3786\"],[0.5555555555555556,\"#d8576b\"],[0.6666666666666666,\"#ed7953\"],[0.7777777777777778,\"#fb9f3a\"],[0.8888888888888888,\"#fdca26\"],[1.0,\"#f0f921\"]],\"type\":\"histogram2dcontour\"}],\"mesh3d\":[{\"colorbar\":{\"outlinewidth\":0,\"ticks\":\"\"},\"type\":\"mesh3d\"}],\"parcoords\":[{\"line\":{\"colorbar\":{\"outlinewidth\":0,\"ticks\":\"\"}},\"type\":\"parcoords\"}],\"pie\":[{\"automargin\":true,\"type\":\"pie\"}],\"scatter\":[{\"marker\":{\"colorbar\":{\"outlinewidth\":0,\"ticks\":\"\"}},\"type\":\"scatter\"}],\"scatter3d\":[{\"line\":{\"colorbar\":{\"outlinewidth\":0,\"ticks\":\"\"}},\"marker\":{\"colorbar\":{\"outlinewidth\":0,\"ticks\":\"\"}},\"type\":\"scatter3d\"}],\"scattercarpet\":[{\"marker\":{\"colorbar\":{\"outlinewidth\":0,\"ticks\":\"\"}},\"type\":\"scattercarpet\"}],\"scattergeo\":[{\"marker\":{\"colorbar\":{\"outlinewidth\":0,\"ticks\":\"\"}},\"type\":\"scattergeo\"}],\"scattergl\":[{\"marker\":{\"colorbar\":{\"outlinewidth\":0,\"ticks\":\"\"}},\"type\":\"scattergl\"}],\"scattermapbox\":[{\"marker\":{\"colorbar\":{\"outlinewidth\":0,\"ticks\":\"\"}},\"type\":\"scattermapbox\"}],\"scatterpolar\":[{\"marker\":{\"colorbar\":{\"outlinewidth\":0,\"ticks\":\"\"}},\"type\":\"scatterpolar\"}],\"scatterpolargl\":[{\"marker\":{\"colorbar\":{\"outlinewidth\":0,\"ticks\":\"\"}},\"type\":\"scatterpolargl\"}],\"scatterternary\":[{\"marker\":{\"colorbar\":{\"outlinewidth\":0,\"ticks\":\"\"}},\"type\":\"scatterternary\"}],\"surface\":[{\"colorbar\":{\"outlinewidth\":0,\"ticks\":\"\"},\"colorscale\":[[0.0,\"#0d0887\"],[0.1111111111111111,\"#46039f\"],[0.2222222222222222,\"#7201a8\"],[0.3333333333333333,\"#9c179e\"],[0.4444444444444444,\"#bd3786\"],[0.5555555555555556,\"#d8576b\"],[0.6666666666666666,\"#ed7953\"],[0.7777777777777778,\"#fb9f3a\"],[0.8888888888888888,\"#fdca26\"],[1.0,\"#f0f921\"]],\"type\":\"surface\"}],\"table\":[{\"cells\":{\"fill\":{\"color\":\"#EBF0F8\"},\"line\":{\"color\":\"white\"}},\"header\":{\"fill\":{\"color\":\"#C8D4E3\"},\"line\":{\"color\":\"white\"}},\"type\":\"table\"}]},\"layout\":{\"annotationdefaults\":{\"arrowcolor\":\"#2a3f5f\",\"arrowhead\":0,\"arrowwidth\":1},\"autotypenumbers\":\"strict\",\"coloraxis\":{\"colorbar\":{\"outlinewidth\":0,\"ticks\":\"\"}},\"colorscale\":{\"diverging\":[[0,\"#8e0152\"],[0.1,\"#c51b7d\"],[0.2,\"#de77ae\"],[0.3,\"#f1b6da\"],[0.4,\"#fde0ef\"],[0.5,\"#f7f7f7\"],[0.6,\"#e6f5d0\"],[0.7,\"#b8e186\"],[0.8,\"#7fbc41\"],[0.9,\"#4d9221\"],[1,\"#276419\"]],\"sequential\":[[0.0,\"#0d0887\"],[0.1111111111111111,\"#46039f\"],[0.2222222222222222,\"#7201a8\"],[0.3333333333333333,\"#9c179e\"],[0.4444444444444444,\"#bd3786\"],[0.5555555555555556,\"#d8576b\"],[0.6666666666666666,\"#ed7953\"],[0.7777777777777778,\"#fb9f3a\"],[0.8888888888888888,\"#fdca26\"],[1.0,\"#f0f921\"]],\"sequentialminus\":[[0.0,\"#0d0887\"],[0.1111111111111111,\"#46039f\"],[0.2222222222222222,\"#7201a8\"],[0.3333333333333333,\"#9c179e\"],[0.4444444444444444,\"#bd3786\"],[0.5555555555555556,\"#d8576b\"],[0.6666666666666666,\"#ed7953\"],[0.7777777777777778,\"#fb9f3a\"],[0.8888888888888888,\"#fdca26\"],[1.0,\"#f0f921\"]]},\"colorway\":[\"#636efa\",\"#EF553B\",\"#00cc96\",\"#ab63fa\",\"#FFA15A\",\"#19d3f3\",\"#FF6692\",\"#B6E880\",\"#FF97FF\",\"#FECB52\"],\"font\":{\"color\":\"#2a3f5f\"},\"geo\":{\"bgcolor\":\"white\",\"lakecolor\":\"white\",\"landcolor\":\"#E5ECF6\",\"showlakes\":true,\"showland\":true,\"subunitcolor\":\"white\"},\"hoverlabel\":{\"align\":\"left\"},\"hovermode\":\"closest\",\"mapbox\":{\"style\":\"light\"},\"paper_bgcolor\":\"white\",\"plot_bgcolor\":\"#E5ECF6\",\"polar\":{\"angularaxis\":{\"gridcolor\":\"white\",\"linecolor\":\"white\",\"ticks\":\"\"},\"bgcolor\":\"#E5ECF6\",\"radialaxis\":{\"gridcolor\":\"white\",\"linecolor\":\"white\",\"ticks\":\"\"}},\"scene\":{\"xaxis\":{\"backgroundcolor\":\"#E5ECF6\",\"gridcolor\":\"white\",\"gridwidth\":2,\"linecolor\":\"white\",\"showbackground\":true,\"ticks\":\"\",\"zerolinecolor\":\"white\"},\"yaxis\":{\"backgroundcolor\":\"#E5ECF6\",\"gridcolor\":\"white\",\"gridwidth\":2,\"linecolor\":\"white\",\"showbackground\":true,\"ticks\":\"\",\"zerolinecolor\":\"white\"},\"zaxis\":{\"backgroundcolor\":\"#E5ECF6\",\"gridcolor\":\"white\",\"gridwidth\":2,\"linecolor\":\"white\",\"showbackground\":true,\"ticks\":\"\",\"zerolinecolor\":\"white\"}},\"shapedefaults\":{\"line\":{\"color\":\"#2a3f5f\"}},\"ternary\":{\"aaxis\":{\"gridcolor\":\"white\",\"linecolor\":\"white\",\"ticks\":\"\"},\"baxis\":{\"gridcolor\":\"white\",\"linecolor\":\"white\",\"ticks\":\"\"},\"bgcolor\":\"#E5ECF6\",\"caxis\":{\"gridcolor\":\"white\",\"linecolor\":\"white\",\"ticks\":\"\"}},\"title\":{\"x\":0.05},\"xaxis\":{\"automargin\":true,\"gridcolor\":\"white\",\"linecolor\":\"white\",\"ticks\":\"\",\"title\":{\"standoff\":15},\"zerolinecolor\":\"white\",\"zerolinewidth\":2},\"yaxis\":{\"automargin\":true,\"gridcolor\":\"white\",\"linecolor\":\"white\",\"ticks\":\"\",\"title\":{\"standoff\":15},\"zerolinecolor\":\"white\",\"zerolinewidth\":2}}},\"title\":{\"text\":\"Screentime Percentage Distribution - Race\"},\"xaxis\":{\"anchor\":\"y\",\"categoryarray\":[\"asian_screentime\",\"black_screentime\",\"indian_screentime\",\"latino_hispanic_screentime\",\"middle_eastern_screentime\",\"white_screentime\"],\"categoryorder\":\"array\",\"domain\":[0.0,1.0],\"title\":{\"text\":\"\"}},\"yaxis\":{\"anchor\":\"x\",\"domain\":[0.0,1.0],\"title\":{\"text\":\"Screentime [%]\"}}},                        {\"responsive\": true}                    ).then(function(){\n",
       "                            \n",
       "var gd = document.getElementById('f4bb17ae-f514-42e7-b2e0-6123929b1334');\n",
       "var x = new MutationObserver(function (mutations, observer) {{\n",
       "        var display = window.getComputedStyle(gd).display;\n",
       "        if (!display || display === 'none') {{\n",
       "            console.log([gd, 'removed!']);\n",
       "            Plotly.purge(gd);\n",
       "            observer.disconnect();\n",
       "        }}\n",
       "}});\n",
       "\n",
       "// Listen for the removal of the full notebook cells\n",
       "var notebookContainer = gd.closest('#notebook-container');\n",
       "if (notebookContainer) {{\n",
       "    x.observe(notebookContainer, {childList: true});\n",
       "}}\n",
       "\n",
       "// Listen for the clearing of the current output cell\n",
       "var outputEl = gd.closest('.output');\n",
       "if (outputEl) {{\n",
       "    x.observe(outputEl, {childList: true});\n",
       "}}\n",
       "\n",
       "                        })                };                });            </script>        </div>"
      ]
     },
     "metadata": {},
     "output_type": "display_data"
    }
   ],
   "source": [
    "race_screentime_bar(one_movie)"
   ]
  },
  {
   "cell_type": "markdown",
   "id": "a546b520",
   "metadata": {},
   "source": [
    "## Distribution over run time"
   ]
  },
  {
   "cell_type": "code",
   "execution_count": 395,
   "id": "ef37f9b0",
   "metadata": {},
   "outputs": [],
   "source": [
    "def gcp_file_names(bucket_name, subfolders):\n",
    "\n",
    "    \"\"\"\n",
    "    Function ro grab file names from a GCP bucket directory\n",
    "\n",
    "    Parameters:\n",
    "\n",
    "    bucket_name: Name of GCP bucket\n",
    "    subfolders: complete subfolder path as a string where file names should\n",
    "                be retrieved from in the format folder_1/folder_2/.../folder_n\n",
    "\n",
    "    \"\"\"\n",
    "\n",
    "    client = storage.Client()\n",
    "    file_names = [str(x).split(f\"{subfolders}/\")[1].\\\n",
    "        split(\".csv\")[0].\\\n",
    "            strip() + \".csv\" for x in \\\n",
    "                client.list_blobs(bucket_name, prefix=subfolders)]\n",
    "\n",
    "    return file_names"
   ]
  },
  {
   "cell_type": "code",
   "execution_count": 460,
   "id": "8b722004",
   "metadata": {},
   "outputs": [],
   "source": [
    "def run_time(movie_title, by=\"gender\"):\n",
    "    \n",
    "    movie_title = movie_title.replace(\"_\", \" \").replace(\".csv\", \"\") + \".csv\"\n",
    "    \n",
    "    df = pd.read_csv(\n",
    "    f\"gs://{BUCKET_NAME}/output/{movie_title}\", index_col=None,)\n",
    "    \n",
    "    # add seconds column -> 1 frame = 0.5 seconds\n",
    "    df[\"seconds\"] = df[\"frame_number\"] / 2\n",
    "\n",
    "    # add minutes\n",
    "    df[\"minutes\"] = round((df[\"seconds\"] / 60))\n",
    "    \n",
    "    df_grouped = df.groupby([\"minutes\", by], as_index=False).count()\n",
    "\n",
    "\n",
    "    fig = px.scatter(df_grouped,\n",
    "                     x=\"minutes\",\n",
    "                     y=\"face_id\",\n",
    "                     size=\"face_id\",\n",
    "                     color=by,\n",
    "                     size_max=60, \n",
    "                     labels={\"face_id\": \"Number of detected faces\", \"minutes\": \"Film length [minutes]\"},\n",
    "                    title=f\"Distribution of {by.capitalize()} Over Film Run-time\")\n",
    "    return fig"
   ]
  },
  {
   "cell_type": "code",
   "execution_count": 461,
   "id": "ac31a381",
   "metadata": {},
   "outputs": [
    {
     "data": {
      "application/vnd.plotly.v1+json": {
       "config": {
        "plotlyServerURL": "https://plot.ly"
       },
       "data": [
        {
         "hovertemplate": "gender=Man<br>Film length [minutes]=%{x}<br>Number of detected faces=%{marker.size}<extra></extra>",
         "legendgroup": "Man",
         "marker": {
          "color": "#636efa",
          "size": [
           1,
           17,
           23,
           12,
           105,
           149,
           81,
           40,
           153,
           84,
           9,
           4,
           6,
           30,
           25,
           42,
           12,
           31,
           42,
           41,
           31,
           17,
           24,
           54,
           54,
           50,
           36,
           11,
           21,
           6,
           16,
           15,
           36,
           16,
           39,
           38,
           75,
           127,
           66,
           20,
           17,
           18,
           31,
           30,
           16,
           17,
           15,
           23,
           17,
           11,
           43,
           13,
           5,
           16,
           19,
           22,
           23,
           35,
           26,
           21,
           10,
           12,
           22,
           18,
           28,
           53,
           54,
           29,
           11,
           10,
           29,
           22,
           21,
           57,
           86,
           46,
           23,
           9,
           20,
           18,
           19,
           12,
           35,
           33,
           33,
           23,
           22,
           15,
           18,
           21,
           19,
           21,
           8,
           2,
           6,
           14,
           22,
           25,
           31,
           30,
           22,
           10,
           18,
           7,
           9,
           56,
           22,
           19,
           33,
           31,
           47,
           14,
           42,
           43,
           31,
           51,
           56,
           16,
           17,
           27,
           59,
           188,
           115,
           119,
           9,
           13,
           16,
           27,
           46,
           20,
           15,
           16,
           4,
           18,
           7,
           7,
           3,
           6,
           6,
           6,
           9,
           30,
           13,
           23,
           66,
           56,
           64,
           17
          ],
          "sizemode": "area",
          "sizeref": 0.052222222222222225,
          "symbol": "circle"
         },
         "mode": "markers",
         "name": "Man",
         "orientation": "v",
         "showlegend": true,
         "type": "scatter",
         "x": [
          0,
          1,
          2,
          3,
          4,
          5,
          6,
          7,
          8,
          9,
          10,
          11,
          12,
          13,
          14,
          15,
          16,
          17,
          18,
          19,
          20,
          21,
          22,
          23,
          24,
          25,
          26,
          27,
          28,
          29,
          30,
          31,
          32,
          33,
          34,
          35,
          36,
          37,
          38,
          39,
          40,
          41,
          42,
          43,
          44,
          45,
          46,
          47,
          48,
          49,
          50,
          51,
          52,
          53,
          54,
          55,
          56,
          57,
          58,
          59,
          60,
          61,
          62,
          63,
          64,
          65,
          66,
          67,
          68,
          69,
          70,
          71,
          72,
          73,
          74,
          75,
          76,
          77,
          78,
          79,
          80,
          81,
          82,
          83,
          84,
          85,
          86,
          87,
          88,
          89,
          90,
          91,
          92,
          93,
          94,
          95,
          96,
          97,
          98,
          99,
          100,
          101,
          102,
          103,
          104,
          105,
          106,
          107,
          108,
          109,
          110,
          111,
          112,
          113,
          114,
          115,
          116,
          117,
          118,
          119,
          120,
          121,
          122,
          123,
          124,
          125,
          126,
          127,
          128,
          129,
          130,
          131,
          132,
          133,
          134,
          135,
          136,
          137,
          138,
          139,
          140,
          141,
          142,
          143,
          144,
          145,
          146,
          147
         ],
         "xaxis": "x",
         "y": [
          1,
          17,
          23,
          12,
          105,
          149,
          81,
          40,
          153,
          84,
          9,
          4,
          6,
          30,
          25,
          42,
          12,
          31,
          42,
          41,
          31,
          17,
          24,
          54,
          54,
          50,
          36,
          11,
          21,
          6,
          16,
          15,
          36,
          16,
          39,
          38,
          75,
          127,
          66,
          20,
          17,
          18,
          31,
          30,
          16,
          17,
          15,
          23,
          17,
          11,
          43,
          13,
          5,
          16,
          19,
          22,
          23,
          35,
          26,
          21,
          10,
          12,
          22,
          18,
          28,
          53,
          54,
          29,
          11,
          10,
          29,
          22,
          21,
          57,
          86,
          46,
          23,
          9,
          20,
          18,
          19,
          12,
          35,
          33,
          33,
          23,
          22,
          15,
          18,
          21,
          19,
          21,
          8,
          2,
          6,
          14,
          22,
          25,
          31,
          30,
          22,
          10,
          18,
          7,
          9,
          56,
          22,
          19,
          33,
          31,
          47,
          14,
          42,
          43,
          31,
          51,
          56,
          16,
          17,
          27,
          59,
          188,
          115,
          119,
          9,
          13,
          16,
          27,
          46,
          20,
          15,
          16,
          4,
          18,
          7,
          7,
          3,
          6,
          6,
          6,
          9,
          30,
          13,
          23,
          66,
          56,
          64,
          17
         ],
         "yaxis": "y"
        },
        {
         "hovertemplate": "gender=Woman<br>Film length [minutes]=%{x}<br>Number of detected faces=%{marker.size}<extra></extra>",
         "legendgroup": "Woman",
         "marker": {
          "color": "#EF553B",
          "size": [
           7,
           2,
           5,
           5,
           2,
           2,
           8,
           3,
           1,
           9,
           4,
           3,
           7,
           3,
           4,
           1,
           2,
           8,
           3,
           2,
           3,
           5,
           1,
           8,
           5,
           2,
           2,
           3,
           6,
           1,
           1,
           2,
           3,
           3,
           1,
           4,
           1,
           1,
           1,
           2,
           1,
           1,
           2,
           1,
           3,
           2,
           15,
           2,
           2,
           1,
           1,
           3,
           17,
           3,
           1,
           2,
           2,
           3,
           1,
           3,
           3,
           2,
           1,
           4,
           1,
           3,
           2,
           2,
           5,
           8,
           8,
           3,
           5,
           1,
           1,
           7,
           1,
           1,
           5,
           10,
           6,
           10,
           1,
           1,
           1,
           3,
           7,
           2,
           3,
           1,
           2,
           2,
           12,
           12,
           7,
           15,
           3
          ],
          "sizemode": "area",
          "sizeref": 0.052222222222222225,
          "symbol": "circle"
         },
         "mode": "markers",
         "name": "Woman",
         "orientation": "v",
         "showlegend": true,
         "type": "scatter",
         "x": [
          4,
          5,
          6,
          8,
          9,
          13,
          14,
          16,
          17,
          18,
          19,
          22,
          23,
          24,
          26,
          27,
          28,
          34,
          35,
          36,
          38,
          39,
          40,
          41,
          43,
          45,
          46,
          47,
          48,
          50,
          54,
          55,
          56,
          58,
          59,
          60,
          61,
          62,
          63,
          64,
          65,
          67,
          69,
          71,
          72,
          73,
          74,
          75,
          76,
          77,
          78,
          80,
          81,
          82,
          83,
          84,
          85,
          86,
          87,
          88,
          89,
          90,
          97,
          99,
          100,
          102,
          104,
          105,
          106,
          107,
          108,
          109,
          110,
          111,
          114,
          115,
          116,
          119,
          120,
          121,
          122,
          123,
          124,
          125,
          126,
          127,
          128,
          129,
          131,
          132,
          138,
          140,
          143,
          144,
          145,
          146,
          147
         ],
         "xaxis": "x",
         "y": [
          7,
          2,
          5,
          5,
          2,
          2,
          8,
          3,
          1,
          9,
          4,
          3,
          7,
          3,
          4,
          1,
          2,
          8,
          3,
          2,
          3,
          5,
          1,
          8,
          5,
          2,
          2,
          3,
          6,
          1,
          1,
          2,
          3,
          3,
          1,
          4,
          1,
          1,
          1,
          2,
          1,
          1,
          2,
          1,
          3,
          2,
          15,
          2,
          2,
          1,
          1,
          3,
          17,
          3,
          1,
          2,
          2,
          3,
          1,
          3,
          3,
          2,
          1,
          4,
          1,
          3,
          2,
          2,
          5,
          8,
          8,
          3,
          5,
          1,
          1,
          7,
          1,
          1,
          5,
          10,
          6,
          10,
          1,
          1,
          1,
          3,
          7,
          2,
          3,
          1,
          2,
          2,
          12,
          12,
          7,
          15,
          3
         ],
         "yaxis": "y"
        }
       ],
       "layout": {
        "legend": {
         "itemsizing": "constant",
         "title": {
          "text": "gender"
         },
         "tracegroupgap": 0
        },
        "template": {
         "data": {
          "bar": [
           {
            "error_x": {
             "color": "#2a3f5f"
            },
            "error_y": {
             "color": "#2a3f5f"
            },
            "marker": {
             "line": {
              "color": "#E5ECF6",
              "width": 0.5
             },
             "pattern": {
              "fillmode": "overlay",
              "size": 10,
              "solidity": 0.2
             }
            },
            "type": "bar"
           }
          ],
          "barpolar": [
           {
            "marker": {
             "line": {
              "color": "#E5ECF6",
              "width": 0.5
             },
             "pattern": {
              "fillmode": "overlay",
              "size": 10,
              "solidity": 0.2
             }
            },
            "type": "barpolar"
           }
          ],
          "carpet": [
           {
            "aaxis": {
             "endlinecolor": "#2a3f5f",
             "gridcolor": "white",
             "linecolor": "white",
             "minorgridcolor": "white",
             "startlinecolor": "#2a3f5f"
            },
            "baxis": {
             "endlinecolor": "#2a3f5f",
             "gridcolor": "white",
             "linecolor": "white",
             "minorgridcolor": "white",
             "startlinecolor": "#2a3f5f"
            },
            "type": "carpet"
           }
          ],
          "choropleth": [
           {
            "colorbar": {
             "outlinewidth": 0,
             "ticks": ""
            },
            "type": "choropleth"
           }
          ],
          "contour": [
           {
            "colorbar": {
             "outlinewidth": 0,
             "ticks": ""
            },
            "colorscale": [
             [
              0,
              "#0d0887"
             ],
             [
              0.1111111111111111,
              "#46039f"
             ],
             [
              0.2222222222222222,
              "#7201a8"
             ],
             [
              0.3333333333333333,
              "#9c179e"
             ],
             [
              0.4444444444444444,
              "#bd3786"
             ],
             [
              0.5555555555555556,
              "#d8576b"
             ],
             [
              0.6666666666666666,
              "#ed7953"
             ],
             [
              0.7777777777777778,
              "#fb9f3a"
             ],
             [
              0.8888888888888888,
              "#fdca26"
             ],
             [
              1,
              "#f0f921"
             ]
            ],
            "type": "contour"
           }
          ],
          "contourcarpet": [
           {
            "colorbar": {
             "outlinewidth": 0,
             "ticks": ""
            },
            "type": "contourcarpet"
           }
          ],
          "heatmap": [
           {
            "colorbar": {
             "outlinewidth": 0,
             "ticks": ""
            },
            "colorscale": [
             [
              0,
              "#0d0887"
             ],
             [
              0.1111111111111111,
              "#46039f"
             ],
             [
              0.2222222222222222,
              "#7201a8"
             ],
             [
              0.3333333333333333,
              "#9c179e"
             ],
             [
              0.4444444444444444,
              "#bd3786"
             ],
             [
              0.5555555555555556,
              "#d8576b"
             ],
             [
              0.6666666666666666,
              "#ed7953"
             ],
             [
              0.7777777777777778,
              "#fb9f3a"
             ],
             [
              0.8888888888888888,
              "#fdca26"
             ],
             [
              1,
              "#f0f921"
             ]
            ],
            "type": "heatmap"
           }
          ],
          "heatmapgl": [
           {
            "colorbar": {
             "outlinewidth": 0,
             "ticks": ""
            },
            "colorscale": [
             [
              0,
              "#0d0887"
             ],
             [
              0.1111111111111111,
              "#46039f"
             ],
             [
              0.2222222222222222,
              "#7201a8"
             ],
             [
              0.3333333333333333,
              "#9c179e"
             ],
             [
              0.4444444444444444,
              "#bd3786"
             ],
             [
              0.5555555555555556,
              "#d8576b"
             ],
             [
              0.6666666666666666,
              "#ed7953"
             ],
             [
              0.7777777777777778,
              "#fb9f3a"
             ],
             [
              0.8888888888888888,
              "#fdca26"
             ],
             [
              1,
              "#f0f921"
             ]
            ],
            "type": "heatmapgl"
           }
          ],
          "histogram": [
           {
            "marker": {
             "pattern": {
              "fillmode": "overlay",
              "size": 10,
              "solidity": 0.2
             }
            },
            "type": "histogram"
           }
          ],
          "histogram2d": [
           {
            "colorbar": {
             "outlinewidth": 0,
             "ticks": ""
            },
            "colorscale": [
             [
              0,
              "#0d0887"
             ],
             [
              0.1111111111111111,
              "#46039f"
             ],
             [
              0.2222222222222222,
              "#7201a8"
             ],
             [
              0.3333333333333333,
              "#9c179e"
             ],
             [
              0.4444444444444444,
              "#bd3786"
             ],
             [
              0.5555555555555556,
              "#d8576b"
             ],
             [
              0.6666666666666666,
              "#ed7953"
             ],
             [
              0.7777777777777778,
              "#fb9f3a"
             ],
             [
              0.8888888888888888,
              "#fdca26"
             ],
             [
              1,
              "#f0f921"
             ]
            ],
            "type": "histogram2d"
           }
          ],
          "histogram2dcontour": [
           {
            "colorbar": {
             "outlinewidth": 0,
             "ticks": ""
            },
            "colorscale": [
             [
              0,
              "#0d0887"
             ],
             [
              0.1111111111111111,
              "#46039f"
             ],
             [
              0.2222222222222222,
              "#7201a8"
             ],
             [
              0.3333333333333333,
              "#9c179e"
             ],
             [
              0.4444444444444444,
              "#bd3786"
             ],
             [
              0.5555555555555556,
              "#d8576b"
             ],
             [
              0.6666666666666666,
              "#ed7953"
             ],
             [
              0.7777777777777778,
              "#fb9f3a"
             ],
             [
              0.8888888888888888,
              "#fdca26"
             ],
             [
              1,
              "#f0f921"
             ]
            ],
            "type": "histogram2dcontour"
           }
          ],
          "mesh3d": [
           {
            "colorbar": {
             "outlinewidth": 0,
             "ticks": ""
            },
            "type": "mesh3d"
           }
          ],
          "parcoords": [
           {
            "line": {
             "colorbar": {
              "outlinewidth": 0,
              "ticks": ""
             }
            },
            "type": "parcoords"
           }
          ],
          "pie": [
           {
            "automargin": true,
            "type": "pie"
           }
          ],
          "scatter": [
           {
            "marker": {
             "colorbar": {
              "outlinewidth": 0,
              "ticks": ""
             }
            },
            "type": "scatter"
           }
          ],
          "scatter3d": [
           {
            "line": {
             "colorbar": {
              "outlinewidth": 0,
              "ticks": ""
             }
            },
            "marker": {
             "colorbar": {
              "outlinewidth": 0,
              "ticks": ""
             }
            },
            "type": "scatter3d"
           }
          ],
          "scattercarpet": [
           {
            "marker": {
             "colorbar": {
              "outlinewidth": 0,
              "ticks": ""
             }
            },
            "type": "scattercarpet"
           }
          ],
          "scattergeo": [
           {
            "marker": {
             "colorbar": {
              "outlinewidth": 0,
              "ticks": ""
             }
            },
            "type": "scattergeo"
           }
          ],
          "scattergl": [
           {
            "marker": {
             "colorbar": {
              "outlinewidth": 0,
              "ticks": ""
             }
            },
            "type": "scattergl"
           }
          ],
          "scattermapbox": [
           {
            "marker": {
             "colorbar": {
              "outlinewidth": 0,
              "ticks": ""
             }
            },
            "type": "scattermapbox"
           }
          ],
          "scatterpolar": [
           {
            "marker": {
             "colorbar": {
              "outlinewidth": 0,
              "ticks": ""
             }
            },
            "type": "scatterpolar"
           }
          ],
          "scatterpolargl": [
           {
            "marker": {
             "colorbar": {
              "outlinewidth": 0,
              "ticks": ""
             }
            },
            "type": "scatterpolargl"
           }
          ],
          "scatterternary": [
           {
            "marker": {
             "colorbar": {
              "outlinewidth": 0,
              "ticks": ""
             }
            },
            "type": "scatterternary"
           }
          ],
          "surface": [
           {
            "colorbar": {
             "outlinewidth": 0,
             "ticks": ""
            },
            "colorscale": [
             [
              0,
              "#0d0887"
             ],
             [
              0.1111111111111111,
              "#46039f"
             ],
             [
              0.2222222222222222,
              "#7201a8"
             ],
             [
              0.3333333333333333,
              "#9c179e"
             ],
             [
              0.4444444444444444,
              "#bd3786"
             ],
             [
              0.5555555555555556,
              "#d8576b"
             ],
             [
              0.6666666666666666,
              "#ed7953"
             ],
             [
              0.7777777777777778,
              "#fb9f3a"
             ],
             [
              0.8888888888888888,
              "#fdca26"
             ],
             [
              1,
              "#f0f921"
             ]
            ],
            "type": "surface"
           }
          ],
          "table": [
           {
            "cells": {
             "fill": {
              "color": "#EBF0F8"
             },
             "line": {
              "color": "white"
             }
            },
            "header": {
             "fill": {
              "color": "#C8D4E3"
             },
             "line": {
              "color": "white"
             }
            },
            "type": "table"
           }
          ]
         },
         "layout": {
          "annotationdefaults": {
           "arrowcolor": "#2a3f5f",
           "arrowhead": 0,
           "arrowwidth": 1
          },
          "autotypenumbers": "strict",
          "coloraxis": {
           "colorbar": {
            "outlinewidth": 0,
            "ticks": ""
           }
          },
          "colorscale": {
           "diverging": [
            [
             0,
             "#8e0152"
            ],
            [
             0.1,
             "#c51b7d"
            ],
            [
             0.2,
             "#de77ae"
            ],
            [
             0.3,
             "#f1b6da"
            ],
            [
             0.4,
             "#fde0ef"
            ],
            [
             0.5,
             "#f7f7f7"
            ],
            [
             0.6,
             "#e6f5d0"
            ],
            [
             0.7,
             "#b8e186"
            ],
            [
             0.8,
             "#7fbc41"
            ],
            [
             0.9,
             "#4d9221"
            ],
            [
             1,
             "#276419"
            ]
           ],
           "sequential": [
            [
             0,
             "#0d0887"
            ],
            [
             0.1111111111111111,
             "#46039f"
            ],
            [
             0.2222222222222222,
             "#7201a8"
            ],
            [
             0.3333333333333333,
             "#9c179e"
            ],
            [
             0.4444444444444444,
             "#bd3786"
            ],
            [
             0.5555555555555556,
             "#d8576b"
            ],
            [
             0.6666666666666666,
             "#ed7953"
            ],
            [
             0.7777777777777778,
             "#fb9f3a"
            ],
            [
             0.8888888888888888,
             "#fdca26"
            ],
            [
             1,
             "#f0f921"
            ]
           ],
           "sequentialminus": [
            [
             0,
             "#0d0887"
            ],
            [
             0.1111111111111111,
             "#46039f"
            ],
            [
             0.2222222222222222,
             "#7201a8"
            ],
            [
             0.3333333333333333,
             "#9c179e"
            ],
            [
             0.4444444444444444,
             "#bd3786"
            ],
            [
             0.5555555555555556,
             "#d8576b"
            ],
            [
             0.6666666666666666,
             "#ed7953"
            ],
            [
             0.7777777777777778,
             "#fb9f3a"
            ],
            [
             0.8888888888888888,
             "#fdca26"
            ],
            [
             1,
             "#f0f921"
            ]
           ]
          },
          "colorway": [
           "#636efa",
           "#EF553B",
           "#00cc96",
           "#ab63fa",
           "#FFA15A",
           "#19d3f3",
           "#FF6692",
           "#B6E880",
           "#FF97FF",
           "#FECB52"
          ],
          "font": {
           "color": "#2a3f5f"
          },
          "geo": {
           "bgcolor": "white",
           "lakecolor": "white",
           "landcolor": "#E5ECF6",
           "showlakes": true,
           "showland": true,
           "subunitcolor": "white"
          },
          "hoverlabel": {
           "align": "left"
          },
          "hovermode": "closest",
          "mapbox": {
           "style": "light"
          },
          "paper_bgcolor": "white",
          "plot_bgcolor": "#E5ECF6",
          "polar": {
           "angularaxis": {
            "gridcolor": "white",
            "linecolor": "white",
            "ticks": ""
           },
           "bgcolor": "#E5ECF6",
           "radialaxis": {
            "gridcolor": "white",
            "linecolor": "white",
            "ticks": ""
           }
          },
          "scene": {
           "xaxis": {
            "backgroundcolor": "#E5ECF6",
            "gridcolor": "white",
            "gridwidth": 2,
            "linecolor": "white",
            "showbackground": true,
            "ticks": "",
            "zerolinecolor": "white"
           },
           "yaxis": {
            "backgroundcolor": "#E5ECF6",
            "gridcolor": "white",
            "gridwidth": 2,
            "linecolor": "white",
            "showbackground": true,
            "ticks": "",
            "zerolinecolor": "white"
           },
           "zaxis": {
            "backgroundcolor": "#E5ECF6",
            "gridcolor": "white",
            "gridwidth": 2,
            "linecolor": "white",
            "showbackground": true,
            "ticks": "",
            "zerolinecolor": "white"
           }
          },
          "shapedefaults": {
           "line": {
            "color": "#2a3f5f"
           }
          },
          "ternary": {
           "aaxis": {
            "gridcolor": "white",
            "linecolor": "white",
            "ticks": ""
           },
           "baxis": {
            "gridcolor": "white",
            "linecolor": "white",
            "ticks": ""
           },
           "bgcolor": "#E5ECF6",
           "caxis": {
            "gridcolor": "white",
            "linecolor": "white",
            "ticks": ""
           }
          },
          "title": {
           "x": 0.05
          },
          "xaxis": {
           "automargin": true,
           "gridcolor": "white",
           "linecolor": "white",
           "ticks": "",
           "title": {
            "standoff": 15
           },
           "zerolinecolor": "white",
           "zerolinewidth": 2
          },
          "yaxis": {
           "automargin": true,
           "gridcolor": "white",
           "linecolor": "white",
           "ticks": "",
           "title": {
            "standoff": 15
           },
           "zerolinecolor": "white",
           "zerolinewidth": 2
          }
         }
        },
        "title": {
         "text": "Distribution of Gender Over Film Run-time"
        },
        "xaxis": {
         "anchor": "y",
         "domain": [
          0,
          1
         ],
         "title": {
          "text": "Film length [minutes]"
         }
        },
        "yaxis": {
         "anchor": "x",
         "domain": [
          0,
          1
         ],
         "title": {
          "text": "Number of detected faces"
         }
        }
       }
      },
      "text/html": [
       "<div>                            <div id=\"f2bf4ada-6ce7-494c-838d-b06e4ad2c68b\" class=\"plotly-graph-div\" style=\"height:525px; width:100%;\"></div>            <script type=\"text/javascript\">                require([\"plotly\"], function(Plotly) {                    window.PLOTLYENV=window.PLOTLYENV || {};                                    if (document.getElementById(\"f2bf4ada-6ce7-494c-838d-b06e4ad2c68b\")) {                    Plotly.newPlot(                        \"f2bf4ada-6ce7-494c-838d-b06e4ad2c68b\",                        [{\"hovertemplate\":\"gender=Man<br>Film length [minutes]=%{x}<br>Number of detected faces=%{marker.size}<extra></extra>\",\"legendgroup\":\"Man\",\"marker\":{\"color\":\"#636efa\",\"size\":[1,17,23,12,105,149,81,40,153,84,9,4,6,30,25,42,12,31,42,41,31,17,24,54,54,50,36,11,21,6,16,15,36,16,39,38,75,127,66,20,17,18,31,30,16,17,15,23,17,11,43,13,5,16,19,22,23,35,26,21,10,12,22,18,28,53,54,29,11,10,29,22,21,57,86,46,23,9,20,18,19,12,35,33,33,23,22,15,18,21,19,21,8,2,6,14,22,25,31,30,22,10,18,7,9,56,22,19,33,31,47,14,42,43,31,51,56,16,17,27,59,188,115,119,9,13,16,27,46,20,15,16,4,18,7,7,3,6,6,6,9,30,13,23,66,56,64,17],\"sizemode\":\"area\",\"sizeref\":0.052222222222222225,\"symbol\":\"circle\"},\"mode\":\"markers\",\"name\":\"Man\",\"orientation\":\"v\",\"showlegend\":true,\"type\":\"scatter\",\"x\":[0.0,1.0,2.0,3.0,4.0,5.0,6.0,7.0,8.0,9.0,10.0,11.0,12.0,13.0,14.0,15.0,16.0,17.0,18.0,19.0,20.0,21.0,22.0,23.0,24.0,25.0,26.0,27.0,28.0,29.0,30.0,31.0,32.0,33.0,34.0,35.0,36.0,37.0,38.0,39.0,40.0,41.0,42.0,43.0,44.0,45.0,46.0,47.0,48.0,49.0,50.0,51.0,52.0,53.0,54.0,55.0,56.0,57.0,58.0,59.0,60.0,61.0,62.0,63.0,64.0,65.0,66.0,67.0,68.0,69.0,70.0,71.0,72.0,73.0,74.0,75.0,76.0,77.0,78.0,79.0,80.0,81.0,82.0,83.0,84.0,85.0,86.0,87.0,88.0,89.0,90.0,91.0,92.0,93.0,94.0,95.0,96.0,97.0,98.0,99.0,100.0,101.0,102.0,103.0,104.0,105.0,106.0,107.0,108.0,109.0,110.0,111.0,112.0,113.0,114.0,115.0,116.0,117.0,118.0,119.0,120.0,121.0,122.0,123.0,124.0,125.0,126.0,127.0,128.0,129.0,130.0,131.0,132.0,133.0,134.0,135.0,136.0,137.0,138.0,139.0,140.0,141.0,142.0,143.0,144.0,145.0,146.0,147.0],\"xaxis\":\"x\",\"y\":[1,17,23,12,105,149,81,40,153,84,9,4,6,30,25,42,12,31,42,41,31,17,24,54,54,50,36,11,21,6,16,15,36,16,39,38,75,127,66,20,17,18,31,30,16,17,15,23,17,11,43,13,5,16,19,22,23,35,26,21,10,12,22,18,28,53,54,29,11,10,29,22,21,57,86,46,23,9,20,18,19,12,35,33,33,23,22,15,18,21,19,21,8,2,6,14,22,25,31,30,22,10,18,7,9,56,22,19,33,31,47,14,42,43,31,51,56,16,17,27,59,188,115,119,9,13,16,27,46,20,15,16,4,18,7,7,3,6,6,6,9,30,13,23,66,56,64,17],\"yaxis\":\"y\"},{\"hovertemplate\":\"gender=Woman<br>Film length [minutes]=%{x}<br>Number of detected faces=%{marker.size}<extra></extra>\",\"legendgroup\":\"Woman\",\"marker\":{\"color\":\"#EF553B\",\"size\":[7,2,5,5,2,2,8,3,1,9,4,3,7,3,4,1,2,8,3,2,3,5,1,8,5,2,2,3,6,1,1,2,3,3,1,4,1,1,1,2,1,1,2,1,3,2,15,2,2,1,1,3,17,3,1,2,2,3,1,3,3,2,1,4,1,3,2,2,5,8,8,3,5,1,1,7,1,1,5,10,6,10,1,1,1,3,7,2,3,1,2,2,12,12,7,15,3],\"sizemode\":\"area\",\"sizeref\":0.052222222222222225,\"symbol\":\"circle\"},\"mode\":\"markers\",\"name\":\"Woman\",\"orientation\":\"v\",\"showlegend\":true,\"type\":\"scatter\",\"x\":[4.0,5.0,6.0,8.0,9.0,13.0,14.0,16.0,17.0,18.0,19.0,22.0,23.0,24.0,26.0,27.0,28.0,34.0,35.0,36.0,38.0,39.0,40.0,41.0,43.0,45.0,46.0,47.0,48.0,50.0,54.0,55.0,56.0,58.0,59.0,60.0,61.0,62.0,63.0,64.0,65.0,67.0,69.0,71.0,72.0,73.0,74.0,75.0,76.0,77.0,78.0,80.0,81.0,82.0,83.0,84.0,85.0,86.0,87.0,88.0,89.0,90.0,97.0,99.0,100.0,102.0,104.0,105.0,106.0,107.0,108.0,109.0,110.0,111.0,114.0,115.0,116.0,119.0,120.0,121.0,122.0,123.0,124.0,125.0,126.0,127.0,128.0,129.0,131.0,132.0,138.0,140.0,143.0,144.0,145.0,146.0,147.0],\"xaxis\":\"x\",\"y\":[7,2,5,5,2,2,8,3,1,9,4,3,7,3,4,1,2,8,3,2,3,5,1,8,5,2,2,3,6,1,1,2,3,3,1,4,1,1,1,2,1,1,2,1,3,2,15,2,2,1,1,3,17,3,1,2,2,3,1,3,3,2,1,4,1,3,2,2,5,8,8,3,5,1,1,7,1,1,5,10,6,10,1,1,1,3,7,2,3,1,2,2,12,12,7,15,3],\"yaxis\":\"y\"}],                        {\"legend\":{\"itemsizing\":\"constant\",\"title\":{\"text\":\"gender\"},\"tracegroupgap\":0},\"template\":{\"data\":{\"bar\":[{\"error_x\":{\"color\":\"#2a3f5f\"},\"error_y\":{\"color\":\"#2a3f5f\"},\"marker\":{\"line\":{\"color\":\"#E5ECF6\",\"width\":0.5},\"pattern\":{\"fillmode\":\"overlay\",\"size\":10,\"solidity\":0.2}},\"type\":\"bar\"}],\"barpolar\":[{\"marker\":{\"line\":{\"color\":\"#E5ECF6\",\"width\":0.5},\"pattern\":{\"fillmode\":\"overlay\",\"size\":10,\"solidity\":0.2}},\"type\":\"barpolar\"}],\"carpet\":[{\"aaxis\":{\"endlinecolor\":\"#2a3f5f\",\"gridcolor\":\"white\",\"linecolor\":\"white\",\"minorgridcolor\":\"white\",\"startlinecolor\":\"#2a3f5f\"},\"baxis\":{\"endlinecolor\":\"#2a3f5f\",\"gridcolor\":\"white\",\"linecolor\":\"white\",\"minorgridcolor\":\"white\",\"startlinecolor\":\"#2a3f5f\"},\"type\":\"carpet\"}],\"choropleth\":[{\"colorbar\":{\"outlinewidth\":0,\"ticks\":\"\"},\"type\":\"choropleth\"}],\"contour\":[{\"colorbar\":{\"outlinewidth\":0,\"ticks\":\"\"},\"colorscale\":[[0.0,\"#0d0887\"],[0.1111111111111111,\"#46039f\"],[0.2222222222222222,\"#7201a8\"],[0.3333333333333333,\"#9c179e\"],[0.4444444444444444,\"#bd3786\"],[0.5555555555555556,\"#d8576b\"],[0.6666666666666666,\"#ed7953\"],[0.7777777777777778,\"#fb9f3a\"],[0.8888888888888888,\"#fdca26\"],[1.0,\"#f0f921\"]],\"type\":\"contour\"}],\"contourcarpet\":[{\"colorbar\":{\"outlinewidth\":0,\"ticks\":\"\"},\"type\":\"contourcarpet\"}],\"heatmap\":[{\"colorbar\":{\"outlinewidth\":0,\"ticks\":\"\"},\"colorscale\":[[0.0,\"#0d0887\"],[0.1111111111111111,\"#46039f\"],[0.2222222222222222,\"#7201a8\"],[0.3333333333333333,\"#9c179e\"],[0.4444444444444444,\"#bd3786\"],[0.5555555555555556,\"#d8576b\"],[0.6666666666666666,\"#ed7953\"],[0.7777777777777778,\"#fb9f3a\"],[0.8888888888888888,\"#fdca26\"],[1.0,\"#f0f921\"]],\"type\":\"heatmap\"}],\"heatmapgl\":[{\"colorbar\":{\"outlinewidth\":0,\"ticks\":\"\"},\"colorscale\":[[0.0,\"#0d0887\"],[0.1111111111111111,\"#46039f\"],[0.2222222222222222,\"#7201a8\"],[0.3333333333333333,\"#9c179e\"],[0.4444444444444444,\"#bd3786\"],[0.5555555555555556,\"#d8576b\"],[0.6666666666666666,\"#ed7953\"],[0.7777777777777778,\"#fb9f3a\"],[0.8888888888888888,\"#fdca26\"],[1.0,\"#f0f921\"]],\"type\":\"heatmapgl\"}],\"histogram\":[{\"marker\":{\"pattern\":{\"fillmode\":\"overlay\",\"size\":10,\"solidity\":0.2}},\"type\":\"histogram\"}],\"histogram2d\":[{\"colorbar\":{\"outlinewidth\":0,\"ticks\":\"\"},\"colorscale\":[[0.0,\"#0d0887\"],[0.1111111111111111,\"#46039f\"],[0.2222222222222222,\"#7201a8\"],[0.3333333333333333,\"#9c179e\"],[0.4444444444444444,\"#bd3786\"],[0.5555555555555556,\"#d8576b\"],[0.6666666666666666,\"#ed7953\"],[0.7777777777777778,\"#fb9f3a\"],[0.8888888888888888,\"#fdca26\"],[1.0,\"#f0f921\"]],\"type\":\"histogram2d\"}],\"histogram2dcontour\":[{\"colorbar\":{\"outlinewidth\":0,\"ticks\":\"\"},\"colorscale\":[[0.0,\"#0d0887\"],[0.1111111111111111,\"#46039f\"],[0.2222222222222222,\"#7201a8\"],[0.3333333333333333,\"#9c179e\"],[0.4444444444444444,\"#bd3786\"],[0.5555555555555556,\"#d8576b\"],[0.6666666666666666,\"#ed7953\"],[0.7777777777777778,\"#fb9f3a\"],[0.8888888888888888,\"#fdca26\"],[1.0,\"#f0f921\"]],\"type\":\"histogram2dcontour\"}],\"mesh3d\":[{\"colorbar\":{\"outlinewidth\":0,\"ticks\":\"\"},\"type\":\"mesh3d\"}],\"parcoords\":[{\"line\":{\"colorbar\":{\"outlinewidth\":0,\"ticks\":\"\"}},\"type\":\"parcoords\"}],\"pie\":[{\"automargin\":true,\"type\":\"pie\"}],\"scatter\":[{\"marker\":{\"colorbar\":{\"outlinewidth\":0,\"ticks\":\"\"}},\"type\":\"scatter\"}],\"scatter3d\":[{\"line\":{\"colorbar\":{\"outlinewidth\":0,\"ticks\":\"\"}},\"marker\":{\"colorbar\":{\"outlinewidth\":0,\"ticks\":\"\"}},\"type\":\"scatter3d\"}],\"scattercarpet\":[{\"marker\":{\"colorbar\":{\"outlinewidth\":0,\"ticks\":\"\"}},\"type\":\"scattercarpet\"}],\"scattergeo\":[{\"marker\":{\"colorbar\":{\"outlinewidth\":0,\"ticks\":\"\"}},\"type\":\"scattergeo\"}],\"scattergl\":[{\"marker\":{\"colorbar\":{\"outlinewidth\":0,\"ticks\":\"\"}},\"type\":\"scattergl\"}],\"scattermapbox\":[{\"marker\":{\"colorbar\":{\"outlinewidth\":0,\"ticks\":\"\"}},\"type\":\"scattermapbox\"}],\"scatterpolar\":[{\"marker\":{\"colorbar\":{\"outlinewidth\":0,\"ticks\":\"\"}},\"type\":\"scatterpolar\"}],\"scatterpolargl\":[{\"marker\":{\"colorbar\":{\"outlinewidth\":0,\"ticks\":\"\"}},\"type\":\"scatterpolargl\"}],\"scatterternary\":[{\"marker\":{\"colorbar\":{\"outlinewidth\":0,\"ticks\":\"\"}},\"type\":\"scatterternary\"}],\"surface\":[{\"colorbar\":{\"outlinewidth\":0,\"ticks\":\"\"},\"colorscale\":[[0.0,\"#0d0887\"],[0.1111111111111111,\"#46039f\"],[0.2222222222222222,\"#7201a8\"],[0.3333333333333333,\"#9c179e\"],[0.4444444444444444,\"#bd3786\"],[0.5555555555555556,\"#d8576b\"],[0.6666666666666666,\"#ed7953\"],[0.7777777777777778,\"#fb9f3a\"],[0.8888888888888888,\"#fdca26\"],[1.0,\"#f0f921\"]],\"type\":\"surface\"}],\"table\":[{\"cells\":{\"fill\":{\"color\":\"#EBF0F8\"},\"line\":{\"color\":\"white\"}},\"header\":{\"fill\":{\"color\":\"#C8D4E3\"},\"line\":{\"color\":\"white\"}},\"type\":\"table\"}]},\"layout\":{\"annotationdefaults\":{\"arrowcolor\":\"#2a3f5f\",\"arrowhead\":0,\"arrowwidth\":1},\"autotypenumbers\":\"strict\",\"coloraxis\":{\"colorbar\":{\"outlinewidth\":0,\"ticks\":\"\"}},\"colorscale\":{\"diverging\":[[0,\"#8e0152\"],[0.1,\"#c51b7d\"],[0.2,\"#de77ae\"],[0.3,\"#f1b6da\"],[0.4,\"#fde0ef\"],[0.5,\"#f7f7f7\"],[0.6,\"#e6f5d0\"],[0.7,\"#b8e186\"],[0.8,\"#7fbc41\"],[0.9,\"#4d9221\"],[1,\"#276419\"]],\"sequential\":[[0.0,\"#0d0887\"],[0.1111111111111111,\"#46039f\"],[0.2222222222222222,\"#7201a8\"],[0.3333333333333333,\"#9c179e\"],[0.4444444444444444,\"#bd3786\"],[0.5555555555555556,\"#d8576b\"],[0.6666666666666666,\"#ed7953\"],[0.7777777777777778,\"#fb9f3a\"],[0.8888888888888888,\"#fdca26\"],[1.0,\"#f0f921\"]],\"sequentialminus\":[[0.0,\"#0d0887\"],[0.1111111111111111,\"#46039f\"],[0.2222222222222222,\"#7201a8\"],[0.3333333333333333,\"#9c179e\"],[0.4444444444444444,\"#bd3786\"],[0.5555555555555556,\"#d8576b\"],[0.6666666666666666,\"#ed7953\"],[0.7777777777777778,\"#fb9f3a\"],[0.8888888888888888,\"#fdca26\"],[1.0,\"#f0f921\"]]},\"colorway\":[\"#636efa\",\"#EF553B\",\"#00cc96\",\"#ab63fa\",\"#FFA15A\",\"#19d3f3\",\"#FF6692\",\"#B6E880\",\"#FF97FF\",\"#FECB52\"],\"font\":{\"color\":\"#2a3f5f\"},\"geo\":{\"bgcolor\":\"white\",\"lakecolor\":\"white\",\"landcolor\":\"#E5ECF6\",\"showlakes\":true,\"showland\":true,\"subunitcolor\":\"white\"},\"hoverlabel\":{\"align\":\"left\"},\"hovermode\":\"closest\",\"mapbox\":{\"style\":\"light\"},\"paper_bgcolor\":\"white\",\"plot_bgcolor\":\"#E5ECF6\",\"polar\":{\"angularaxis\":{\"gridcolor\":\"white\",\"linecolor\":\"white\",\"ticks\":\"\"},\"bgcolor\":\"#E5ECF6\",\"radialaxis\":{\"gridcolor\":\"white\",\"linecolor\":\"white\",\"ticks\":\"\"}},\"scene\":{\"xaxis\":{\"backgroundcolor\":\"#E5ECF6\",\"gridcolor\":\"white\",\"gridwidth\":2,\"linecolor\":\"white\",\"showbackground\":true,\"ticks\":\"\",\"zerolinecolor\":\"white\"},\"yaxis\":{\"backgroundcolor\":\"#E5ECF6\",\"gridcolor\":\"white\",\"gridwidth\":2,\"linecolor\":\"white\",\"showbackground\":true,\"ticks\":\"\",\"zerolinecolor\":\"white\"},\"zaxis\":{\"backgroundcolor\":\"#E5ECF6\",\"gridcolor\":\"white\",\"gridwidth\":2,\"linecolor\":\"white\",\"showbackground\":true,\"ticks\":\"\",\"zerolinecolor\":\"white\"}},\"shapedefaults\":{\"line\":{\"color\":\"#2a3f5f\"}},\"ternary\":{\"aaxis\":{\"gridcolor\":\"white\",\"linecolor\":\"white\",\"ticks\":\"\"},\"baxis\":{\"gridcolor\":\"white\",\"linecolor\":\"white\",\"ticks\":\"\"},\"bgcolor\":\"#E5ECF6\",\"caxis\":{\"gridcolor\":\"white\",\"linecolor\":\"white\",\"ticks\":\"\"}},\"title\":{\"x\":0.05},\"xaxis\":{\"automargin\":true,\"gridcolor\":\"white\",\"linecolor\":\"white\",\"ticks\":\"\",\"title\":{\"standoff\":15},\"zerolinecolor\":\"white\",\"zerolinewidth\":2},\"yaxis\":{\"automargin\":true,\"gridcolor\":\"white\",\"linecolor\":\"white\",\"ticks\":\"\",\"title\":{\"standoff\":15},\"zerolinecolor\":\"white\",\"zerolinewidth\":2}}},\"title\":{\"text\":\"Distribution of Gender Over Film Run-time\"},\"xaxis\":{\"anchor\":\"y\",\"domain\":[0.0,1.0],\"title\":{\"text\":\"Film length [minutes]\"}},\"yaxis\":{\"anchor\":\"x\",\"domain\":[0.0,1.0],\"title\":{\"text\":\"Number of detected faces\"}}},                        {\"responsive\": true}                    ).then(function(){\n",
       "                            \n",
       "var gd = document.getElementById('f2bf4ada-6ce7-494c-838d-b06e4ad2c68b');\n",
       "var x = new MutationObserver(function (mutations, observer) {{\n",
       "        var display = window.getComputedStyle(gd).display;\n",
       "        if (!display || display === 'none') {{\n",
       "            console.log([gd, 'removed!']);\n",
       "            Plotly.purge(gd);\n",
       "            observer.disconnect();\n",
       "        }}\n",
       "}});\n",
       "\n",
       "// Listen for the removal of the full notebook cells\n",
       "var notebookContainer = gd.closest('#notebook-container');\n",
       "if (notebookContainer) {{\n",
       "    x.observe(notebookContainer, {childList: true});\n",
       "}}\n",
       "\n",
       "// Listen for the clearing of the current output cell\n",
       "var outputEl = gd.closest('.output');\n",
       "if (outputEl) {{\n",
       "    x.observe(outputEl, {childList: true});\n",
       "}}\n",
       "\n",
       "                        })                };                });            </script>        </div>"
      ]
     },
     "metadata": {},
     "output_type": "display_data"
    }
   ],
   "source": [
    "run_time(\"2012 (2009)\", by=\"gender\")"
   ]
  },
  {
   "cell_type": "markdown",
   "id": "ad609a01",
   "metadata": {},
   "source": [
    "## Dashboard"
   ]
  },
  {
   "cell_type": "code",
   "execution_count": 852,
   "id": "32f36b1c",
   "metadata": {},
   "outputs": [],
   "source": [
    "df_one = df_evo.iloc[0:1, :]"
   ]
  },
  {
   "cell_type": "code",
   "execution_count": 853,
   "id": "1edb2f98",
   "metadata": {},
   "outputs": [
    {
     "data": {
      "text/html": [
       "<div>\n",
       "<style scoped>\n",
       "    .dataframe tbody tr th:only-of-type {\n",
       "        vertical-align: middle;\n",
       "    }\n",
       "\n",
       "    .dataframe tbody tr th {\n",
       "        vertical-align: top;\n",
       "    }\n",
       "\n",
       "    .dataframe thead th {\n",
       "        text-align: right;\n",
       "    }\n",
       "</style>\n",
       "<table border=\"1\" class=\"dataframe\">\n",
       "  <thead>\n",
       "    <tr style=\"text-align: right;\">\n",
       "      <th></th>\n",
       "      <th>index</th>\n",
       "      <th>man_screentime</th>\n",
       "      <th>woman_screentime</th>\n",
       "      <th>only_men</th>\n",
       "      <th>only_women</th>\n",
       "      <th>asian_screentime</th>\n",
       "      <th>black_screentime</th>\n",
       "      <th>indian_screentime</th>\n",
       "      <th>latino_hispanic_screentime</th>\n",
       "      <th>middle_eastern_screentime</th>\n",
       "      <th>...</th>\n",
       "      <th>total_indian</th>\n",
       "      <th>total_latino_hispanic</th>\n",
       "      <th>total_middle_eastern</th>\n",
       "      <th>total_white</th>\n",
       "      <th>title</th>\n",
       "      <th>year</th>\n",
       "      <th>revenue</th>\n",
       "      <th>runtime</th>\n",
       "      <th>non_white_count</th>\n",
       "      <th>non_white_count_percent</th>\n",
       "    </tr>\n",
       "  </thead>\n",
       "  <tbody>\n",
       "    <tr>\n",
       "      <th>0</th>\n",
       "      <td>0</td>\n",
       "      <td>94.101509</td>\n",
       "      <td>5.898491</td>\n",
       "      <td>91.47671</td>\n",
       "      <td>5.946482</td>\n",
       "      <td>4.183813</td>\n",
       "      <td>0.411523</td>\n",
       "      <td>2.057613</td>\n",
       "      <td>2.263374</td>\n",
       "      <td>4.595336</td>\n",
       "      <td>...</td>\n",
       "      <td>30.0</td>\n",
       "      <td>33.0</td>\n",
       "      <td>67.0</td>\n",
       "      <td>1261.0</td>\n",
       "      <td>The_Hunchback_of_Notre_Dame_(1923)</td>\n",
       "      <td>1923-01-01</td>\n",
       "      <td>0</td>\n",
       "      <td>113</td>\n",
       "      <td>197.0</td>\n",
       "      <td>0.156225</td>\n",
       "    </tr>\n",
       "  </tbody>\n",
       "</table>\n",
       "<p>1 rows × 34 columns</p>\n",
       "</div>"
      ],
      "text/plain": [
       "   index  man_screentime  woman_screentime  only_men  only_women  \\\n",
       "0      0       94.101509          5.898491  91.47671    5.946482   \n",
       "\n",
       "   asian_screentime  black_screentime  indian_screentime  \\\n",
       "0          4.183813          0.411523           2.057613   \n",
       "\n",
       "   latino_hispanic_screentime  middle_eastern_screentime  ...  total_indian  \\\n",
       "0                    2.263374                   4.595336  ...          30.0   \n",
       "\n",
       "   total_latino_hispanic  total_middle_eastern  total_white  \\\n",
       "0                   33.0                  67.0       1261.0   \n",
       "\n",
       "                                title       year  revenue  runtime  \\\n",
       "0  The_Hunchback_of_Notre_Dame_(1923) 1923-01-01        0      113   \n",
       "\n",
       "   non_white_count  non_white_count_percent  \n",
       "0            197.0                 0.156225  \n",
       "\n",
       "[1 rows x 34 columns]"
      ]
     },
     "execution_count": 853,
     "metadata": {},
     "output_type": "execute_result"
    }
   ],
   "source": [
    "df_one"
   ]
  },
  {
   "cell_type": "code",
   "execution_count": 887,
   "id": "8c65f06b",
   "metadata": {},
   "outputs": [],
   "source": [
    "def only_women_screentime_bar(df):\n",
    "    x = [df['only_women'].values[0], (100-df['only_women'].values[0])]\n",
    "    names = ['Only women present', 'Both women and men present']\n",
    "\n",
    "    fig = px.bar(df,\n",
    "             x=names,\n",
    "             y=x,\n",
    "             labels={\"x\":\"\", \"y\": \"Screentime [%]\"},\n",
    "             color=names)\n",
    "    return fig"
   ]
  },
  {
   "cell_type": "code",
   "execution_count": 889,
   "id": "22197965",
   "metadata": {},
   "outputs": [
    {
     "data": {
      "application/vnd.plotly.v1+json": {
       "config": {
        "plotlyServerURL": "https://plot.ly"
       },
       "data": [
        {
         "alignmentgroup": "True",
         "hovertemplate": "color=Only women present<br>=%{x}<br>Screentime [%]=%{y}<extra></extra>",
         "legendgroup": "Only women present",
         "marker": {
          "color": "#636efa",
          "pattern": {
           "shape": ""
          }
         },
         "name": "Only women present",
         "offsetgroup": "Only women present",
         "orientation": "v",
         "showlegend": true,
         "textposition": "auto",
         "type": "bar",
         "x": [
          "Only women present"
         ],
         "xaxis": "x",
         "y": [
          5.946481665014866
         ],
         "yaxis": "y"
        },
        {
         "alignmentgroup": "True",
         "hovertemplate": "color=Both women and men present<br>=%{x}<br>Screentime [%]=%{y}<extra></extra>",
         "legendgroup": "Both women and men present",
         "marker": {
          "color": "#EF553B",
          "pattern": {
           "shape": ""
          }
         },
         "name": "Both women and men present",
         "offsetgroup": "Both women and men present",
         "orientation": "v",
         "showlegend": true,
         "textposition": "auto",
         "type": "bar",
         "x": [
          "Both women and men present"
         ],
         "xaxis": "x",
         "y": [
          94.05351833498513
         ],
         "yaxis": "y"
        }
       ],
       "layout": {
        "barmode": "relative",
        "legend": {
         "title": {
          "text": "color"
         },
         "tracegroupgap": 0
        },
        "margin": {
         "t": 60
        },
        "template": {
         "data": {
          "bar": [
           {
            "error_x": {
             "color": "#2a3f5f"
            },
            "error_y": {
             "color": "#2a3f5f"
            },
            "marker": {
             "line": {
              "color": "#E5ECF6",
              "width": 0.5
             },
             "pattern": {
              "fillmode": "overlay",
              "size": 10,
              "solidity": 0.2
             }
            },
            "type": "bar"
           }
          ],
          "barpolar": [
           {
            "marker": {
             "line": {
              "color": "#E5ECF6",
              "width": 0.5
             },
             "pattern": {
              "fillmode": "overlay",
              "size": 10,
              "solidity": 0.2
             }
            },
            "type": "barpolar"
           }
          ],
          "carpet": [
           {
            "aaxis": {
             "endlinecolor": "#2a3f5f",
             "gridcolor": "white",
             "linecolor": "white",
             "minorgridcolor": "white",
             "startlinecolor": "#2a3f5f"
            },
            "baxis": {
             "endlinecolor": "#2a3f5f",
             "gridcolor": "white",
             "linecolor": "white",
             "minorgridcolor": "white",
             "startlinecolor": "#2a3f5f"
            },
            "type": "carpet"
           }
          ],
          "choropleth": [
           {
            "colorbar": {
             "outlinewidth": 0,
             "ticks": ""
            },
            "type": "choropleth"
           }
          ],
          "contour": [
           {
            "colorbar": {
             "outlinewidth": 0,
             "ticks": ""
            },
            "colorscale": [
             [
              0,
              "#0d0887"
             ],
             [
              0.1111111111111111,
              "#46039f"
             ],
             [
              0.2222222222222222,
              "#7201a8"
             ],
             [
              0.3333333333333333,
              "#9c179e"
             ],
             [
              0.4444444444444444,
              "#bd3786"
             ],
             [
              0.5555555555555556,
              "#d8576b"
             ],
             [
              0.6666666666666666,
              "#ed7953"
             ],
             [
              0.7777777777777778,
              "#fb9f3a"
             ],
             [
              0.8888888888888888,
              "#fdca26"
             ],
             [
              1,
              "#f0f921"
             ]
            ],
            "type": "contour"
           }
          ],
          "contourcarpet": [
           {
            "colorbar": {
             "outlinewidth": 0,
             "ticks": ""
            },
            "type": "contourcarpet"
           }
          ],
          "heatmap": [
           {
            "colorbar": {
             "outlinewidth": 0,
             "ticks": ""
            },
            "colorscale": [
             [
              0,
              "#0d0887"
             ],
             [
              0.1111111111111111,
              "#46039f"
             ],
             [
              0.2222222222222222,
              "#7201a8"
             ],
             [
              0.3333333333333333,
              "#9c179e"
             ],
             [
              0.4444444444444444,
              "#bd3786"
             ],
             [
              0.5555555555555556,
              "#d8576b"
             ],
             [
              0.6666666666666666,
              "#ed7953"
             ],
             [
              0.7777777777777778,
              "#fb9f3a"
             ],
             [
              0.8888888888888888,
              "#fdca26"
             ],
             [
              1,
              "#f0f921"
             ]
            ],
            "type": "heatmap"
           }
          ],
          "heatmapgl": [
           {
            "colorbar": {
             "outlinewidth": 0,
             "ticks": ""
            },
            "colorscale": [
             [
              0,
              "#0d0887"
             ],
             [
              0.1111111111111111,
              "#46039f"
             ],
             [
              0.2222222222222222,
              "#7201a8"
             ],
             [
              0.3333333333333333,
              "#9c179e"
             ],
             [
              0.4444444444444444,
              "#bd3786"
             ],
             [
              0.5555555555555556,
              "#d8576b"
             ],
             [
              0.6666666666666666,
              "#ed7953"
             ],
             [
              0.7777777777777778,
              "#fb9f3a"
             ],
             [
              0.8888888888888888,
              "#fdca26"
             ],
             [
              1,
              "#f0f921"
             ]
            ],
            "type": "heatmapgl"
           }
          ],
          "histogram": [
           {
            "marker": {
             "pattern": {
              "fillmode": "overlay",
              "size": 10,
              "solidity": 0.2
             }
            },
            "type": "histogram"
           }
          ],
          "histogram2d": [
           {
            "colorbar": {
             "outlinewidth": 0,
             "ticks": ""
            },
            "colorscale": [
             [
              0,
              "#0d0887"
             ],
             [
              0.1111111111111111,
              "#46039f"
             ],
             [
              0.2222222222222222,
              "#7201a8"
             ],
             [
              0.3333333333333333,
              "#9c179e"
             ],
             [
              0.4444444444444444,
              "#bd3786"
             ],
             [
              0.5555555555555556,
              "#d8576b"
             ],
             [
              0.6666666666666666,
              "#ed7953"
             ],
             [
              0.7777777777777778,
              "#fb9f3a"
             ],
             [
              0.8888888888888888,
              "#fdca26"
             ],
             [
              1,
              "#f0f921"
             ]
            ],
            "type": "histogram2d"
           }
          ],
          "histogram2dcontour": [
           {
            "colorbar": {
             "outlinewidth": 0,
             "ticks": ""
            },
            "colorscale": [
             [
              0,
              "#0d0887"
             ],
             [
              0.1111111111111111,
              "#46039f"
             ],
             [
              0.2222222222222222,
              "#7201a8"
             ],
             [
              0.3333333333333333,
              "#9c179e"
             ],
             [
              0.4444444444444444,
              "#bd3786"
             ],
             [
              0.5555555555555556,
              "#d8576b"
             ],
             [
              0.6666666666666666,
              "#ed7953"
             ],
             [
              0.7777777777777778,
              "#fb9f3a"
             ],
             [
              0.8888888888888888,
              "#fdca26"
             ],
             [
              1,
              "#f0f921"
             ]
            ],
            "type": "histogram2dcontour"
           }
          ],
          "mesh3d": [
           {
            "colorbar": {
             "outlinewidth": 0,
             "ticks": ""
            },
            "type": "mesh3d"
           }
          ],
          "parcoords": [
           {
            "line": {
             "colorbar": {
              "outlinewidth": 0,
              "ticks": ""
             }
            },
            "type": "parcoords"
           }
          ],
          "pie": [
           {
            "automargin": true,
            "type": "pie"
           }
          ],
          "scatter": [
           {
            "marker": {
             "colorbar": {
              "outlinewidth": 0,
              "ticks": ""
             }
            },
            "type": "scatter"
           }
          ],
          "scatter3d": [
           {
            "line": {
             "colorbar": {
              "outlinewidth": 0,
              "ticks": ""
             }
            },
            "marker": {
             "colorbar": {
              "outlinewidth": 0,
              "ticks": ""
             }
            },
            "type": "scatter3d"
           }
          ],
          "scattercarpet": [
           {
            "marker": {
             "colorbar": {
              "outlinewidth": 0,
              "ticks": ""
             }
            },
            "type": "scattercarpet"
           }
          ],
          "scattergeo": [
           {
            "marker": {
             "colorbar": {
              "outlinewidth": 0,
              "ticks": ""
             }
            },
            "type": "scattergeo"
           }
          ],
          "scattergl": [
           {
            "marker": {
             "colorbar": {
              "outlinewidth": 0,
              "ticks": ""
             }
            },
            "type": "scattergl"
           }
          ],
          "scattermapbox": [
           {
            "marker": {
             "colorbar": {
              "outlinewidth": 0,
              "ticks": ""
             }
            },
            "type": "scattermapbox"
           }
          ],
          "scatterpolar": [
           {
            "marker": {
             "colorbar": {
              "outlinewidth": 0,
              "ticks": ""
             }
            },
            "type": "scatterpolar"
           }
          ],
          "scatterpolargl": [
           {
            "marker": {
             "colorbar": {
              "outlinewidth": 0,
              "ticks": ""
             }
            },
            "type": "scatterpolargl"
           }
          ],
          "scatterternary": [
           {
            "marker": {
             "colorbar": {
              "outlinewidth": 0,
              "ticks": ""
             }
            },
            "type": "scatterternary"
           }
          ],
          "surface": [
           {
            "colorbar": {
             "outlinewidth": 0,
             "ticks": ""
            },
            "colorscale": [
             [
              0,
              "#0d0887"
             ],
             [
              0.1111111111111111,
              "#46039f"
             ],
             [
              0.2222222222222222,
              "#7201a8"
             ],
             [
              0.3333333333333333,
              "#9c179e"
             ],
             [
              0.4444444444444444,
              "#bd3786"
             ],
             [
              0.5555555555555556,
              "#d8576b"
             ],
             [
              0.6666666666666666,
              "#ed7953"
             ],
             [
              0.7777777777777778,
              "#fb9f3a"
             ],
             [
              0.8888888888888888,
              "#fdca26"
             ],
             [
              1,
              "#f0f921"
             ]
            ],
            "type": "surface"
           }
          ],
          "table": [
           {
            "cells": {
             "fill": {
              "color": "#EBF0F8"
             },
             "line": {
              "color": "white"
             }
            },
            "header": {
             "fill": {
              "color": "#C8D4E3"
             },
             "line": {
              "color": "white"
             }
            },
            "type": "table"
           }
          ]
         },
         "layout": {
          "annotationdefaults": {
           "arrowcolor": "#2a3f5f",
           "arrowhead": 0,
           "arrowwidth": 1
          },
          "autotypenumbers": "strict",
          "coloraxis": {
           "colorbar": {
            "outlinewidth": 0,
            "ticks": ""
           }
          },
          "colorscale": {
           "diverging": [
            [
             0,
             "#8e0152"
            ],
            [
             0.1,
             "#c51b7d"
            ],
            [
             0.2,
             "#de77ae"
            ],
            [
             0.3,
             "#f1b6da"
            ],
            [
             0.4,
             "#fde0ef"
            ],
            [
             0.5,
             "#f7f7f7"
            ],
            [
             0.6,
             "#e6f5d0"
            ],
            [
             0.7,
             "#b8e186"
            ],
            [
             0.8,
             "#7fbc41"
            ],
            [
             0.9,
             "#4d9221"
            ],
            [
             1,
             "#276419"
            ]
           ],
           "sequential": [
            [
             0,
             "#0d0887"
            ],
            [
             0.1111111111111111,
             "#46039f"
            ],
            [
             0.2222222222222222,
             "#7201a8"
            ],
            [
             0.3333333333333333,
             "#9c179e"
            ],
            [
             0.4444444444444444,
             "#bd3786"
            ],
            [
             0.5555555555555556,
             "#d8576b"
            ],
            [
             0.6666666666666666,
             "#ed7953"
            ],
            [
             0.7777777777777778,
             "#fb9f3a"
            ],
            [
             0.8888888888888888,
             "#fdca26"
            ],
            [
             1,
             "#f0f921"
            ]
           ],
           "sequentialminus": [
            [
             0,
             "#0d0887"
            ],
            [
             0.1111111111111111,
             "#46039f"
            ],
            [
             0.2222222222222222,
             "#7201a8"
            ],
            [
             0.3333333333333333,
             "#9c179e"
            ],
            [
             0.4444444444444444,
             "#bd3786"
            ],
            [
             0.5555555555555556,
             "#d8576b"
            ],
            [
             0.6666666666666666,
             "#ed7953"
            ],
            [
             0.7777777777777778,
             "#fb9f3a"
            ],
            [
             0.8888888888888888,
             "#fdca26"
            ],
            [
             1,
             "#f0f921"
            ]
           ]
          },
          "colorway": [
           "#636efa",
           "#EF553B",
           "#00cc96",
           "#ab63fa",
           "#FFA15A",
           "#19d3f3",
           "#FF6692",
           "#B6E880",
           "#FF97FF",
           "#FECB52"
          ],
          "font": {
           "color": "#2a3f5f"
          },
          "geo": {
           "bgcolor": "white",
           "lakecolor": "white",
           "landcolor": "#E5ECF6",
           "showlakes": true,
           "showland": true,
           "subunitcolor": "white"
          },
          "hoverlabel": {
           "align": "left"
          },
          "hovermode": "closest",
          "mapbox": {
           "style": "light"
          },
          "paper_bgcolor": "white",
          "plot_bgcolor": "#E5ECF6",
          "polar": {
           "angularaxis": {
            "gridcolor": "white",
            "linecolor": "white",
            "ticks": ""
           },
           "bgcolor": "#E5ECF6",
           "radialaxis": {
            "gridcolor": "white",
            "linecolor": "white",
            "ticks": ""
           }
          },
          "scene": {
           "xaxis": {
            "backgroundcolor": "#E5ECF6",
            "gridcolor": "white",
            "gridwidth": 2,
            "linecolor": "white",
            "showbackground": true,
            "ticks": "",
            "zerolinecolor": "white"
           },
           "yaxis": {
            "backgroundcolor": "#E5ECF6",
            "gridcolor": "white",
            "gridwidth": 2,
            "linecolor": "white",
            "showbackground": true,
            "ticks": "",
            "zerolinecolor": "white"
           },
           "zaxis": {
            "backgroundcolor": "#E5ECF6",
            "gridcolor": "white",
            "gridwidth": 2,
            "linecolor": "white",
            "showbackground": true,
            "ticks": "",
            "zerolinecolor": "white"
           }
          },
          "shapedefaults": {
           "line": {
            "color": "#2a3f5f"
           }
          },
          "ternary": {
           "aaxis": {
            "gridcolor": "white",
            "linecolor": "white",
            "ticks": ""
           },
           "baxis": {
            "gridcolor": "white",
            "linecolor": "white",
            "ticks": ""
           },
           "bgcolor": "#E5ECF6",
           "caxis": {
            "gridcolor": "white",
            "linecolor": "white",
            "ticks": ""
           }
          },
          "title": {
           "x": 0.05
          },
          "xaxis": {
           "automargin": true,
           "gridcolor": "white",
           "linecolor": "white",
           "ticks": "",
           "title": {
            "standoff": 15
           },
           "zerolinecolor": "white",
           "zerolinewidth": 2
          },
          "yaxis": {
           "automargin": true,
           "gridcolor": "white",
           "linecolor": "white",
           "ticks": "",
           "title": {
            "standoff": 15
           },
           "zerolinecolor": "white",
           "zerolinewidth": 2
          }
         }
        },
        "xaxis": {
         "anchor": "y",
         "domain": [
          0,
          1
         ],
         "title": {
          "text": ""
         }
        },
        "yaxis": {
         "anchor": "x",
         "domain": [
          0,
          1
         ],
         "title": {
          "text": "Screentime [%]"
         }
        }
       }
      },
      "text/html": [
       "<div>                            <div id=\"d9330082-5ed3-4b47-a827-5605c0f73471\" class=\"plotly-graph-div\" style=\"height:525px; width:100%;\"></div>            <script type=\"text/javascript\">                require([\"plotly\"], function(Plotly) {                    window.PLOTLYENV=window.PLOTLYENV || {};                                    if (document.getElementById(\"d9330082-5ed3-4b47-a827-5605c0f73471\")) {                    Plotly.newPlot(                        \"d9330082-5ed3-4b47-a827-5605c0f73471\",                        [{\"alignmentgroup\":\"True\",\"hovertemplate\":\"color=Only women present<br>=%{x}<br>Screentime [%]=%{y}<extra></extra>\",\"legendgroup\":\"Only women present\",\"marker\":{\"color\":\"#636efa\",\"pattern\":{\"shape\":\"\"}},\"name\":\"Only women present\",\"offsetgroup\":\"Only women present\",\"orientation\":\"v\",\"showlegend\":true,\"textposition\":\"auto\",\"type\":\"bar\",\"x\":[\"Only women present\"],\"xaxis\":\"x\",\"y\":[5.946481665014866],\"yaxis\":\"y\"},{\"alignmentgroup\":\"True\",\"hovertemplate\":\"color=Both women and men present<br>=%{x}<br>Screentime [%]=%{y}<extra></extra>\",\"legendgroup\":\"Both women and men present\",\"marker\":{\"color\":\"#EF553B\",\"pattern\":{\"shape\":\"\"}},\"name\":\"Both women and men present\",\"offsetgroup\":\"Both women and men present\",\"orientation\":\"v\",\"showlegend\":true,\"textposition\":\"auto\",\"type\":\"bar\",\"x\":[\"Both women and men present\"],\"xaxis\":\"x\",\"y\":[94.05351833498513],\"yaxis\":\"y\"}],                        {\"barmode\":\"relative\",\"legend\":{\"title\":{\"text\":\"color\"},\"tracegroupgap\":0},\"margin\":{\"t\":60},\"template\":{\"data\":{\"bar\":[{\"error_x\":{\"color\":\"#2a3f5f\"},\"error_y\":{\"color\":\"#2a3f5f\"},\"marker\":{\"line\":{\"color\":\"#E5ECF6\",\"width\":0.5},\"pattern\":{\"fillmode\":\"overlay\",\"size\":10,\"solidity\":0.2}},\"type\":\"bar\"}],\"barpolar\":[{\"marker\":{\"line\":{\"color\":\"#E5ECF6\",\"width\":0.5},\"pattern\":{\"fillmode\":\"overlay\",\"size\":10,\"solidity\":0.2}},\"type\":\"barpolar\"}],\"carpet\":[{\"aaxis\":{\"endlinecolor\":\"#2a3f5f\",\"gridcolor\":\"white\",\"linecolor\":\"white\",\"minorgridcolor\":\"white\",\"startlinecolor\":\"#2a3f5f\"},\"baxis\":{\"endlinecolor\":\"#2a3f5f\",\"gridcolor\":\"white\",\"linecolor\":\"white\",\"minorgridcolor\":\"white\",\"startlinecolor\":\"#2a3f5f\"},\"type\":\"carpet\"}],\"choropleth\":[{\"colorbar\":{\"outlinewidth\":0,\"ticks\":\"\"},\"type\":\"choropleth\"}],\"contour\":[{\"colorbar\":{\"outlinewidth\":0,\"ticks\":\"\"},\"colorscale\":[[0.0,\"#0d0887\"],[0.1111111111111111,\"#46039f\"],[0.2222222222222222,\"#7201a8\"],[0.3333333333333333,\"#9c179e\"],[0.4444444444444444,\"#bd3786\"],[0.5555555555555556,\"#d8576b\"],[0.6666666666666666,\"#ed7953\"],[0.7777777777777778,\"#fb9f3a\"],[0.8888888888888888,\"#fdca26\"],[1.0,\"#f0f921\"]],\"type\":\"contour\"}],\"contourcarpet\":[{\"colorbar\":{\"outlinewidth\":0,\"ticks\":\"\"},\"type\":\"contourcarpet\"}],\"heatmap\":[{\"colorbar\":{\"outlinewidth\":0,\"ticks\":\"\"},\"colorscale\":[[0.0,\"#0d0887\"],[0.1111111111111111,\"#46039f\"],[0.2222222222222222,\"#7201a8\"],[0.3333333333333333,\"#9c179e\"],[0.4444444444444444,\"#bd3786\"],[0.5555555555555556,\"#d8576b\"],[0.6666666666666666,\"#ed7953\"],[0.7777777777777778,\"#fb9f3a\"],[0.8888888888888888,\"#fdca26\"],[1.0,\"#f0f921\"]],\"type\":\"heatmap\"}],\"heatmapgl\":[{\"colorbar\":{\"outlinewidth\":0,\"ticks\":\"\"},\"colorscale\":[[0.0,\"#0d0887\"],[0.1111111111111111,\"#46039f\"],[0.2222222222222222,\"#7201a8\"],[0.3333333333333333,\"#9c179e\"],[0.4444444444444444,\"#bd3786\"],[0.5555555555555556,\"#d8576b\"],[0.6666666666666666,\"#ed7953\"],[0.7777777777777778,\"#fb9f3a\"],[0.8888888888888888,\"#fdca26\"],[1.0,\"#f0f921\"]],\"type\":\"heatmapgl\"}],\"histogram\":[{\"marker\":{\"pattern\":{\"fillmode\":\"overlay\",\"size\":10,\"solidity\":0.2}},\"type\":\"histogram\"}],\"histogram2d\":[{\"colorbar\":{\"outlinewidth\":0,\"ticks\":\"\"},\"colorscale\":[[0.0,\"#0d0887\"],[0.1111111111111111,\"#46039f\"],[0.2222222222222222,\"#7201a8\"],[0.3333333333333333,\"#9c179e\"],[0.4444444444444444,\"#bd3786\"],[0.5555555555555556,\"#d8576b\"],[0.6666666666666666,\"#ed7953\"],[0.7777777777777778,\"#fb9f3a\"],[0.8888888888888888,\"#fdca26\"],[1.0,\"#f0f921\"]],\"type\":\"histogram2d\"}],\"histogram2dcontour\":[{\"colorbar\":{\"outlinewidth\":0,\"ticks\":\"\"},\"colorscale\":[[0.0,\"#0d0887\"],[0.1111111111111111,\"#46039f\"],[0.2222222222222222,\"#7201a8\"],[0.3333333333333333,\"#9c179e\"],[0.4444444444444444,\"#bd3786\"],[0.5555555555555556,\"#d8576b\"],[0.6666666666666666,\"#ed7953\"],[0.7777777777777778,\"#fb9f3a\"],[0.8888888888888888,\"#fdca26\"],[1.0,\"#f0f921\"]],\"type\":\"histogram2dcontour\"}],\"mesh3d\":[{\"colorbar\":{\"outlinewidth\":0,\"ticks\":\"\"},\"type\":\"mesh3d\"}],\"parcoords\":[{\"line\":{\"colorbar\":{\"outlinewidth\":0,\"ticks\":\"\"}},\"type\":\"parcoords\"}],\"pie\":[{\"automargin\":true,\"type\":\"pie\"}],\"scatter\":[{\"marker\":{\"colorbar\":{\"outlinewidth\":0,\"ticks\":\"\"}},\"type\":\"scatter\"}],\"scatter3d\":[{\"line\":{\"colorbar\":{\"outlinewidth\":0,\"ticks\":\"\"}},\"marker\":{\"colorbar\":{\"outlinewidth\":0,\"ticks\":\"\"}},\"type\":\"scatter3d\"}],\"scattercarpet\":[{\"marker\":{\"colorbar\":{\"outlinewidth\":0,\"ticks\":\"\"}},\"type\":\"scattercarpet\"}],\"scattergeo\":[{\"marker\":{\"colorbar\":{\"outlinewidth\":0,\"ticks\":\"\"}},\"type\":\"scattergeo\"}],\"scattergl\":[{\"marker\":{\"colorbar\":{\"outlinewidth\":0,\"ticks\":\"\"}},\"type\":\"scattergl\"}],\"scattermapbox\":[{\"marker\":{\"colorbar\":{\"outlinewidth\":0,\"ticks\":\"\"}},\"type\":\"scattermapbox\"}],\"scatterpolar\":[{\"marker\":{\"colorbar\":{\"outlinewidth\":0,\"ticks\":\"\"}},\"type\":\"scatterpolar\"}],\"scatterpolargl\":[{\"marker\":{\"colorbar\":{\"outlinewidth\":0,\"ticks\":\"\"}},\"type\":\"scatterpolargl\"}],\"scatterternary\":[{\"marker\":{\"colorbar\":{\"outlinewidth\":0,\"ticks\":\"\"}},\"type\":\"scatterternary\"}],\"surface\":[{\"colorbar\":{\"outlinewidth\":0,\"ticks\":\"\"},\"colorscale\":[[0.0,\"#0d0887\"],[0.1111111111111111,\"#46039f\"],[0.2222222222222222,\"#7201a8\"],[0.3333333333333333,\"#9c179e\"],[0.4444444444444444,\"#bd3786\"],[0.5555555555555556,\"#d8576b\"],[0.6666666666666666,\"#ed7953\"],[0.7777777777777778,\"#fb9f3a\"],[0.8888888888888888,\"#fdca26\"],[1.0,\"#f0f921\"]],\"type\":\"surface\"}],\"table\":[{\"cells\":{\"fill\":{\"color\":\"#EBF0F8\"},\"line\":{\"color\":\"white\"}},\"header\":{\"fill\":{\"color\":\"#C8D4E3\"},\"line\":{\"color\":\"white\"}},\"type\":\"table\"}]},\"layout\":{\"annotationdefaults\":{\"arrowcolor\":\"#2a3f5f\",\"arrowhead\":0,\"arrowwidth\":1},\"autotypenumbers\":\"strict\",\"coloraxis\":{\"colorbar\":{\"outlinewidth\":0,\"ticks\":\"\"}},\"colorscale\":{\"diverging\":[[0,\"#8e0152\"],[0.1,\"#c51b7d\"],[0.2,\"#de77ae\"],[0.3,\"#f1b6da\"],[0.4,\"#fde0ef\"],[0.5,\"#f7f7f7\"],[0.6,\"#e6f5d0\"],[0.7,\"#b8e186\"],[0.8,\"#7fbc41\"],[0.9,\"#4d9221\"],[1,\"#276419\"]],\"sequential\":[[0.0,\"#0d0887\"],[0.1111111111111111,\"#46039f\"],[0.2222222222222222,\"#7201a8\"],[0.3333333333333333,\"#9c179e\"],[0.4444444444444444,\"#bd3786\"],[0.5555555555555556,\"#d8576b\"],[0.6666666666666666,\"#ed7953\"],[0.7777777777777778,\"#fb9f3a\"],[0.8888888888888888,\"#fdca26\"],[1.0,\"#f0f921\"]],\"sequentialminus\":[[0.0,\"#0d0887\"],[0.1111111111111111,\"#46039f\"],[0.2222222222222222,\"#7201a8\"],[0.3333333333333333,\"#9c179e\"],[0.4444444444444444,\"#bd3786\"],[0.5555555555555556,\"#d8576b\"],[0.6666666666666666,\"#ed7953\"],[0.7777777777777778,\"#fb9f3a\"],[0.8888888888888888,\"#fdca26\"],[1.0,\"#f0f921\"]]},\"colorway\":[\"#636efa\",\"#EF553B\",\"#00cc96\",\"#ab63fa\",\"#FFA15A\",\"#19d3f3\",\"#FF6692\",\"#B6E880\",\"#FF97FF\",\"#FECB52\"],\"font\":{\"color\":\"#2a3f5f\"},\"geo\":{\"bgcolor\":\"white\",\"lakecolor\":\"white\",\"landcolor\":\"#E5ECF6\",\"showlakes\":true,\"showland\":true,\"subunitcolor\":\"white\"},\"hoverlabel\":{\"align\":\"left\"},\"hovermode\":\"closest\",\"mapbox\":{\"style\":\"light\"},\"paper_bgcolor\":\"white\",\"plot_bgcolor\":\"#E5ECF6\",\"polar\":{\"angularaxis\":{\"gridcolor\":\"white\",\"linecolor\":\"white\",\"ticks\":\"\"},\"bgcolor\":\"#E5ECF6\",\"radialaxis\":{\"gridcolor\":\"white\",\"linecolor\":\"white\",\"ticks\":\"\"}},\"scene\":{\"xaxis\":{\"backgroundcolor\":\"#E5ECF6\",\"gridcolor\":\"white\",\"gridwidth\":2,\"linecolor\":\"white\",\"showbackground\":true,\"ticks\":\"\",\"zerolinecolor\":\"white\"},\"yaxis\":{\"backgroundcolor\":\"#E5ECF6\",\"gridcolor\":\"white\",\"gridwidth\":2,\"linecolor\":\"white\",\"showbackground\":true,\"ticks\":\"\",\"zerolinecolor\":\"white\"},\"zaxis\":{\"backgroundcolor\":\"#E5ECF6\",\"gridcolor\":\"white\",\"gridwidth\":2,\"linecolor\":\"white\",\"showbackground\":true,\"ticks\":\"\",\"zerolinecolor\":\"white\"}},\"shapedefaults\":{\"line\":{\"color\":\"#2a3f5f\"}},\"ternary\":{\"aaxis\":{\"gridcolor\":\"white\",\"linecolor\":\"white\",\"ticks\":\"\"},\"baxis\":{\"gridcolor\":\"white\",\"linecolor\":\"white\",\"ticks\":\"\"},\"bgcolor\":\"#E5ECF6\",\"caxis\":{\"gridcolor\":\"white\",\"linecolor\":\"white\",\"ticks\":\"\"}},\"title\":{\"x\":0.05},\"xaxis\":{\"automargin\":true,\"gridcolor\":\"white\",\"linecolor\":\"white\",\"ticks\":\"\",\"title\":{\"standoff\":15},\"zerolinecolor\":\"white\",\"zerolinewidth\":2},\"yaxis\":{\"automargin\":true,\"gridcolor\":\"white\",\"linecolor\":\"white\",\"ticks\":\"\",\"title\":{\"standoff\":15},\"zerolinecolor\":\"white\",\"zerolinewidth\":2}}},\"xaxis\":{\"anchor\":\"y\",\"domain\":[0.0,1.0],\"title\":{\"text\":\"\"}},\"yaxis\":{\"anchor\":\"x\",\"domain\":[0.0,1.0],\"title\":{\"text\":\"Screentime [%]\"}}},                        {\"responsive\": true}                    ).then(function(){\n",
       "                            \n",
       "var gd = document.getElementById('d9330082-5ed3-4b47-a827-5605c0f73471');\n",
       "var x = new MutationObserver(function (mutations, observer) {{\n",
       "        var display = window.getComputedStyle(gd).display;\n",
       "        if (!display || display === 'none') {{\n",
       "            console.log([gd, 'removed!']);\n",
       "            Plotly.purge(gd);\n",
       "            observer.disconnect();\n",
       "        }}\n",
       "}});\n",
       "\n",
       "// Listen for the removal of the full notebook cells\n",
       "var notebookContainer = gd.closest('#notebook-container');\n",
       "if (notebookContainer) {{\n",
       "    x.observe(notebookContainer, {childList: true});\n",
       "}}\n",
       "\n",
       "// Listen for the clearing of the current output cell\n",
       "var outputEl = gd.closest('.output');\n",
       "if (outputEl) {{\n",
       "    x.observe(outputEl, {childList: true});\n",
       "}}\n",
       "\n",
       "                        })                };                });            </script>        </div>"
      ]
     },
     "metadata": {},
     "output_type": "display_data"
    }
   ],
   "source": [
    "only_women_screentime_bar(df_one)"
   ]
  },
  {
   "cell_type": "code",
   "execution_count": 886,
   "id": "1bee4778",
   "metadata": {},
   "outputs": [
    {
     "data": {
      "application/vnd.plotly.v1+json": {
       "config": {
        "plotlyServerURL": "https://plot.ly"
       },
       "data": [
        {
         "alignmentgroup": "True",
         "hovertemplate": "color=Only men present<br>=%{x}<br>Screentime [%]=%{y}<extra></extra>",
         "legendgroup": "Only men present",
         "marker": {
          "color": "#636efa",
          "pattern": {
           "shape": ""
          }
         },
         "name": "Only men present",
         "offsetgroup": "Only men present",
         "orientation": "v",
         "showlegend": true,
         "textposition": "auto",
         "type": "bar",
         "x": [
          "Only men present"
         ],
         "xaxis": "x",
         "y": [
          91.47670961347868
         ],
         "yaxis": "y"
        },
        {
         "alignmentgroup": "True",
         "hovertemplate": "color=Both men and women present<br>=%{x}<br>Screentime [%]=%{y}<extra></extra>",
         "legendgroup": "Both men and women present",
         "marker": {
          "color": "#EF553B",
          "pattern": {
           "shape": ""
          }
         },
         "name": "Both men and women present",
         "offsetgroup": "Both men and women present",
         "orientation": "v",
         "showlegend": true,
         "textposition": "auto",
         "type": "bar",
         "x": [
          "Both men and women present"
         ],
         "xaxis": "x",
         "y": [
          8.523290386521325
         ],
         "yaxis": "y"
        }
       ],
       "layout": {
        "barmode": "relative",
        "legend": {
         "title": {
          "text": "color"
         },
         "tracegroupgap": 0
        },
        "margin": {
         "t": 60
        },
        "template": {
         "data": {
          "bar": [
           {
            "error_x": {
             "color": "#2a3f5f"
            },
            "error_y": {
             "color": "#2a3f5f"
            },
            "marker": {
             "line": {
              "color": "#E5ECF6",
              "width": 0.5
             },
             "pattern": {
              "fillmode": "overlay",
              "size": 10,
              "solidity": 0.2
             }
            },
            "type": "bar"
           }
          ],
          "barpolar": [
           {
            "marker": {
             "line": {
              "color": "#E5ECF6",
              "width": 0.5
             },
             "pattern": {
              "fillmode": "overlay",
              "size": 10,
              "solidity": 0.2
             }
            },
            "type": "barpolar"
           }
          ],
          "carpet": [
           {
            "aaxis": {
             "endlinecolor": "#2a3f5f",
             "gridcolor": "white",
             "linecolor": "white",
             "minorgridcolor": "white",
             "startlinecolor": "#2a3f5f"
            },
            "baxis": {
             "endlinecolor": "#2a3f5f",
             "gridcolor": "white",
             "linecolor": "white",
             "minorgridcolor": "white",
             "startlinecolor": "#2a3f5f"
            },
            "type": "carpet"
           }
          ],
          "choropleth": [
           {
            "colorbar": {
             "outlinewidth": 0,
             "ticks": ""
            },
            "type": "choropleth"
           }
          ],
          "contour": [
           {
            "colorbar": {
             "outlinewidth": 0,
             "ticks": ""
            },
            "colorscale": [
             [
              0,
              "#0d0887"
             ],
             [
              0.1111111111111111,
              "#46039f"
             ],
             [
              0.2222222222222222,
              "#7201a8"
             ],
             [
              0.3333333333333333,
              "#9c179e"
             ],
             [
              0.4444444444444444,
              "#bd3786"
             ],
             [
              0.5555555555555556,
              "#d8576b"
             ],
             [
              0.6666666666666666,
              "#ed7953"
             ],
             [
              0.7777777777777778,
              "#fb9f3a"
             ],
             [
              0.8888888888888888,
              "#fdca26"
             ],
             [
              1,
              "#f0f921"
             ]
            ],
            "type": "contour"
           }
          ],
          "contourcarpet": [
           {
            "colorbar": {
             "outlinewidth": 0,
             "ticks": ""
            },
            "type": "contourcarpet"
           }
          ],
          "heatmap": [
           {
            "colorbar": {
             "outlinewidth": 0,
             "ticks": ""
            },
            "colorscale": [
             [
              0,
              "#0d0887"
             ],
             [
              0.1111111111111111,
              "#46039f"
             ],
             [
              0.2222222222222222,
              "#7201a8"
             ],
             [
              0.3333333333333333,
              "#9c179e"
             ],
             [
              0.4444444444444444,
              "#bd3786"
             ],
             [
              0.5555555555555556,
              "#d8576b"
             ],
             [
              0.6666666666666666,
              "#ed7953"
             ],
             [
              0.7777777777777778,
              "#fb9f3a"
             ],
             [
              0.8888888888888888,
              "#fdca26"
             ],
             [
              1,
              "#f0f921"
             ]
            ],
            "type": "heatmap"
           }
          ],
          "heatmapgl": [
           {
            "colorbar": {
             "outlinewidth": 0,
             "ticks": ""
            },
            "colorscale": [
             [
              0,
              "#0d0887"
             ],
             [
              0.1111111111111111,
              "#46039f"
             ],
             [
              0.2222222222222222,
              "#7201a8"
             ],
             [
              0.3333333333333333,
              "#9c179e"
             ],
             [
              0.4444444444444444,
              "#bd3786"
             ],
             [
              0.5555555555555556,
              "#d8576b"
             ],
             [
              0.6666666666666666,
              "#ed7953"
             ],
             [
              0.7777777777777778,
              "#fb9f3a"
             ],
             [
              0.8888888888888888,
              "#fdca26"
             ],
             [
              1,
              "#f0f921"
             ]
            ],
            "type": "heatmapgl"
           }
          ],
          "histogram": [
           {
            "marker": {
             "pattern": {
              "fillmode": "overlay",
              "size": 10,
              "solidity": 0.2
             }
            },
            "type": "histogram"
           }
          ],
          "histogram2d": [
           {
            "colorbar": {
             "outlinewidth": 0,
             "ticks": ""
            },
            "colorscale": [
             [
              0,
              "#0d0887"
             ],
             [
              0.1111111111111111,
              "#46039f"
             ],
             [
              0.2222222222222222,
              "#7201a8"
             ],
             [
              0.3333333333333333,
              "#9c179e"
             ],
             [
              0.4444444444444444,
              "#bd3786"
             ],
             [
              0.5555555555555556,
              "#d8576b"
             ],
             [
              0.6666666666666666,
              "#ed7953"
             ],
             [
              0.7777777777777778,
              "#fb9f3a"
             ],
             [
              0.8888888888888888,
              "#fdca26"
             ],
             [
              1,
              "#f0f921"
             ]
            ],
            "type": "histogram2d"
           }
          ],
          "histogram2dcontour": [
           {
            "colorbar": {
             "outlinewidth": 0,
             "ticks": ""
            },
            "colorscale": [
             [
              0,
              "#0d0887"
             ],
             [
              0.1111111111111111,
              "#46039f"
             ],
             [
              0.2222222222222222,
              "#7201a8"
             ],
             [
              0.3333333333333333,
              "#9c179e"
             ],
             [
              0.4444444444444444,
              "#bd3786"
             ],
             [
              0.5555555555555556,
              "#d8576b"
             ],
             [
              0.6666666666666666,
              "#ed7953"
             ],
             [
              0.7777777777777778,
              "#fb9f3a"
             ],
             [
              0.8888888888888888,
              "#fdca26"
             ],
             [
              1,
              "#f0f921"
             ]
            ],
            "type": "histogram2dcontour"
           }
          ],
          "mesh3d": [
           {
            "colorbar": {
             "outlinewidth": 0,
             "ticks": ""
            },
            "type": "mesh3d"
           }
          ],
          "parcoords": [
           {
            "line": {
             "colorbar": {
              "outlinewidth": 0,
              "ticks": ""
             }
            },
            "type": "parcoords"
           }
          ],
          "pie": [
           {
            "automargin": true,
            "type": "pie"
           }
          ],
          "scatter": [
           {
            "marker": {
             "colorbar": {
              "outlinewidth": 0,
              "ticks": ""
             }
            },
            "type": "scatter"
           }
          ],
          "scatter3d": [
           {
            "line": {
             "colorbar": {
              "outlinewidth": 0,
              "ticks": ""
             }
            },
            "marker": {
             "colorbar": {
              "outlinewidth": 0,
              "ticks": ""
             }
            },
            "type": "scatter3d"
           }
          ],
          "scattercarpet": [
           {
            "marker": {
             "colorbar": {
              "outlinewidth": 0,
              "ticks": ""
             }
            },
            "type": "scattercarpet"
           }
          ],
          "scattergeo": [
           {
            "marker": {
             "colorbar": {
              "outlinewidth": 0,
              "ticks": ""
             }
            },
            "type": "scattergeo"
           }
          ],
          "scattergl": [
           {
            "marker": {
             "colorbar": {
              "outlinewidth": 0,
              "ticks": ""
             }
            },
            "type": "scattergl"
           }
          ],
          "scattermapbox": [
           {
            "marker": {
             "colorbar": {
              "outlinewidth": 0,
              "ticks": ""
             }
            },
            "type": "scattermapbox"
           }
          ],
          "scatterpolar": [
           {
            "marker": {
             "colorbar": {
              "outlinewidth": 0,
              "ticks": ""
             }
            },
            "type": "scatterpolar"
           }
          ],
          "scatterpolargl": [
           {
            "marker": {
             "colorbar": {
              "outlinewidth": 0,
              "ticks": ""
             }
            },
            "type": "scatterpolargl"
           }
          ],
          "scatterternary": [
           {
            "marker": {
             "colorbar": {
              "outlinewidth": 0,
              "ticks": ""
             }
            },
            "type": "scatterternary"
           }
          ],
          "surface": [
           {
            "colorbar": {
             "outlinewidth": 0,
             "ticks": ""
            },
            "colorscale": [
             [
              0,
              "#0d0887"
             ],
             [
              0.1111111111111111,
              "#46039f"
             ],
             [
              0.2222222222222222,
              "#7201a8"
             ],
             [
              0.3333333333333333,
              "#9c179e"
             ],
             [
              0.4444444444444444,
              "#bd3786"
             ],
             [
              0.5555555555555556,
              "#d8576b"
             ],
             [
              0.6666666666666666,
              "#ed7953"
             ],
             [
              0.7777777777777778,
              "#fb9f3a"
             ],
             [
              0.8888888888888888,
              "#fdca26"
             ],
             [
              1,
              "#f0f921"
             ]
            ],
            "type": "surface"
           }
          ],
          "table": [
           {
            "cells": {
             "fill": {
              "color": "#EBF0F8"
             },
             "line": {
              "color": "white"
             }
            },
            "header": {
             "fill": {
              "color": "#C8D4E3"
             },
             "line": {
              "color": "white"
             }
            },
            "type": "table"
           }
          ]
         },
         "layout": {
          "annotationdefaults": {
           "arrowcolor": "#2a3f5f",
           "arrowhead": 0,
           "arrowwidth": 1
          },
          "autotypenumbers": "strict",
          "coloraxis": {
           "colorbar": {
            "outlinewidth": 0,
            "ticks": ""
           }
          },
          "colorscale": {
           "diverging": [
            [
             0,
             "#8e0152"
            ],
            [
             0.1,
             "#c51b7d"
            ],
            [
             0.2,
             "#de77ae"
            ],
            [
             0.3,
             "#f1b6da"
            ],
            [
             0.4,
             "#fde0ef"
            ],
            [
             0.5,
             "#f7f7f7"
            ],
            [
             0.6,
             "#e6f5d0"
            ],
            [
             0.7,
             "#b8e186"
            ],
            [
             0.8,
             "#7fbc41"
            ],
            [
             0.9,
             "#4d9221"
            ],
            [
             1,
             "#276419"
            ]
           ],
           "sequential": [
            [
             0,
             "#0d0887"
            ],
            [
             0.1111111111111111,
             "#46039f"
            ],
            [
             0.2222222222222222,
             "#7201a8"
            ],
            [
             0.3333333333333333,
             "#9c179e"
            ],
            [
             0.4444444444444444,
             "#bd3786"
            ],
            [
             0.5555555555555556,
             "#d8576b"
            ],
            [
             0.6666666666666666,
             "#ed7953"
            ],
            [
             0.7777777777777778,
             "#fb9f3a"
            ],
            [
             0.8888888888888888,
             "#fdca26"
            ],
            [
             1,
             "#f0f921"
            ]
           ],
           "sequentialminus": [
            [
             0,
             "#0d0887"
            ],
            [
             0.1111111111111111,
             "#46039f"
            ],
            [
             0.2222222222222222,
             "#7201a8"
            ],
            [
             0.3333333333333333,
             "#9c179e"
            ],
            [
             0.4444444444444444,
             "#bd3786"
            ],
            [
             0.5555555555555556,
             "#d8576b"
            ],
            [
             0.6666666666666666,
             "#ed7953"
            ],
            [
             0.7777777777777778,
             "#fb9f3a"
            ],
            [
             0.8888888888888888,
             "#fdca26"
            ],
            [
             1,
             "#f0f921"
            ]
           ]
          },
          "colorway": [
           "#636efa",
           "#EF553B",
           "#00cc96",
           "#ab63fa",
           "#FFA15A",
           "#19d3f3",
           "#FF6692",
           "#B6E880",
           "#FF97FF",
           "#FECB52"
          ],
          "font": {
           "color": "#2a3f5f"
          },
          "geo": {
           "bgcolor": "white",
           "lakecolor": "white",
           "landcolor": "#E5ECF6",
           "showlakes": true,
           "showland": true,
           "subunitcolor": "white"
          },
          "hoverlabel": {
           "align": "left"
          },
          "hovermode": "closest",
          "mapbox": {
           "style": "light"
          },
          "paper_bgcolor": "white",
          "plot_bgcolor": "#E5ECF6",
          "polar": {
           "angularaxis": {
            "gridcolor": "white",
            "linecolor": "white",
            "ticks": ""
           },
           "bgcolor": "#E5ECF6",
           "radialaxis": {
            "gridcolor": "white",
            "linecolor": "white",
            "ticks": ""
           }
          },
          "scene": {
           "xaxis": {
            "backgroundcolor": "#E5ECF6",
            "gridcolor": "white",
            "gridwidth": 2,
            "linecolor": "white",
            "showbackground": true,
            "ticks": "",
            "zerolinecolor": "white"
           },
           "yaxis": {
            "backgroundcolor": "#E5ECF6",
            "gridcolor": "white",
            "gridwidth": 2,
            "linecolor": "white",
            "showbackground": true,
            "ticks": "",
            "zerolinecolor": "white"
           },
           "zaxis": {
            "backgroundcolor": "#E5ECF6",
            "gridcolor": "white",
            "gridwidth": 2,
            "linecolor": "white",
            "showbackground": true,
            "ticks": "",
            "zerolinecolor": "white"
           }
          },
          "shapedefaults": {
           "line": {
            "color": "#2a3f5f"
           }
          },
          "ternary": {
           "aaxis": {
            "gridcolor": "white",
            "linecolor": "white",
            "ticks": ""
           },
           "baxis": {
            "gridcolor": "white",
            "linecolor": "white",
            "ticks": ""
           },
           "bgcolor": "#E5ECF6",
           "caxis": {
            "gridcolor": "white",
            "linecolor": "white",
            "ticks": ""
           }
          },
          "title": {
           "x": 0.05
          },
          "xaxis": {
           "automargin": true,
           "gridcolor": "white",
           "linecolor": "white",
           "ticks": "",
           "title": {
            "standoff": 15
           },
           "zerolinecolor": "white",
           "zerolinewidth": 2
          },
          "yaxis": {
           "automargin": true,
           "gridcolor": "white",
           "linecolor": "white",
           "ticks": "",
           "title": {
            "standoff": 15
           },
           "zerolinecolor": "white",
           "zerolinewidth": 2
          }
         }
        },
        "xaxis": {
         "anchor": "y",
         "domain": [
          0,
          1
         ],
         "title": {
          "text": ""
         }
        },
        "yaxis": {
         "anchor": "x",
         "domain": [
          0,
          1
         ],
         "title": {
          "text": "Screentime [%]"
         }
        }
       }
      },
      "text/html": [
       "<div>                            <div id=\"260eac52-4c61-4e88-9313-4749887264a4\" class=\"plotly-graph-div\" style=\"height:525px; width:100%;\"></div>            <script type=\"text/javascript\">                require([\"plotly\"], function(Plotly) {                    window.PLOTLYENV=window.PLOTLYENV || {};                                    if (document.getElementById(\"260eac52-4c61-4e88-9313-4749887264a4\")) {                    Plotly.newPlot(                        \"260eac52-4c61-4e88-9313-4749887264a4\",                        [{\"alignmentgroup\":\"True\",\"hovertemplate\":\"color=Only men present<br>=%{x}<br>Screentime [%]=%{y}<extra></extra>\",\"legendgroup\":\"Only men present\",\"marker\":{\"color\":\"#636efa\",\"pattern\":{\"shape\":\"\"}},\"name\":\"Only men present\",\"offsetgroup\":\"Only men present\",\"orientation\":\"v\",\"showlegend\":true,\"textposition\":\"auto\",\"type\":\"bar\",\"x\":[\"Only men present\"],\"xaxis\":\"x\",\"y\":[91.47670961347868],\"yaxis\":\"y\"},{\"alignmentgroup\":\"True\",\"hovertemplate\":\"color=Both men and women present<br>=%{x}<br>Screentime [%]=%{y}<extra></extra>\",\"legendgroup\":\"Both men and women present\",\"marker\":{\"color\":\"#EF553B\",\"pattern\":{\"shape\":\"\"}},\"name\":\"Both men and women present\",\"offsetgroup\":\"Both men and women present\",\"orientation\":\"v\",\"showlegend\":true,\"textposition\":\"auto\",\"type\":\"bar\",\"x\":[\"Both men and women present\"],\"xaxis\":\"x\",\"y\":[8.523290386521325],\"yaxis\":\"y\"}],                        {\"barmode\":\"relative\",\"legend\":{\"title\":{\"text\":\"color\"},\"tracegroupgap\":0},\"margin\":{\"t\":60},\"template\":{\"data\":{\"bar\":[{\"error_x\":{\"color\":\"#2a3f5f\"},\"error_y\":{\"color\":\"#2a3f5f\"},\"marker\":{\"line\":{\"color\":\"#E5ECF6\",\"width\":0.5},\"pattern\":{\"fillmode\":\"overlay\",\"size\":10,\"solidity\":0.2}},\"type\":\"bar\"}],\"barpolar\":[{\"marker\":{\"line\":{\"color\":\"#E5ECF6\",\"width\":0.5},\"pattern\":{\"fillmode\":\"overlay\",\"size\":10,\"solidity\":0.2}},\"type\":\"barpolar\"}],\"carpet\":[{\"aaxis\":{\"endlinecolor\":\"#2a3f5f\",\"gridcolor\":\"white\",\"linecolor\":\"white\",\"minorgridcolor\":\"white\",\"startlinecolor\":\"#2a3f5f\"},\"baxis\":{\"endlinecolor\":\"#2a3f5f\",\"gridcolor\":\"white\",\"linecolor\":\"white\",\"minorgridcolor\":\"white\",\"startlinecolor\":\"#2a3f5f\"},\"type\":\"carpet\"}],\"choropleth\":[{\"colorbar\":{\"outlinewidth\":0,\"ticks\":\"\"},\"type\":\"choropleth\"}],\"contour\":[{\"colorbar\":{\"outlinewidth\":0,\"ticks\":\"\"},\"colorscale\":[[0.0,\"#0d0887\"],[0.1111111111111111,\"#46039f\"],[0.2222222222222222,\"#7201a8\"],[0.3333333333333333,\"#9c179e\"],[0.4444444444444444,\"#bd3786\"],[0.5555555555555556,\"#d8576b\"],[0.6666666666666666,\"#ed7953\"],[0.7777777777777778,\"#fb9f3a\"],[0.8888888888888888,\"#fdca26\"],[1.0,\"#f0f921\"]],\"type\":\"contour\"}],\"contourcarpet\":[{\"colorbar\":{\"outlinewidth\":0,\"ticks\":\"\"},\"type\":\"contourcarpet\"}],\"heatmap\":[{\"colorbar\":{\"outlinewidth\":0,\"ticks\":\"\"},\"colorscale\":[[0.0,\"#0d0887\"],[0.1111111111111111,\"#46039f\"],[0.2222222222222222,\"#7201a8\"],[0.3333333333333333,\"#9c179e\"],[0.4444444444444444,\"#bd3786\"],[0.5555555555555556,\"#d8576b\"],[0.6666666666666666,\"#ed7953\"],[0.7777777777777778,\"#fb9f3a\"],[0.8888888888888888,\"#fdca26\"],[1.0,\"#f0f921\"]],\"type\":\"heatmap\"}],\"heatmapgl\":[{\"colorbar\":{\"outlinewidth\":0,\"ticks\":\"\"},\"colorscale\":[[0.0,\"#0d0887\"],[0.1111111111111111,\"#46039f\"],[0.2222222222222222,\"#7201a8\"],[0.3333333333333333,\"#9c179e\"],[0.4444444444444444,\"#bd3786\"],[0.5555555555555556,\"#d8576b\"],[0.6666666666666666,\"#ed7953\"],[0.7777777777777778,\"#fb9f3a\"],[0.8888888888888888,\"#fdca26\"],[1.0,\"#f0f921\"]],\"type\":\"heatmapgl\"}],\"histogram\":[{\"marker\":{\"pattern\":{\"fillmode\":\"overlay\",\"size\":10,\"solidity\":0.2}},\"type\":\"histogram\"}],\"histogram2d\":[{\"colorbar\":{\"outlinewidth\":0,\"ticks\":\"\"},\"colorscale\":[[0.0,\"#0d0887\"],[0.1111111111111111,\"#46039f\"],[0.2222222222222222,\"#7201a8\"],[0.3333333333333333,\"#9c179e\"],[0.4444444444444444,\"#bd3786\"],[0.5555555555555556,\"#d8576b\"],[0.6666666666666666,\"#ed7953\"],[0.7777777777777778,\"#fb9f3a\"],[0.8888888888888888,\"#fdca26\"],[1.0,\"#f0f921\"]],\"type\":\"histogram2d\"}],\"histogram2dcontour\":[{\"colorbar\":{\"outlinewidth\":0,\"ticks\":\"\"},\"colorscale\":[[0.0,\"#0d0887\"],[0.1111111111111111,\"#46039f\"],[0.2222222222222222,\"#7201a8\"],[0.3333333333333333,\"#9c179e\"],[0.4444444444444444,\"#bd3786\"],[0.5555555555555556,\"#d8576b\"],[0.6666666666666666,\"#ed7953\"],[0.7777777777777778,\"#fb9f3a\"],[0.8888888888888888,\"#fdca26\"],[1.0,\"#f0f921\"]],\"type\":\"histogram2dcontour\"}],\"mesh3d\":[{\"colorbar\":{\"outlinewidth\":0,\"ticks\":\"\"},\"type\":\"mesh3d\"}],\"parcoords\":[{\"line\":{\"colorbar\":{\"outlinewidth\":0,\"ticks\":\"\"}},\"type\":\"parcoords\"}],\"pie\":[{\"automargin\":true,\"type\":\"pie\"}],\"scatter\":[{\"marker\":{\"colorbar\":{\"outlinewidth\":0,\"ticks\":\"\"}},\"type\":\"scatter\"}],\"scatter3d\":[{\"line\":{\"colorbar\":{\"outlinewidth\":0,\"ticks\":\"\"}},\"marker\":{\"colorbar\":{\"outlinewidth\":0,\"ticks\":\"\"}},\"type\":\"scatter3d\"}],\"scattercarpet\":[{\"marker\":{\"colorbar\":{\"outlinewidth\":0,\"ticks\":\"\"}},\"type\":\"scattercarpet\"}],\"scattergeo\":[{\"marker\":{\"colorbar\":{\"outlinewidth\":0,\"ticks\":\"\"}},\"type\":\"scattergeo\"}],\"scattergl\":[{\"marker\":{\"colorbar\":{\"outlinewidth\":0,\"ticks\":\"\"}},\"type\":\"scattergl\"}],\"scattermapbox\":[{\"marker\":{\"colorbar\":{\"outlinewidth\":0,\"ticks\":\"\"}},\"type\":\"scattermapbox\"}],\"scatterpolar\":[{\"marker\":{\"colorbar\":{\"outlinewidth\":0,\"ticks\":\"\"}},\"type\":\"scatterpolar\"}],\"scatterpolargl\":[{\"marker\":{\"colorbar\":{\"outlinewidth\":0,\"ticks\":\"\"}},\"type\":\"scatterpolargl\"}],\"scatterternary\":[{\"marker\":{\"colorbar\":{\"outlinewidth\":0,\"ticks\":\"\"}},\"type\":\"scatterternary\"}],\"surface\":[{\"colorbar\":{\"outlinewidth\":0,\"ticks\":\"\"},\"colorscale\":[[0.0,\"#0d0887\"],[0.1111111111111111,\"#46039f\"],[0.2222222222222222,\"#7201a8\"],[0.3333333333333333,\"#9c179e\"],[0.4444444444444444,\"#bd3786\"],[0.5555555555555556,\"#d8576b\"],[0.6666666666666666,\"#ed7953\"],[0.7777777777777778,\"#fb9f3a\"],[0.8888888888888888,\"#fdca26\"],[1.0,\"#f0f921\"]],\"type\":\"surface\"}],\"table\":[{\"cells\":{\"fill\":{\"color\":\"#EBF0F8\"},\"line\":{\"color\":\"white\"}},\"header\":{\"fill\":{\"color\":\"#C8D4E3\"},\"line\":{\"color\":\"white\"}},\"type\":\"table\"}]},\"layout\":{\"annotationdefaults\":{\"arrowcolor\":\"#2a3f5f\",\"arrowhead\":0,\"arrowwidth\":1},\"autotypenumbers\":\"strict\",\"coloraxis\":{\"colorbar\":{\"outlinewidth\":0,\"ticks\":\"\"}},\"colorscale\":{\"diverging\":[[0,\"#8e0152\"],[0.1,\"#c51b7d\"],[0.2,\"#de77ae\"],[0.3,\"#f1b6da\"],[0.4,\"#fde0ef\"],[0.5,\"#f7f7f7\"],[0.6,\"#e6f5d0\"],[0.7,\"#b8e186\"],[0.8,\"#7fbc41\"],[0.9,\"#4d9221\"],[1,\"#276419\"]],\"sequential\":[[0.0,\"#0d0887\"],[0.1111111111111111,\"#46039f\"],[0.2222222222222222,\"#7201a8\"],[0.3333333333333333,\"#9c179e\"],[0.4444444444444444,\"#bd3786\"],[0.5555555555555556,\"#d8576b\"],[0.6666666666666666,\"#ed7953\"],[0.7777777777777778,\"#fb9f3a\"],[0.8888888888888888,\"#fdca26\"],[1.0,\"#f0f921\"]],\"sequentialminus\":[[0.0,\"#0d0887\"],[0.1111111111111111,\"#46039f\"],[0.2222222222222222,\"#7201a8\"],[0.3333333333333333,\"#9c179e\"],[0.4444444444444444,\"#bd3786\"],[0.5555555555555556,\"#d8576b\"],[0.6666666666666666,\"#ed7953\"],[0.7777777777777778,\"#fb9f3a\"],[0.8888888888888888,\"#fdca26\"],[1.0,\"#f0f921\"]]},\"colorway\":[\"#636efa\",\"#EF553B\",\"#00cc96\",\"#ab63fa\",\"#FFA15A\",\"#19d3f3\",\"#FF6692\",\"#B6E880\",\"#FF97FF\",\"#FECB52\"],\"font\":{\"color\":\"#2a3f5f\"},\"geo\":{\"bgcolor\":\"white\",\"lakecolor\":\"white\",\"landcolor\":\"#E5ECF6\",\"showlakes\":true,\"showland\":true,\"subunitcolor\":\"white\"},\"hoverlabel\":{\"align\":\"left\"},\"hovermode\":\"closest\",\"mapbox\":{\"style\":\"light\"},\"paper_bgcolor\":\"white\",\"plot_bgcolor\":\"#E5ECF6\",\"polar\":{\"angularaxis\":{\"gridcolor\":\"white\",\"linecolor\":\"white\",\"ticks\":\"\"},\"bgcolor\":\"#E5ECF6\",\"radialaxis\":{\"gridcolor\":\"white\",\"linecolor\":\"white\",\"ticks\":\"\"}},\"scene\":{\"xaxis\":{\"backgroundcolor\":\"#E5ECF6\",\"gridcolor\":\"white\",\"gridwidth\":2,\"linecolor\":\"white\",\"showbackground\":true,\"ticks\":\"\",\"zerolinecolor\":\"white\"},\"yaxis\":{\"backgroundcolor\":\"#E5ECF6\",\"gridcolor\":\"white\",\"gridwidth\":2,\"linecolor\":\"white\",\"showbackground\":true,\"ticks\":\"\",\"zerolinecolor\":\"white\"},\"zaxis\":{\"backgroundcolor\":\"#E5ECF6\",\"gridcolor\":\"white\",\"gridwidth\":2,\"linecolor\":\"white\",\"showbackground\":true,\"ticks\":\"\",\"zerolinecolor\":\"white\"}},\"shapedefaults\":{\"line\":{\"color\":\"#2a3f5f\"}},\"ternary\":{\"aaxis\":{\"gridcolor\":\"white\",\"linecolor\":\"white\",\"ticks\":\"\"},\"baxis\":{\"gridcolor\":\"white\",\"linecolor\":\"white\",\"ticks\":\"\"},\"bgcolor\":\"#E5ECF6\",\"caxis\":{\"gridcolor\":\"white\",\"linecolor\":\"white\",\"ticks\":\"\"}},\"title\":{\"x\":0.05},\"xaxis\":{\"automargin\":true,\"gridcolor\":\"white\",\"linecolor\":\"white\",\"ticks\":\"\",\"title\":{\"standoff\":15},\"zerolinecolor\":\"white\",\"zerolinewidth\":2},\"yaxis\":{\"automargin\":true,\"gridcolor\":\"white\",\"linecolor\":\"white\",\"ticks\":\"\",\"title\":{\"standoff\":15},\"zerolinecolor\":\"white\",\"zerolinewidth\":2}}},\"xaxis\":{\"anchor\":\"y\",\"domain\":[0.0,1.0],\"title\":{\"text\":\"\"}},\"yaxis\":{\"anchor\":\"x\",\"domain\":[0.0,1.0],\"title\":{\"text\":\"Screentime [%]\"}}},                        {\"responsive\": true}                    ).then(function(){\n",
       "                            \n",
       "var gd = document.getElementById('260eac52-4c61-4e88-9313-4749887264a4');\n",
       "var x = new MutationObserver(function (mutations, observer) {{\n",
       "        var display = window.getComputedStyle(gd).display;\n",
       "        if (!display || display === 'none') {{\n",
       "            console.log([gd, 'removed!']);\n",
       "            Plotly.purge(gd);\n",
       "            observer.disconnect();\n",
       "        }}\n",
       "}});\n",
       "\n",
       "// Listen for the removal of the full notebook cells\n",
       "var notebookContainer = gd.closest('#notebook-container');\n",
       "if (notebookContainer) {{\n",
       "    x.observe(notebookContainer, {childList: true});\n",
       "}}\n",
       "\n",
       "// Listen for the clearing of the current output cell\n",
       "var outputEl = gd.closest('.output');\n",
       "if (outputEl) {{\n",
       "    x.observe(outputEl, {childList: true});\n",
       "}}\n",
       "\n",
       "                        })                };                });            </script>        </div>"
      ]
     },
     "metadata": {},
     "output_type": "display_data"
    }
   ],
   "source": [
    "def only_men_screentime_bar(df):\n",
    "    x = [df['only_men'].values[0], (100 - df['only_men'].values[0])]\n",
    "    names = ['Only men present', 'Both men and women present']\n",
    "\n",
    "    fig = px.bar(df,\n",
    "                 x=names,\n",
    "                 y=x,\n",
    "                 labels={\n",
    "                     \"x\": \"\",\n",
    "                     \"y\": \"Screentime [%]\"\n",
    "                 },\n",
    "                 color=names)\n",
    "\n",
    "    return fig\n",
    "\n",
    "only_men_screentime_bar(df_one)"
   ]
  },
  {
   "cell_type": "code",
   "execution_count": 896,
   "id": "c7cea414",
   "metadata": {},
   "outputs": [],
   "source": [
    "import plotly.graph_objects as go\n",
    "import plotly.subplots as sp\n",
    "\n",
    "def dashboard_gender(movie_title,df_one):\n",
    "    \n",
    "    # grab csvs\n",
    "    \n",
    "    movie_name = movie_title.replace(\" \", \"_\")\n",
    "    file_name = f'https://storage.googleapis.com/wagon-data-735-movie-diversity/CSVs/{movie_name}/statistics'\n",
    "    df = pd.read_csv(file_name)\n",
    "\n",
    "    # Create figures in Express\n",
    "    figure1 = run_time(movie_name, by=\"gender\")\n",
    "    figure2 = only_women_screentime_bar(df_one)\n",
    "    figure3 = man_woman_screentime_bar(df)\n",
    "    figure4 = only_men_screentime_bar(df)\n",
    "\n",
    "    # For as many traces that exist per Express figure, get the traces from each plot and store them in an array.\n",
    "    # This is essentially breaking down the Express fig into it's traces\n",
    "\n",
    "    figure1_traces = []\n",
    "    figure2_traces = []\n",
    "    figure3_traces = []\n",
    "    figure4_traces = []\n",
    "\n",
    "\n",
    "    for trace in range(len(figure1[\"data\"])):\n",
    "        figure1_traces.append(figure1[\"data\"][trace])\n",
    "\n",
    "    for trace in range(len(figure2[\"data\"])):\n",
    "        figure2_traces.append(figure2[\"data\"][trace])\n",
    "\n",
    "\n",
    "    for trace in range(len(figure3[\"data\"])):\n",
    "        figure3_traces.append(figure3[\"data\"][trace])\n",
    "    \n",
    "    for trace in range(len(figure4[\"data\"])):\n",
    "        figure4_traces.append(figure4[\"data\"][trace])\n",
    "\n",
    "    #Create a 1x2 subplot\n",
    "    this_figure = sp.make_subplots(rows=2, cols=3, specs=[[{'colspan': 3}, None, None],\n",
    "                                               [{}, {}, {}]]) \n",
    "\n",
    "    # Get the Express fig broken down as traces and add the traces to the proper plot within in the subplot\n",
    "    for traces in figure1_traces:\n",
    "        this_figure.append_trace(traces, row=1, col=1)\n",
    "\n",
    "    for traces in figure2_traces:\n",
    "        this_figure.append_trace(traces, row=2, col=2)\n",
    "\n",
    "    for traces in figure3_traces:\n",
    "        this_figure.append_trace(traces, row=2, col=1)\n",
    "        \n",
    "    for traces in figure4_traces:\n",
    "        this_figure.append_trace(traces, row=2, col=3)\n",
    "\n",
    "    this_figure.update_layout(height=900, width=1100)\n",
    "    this_figure.update_layout(uniformtext_minsize=15)\n",
    "\n",
    "    this_figure.update_layout(\n",
    "        title_text=f\"{movie_name.replace('_', ' ')} - Gender Statistics\")\n",
    "        # Add annotations in the center of the donut pies\n",
    "\n",
    "    #the subplot as shown in the above image\n",
    "    return this_figure"
   ]
  },
  {
   "cell_type": "code",
   "execution_count": 897,
   "id": "17939912",
   "metadata": {},
   "outputs": [
    {
     "data": {
      "application/vnd.plotly.v1+json": {
       "config": {
        "plotlyServerURL": "https://plot.ly"
       },
       "data": [
        {
         "hovertemplate": "gender=Man<br>Film length [minutes]=%{x}<br>Number of detected faces=%{marker.size}<extra></extra>",
         "legendgroup": "Man",
         "marker": {
          "color": "#636efa",
          "size": [
           3,
           23,
           52,
           24,
           24,
           45,
           14,
           21,
           23,
           30,
           5,
           39,
           17,
           18,
           35,
           39,
           73,
           46,
           25,
           28,
           14,
           23,
           32,
           9,
           6,
           26,
           14,
           14,
           22,
           50,
           35,
           40,
           32,
           51,
           38,
           31,
           52,
           30,
           41,
           31,
           24,
           27,
           32,
           7,
           42,
           31,
           29,
           37,
           42,
           40,
           24,
           22,
           38,
           87,
           31,
           20,
           6,
           9,
           6,
           1,
           6,
           18,
           7,
           10,
           37,
           36,
           44,
           39,
           34,
           12,
           16,
           17,
           3,
           24,
           23,
           44,
           6,
           39,
           26,
           18,
           5,
           6,
           4,
           4,
           4,
           13,
           24,
           41,
           36
          ],
          "sizemode": "area",
          "sizeref": 0.024166666666666666,
          "symbol": "circle"
         },
         "mode": "markers",
         "name": "Man",
         "orientation": "v",
         "showlegend": true,
         "type": "scatter",
         "x": [
          0,
          1,
          2,
          3,
          4,
          5,
          6,
          7,
          8,
          9,
          10,
          11,
          12,
          13,
          14,
          15,
          16,
          17,
          18,
          19,
          20,
          21,
          22,
          23,
          24,
          25,
          26,
          27,
          28,
          29,
          30,
          31,
          32,
          33,
          34,
          35,
          36,
          37,
          38,
          39,
          40,
          41,
          42,
          43,
          44,
          45,
          46,
          47,
          48,
          49,
          50,
          51,
          52,
          53,
          54,
          55,
          56,
          57,
          58,
          59,
          60,
          61,
          62,
          63,
          64,
          65,
          66,
          67,
          68,
          69,
          70,
          71,
          72,
          73,
          74,
          75,
          76,
          77,
          78,
          79,
          80,
          81,
          82,
          83,
          84,
          85,
          86,
          87,
          88
         ],
         "xaxis": "x",
         "y": [
          3,
          23,
          52,
          24,
          24,
          45,
          14,
          21,
          23,
          30,
          5,
          39,
          17,
          18,
          35,
          39,
          73,
          46,
          25,
          28,
          14,
          23,
          32,
          9,
          6,
          26,
          14,
          14,
          22,
          50,
          35,
          40,
          32,
          51,
          38,
          31,
          52,
          30,
          41,
          31,
          24,
          27,
          32,
          7,
          42,
          31,
          29,
          37,
          42,
          40,
          24,
          22,
          38,
          87,
          31,
          20,
          6,
          9,
          6,
          1,
          6,
          18,
          7,
          10,
          37,
          36,
          44,
          39,
          34,
          12,
          16,
          17,
          3,
          24,
          23,
          44,
          6,
          39,
          26,
          18,
          5,
          6,
          4,
          4,
          4,
          13,
          24,
          41,
          36
         ],
         "yaxis": "y"
        },
        {
         "hovertemplate": "gender=Woman<br>Film length [minutes]=%{x}<br>Number of detected faces=%{marker.size}<extra></extra>",
         "legendgroup": "Woman",
         "marker": {
          "color": "#EF553B",
          "size": [
           5,
           8,
           2,
           2,
           1,
           3,
           4,
           12,
           5,
           1,
           10,
           12,
           11,
           7,
           5,
           4,
           5,
           4,
           3,
           12,
           10,
           7,
           1,
           1,
           1,
           8,
           12,
           17,
           9,
           16,
           2,
           9,
           8,
           5,
           5,
           1,
           6,
           3,
           1,
           16,
           14,
           18,
           4,
           5,
           18,
           9,
           6,
           1,
           6,
           3,
           1,
           9,
           7,
           3,
           7,
           2,
           1,
           1,
           8,
           1,
           3,
           1,
           3,
           2,
           1,
           5,
           5
          ],
          "sizemode": "area",
          "sizeref": 0.024166666666666666,
          "symbol": "circle"
         },
         "mode": "markers",
         "name": "Woman",
         "orientation": "v",
         "showlegend": true,
         "type": "scatter",
         "x": [
          2,
          3,
          4,
          5,
          6,
          10,
          11,
          13,
          14,
          15,
          16,
          17,
          18,
          19,
          20,
          21,
          22,
          24,
          25,
          26,
          27,
          28,
          29,
          30,
          31,
          32,
          33,
          34,
          35,
          36,
          38,
          39,
          40,
          41,
          42,
          43,
          44,
          45,
          47,
          48,
          49,
          50,
          51,
          52,
          53,
          54,
          55,
          59,
          60,
          62,
          63,
          64,
          65,
          66,
          68,
          71,
          72,
          74,
          75,
          76,
          77,
          79,
          80,
          85,
          86,
          87,
          88
         ],
         "xaxis": "x",
         "y": [
          5,
          8,
          2,
          2,
          1,
          3,
          4,
          12,
          5,
          1,
          10,
          12,
          11,
          7,
          5,
          4,
          5,
          4,
          3,
          12,
          10,
          7,
          1,
          1,
          1,
          8,
          12,
          17,
          9,
          16,
          2,
          9,
          8,
          5,
          5,
          1,
          6,
          3,
          1,
          16,
          14,
          18,
          4,
          5,
          18,
          9,
          6,
          1,
          6,
          3,
          1,
          9,
          7,
          3,
          7,
          2,
          1,
          1,
          8,
          1,
          3,
          1,
          3,
          2,
          1,
          5,
          5
         ],
         "yaxis": "y"
        },
        {
         "alignmentgroup": "True",
         "hovertemplate": "color=Only women present<br>=%{x}<br>Screentime [%]=%{y}<extra></extra>",
         "legendgroup": "Only women present",
         "marker": {
          "color": "#636efa",
          "pattern": {
           "shape": ""
          }
         },
         "name": "Only women present",
         "offsetgroup": "Only women present",
         "orientation": "v",
         "showlegend": true,
         "textposition": "auto",
         "type": "bar",
         "x": [
          "Only women present"
         ],
         "xaxis": "x3",
         "y": [
          5.946481665014866
         ],
         "yaxis": "y3"
        },
        {
         "alignmentgroup": "True",
         "hovertemplate": "color=Both women and men present<br>=%{x}<br>Screentime [%]=%{y}<extra></extra>",
         "legendgroup": "Both women and men present",
         "marker": {
          "color": "#EF553B",
          "pattern": {
           "shape": ""
          }
         },
         "name": "Both women and men present",
         "offsetgroup": "Both women and men present",
         "orientation": "v",
         "showlegend": true,
         "textposition": "auto",
         "type": "bar",
         "x": [
          "Both women and men present"
         ],
         "xaxis": "x3",
         "y": [
          94.05351833498513
         ],
         "yaxis": "y3"
        },
        {
         "alignmentgroup": "True",
         "hovertemplate": "=%{x}<br>Screentime [%]=%{y}<extra></extra>",
         "legendgroup": "man_screentime",
         "marker": {
          "color": "#636efa",
          "pattern": {
           "shape": ""
          }
         },
         "name": "man_screentime",
         "offsetgroup": "man_screentime",
         "orientation": "v",
         "showlegend": true,
         "textposition": "auto",
         "type": "bar",
         "x": [
          "man_screentime"
         ],
         "xaxis": "x2",
         "y": [
          85.38913362701909
         ],
         "yaxis": "y2"
        },
        {
         "alignmentgroup": "True",
         "hovertemplate": "=%{x}<br>Screentime [%]=%{y}<extra></extra>",
         "legendgroup": "woman_screentime",
         "marker": {
          "color": "#EF553B",
          "pattern": {
           "shape": ""
          }
         },
         "name": "woman_screentime",
         "offsetgroup": "woman_screentime",
         "orientation": "v",
         "showlegend": true,
         "textposition": "auto",
         "type": "bar",
         "x": [
          "woman_screentime"
         ],
         "xaxis": "x2",
         "y": [
          14.61086637298091
         ],
         "yaxis": "y2"
        },
        {
         "alignmentgroup": "True",
         "hovertemplate": "color=Only men present<br>=%{x}<br>Screentime [%]=%{y}<extra></extra>",
         "legendgroup": "Only men present",
         "marker": {
          "color": "#636efa",
          "pattern": {
           "shape": ""
          }
         },
         "name": "Only men present",
         "offsetgroup": "Only men present",
         "orientation": "v",
         "showlegend": true,
         "textposition": "auto",
         "type": "bar",
         "x": [
          "Only men present"
         ],
         "xaxis": "x4",
         "y": [
          79.49659150498165
         ],
         "yaxis": "y4"
        },
        {
         "alignmentgroup": "True",
         "hovertemplate": "color=Both men and women present<br>=%{x}<br>Screentime [%]=%{y}<extra></extra>",
         "legendgroup": "Both men and women present",
         "marker": {
          "color": "#EF553B",
          "pattern": {
           "shape": ""
          }
         },
         "name": "Both men and women present",
         "offsetgroup": "Both men and women present",
         "orientation": "v",
         "showlegend": true,
         "textposition": "auto",
         "type": "bar",
         "x": [
          "Both men and women present"
         ],
         "xaxis": "x4",
         "y": [
          20.50340849501835
         ],
         "yaxis": "y4"
        }
       ],
       "layout": {
        "height": 900,
        "template": {
         "data": {
          "bar": [
           {
            "error_x": {
             "color": "#2a3f5f"
            },
            "error_y": {
             "color": "#2a3f5f"
            },
            "marker": {
             "line": {
              "color": "#E5ECF6",
              "width": 0.5
             },
             "pattern": {
              "fillmode": "overlay",
              "size": 10,
              "solidity": 0.2
             }
            },
            "type": "bar"
           }
          ],
          "barpolar": [
           {
            "marker": {
             "line": {
              "color": "#E5ECF6",
              "width": 0.5
             },
             "pattern": {
              "fillmode": "overlay",
              "size": 10,
              "solidity": 0.2
             }
            },
            "type": "barpolar"
           }
          ],
          "carpet": [
           {
            "aaxis": {
             "endlinecolor": "#2a3f5f",
             "gridcolor": "white",
             "linecolor": "white",
             "minorgridcolor": "white",
             "startlinecolor": "#2a3f5f"
            },
            "baxis": {
             "endlinecolor": "#2a3f5f",
             "gridcolor": "white",
             "linecolor": "white",
             "minorgridcolor": "white",
             "startlinecolor": "#2a3f5f"
            },
            "type": "carpet"
           }
          ],
          "choropleth": [
           {
            "colorbar": {
             "outlinewidth": 0,
             "ticks": ""
            },
            "type": "choropleth"
           }
          ],
          "contour": [
           {
            "colorbar": {
             "outlinewidth": 0,
             "ticks": ""
            },
            "colorscale": [
             [
              0,
              "#0d0887"
             ],
             [
              0.1111111111111111,
              "#46039f"
             ],
             [
              0.2222222222222222,
              "#7201a8"
             ],
             [
              0.3333333333333333,
              "#9c179e"
             ],
             [
              0.4444444444444444,
              "#bd3786"
             ],
             [
              0.5555555555555556,
              "#d8576b"
             ],
             [
              0.6666666666666666,
              "#ed7953"
             ],
             [
              0.7777777777777778,
              "#fb9f3a"
             ],
             [
              0.8888888888888888,
              "#fdca26"
             ],
             [
              1,
              "#f0f921"
             ]
            ],
            "type": "contour"
           }
          ],
          "contourcarpet": [
           {
            "colorbar": {
             "outlinewidth": 0,
             "ticks": ""
            },
            "type": "contourcarpet"
           }
          ],
          "heatmap": [
           {
            "colorbar": {
             "outlinewidth": 0,
             "ticks": ""
            },
            "colorscale": [
             [
              0,
              "#0d0887"
             ],
             [
              0.1111111111111111,
              "#46039f"
             ],
             [
              0.2222222222222222,
              "#7201a8"
             ],
             [
              0.3333333333333333,
              "#9c179e"
             ],
             [
              0.4444444444444444,
              "#bd3786"
             ],
             [
              0.5555555555555556,
              "#d8576b"
             ],
             [
              0.6666666666666666,
              "#ed7953"
             ],
             [
              0.7777777777777778,
              "#fb9f3a"
             ],
             [
              0.8888888888888888,
              "#fdca26"
             ],
             [
              1,
              "#f0f921"
             ]
            ],
            "type": "heatmap"
           }
          ],
          "heatmapgl": [
           {
            "colorbar": {
             "outlinewidth": 0,
             "ticks": ""
            },
            "colorscale": [
             [
              0,
              "#0d0887"
             ],
             [
              0.1111111111111111,
              "#46039f"
             ],
             [
              0.2222222222222222,
              "#7201a8"
             ],
             [
              0.3333333333333333,
              "#9c179e"
             ],
             [
              0.4444444444444444,
              "#bd3786"
             ],
             [
              0.5555555555555556,
              "#d8576b"
             ],
             [
              0.6666666666666666,
              "#ed7953"
             ],
             [
              0.7777777777777778,
              "#fb9f3a"
             ],
             [
              0.8888888888888888,
              "#fdca26"
             ],
             [
              1,
              "#f0f921"
             ]
            ],
            "type": "heatmapgl"
           }
          ],
          "histogram": [
           {
            "marker": {
             "pattern": {
              "fillmode": "overlay",
              "size": 10,
              "solidity": 0.2
             }
            },
            "type": "histogram"
           }
          ],
          "histogram2d": [
           {
            "colorbar": {
             "outlinewidth": 0,
             "ticks": ""
            },
            "colorscale": [
             [
              0,
              "#0d0887"
             ],
             [
              0.1111111111111111,
              "#46039f"
             ],
             [
              0.2222222222222222,
              "#7201a8"
             ],
             [
              0.3333333333333333,
              "#9c179e"
             ],
             [
              0.4444444444444444,
              "#bd3786"
             ],
             [
              0.5555555555555556,
              "#d8576b"
             ],
             [
              0.6666666666666666,
              "#ed7953"
             ],
             [
              0.7777777777777778,
              "#fb9f3a"
             ],
             [
              0.8888888888888888,
              "#fdca26"
             ],
             [
              1,
              "#f0f921"
             ]
            ],
            "type": "histogram2d"
           }
          ],
          "histogram2dcontour": [
           {
            "colorbar": {
             "outlinewidth": 0,
             "ticks": ""
            },
            "colorscale": [
             [
              0,
              "#0d0887"
             ],
             [
              0.1111111111111111,
              "#46039f"
             ],
             [
              0.2222222222222222,
              "#7201a8"
             ],
             [
              0.3333333333333333,
              "#9c179e"
             ],
             [
              0.4444444444444444,
              "#bd3786"
             ],
             [
              0.5555555555555556,
              "#d8576b"
             ],
             [
              0.6666666666666666,
              "#ed7953"
             ],
             [
              0.7777777777777778,
              "#fb9f3a"
             ],
             [
              0.8888888888888888,
              "#fdca26"
             ],
             [
              1,
              "#f0f921"
             ]
            ],
            "type": "histogram2dcontour"
           }
          ],
          "mesh3d": [
           {
            "colorbar": {
             "outlinewidth": 0,
             "ticks": ""
            },
            "type": "mesh3d"
           }
          ],
          "parcoords": [
           {
            "line": {
             "colorbar": {
              "outlinewidth": 0,
              "ticks": ""
             }
            },
            "type": "parcoords"
           }
          ],
          "pie": [
           {
            "automargin": true,
            "type": "pie"
           }
          ],
          "scatter": [
           {
            "marker": {
             "colorbar": {
              "outlinewidth": 0,
              "ticks": ""
             }
            },
            "type": "scatter"
           }
          ],
          "scatter3d": [
           {
            "line": {
             "colorbar": {
              "outlinewidth": 0,
              "ticks": ""
             }
            },
            "marker": {
             "colorbar": {
              "outlinewidth": 0,
              "ticks": ""
             }
            },
            "type": "scatter3d"
           }
          ],
          "scattercarpet": [
           {
            "marker": {
             "colorbar": {
              "outlinewidth": 0,
              "ticks": ""
             }
            },
            "type": "scattercarpet"
           }
          ],
          "scattergeo": [
           {
            "marker": {
             "colorbar": {
              "outlinewidth": 0,
              "ticks": ""
             }
            },
            "type": "scattergeo"
           }
          ],
          "scattergl": [
           {
            "marker": {
             "colorbar": {
              "outlinewidth": 0,
              "ticks": ""
             }
            },
            "type": "scattergl"
           }
          ],
          "scattermapbox": [
           {
            "marker": {
             "colorbar": {
              "outlinewidth": 0,
              "ticks": ""
             }
            },
            "type": "scattermapbox"
           }
          ],
          "scatterpolar": [
           {
            "marker": {
             "colorbar": {
              "outlinewidth": 0,
              "ticks": ""
             }
            },
            "type": "scatterpolar"
           }
          ],
          "scatterpolargl": [
           {
            "marker": {
             "colorbar": {
              "outlinewidth": 0,
              "ticks": ""
             }
            },
            "type": "scatterpolargl"
           }
          ],
          "scatterternary": [
           {
            "marker": {
             "colorbar": {
              "outlinewidth": 0,
              "ticks": ""
             }
            },
            "type": "scatterternary"
           }
          ],
          "surface": [
           {
            "colorbar": {
             "outlinewidth": 0,
             "ticks": ""
            },
            "colorscale": [
             [
              0,
              "#0d0887"
             ],
             [
              0.1111111111111111,
              "#46039f"
             ],
             [
              0.2222222222222222,
              "#7201a8"
             ],
             [
              0.3333333333333333,
              "#9c179e"
             ],
             [
              0.4444444444444444,
              "#bd3786"
             ],
             [
              0.5555555555555556,
              "#d8576b"
             ],
             [
              0.6666666666666666,
              "#ed7953"
             ],
             [
              0.7777777777777778,
              "#fb9f3a"
             ],
             [
              0.8888888888888888,
              "#fdca26"
             ],
             [
              1,
              "#f0f921"
             ]
            ],
            "type": "surface"
           }
          ],
          "table": [
           {
            "cells": {
             "fill": {
              "color": "#EBF0F8"
             },
             "line": {
              "color": "white"
             }
            },
            "header": {
             "fill": {
              "color": "#C8D4E3"
             },
             "line": {
              "color": "white"
             }
            },
            "type": "table"
           }
          ]
         },
         "layout": {
          "annotationdefaults": {
           "arrowcolor": "#2a3f5f",
           "arrowhead": 0,
           "arrowwidth": 1
          },
          "autotypenumbers": "strict",
          "coloraxis": {
           "colorbar": {
            "outlinewidth": 0,
            "ticks": ""
           }
          },
          "colorscale": {
           "diverging": [
            [
             0,
             "#8e0152"
            ],
            [
             0.1,
             "#c51b7d"
            ],
            [
             0.2,
             "#de77ae"
            ],
            [
             0.3,
             "#f1b6da"
            ],
            [
             0.4,
             "#fde0ef"
            ],
            [
             0.5,
             "#f7f7f7"
            ],
            [
             0.6,
             "#e6f5d0"
            ],
            [
             0.7,
             "#b8e186"
            ],
            [
             0.8,
             "#7fbc41"
            ],
            [
             0.9,
             "#4d9221"
            ],
            [
             1,
             "#276419"
            ]
           ],
           "sequential": [
            [
             0,
             "#0d0887"
            ],
            [
             0.1111111111111111,
             "#46039f"
            ],
            [
             0.2222222222222222,
             "#7201a8"
            ],
            [
             0.3333333333333333,
             "#9c179e"
            ],
            [
             0.4444444444444444,
             "#bd3786"
            ],
            [
             0.5555555555555556,
             "#d8576b"
            ],
            [
             0.6666666666666666,
             "#ed7953"
            ],
            [
             0.7777777777777778,
             "#fb9f3a"
            ],
            [
             0.8888888888888888,
             "#fdca26"
            ],
            [
             1,
             "#f0f921"
            ]
           ],
           "sequentialminus": [
            [
             0,
             "#0d0887"
            ],
            [
             0.1111111111111111,
             "#46039f"
            ],
            [
             0.2222222222222222,
             "#7201a8"
            ],
            [
             0.3333333333333333,
             "#9c179e"
            ],
            [
             0.4444444444444444,
             "#bd3786"
            ],
            [
             0.5555555555555556,
             "#d8576b"
            ],
            [
             0.6666666666666666,
             "#ed7953"
            ],
            [
             0.7777777777777778,
             "#fb9f3a"
            ],
            [
             0.8888888888888888,
             "#fdca26"
            ],
            [
             1,
             "#f0f921"
            ]
           ]
          },
          "colorway": [
           "#636efa",
           "#EF553B",
           "#00cc96",
           "#ab63fa",
           "#FFA15A",
           "#19d3f3",
           "#FF6692",
           "#B6E880",
           "#FF97FF",
           "#FECB52"
          ],
          "font": {
           "color": "#2a3f5f"
          },
          "geo": {
           "bgcolor": "white",
           "lakecolor": "white",
           "landcolor": "#E5ECF6",
           "showlakes": true,
           "showland": true,
           "subunitcolor": "white"
          },
          "hoverlabel": {
           "align": "left"
          },
          "hovermode": "closest",
          "mapbox": {
           "style": "light"
          },
          "paper_bgcolor": "white",
          "plot_bgcolor": "#E5ECF6",
          "polar": {
           "angularaxis": {
            "gridcolor": "white",
            "linecolor": "white",
            "ticks": ""
           },
           "bgcolor": "#E5ECF6",
           "radialaxis": {
            "gridcolor": "white",
            "linecolor": "white",
            "ticks": ""
           }
          },
          "scene": {
           "xaxis": {
            "backgroundcolor": "#E5ECF6",
            "gridcolor": "white",
            "gridwidth": 2,
            "linecolor": "white",
            "showbackground": true,
            "ticks": "",
            "zerolinecolor": "white"
           },
           "yaxis": {
            "backgroundcolor": "#E5ECF6",
            "gridcolor": "white",
            "gridwidth": 2,
            "linecolor": "white",
            "showbackground": true,
            "ticks": "",
            "zerolinecolor": "white"
           },
           "zaxis": {
            "backgroundcolor": "#E5ECF6",
            "gridcolor": "white",
            "gridwidth": 2,
            "linecolor": "white",
            "showbackground": true,
            "ticks": "",
            "zerolinecolor": "white"
           }
          },
          "shapedefaults": {
           "line": {
            "color": "#2a3f5f"
           }
          },
          "ternary": {
           "aaxis": {
            "gridcolor": "white",
            "linecolor": "white",
            "ticks": ""
           },
           "baxis": {
            "gridcolor": "white",
            "linecolor": "white",
            "ticks": ""
           },
           "bgcolor": "#E5ECF6",
           "caxis": {
            "gridcolor": "white",
            "linecolor": "white",
            "ticks": ""
           }
          },
          "title": {
           "x": 0.05
          },
          "xaxis": {
           "automargin": true,
           "gridcolor": "white",
           "linecolor": "white",
           "ticks": "",
           "title": {
            "standoff": 15
           },
           "zerolinecolor": "white",
           "zerolinewidth": 2
          },
          "yaxis": {
           "automargin": true,
           "gridcolor": "white",
           "linecolor": "white",
           "ticks": "",
           "title": {
            "standoff": 15
           },
           "zerolinecolor": "white",
           "zerolinewidth": 2
          }
         }
        },
        "title": {
         "text": "102 Dalmatians (2000) - Gender Statistics"
        },
        "uniformtext": {
         "minsize": 15
        },
        "width": 1100,
        "xaxis": {
         "anchor": "y",
         "domain": [
          0,
          1
         ]
        },
        "xaxis2": {
         "anchor": "y2",
         "domain": [
          0,
          0.2888888888888889
         ]
        },
        "xaxis3": {
         "anchor": "y3",
         "domain": [
          0.35555555555555557,
          0.6444444444444445
         ]
        },
        "xaxis4": {
         "anchor": "y4",
         "domain": [
          0.7111111111111111,
          1
         ]
        },
        "yaxis": {
         "anchor": "x",
         "domain": [
          0.575,
          1
         ]
        },
        "yaxis2": {
         "anchor": "x2",
         "domain": [
          0,
          0.425
         ]
        },
        "yaxis3": {
         "anchor": "x3",
         "domain": [
          0,
          0.425
         ]
        },
        "yaxis4": {
         "anchor": "x4",
         "domain": [
          0,
          0.425
         ]
        }
       }
      },
      "text/html": [
       "<div>                            <div id=\"13fbf52d-e85d-4da1-ae9e-30416a873c0a\" class=\"plotly-graph-div\" style=\"height:900px; width:1100px;\"></div>            <script type=\"text/javascript\">                require([\"plotly\"], function(Plotly) {                    window.PLOTLYENV=window.PLOTLYENV || {};                                    if (document.getElementById(\"13fbf52d-e85d-4da1-ae9e-30416a873c0a\")) {                    Plotly.newPlot(                        \"13fbf52d-e85d-4da1-ae9e-30416a873c0a\",                        [{\"hovertemplate\":\"gender=Man<br>Film length [minutes]=%{x}<br>Number of detected faces=%{marker.size}<extra></extra>\",\"legendgroup\":\"Man\",\"marker\":{\"color\":\"#636efa\",\"size\":[3,23,52,24,24,45,14,21,23,30,5,39,17,18,35,39,73,46,25,28,14,23,32,9,6,26,14,14,22,50,35,40,32,51,38,31,52,30,41,31,24,27,32,7,42,31,29,37,42,40,24,22,38,87,31,20,6,9,6,1,6,18,7,10,37,36,44,39,34,12,16,17,3,24,23,44,6,39,26,18,5,6,4,4,4,13,24,41,36],\"sizemode\":\"area\",\"sizeref\":0.024166666666666666,\"symbol\":\"circle\"},\"mode\":\"markers\",\"name\":\"Man\",\"orientation\":\"v\",\"showlegend\":true,\"type\":\"scatter\",\"x\":[0.0,1.0,2.0,3.0,4.0,5.0,6.0,7.0,8.0,9.0,10.0,11.0,12.0,13.0,14.0,15.0,16.0,17.0,18.0,19.0,20.0,21.0,22.0,23.0,24.0,25.0,26.0,27.0,28.0,29.0,30.0,31.0,32.0,33.0,34.0,35.0,36.0,37.0,38.0,39.0,40.0,41.0,42.0,43.0,44.0,45.0,46.0,47.0,48.0,49.0,50.0,51.0,52.0,53.0,54.0,55.0,56.0,57.0,58.0,59.0,60.0,61.0,62.0,63.0,64.0,65.0,66.0,67.0,68.0,69.0,70.0,71.0,72.0,73.0,74.0,75.0,76.0,77.0,78.0,79.0,80.0,81.0,82.0,83.0,84.0,85.0,86.0,87.0,88.0],\"xaxis\":\"x\",\"y\":[3,23,52,24,24,45,14,21,23,30,5,39,17,18,35,39,73,46,25,28,14,23,32,9,6,26,14,14,22,50,35,40,32,51,38,31,52,30,41,31,24,27,32,7,42,31,29,37,42,40,24,22,38,87,31,20,6,9,6,1,6,18,7,10,37,36,44,39,34,12,16,17,3,24,23,44,6,39,26,18,5,6,4,4,4,13,24,41,36],\"yaxis\":\"y\"},{\"hovertemplate\":\"gender=Woman<br>Film length [minutes]=%{x}<br>Number of detected faces=%{marker.size}<extra></extra>\",\"legendgroup\":\"Woman\",\"marker\":{\"color\":\"#EF553B\",\"size\":[5,8,2,2,1,3,4,12,5,1,10,12,11,7,5,4,5,4,3,12,10,7,1,1,1,8,12,17,9,16,2,9,8,5,5,1,6,3,1,16,14,18,4,5,18,9,6,1,6,3,1,9,7,3,7,2,1,1,8,1,3,1,3,2,1,5,5],\"sizemode\":\"area\",\"sizeref\":0.024166666666666666,\"symbol\":\"circle\"},\"mode\":\"markers\",\"name\":\"Woman\",\"orientation\":\"v\",\"showlegend\":true,\"type\":\"scatter\",\"x\":[2.0,3.0,4.0,5.0,6.0,10.0,11.0,13.0,14.0,15.0,16.0,17.0,18.0,19.0,20.0,21.0,22.0,24.0,25.0,26.0,27.0,28.0,29.0,30.0,31.0,32.0,33.0,34.0,35.0,36.0,38.0,39.0,40.0,41.0,42.0,43.0,44.0,45.0,47.0,48.0,49.0,50.0,51.0,52.0,53.0,54.0,55.0,59.0,60.0,62.0,63.0,64.0,65.0,66.0,68.0,71.0,72.0,74.0,75.0,76.0,77.0,79.0,80.0,85.0,86.0,87.0,88.0],\"xaxis\":\"x\",\"y\":[5,8,2,2,1,3,4,12,5,1,10,12,11,7,5,4,5,4,3,12,10,7,1,1,1,8,12,17,9,16,2,9,8,5,5,1,6,3,1,16,14,18,4,5,18,9,6,1,6,3,1,9,7,3,7,2,1,1,8,1,3,1,3,2,1,5,5],\"yaxis\":\"y\"},{\"alignmentgroup\":\"True\",\"hovertemplate\":\"color=Only women present<br>=%{x}<br>Screentime [%]=%{y}<extra></extra>\",\"legendgroup\":\"Only women present\",\"marker\":{\"color\":\"#636efa\",\"pattern\":{\"shape\":\"\"}},\"name\":\"Only women present\",\"offsetgroup\":\"Only women present\",\"orientation\":\"v\",\"showlegend\":true,\"textposition\":\"auto\",\"type\":\"bar\",\"x\":[\"Only women present\"],\"xaxis\":\"x3\",\"y\":[5.946481665014866],\"yaxis\":\"y3\"},{\"alignmentgroup\":\"True\",\"hovertemplate\":\"color=Both women and men present<br>=%{x}<br>Screentime [%]=%{y}<extra></extra>\",\"legendgroup\":\"Both women and men present\",\"marker\":{\"color\":\"#EF553B\",\"pattern\":{\"shape\":\"\"}},\"name\":\"Both women and men present\",\"offsetgroup\":\"Both women and men present\",\"orientation\":\"v\",\"showlegend\":true,\"textposition\":\"auto\",\"type\":\"bar\",\"x\":[\"Both women and men present\"],\"xaxis\":\"x3\",\"y\":[94.05351833498513],\"yaxis\":\"y3\"},{\"alignmentgroup\":\"True\",\"hovertemplate\":\"=%{x}<br>Screentime [%]=%{y}<extra></extra>\",\"legendgroup\":\"man_screentime\",\"marker\":{\"color\":\"#636efa\",\"pattern\":{\"shape\":\"\"}},\"name\":\"man_screentime\",\"offsetgroup\":\"man_screentime\",\"orientation\":\"v\",\"showlegend\":true,\"textposition\":\"auto\",\"type\":\"bar\",\"x\":[\"man_screentime\"],\"xaxis\":\"x2\",\"y\":[85.38913362701909],\"yaxis\":\"y2\"},{\"alignmentgroup\":\"True\",\"hovertemplate\":\"=%{x}<br>Screentime [%]=%{y}<extra></extra>\",\"legendgroup\":\"woman_screentime\",\"marker\":{\"color\":\"#EF553B\",\"pattern\":{\"shape\":\"\"}},\"name\":\"woman_screentime\",\"offsetgroup\":\"woman_screentime\",\"orientation\":\"v\",\"showlegend\":true,\"textposition\":\"auto\",\"type\":\"bar\",\"x\":[\"woman_screentime\"],\"xaxis\":\"x2\",\"y\":[14.61086637298091],\"yaxis\":\"y2\"},{\"alignmentgroup\":\"True\",\"hovertemplate\":\"color=Only men present<br>=%{x}<br>Screentime [%]=%{y}<extra></extra>\",\"legendgroup\":\"Only men present\",\"marker\":{\"color\":\"#636efa\",\"pattern\":{\"shape\":\"\"}},\"name\":\"Only men present\",\"offsetgroup\":\"Only men present\",\"orientation\":\"v\",\"showlegend\":true,\"textposition\":\"auto\",\"type\":\"bar\",\"x\":[\"Only men present\"],\"xaxis\":\"x4\",\"y\":[79.49659150498165],\"yaxis\":\"y4\"},{\"alignmentgroup\":\"True\",\"hovertemplate\":\"color=Both men and women present<br>=%{x}<br>Screentime [%]=%{y}<extra></extra>\",\"legendgroup\":\"Both men and women present\",\"marker\":{\"color\":\"#EF553B\",\"pattern\":{\"shape\":\"\"}},\"name\":\"Both men and women present\",\"offsetgroup\":\"Both men and women present\",\"orientation\":\"v\",\"showlegend\":true,\"textposition\":\"auto\",\"type\":\"bar\",\"x\":[\"Both men and women present\"],\"xaxis\":\"x4\",\"y\":[20.50340849501835],\"yaxis\":\"y4\"}],                        {\"height\":900,\"template\":{\"data\":{\"bar\":[{\"error_x\":{\"color\":\"#2a3f5f\"},\"error_y\":{\"color\":\"#2a3f5f\"},\"marker\":{\"line\":{\"color\":\"#E5ECF6\",\"width\":0.5},\"pattern\":{\"fillmode\":\"overlay\",\"size\":10,\"solidity\":0.2}},\"type\":\"bar\"}],\"barpolar\":[{\"marker\":{\"line\":{\"color\":\"#E5ECF6\",\"width\":0.5},\"pattern\":{\"fillmode\":\"overlay\",\"size\":10,\"solidity\":0.2}},\"type\":\"barpolar\"}],\"carpet\":[{\"aaxis\":{\"endlinecolor\":\"#2a3f5f\",\"gridcolor\":\"white\",\"linecolor\":\"white\",\"minorgridcolor\":\"white\",\"startlinecolor\":\"#2a3f5f\"},\"baxis\":{\"endlinecolor\":\"#2a3f5f\",\"gridcolor\":\"white\",\"linecolor\":\"white\",\"minorgridcolor\":\"white\",\"startlinecolor\":\"#2a3f5f\"},\"type\":\"carpet\"}],\"choropleth\":[{\"colorbar\":{\"outlinewidth\":0,\"ticks\":\"\"},\"type\":\"choropleth\"}],\"contour\":[{\"colorbar\":{\"outlinewidth\":0,\"ticks\":\"\"},\"colorscale\":[[0.0,\"#0d0887\"],[0.1111111111111111,\"#46039f\"],[0.2222222222222222,\"#7201a8\"],[0.3333333333333333,\"#9c179e\"],[0.4444444444444444,\"#bd3786\"],[0.5555555555555556,\"#d8576b\"],[0.6666666666666666,\"#ed7953\"],[0.7777777777777778,\"#fb9f3a\"],[0.8888888888888888,\"#fdca26\"],[1.0,\"#f0f921\"]],\"type\":\"contour\"}],\"contourcarpet\":[{\"colorbar\":{\"outlinewidth\":0,\"ticks\":\"\"},\"type\":\"contourcarpet\"}],\"heatmap\":[{\"colorbar\":{\"outlinewidth\":0,\"ticks\":\"\"},\"colorscale\":[[0.0,\"#0d0887\"],[0.1111111111111111,\"#46039f\"],[0.2222222222222222,\"#7201a8\"],[0.3333333333333333,\"#9c179e\"],[0.4444444444444444,\"#bd3786\"],[0.5555555555555556,\"#d8576b\"],[0.6666666666666666,\"#ed7953\"],[0.7777777777777778,\"#fb9f3a\"],[0.8888888888888888,\"#fdca26\"],[1.0,\"#f0f921\"]],\"type\":\"heatmap\"}],\"heatmapgl\":[{\"colorbar\":{\"outlinewidth\":0,\"ticks\":\"\"},\"colorscale\":[[0.0,\"#0d0887\"],[0.1111111111111111,\"#46039f\"],[0.2222222222222222,\"#7201a8\"],[0.3333333333333333,\"#9c179e\"],[0.4444444444444444,\"#bd3786\"],[0.5555555555555556,\"#d8576b\"],[0.6666666666666666,\"#ed7953\"],[0.7777777777777778,\"#fb9f3a\"],[0.8888888888888888,\"#fdca26\"],[1.0,\"#f0f921\"]],\"type\":\"heatmapgl\"}],\"histogram\":[{\"marker\":{\"pattern\":{\"fillmode\":\"overlay\",\"size\":10,\"solidity\":0.2}},\"type\":\"histogram\"}],\"histogram2d\":[{\"colorbar\":{\"outlinewidth\":0,\"ticks\":\"\"},\"colorscale\":[[0.0,\"#0d0887\"],[0.1111111111111111,\"#46039f\"],[0.2222222222222222,\"#7201a8\"],[0.3333333333333333,\"#9c179e\"],[0.4444444444444444,\"#bd3786\"],[0.5555555555555556,\"#d8576b\"],[0.6666666666666666,\"#ed7953\"],[0.7777777777777778,\"#fb9f3a\"],[0.8888888888888888,\"#fdca26\"],[1.0,\"#f0f921\"]],\"type\":\"histogram2d\"}],\"histogram2dcontour\":[{\"colorbar\":{\"outlinewidth\":0,\"ticks\":\"\"},\"colorscale\":[[0.0,\"#0d0887\"],[0.1111111111111111,\"#46039f\"],[0.2222222222222222,\"#7201a8\"],[0.3333333333333333,\"#9c179e\"],[0.4444444444444444,\"#bd3786\"],[0.5555555555555556,\"#d8576b\"],[0.6666666666666666,\"#ed7953\"],[0.7777777777777778,\"#fb9f3a\"],[0.8888888888888888,\"#fdca26\"],[1.0,\"#f0f921\"]],\"type\":\"histogram2dcontour\"}],\"mesh3d\":[{\"colorbar\":{\"outlinewidth\":0,\"ticks\":\"\"},\"type\":\"mesh3d\"}],\"parcoords\":[{\"line\":{\"colorbar\":{\"outlinewidth\":0,\"ticks\":\"\"}},\"type\":\"parcoords\"}],\"pie\":[{\"automargin\":true,\"type\":\"pie\"}],\"scatter\":[{\"marker\":{\"colorbar\":{\"outlinewidth\":0,\"ticks\":\"\"}},\"type\":\"scatter\"}],\"scatter3d\":[{\"line\":{\"colorbar\":{\"outlinewidth\":0,\"ticks\":\"\"}},\"marker\":{\"colorbar\":{\"outlinewidth\":0,\"ticks\":\"\"}},\"type\":\"scatter3d\"}],\"scattercarpet\":[{\"marker\":{\"colorbar\":{\"outlinewidth\":0,\"ticks\":\"\"}},\"type\":\"scattercarpet\"}],\"scattergeo\":[{\"marker\":{\"colorbar\":{\"outlinewidth\":0,\"ticks\":\"\"}},\"type\":\"scattergeo\"}],\"scattergl\":[{\"marker\":{\"colorbar\":{\"outlinewidth\":0,\"ticks\":\"\"}},\"type\":\"scattergl\"}],\"scattermapbox\":[{\"marker\":{\"colorbar\":{\"outlinewidth\":0,\"ticks\":\"\"}},\"type\":\"scattermapbox\"}],\"scatterpolar\":[{\"marker\":{\"colorbar\":{\"outlinewidth\":0,\"ticks\":\"\"}},\"type\":\"scatterpolar\"}],\"scatterpolargl\":[{\"marker\":{\"colorbar\":{\"outlinewidth\":0,\"ticks\":\"\"}},\"type\":\"scatterpolargl\"}],\"scatterternary\":[{\"marker\":{\"colorbar\":{\"outlinewidth\":0,\"ticks\":\"\"}},\"type\":\"scatterternary\"}],\"surface\":[{\"colorbar\":{\"outlinewidth\":0,\"ticks\":\"\"},\"colorscale\":[[0.0,\"#0d0887\"],[0.1111111111111111,\"#46039f\"],[0.2222222222222222,\"#7201a8\"],[0.3333333333333333,\"#9c179e\"],[0.4444444444444444,\"#bd3786\"],[0.5555555555555556,\"#d8576b\"],[0.6666666666666666,\"#ed7953\"],[0.7777777777777778,\"#fb9f3a\"],[0.8888888888888888,\"#fdca26\"],[1.0,\"#f0f921\"]],\"type\":\"surface\"}],\"table\":[{\"cells\":{\"fill\":{\"color\":\"#EBF0F8\"},\"line\":{\"color\":\"white\"}},\"header\":{\"fill\":{\"color\":\"#C8D4E3\"},\"line\":{\"color\":\"white\"}},\"type\":\"table\"}]},\"layout\":{\"annotationdefaults\":{\"arrowcolor\":\"#2a3f5f\",\"arrowhead\":0,\"arrowwidth\":1},\"autotypenumbers\":\"strict\",\"coloraxis\":{\"colorbar\":{\"outlinewidth\":0,\"ticks\":\"\"}},\"colorscale\":{\"diverging\":[[0,\"#8e0152\"],[0.1,\"#c51b7d\"],[0.2,\"#de77ae\"],[0.3,\"#f1b6da\"],[0.4,\"#fde0ef\"],[0.5,\"#f7f7f7\"],[0.6,\"#e6f5d0\"],[0.7,\"#b8e186\"],[0.8,\"#7fbc41\"],[0.9,\"#4d9221\"],[1,\"#276419\"]],\"sequential\":[[0.0,\"#0d0887\"],[0.1111111111111111,\"#46039f\"],[0.2222222222222222,\"#7201a8\"],[0.3333333333333333,\"#9c179e\"],[0.4444444444444444,\"#bd3786\"],[0.5555555555555556,\"#d8576b\"],[0.6666666666666666,\"#ed7953\"],[0.7777777777777778,\"#fb9f3a\"],[0.8888888888888888,\"#fdca26\"],[1.0,\"#f0f921\"]],\"sequentialminus\":[[0.0,\"#0d0887\"],[0.1111111111111111,\"#46039f\"],[0.2222222222222222,\"#7201a8\"],[0.3333333333333333,\"#9c179e\"],[0.4444444444444444,\"#bd3786\"],[0.5555555555555556,\"#d8576b\"],[0.6666666666666666,\"#ed7953\"],[0.7777777777777778,\"#fb9f3a\"],[0.8888888888888888,\"#fdca26\"],[1.0,\"#f0f921\"]]},\"colorway\":[\"#636efa\",\"#EF553B\",\"#00cc96\",\"#ab63fa\",\"#FFA15A\",\"#19d3f3\",\"#FF6692\",\"#B6E880\",\"#FF97FF\",\"#FECB52\"],\"font\":{\"color\":\"#2a3f5f\"},\"geo\":{\"bgcolor\":\"white\",\"lakecolor\":\"white\",\"landcolor\":\"#E5ECF6\",\"showlakes\":true,\"showland\":true,\"subunitcolor\":\"white\"},\"hoverlabel\":{\"align\":\"left\"},\"hovermode\":\"closest\",\"mapbox\":{\"style\":\"light\"},\"paper_bgcolor\":\"white\",\"plot_bgcolor\":\"#E5ECF6\",\"polar\":{\"angularaxis\":{\"gridcolor\":\"white\",\"linecolor\":\"white\",\"ticks\":\"\"},\"bgcolor\":\"#E5ECF6\",\"radialaxis\":{\"gridcolor\":\"white\",\"linecolor\":\"white\",\"ticks\":\"\"}},\"scene\":{\"xaxis\":{\"backgroundcolor\":\"#E5ECF6\",\"gridcolor\":\"white\",\"gridwidth\":2,\"linecolor\":\"white\",\"showbackground\":true,\"ticks\":\"\",\"zerolinecolor\":\"white\"},\"yaxis\":{\"backgroundcolor\":\"#E5ECF6\",\"gridcolor\":\"white\",\"gridwidth\":2,\"linecolor\":\"white\",\"showbackground\":true,\"ticks\":\"\",\"zerolinecolor\":\"white\"},\"zaxis\":{\"backgroundcolor\":\"#E5ECF6\",\"gridcolor\":\"white\",\"gridwidth\":2,\"linecolor\":\"white\",\"showbackground\":true,\"ticks\":\"\",\"zerolinecolor\":\"white\"}},\"shapedefaults\":{\"line\":{\"color\":\"#2a3f5f\"}},\"ternary\":{\"aaxis\":{\"gridcolor\":\"white\",\"linecolor\":\"white\",\"ticks\":\"\"},\"baxis\":{\"gridcolor\":\"white\",\"linecolor\":\"white\",\"ticks\":\"\"},\"bgcolor\":\"#E5ECF6\",\"caxis\":{\"gridcolor\":\"white\",\"linecolor\":\"white\",\"ticks\":\"\"}},\"title\":{\"x\":0.05},\"xaxis\":{\"automargin\":true,\"gridcolor\":\"white\",\"linecolor\":\"white\",\"ticks\":\"\",\"title\":{\"standoff\":15},\"zerolinecolor\":\"white\",\"zerolinewidth\":2},\"yaxis\":{\"automargin\":true,\"gridcolor\":\"white\",\"linecolor\":\"white\",\"ticks\":\"\",\"title\":{\"standoff\":15},\"zerolinecolor\":\"white\",\"zerolinewidth\":2}}},\"title\":{\"text\":\"102 Dalmatians (2000) - Gender Statistics\"},\"uniformtext\":{\"minsize\":15},\"width\":1100,\"xaxis\":{\"anchor\":\"y\",\"domain\":[0.0,1.0]},\"xaxis2\":{\"anchor\":\"y2\",\"domain\":[0.0,0.2888888888888889]},\"xaxis3\":{\"anchor\":\"y3\",\"domain\":[0.35555555555555557,0.6444444444444445]},\"xaxis4\":{\"anchor\":\"y4\",\"domain\":[0.7111111111111111,1.0]},\"yaxis\":{\"anchor\":\"x\",\"domain\":[0.575,1.0]},\"yaxis2\":{\"anchor\":\"x2\",\"domain\":[0.0,0.425]},\"yaxis3\":{\"anchor\":\"x3\",\"domain\":[0.0,0.425]},\"yaxis4\":{\"anchor\":\"x4\",\"domain\":[0.0,0.425]}},                        {\"responsive\": true}                    ).then(function(){\n",
       "                            \n",
       "var gd = document.getElementById('13fbf52d-e85d-4da1-ae9e-30416a873c0a');\n",
       "var x = new MutationObserver(function (mutations, observer) {{\n",
       "        var display = window.getComputedStyle(gd).display;\n",
       "        if (!display || display === 'none') {{\n",
       "            console.log([gd, 'removed!']);\n",
       "            Plotly.purge(gd);\n",
       "            observer.disconnect();\n",
       "        }}\n",
       "}});\n",
       "\n",
       "// Listen for the removal of the full notebook cells\n",
       "var notebookContainer = gd.closest('#notebook-container');\n",
       "if (notebookContainer) {{\n",
       "    x.observe(notebookContainer, {childList: true});\n",
       "}}\n",
       "\n",
       "// Listen for the clearing of the current output cell\n",
       "var outputEl = gd.closest('.output');\n",
       "if (outputEl) {{\n",
       "    x.observe(outputEl, {childList: true});\n",
       "}}\n",
       "\n",
       "                        })                };                });            </script>        </div>"
      ]
     },
     "metadata": {},
     "output_type": "display_data"
    }
   ],
   "source": [
    "dashboard_gender(\"102 Dalmatians (2000)\", df_one)"
   ]
  },
  {
   "cell_type": "markdown",
   "id": "291376d6",
   "metadata": {},
   "source": [
    "## Horizontal bar plot of movies with the most number of women on screen"
   ]
  },
  {
   "cell_type": "code",
   "execution_count": 551,
   "id": "f41ab4d4",
   "metadata": {},
   "outputs": [],
   "source": [
    "from sklearn.preprocessing import OneHotEncoder\n"
   ]
  },
  {
   "cell_type": "code",
   "execution_count": 552,
   "id": "913b674e",
   "metadata": {},
   "outputs": [],
   "source": [
    "def output_preproc(df):\n",
    "    '''One Hot Encodes gender and race data from output dataframe'''\n",
    "    ohe_g = OneHotEncoder(sparse=False)\n",
    "\n",
    "    ohe_g.fit(df[['gender']])\n",
    "    gender_encoded = ohe_g.transform(df[['gender']])\n",
    "    results_g = gender_encoded.T\n",
    "\n",
    "    for i, cat in enumerate(ohe_g.categories_[0]):\n",
    "        df[cat] = results_g[i]\n",
    "\n",
    "    ohe_r = OneHotEncoder(sparse=False)\n",
    "\n",
    "    ohe_r.fit(df[['race']])\n",
    "    race_encoded = ohe_r.transform(df[['race']])\n",
    "    results_r = race_encoded.T\n",
    "\n",
    "    for i, cat in enumerate(ohe_r.categories_[0]):\n",
    "        df[cat] = results_r[i]\n",
    "\n",
    "    return df\n",
    "\n",
    "\n",
    "def woman_of_color(x):\n",
    "    if 'Woman' in x and 'white' not in x:\n",
    "        return 1\n",
    "    return 0"
   ]
  },
  {
   "cell_type": "code",
   "execution_count": 588,
   "id": "e3d09632",
   "metadata": {},
   "outputs": [],
   "source": [
    "def baseline_stats(df):\n",
    "    '''Creates a dataframe of engineered/composite features from preprocessed output'''\n",
    "    df_new = output_preproc(df)\n",
    "\n",
    "    df_new['women_of_color'] = df_new['gender'] + ' ' + df_new['race']\n",
    "    df_new['women_of_color'] = df_new['women_of_color'].apply(woman_of_color)\n",
    "\n",
    "    df_new = df_new.groupby('frame_number').sum()\n",
    "\n",
    "    df_new['face_count'] = df_new['Man'] + df_new['Woman']\n",
    "\n",
    "    only_men = len(df_new[df_new['Woman'] == 0])\n",
    "    only_women = len(df_new[df_new['Man'] == 0])\n",
    "\n",
    "\n",
    "    dict_stats = {\n",
    "        'total_frames': [len(df_new)],\n",
    "        'total_seconds': [len(df_new) / 2],\n",
    "        'total_faces': [df_new['face_count'].sum()],\n",
    "        'total_men': [df_new['Man'].sum()],\n",
    "        'total_women': [df_new['Woman'].sum()],\n",
    "        'total_women_of_color': [df_new['women_of_color'].sum()],\n",
    "        'only_men_count': only_men,\n",
    "        'only_women_count': only_women\n",
    "    }\n",
    "\n",
    "\n",
    "    for cat in [\"Man\",\n",
    "                \"Woman\",\n",
    "                \"asian\",\n",
    "                \"black\",\n",
    "                \"indian\",\n",
    "                \"latino hispanic\",\n",
    "                \"middle eastern\",\n",
    "                \"white\"] :\n",
    "\n",
    "        new_key = \"total\" + \"_\" + cat.strip().replace(\" \", \"_\")\n",
    "\n",
    "        if cat.strip() not in df_new.columns:\n",
    "            dict_stats[new_key] = [0]\n",
    "\n",
    "        else:\n",
    "            dict_stats[new_key] = [df_new[cat].sum()]\n",
    "\n",
    "\n",
    "    df_stats = pd.DataFrame.from_dict(dict_stats)\n",
    "\n",
    "    return df_stats\n",
    "\n",
    "\n",
    "def final_stats(df):\n",
    "    \n",
    "    '''Creates final statistical dataframe for use in dashboard'''\n",
    "    df_new = baseline_stats(df)\n",
    "\n",
    "    dict_stats = {\n",
    "        'man_screentime':\n",
    "        df_new['total_men'] / df_new['total_faces'] * 100,\n",
    "        'woman_screentime':\n",
    "        df_new['total_women'] / df_new['total_faces'] * 100,\n",
    "        'only_men':\n",
    "        df_new['only_men_count'] / df_new['total_frames'] * 100,\n",
    "        'only_women':\n",
    "        df_new['only_women_count'] / df_new['total_frames'] * 100,\n",
    "        'asian_screentime':\n",
    "        df_new['total_asian'] / df_new['total_faces'] * 100,\n",
    "        'black_screentime':\n",
    "        df_new['total_black'] / df_new['total_faces'] * 100,\n",
    "        'indian_screentime':\n",
    "        df_new['total_indian'] / df_new['total_faces'] * 100,\n",
    "        'latino_hispanic_screentime':\n",
    "        df_new['total_latino_hispanic'] / df_new['total_faces'] * 100,\n",
    "        'middle_eastern_screentime':\n",
    "        df_new['total_middle_eastern'] / df_new['total_faces'] * 100,\n",
    "        'white_screentime':\n",
    "        df_new['total_white'] / df_new['total_faces'] * 100,\n",
    "        'women_of_color':\n",
    "        df_new['total_women_of_color'] / df_new['total_frames'] * 100\n",
    "    }\n",
    "\n",
    "    final_df = pd.concat([pd.DataFrame.from_dict(dict_stats), df_new], axis=1)\n",
    "\n",
    "    return final_df"
   ]
  },
  {
   "cell_type": "code",
   "execution_count": 589,
   "id": "861d0008",
   "metadata": {},
   "outputs": [],
   "source": [
    "movie_title = \"102 Dalmatians (2000)\""
   ]
  },
  {
   "cell_type": "code",
   "execution_count": 590,
   "id": "1b746df3",
   "metadata": {},
   "outputs": [],
   "source": [
    "movie_name = movie_title.replace(\" \", \"_\")\n",
    "file_name = f'https://storage.googleapis.com/wagon-data-735-movie-diversity/CSVs/{movie_name}/statistics'\n",
    "df = pd.read_csv(file_name)"
   ]
  },
  {
   "cell_type": "code",
   "execution_count": 591,
   "id": "57a6b9e6",
   "metadata": {},
   "outputs": [
    {
     "data": {
      "text/html": [
       "<div>\n",
       "<style scoped>\n",
       "    .dataframe tbody tr th:only-of-type {\n",
       "        vertical-align: middle;\n",
       "    }\n",
       "\n",
       "    .dataframe tbody tr th {\n",
       "        vertical-align: top;\n",
       "    }\n",
       "\n",
       "    .dataframe thead th {\n",
       "        text-align: right;\n",
       "    }\n",
       "</style>\n",
       "<table border=\"1\" class=\"dataframe\">\n",
       "  <thead>\n",
       "    <tr style=\"text-align: right;\">\n",
       "      <th></th>\n",
       "      <th>man_screentime</th>\n",
       "      <th>woman_screentime</th>\n",
       "      <th>only_men</th>\n",
       "      <th>only_women</th>\n",
       "      <th>asian_screentime</th>\n",
       "      <th>black_screentime</th>\n",
       "      <th>indian_screentime</th>\n",
       "      <th>latino_hispanic_screentime</th>\n",
       "      <th>middle_eastern_screentime</th>\n",
       "      <th>white_screentime</th>\n",
       "      <th>...</th>\n",
       "      <th>only_men_count</th>\n",
       "      <th>only_women_count</th>\n",
       "      <th>total_Man</th>\n",
       "      <th>total_Woman</th>\n",
       "      <th>total_asian</th>\n",
       "      <th>total_black</th>\n",
       "      <th>total_indian</th>\n",
       "      <th>total_latino_hispanic</th>\n",
       "      <th>total_middle_eastern</th>\n",
       "      <th>total_white</th>\n",
       "    </tr>\n",
       "  </thead>\n",
       "  <tbody>\n",
       "    <tr>\n",
       "      <th>0</th>\n",
       "      <td>85.389134</td>\n",
       "      <td>14.610866</td>\n",
       "      <td>79.496592</td>\n",
       "      <td>12.742528</td>\n",
       "      <td>3.04699</td>\n",
       "      <td>1.321586</td>\n",
       "      <td>0.734214</td>\n",
       "      <td>4.038179</td>\n",
       "      <td>2.53304</td>\n",
       "      <td>88.325991</td>\n",
       "      <td>...</td>\n",
       "      <td>1516</td>\n",
       "      <td>243</td>\n",
       "      <td>2326.0</td>\n",
       "      <td>398.0</td>\n",
       "      <td>83.0</td>\n",
       "      <td>36.0</td>\n",
       "      <td>20.0</td>\n",
       "      <td>110.0</td>\n",
       "      <td>69.0</td>\n",
       "      <td>2406.0</td>\n",
       "    </tr>\n",
       "  </tbody>\n",
       "</table>\n",
       "<p>1 rows × 27 columns</p>\n",
       "</div>"
      ],
      "text/plain": [
       "   man_screentime  woman_screentime   only_men  only_women  asian_screentime  \\\n",
       "0       85.389134         14.610866  79.496592   12.742528           3.04699   \n",
       "\n",
       "   black_screentime  indian_screentime  latino_hispanic_screentime  \\\n",
       "0          1.321586           0.734214                    4.038179   \n",
       "\n",
       "   middle_eastern_screentime  white_screentime  ...  only_men_count  \\\n",
       "0                    2.53304         88.325991  ...            1516   \n",
       "\n",
       "   only_women_count  total_Man  total_Woman  total_asian  total_black  \\\n",
       "0               243     2326.0        398.0         83.0         36.0   \n",
       "\n",
       "   total_indian  total_latino_hispanic  total_middle_eastern  total_white  \n",
       "0          20.0                  110.0                  69.0       2406.0  \n",
       "\n",
       "[1 rows x 27 columns]"
      ]
     },
     "execution_count": 591,
     "metadata": {},
     "output_type": "execute_result"
    }
   ],
   "source": [
    "df"
   ]
  },
  {
   "cell_type": "markdown",
   "id": "5b7aebe3",
   "metadata": {},
   "source": [
    "# Horizontal barplot in decending order of number of woman on screen"
   ]
  },
  {
   "cell_type": "code",
   "execution_count": 738,
   "id": "3472216f",
   "metadata": {},
   "outputs": [
    {
     "name": "stderr",
     "output_type": "stream",
     "text": [
      "100%|████████████████████████████████████| 161/161 [00:21<00:00,  7.40it/s]\n"
     ]
    }
   ],
   "source": [
    "df = get_evolution_data()"
   ]
  },
  {
   "cell_type": "code",
   "execution_count": 739,
   "id": "33276703",
   "metadata": {},
   "outputs": [
    {
     "data": {
      "text/html": [
       "<div>\n",
       "<style scoped>\n",
       "    .dataframe tbody tr th:only-of-type {\n",
       "        vertical-align: middle;\n",
       "    }\n",
       "\n",
       "    .dataframe tbody tr th {\n",
       "        vertical-align: top;\n",
       "    }\n",
       "\n",
       "    .dataframe thead th {\n",
       "        text-align: right;\n",
       "    }\n",
       "</style>\n",
       "<table border=\"1\" class=\"dataframe\">\n",
       "  <thead>\n",
       "    <tr style=\"text-align: right;\">\n",
       "      <th></th>\n",
       "      <th>man_screentime</th>\n",
       "      <th>woman_screentime</th>\n",
       "      <th>only_men</th>\n",
       "      <th>only_women</th>\n",
       "      <th>asian_screentime</th>\n",
       "      <th>black_screentime</th>\n",
       "      <th>indian_screentime</th>\n",
       "      <th>latino_hispanic_screentime</th>\n",
       "      <th>middle_eastern_screentime</th>\n",
       "      <th>white_screentime</th>\n",
       "      <th>...</th>\n",
       "      <th>total_Man</th>\n",
       "      <th>total_Woman</th>\n",
       "      <th>total_asian</th>\n",
       "      <th>total_black</th>\n",
       "      <th>total_indian</th>\n",
       "      <th>total_latino_hispanic</th>\n",
       "      <th>total_middle_eastern</th>\n",
       "      <th>total_white</th>\n",
       "      <th>title</th>\n",
       "      <th>year</th>\n",
       "    </tr>\n",
       "  </thead>\n",
       "  <tbody>\n",
       "    <tr>\n",
       "      <th>0</th>\n",
       "      <td>94.101509</td>\n",
       "      <td>5.898491</td>\n",
       "      <td>91.476710</td>\n",
       "      <td>5.946482</td>\n",
       "      <td>4.183813</td>\n",
       "      <td>0.411523</td>\n",
       "      <td>2.057613</td>\n",
       "      <td>2.263374</td>\n",
       "      <td>4.595336</td>\n",
       "      <td>86.488340</td>\n",
       "      <td>...</td>\n",
       "      <td>1372.0</td>\n",
       "      <td>86.0</td>\n",
       "      <td>61.0</td>\n",
       "      <td>6.0</td>\n",
       "      <td>30.0</td>\n",
       "      <td>33.0</td>\n",
       "      <td>67.0</td>\n",
       "      <td>1261.0</td>\n",
       "      <td>The_Hunchback_of_Notre_Dame_(1923)</td>\n",
       "      <td>1923-01-01</td>\n",
       "    </tr>\n",
       "    <tr>\n",
       "      <th>0</th>\n",
       "      <td>96.304719</td>\n",
       "      <td>3.695281</td>\n",
       "      <td>90.707965</td>\n",
       "      <td>6.342183</td>\n",
       "      <td>2.103468</td>\n",
       "      <td>7.220011</td>\n",
       "      <td>2.615122</td>\n",
       "      <td>4.206936</td>\n",
       "      <td>2.728823</td>\n",
       "      <td>81.125640</td>\n",
       "      <td>...</td>\n",
       "      <td>1694.0</td>\n",
       "      <td>65.0</td>\n",
       "      <td>37.0</td>\n",
       "      <td>127.0</td>\n",
       "      <td>46.0</td>\n",
       "      <td>74.0</td>\n",
       "      <td>48.0</td>\n",
       "      <td>1427.0</td>\n",
       "      <td>The_Lost_World_(1925)</td>\n",
       "      <td>1925-01-01</td>\n",
       "    </tr>\n",
       "    <tr>\n",
       "      <th>0</th>\n",
       "      <td>90.578735</td>\n",
       "      <td>9.421265</td>\n",
       "      <td>87.899942</td>\n",
       "      <td>8.260617</td>\n",
       "      <td>2.781516</td>\n",
       "      <td>2.198295</td>\n",
       "      <td>3.095559</td>\n",
       "      <td>4.665769</td>\n",
       "      <td>5.204127</td>\n",
       "      <td>82.054733</td>\n",
       "      <td>...</td>\n",
       "      <td>2019.0</td>\n",
       "      <td>210.0</td>\n",
       "      <td>62.0</td>\n",
       "      <td>49.0</td>\n",
       "      <td>69.0</td>\n",
       "      <td>104.0</td>\n",
       "      <td>116.0</td>\n",
       "      <td>1829.0</td>\n",
       "      <td>Dr._Jekyll_and_Mr._Hyde_(1931)</td>\n",
       "      <td>1931-01-01</td>\n",
       "    </tr>\n",
       "    <tr>\n",
       "      <th>0</th>\n",
       "      <td>93.626943</td>\n",
       "      <td>6.373057</td>\n",
       "      <td>90.096618</td>\n",
       "      <td>6.843800</td>\n",
       "      <td>3.056995</td>\n",
       "      <td>1.036269</td>\n",
       "      <td>2.020725</td>\n",
       "      <td>4.455959</td>\n",
       "      <td>8.290155</td>\n",
       "      <td>81.139896</td>\n",
       "      <td>...</td>\n",
       "      <td>1807.0</td>\n",
       "      <td>123.0</td>\n",
       "      <td>59.0</td>\n",
       "      <td>20.0</td>\n",
       "      <td>39.0</td>\n",
       "      <td>86.0</td>\n",
       "      <td>160.0</td>\n",
       "      <td>1566.0</td>\n",
       "      <td>Frankenstein_(1931)</td>\n",
       "      <td>1931-01-01</td>\n",
       "    </tr>\n",
       "    <tr>\n",
       "      <th>0</th>\n",
       "      <td>82.366864</td>\n",
       "      <td>17.633136</td>\n",
       "      <td>79.891304</td>\n",
       "      <td>13.179348</td>\n",
       "      <td>1.775148</td>\n",
       "      <td>2.366864</td>\n",
       "      <td>2.958580</td>\n",
       "      <td>5.325444</td>\n",
       "      <td>1.183432</td>\n",
       "      <td>86.390533</td>\n",
       "      <td>...</td>\n",
       "      <td>696.0</td>\n",
       "      <td>149.0</td>\n",
       "      <td>15.0</td>\n",
       "      <td>20.0</td>\n",
       "      <td>25.0</td>\n",
       "      <td>45.0</td>\n",
       "      <td>10.0</td>\n",
       "      <td>730.0</td>\n",
       "      <td>White_Zombie_(1932)</td>\n",
       "      <td>1932-01-01</td>\n",
       "    </tr>\n",
       "    <tr>\n",
       "      <th>...</th>\n",
       "      <td>...</td>\n",
       "      <td>...</td>\n",
       "      <td>...</td>\n",
       "      <td>...</td>\n",
       "      <td>...</td>\n",
       "      <td>...</td>\n",
       "      <td>...</td>\n",
       "      <td>...</td>\n",
       "      <td>...</td>\n",
       "      <td>...</td>\n",
       "      <td>...</td>\n",
       "      <td>...</td>\n",
       "      <td>...</td>\n",
       "      <td>...</td>\n",
       "      <td>...</td>\n",
       "      <td>...</td>\n",
       "      <td>...</td>\n",
       "      <td>...</td>\n",
       "      <td>...</td>\n",
       "      <td>...</td>\n",
       "      <td>...</td>\n",
       "    </tr>\n",
       "    <tr>\n",
       "      <th>0</th>\n",
       "      <td>84.794397</td>\n",
       "      <td>15.205603</td>\n",
       "      <td>66.019726</td>\n",
       "      <td>16.958320</td>\n",
       "      <td>5.772707</td>\n",
       "      <td>3.886127</td>\n",
       "      <td>3.648893</td>\n",
       "      <td>8.269318</td>\n",
       "      <td>5.377316</td>\n",
       "      <td>73.045639</td>\n",
       "      <td>...</td>\n",
       "      <td>7506.0</td>\n",
       "      <td>1346.0</td>\n",
       "      <td>511.0</td>\n",
       "      <td>344.0</td>\n",
       "      <td>323.0</td>\n",
       "      <td>732.0</td>\n",
       "      <td>476.0</td>\n",
       "      <td>6466.0</td>\n",
       "      <td>Mamma_Mia!_Here_We_Go_Again_(2018)</td>\n",
       "      <td>2018-01-01</td>\n",
       "    </tr>\n",
       "    <tr>\n",
       "      <th>0</th>\n",
       "      <td>83.738356</td>\n",
       "      <td>16.261644</td>\n",
       "      <td>74.544818</td>\n",
       "      <td>12.745098</td>\n",
       "      <td>6.156339</td>\n",
       "      <td>2.187120</td>\n",
       "      <td>1.964358</td>\n",
       "      <td>5.629810</td>\n",
       "      <td>2.531389</td>\n",
       "      <td>81.530984</td>\n",
       "      <td>...</td>\n",
       "      <td>4135.0</td>\n",
       "      <td>803.0</td>\n",
       "      <td>304.0</td>\n",
       "      <td>108.0</td>\n",
       "      <td>97.0</td>\n",
       "      <td>278.0</td>\n",
       "      <td>125.0</td>\n",
       "      <td>4026.0</td>\n",
       "      <td>Mary_Poppins_Returns_(2018)</td>\n",
       "      <td>2018-01-01</td>\n",
       "    </tr>\n",
       "    <tr>\n",
       "      <th>0</th>\n",
       "      <td>80.009255</td>\n",
       "      <td>19.990745</td>\n",
       "      <td>72.528202</td>\n",
       "      <td>21.101526</td>\n",
       "      <td>18.695049</td>\n",
       "      <td>4.488663</td>\n",
       "      <td>2.591393</td>\n",
       "      <td>15.085609</td>\n",
       "      <td>3.146691</td>\n",
       "      <td>55.992596</td>\n",
       "      <td>...</td>\n",
       "      <td>1729.0</td>\n",
       "      <td>432.0</td>\n",
       "      <td>404.0</td>\n",
       "      <td>97.0</td>\n",
       "      <td>56.0</td>\n",
       "      <td>326.0</td>\n",
       "      <td>68.0</td>\n",
       "      <td>1210.0</td>\n",
       "      <td>Bumblebee_(2018)</td>\n",
       "      <td>2018-01-01</td>\n",
       "    </tr>\n",
       "    <tr>\n",
       "      <th>0</th>\n",
       "      <td>95.707633</td>\n",
       "      <td>4.292367</td>\n",
       "      <td>93.356401</td>\n",
       "      <td>2.076125</td>\n",
       "      <td>7.410407</td>\n",
       "      <td>59.769184</td>\n",
       "      <td>3.158534</td>\n",
       "      <td>4.656813</td>\n",
       "      <td>1.801984</td>\n",
       "      <td>23.203078</td>\n",
       "      <td>...</td>\n",
       "      <td>4727.0</td>\n",
       "      <td>212.0</td>\n",
       "      <td>366.0</td>\n",
       "      <td>2952.0</td>\n",
       "      <td>156.0</td>\n",
       "      <td>230.0</td>\n",
       "      <td>89.0</td>\n",
       "      <td>1146.0</td>\n",
       "      <td>Black_Panther_(2018)</td>\n",
       "      <td>2018-01-01</td>\n",
       "    </tr>\n",
       "    <tr>\n",
       "      <th>0</th>\n",
       "      <td>93.146853</td>\n",
       "      <td>6.853147</td>\n",
       "      <td>91.218638</td>\n",
       "      <td>5.824373</td>\n",
       "      <td>13.636364</td>\n",
       "      <td>1.958042</td>\n",
       "      <td>3.986014</td>\n",
       "      <td>18.881119</td>\n",
       "      <td>1.398601</td>\n",
       "      <td>60.139860</td>\n",
       "      <td>...</td>\n",
       "      <td>1332.0</td>\n",
       "      <td>98.0</td>\n",
       "      <td>195.0</td>\n",
       "      <td>28.0</td>\n",
       "      <td>57.0</td>\n",
       "      <td>270.0</td>\n",
       "      <td>20.0</td>\n",
       "      <td>860.0</td>\n",
       "      <td>Scary_Stories_to_Tell_in_the_Dark_(2019)</td>\n",
       "      <td>2019-01-01</td>\n",
       "    </tr>\n",
       "  </tbody>\n",
       "</table>\n",
       "<p>161 rows × 29 columns</p>\n",
       "</div>"
      ],
      "text/plain": [
       "    man_screentime  woman_screentime   only_men  only_women  asian_screentime  \\\n",
       "0        94.101509          5.898491  91.476710    5.946482          4.183813   \n",
       "0        96.304719          3.695281  90.707965    6.342183          2.103468   \n",
       "0        90.578735          9.421265  87.899942    8.260617          2.781516   \n",
       "0        93.626943          6.373057  90.096618    6.843800          3.056995   \n",
       "0        82.366864         17.633136  79.891304   13.179348          1.775148   \n",
       "..             ...               ...        ...         ...               ...   \n",
       "0        84.794397         15.205603  66.019726   16.958320          5.772707   \n",
       "0        83.738356         16.261644  74.544818   12.745098          6.156339   \n",
       "0        80.009255         19.990745  72.528202   21.101526         18.695049   \n",
       "0        95.707633          4.292367  93.356401    2.076125          7.410407   \n",
       "0        93.146853          6.853147  91.218638    5.824373         13.636364   \n",
       "\n",
       "    black_screentime  indian_screentime  latino_hispanic_screentime  \\\n",
       "0           0.411523           2.057613                    2.263374   \n",
       "0           7.220011           2.615122                    4.206936   \n",
       "0           2.198295           3.095559                    4.665769   \n",
       "0           1.036269           2.020725                    4.455959   \n",
       "0           2.366864           2.958580                    5.325444   \n",
       "..               ...                ...                         ...   \n",
       "0           3.886127           3.648893                    8.269318   \n",
       "0           2.187120           1.964358                    5.629810   \n",
       "0           4.488663           2.591393                   15.085609   \n",
       "0          59.769184           3.158534                    4.656813   \n",
       "0           1.958042           3.986014                   18.881119   \n",
       "\n",
       "    middle_eastern_screentime  white_screentime  ...  total_Man  total_Woman  \\\n",
       "0                    4.595336         86.488340  ...     1372.0         86.0   \n",
       "0                    2.728823         81.125640  ...     1694.0         65.0   \n",
       "0                    5.204127         82.054733  ...     2019.0        210.0   \n",
       "0                    8.290155         81.139896  ...     1807.0        123.0   \n",
       "0                    1.183432         86.390533  ...      696.0        149.0   \n",
       "..                        ...               ...  ...        ...          ...   \n",
       "0                    5.377316         73.045639  ...     7506.0       1346.0   \n",
       "0                    2.531389         81.530984  ...     4135.0        803.0   \n",
       "0                    3.146691         55.992596  ...     1729.0        432.0   \n",
       "0                    1.801984         23.203078  ...     4727.0        212.0   \n",
       "0                    1.398601         60.139860  ...     1332.0         98.0   \n",
       "\n",
       "    total_asian  total_black  total_indian  total_latino_hispanic  \\\n",
       "0          61.0          6.0          30.0                   33.0   \n",
       "0          37.0        127.0          46.0                   74.0   \n",
       "0          62.0         49.0          69.0                  104.0   \n",
       "0          59.0         20.0          39.0                   86.0   \n",
       "0          15.0         20.0          25.0                   45.0   \n",
       "..          ...          ...           ...                    ...   \n",
       "0         511.0        344.0         323.0                  732.0   \n",
       "0         304.0        108.0          97.0                  278.0   \n",
       "0         404.0         97.0          56.0                  326.0   \n",
       "0         366.0       2952.0         156.0                  230.0   \n",
       "0         195.0         28.0          57.0                  270.0   \n",
       "\n",
       "    total_middle_eastern  total_white  \\\n",
       "0                   67.0       1261.0   \n",
       "0                   48.0       1427.0   \n",
       "0                  116.0       1829.0   \n",
       "0                  160.0       1566.0   \n",
       "0                   10.0        730.0   \n",
       "..                   ...          ...   \n",
       "0                  476.0       6466.0   \n",
       "0                  125.0       4026.0   \n",
       "0                   68.0       1210.0   \n",
       "0                   89.0       1146.0   \n",
       "0                   20.0        860.0   \n",
       "\n",
       "                                       title       year  \n",
       "0         The_Hunchback_of_Notre_Dame_(1923) 1923-01-01  \n",
       "0                      The_Lost_World_(1925) 1925-01-01  \n",
       "0             Dr._Jekyll_and_Mr._Hyde_(1931) 1931-01-01  \n",
       "0                        Frankenstein_(1931) 1931-01-01  \n",
       "0                        White_Zombie_(1932) 1932-01-01  \n",
       "..                                       ...        ...  \n",
       "0         Mamma_Mia!_Here_We_Go_Again_(2018) 2018-01-01  \n",
       "0                Mary_Poppins_Returns_(2018) 2018-01-01  \n",
       "0                           Bumblebee_(2018) 2018-01-01  \n",
       "0                       Black_Panther_(2018) 2018-01-01  \n",
       "0   Scary_Stories_to_Tell_in_the_Dark_(2019) 2019-01-01  \n",
       "\n",
       "[161 rows x 29 columns]"
      ]
     },
     "execution_count": 739,
     "metadata": {},
     "output_type": "execute_result"
    }
   ],
   "source": [
    "df"
   ]
  },
  {
   "cell_type": "markdown",
   "id": "62b26a29",
   "metadata": {},
   "source": [
    "# GET REVENUE DATA"
   ]
  },
  {
   "cell_type": "code",
   "execution_count": 17,
   "id": "d3ea9682",
   "metadata": {},
   "outputs": [],
   "source": [
    "import requests"
   ]
  },
  {
   "cell_type": "code",
   "execution_count": 16,
   "id": "95e9e2cb",
   "metadata": {},
   "outputs": [],
   "source": [
    "api_key = '87337046eaf9c07ce51c68d19a21041a'"
   ]
  },
  {
   "cell_type": "code",
   "execution_count": 15,
   "id": "3b300593",
   "metadata": {},
   "outputs": [],
   "source": [
    "\n",
    "def fetch_movie_basic_data(movie):\n",
    "    \"\"\"\n",
    "    Get movie title ID from The Movie DB API. Returns error string if not found\n",
    "    \"\"\"\n",
    "    remove_4k = movie.lower().replace('[4k]', '').strip()\n",
    "    split_movie = remove_4k.split()\n",
    "    year = split_movie[-1].replace('(', '').replace(')', '')\n",
    "    search_terms = split_movie[:-1]\n",
    "    title = '+'.join(search_terms)\n",
    "    url = f'https://api.themoviedb.org/3/search/movie?api_key={api_key}&query={title}'\n",
    "\n",
    "    response = requests.get(url)\n",
    "\n",
    "    if response.status_code != 200:\n",
    "        return 'Error: status code not 200'\n",
    "\n",
    "    data = response.json()\n",
    "\n",
    "    keep_data = {}\n",
    "\n",
    "    for index in range(len(data['results'])):\n",
    "        if year in data['results'][index]['release_date']:\n",
    "            keep_data['release_date'] = data['results'][index]['release_date']\n",
    "            keep_data['original_language'] = data['results'][index][\n",
    "                'original_language']\n",
    "            keep_data['poster_path'] = data['results'][index]['poster_path']\n",
    "            return data['results'][index]['id'], keep_data\n",
    "\n",
    "\n",
    "\n",
    "\n",
    "def fetch_movie_details(movie):\n",
    "    \"\"\"\n",
    "    Get desired movie details from The Movie DB API. Returns error string if not found\n",
    "    \"\"\"\n",
    "    print(movie)\n",
    "\n",
    "    keep_data = {}\n",
    "\n",
    "    try: \n",
    "        \n",
    "        movie_id = fetch_movie_basic_data(movie)\n",
    "        url = f'https://api.themoviedb.org/3/movie/{movie_id[0]}?api_key={api_key}&language=en-US'\n",
    "    \n",
    "        response = requests.get(url)\n",
    "\n",
    "        if response.status_code != 200:\n",
    "            \n",
    "            keep_data['genres'] = \"None\"\n",
    "            keep_data['spoken_languages'] = \"None\"\n",
    "            keep_data['runtime'] = 0\n",
    "            keep_data['revenue'] = 0\n",
    "            \n",
    "            return keep_data\n",
    "        \n",
    "        else:\n",
    "            \n",
    "            data = response.json()\n",
    "            keep_data['genres'] = data['genres']\n",
    "            keep_data['spoken_languages'] = data['spoken_languages']\n",
    "            keep_data['runtime'] = data['runtime']\n",
    "            keep_data['revenue'] = data['revenue']\n",
    "\n",
    "            return keep_data   \n",
    "        \n",
    "    except:\n",
    "            keep_data['genres'] = \"None\"\n",
    "            keep_data['spoken_languages'] = \"None\"\n",
    "            keep_data['runtime'] = 0\n",
    "            keep_data['revenue'] = 0\n",
    "            \n",
    "            return keep_data"
   ]
  },
  {
   "cell_type": "code",
   "execution_count": 780,
   "id": "efe8fd22",
   "metadata": {},
   "outputs": [
    {
     "name": "stdout",
     "output_type": "stream",
     "text": [
      "300_(2006)\n"
     ]
    },
    {
     "data": {
      "text/plain": [
       "{'genres': 'None', 'spoken_languages': 'None', 'runtime': 0, 'revenue': 0}"
      ]
     },
     "execution_count": 780,
     "metadata": {},
     "output_type": "execute_result"
    }
   ],
   "source": [
    "fetch_movie_details(\"300_(2006)\")"
   ]
  },
  {
   "cell_type": "code",
   "execution_count": 781,
   "id": "328b5152",
   "metadata": {},
   "outputs": [],
   "source": [
    "def add_revenue(column):\n",
    "    \n",
    "    column = column.replace(\"_\", \" \")\n",
    "    \n",
    "    return fetch_movie_details(column).get(\"revenue\", None)\n",
    "    \n",
    "def add_runtime(column):\n",
    "    \n",
    "    column = column.replace(\"_\", \" \")\n",
    "    \n",
    "    return fetch_movie_details(column).get(\"runtime\", None)"
   ]
  },
  {
   "cell_type": "code",
   "execution_count": 782,
   "id": "fac185e4",
   "metadata": {
    "scrolled": true
   },
   "outputs": [
    {
     "name": "stdout",
     "output_type": "stream",
     "text": [
      "The Hunchback of Notre Dame (1923)\n",
      "The Lost World (1925)\n",
      "Dr. Jekyll and Mr. Hyde (1931)\n",
      "Frankenstein (1931)\n",
      "White Zombie (1932)\n",
      "Son of Frankenstein (1939)\n",
      "The Wolf Man (1941)\n",
      "The Mummy's Tomb (1942)\n",
      "Abbott and Costello Meet Frankenstein (1948)\n",
      "Anne of the Indies (1951)\n",
      "Roman Holiday (1953)\n",
      "Abbott and Costello Meet the Mummy (1955)\n",
      "This Island Earth (1955)\n",
      "Vertigo (1958)\n",
      "Psycho (1960)\n",
      "Cape Fear (1962)\n",
      "To Kill a Mockingbird (1962)\n",
      "Doctor Zhivago (1965)\n",
      "Bonnie and Clyde (1967)\n",
      "The Love Bug (1968)\n",
      "Willy Wonka & the Chocolate Factory (1971)\n",
      "The Million Dollar Duck (1971)\n",
      "The Godfather: Part II (1974)\n",
      "Carrie (1976)\n",
      "Superman (1978)\n",
      "The Black Hole (1979)\n",
      "Superman II (1980)\n",
      "Raiders of the Lost Ark (1981)\n",
      "Trading Places (1983)\n",
      "Supergirl (1984)\n",
      "A Nightmare on Elm Street (1984)\n",
      "Stand by Me (1986)\n",
      "The Princess Bride (1987)\n",
      "A Nightmare on Elm Street 3: Dream Warriors (1987)\n",
      "Masters of the Universe (1987)\n",
      "Killer Klowns from Outer Space (1988)\n",
      "Honey, I Shrunk the Kids (1989)\n",
      "Dances with Wolves (1990)\n",
      "The Godfather: Part III (1990)\n",
      "Edward Scissorhands (1990)\n",
      "Ernest Scared Stupid (1991)\n",
      "The Remains of the Day (1993)\n",
      "Pulp Fiction (1994)\n",
      "The Jungle Book (1994)\n",
      "Ace Ventura: Pet Detective (1994)\n",
      "Casper (1995)\n",
      "Ace Ventura: When Nature Calls (1995)\n",
      "Star Trek: First Contact (1996)\n",
      "Bound (1996)\n",
      "Homeward Bound II: Lost in San Francisco (1996)\n",
      "Titanic (1997)\n",
      "The Night Flier (1997)\n",
      "Madeline (1998)\n",
      "Halloweentown (1998)\n",
      "Sleepy Hollow (1999)\n",
      "The Ninth Gate (1999)\n",
      "102 Dalmatians (2000)\n",
      "X-Men (2000)\n",
      "Air Bud 3: World Pup (2001)\n",
      "Harry Potter and the Sorcerer's Stone (2001)\n",
      "Osmosis Jones (2001)\n",
      "Planet of the Apes (2001)\n",
      "Stuart Little 2 (2002)\n",
      "Men in Black II (2002)\n",
      "Austin Powers in Goldmember (2002)\n",
      "Sweet Home Alabama (2002)\n",
      "The Haunted Mansion (2003)\n",
      "Master and Commander: The Far Side of the World (2003)\n",
      "Ginger Snaps 2: Unleashed (2004)\n",
      "Fat Albert (2004)\n",
      "Troy (2004)\n",
      "The Princess Diaries 2: Royal Engagement (2004)\n",
      "The Punisher (2004)\n",
      "Van Helsing (2004)\n",
      "King Kong (2005)\n",
      "Harry Potter and the Goblet of Fire (2005)\n",
      "Elektra (2005)\n",
      "Herbie Fully Loaded (2005)\n",
      "Nanny McPhee (2005)\n",
      "The Shaggy Dog (2006)\n",
      "Night at the Museum (2006)\n",
      "Underworld: Evolution (2006)\n",
      "Zoom (2006)\n",
      "Abominable (2006)\n",
      "300 (2006)\n",
      "Air Buddies (2006)\n",
      "Fantastic 4: Rise of the Silver Surfer (2007)\n",
      "Mr. Bean's Holiday (2007)\n",
      "Juno (2007)\n",
      "Bridge to Terabithia (2007)\n",
      "Sex and the City (2008)\n",
      "Hancock (2008)\n",
      "Indiana Jones and the Kingdom of the Crystal Skull (2008)\n",
      "Inkheart (2008)\n",
      "Anne of Green Gables: A New Beginning (2008)\n",
      "Nim's Island (2008)\n",
      "A Perfect Getaway (2009)\n",
      "Hannah Montana: The Movie (2009)\n",
      "2012 (2009)\n",
      "Push (2009)\n",
      "G.I. Joe: The Rise of Cobra (2009)\n",
      "Chatroom (2010)\n",
      "The A-Team (2010)\n",
      "Cats & Dogs: The Revenge of Kitty Galore (2010)\n",
      "Camp Rock 2: The Final Jam (2010)\n",
      "The Sorcerer's Apprentice (2010)\n",
      "RED (2010)\n",
      "Soul Surfer (2011)\n",
      "The Phantom of the Opera at the Royal Albert Hall (2011)\n",
      "There Be Dragons (2011)\n",
      "Diary of a Wimpy Kid: Rodrick Rules (2011)\n",
      "My Week with Marilyn (2011)\n",
      "Transformers: Dark of the Moon (2011)\n",
      "Hugo (2011)\n",
      "Super Shark (2011)\n",
      "Harry Potter and the Deathly Hallows: Part 2 (2011)\n",
      "Underworld: Awakening (2012)\n",
      "John Carter (2012)\n",
      "Diary of a Wimpy Kid: Dog Days (2012)\n",
      "Trouble with the Curve (2012)\n",
      "Lincoln (2012)\n",
      "An American Girl: McKenna Shoots for the Stars (2012)\n",
      "Life of Pi (2012)\n",
      "The Expendables 2 (2012)\n",
      "Red Dawn (2012)\n",
      "Hansel & Gretel: Witch Hunters (2013)\n",
      "Enemy (2013)\n",
      "Sharknado (2013)\n",
      "The Wolf of Wall Street (2013)\n",
      "Walking with Dinosaurs (2013)\n",
      "Paranormal Movie (2013)\n",
      "Beautiful Creatures (2013)\n",
      "Iron Man Three (2013) [4K]\n",
      "The Lone Ranger (2013)\n",
      "Unbroken (2014)\n",
      "X-Men: Days of Future Past (2014)\n",
      "Need for Speed (2014)\n",
      "Muppets Most Wanted (2014)\n",
      "The Inbetweeners 2 (2014)\n",
      "Big Eyes (2014)\n",
      "The Giver (2014)\n",
      "Teenage Mutant Ninja Turtles (2014)\n",
      "Pitch Perfect 2 (2015)\n",
      "Avengers: Age of Ultron (2015)\n",
      "Fantastic Four (2015)\n",
      "Miss Peregrine's Home for Peculiar Children (2016)\n",
      "10 Cloverfield Lane (2016)\n",
      "Sausage Party (2016)\n",
      "The Shallows (2016)\n",
      "Deadpool (2016)\n",
      "Suicide Squad (2016)\n",
      "Justice League (2017)\n",
      "War for the Planet of the Apes (2017)\n",
      "Ghost in the Shell (2017)\n",
      "Deadpool 2 (2018)\n",
      "A Quiet Place (2018)\n",
      "Mamma Mia! Here We Go Again (2018)\n",
      "Mary Poppins Returns (2018)\n",
      "Bumblebee (2018)\n",
      "Black Panther (2018)\n",
      "Scary Stories to Tell in the Dark (2019)\n",
      "The Hunchback of Notre Dame (1923)\n",
      "The Lost World (1925)\n",
      "Dr. Jekyll and Mr. Hyde (1931)\n",
      "Frankenstein (1931)\n",
      "White Zombie (1932)\n",
      "Son of Frankenstein (1939)\n",
      "The Wolf Man (1941)\n",
      "The Mummy's Tomb (1942)\n",
      "Abbott and Costello Meet Frankenstein (1948)\n",
      "Anne of the Indies (1951)\n",
      "Roman Holiday (1953)\n",
      "Abbott and Costello Meet the Mummy (1955)\n",
      "This Island Earth (1955)\n",
      "Vertigo (1958)\n",
      "Psycho (1960)\n",
      "Cape Fear (1962)\n",
      "To Kill a Mockingbird (1962)\n",
      "Doctor Zhivago (1965)\n",
      "Bonnie and Clyde (1967)\n",
      "The Love Bug (1968)\n",
      "Willy Wonka & the Chocolate Factory (1971)\n",
      "The Million Dollar Duck (1971)\n",
      "The Godfather: Part II (1974)\n",
      "Carrie (1976)\n",
      "Superman (1978)\n",
      "The Black Hole (1979)\n",
      "Superman II (1980)\n",
      "Raiders of the Lost Ark (1981)\n",
      "Trading Places (1983)\n",
      "Supergirl (1984)\n",
      "A Nightmare on Elm Street (1984)\n",
      "Stand by Me (1986)\n",
      "The Princess Bride (1987)\n",
      "A Nightmare on Elm Street 3: Dream Warriors (1987)\n",
      "Masters of the Universe (1987)\n",
      "Killer Klowns from Outer Space (1988)\n",
      "Honey, I Shrunk the Kids (1989)\n",
      "Dances with Wolves (1990)\n",
      "The Godfather: Part III (1990)\n",
      "Edward Scissorhands (1990)\n",
      "Ernest Scared Stupid (1991)\n",
      "The Remains of the Day (1993)\n",
      "Pulp Fiction (1994)\n",
      "The Jungle Book (1994)\n",
      "Ace Ventura: Pet Detective (1994)\n",
      "Casper (1995)\n",
      "Ace Ventura: When Nature Calls (1995)\n",
      "Star Trek: First Contact (1996)\n",
      "Bound (1996)\n",
      "Homeward Bound II: Lost in San Francisco (1996)\n",
      "Titanic (1997)\n",
      "The Night Flier (1997)\n",
      "Madeline (1998)\n",
      "Halloweentown (1998)\n",
      "Sleepy Hollow (1999)\n",
      "The Ninth Gate (1999)\n",
      "102 Dalmatians (2000)\n",
      "X-Men (2000)\n",
      "Air Bud 3: World Pup (2001)\n",
      "Harry Potter and the Sorcerer's Stone (2001)\n",
      "Osmosis Jones (2001)\n",
      "Planet of the Apes (2001)\n",
      "Stuart Little 2 (2002)\n",
      "Men in Black II (2002)\n",
      "Austin Powers in Goldmember (2002)\n",
      "Sweet Home Alabama (2002)\n",
      "The Haunted Mansion (2003)\n",
      "Master and Commander: The Far Side of the World (2003)\n",
      "Ginger Snaps 2: Unleashed (2004)\n",
      "Fat Albert (2004)\n",
      "Troy (2004)\n",
      "The Princess Diaries 2: Royal Engagement (2004)\n",
      "The Punisher (2004)\n",
      "Van Helsing (2004)\n",
      "King Kong (2005)\n",
      "Harry Potter and the Goblet of Fire (2005)\n",
      "Elektra (2005)\n",
      "Herbie Fully Loaded (2005)\n",
      "Nanny McPhee (2005)\n",
      "The Shaggy Dog (2006)\n",
      "Night at the Museum (2006)\n",
      "Underworld: Evolution (2006)\n",
      "Zoom (2006)\n",
      "Abominable (2006)\n",
      "300 (2006)\n",
      "Air Buddies (2006)\n",
      "Fantastic 4: Rise of the Silver Surfer (2007)\n",
      "Mr. Bean's Holiday (2007)\n",
      "Juno (2007)\n",
      "Bridge to Terabithia (2007)\n",
      "Sex and the City (2008)\n",
      "Hancock (2008)\n",
      "Indiana Jones and the Kingdom of the Crystal Skull (2008)\n",
      "Inkheart (2008)\n",
      "Anne of Green Gables: A New Beginning (2008)\n",
      "Nim's Island (2008)\n",
      "A Perfect Getaway (2009)\n",
      "Hannah Montana: The Movie (2009)\n",
      "2012 (2009)\n",
      "Push (2009)\n",
      "G.I. Joe: The Rise of Cobra (2009)\n",
      "Chatroom (2010)\n",
      "The A-Team (2010)\n",
      "Cats & Dogs: The Revenge of Kitty Galore (2010)\n",
      "Camp Rock 2: The Final Jam (2010)\n",
      "The Sorcerer's Apprentice (2010)\n",
      "RED (2010)\n",
      "Soul Surfer (2011)\n",
      "The Phantom of the Opera at the Royal Albert Hall (2011)\n",
      "There Be Dragons (2011)\n",
      "Diary of a Wimpy Kid: Rodrick Rules (2011)\n",
      "My Week with Marilyn (2011)\n",
      "Transformers: Dark of the Moon (2011)\n",
      "Hugo (2011)\n",
      "Super Shark (2011)\n",
      "Harry Potter and the Deathly Hallows: Part 2 (2011)\n",
      "Underworld: Awakening (2012)\n",
      "John Carter (2012)\n",
      "Diary of a Wimpy Kid: Dog Days (2012)\n",
      "Trouble with the Curve (2012)\n",
      "Lincoln (2012)\n",
      "An American Girl: McKenna Shoots for the Stars (2012)\n",
      "Life of Pi (2012)\n",
      "The Expendables 2 (2012)\n",
      "Red Dawn (2012)\n",
      "Hansel & Gretel: Witch Hunters (2013)\n",
      "Enemy (2013)\n",
      "Sharknado (2013)\n",
      "The Wolf of Wall Street (2013)\n",
      "Walking with Dinosaurs (2013)\n",
      "Paranormal Movie (2013)\n",
      "Beautiful Creatures (2013)\n",
      "Iron Man Three (2013) [4K]\n",
      "The Lone Ranger (2013)\n",
      "Unbroken (2014)\n",
      "X-Men: Days of Future Past (2014)\n",
      "Need for Speed (2014)\n",
      "Muppets Most Wanted (2014)\n",
      "The Inbetweeners 2 (2014)\n",
      "Big Eyes (2014)\n",
      "The Giver (2014)\n",
      "Teenage Mutant Ninja Turtles (2014)\n",
      "Pitch Perfect 2 (2015)\n",
      "Avengers: Age of Ultron (2015)\n",
      "Fantastic Four (2015)\n",
      "Miss Peregrine's Home for Peculiar Children (2016)\n",
      "10 Cloverfield Lane (2016)\n",
      "Sausage Party (2016)\n",
      "The Shallows (2016)\n",
      "Deadpool (2016)\n",
      "Suicide Squad (2016)\n"
     ]
    },
    {
     "name": "stdout",
     "output_type": "stream",
     "text": [
      "Justice League (2017)\n",
      "War for the Planet of the Apes (2017)\n",
      "Ghost in the Shell (2017)\n",
      "Deadpool 2 (2018)\n",
      "A Quiet Place (2018)\n",
      "Mamma Mia! Here We Go Again (2018)\n",
      "Mary Poppins Returns (2018)\n",
      "Bumblebee (2018)\n",
      "Black Panther (2018)\n",
      "Scary Stories to Tell in the Dark (2019)\n"
     ]
    }
   ],
   "source": [
    "df[\"revenue\"] = df[\"title\"].apply(add_revenue)\n",
    "df[\"runtime\"] = df[\"title\"].apply(add_runtime)"
   ]
  },
  {
   "cell_type": "code",
   "execution_count": 783,
   "id": "1508aa0d",
   "metadata": {},
   "outputs": [],
   "source": [
    "df_all = df.copy()"
   ]
  },
  {
   "cell_type": "code",
   "execution_count": 785,
   "id": "74c98955",
   "metadata": {},
   "outputs": [
    {
     "data": {
      "text/html": [
       "<div>\n",
       "<style scoped>\n",
       "    .dataframe tbody tr th:only-of-type {\n",
       "        vertical-align: middle;\n",
       "    }\n",
       "\n",
       "    .dataframe tbody tr th {\n",
       "        vertical-align: top;\n",
       "    }\n",
       "\n",
       "    .dataframe thead th {\n",
       "        text-align: right;\n",
       "    }\n",
       "</style>\n",
       "<table border=\"1\" class=\"dataframe\">\n",
       "  <thead>\n",
       "    <tr style=\"text-align: right;\">\n",
       "      <th></th>\n",
       "      <th>man_screentime</th>\n",
       "      <th>woman_screentime</th>\n",
       "      <th>only_men</th>\n",
       "      <th>only_women</th>\n",
       "      <th>asian_screentime</th>\n",
       "      <th>black_screentime</th>\n",
       "      <th>indian_screentime</th>\n",
       "      <th>latino_hispanic_screentime</th>\n",
       "      <th>middle_eastern_screentime</th>\n",
       "      <th>white_screentime</th>\n",
       "      <th>...</th>\n",
       "      <th>total_asian</th>\n",
       "      <th>total_black</th>\n",
       "      <th>total_indian</th>\n",
       "      <th>total_latino_hispanic</th>\n",
       "      <th>total_middle_eastern</th>\n",
       "      <th>total_white</th>\n",
       "      <th>title</th>\n",
       "      <th>year</th>\n",
       "      <th>revenue</th>\n",
       "      <th>runtime</th>\n",
       "    </tr>\n",
       "  </thead>\n",
       "  <tbody>\n",
       "    <tr>\n",
       "      <th>0</th>\n",
       "      <td>94.101509</td>\n",
       "      <td>5.898491</td>\n",
       "      <td>91.476710</td>\n",
       "      <td>5.946482</td>\n",
       "      <td>4.183813</td>\n",
       "      <td>0.411523</td>\n",
       "      <td>2.057613</td>\n",
       "      <td>2.263374</td>\n",
       "      <td>4.595336</td>\n",
       "      <td>86.488340</td>\n",
       "      <td>...</td>\n",
       "      <td>61.0</td>\n",
       "      <td>6.0</td>\n",
       "      <td>30.0</td>\n",
       "      <td>33.0</td>\n",
       "      <td>67.0</td>\n",
       "      <td>1261.0</td>\n",
       "      <td>The_Hunchback_of_Notre_Dame_(1923)</td>\n",
       "      <td>1923-01-01</td>\n",
       "      <td>0</td>\n",
       "      <td>113</td>\n",
       "    </tr>\n",
       "    <tr>\n",
       "      <th>0</th>\n",
       "      <td>96.304719</td>\n",
       "      <td>3.695281</td>\n",
       "      <td>90.707965</td>\n",
       "      <td>6.342183</td>\n",
       "      <td>2.103468</td>\n",
       "      <td>7.220011</td>\n",
       "      <td>2.615122</td>\n",
       "      <td>4.206936</td>\n",
       "      <td>2.728823</td>\n",
       "      <td>81.125640</td>\n",
       "      <td>...</td>\n",
       "      <td>37.0</td>\n",
       "      <td>127.0</td>\n",
       "      <td>46.0</td>\n",
       "      <td>74.0</td>\n",
       "      <td>48.0</td>\n",
       "      <td>1427.0</td>\n",
       "      <td>The_Lost_World_(1925)</td>\n",
       "      <td>1925-01-01</td>\n",
       "      <td>0</td>\n",
       "      <td>93</td>\n",
       "    </tr>\n",
       "    <tr>\n",
       "      <th>0</th>\n",
       "      <td>82.366864</td>\n",
       "      <td>17.633136</td>\n",
       "      <td>79.891304</td>\n",
       "      <td>13.179348</td>\n",
       "      <td>1.775148</td>\n",
       "      <td>2.366864</td>\n",
       "      <td>2.958580</td>\n",
       "      <td>5.325444</td>\n",
       "      <td>1.183432</td>\n",
       "      <td>86.390533</td>\n",
       "      <td>...</td>\n",
       "      <td>15.0</td>\n",
       "      <td>20.0</td>\n",
       "      <td>25.0</td>\n",
       "      <td>45.0</td>\n",
       "      <td>10.0</td>\n",
       "      <td>730.0</td>\n",
       "      <td>White_Zombie_(1932)</td>\n",
       "      <td>1932-01-01</td>\n",
       "      <td>0</td>\n",
       "      <td>67</td>\n",
       "    </tr>\n",
       "    <tr>\n",
       "      <th>0</th>\n",
       "      <td>96.739533</td>\n",
       "      <td>3.260467</td>\n",
       "      <td>95.696822</td>\n",
       "      <td>1.760391</td>\n",
       "      <td>4.038533</td>\n",
       "      <td>1.667284</td>\n",
       "      <td>2.185995</td>\n",
       "      <td>4.742497</td>\n",
       "      <td>16.080030</td>\n",
       "      <td>71.285661</td>\n",
       "      <td>...</td>\n",
       "      <td>109.0</td>\n",
       "      <td>45.0</td>\n",
       "      <td>59.0</td>\n",
       "      <td>128.0</td>\n",
       "      <td>434.0</td>\n",
       "      <td>1924.0</td>\n",
       "      <td>Son_of_Frankenstein_(1939)</td>\n",
       "      <td>1939-01-01</td>\n",
       "      <td>0</td>\n",
       "      <td>99</td>\n",
       "    </tr>\n",
       "    <tr>\n",
       "      <th>0</th>\n",
       "      <td>90.473888</td>\n",
       "      <td>9.526112</td>\n",
       "      <td>86.661912</td>\n",
       "      <td>5.991441</td>\n",
       "      <td>4.013540</td>\n",
       "      <td>0.918762</td>\n",
       "      <td>1.160542</td>\n",
       "      <td>6.721470</td>\n",
       "      <td>3.384913</td>\n",
       "      <td>83.800774</td>\n",
       "      <td>...</td>\n",
       "      <td>83.0</td>\n",
       "      <td>19.0</td>\n",
       "      <td>24.0</td>\n",
       "      <td>139.0</td>\n",
       "      <td>70.0</td>\n",
       "      <td>1733.0</td>\n",
       "      <td>The_Wolf_Man_(1941)</td>\n",
       "      <td>1941-01-01</td>\n",
       "      <td>0</td>\n",
       "      <td>70</td>\n",
       "    </tr>\n",
       "    <tr>\n",
       "      <th>0</th>\n",
       "      <td>95.721078</td>\n",
       "      <td>4.278922</td>\n",
       "      <td>94.064950</td>\n",
       "      <td>3.023516</td>\n",
       "      <td>5.942948</td>\n",
       "      <td>4.358162</td>\n",
       "      <td>1.664025</td>\n",
       "      <td>5.625990</td>\n",
       "      <td>7.210777</td>\n",
       "      <td>75.198098</td>\n",
       "      <td>...</td>\n",
       "      <td>75.0</td>\n",
       "      <td>55.0</td>\n",
       "      <td>21.0</td>\n",
       "      <td>71.0</td>\n",
       "      <td>91.0</td>\n",
       "      <td>949.0</td>\n",
       "      <td>The_Mummy's_Tomb_(1942)</td>\n",
       "      <td>1942-01-01</td>\n",
       "      <td>0</td>\n",
       "      <td>61</td>\n",
       "    </tr>\n",
       "    <tr>\n",
       "      <th>0</th>\n",
       "      <td>94.008224</td>\n",
       "      <td>5.991776</td>\n",
       "      <td>86.367713</td>\n",
       "      <td>6.591928</td>\n",
       "      <td>5.208537</td>\n",
       "      <td>4.993147</td>\n",
       "      <td>9.594674</td>\n",
       "      <td>11.454866</td>\n",
       "      <td>9.203055</td>\n",
       "      <td>59.545722</td>\n",
       "      <td>...</td>\n",
       "      <td>266.0</td>\n",
       "      <td>255.0</td>\n",
       "      <td>490.0</td>\n",
       "      <td>585.0</td>\n",
       "      <td>470.0</td>\n",
       "      <td>3041.0</td>\n",
       "      <td>Anne_of_the_Indies_(1951)</td>\n",
       "      <td>1951-01-01</td>\n",
       "      <td>0</td>\n",
       "      <td>81</td>\n",
       "    </tr>\n",
       "    <tr>\n",
       "      <th>0</th>\n",
       "      <td>92.057762</td>\n",
       "      <td>7.942238</td>\n",
       "      <td>88.320000</td>\n",
       "      <td>7.946667</td>\n",
       "      <td>4.043321</td>\n",
       "      <td>1.841155</td>\n",
       "      <td>3.971119</td>\n",
       "      <td>10.252708</td>\n",
       "      <td>10.180505</td>\n",
       "      <td>69.711191</td>\n",
       "      <td>...</td>\n",
       "      <td>112.0</td>\n",
       "      <td>51.0</td>\n",
       "      <td>110.0</td>\n",
       "      <td>284.0</td>\n",
       "      <td>282.0</td>\n",
       "      <td>1931.0</td>\n",
       "      <td>Abbott_and_Costello_Meet_the_Mummy_(1955)</td>\n",
       "      <td>1955-01-01</td>\n",
       "      <td>0</td>\n",
       "      <td>79</td>\n",
       "    </tr>\n",
       "    <tr>\n",
       "      <th>0</th>\n",
       "      <td>88.171501</td>\n",
       "      <td>11.828499</td>\n",
       "      <td>81.772053</td>\n",
       "      <td>7.338017</td>\n",
       "      <td>14.148802</td>\n",
       "      <td>2.471627</td>\n",
       "      <td>2.370744</td>\n",
       "      <td>19.848676</td>\n",
       "      <td>1.790668</td>\n",
       "      <td>59.369483</td>\n",
       "      <td>...</td>\n",
       "      <td>561.0</td>\n",
       "      <td>98.0</td>\n",
       "      <td>94.0</td>\n",
       "      <td>787.0</td>\n",
       "      <td>71.0</td>\n",
       "      <td>2354.0</td>\n",
       "      <td>The_Love_Bug_(1968)</td>\n",
       "      <td>1968-01-01</td>\n",
       "      <td>0</td>\n",
       "      <td>107</td>\n",
       "    </tr>\n",
       "    <tr>\n",
       "      <th>0</th>\n",
       "      <td>96.382700</td>\n",
       "      <td>3.617300</td>\n",
       "      <td>94.663573</td>\n",
       "      <td>4.021655</td>\n",
       "      <td>6.946265</td>\n",
       "      <td>2.280472</td>\n",
       "      <td>1.782438</td>\n",
       "      <td>12.686763</td>\n",
       "      <td>3.407602</td>\n",
       "      <td>72.896461</td>\n",
       "      <td>...</td>\n",
       "      <td>265.0</td>\n",
       "      <td>87.0</td>\n",
       "      <td>68.0</td>\n",
       "      <td>484.0</td>\n",
       "      <td>130.0</td>\n",
       "      <td>2781.0</td>\n",
       "      <td>The_Million_Dollar_Duck_(1971)</td>\n",
       "      <td>1971-01-01</td>\n",
       "      <td>0</td>\n",
       "      <td>89</td>\n",
       "    </tr>\n",
       "    <tr>\n",
       "      <th>0</th>\n",
       "      <td>96.379079</td>\n",
       "      <td>3.620921</td>\n",
       "      <td>94.754316</td>\n",
       "      <td>2.788845</td>\n",
       "      <td>12.740277</td>\n",
       "      <td>6.392490</td>\n",
       "      <td>1.698704</td>\n",
       "      <td>8.985248</td>\n",
       "      <td>1.028163</td>\n",
       "      <td>69.155118</td>\n",
       "      <td>...</td>\n",
       "      <td>285.0</td>\n",
       "      <td>143.0</td>\n",
       "      <td>38.0</td>\n",
       "      <td>201.0</td>\n",
       "      <td>23.0</td>\n",
       "      <td>1547.0</td>\n",
       "      <td>Ernest_Scared_Stupid_(1991)</td>\n",
       "      <td>1991-01-01</td>\n",
       "      <td>0</td>\n",
       "      <td>91</td>\n",
       "    </tr>\n",
       "    <tr>\n",
       "      <th>0</th>\n",
       "      <td>75.346993</td>\n",
       "      <td>24.653007</td>\n",
       "      <td>66.479401</td>\n",
       "      <td>25.421348</td>\n",
       "      <td>5.254461</td>\n",
       "      <td>0.660939</td>\n",
       "      <td>0.627892</td>\n",
       "      <td>4.362194</td>\n",
       "      <td>1.222736</td>\n",
       "      <td>87.871778</td>\n",
       "      <td>...</td>\n",
       "      <td>159.0</td>\n",
       "      <td>20.0</td>\n",
       "      <td>19.0</td>\n",
       "      <td>132.0</td>\n",
       "      <td>37.0</td>\n",
       "      <td>2659.0</td>\n",
       "      <td>Halloweentown_(1998)</td>\n",
       "      <td>1998-01-01</td>\n",
       "      <td>0</td>\n",
       "      <td>84</td>\n",
       "    </tr>\n",
       "    <tr>\n",
       "      <th>0</th>\n",
       "      <td>95.544554</td>\n",
       "      <td>4.455446</td>\n",
       "      <td>90.909091</td>\n",
       "      <td>4.890282</td>\n",
       "      <td>7.746069</td>\n",
       "      <td>7.134537</td>\n",
       "      <td>2.620850</td>\n",
       "      <td>6.377402</td>\n",
       "      <td>2.329645</td>\n",
       "      <td>73.791497</td>\n",
       "      <td>...</td>\n",
       "      <td>266.0</td>\n",
       "      <td>245.0</td>\n",
       "      <td>90.0</td>\n",
       "      <td>219.0</td>\n",
       "      <td>80.0</td>\n",
       "      <td>2534.0</td>\n",
       "      <td>Air_Bud_3:_World_Pup_(2001)</td>\n",
       "      <td>2001-01-01</td>\n",
       "      <td>0</td>\n",
       "      <td>83</td>\n",
       "    </tr>\n",
       "    <tr>\n",
       "      <th>0</th>\n",
       "      <td>88.368336</td>\n",
       "      <td>11.631664</td>\n",
       "      <td>87.011807</td>\n",
       "      <td>10.626703</td>\n",
       "      <td>6.381260</td>\n",
       "      <td>2.907916</td>\n",
       "      <td>0.969305</td>\n",
       "      <td>5.492730</td>\n",
       "      <td>2.827141</td>\n",
       "      <td>81.421648</td>\n",
       "      <td>...</td>\n",
       "      <td>79.0</td>\n",
       "      <td>36.0</td>\n",
       "      <td>12.0</td>\n",
       "      <td>68.0</td>\n",
       "      <td>35.0</td>\n",
       "      <td>1008.0</td>\n",
       "      <td>Ginger_Snaps_2:_Unleashed_(2004)</td>\n",
       "      <td>2004-01-01</td>\n",
       "      <td>0</td>\n",
       "      <td>94</td>\n",
       "    </tr>\n",
       "    <tr>\n",
       "      <th>0</th>\n",
       "      <td>94.686858</td>\n",
       "      <td>5.313142</td>\n",
       "      <td>90.304450</td>\n",
       "      <td>7.166276</td>\n",
       "      <td>4.209446</td>\n",
       "      <td>10.446612</td>\n",
       "      <td>17.120123</td>\n",
       "      <td>11.370637</td>\n",
       "      <td>13.193018</td>\n",
       "      <td>43.660164</td>\n",
       "      <td>...</td>\n",
       "      <td>164.0</td>\n",
       "      <td>407.0</td>\n",
       "      <td>667.0</td>\n",
       "      <td>443.0</td>\n",
       "      <td>514.0</td>\n",
       "      <td>1701.0</td>\n",
       "      <td>300_(2006)</td>\n",
       "      <td>2006-01-01</td>\n",
       "      <td>0</td>\n",
       "      <td>0</td>\n",
       "    </tr>\n",
       "    <tr>\n",
       "      <th>0</th>\n",
       "      <td>93.750000</td>\n",
       "      <td>6.250000</td>\n",
       "      <td>91.906722</td>\n",
       "      <td>6.172840</td>\n",
       "      <td>8.196721</td>\n",
       "      <td>8.709016</td>\n",
       "      <td>2.356557</td>\n",
       "      <td>6.967213</td>\n",
       "      <td>2.868852</td>\n",
       "      <td>70.901639</td>\n",
       "      <td>...</td>\n",
       "      <td>80.0</td>\n",
       "      <td>85.0</td>\n",
       "      <td>23.0</td>\n",
       "      <td>68.0</td>\n",
       "      <td>28.0</td>\n",
       "      <td>692.0</td>\n",
       "      <td>Air_Buddies_(2006)</td>\n",
       "      <td>2006-01-01</td>\n",
       "      <td>0</td>\n",
       "      <td>80</td>\n",
       "    </tr>\n",
       "    <tr>\n",
       "      <th>0</th>\n",
       "      <td>84.963469</td>\n",
       "      <td>15.036531</td>\n",
       "      <td>80.247305</td>\n",
       "      <td>16.487001</td>\n",
       "      <td>7.447561</td>\n",
       "      <td>0.730615</td>\n",
       "      <td>0.424228</td>\n",
       "      <td>1.201980</td>\n",
       "      <td>1.319821</td>\n",
       "      <td>88.875795</td>\n",
       "      <td>...</td>\n",
       "      <td>316.0</td>\n",
       "      <td>31.0</td>\n",
       "      <td>18.0</td>\n",
       "      <td>51.0</td>\n",
       "      <td>56.0</td>\n",
       "      <td>3771.0</td>\n",
       "      <td>Anne_of_Green_Gables:_A_New_Beginning_(2008)</td>\n",
       "      <td>2008-01-01</td>\n",
       "      <td>0</td>\n",
       "      <td>144</td>\n",
       "    </tr>\n",
       "    <tr>\n",
       "      <th>0</th>\n",
       "      <td>84.669095</td>\n",
       "      <td>15.330905</td>\n",
       "      <td>80.280493</td>\n",
       "      <td>11.092223</td>\n",
       "      <td>4.310868</td>\n",
       "      <td>6.344869</td>\n",
       "      <td>1.882210</td>\n",
       "      <td>4.614451</td>\n",
       "      <td>2.914390</td>\n",
       "      <td>79.933212</td>\n",
       "      <td>...</td>\n",
       "      <td>142.0</td>\n",
       "      <td>209.0</td>\n",
       "      <td>62.0</td>\n",
       "      <td>152.0</td>\n",
       "      <td>96.0</td>\n",
       "      <td>2633.0</td>\n",
       "      <td>Chatroom_(2010)</td>\n",
       "      <td>2010-01-01</td>\n",
       "      <td>0</td>\n",
       "      <td>97</td>\n",
       "    </tr>\n",
       "    <tr>\n",
       "      <th>0</th>\n",
       "      <td>82.352941</td>\n",
       "      <td>17.647059</td>\n",
       "      <td>65.650606</td>\n",
       "      <td>19.501803</td>\n",
       "      <td>10.084034</td>\n",
       "      <td>5.764411</td>\n",
       "      <td>1.931299</td>\n",
       "      <td>12.487100</td>\n",
       "      <td>2.196668</td>\n",
       "      <td>67.536488</td>\n",
       "      <td>...</td>\n",
       "      <td>684.0</td>\n",
       "      <td>391.0</td>\n",
       "      <td>131.0</td>\n",
       "      <td>847.0</td>\n",
       "      <td>149.0</td>\n",
       "      <td>4581.0</td>\n",
       "      <td>Camp_Rock_2:_The_Final_Jam_(2010)</td>\n",
       "      <td>2010-01-01</td>\n",
       "      <td>0</td>\n",
       "      <td>104</td>\n",
       "    </tr>\n",
       "    <tr>\n",
       "      <th>0</th>\n",
       "      <td>80.459653</td>\n",
       "      <td>19.540347</td>\n",
       "      <td>61.357341</td>\n",
       "      <td>20.590951</td>\n",
       "      <td>6.138917</td>\n",
       "      <td>3.370787</td>\n",
       "      <td>4.341164</td>\n",
       "      <td>8.927477</td>\n",
       "      <td>3.758938</td>\n",
       "      <td>73.462717</td>\n",
       "      <td>...</td>\n",
       "      <td>601.0</td>\n",
       "      <td>330.0</td>\n",
       "      <td>425.0</td>\n",
       "      <td>874.0</td>\n",
       "      <td>368.0</td>\n",
       "      <td>7192.0</td>\n",
       "      <td>The_Phantom_of_the_Opera_at_the_Royal_Albert_H...</td>\n",
       "      <td>2011-01-01</td>\n",
       "      <td>0</td>\n",
       "      <td>160</td>\n",
       "    </tr>\n",
       "    <tr>\n",
       "      <th>0</th>\n",
       "      <td>96.484935</td>\n",
       "      <td>3.515065</td>\n",
       "      <td>93.922652</td>\n",
       "      <td>3.272418</td>\n",
       "      <td>8.177905</td>\n",
       "      <td>1.386896</td>\n",
       "      <td>3.204209</td>\n",
       "      <td>10.712578</td>\n",
       "      <td>9.397418</td>\n",
       "      <td>67.120995</td>\n",
       "      <td>...</td>\n",
       "      <td>342.0</td>\n",
       "      <td>58.0</td>\n",
       "      <td>134.0</td>\n",
       "      <td>448.0</td>\n",
       "      <td>393.0</td>\n",
       "      <td>2807.0</td>\n",
       "      <td>There_Be_Dragons_(2011)</td>\n",
       "      <td>2011-01-01</td>\n",
       "      <td>0</td>\n",
       "      <td>112</td>\n",
       "    </tr>\n",
       "    <tr>\n",
       "      <th>0</th>\n",
       "      <td>77.244518</td>\n",
       "      <td>22.755482</td>\n",
       "      <td>72.993062</td>\n",
       "      <td>22.001982</td>\n",
       "      <td>4.344228</td>\n",
       "      <td>5.544063</td>\n",
       "      <td>1.365329</td>\n",
       "      <td>6.288788</td>\n",
       "      <td>3.309888</td>\n",
       "      <td>79.147704</td>\n",
       "      <td>...</td>\n",
       "      <td>105.0</td>\n",
       "      <td>134.0</td>\n",
       "      <td>33.0</td>\n",
       "      <td>152.0</td>\n",
       "      <td>80.0</td>\n",
       "      <td>1913.0</td>\n",
       "      <td>Super_Shark_(2011)</td>\n",
       "      <td>2011-01-01</td>\n",
       "      <td>0</td>\n",
       "      <td>87</td>\n",
       "    </tr>\n",
       "    <tr>\n",
       "      <th>0</th>\n",
       "      <td>87.521309</td>\n",
       "      <td>12.478691</td>\n",
       "      <td>78.551787</td>\n",
       "      <td>11.274060</td>\n",
       "      <td>7.892942</td>\n",
       "      <td>3.051483</td>\n",
       "      <td>1.414934</td>\n",
       "      <td>6.665530</td>\n",
       "      <td>2.557109</td>\n",
       "      <td>78.418002</td>\n",
       "      <td>...</td>\n",
       "      <td>463.0</td>\n",
       "      <td>179.0</td>\n",
       "      <td>83.0</td>\n",
       "      <td>391.0</td>\n",
       "      <td>150.0</td>\n",
       "      <td>4600.0</td>\n",
       "      <td>Trouble_with_the_Curve_(2012)</td>\n",
       "      <td>2012-01-01</td>\n",
       "      <td>0</td>\n",
       "      <td>111</td>\n",
       "    </tr>\n",
       "    <tr>\n",
       "      <th>0</th>\n",
       "      <td>68.694956</td>\n",
       "      <td>31.305044</td>\n",
       "      <td>63.296598</td>\n",
       "      <td>32.582655</td>\n",
       "      <td>12.570056</td>\n",
       "      <td>0.720576</td>\n",
       "      <td>0.080064</td>\n",
       "      <td>1.160929</td>\n",
       "      <td>0.600480</td>\n",
       "      <td>84.867894</td>\n",
       "      <td>...</td>\n",
       "      <td>314.0</td>\n",
       "      <td>18.0</td>\n",
       "      <td>2.0</td>\n",
       "      <td>29.0</td>\n",
       "      <td>15.0</td>\n",
       "      <td>2120.0</td>\n",
       "      <td>An_American_Girl:_McKenna_Shoots_for_the_Stars...</td>\n",
       "      <td>2012-01-01</td>\n",
       "      <td>0</td>\n",
       "      <td>85</td>\n",
       "    </tr>\n",
       "    <tr>\n",
       "      <th>0</th>\n",
       "      <td>81.756757</td>\n",
       "      <td>18.243243</td>\n",
       "      <td>75.151883</td>\n",
       "      <td>13.487242</td>\n",
       "      <td>8.744038</td>\n",
       "      <td>4.093800</td>\n",
       "      <td>4.610493</td>\n",
       "      <td>10.731320</td>\n",
       "      <td>3.577107</td>\n",
       "      <td>68.243243</td>\n",
       "      <td>...</td>\n",
       "      <td>220.0</td>\n",
       "      <td>103.0</td>\n",
       "      <td>116.0</td>\n",
       "      <td>270.0</td>\n",
       "      <td>90.0</td>\n",
       "      <td>1717.0</td>\n",
       "      <td>Sharknado_(2013)</td>\n",
       "      <td>2013-01-01</td>\n",
       "      <td>0</td>\n",
       "      <td>86</td>\n",
       "    </tr>\n",
       "    <tr>\n",
       "      <th>0</th>\n",
       "      <td>78.115942</td>\n",
       "      <td>21.884058</td>\n",
       "      <td>70.600000</td>\n",
       "      <td>12.133333</td>\n",
       "      <td>3.574879</td>\n",
       "      <td>1.062802</td>\n",
       "      <td>0.579710</td>\n",
       "      <td>8.695652</td>\n",
       "      <td>1.594203</td>\n",
       "      <td>84.492754</td>\n",
       "      <td>...</td>\n",
       "      <td>74.0</td>\n",
       "      <td>22.0</td>\n",
       "      <td>12.0</td>\n",
       "      <td>180.0</td>\n",
       "      <td>33.0</td>\n",
       "      <td>1749.0</td>\n",
       "      <td>Paranormal_Movie_(2013)</td>\n",
       "      <td>2013-01-01</td>\n",
       "      <td>0</td>\n",
       "      <td>87</td>\n",
       "    </tr>\n",
       "    <tr>\n",
       "      <th>0</th>\n",
       "      <td>92.456806</td>\n",
       "      <td>7.543194</td>\n",
       "      <td>87.796736</td>\n",
       "      <td>5.304154</td>\n",
       "      <td>4.888327</td>\n",
       "      <td>1.474926</td>\n",
       "      <td>1.517067</td>\n",
       "      <td>7.227139</td>\n",
       "      <td>2.191319</td>\n",
       "      <td>82.701222</td>\n",
       "      <td>...</td>\n",
       "      <td>232.0</td>\n",
       "      <td>70.0</td>\n",
       "      <td>72.0</td>\n",
       "      <td>343.0</td>\n",
       "      <td>104.0</td>\n",
       "      <td>3925.0</td>\n",
       "      <td>The_Inbetweeners_2_(2014)</td>\n",
       "      <td>2014-01-01</td>\n",
       "      <td>0</td>\n",
       "      <td>96</td>\n",
       "    </tr>\n",
       "  </tbody>\n",
       "</table>\n",
       "<p>27 rows × 31 columns</p>\n",
       "</div>"
      ],
      "text/plain": [
       "   man_screentime  woman_screentime   only_men  only_women  asian_screentime  \\\n",
       "0       94.101509          5.898491  91.476710    5.946482          4.183813   \n",
       "0       96.304719          3.695281  90.707965    6.342183          2.103468   \n",
       "0       82.366864         17.633136  79.891304   13.179348          1.775148   \n",
       "0       96.739533          3.260467  95.696822    1.760391          4.038533   \n",
       "0       90.473888          9.526112  86.661912    5.991441          4.013540   \n",
       "0       95.721078          4.278922  94.064950    3.023516          5.942948   \n",
       "0       94.008224          5.991776  86.367713    6.591928          5.208537   \n",
       "0       92.057762          7.942238  88.320000    7.946667          4.043321   \n",
       "0       88.171501         11.828499  81.772053    7.338017         14.148802   \n",
       "0       96.382700          3.617300  94.663573    4.021655          6.946265   \n",
       "0       96.379079          3.620921  94.754316    2.788845         12.740277   \n",
       "0       75.346993         24.653007  66.479401   25.421348          5.254461   \n",
       "0       95.544554          4.455446  90.909091    4.890282          7.746069   \n",
       "0       88.368336         11.631664  87.011807   10.626703          6.381260   \n",
       "0       94.686858          5.313142  90.304450    7.166276          4.209446   \n",
       "0       93.750000          6.250000  91.906722    6.172840          8.196721   \n",
       "0       84.963469         15.036531  80.247305   16.487001          7.447561   \n",
       "0       84.669095         15.330905  80.280493   11.092223          4.310868   \n",
       "0       82.352941         17.647059  65.650606   19.501803         10.084034   \n",
       "0       80.459653         19.540347  61.357341   20.590951          6.138917   \n",
       "0       96.484935          3.515065  93.922652    3.272418          8.177905   \n",
       "0       77.244518         22.755482  72.993062   22.001982          4.344228   \n",
       "0       87.521309         12.478691  78.551787   11.274060          7.892942   \n",
       "0       68.694956         31.305044  63.296598   32.582655         12.570056   \n",
       "0       81.756757         18.243243  75.151883   13.487242          8.744038   \n",
       "0       78.115942         21.884058  70.600000   12.133333          3.574879   \n",
       "0       92.456806          7.543194  87.796736    5.304154          4.888327   \n",
       "\n",
       "   black_screentime  indian_screentime  latino_hispanic_screentime  \\\n",
       "0          0.411523           2.057613                    2.263374   \n",
       "0          7.220011           2.615122                    4.206936   \n",
       "0          2.366864           2.958580                    5.325444   \n",
       "0          1.667284           2.185995                    4.742497   \n",
       "0          0.918762           1.160542                    6.721470   \n",
       "0          4.358162           1.664025                    5.625990   \n",
       "0          4.993147           9.594674                   11.454866   \n",
       "0          1.841155           3.971119                   10.252708   \n",
       "0          2.471627           2.370744                   19.848676   \n",
       "0          2.280472           1.782438                   12.686763   \n",
       "0          6.392490           1.698704                    8.985248   \n",
       "0          0.660939           0.627892                    4.362194   \n",
       "0          7.134537           2.620850                    6.377402   \n",
       "0          2.907916           0.969305                    5.492730   \n",
       "0         10.446612          17.120123                   11.370637   \n",
       "0          8.709016           2.356557                    6.967213   \n",
       "0          0.730615           0.424228                    1.201980   \n",
       "0          6.344869           1.882210                    4.614451   \n",
       "0          5.764411           1.931299                   12.487100   \n",
       "0          3.370787           4.341164                    8.927477   \n",
       "0          1.386896           3.204209                   10.712578   \n",
       "0          5.544063           1.365329                    6.288788   \n",
       "0          3.051483           1.414934                    6.665530   \n",
       "0          0.720576           0.080064                    1.160929   \n",
       "0          4.093800           4.610493                   10.731320   \n",
       "0          1.062802           0.579710                    8.695652   \n",
       "0          1.474926           1.517067                    7.227139   \n",
       "\n",
       "   middle_eastern_screentime  white_screentime  ...  total_asian  total_black  \\\n",
       "0                   4.595336         86.488340  ...         61.0          6.0   \n",
       "0                   2.728823         81.125640  ...         37.0        127.0   \n",
       "0                   1.183432         86.390533  ...         15.0         20.0   \n",
       "0                  16.080030         71.285661  ...        109.0         45.0   \n",
       "0                   3.384913         83.800774  ...         83.0         19.0   \n",
       "0                   7.210777         75.198098  ...         75.0         55.0   \n",
       "0                   9.203055         59.545722  ...        266.0        255.0   \n",
       "0                  10.180505         69.711191  ...        112.0         51.0   \n",
       "0                   1.790668         59.369483  ...        561.0         98.0   \n",
       "0                   3.407602         72.896461  ...        265.0         87.0   \n",
       "0                   1.028163         69.155118  ...        285.0        143.0   \n",
       "0                   1.222736         87.871778  ...        159.0         20.0   \n",
       "0                   2.329645         73.791497  ...        266.0        245.0   \n",
       "0                   2.827141         81.421648  ...         79.0         36.0   \n",
       "0                  13.193018         43.660164  ...        164.0        407.0   \n",
       "0                   2.868852         70.901639  ...         80.0         85.0   \n",
       "0                   1.319821         88.875795  ...        316.0         31.0   \n",
       "0                   2.914390         79.933212  ...        142.0        209.0   \n",
       "0                   2.196668         67.536488  ...        684.0        391.0   \n",
       "0                   3.758938         73.462717  ...        601.0        330.0   \n",
       "0                   9.397418         67.120995  ...        342.0         58.0   \n",
       "0                   3.309888         79.147704  ...        105.0        134.0   \n",
       "0                   2.557109         78.418002  ...        463.0        179.0   \n",
       "0                   0.600480         84.867894  ...        314.0         18.0   \n",
       "0                   3.577107         68.243243  ...        220.0        103.0   \n",
       "0                   1.594203         84.492754  ...         74.0         22.0   \n",
       "0                   2.191319         82.701222  ...        232.0         70.0   \n",
       "\n",
       "   total_indian  total_latino_hispanic  total_middle_eastern  total_white  \\\n",
       "0          30.0                   33.0                  67.0       1261.0   \n",
       "0          46.0                   74.0                  48.0       1427.0   \n",
       "0          25.0                   45.0                  10.0        730.0   \n",
       "0          59.0                  128.0                 434.0       1924.0   \n",
       "0          24.0                  139.0                  70.0       1733.0   \n",
       "0          21.0                   71.0                  91.0        949.0   \n",
       "0         490.0                  585.0                 470.0       3041.0   \n",
       "0         110.0                  284.0                 282.0       1931.0   \n",
       "0          94.0                  787.0                  71.0       2354.0   \n",
       "0          68.0                  484.0                 130.0       2781.0   \n",
       "0          38.0                  201.0                  23.0       1547.0   \n",
       "0          19.0                  132.0                  37.0       2659.0   \n",
       "0          90.0                  219.0                  80.0       2534.0   \n",
       "0          12.0                   68.0                  35.0       1008.0   \n",
       "0         667.0                  443.0                 514.0       1701.0   \n",
       "0          23.0                   68.0                  28.0        692.0   \n",
       "0          18.0                   51.0                  56.0       3771.0   \n",
       "0          62.0                  152.0                  96.0       2633.0   \n",
       "0         131.0                  847.0                 149.0       4581.0   \n",
       "0         425.0                  874.0                 368.0       7192.0   \n",
       "0         134.0                  448.0                 393.0       2807.0   \n",
       "0          33.0                  152.0                  80.0       1913.0   \n",
       "0          83.0                  391.0                 150.0       4600.0   \n",
       "0           2.0                   29.0                  15.0       2120.0   \n",
       "0         116.0                  270.0                  90.0       1717.0   \n",
       "0          12.0                  180.0                  33.0       1749.0   \n",
       "0          72.0                  343.0                 104.0       3925.0   \n",
       "\n",
       "                                               title       year  revenue  \\\n",
       "0                 The_Hunchback_of_Notre_Dame_(1923) 1923-01-01        0   \n",
       "0                              The_Lost_World_(1925) 1925-01-01        0   \n",
       "0                                White_Zombie_(1932) 1932-01-01        0   \n",
       "0                         Son_of_Frankenstein_(1939) 1939-01-01        0   \n",
       "0                                The_Wolf_Man_(1941) 1941-01-01        0   \n",
       "0                            The_Mummy's_Tomb_(1942) 1942-01-01        0   \n",
       "0                          Anne_of_the_Indies_(1951) 1951-01-01        0   \n",
       "0          Abbott_and_Costello_Meet_the_Mummy_(1955) 1955-01-01        0   \n",
       "0                                The_Love_Bug_(1968) 1968-01-01        0   \n",
       "0                     The_Million_Dollar_Duck_(1971) 1971-01-01        0   \n",
       "0                        Ernest_Scared_Stupid_(1991) 1991-01-01        0   \n",
       "0                               Halloweentown_(1998) 1998-01-01        0   \n",
       "0                        Air_Bud_3:_World_Pup_(2001) 2001-01-01        0   \n",
       "0                   Ginger_Snaps_2:_Unleashed_(2004) 2004-01-01        0   \n",
       "0                                         300_(2006) 2006-01-01        0   \n",
       "0                                 Air_Buddies_(2006) 2006-01-01        0   \n",
       "0       Anne_of_Green_Gables:_A_New_Beginning_(2008) 2008-01-01        0   \n",
       "0                                    Chatroom_(2010) 2010-01-01        0   \n",
       "0                  Camp_Rock_2:_The_Final_Jam_(2010) 2010-01-01        0   \n",
       "0  The_Phantom_of_the_Opera_at_the_Royal_Albert_H... 2011-01-01        0   \n",
       "0                            There_Be_Dragons_(2011) 2011-01-01        0   \n",
       "0                                 Super_Shark_(2011) 2011-01-01        0   \n",
       "0                      Trouble_with_the_Curve_(2012) 2012-01-01        0   \n",
       "0  An_American_Girl:_McKenna_Shoots_for_the_Stars... 2012-01-01        0   \n",
       "0                                   Sharknado_(2013) 2013-01-01        0   \n",
       "0                            Paranormal_Movie_(2013) 2013-01-01        0   \n",
       "0                          The_Inbetweeners_2_(2014) 2014-01-01        0   \n",
       "\n",
       "   runtime  \n",
       "0      113  \n",
       "0       93  \n",
       "0       67  \n",
       "0       99  \n",
       "0       70  \n",
       "0       61  \n",
       "0       81  \n",
       "0       79  \n",
       "0      107  \n",
       "0       89  \n",
       "0       91  \n",
       "0       84  \n",
       "0       83  \n",
       "0       94  \n",
       "0        0  \n",
       "0       80  \n",
       "0      144  \n",
       "0       97  \n",
       "0      104  \n",
       "0      160  \n",
       "0      112  \n",
       "0       87  \n",
       "0      111  \n",
       "0       85  \n",
       "0       86  \n",
       "0       87  \n",
       "0       96  \n",
       "\n",
       "[27 rows x 31 columns]"
      ]
     },
     "execution_count": 785,
     "metadata": {},
     "output_type": "execute_result"
    }
   ],
   "source": [
    "df_all[df_all[\"revenue\"]  == 0]"
   ]
  },
  {
   "cell_type": "code",
   "execution_count": null,
   "id": "701091ee",
   "metadata": {},
   "outputs": [],
   "source": []
  },
  {
   "cell_type": "code",
   "execution_count": 842,
   "id": "2e9a7bd7",
   "metadata": {},
   "outputs": [
    {
     "data": {
      "application/vnd.plotly.v1+json": {
       "config": {
        "plotlyServerURL": "https://plot.ly"
       },
       "data": [
        {
         "marker": {
          "color": "rgb(24,116,205)",
          "line": {
           "color": "rgb(0,191,255)",
           "width": 1
          }
         },
         "name": "Screentime percentage of woman per movie",
         "orientation": "h",
         "type": "bar",
         "x": [
          38.45346396081176,
          35.23550724637681,
          34.055299539170505,
          31.30504403522818,
          30.160320641282567,
          26.08501118568233,
          25.987799155326137,
          24.653007270323855,
          24.566088117489983,
          23.82951243138521,
          23.368983957219253,
          22.755482002482417,
          22.299248989023685,
          21.88405797101449,
          19.99074502545118,
          19.873484449130206,
          19.649122807017545,
          19.540347293156284,
          18.37359646138142,
          18.24324324324324,
          17.647058823529413,
          17.633136094674555,
          17.46511627906977,
          17.034521788341824,
          16.32231404958678,
          16.261644390441475,
          16.15990990990991,
          15.685629727063466,
          15.528478322470956,
          15.352020860495436,
          15.33090467516697,
          15.205603253502034,
          15.092748735244518,
          15.036530756540184,
          14.785591766723844,
          14.755385017877389,
          14.706785385323917,
          14.61086637298091,
          14.56876456876457,
          14.472049689440992,
          14.442508710801397,
          14.42385173247381,
          14.31159420289855,
          14.1301746829385,
          14.08,
          13.227674489484912,
          13.200723327305605,
          13.15340909090909,
          13.11647429171039,
          13.096374045801523,
          13.026685393258427,
          12.837557125051932,
          12.723214285714285,
          12.699551569506726,
          12.68090971743625,
          12.678519382104342,
          12.51905487804878,
          12.478690760313672,
          12.43614931237721,
          12.410446036514909,
          12.234494477485132,
          12.18018018018018,
          11.946591707659874,
          11.872745162348313,
          11.851851851851851,
          11.828499369482977,
          11.783338612606906,
          11.760094080752646,
          11.735089078233928,
          11.669203450025368,
          11.631663974151856,
          11.532846715328466,
          11.128308311406904,
          10.88871096877502,
          10.669162377164248,
          9.997334044254863,
          9.526112185686657,
          9.421265141318976,
          9.40049663001064,
          9.39865143800743,
          9.04363974001857,
          8.946078431372548,
          8.577139741958932,
          8.25242718446602,
          8.088589311506981,
          7.9422382671480145,
          7.929334428923583,
          7.921364556230125,
          7.814375250033338,
          7.543194268857986,
          7.523770152955766,
          7.487922705314009,
          7.357650550652191,
          7.330637007077856,
          7.295016077170419,
          7.239819004524888,
          7.17357910906298,
          7.042253521126761,
          6.983655274888559,
          6.853146853146853,
          6.788771650408123,
          6.624605678233439,
          6.587942821628341,
          6.373056994818653,
          6.25,
          6.222222222222222,
          6.194984221890051,
          6.0427413411938105,
          6.041131105398458,
          5.991775993734091,
          5.972672207353148,
          5.940959409594096,
          5.8984910836762685,
          5.861546235472461,
          5.858969927410992,
          5.777593704700766,
          5.657237936772046,
          5.647935779816514,
          5.439435910350038,
          5.434428896843476,
          5.372205388584064,
          5.343993267410057,
          5.313141683778235,
          5.104521147301896,
          5.086170659941152,
          5.079236082893133,
          4.781377791758415,
          4.726148409893993,
          4.716247732573206,
          4.650499286733238,
          4.455445544554455,
          4.425612052730696,
          4.360902255639098,
          4.357904496986556,
          4.292366875885807,
          4.282828282828283,
          4.27892234548336,
          3.983559911476446,
          3.956582633053221,
          3.955192919374914,
          3.7334263782274943,
          3.715012722646311,
          3.695281409891984,
          3.693254680687356,
          3.620920876173447,
          3.617300131061599,
          3.546831955922865,
          3.5150645624103296,
          3.5129424194400425,
          3.438485804416404,
          3.260466839570211,
          3.2133676092544987,
          2.6252983293556085,
          2.518223989396952,
          2.2900763358778624,
          2.137916579333473,
          1.8234723569350144,
          1.8193738731355515,
          1.192117427621442,
          1.1832829808660623,
          0.4160166406656266
         ],
         "xaxis": "x",
         "y": [
          "Sex_and_the_City_(2008)",
          "The_Shallows_(2016)",
          "Bound_(1996)",
          "An_American_Girl:_McKenna_Shoots_for_the_Stars_(2012)",
          "Juno_(2007)",
          "Nim's_Island_(2008)",
          "Pitch_Perfect_2_(2015)",
          "Halloweentown_(1998)",
          "Teenage_Mutant_Ninja_Turtles_(2014)",
          "Psycho_(1960)",
          "Supergirl_(1984)",
          "Super_Shark_(2011)",
          "Sweet_Home_Alabama_(2002)",
          "Paranormal_Movie_(2013)",
          "Bumblebee_(2018)",
          "10_Cloverfield_Lane_(2016)",
          "Push_(2009)",
          "The_Phantom_of_the_Opera_at_the_Royal_Albert_Hall_(2011)",
          "Soul_Surfer_(2011)",
          "Sharknado_(2013)",
          "Camp_Rock_2:_The_Final_Jam_(2010)",
          "White_Zombie_(1932)",
          "Vertigo_(1958)",
          "Stuart_Little_2_(2002)",
          "Ghost_in_the_Shell_(2017)",
          "Mary_Poppins_Returns_(2018)",
          "Elektra_(2005)",
          "A_Perfect_Getaway_(2009)",
          "Bridge_to_Terabithia_(2007)",
          "Carrie_(1976)",
          "Chatroom_(2010)",
          "Mamma_Mia!_Here_We_Go_Again_(2018)",
          "Underworld:_Evolution_(2006)",
          "Anne_of_Green_Gables:_A_New_Beginning_(2008)",
          "Miss_Peregrine's_Home_for_Peculiar_Children_(2016)",
          "The_Princess_Diaries_2:_Royal_Engagement_(2004)",
          "Bonnie_and_Clyde_(1967)",
          "102_Dalmatians_(2000)",
          "Abominable_(2006)",
          "Underworld:_Awakening_(2012)",
          "Big_Eyes_(2014)",
          "RED_(2010)",
          "The_Giver_(2014)",
          "Hannah_Montana:_The_Movie_(2009)",
          "My_Week_with_Marilyn_(2011)",
          "Fantastic_4:_Rise_of_the_Silver_Surfer_(2007)",
          "The_Night_Flier_(1997)",
          "Edward_Scissorhands_(1990)",
          "Deadpool_(2016)",
          "Roman_Holiday_(1953)",
          "Herbie_Fully_Loaded_(2005)",
          "Hancock_(2008)",
          "Zoom_(2006)",
          "Iron_Man_Three_(2013)_[4K]",
          "Avengers:_Age_of_Ultron_(2015)",
          "Hansel_&_Gretel:_Witch_Hunters_(2013)",
          "Beautiful_Creatures_(2013)",
          "Trouble_with_the_Curve_(2012)",
          "Hugo_(2011)",
          "Madeline_(1998)",
          "Enemy_(2013)",
          "A_Nightmare_on_Elm_Street_(1984)",
          "Van_Helsing_(2004)",
          "John_Carter_(2012)",
          "Sausage_Party_(2016)",
          "The_Love_Bug_(1968)",
          "Need_for_Speed_(2014)",
          "Honey,_I_Shrunk_the_Kids_(1989)",
          "Justice_League_(2017)",
          "The_Shaggy_Dog_(2006)",
          "Ginger_Snaps_2:_Unleashed_(2004)",
          "Masters_of_the_Universe_(1987)",
          "King_Kong_(2005)",
          "Ace_Ventura:_Pet_Detective_(1994)",
          "Casper_(1995)",
          "Nanny_McPhee_(2005)",
          "The_Wolf_Man_(1941)",
          "Dr._Jekyll_and_Mr._Hyde_(1931)",
          "Sleepy_Hollow_(1999)",
          "Titanic_(1997)",
          "Superman_II_(1980)",
          "A_Nightmare_on_Elm_Street_3:_Dream_Warriors_(1987)",
          "Diary_of_a_Wimpy_Kid:_Dog_Days_(2012)",
          "A_Quiet_Place_(2018)",
          "Fantastic_Four_(2015)",
          "Abbott_and_Costello_Meet_the_Mummy_(1955)",
          "Cape_Fear_(1962)",
          "Superman_(1978)",
          "Fat_Albert_(2004)",
          "The_Inbetweeners_2_(2014)",
          "Deadpool_2_(2018)",
          "The_Haunted_Mansion_(2003)",
          "Austin_Powers_in_Goldmember_(2002)",
          "Suicide_Squad_(2016)",
          "2012_(2009)",
          "Muppets_Most_Wanted_(2014)",
          "Diary_of_a_Wimpy_Kid:_Rodrick_Rules_(2011)",
          "Transformers:_Dark_of_the_Moon_(2011)",
          "Homeward_Bound_II:_Lost_in_San_Francisco_(1996)",
          "Scary_Stories_to_Tell_in_the_Dark_(2019)",
          "Indiana_Jones_and_the_Kingdom_of_the_Crystal_Skull_(2008)",
          "G.I._Joe:_The_Rise_of_Cobra_(2009)",
          "Men_in_Black_II_(2002)",
          "Frankenstein_(1931)",
          "Air_Buddies_(2006)",
          "Cats_&_Dogs:_The_Revenge_of_Kitty_Galore_(2010)",
          "Troy_(2004)",
          "Inkheart_(2008)",
          "X-Men_(2000)",
          "Anne_of_the_Indies_(1951)",
          "The_Remains_of_the_Day_(1993)",
          "The_Punisher_(2004)",
          "The_Hunchback_of_Notre_Dame_(1923)",
          "Planet_of_the_Apes_(2001)",
          "Willy_Wonka_&_the_Chocolate_Factory_(1971)",
          "Harry_Potter_and_the_Goblet_of_Fire_(2005)",
          "Osmosis_Jones_(2001)",
          "Star_Trek:_First_Contact_(1996)",
          "Night_at_the_Museum_(2006)",
          "Red_Dawn_(2012)",
          "Doctor_Zhivago_(1965)",
          "Mr._Bean's_Holiday_(2007)",
          "300_(2006)",
          "The_Black_Hole_(1979)",
          "The_Sorcerer's_Apprentice_(2010)",
          "Trading_Places_(1983)",
          "The_Ninth_Gate_(1999)",
          "Killer_Klowns_from_Outer_Space_(1988)",
          "X-Men:_Days_of_Future_Past_(2014)",
          "The_A-Team_(2010)",
          "Air_Bud_3:_World_Pup_(2001)",
          "The_Wolf_of_Wall_Street_(2013)",
          "The_Expendables_2_(2012)",
          "The_Jungle_Book_(1994)",
          "Black_Panther_(2018)",
          "Pulp_Fiction_(1994)",
          "The_Mummy's_Tomb_(1942)",
          "Dances_with_Wolves_(1990)",
          "Life_of_Pi_(2012)",
          "Harry_Potter_and_the_Sorcerer's_Stone_(2001)",
          "Abbott_and_Costello_Meet_Frankenstein_(1948)",
          "Harry_Potter_and_the_Deathly_Hallows:_Part_2_(2011)",
          "The_Lost_World_(1925)",
          "The_Lone_Ranger_(2013)",
          "Ernest_Scared_Stupid_(1991)",
          "The_Million_Dollar_Duck_(1971)",
          "The_Godfather:_Part_III_(1990)",
          "There_Be_Dragons_(2011)",
          "Raiders_of_the_Lost_Ark_(1981)",
          "This_Island_Earth_(1955)",
          "Son_of_Frankenstein_(1939)",
          "War_for_the_Planet_of_the_Apes_(2017)",
          "To_Kill_a_Mockingbird_(1962)",
          "The_Godfather:_Part_II_(1974)",
          "Walking_with_Dinosaurs_(2013)",
          "Stand_by_Me_(1986)",
          "Unbroken_(2014)",
          "Ace_Ventura:_When_Nature_Calls_(1995)",
          "Lincoln_(2012)",
          "The_Princess_Bride_(1987)",
          "Master_and_Commander:_The_Far_Side_of_the_World_(2003)"
         ],
         "yaxis": "y"
        },
        {
         "hovertext": [
          "Sex_and_the_City_(2008)",
          "The_Shallows_(2016)",
          "Bound_(1996)",
          "An_American_Girl:_McKenna_Shoots_for_the_Stars_(2012)",
          "Juno_(2007)",
          "Nim's_Island_(2008)",
          "Pitch_Perfect_2_(2015)",
          "Halloweentown_(1998)",
          "Teenage_Mutant_Ninja_Turtles_(2014)",
          "Psycho_(1960)",
          "Supergirl_(1984)",
          "Super_Shark_(2011)",
          "Sweet_Home_Alabama_(2002)",
          "Paranormal_Movie_(2013)",
          "Bumblebee_(2018)",
          "10_Cloverfield_Lane_(2016)",
          "Push_(2009)",
          "The_Phantom_of_the_Opera_at_the_Royal_Albert_Hall_(2011)",
          "Soul_Surfer_(2011)",
          "Sharknado_(2013)",
          "Camp_Rock_2:_The_Final_Jam_(2010)",
          "White_Zombie_(1932)",
          "Vertigo_(1958)",
          "Stuart_Little_2_(2002)",
          "Ghost_in_the_Shell_(2017)",
          "Mary_Poppins_Returns_(2018)",
          "Elektra_(2005)",
          "A_Perfect_Getaway_(2009)",
          "Bridge_to_Terabithia_(2007)",
          "Carrie_(1976)",
          "Chatroom_(2010)",
          "Mamma_Mia!_Here_We_Go_Again_(2018)",
          "Underworld:_Evolution_(2006)",
          "Anne_of_Green_Gables:_A_New_Beginning_(2008)",
          "Miss_Peregrine's_Home_for_Peculiar_Children_(2016)",
          "The_Princess_Diaries_2:_Royal_Engagement_(2004)",
          "Bonnie_and_Clyde_(1967)",
          "102_Dalmatians_(2000)",
          "Abominable_(2006)",
          "Underworld:_Awakening_(2012)",
          "Big_Eyes_(2014)",
          "RED_(2010)",
          "The_Giver_(2014)",
          "Hannah_Montana:_The_Movie_(2009)",
          "My_Week_with_Marilyn_(2011)",
          "Fantastic_4:_Rise_of_the_Silver_Surfer_(2007)",
          "The_Night_Flier_(1997)",
          "Edward_Scissorhands_(1990)",
          "Deadpool_(2016)",
          "Roman_Holiday_(1953)",
          "Herbie_Fully_Loaded_(2005)",
          "Hancock_(2008)",
          "Zoom_(2006)",
          "Iron_Man_Three_(2013)_[4K]",
          "Avengers:_Age_of_Ultron_(2015)",
          "Hansel_&_Gretel:_Witch_Hunters_(2013)",
          "Beautiful_Creatures_(2013)",
          "Trouble_with_the_Curve_(2012)",
          "Hugo_(2011)",
          "Madeline_(1998)",
          "Enemy_(2013)",
          "A_Nightmare_on_Elm_Street_(1984)",
          "Van_Helsing_(2004)",
          "John_Carter_(2012)",
          "Sausage_Party_(2016)",
          "The_Love_Bug_(1968)",
          "Need_for_Speed_(2014)",
          "Honey,_I_Shrunk_the_Kids_(1989)",
          "Justice_League_(2017)",
          "The_Shaggy_Dog_(2006)",
          "Ginger_Snaps_2:_Unleashed_(2004)",
          "Masters_of_the_Universe_(1987)",
          "King_Kong_(2005)",
          "Ace_Ventura:_Pet_Detective_(1994)",
          "Casper_(1995)",
          "Nanny_McPhee_(2005)",
          "The_Wolf_Man_(1941)",
          "Dr._Jekyll_and_Mr._Hyde_(1931)",
          "Sleepy_Hollow_(1999)",
          "Titanic_(1997)",
          "Superman_II_(1980)",
          "A_Nightmare_on_Elm_Street_3:_Dream_Warriors_(1987)",
          "Diary_of_a_Wimpy_Kid:_Dog_Days_(2012)",
          "A_Quiet_Place_(2018)",
          "Fantastic_Four_(2015)",
          "Abbott_and_Costello_Meet_the_Mummy_(1955)",
          "Cape_Fear_(1962)",
          "Superman_(1978)",
          "Fat_Albert_(2004)",
          "The_Inbetweeners_2_(2014)",
          "Deadpool_2_(2018)",
          "The_Haunted_Mansion_(2003)",
          "Austin_Powers_in_Goldmember_(2002)",
          "Suicide_Squad_(2016)",
          "2012_(2009)",
          "Muppets_Most_Wanted_(2014)",
          "Diary_of_a_Wimpy_Kid:_Rodrick_Rules_(2011)",
          "Transformers:_Dark_of_the_Moon_(2011)",
          "Homeward_Bound_II:_Lost_in_San_Francisco_(1996)",
          "Scary_Stories_to_Tell_in_the_Dark_(2019)",
          "Indiana_Jones_and_the_Kingdom_of_the_Crystal_Skull_(2008)",
          "G.I._Joe:_The_Rise_of_Cobra_(2009)",
          "Men_in_Black_II_(2002)",
          "Frankenstein_(1931)",
          "Air_Buddies_(2006)",
          "Cats_&_Dogs:_The_Revenge_of_Kitty_Galore_(2010)",
          "Troy_(2004)",
          "Inkheart_(2008)",
          "X-Men_(2000)",
          "Anne_of_the_Indies_(1951)",
          "The_Remains_of_the_Day_(1993)",
          "The_Punisher_(2004)",
          "The_Hunchback_of_Notre_Dame_(1923)",
          "Planet_of_the_Apes_(2001)",
          "Willy_Wonka_&_the_Chocolate_Factory_(1971)",
          "Harry_Potter_and_the_Goblet_of_Fire_(2005)",
          "Osmosis_Jones_(2001)",
          "Star_Trek:_First_Contact_(1996)",
          "Night_at_the_Museum_(2006)",
          "Red_Dawn_(2012)",
          "Doctor_Zhivago_(1965)",
          "Mr._Bean's_Holiday_(2007)",
          "300_(2006)",
          "The_Black_Hole_(1979)",
          "The_Sorcerer's_Apprentice_(2010)",
          "Trading_Places_(1983)",
          "The_Ninth_Gate_(1999)",
          "Killer_Klowns_from_Outer_Space_(1988)",
          "X-Men:_Days_of_Future_Past_(2014)",
          "The_A-Team_(2010)",
          "Air_Bud_3:_World_Pup_(2001)",
          "The_Wolf_of_Wall_Street_(2013)",
          "The_Expendables_2_(2012)",
          "The_Jungle_Book_(1994)",
          "Black_Panther_(2018)",
          "Pulp_Fiction_(1994)",
          "The_Mummy's_Tomb_(1942)",
          "Dances_with_Wolves_(1990)",
          "Life_of_Pi_(2012)",
          "Harry_Potter_and_the_Sorcerer's_Stone_(2001)",
          "Abbott_and_Costello_Meet_Frankenstein_(1948)",
          "Harry_Potter_and_the_Deathly_Hallows:_Part_2_(2011)",
          "The_Lost_World_(1925)",
          "The_Lone_Ranger_(2013)",
          "Ernest_Scared_Stupid_(1991)",
          "The_Million_Dollar_Duck_(1971)",
          "The_Godfather:_Part_III_(1990)",
          "There_Be_Dragons_(2011)",
          "Raiders_of_the_Lost_Ark_(1981)",
          "This_Island_Earth_(1955)",
          "Son_of_Frankenstein_(1939)",
          "War_for_the_Planet_of_the_Apes_(2017)",
          "To_Kill_a_Mockingbird_(1962)",
          "The_Godfather:_Part_II_(1974)",
          "Walking_with_Dinosaurs_(2013)",
          "Stand_by_Me_(1986)",
          "Unbroken_(2014)",
          "Ace_Ventura:_When_Nature_Calls_(1995)",
          "Lincoln_(2012)",
          "The_Princess_Bride_(1987)",
          "Master_and_Commander:_The_Far_Side_of_the_World_(2003)"
         ],
         "marker": {
          "color": "rgb(255,185,15)"
         },
         "mode": "markers",
         "name": "Number of women on screen VS. movie revenue",
         "type": "scatter",
         "x": [
          2198,
          389,
          739,
          782,
          903,
          583,
          2769,
          746,
          368,
          738,
          874,
          550,
          1158,
          453,
          432,
          377,
          672,
          1913,
          1080,
          459,
          1197,
          149,
          751,
          301,
          237,
          803,
          287,
          477,
          548,
          471,
          505,
          1346,
          179,
          638,
          431,
          1692,
          479,
          398,
          250,
          233,
          829,
          537,
          316,
          1181,
          616,
          434,
          219,
          463,
          250,
          549,
          371,
          309,
          342,
          708,
          368,
          435,
          657,
          732,
          633,
          537,
          144,
          338,
          340,
          362,
          16,
          469,
          372,
          300,
          303,
          460,
          144,
          316,
          719,
          408,
          228,
          375,
          197,
          210,
          265,
          683,
          487,
          219,
          472,
          102,
          168,
          220,
          193,
          274,
          586,
          358,
          182,
          217,
          942,
          145,
          363,
          288,
          467,
          240,
          47,
          98,
          341,
          168,
          212,
          123,
          61,
          28,
          373,
          246,
          141,
          306,
          424,
          161,
          86,
          116,
          339,
          558,
          68,
          197,
          216,
          167,
          656,
          254,
          207,
          105,
          121,
          375,
          152,
          107,
          182,
          163,
          153,
          611,
          116,
          94,
          212,
          212,
          54,
          252,
          113,
          286,
          107,
          219,
          65,
          144,
          81,
          138,
          412,
          147,
          133,
          109,
          88,
          50,
          231,
          266,
          3,
          102,
          94,
          111,
          147,
          47,
          16
         ],
         "xaxis": "x2",
         "y": [
          415252786,
          119100758,
          7011317,
          0,
          231411584,
          100076342,
          287506194,
          0,
          477200000,
          32000000,
          14296438,
          0,
          180622424,
          0,
          467989645,
          108286421,
          45465299,
          0,
          47088990,
          0,
          0,
          0,
          7797728,
          169956806,
          169801921,
          348807090,
          56681566,
          22852638,
          137587063,
          33800000,
          0,
          395044706,
          111476513,
          0,
          296482446,
          134734481,
          50700000,
          183611771,
          1810000,
          160112671,
          28883511,
          71664962,
          66980456,
          155545279,
          35057696,
          301913131,
          91549,
          53000000,
          783100000,
          12000000,
          66002004,
          629443428,
          12506188,
          1214811252,
          1405403694,
          226349749,
          60052138,
          0,
          185770160,
          30000000,
          3396726,
          57000000,
          300257475,
          284139100,
          140705322,
          0,
          203277636,
          222724172,
          657924295,
          87134280,
          0,
          17336370,
          562363449,
          107217396,
          287928194,
          123276807,
          0,
          1300000,
          206071502,
          2187463944,
          190458706,
          44793222,
          76196538,
          340677200,
          167977596,
          0,
          103000000,
          300218018,
          48563556,
          0,
          786365638,
          182290266,
          296655431,
          746846894,
          791217826,
          80383290,
          72526996,
          1123794079,
          32709423,
          95438172,
          786636033,
          302469017,
          445135288,
          12000000,
          0,
          112483764,
          497409852,
          62803180,
          296339527,
          0,
          23237911,
          54700105,
          0,
          362211740,
          4000000,
          895921036,
          13596911,
          150000000,
          574480841,
          44806783,
          111858363,
          232225908,
          0,
          35841901,
          215283742,
          90404800,
          58401898,
          43625095,
          747862775,
          177238796,
          0,
          392000000,
          314975955,
          43,
          1346739107,
          214179088,
          0,
          424208848,
          609016565,
          976475550,
          4812444,
          1341511219,
          0,
          260502115,
          0,
          0,
          136766062,
          0,
          389925971,
          1700000,
          0,
          488533726,
          13129846,
          102600000,
          126546518,
          52287414,
          163442937,
          212385533,
          116471580,
          30861665,
          212011111
         ],
         "yaxis": "y2"
        }
       ],
       "layout": {
        "height": 600,
        "legend": {
         "font": {
          "size": 15
         },
         "x": 0.029,
         "y": 1.038
        },
        "margin": {
         "b": 70,
         "l": 100,
         "r": 20,
         "t": 70
        },
        "shapes": [
         {
          "line": {
           "color": "black",
           "width": 2
          },
          "type": "line",
          "x0": 0.433,
          "x1": 0.433,
          "xref": "paper",
          "y0": 0.89,
          "y1": 0.002,
          "yref": "paper"
         }
        ],
        "template": {
         "data": {
          "bar": [
           {
            "error_x": {
             "color": "#2a3f5f"
            },
            "error_y": {
             "color": "#2a3f5f"
            },
            "marker": {
             "line": {
              "color": "#E5ECF6",
              "width": 0.5
             },
             "pattern": {
              "fillmode": "overlay",
              "size": 10,
              "solidity": 0.2
             }
            },
            "type": "bar"
           }
          ],
          "barpolar": [
           {
            "marker": {
             "line": {
              "color": "#E5ECF6",
              "width": 0.5
             },
             "pattern": {
              "fillmode": "overlay",
              "size": 10,
              "solidity": 0.2
             }
            },
            "type": "barpolar"
           }
          ],
          "carpet": [
           {
            "aaxis": {
             "endlinecolor": "#2a3f5f",
             "gridcolor": "white",
             "linecolor": "white",
             "minorgridcolor": "white",
             "startlinecolor": "#2a3f5f"
            },
            "baxis": {
             "endlinecolor": "#2a3f5f",
             "gridcolor": "white",
             "linecolor": "white",
             "minorgridcolor": "white",
             "startlinecolor": "#2a3f5f"
            },
            "type": "carpet"
           }
          ],
          "choropleth": [
           {
            "colorbar": {
             "outlinewidth": 0,
             "ticks": ""
            },
            "type": "choropleth"
           }
          ],
          "contour": [
           {
            "colorbar": {
             "outlinewidth": 0,
             "ticks": ""
            },
            "colorscale": [
             [
              0,
              "#0d0887"
             ],
             [
              0.1111111111111111,
              "#46039f"
             ],
             [
              0.2222222222222222,
              "#7201a8"
             ],
             [
              0.3333333333333333,
              "#9c179e"
             ],
             [
              0.4444444444444444,
              "#bd3786"
             ],
             [
              0.5555555555555556,
              "#d8576b"
             ],
             [
              0.6666666666666666,
              "#ed7953"
             ],
             [
              0.7777777777777778,
              "#fb9f3a"
             ],
             [
              0.8888888888888888,
              "#fdca26"
             ],
             [
              1,
              "#f0f921"
             ]
            ],
            "type": "contour"
           }
          ],
          "contourcarpet": [
           {
            "colorbar": {
             "outlinewidth": 0,
             "ticks": ""
            },
            "type": "contourcarpet"
           }
          ],
          "heatmap": [
           {
            "colorbar": {
             "outlinewidth": 0,
             "ticks": ""
            },
            "colorscale": [
             [
              0,
              "#0d0887"
             ],
             [
              0.1111111111111111,
              "#46039f"
             ],
             [
              0.2222222222222222,
              "#7201a8"
             ],
             [
              0.3333333333333333,
              "#9c179e"
             ],
             [
              0.4444444444444444,
              "#bd3786"
             ],
             [
              0.5555555555555556,
              "#d8576b"
             ],
             [
              0.6666666666666666,
              "#ed7953"
             ],
             [
              0.7777777777777778,
              "#fb9f3a"
             ],
             [
              0.8888888888888888,
              "#fdca26"
             ],
             [
              1,
              "#f0f921"
             ]
            ],
            "type": "heatmap"
           }
          ],
          "heatmapgl": [
           {
            "colorbar": {
             "outlinewidth": 0,
             "ticks": ""
            },
            "colorscale": [
             [
              0,
              "#0d0887"
             ],
             [
              0.1111111111111111,
              "#46039f"
             ],
             [
              0.2222222222222222,
              "#7201a8"
             ],
             [
              0.3333333333333333,
              "#9c179e"
             ],
             [
              0.4444444444444444,
              "#bd3786"
             ],
             [
              0.5555555555555556,
              "#d8576b"
             ],
             [
              0.6666666666666666,
              "#ed7953"
             ],
             [
              0.7777777777777778,
              "#fb9f3a"
             ],
             [
              0.8888888888888888,
              "#fdca26"
             ],
             [
              1,
              "#f0f921"
             ]
            ],
            "type": "heatmapgl"
           }
          ],
          "histogram": [
           {
            "marker": {
             "pattern": {
              "fillmode": "overlay",
              "size": 10,
              "solidity": 0.2
             }
            },
            "type": "histogram"
           }
          ],
          "histogram2d": [
           {
            "colorbar": {
             "outlinewidth": 0,
             "ticks": ""
            },
            "colorscale": [
             [
              0,
              "#0d0887"
             ],
             [
              0.1111111111111111,
              "#46039f"
             ],
             [
              0.2222222222222222,
              "#7201a8"
             ],
             [
              0.3333333333333333,
              "#9c179e"
             ],
             [
              0.4444444444444444,
              "#bd3786"
             ],
             [
              0.5555555555555556,
              "#d8576b"
             ],
             [
              0.6666666666666666,
              "#ed7953"
             ],
             [
              0.7777777777777778,
              "#fb9f3a"
             ],
             [
              0.8888888888888888,
              "#fdca26"
             ],
             [
              1,
              "#f0f921"
             ]
            ],
            "type": "histogram2d"
           }
          ],
          "histogram2dcontour": [
           {
            "colorbar": {
             "outlinewidth": 0,
             "ticks": ""
            },
            "colorscale": [
             [
              0,
              "#0d0887"
             ],
             [
              0.1111111111111111,
              "#46039f"
             ],
             [
              0.2222222222222222,
              "#7201a8"
             ],
             [
              0.3333333333333333,
              "#9c179e"
             ],
             [
              0.4444444444444444,
              "#bd3786"
             ],
             [
              0.5555555555555556,
              "#d8576b"
             ],
             [
              0.6666666666666666,
              "#ed7953"
             ],
             [
              0.7777777777777778,
              "#fb9f3a"
             ],
             [
              0.8888888888888888,
              "#fdca26"
             ],
             [
              1,
              "#f0f921"
             ]
            ],
            "type": "histogram2dcontour"
           }
          ],
          "mesh3d": [
           {
            "colorbar": {
             "outlinewidth": 0,
             "ticks": ""
            },
            "type": "mesh3d"
           }
          ],
          "parcoords": [
           {
            "line": {
             "colorbar": {
              "outlinewidth": 0,
              "ticks": ""
             }
            },
            "type": "parcoords"
           }
          ],
          "pie": [
           {
            "automargin": true,
            "type": "pie"
           }
          ],
          "scatter": [
           {
            "marker": {
             "colorbar": {
              "outlinewidth": 0,
              "ticks": ""
             }
            },
            "type": "scatter"
           }
          ],
          "scatter3d": [
           {
            "line": {
             "colorbar": {
              "outlinewidth": 0,
              "ticks": ""
             }
            },
            "marker": {
             "colorbar": {
              "outlinewidth": 0,
              "ticks": ""
             }
            },
            "type": "scatter3d"
           }
          ],
          "scattercarpet": [
           {
            "marker": {
             "colorbar": {
              "outlinewidth": 0,
              "ticks": ""
             }
            },
            "type": "scattercarpet"
           }
          ],
          "scattergeo": [
           {
            "marker": {
             "colorbar": {
              "outlinewidth": 0,
              "ticks": ""
             }
            },
            "type": "scattergeo"
           }
          ],
          "scattergl": [
           {
            "marker": {
             "colorbar": {
              "outlinewidth": 0,
              "ticks": ""
             }
            },
            "type": "scattergl"
           }
          ],
          "scattermapbox": [
           {
            "marker": {
             "colorbar": {
              "outlinewidth": 0,
              "ticks": ""
             }
            },
            "type": "scattermapbox"
           }
          ],
          "scatterpolar": [
           {
            "marker": {
             "colorbar": {
              "outlinewidth": 0,
              "ticks": ""
             }
            },
            "type": "scatterpolar"
           }
          ],
          "scatterpolargl": [
           {
            "marker": {
             "colorbar": {
              "outlinewidth": 0,
              "ticks": ""
             }
            },
            "type": "scatterpolargl"
           }
          ],
          "scatterternary": [
           {
            "marker": {
             "colorbar": {
              "outlinewidth": 0,
              "ticks": ""
             }
            },
            "type": "scatterternary"
           }
          ],
          "surface": [
           {
            "colorbar": {
             "outlinewidth": 0,
             "ticks": ""
            },
            "colorscale": [
             [
              0,
              "#0d0887"
             ],
             [
              0.1111111111111111,
              "#46039f"
             ],
             [
              0.2222222222222222,
              "#7201a8"
             ],
             [
              0.3333333333333333,
              "#9c179e"
             ],
             [
              0.4444444444444444,
              "#bd3786"
             ],
             [
              0.5555555555555556,
              "#d8576b"
             ],
             [
              0.6666666666666666,
              "#ed7953"
             ],
             [
              0.7777777777777778,
              "#fb9f3a"
             ],
             [
              0.8888888888888888,
              "#fdca26"
             ],
             [
              1,
              "#f0f921"
             ]
            ],
            "type": "surface"
           }
          ],
          "table": [
           {
            "cells": {
             "fill": {
              "color": "#EBF0F8"
             },
             "line": {
              "color": "white"
             }
            },
            "header": {
             "fill": {
              "color": "#C8D4E3"
             },
             "line": {
              "color": "white"
             }
            },
            "type": "table"
           }
          ]
         },
         "layout": {
          "annotationdefaults": {
           "arrowcolor": "#2a3f5f",
           "arrowhead": 0,
           "arrowwidth": 1
          },
          "autotypenumbers": "strict",
          "coloraxis": {
           "colorbar": {
            "outlinewidth": 0,
            "ticks": ""
           }
          },
          "colorscale": {
           "diverging": [
            [
             0,
             "#8e0152"
            ],
            [
             0.1,
             "#c51b7d"
            ],
            [
             0.2,
             "#de77ae"
            ],
            [
             0.3,
             "#f1b6da"
            ],
            [
             0.4,
             "#fde0ef"
            ],
            [
             0.5,
             "#f7f7f7"
            ],
            [
             0.6,
             "#e6f5d0"
            ],
            [
             0.7,
             "#b8e186"
            ],
            [
             0.8,
             "#7fbc41"
            ],
            [
             0.9,
             "#4d9221"
            ],
            [
             1,
             "#276419"
            ]
           ],
           "sequential": [
            [
             0,
             "#0d0887"
            ],
            [
             0.1111111111111111,
             "#46039f"
            ],
            [
             0.2222222222222222,
             "#7201a8"
            ],
            [
             0.3333333333333333,
             "#9c179e"
            ],
            [
             0.4444444444444444,
             "#bd3786"
            ],
            [
             0.5555555555555556,
             "#d8576b"
            ],
            [
             0.6666666666666666,
             "#ed7953"
            ],
            [
             0.7777777777777778,
             "#fb9f3a"
            ],
            [
             0.8888888888888888,
             "#fdca26"
            ],
            [
             1,
             "#f0f921"
            ]
           ],
           "sequentialminus": [
            [
             0,
             "#0d0887"
            ],
            [
             0.1111111111111111,
             "#46039f"
            ],
            [
             0.2222222222222222,
             "#7201a8"
            ],
            [
             0.3333333333333333,
             "#9c179e"
            ],
            [
             0.4444444444444444,
             "#bd3786"
            ],
            [
             0.5555555555555556,
             "#d8576b"
            ],
            [
             0.6666666666666666,
             "#ed7953"
            ],
            [
             0.7777777777777778,
             "#fb9f3a"
            ],
            [
             0.8888888888888888,
             "#fdca26"
            ],
            [
             1,
             "#f0f921"
            ]
           ]
          },
          "colorway": [
           "#636efa",
           "#EF553B",
           "#00cc96",
           "#ab63fa",
           "#FFA15A",
           "#19d3f3",
           "#FF6692",
           "#B6E880",
           "#FF97FF",
           "#FECB52"
          ],
          "font": {
           "color": "#2a3f5f"
          },
          "geo": {
           "bgcolor": "white",
           "lakecolor": "white",
           "landcolor": "#E5ECF6",
           "showlakes": true,
           "showland": true,
           "subunitcolor": "white"
          },
          "hoverlabel": {
           "align": "left"
          },
          "hovermode": "closest",
          "mapbox": {
           "style": "light"
          },
          "paper_bgcolor": "white",
          "plot_bgcolor": "#E5ECF6",
          "polar": {
           "angularaxis": {
            "gridcolor": "white",
            "linecolor": "white",
            "ticks": ""
           },
           "bgcolor": "#E5ECF6",
           "radialaxis": {
            "gridcolor": "white",
            "linecolor": "white",
            "ticks": ""
           }
          },
          "scene": {
           "xaxis": {
            "backgroundcolor": "#E5ECF6",
            "gridcolor": "white",
            "gridwidth": 2,
            "linecolor": "white",
            "showbackground": true,
            "ticks": "",
            "zerolinecolor": "white"
           },
           "yaxis": {
            "backgroundcolor": "#E5ECF6",
            "gridcolor": "white",
            "gridwidth": 2,
            "linecolor": "white",
            "showbackground": true,
            "ticks": "",
            "zerolinecolor": "white"
           },
           "zaxis": {
            "backgroundcolor": "#E5ECF6",
            "gridcolor": "white",
            "gridwidth": 2,
            "linecolor": "white",
            "showbackground": true,
            "ticks": "",
            "zerolinecolor": "white"
           }
          },
          "shapedefaults": {
           "line": {
            "color": "#2a3f5f"
           }
          },
          "ternary": {
           "aaxis": {
            "gridcolor": "white",
            "linecolor": "white",
            "ticks": ""
           },
           "baxis": {
            "gridcolor": "white",
            "linecolor": "white",
            "ticks": ""
           },
           "bgcolor": "#E5ECF6",
           "caxis": {
            "gridcolor": "white",
            "linecolor": "white",
            "ticks": ""
           }
          },
          "title": {
           "x": 0.05
          },
          "xaxis": {
           "automargin": true,
           "gridcolor": "white",
           "linecolor": "white",
           "ticks": "",
           "title": {
            "standoff": 15
           },
           "zerolinecolor": "white",
           "zerolinewidth": 2
          },
          "yaxis": {
           "automargin": true,
           "gridcolor": "white",
           "linecolor": "white",
           "ticks": "",
           "title": {
            "standoff": 15
           },
           "zerolinecolor": "white",
           "zerolinewidth": 2
          }
         }
        },
        "title": {
         "text": "Women screentime and movie revenue"
        },
        "width": 1500,
        "xaxis": {
         "anchor": "y",
         "domain": [
          0,
          0.42
         ],
         "showgrid": true,
         "showline": true,
         "showticklabels": true,
         "zeroline": false
        },
        "xaxis2": {
         "anchor": "y2",
         "domain": [
          0.47,
          1
         ],
         "showgrid": true,
         "showline": true,
         "showticklabels": true,
         "zeroline": false
        },
        "yaxis": {
         "anchor": "x",
         "domain": [
          0,
          0.85
         ],
         "showgrid": false,
         "showline": false,
         "showticklabels": true
        },
        "yaxis2": {
         "anchor": "x2",
         "domain": [
          0,
          0.85
         ],
         "showgrid": false,
         "showline": true,
         "showticklabels": true
        }
       }
      },
      "text/html": [
       "<div>                            <div id=\"346fd28a-39ab-4d5b-868d-f3c7c668fa66\" class=\"plotly-graph-div\" style=\"height:600px; width:1500px;\"></div>            <script type=\"text/javascript\">                require([\"plotly\"], function(Plotly) {                    window.PLOTLYENV=window.PLOTLYENV || {};                                    if (document.getElementById(\"346fd28a-39ab-4d5b-868d-f3c7c668fa66\")) {                    Plotly.newPlot(                        \"346fd28a-39ab-4d5b-868d-f3c7c668fa66\",                        [{\"marker\":{\"color\":\"rgb(24,116,205)\",\"line\":{\"color\":\"rgb(0,191,255)\",\"width\":1}},\"name\":\"Screentime percentage of woman per movie\",\"orientation\":\"h\",\"type\":\"bar\",\"x\":[38.45346396081176,35.23550724637681,34.055299539170505,31.30504403522818,30.160320641282567,26.08501118568233,25.987799155326137,24.653007270323855,24.566088117489983,23.82951243138521,23.368983957219253,22.755482002482417,22.299248989023685,21.88405797101449,19.99074502545118,19.873484449130206,19.649122807017545,19.540347293156284,18.37359646138142,18.24324324324324,17.647058823529413,17.633136094674555,17.46511627906977,17.034521788341824,16.32231404958678,16.261644390441475,16.15990990990991,15.685629727063466,15.528478322470956,15.352020860495436,15.33090467516697,15.205603253502034,15.092748735244518,15.036530756540184,14.785591766723844,14.755385017877389,14.706785385323917,14.61086637298091,14.56876456876457,14.472049689440992,14.442508710801397,14.42385173247381,14.31159420289855,14.1301746829385,14.08,13.227674489484912,13.200723327305605,13.15340909090909,13.11647429171039,13.096374045801523,13.026685393258427,12.837557125051932,12.723214285714285,12.699551569506726,12.68090971743625,12.678519382104342,12.51905487804878,12.478690760313672,12.43614931237721,12.410446036514909,12.234494477485132,12.18018018018018,11.946591707659874,11.872745162348313,11.851851851851851,11.828499369482977,11.783338612606906,11.760094080752646,11.735089078233928,11.669203450025368,11.631663974151856,11.532846715328466,11.128308311406904,10.88871096877502,10.669162377164248,9.997334044254863,9.526112185686657,9.421265141318976,9.40049663001064,9.39865143800743,9.04363974001857,8.946078431372548,8.577139741958932,8.25242718446602,8.088589311506981,7.9422382671480145,7.929334428923583,7.921364556230125,7.814375250033338,7.543194268857986,7.523770152955766,7.487922705314009,7.357650550652191,7.330637007077856,7.295016077170419,7.239819004524888,7.17357910906298,7.042253521126761,6.983655274888559,6.853146853146853,6.788771650408123,6.624605678233439,6.587942821628341,6.373056994818653,6.25,6.222222222222222,6.194984221890051,6.0427413411938105,6.041131105398458,5.991775993734091,5.972672207353148,5.940959409594096,5.8984910836762685,5.861546235472461,5.858969927410992,5.777593704700766,5.657237936772046,5.647935779816514,5.439435910350038,5.434428896843476,5.372205388584064,5.343993267410057,5.313141683778235,5.104521147301896,5.086170659941152,5.079236082893133,4.781377791758415,4.726148409893993,4.716247732573206,4.650499286733238,4.455445544554455,4.425612052730696,4.360902255639098,4.357904496986556,4.292366875885807,4.282828282828283,4.27892234548336,3.983559911476446,3.956582633053221,3.955192919374914,3.7334263782274943,3.715012722646311,3.695281409891984,3.693254680687356,3.620920876173447,3.617300131061599,3.546831955922865,3.5150645624103296,3.5129424194400425,3.438485804416404,3.260466839570211,3.2133676092544987,2.6252983293556085,2.518223989396952,2.2900763358778624,2.137916579333473,1.8234723569350144,1.8193738731355515,1.192117427621442,1.1832829808660623,0.4160166406656266],\"xaxis\":\"x\",\"y\":[\"Sex_and_the_City_(2008)\",\"The_Shallows_(2016)\",\"Bound_(1996)\",\"An_American_Girl:_McKenna_Shoots_for_the_Stars_(2012)\",\"Juno_(2007)\",\"Nim's_Island_(2008)\",\"Pitch_Perfect_2_(2015)\",\"Halloweentown_(1998)\",\"Teenage_Mutant_Ninja_Turtles_(2014)\",\"Psycho_(1960)\",\"Supergirl_(1984)\",\"Super_Shark_(2011)\",\"Sweet_Home_Alabama_(2002)\",\"Paranormal_Movie_(2013)\",\"Bumblebee_(2018)\",\"10_Cloverfield_Lane_(2016)\",\"Push_(2009)\",\"The_Phantom_of_the_Opera_at_the_Royal_Albert_Hall_(2011)\",\"Soul_Surfer_(2011)\",\"Sharknado_(2013)\",\"Camp_Rock_2:_The_Final_Jam_(2010)\",\"White_Zombie_(1932)\",\"Vertigo_(1958)\",\"Stuart_Little_2_(2002)\",\"Ghost_in_the_Shell_(2017)\",\"Mary_Poppins_Returns_(2018)\",\"Elektra_(2005)\",\"A_Perfect_Getaway_(2009)\",\"Bridge_to_Terabithia_(2007)\",\"Carrie_(1976)\",\"Chatroom_(2010)\",\"Mamma_Mia!_Here_We_Go_Again_(2018)\",\"Underworld:_Evolution_(2006)\",\"Anne_of_Green_Gables:_A_New_Beginning_(2008)\",\"Miss_Peregrine's_Home_for_Peculiar_Children_(2016)\",\"The_Princess_Diaries_2:_Royal_Engagement_(2004)\",\"Bonnie_and_Clyde_(1967)\",\"102_Dalmatians_(2000)\",\"Abominable_(2006)\",\"Underworld:_Awakening_(2012)\",\"Big_Eyes_(2014)\",\"RED_(2010)\",\"The_Giver_(2014)\",\"Hannah_Montana:_The_Movie_(2009)\",\"My_Week_with_Marilyn_(2011)\",\"Fantastic_4:_Rise_of_the_Silver_Surfer_(2007)\",\"The_Night_Flier_(1997)\",\"Edward_Scissorhands_(1990)\",\"Deadpool_(2016)\",\"Roman_Holiday_(1953)\",\"Herbie_Fully_Loaded_(2005)\",\"Hancock_(2008)\",\"Zoom_(2006)\",\"Iron_Man_Three_(2013)_[4K]\",\"Avengers:_Age_of_Ultron_(2015)\",\"Hansel_&_Gretel:_Witch_Hunters_(2013)\",\"Beautiful_Creatures_(2013)\",\"Trouble_with_the_Curve_(2012)\",\"Hugo_(2011)\",\"Madeline_(1998)\",\"Enemy_(2013)\",\"A_Nightmare_on_Elm_Street_(1984)\",\"Van_Helsing_(2004)\",\"John_Carter_(2012)\",\"Sausage_Party_(2016)\",\"The_Love_Bug_(1968)\",\"Need_for_Speed_(2014)\",\"Honey,_I_Shrunk_the_Kids_(1989)\",\"Justice_League_(2017)\",\"The_Shaggy_Dog_(2006)\",\"Ginger_Snaps_2:_Unleashed_(2004)\",\"Masters_of_the_Universe_(1987)\",\"King_Kong_(2005)\",\"Ace_Ventura:_Pet_Detective_(1994)\",\"Casper_(1995)\",\"Nanny_McPhee_(2005)\",\"The_Wolf_Man_(1941)\",\"Dr._Jekyll_and_Mr._Hyde_(1931)\",\"Sleepy_Hollow_(1999)\",\"Titanic_(1997)\",\"Superman_II_(1980)\",\"A_Nightmare_on_Elm_Street_3:_Dream_Warriors_(1987)\",\"Diary_of_a_Wimpy_Kid:_Dog_Days_(2012)\",\"A_Quiet_Place_(2018)\",\"Fantastic_Four_(2015)\",\"Abbott_and_Costello_Meet_the_Mummy_(1955)\",\"Cape_Fear_(1962)\",\"Superman_(1978)\",\"Fat_Albert_(2004)\",\"The_Inbetweeners_2_(2014)\",\"Deadpool_2_(2018)\",\"The_Haunted_Mansion_(2003)\",\"Austin_Powers_in_Goldmember_(2002)\",\"Suicide_Squad_(2016)\",\"2012_(2009)\",\"Muppets_Most_Wanted_(2014)\",\"Diary_of_a_Wimpy_Kid:_Rodrick_Rules_(2011)\",\"Transformers:_Dark_of_the_Moon_(2011)\",\"Homeward_Bound_II:_Lost_in_San_Francisco_(1996)\",\"Scary_Stories_to_Tell_in_the_Dark_(2019)\",\"Indiana_Jones_and_the_Kingdom_of_the_Crystal_Skull_(2008)\",\"G.I._Joe:_The_Rise_of_Cobra_(2009)\",\"Men_in_Black_II_(2002)\",\"Frankenstein_(1931)\",\"Air_Buddies_(2006)\",\"Cats_&_Dogs:_The_Revenge_of_Kitty_Galore_(2010)\",\"Troy_(2004)\",\"Inkheart_(2008)\",\"X-Men_(2000)\",\"Anne_of_the_Indies_(1951)\",\"The_Remains_of_the_Day_(1993)\",\"The_Punisher_(2004)\",\"The_Hunchback_of_Notre_Dame_(1923)\",\"Planet_of_the_Apes_(2001)\",\"Willy_Wonka_&_the_Chocolate_Factory_(1971)\",\"Harry_Potter_and_the_Goblet_of_Fire_(2005)\",\"Osmosis_Jones_(2001)\",\"Star_Trek:_First_Contact_(1996)\",\"Night_at_the_Museum_(2006)\",\"Red_Dawn_(2012)\",\"Doctor_Zhivago_(1965)\",\"Mr._Bean's_Holiday_(2007)\",\"300_(2006)\",\"The_Black_Hole_(1979)\",\"The_Sorcerer's_Apprentice_(2010)\",\"Trading_Places_(1983)\",\"The_Ninth_Gate_(1999)\",\"Killer_Klowns_from_Outer_Space_(1988)\",\"X-Men:_Days_of_Future_Past_(2014)\",\"The_A-Team_(2010)\",\"Air_Bud_3:_World_Pup_(2001)\",\"The_Wolf_of_Wall_Street_(2013)\",\"The_Expendables_2_(2012)\",\"The_Jungle_Book_(1994)\",\"Black_Panther_(2018)\",\"Pulp_Fiction_(1994)\",\"The_Mummy's_Tomb_(1942)\",\"Dances_with_Wolves_(1990)\",\"Life_of_Pi_(2012)\",\"Harry_Potter_and_the_Sorcerer's_Stone_(2001)\",\"Abbott_and_Costello_Meet_Frankenstein_(1948)\",\"Harry_Potter_and_the_Deathly_Hallows:_Part_2_(2011)\",\"The_Lost_World_(1925)\",\"The_Lone_Ranger_(2013)\",\"Ernest_Scared_Stupid_(1991)\",\"The_Million_Dollar_Duck_(1971)\",\"The_Godfather:_Part_III_(1990)\",\"There_Be_Dragons_(2011)\",\"Raiders_of_the_Lost_Ark_(1981)\",\"This_Island_Earth_(1955)\",\"Son_of_Frankenstein_(1939)\",\"War_for_the_Planet_of_the_Apes_(2017)\",\"To_Kill_a_Mockingbird_(1962)\",\"The_Godfather:_Part_II_(1974)\",\"Walking_with_Dinosaurs_(2013)\",\"Stand_by_Me_(1986)\",\"Unbroken_(2014)\",\"Ace_Ventura:_When_Nature_Calls_(1995)\",\"Lincoln_(2012)\",\"The_Princess_Bride_(1987)\",\"Master_and_Commander:_The_Far_Side_of_the_World_(2003)\"],\"yaxis\":\"y\"},{\"hovertext\":[\"Sex_and_the_City_(2008)\",\"The_Shallows_(2016)\",\"Bound_(1996)\",\"An_American_Girl:_McKenna_Shoots_for_the_Stars_(2012)\",\"Juno_(2007)\",\"Nim's_Island_(2008)\",\"Pitch_Perfect_2_(2015)\",\"Halloweentown_(1998)\",\"Teenage_Mutant_Ninja_Turtles_(2014)\",\"Psycho_(1960)\",\"Supergirl_(1984)\",\"Super_Shark_(2011)\",\"Sweet_Home_Alabama_(2002)\",\"Paranormal_Movie_(2013)\",\"Bumblebee_(2018)\",\"10_Cloverfield_Lane_(2016)\",\"Push_(2009)\",\"The_Phantom_of_the_Opera_at_the_Royal_Albert_Hall_(2011)\",\"Soul_Surfer_(2011)\",\"Sharknado_(2013)\",\"Camp_Rock_2:_The_Final_Jam_(2010)\",\"White_Zombie_(1932)\",\"Vertigo_(1958)\",\"Stuart_Little_2_(2002)\",\"Ghost_in_the_Shell_(2017)\",\"Mary_Poppins_Returns_(2018)\",\"Elektra_(2005)\",\"A_Perfect_Getaway_(2009)\",\"Bridge_to_Terabithia_(2007)\",\"Carrie_(1976)\",\"Chatroom_(2010)\",\"Mamma_Mia!_Here_We_Go_Again_(2018)\",\"Underworld:_Evolution_(2006)\",\"Anne_of_Green_Gables:_A_New_Beginning_(2008)\",\"Miss_Peregrine's_Home_for_Peculiar_Children_(2016)\",\"The_Princess_Diaries_2:_Royal_Engagement_(2004)\",\"Bonnie_and_Clyde_(1967)\",\"102_Dalmatians_(2000)\",\"Abominable_(2006)\",\"Underworld:_Awakening_(2012)\",\"Big_Eyes_(2014)\",\"RED_(2010)\",\"The_Giver_(2014)\",\"Hannah_Montana:_The_Movie_(2009)\",\"My_Week_with_Marilyn_(2011)\",\"Fantastic_4:_Rise_of_the_Silver_Surfer_(2007)\",\"The_Night_Flier_(1997)\",\"Edward_Scissorhands_(1990)\",\"Deadpool_(2016)\",\"Roman_Holiday_(1953)\",\"Herbie_Fully_Loaded_(2005)\",\"Hancock_(2008)\",\"Zoom_(2006)\",\"Iron_Man_Three_(2013)_[4K]\",\"Avengers:_Age_of_Ultron_(2015)\",\"Hansel_&_Gretel:_Witch_Hunters_(2013)\",\"Beautiful_Creatures_(2013)\",\"Trouble_with_the_Curve_(2012)\",\"Hugo_(2011)\",\"Madeline_(1998)\",\"Enemy_(2013)\",\"A_Nightmare_on_Elm_Street_(1984)\",\"Van_Helsing_(2004)\",\"John_Carter_(2012)\",\"Sausage_Party_(2016)\",\"The_Love_Bug_(1968)\",\"Need_for_Speed_(2014)\",\"Honey,_I_Shrunk_the_Kids_(1989)\",\"Justice_League_(2017)\",\"The_Shaggy_Dog_(2006)\",\"Ginger_Snaps_2:_Unleashed_(2004)\",\"Masters_of_the_Universe_(1987)\",\"King_Kong_(2005)\",\"Ace_Ventura:_Pet_Detective_(1994)\",\"Casper_(1995)\",\"Nanny_McPhee_(2005)\",\"The_Wolf_Man_(1941)\",\"Dr._Jekyll_and_Mr._Hyde_(1931)\",\"Sleepy_Hollow_(1999)\",\"Titanic_(1997)\",\"Superman_II_(1980)\",\"A_Nightmare_on_Elm_Street_3:_Dream_Warriors_(1987)\",\"Diary_of_a_Wimpy_Kid:_Dog_Days_(2012)\",\"A_Quiet_Place_(2018)\",\"Fantastic_Four_(2015)\",\"Abbott_and_Costello_Meet_the_Mummy_(1955)\",\"Cape_Fear_(1962)\",\"Superman_(1978)\",\"Fat_Albert_(2004)\",\"The_Inbetweeners_2_(2014)\",\"Deadpool_2_(2018)\",\"The_Haunted_Mansion_(2003)\",\"Austin_Powers_in_Goldmember_(2002)\",\"Suicide_Squad_(2016)\",\"2012_(2009)\",\"Muppets_Most_Wanted_(2014)\",\"Diary_of_a_Wimpy_Kid:_Rodrick_Rules_(2011)\",\"Transformers:_Dark_of_the_Moon_(2011)\",\"Homeward_Bound_II:_Lost_in_San_Francisco_(1996)\",\"Scary_Stories_to_Tell_in_the_Dark_(2019)\",\"Indiana_Jones_and_the_Kingdom_of_the_Crystal_Skull_(2008)\",\"G.I._Joe:_The_Rise_of_Cobra_(2009)\",\"Men_in_Black_II_(2002)\",\"Frankenstein_(1931)\",\"Air_Buddies_(2006)\",\"Cats_&_Dogs:_The_Revenge_of_Kitty_Galore_(2010)\",\"Troy_(2004)\",\"Inkheart_(2008)\",\"X-Men_(2000)\",\"Anne_of_the_Indies_(1951)\",\"The_Remains_of_the_Day_(1993)\",\"The_Punisher_(2004)\",\"The_Hunchback_of_Notre_Dame_(1923)\",\"Planet_of_the_Apes_(2001)\",\"Willy_Wonka_&_the_Chocolate_Factory_(1971)\",\"Harry_Potter_and_the_Goblet_of_Fire_(2005)\",\"Osmosis_Jones_(2001)\",\"Star_Trek:_First_Contact_(1996)\",\"Night_at_the_Museum_(2006)\",\"Red_Dawn_(2012)\",\"Doctor_Zhivago_(1965)\",\"Mr._Bean's_Holiday_(2007)\",\"300_(2006)\",\"The_Black_Hole_(1979)\",\"The_Sorcerer's_Apprentice_(2010)\",\"Trading_Places_(1983)\",\"The_Ninth_Gate_(1999)\",\"Killer_Klowns_from_Outer_Space_(1988)\",\"X-Men:_Days_of_Future_Past_(2014)\",\"The_A-Team_(2010)\",\"Air_Bud_3:_World_Pup_(2001)\",\"The_Wolf_of_Wall_Street_(2013)\",\"The_Expendables_2_(2012)\",\"The_Jungle_Book_(1994)\",\"Black_Panther_(2018)\",\"Pulp_Fiction_(1994)\",\"The_Mummy's_Tomb_(1942)\",\"Dances_with_Wolves_(1990)\",\"Life_of_Pi_(2012)\",\"Harry_Potter_and_the_Sorcerer's_Stone_(2001)\",\"Abbott_and_Costello_Meet_Frankenstein_(1948)\",\"Harry_Potter_and_the_Deathly_Hallows:_Part_2_(2011)\",\"The_Lost_World_(1925)\",\"The_Lone_Ranger_(2013)\",\"Ernest_Scared_Stupid_(1991)\",\"The_Million_Dollar_Duck_(1971)\",\"The_Godfather:_Part_III_(1990)\",\"There_Be_Dragons_(2011)\",\"Raiders_of_the_Lost_Ark_(1981)\",\"This_Island_Earth_(1955)\",\"Son_of_Frankenstein_(1939)\",\"War_for_the_Planet_of_the_Apes_(2017)\",\"To_Kill_a_Mockingbird_(1962)\",\"The_Godfather:_Part_II_(1974)\",\"Walking_with_Dinosaurs_(2013)\",\"Stand_by_Me_(1986)\",\"Unbroken_(2014)\",\"Ace_Ventura:_When_Nature_Calls_(1995)\",\"Lincoln_(2012)\",\"The_Princess_Bride_(1987)\",\"Master_and_Commander:_The_Far_Side_of_the_World_(2003)\"],\"marker\":{\"color\":\"rgb(255,185,15)\"},\"mode\":\"markers\",\"name\":\"Number of women on screen VS. movie revenue\",\"type\":\"scatter\",\"x\":[2198.0,389.0,739.0,782.0,903.0,583.0,2769.0,746.0,368.0,738.0,874.0,550.0,1158.0,453.0,432.0,377.0,672.0,1913.0,1080.0,459.0,1197.0,149.0,751.0,301.0,237.0,803.0,287.0,477.0,548.0,471.0,505.0,1346.0,179.0,638.0,431.0,1692.0,479.0,398.0,250.0,233.0,829.0,537.0,316.0,1181.0,616.0,434.0,219.0,463.0,250.0,549.0,371.0,309.0,342.0,708.0,368.0,435.0,657.0,732.0,633.0,537.0,144.0,338.0,340.0,362.0,16.0,469.0,372.0,300.0,303.0,460.0,144.0,316.0,719.0,408.0,228.0,375.0,197.0,210.0,265.0,683.0,487.0,219.0,472.0,102.0,168.0,220.0,193.0,274.0,586.0,358.0,182.0,217.0,942.0,145.0,363.0,288.0,467.0,240.0,47.0,98.0,341.0,168.0,212.0,123.0,61.0,28.0,373.0,246.0,141.0,306.0,424.0,161.0,86.0,116.0,339.0,558.0,68.0,197.0,216.0,167.0,656.0,254.0,207.0,105.0,121.0,375.0,152.0,107.0,182.0,163.0,153.0,611.0,116.0,94.0,212.0,212.0,54.0,252.0,113.0,286.0,107.0,219.0,65.0,144.0,81.0,138.0,412.0,147.0,133.0,109.0,88.0,50.0,231.0,266.0,3.0,102.0,94.0,111.0,147.0,47.0,16.0],\"xaxis\":\"x2\",\"y\":[415252786,119100758,7011317,0,231411584,100076342,287506194,0,477200000,32000000,14296438,0,180622424,0,467989645,108286421,45465299,0,47088990,0,0,0,7797728,169956806,169801921,348807090,56681566,22852638,137587063,33800000,0,395044706,111476513,0,296482446,134734481,50700000,183611771,1810000,160112671,28883511,71664962,66980456,155545279,35057696,301913131,91549,53000000,783100000,12000000,66002004,629443428,12506188,1214811252,1405403694,226349749,60052138,0,185770160,30000000,3396726,57000000,300257475,284139100,140705322,0,203277636,222724172,657924295,87134280,0,17336370,562363449,107217396,287928194,123276807,0,1300000,206071502,2187463944,190458706,44793222,76196538,340677200,167977596,0,103000000,300218018,48563556,0,786365638,182290266,296655431,746846894,791217826,80383290,72526996,1123794079,32709423,95438172,786636033,302469017,445135288,12000000,0,112483764,497409852,62803180,296339527,0,23237911,54700105,0,362211740,4000000,895921036,13596911,150000000,574480841,44806783,111858363,232225908,0,35841901,215283742,90404800,58401898,43625095,747862775,177238796,0,392000000,314975955,43,1346739107,214179088,0,424208848,609016565,976475550,4812444,1341511219,0,260502115,0,0,136766062,0,389925971,1700000,0,488533726,13129846,102600000,126546518,52287414,163442937,212385533,116471580,30861665,212011111],\"yaxis\":\"y2\"}],                        {\"height\":600,\"legend\":{\"font\":{\"size\":15},\"x\":0.029,\"y\":1.038},\"margin\":{\"b\":70,\"l\":100,\"r\":20,\"t\":70},\"shapes\":[{\"line\":{\"color\":\"black\",\"width\":2},\"type\":\"line\",\"x0\":0.433,\"x1\":0.433,\"xref\":\"paper\",\"y0\":0.89,\"y1\":0.002,\"yref\":\"paper\"}],\"template\":{\"data\":{\"bar\":[{\"error_x\":{\"color\":\"#2a3f5f\"},\"error_y\":{\"color\":\"#2a3f5f\"},\"marker\":{\"line\":{\"color\":\"#E5ECF6\",\"width\":0.5},\"pattern\":{\"fillmode\":\"overlay\",\"size\":10,\"solidity\":0.2}},\"type\":\"bar\"}],\"barpolar\":[{\"marker\":{\"line\":{\"color\":\"#E5ECF6\",\"width\":0.5},\"pattern\":{\"fillmode\":\"overlay\",\"size\":10,\"solidity\":0.2}},\"type\":\"barpolar\"}],\"carpet\":[{\"aaxis\":{\"endlinecolor\":\"#2a3f5f\",\"gridcolor\":\"white\",\"linecolor\":\"white\",\"minorgridcolor\":\"white\",\"startlinecolor\":\"#2a3f5f\"},\"baxis\":{\"endlinecolor\":\"#2a3f5f\",\"gridcolor\":\"white\",\"linecolor\":\"white\",\"minorgridcolor\":\"white\",\"startlinecolor\":\"#2a3f5f\"},\"type\":\"carpet\"}],\"choropleth\":[{\"colorbar\":{\"outlinewidth\":0,\"ticks\":\"\"},\"type\":\"choropleth\"}],\"contour\":[{\"colorbar\":{\"outlinewidth\":0,\"ticks\":\"\"},\"colorscale\":[[0.0,\"#0d0887\"],[0.1111111111111111,\"#46039f\"],[0.2222222222222222,\"#7201a8\"],[0.3333333333333333,\"#9c179e\"],[0.4444444444444444,\"#bd3786\"],[0.5555555555555556,\"#d8576b\"],[0.6666666666666666,\"#ed7953\"],[0.7777777777777778,\"#fb9f3a\"],[0.8888888888888888,\"#fdca26\"],[1.0,\"#f0f921\"]],\"type\":\"contour\"}],\"contourcarpet\":[{\"colorbar\":{\"outlinewidth\":0,\"ticks\":\"\"},\"type\":\"contourcarpet\"}],\"heatmap\":[{\"colorbar\":{\"outlinewidth\":0,\"ticks\":\"\"},\"colorscale\":[[0.0,\"#0d0887\"],[0.1111111111111111,\"#46039f\"],[0.2222222222222222,\"#7201a8\"],[0.3333333333333333,\"#9c179e\"],[0.4444444444444444,\"#bd3786\"],[0.5555555555555556,\"#d8576b\"],[0.6666666666666666,\"#ed7953\"],[0.7777777777777778,\"#fb9f3a\"],[0.8888888888888888,\"#fdca26\"],[1.0,\"#f0f921\"]],\"type\":\"heatmap\"}],\"heatmapgl\":[{\"colorbar\":{\"outlinewidth\":0,\"ticks\":\"\"},\"colorscale\":[[0.0,\"#0d0887\"],[0.1111111111111111,\"#46039f\"],[0.2222222222222222,\"#7201a8\"],[0.3333333333333333,\"#9c179e\"],[0.4444444444444444,\"#bd3786\"],[0.5555555555555556,\"#d8576b\"],[0.6666666666666666,\"#ed7953\"],[0.7777777777777778,\"#fb9f3a\"],[0.8888888888888888,\"#fdca26\"],[1.0,\"#f0f921\"]],\"type\":\"heatmapgl\"}],\"histogram\":[{\"marker\":{\"pattern\":{\"fillmode\":\"overlay\",\"size\":10,\"solidity\":0.2}},\"type\":\"histogram\"}],\"histogram2d\":[{\"colorbar\":{\"outlinewidth\":0,\"ticks\":\"\"},\"colorscale\":[[0.0,\"#0d0887\"],[0.1111111111111111,\"#46039f\"],[0.2222222222222222,\"#7201a8\"],[0.3333333333333333,\"#9c179e\"],[0.4444444444444444,\"#bd3786\"],[0.5555555555555556,\"#d8576b\"],[0.6666666666666666,\"#ed7953\"],[0.7777777777777778,\"#fb9f3a\"],[0.8888888888888888,\"#fdca26\"],[1.0,\"#f0f921\"]],\"type\":\"histogram2d\"}],\"histogram2dcontour\":[{\"colorbar\":{\"outlinewidth\":0,\"ticks\":\"\"},\"colorscale\":[[0.0,\"#0d0887\"],[0.1111111111111111,\"#46039f\"],[0.2222222222222222,\"#7201a8\"],[0.3333333333333333,\"#9c179e\"],[0.4444444444444444,\"#bd3786\"],[0.5555555555555556,\"#d8576b\"],[0.6666666666666666,\"#ed7953\"],[0.7777777777777778,\"#fb9f3a\"],[0.8888888888888888,\"#fdca26\"],[1.0,\"#f0f921\"]],\"type\":\"histogram2dcontour\"}],\"mesh3d\":[{\"colorbar\":{\"outlinewidth\":0,\"ticks\":\"\"},\"type\":\"mesh3d\"}],\"parcoords\":[{\"line\":{\"colorbar\":{\"outlinewidth\":0,\"ticks\":\"\"}},\"type\":\"parcoords\"}],\"pie\":[{\"automargin\":true,\"type\":\"pie\"}],\"scatter\":[{\"marker\":{\"colorbar\":{\"outlinewidth\":0,\"ticks\":\"\"}},\"type\":\"scatter\"}],\"scatter3d\":[{\"line\":{\"colorbar\":{\"outlinewidth\":0,\"ticks\":\"\"}},\"marker\":{\"colorbar\":{\"outlinewidth\":0,\"ticks\":\"\"}},\"type\":\"scatter3d\"}],\"scattercarpet\":[{\"marker\":{\"colorbar\":{\"outlinewidth\":0,\"ticks\":\"\"}},\"type\":\"scattercarpet\"}],\"scattergeo\":[{\"marker\":{\"colorbar\":{\"outlinewidth\":0,\"ticks\":\"\"}},\"type\":\"scattergeo\"}],\"scattergl\":[{\"marker\":{\"colorbar\":{\"outlinewidth\":0,\"ticks\":\"\"}},\"type\":\"scattergl\"}],\"scattermapbox\":[{\"marker\":{\"colorbar\":{\"outlinewidth\":0,\"ticks\":\"\"}},\"type\":\"scattermapbox\"}],\"scatterpolar\":[{\"marker\":{\"colorbar\":{\"outlinewidth\":0,\"ticks\":\"\"}},\"type\":\"scatterpolar\"}],\"scatterpolargl\":[{\"marker\":{\"colorbar\":{\"outlinewidth\":0,\"ticks\":\"\"}},\"type\":\"scatterpolargl\"}],\"scatterternary\":[{\"marker\":{\"colorbar\":{\"outlinewidth\":0,\"ticks\":\"\"}},\"type\":\"scatterternary\"}],\"surface\":[{\"colorbar\":{\"outlinewidth\":0,\"ticks\":\"\"},\"colorscale\":[[0.0,\"#0d0887\"],[0.1111111111111111,\"#46039f\"],[0.2222222222222222,\"#7201a8\"],[0.3333333333333333,\"#9c179e\"],[0.4444444444444444,\"#bd3786\"],[0.5555555555555556,\"#d8576b\"],[0.6666666666666666,\"#ed7953\"],[0.7777777777777778,\"#fb9f3a\"],[0.8888888888888888,\"#fdca26\"],[1.0,\"#f0f921\"]],\"type\":\"surface\"}],\"table\":[{\"cells\":{\"fill\":{\"color\":\"#EBF0F8\"},\"line\":{\"color\":\"white\"}},\"header\":{\"fill\":{\"color\":\"#C8D4E3\"},\"line\":{\"color\":\"white\"}},\"type\":\"table\"}]},\"layout\":{\"annotationdefaults\":{\"arrowcolor\":\"#2a3f5f\",\"arrowhead\":0,\"arrowwidth\":1},\"autotypenumbers\":\"strict\",\"coloraxis\":{\"colorbar\":{\"outlinewidth\":0,\"ticks\":\"\"}},\"colorscale\":{\"diverging\":[[0,\"#8e0152\"],[0.1,\"#c51b7d\"],[0.2,\"#de77ae\"],[0.3,\"#f1b6da\"],[0.4,\"#fde0ef\"],[0.5,\"#f7f7f7\"],[0.6,\"#e6f5d0\"],[0.7,\"#b8e186\"],[0.8,\"#7fbc41\"],[0.9,\"#4d9221\"],[1,\"#276419\"]],\"sequential\":[[0.0,\"#0d0887\"],[0.1111111111111111,\"#46039f\"],[0.2222222222222222,\"#7201a8\"],[0.3333333333333333,\"#9c179e\"],[0.4444444444444444,\"#bd3786\"],[0.5555555555555556,\"#d8576b\"],[0.6666666666666666,\"#ed7953\"],[0.7777777777777778,\"#fb9f3a\"],[0.8888888888888888,\"#fdca26\"],[1.0,\"#f0f921\"]],\"sequentialminus\":[[0.0,\"#0d0887\"],[0.1111111111111111,\"#46039f\"],[0.2222222222222222,\"#7201a8\"],[0.3333333333333333,\"#9c179e\"],[0.4444444444444444,\"#bd3786\"],[0.5555555555555556,\"#d8576b\"],[0.6666666666666666,\"#ed7953\"],[0.7777777777777778,\"#fb9f3a\"],[0.8888888888888888,\"#fdca26\"],[1.0,\"#f0f921\"]]},\"colorway\":[\"#636efa\",\"#EF553B\",\"#00cc96\",\"#ab63fa\",\"#FFA15A\",\"#19d3f3\",\"#FF6692\",\"#B6E880\",\"#FF97FF\",\"#FECB52\"],\"font\":{\"color\":\"#2a3f5f\"},\"geo\":{\"bgcolor\":\"white\",\"lakecolor\":\"white\",\"landcolor\":\"#E5ECF6\",\"showlakes\":true,\"showland\":true,\"subunitcolor\":\"white\"},\"hoverlabel\":{\"align\":\"left\"},\"hovermode\":\"closest\",\"mapbox\":{\"style\":\"light\"},\"paper_bgcolor\":\"white\",\"plot_bgcolor\":\"#E5ECF6\",\"polar\":{\"angularaxis\":{\"gridcolor\":\"white\",\"linecolor\":\"white\",\"ticks\":\"\"},\"bgcolor\":\"#E5ECF6\",\"radialaxis\":{\"gridcolor\":\"white\",\"linecolor\":\"white\",\"ticks\":\"\"}},\"scene\":{\"xaxis\":{\"backgroundcolor\":\"#E5ECF6\",\"gridcolor\":\"white\",\"gridwidth\":2,\"linecolor\":\"white\",\"showbackground\":true,\"ticks\":\"\",\"zerolinecolor\":\"white\"},\"yaxis\":{\"backgroundcolor\":\"#E5ECF6\",\"gridcolor\":\"white\",\"gridwidth\":2,\"linecolor\":\"white\",\"showbackground\":true,\"ticks\":\"\",\"zerolinecolor\":\"white\"},\"zaxis\":{\"backgroundcolor\":\"#E5ECF6\",\"gridcolor\":\"white\",\"gridwidth\":2,\"linecolor\":\"white\",\"showbackground\":true,\"ticks\":\"\",\"zerolinecolor\":\"white\"}},\"shapedefaults\":{\"line\":{\"color\":\"#2a3f5f\"}},\"ternary\":{\"aaxis\":{\"gridcolor\":\"white\",\"linecolor\":\"white\",\"ticks\":\"\"},\"baxis\":{\"gridcolor\":\"white\",\"linecolor\":\"white\",\"ticks\":\"\"},\"bgcolor\":\"#E5ECF6\",\"caxis\":{\"gridcolor\":\"white\",\"linecolor\":\"white\",\"ticks\":\"\"}},\"title\":{\"x\":0.05},\"xaxis\":{\"automargin\":true,\"gridcolor\":\"white\",\"linecolor\":\"white\",\"ticks\":\"\",\"title\":{\"standoff\":15},\"zerolinecolor\":\"white\",\"zerolinewidth\":2},\"yaxis\":{\"automargin\":true,\"gridcolor\":\"white\",\"linecolor\":\"white\",\"ticks\":\"\",\"title\":{\"standoff\":15},\"zerolinecolor\":\"white\",\"zerolinewidth\":2}}},\"title\":{\"text\":\"Women screentime and movie revenue\"},\"width\":1500,\"xaxis\":{\"anchor\":\"y\",\"domain\":[0,0.42],\"showgrid\":true,\"showline\":true,\"showticklabels\":true,\"zeroline\":false},\"xaxis2\":{\"anchor\":\"y2\",\"domain\":[0.47,1],\"showgrid\":true,\"showline\":true,\"showticklabels\":true,\"zeroline\":false},\"yaxis\":{\"anchor\":\"x\",\"domain\":[0,0.85],\"showgrid\":false,\"showline\":false,\"showticklabels\":true},\"yaxis2\":{\"anchor\":\"x2\",\"domain\":[0,0.85],\"showgrid\":false,\"showline\":true,\"showticklabels\":true}},                        {\"responsive\": true}                    ).then(function(){\n",
       "                            \n",
       "var gd = document.getElementById('346fd28a-39ab-4d5b-868d-f3c7c668fa66');\n",
       "var x = new MutationObserver(function (mutations, observer) {{\n",
       "        var display = window.getComputedStyle(gd).display;\n",
       "        if (!display || display === 'none') {{\n",
       "            console.log([gd, 'removed!']);\n",
       "            Plotly.purge(gd);\n",
       "            observer.disconnect();\n",
       "        }}\n",
       "}});\n",
       "\n",
       "// Listen for the removal of the full notebook cells\n",
       "var notebookContainer = gd.closest('#notebook-container');\n",
       "if (notebookContainer) {{\n",
       "    x.observe(notebookContainer, {childList: true});\n",
       "}}\n",
       "\n",
       "// Listen for the clearing of the current output cell\n",
       "var outputEl = gd.closest('.output');\n",
       "if (outputEl) {{\n",
       "    x.observe(outputEl, {childList: true});\n",
       "}}\n",
       "\n",
       "                        })                };                });            </script>        </div>"
      ]
     },
     "metadata": {},
     "output_type": "display_data"
    }
   ],
   "source": [
    "import plotly.graph_objects as go\n",
    "from plotly.subplots import make_subplots\n",
    "import numpy as np\n",
    "\n",
    "def overall_gender_dash(total_stats_df):\n",
    "\n",
    "    df_all.sort_values(by=\"woman_screentime\",ascending=False, inplace=True)\n",
    "\n",
    "    y_saving = df_all[\"woman_screentime\"].values\n",
    "\n",
    "    x2 = df_all[\"revenue\"].values\n",
    "\n",
    "    x1 = df_all[\"title\"].values\n",
    "    y_net_worth = df_all[\"total_Woman\"].values\n",
    "\n",
    "\n",
    "    # Creating two subplots\n",
    "    fig = make_subplots(rows=1, cols=2, specs=[[{}, {}]], shared_xaxes=True,\n",
    "                        shared_yaxes=False, vertical_spacing=0.02, horizontal_spacing = 0.1)\n",
    "\n",
    "    fig.append_trace(go.Bar(\n",
    "        x=y_saving,\n",
    "        y=x1,\n",
    "        marker=dict(\n",
    "            color='rgb(24,116,205)',\n",
    "            line=dict(\n",
    "                color='rgb(0,191,255)',\n",
    "                width=1),\n",
    "        ),\n",
    "        name='Screentime percentage of woman per movie',\n",
    "        orientation='h',\n",
    "    ), 1, 1)\n",
    "\n",
    "\n",
    "\n",
    "    fig.append_trace(go.Scatter(\n",
    "        x=y_net_worth, y=x2, mode='markers',hovertext=df_all[\"title\"], marker=dict(\n",
    "            color='rgb(255,185,15)'),\n",
    "        name='Number of women on screen VS. movie revenue',\n",
    "    ), 1, 2)\n",
    "\n",
    "    fig.update_layout( \n",
    "        title='Women screentime and movie revenue',\n",
    "\n",
    "        yaxis=dict(\n",
    "            showgrid=False,\n",
    "            showline=False,\n",
    "            showticklabels=True,\n",
    "            domain=[0, 0.85]\n",
    "        ),\n",
    "        yaxis2=dict(\n",
    "            showgrid=False,\n",
    "            showline=True,\n",
    "            showticklabels=True,\n",
    "            domain=[0, 0.85]\n",
    "        ),\n",
    "        xaxis=dict(\n",
    "            zeroline=False,\n",
    "            showline=True,\n",
    "            showticklabels=True,\n",
    "            showgrid=True,\n",
    "            domain=[0, 0.42]\n",
    "        ),\n",
    "        xaxis2=dict(\n",
    "            zeroline=False,\n",
    "            showline=True,\n",
    "            showticklabels=True,\n",
    "            showgrid=True,\n",
    "            domain=[0.47, 1]\n",
    "        ),\n",
    "\n",
    "        height=600,\n",
    "        width=1500, \n",
    "        legend=dict(x=0.029, y=1.038, font_size=15),\n",
    "        margin=dict(l=100, r=20, t=70, b=70),\n",
    "    )\n",
    "    \n",
    "    fig.update_layout(\n",
    "    shapes=[dict(type=\"line\",\n",
    "                 xref='paper',\n",
    "                 yref='paper',\n",
    "                 x0=0.433,\n",
    "                 y0=0.89,\n",
    "                 x1=0.433,\n",
    "                 y1=0.002,\n",
    "                 line=dict(color=\"black\",\n",
    "                           width=2),\n",
    "                 ),\n",
    "            ],\n",
    ")\n",
    "\n",
    "    return fig\n",
    "\n",
    "overall_gender_dash(df)"
   ]
  },
  {
   "cell_type": "markdown",
   "id": "15e3282a",
   "metadata": {},
   "source": [
    "## Race Overview"
   ]
  },
  {
   "cell_type": "code",
   "execution_count": 792,
   "id": "c88515f4",
   "metadata": {},
   "outputs": [
    {
     "data": {
      "text/html": [
       "<div>\n",
       "<style scoped>\n",
       "    .dataframe tbody tr th:only-of-type {\n",
       "        vertical-align: middle;\n",
       "    }\n",
       "\n",
       "    .dataframe tbody tr th {\n",
       "        vertical-align: top;\n",
       "    }\n",
       "\n",
       "    .dataframe thead th {\n",
       "        text-align: right;\n",
       "    }\n",
       "</style>\n",
       "<table border=\"1\" class=\"dataframe\">\n",
       "  <thead>\n",
       "    <tr style=\"text-align: right;\">\n",
       "      <th></th>\n",
       "      <th>index</th>\n",
       "      <th>man_screentime</th>\n",
       "      <th>woman_screentime</th>\n",
       "      <th>only_men</th>\n",
       "      <th>only_women</th>\n",
       "      <th>asian_screentime</th>\n",
       "      <th>black_screentime</th>\n",
       "      <th>indian_screentime</th>\n",
       "      <th>latino_hispanic_screentime</th>\n",
       "      <th>middle_eastern_screentime</th>\n",
       "      <th>...</th>\n",
       "      <th>total_asian</th>\n",
       "      <th>total_black</th>\n",
       "      <th>total_indian</th>\n",
       "      <th>total_latino_hispanic</th>\n",
       "      <th>total_middle_eastern</th>\n",
       "      <th>total_white</th>\n",
       "      <th>title</th>\n",
       "      <th>year</th>\n",
       "      <th>revenue</th>\n",
       "      <th>runtime</th>\n",
       "    </tr>\n",
       "  </thead>\n",
       "  <tbody>\n",
       "    <tr>\n",
       "      <th>0</th>\n",
       "      <td>0</td>\n",
       "      <td>94.101509</td>\n",
       "      <td>5.898491</td>\n",
       "      <td>91.476710</td>\n",
       "      <td>5.946482</td>\n",
       "      <td>4.183813</td>\n",
       "      <td>0.411523</td>\n",
       "      <td>2.057613</td>\n",
       "      <td>2.263374</td>\n",
       "      <td>4.595336</td>\n",
       "      <td>...</td>\n",
       "      <td>61.0</td>\n",
       "      <td>6.0</td>\n",
       "      <td>30.0</td>\n",
       "      <td>33.0</td>\n",
       "      <td>67.0</td>\n",
       "      <td>1261.0</td>\n",
       "      <td>The_Hunchback_of_Notre_Dame_(1923)</td>\n",
       "      <td>1923-01-01</td>\n",
       "      <td>0</td>\n",
       "      <td>113</td>\n",
       "    </tr>\n",
       "    <tr>\n",
       "      <th>1</th>\n",
       "      <td>0</td>\n",
       "      <td>96.304719</td>\n",
       "      <td>3.695281</td>\n",
       "      <td>90.707965</td>\n",
       "      <td>6.342183</td>\n",
       "      <td>2.103468</td>\n",
       "      <td>7.220011</td>\n",
       "      <td>2.615122</td>\n",
       "      <td>4.206936</td>\n",
       "      <td>2.728823</td>\n",
       "      <td>...</td>\n",
       "      <td>37.0</td>\n",
       "      <td>127.0</td>\n",
       "      <td>46.0</td>\n",
       "      <td>74.0</td>\n",
       "      <td>48.0</td>\n",
       "      <td>1427.0</td>\n",
       "      <td>The_Lost_World_(1925)</td>\n",
       "      <td>1925-01-01</td>\n",
       "      <td>0</td>\n",
       "      <td>93</td>\n",
       "    </tr>\n",
       "    <tr>\n",
       "      <th>2</th>\n",
       "      <td>0</td>\n",
       "      <td>90.578735</td>\n",
       "      <td>9.421265</td>\n",
       "      <td>87.899942</td>\n",
       "      <td>8.260617</td>\n",
       "      <td>2.781516</td>\n",
       "      <td>2.198295</td>\n",
       "      <td>3.095559</td>\n",
       "      <td>4.665769</td>\n",
       "      <td>5.204127</td>\n",
       "      <td>...</td>\n",
       "      <td>62.0</td>\n",
       "      <td>49.0</td>\n",
       "      <td>69.0</td>\n",
       "      <td>104.0</td>\n",
       "      <td>116.0</td>\n",
       "      <td>1829.0</td>\n",
       "      <td>Dr._Jekyll_and_Mr._Hyde_(1931)</td>\n",
       "      <td>1931-01-01</td>\n",
       "      <td>1300000</td>\n",
       "      <td>98</td>\n",
       "    </tr>\n",
       "    <tr>\n",
       "      <th>3</th>\n",
       "      <td>0</td>\n",
       "      <td>93.626943</td>\n",
       "      <td>6.373057</td>\n",
       "      <td>90.096618</td>\n",
       "      <td>6.843800</td>\n",
       "      <td>3.056995</td>\n",
       "      <td>1.036269</td>\n",
       "      <td>2.020725</td>\n",
       "      <td>4.455959</td>\n",
       "      <td>8.290155</td>\n",
       "      <td>...</td>\n",
       "      <td>59.0</td>\n",
       "      <td>20.0</td>\n",
       "      <td>39.0</td>\n",
       "      <td>86.0</td>\n",
       "      <td>160.0</td>\n",
       "      <td>1566.0</td>\n",
       "      <td>Frankenstein_(1931)</td>\n",
       "      <td>1931-01-01</td>\n",
       "      <td>12000000</td>\n",
       "      <td>71</td>\n",
       "    </tr>\n",
       "    <tr>\n",
       "      <th>4</th>\n",
       "      <td>0</td>\n",
       "      <td>82.366864</td>\n",
       "      <td>17.633136</td>\n",
       "      <td>79.891304</td>\n",
       "      <td>13.179348</td>\n",
       "      <td>1.775148</td>\n",
       "      <td>2.366864</td>\n",
       "      <td>2.958580</td>\n",
       "      <td>5.325444</td>\n",
       "      <td>1.183432</td>\n",
       "      <td>...</td>\n",
       "      <td>15.0</td>\n",
       "      <td>20.0</td>\n",
       "      <td>25.0</td>\n",
       "      <td>45.0</td>\n",
       "      <td>10.0</td>\n",
       "      <td>730.0</td>\n",
       "      <td>White_Zombie_(1932)</td>\n",
       "      <td>1932-01-01</td>\n",
       "      <td>0</td>\n",
       "      <td>67</td>\n",
       "    </tr>\n",
       "    <tr>\n",
       "      <th>...</th>\n",
       "      <td>...</td>\n",
       "      <td>...</td>\n",
       "      <td>...</td>\n",
       "      <td>...</td>\n",
       "      <td>...</td>\n",
       "      <td>...</td>\n",
       "      <td>...</td>\n",
       "      <td>...</td>\n",
       "      <td>...</td>\n",
       "      <td>...</td>\n",
       "      <td>...</td>\n",
       "      <td>...</td>\n",
       "      <td>...</td>\n",
       "      <td>...</td>\n",
       "      <td>...</td>\n",
       "      <td>...</td>\n",
       "      <td>...</td>\n",
       "      <td>...</td>\n",
       "      <td>...</td>\n",
       "      <td>...</td>\n",
       "      <td>...</td>\n",
       "    </tr>\n",
       "    <tr>\n",
       "      <th>156</th>\n",
       "      <td>0</td>\n",
       "      <td>84.794397</td>\n",
       "      <td>15.205603</td>\n",
       "      <td>66.019726</td>\n",
       "      <td>16.958320</td>\n",
       "      <td>5.772707</td>\n",
       "      <td>3.886127</td>\n",
       "      <td>3.648893</td>\n",
       "      <td>8.269318</td>\n",
       "      <td>5.377316</td>\n",
       "      <td>...</td>\n",
       "      <td>511.0</td>\n",
       "      <td>344.0</td>\n",
       "      <td>323.0</td>\n",
       "      <td>732.0</td>\n",
       "      <td>476.0</td>\n",
       "      <td>6466.0</td>\n",
       "      <td>Mamma_Mia!_Here_We_Go_Again_(2018)</td>\n",
       "      <td>2018-01-01</td>\n",
       "      <td>395044706</td>\n",
       "      <td>113</td>\n",
       "    </tr>\n",
       "    <tr>\n",
       "      <th>157</th>\n",
       "      <td>0</td>\n",
       "      <td>83.738356</td>\n",
       "      <td>16.261644</td>\n",
       "      <td>74.544818</td>\n",
       "      <td>12.745098</td>\n",
       "      <td>6.156339</td>\n",
       "      <td>2.187120</td>\n",
       "      <td>1.964358</td>\n",
       "      <td>5.629810</td>\n",
       "      <td>2.531389</td>\n",
       "      <td>...</td>\n",
       "      <td>304.0</td>\n",
       "      <td>108.0</td>\n",
       "      <td>97.0</td>\n",
       "      <td>278.0</td>\n",
       "      <td>125.0</td>\n",
       "      <td>4026.0</td>\n",
       "      <td>Mary_Poppins_Returns_(2018)</td>\n",
       "      <td>2018-01-01</td>\n",
       "      <td>348807090</td>\n",
       "      <td>131</td>\n",
       "    </tr>\n",
       "    <tr>\n",
       "      <th>158</th>\n",
       "      <td>0</td>\n",
       "      <td>80.009255</td>\n",
       "      <td>19.990745</td>\n",
       "      <td>72.528202</td>\n",
       "      <td>21.101526</td>\n",
       "      <td>18.695049</td>\n",
       "      <td>4.488663</td>\n",
       "      <td>2.591393</td>\n",
       "      <td>15.085609</td>\n",
       "      <td>3.146691</td>\n",
       "      <td>...</td>\n",
       "      <td>404.0</td>\n",
       "      <td>97.0</td>\n",
       "      <td>56.0</td>\n",
       "      <td>326.0</td>\n",
       "      <td>68.0</td>\n",
       "      <td>1210.0</td>\n",
       "      <td>Bumblebee_(2018)</td>\n",
       "      <td>2018-01-01</td>\n",
       "      <td>467989645</td>\n",
       "      <td>114</td>\n",
       "    </tr>\n",
       "    <tr>\n",
       "      <th>159</th>\n",
       "      <td>0</td>\n",
       "      <td>95.707633</td>\n",
       "      <td>4.292367</td>\n",
       "      <td>93.356401</td>\n",
       "      <td>2.076125</td>\n",
       "      <td>7.410407</td>\n",
       "      <td>59.769184</td>\n",
       "      <td>3.158534</td>\n",
       "      <td>4.656813</td>\n",
       "      <td>1.801984</td>\n",
       "      <td>...</td>\n",
       "      <td>366.0</td>\n",
       "      <td>2952.0</td>\n",
       "      <td>156.0</td>\n",
       "      <td>230.0</td>\n",
       "      <td>89.0</td>\n",
       "      <td>1146.0</td>\n",
       "      <td>Black_Panther_(2018)</td>\n",
       "      <td>2018-01-01</td>\n",
       "      <td>1346739107</td>\n",
       "      <td>134</td>\n",
       "    </tr>\n",
       "    <tr>\n",
       "      <th>160</th>\n",
       "      <td>0</td>\n",
       "      <td>93.146853</td>\n",
       "      <td>6.853147</td>\n",
       "      <td>91.218638</td>\n",
       "      <td>5.824373</td>\n",
       "      <td>13.636364</td>\n",
       "      <td>1.958042</td>\n",
       "      <td>3.986014</td>\n",
       "      <td>18.881119</td>\n",
       "      <td>1.398601</td>\n",
       "      <td>...</td>\n",
       "      <td>195.0</td>\n",
       "      <td>28.0</td>\n",
       "      <td>57.0</td>\n",
       "      <td>270.0</td>\n",
       "      <td>20.0</td>\n",
       "      <td>860.0</td>\n",
       "      <td>Scary_Stories_to_Tell_in_the_Dark_(2019)</td>\n",
       "      <td>2019-01-01</td>\n",
       "      <td>95438172</td>\n",
       "      <td>108</td>\n",
       "    </tr>\n",
       "  </tbody>\n",
       "</table>\n",
       "<p>161 rows × 32 columns</p>\n",
       "</div>"
      ],
      "text/plain": [
       "     index  man_screentime  woman_screentime   only_men  only_women  \\\n",
       "0        0       94.101509          5.898491  91.476710    5.946482   \n",
       "1        0       96.304719          3.695281  90.707965    6.342183   \n",
       "2        0       90.578735          9.421265  87.899942    8.260617   \n",
       "3        0       93.626943          6.373057  90.096618    6.843800   \n",
       "4        0       82.366864         17.633136  79.891304   13.179348   \n",
       "..     ...             ...               ...        ...         ...   \n",
       "156      0       84.794397         15.205603  66.019726   16.958320   \n",
       "157      0       83.738356         16.261644  74.544818   12.745098   \n",
       "158      0       80.009255         19.990745  72.528202   21.101526   \n",
       "159      0       95.707633          4.292367  93.356401    2.076125   \n",
       "160      0       93.146853          6.853147  91.218638    5.824373   \n",
       "\n",
       "     asian_screentime  black_screentime  indian_screentime  \\\n",
       "0            4.183813          0.411523           2.057613   \n",
       "1            2.103468          7.220011           2.615122   \n",
       "2            2.781516          2.198295           3.095559   \n",
       "3            3.056995          1.036269           2.020725   \n",
       "4            1.775148          2.366864           2.958580   \n",
       "..                ...               ...                ...   \n",
       "156          5.772707          3.886127           3.648893   \n",
       "157          6.156339          2.187120           1.964358   \n",
       "158         18.695049          4.488663           2.591393   \n",
       "159          7.410407         59.769184           3.158534   \n",
       "160         13.636364          1.958042           3.986014   \n",
       "\n",
       "     latino_hispanic_screentime  middle_eastern_screentime  ...  total_asian  \\\n",
       "0                      2.263374                   4.595336  ...         61.0   \n",
       "1                      4.206936                   2.728823  ...         37.0   \n",
       "2                      4.665769                   5.204127  ...         62.0   \n",
       "3                      4.455959                   8.290155  ...         59.0   \n",
       "4                      5.325444                   1.183432  ...         15.0   \n",
       "..                          ...                        ...  ...          ...   \n",
       "156                    8.269318                   5.377316  ...        511.0   \n",
       "157                    5.629810                   2.531389  ...        304.0   \n",
       "158                   15.085609                   3.146691  ...        404.0   \n",
       "159                    4.656813                   1.801984  ...        366.0   \n",
       "160                   18.881119                   1.398601  ...        195.0   \n",
       "\n",
       "     total_black  total_indian  total_latino_hispanic  total_middle_eastern  \\\n",
       "0            6.0          30.0                   33.0                  67.0   \n",
       "1          127.0          46.0                   74.0                  48.0   \n",
       "2           49.0          69.0                  104.0                 116.0   \n",
       "3           20.0          39.0                   86.0                 160.0   \n",
       "4           20.0          25.0                   45.0                  10.0   \n",
       "..           ...           ...                    ...                   ...   \n",
       "156        344.0         323.0                  732.0                 476.0   \n",
       "157        108.0          97.0                  278.0                 125.0   \n",
       "158         97.0          56.0                  326.0                  68.0   \n",
       "159       2952.0         156.0                  230.0                  89.0   \n",
       "160         28.0          57.0                  270.0                  20.0   \n",
       "\n",
       "     total_white                                     title       year  \\\n",
       "0         1261.0        The_Hunchback_of_Notre_Dame_(1923) 1923-01-01   \n",
       "1         1427.0                     The_Lost_World_(1925) 1925-01-01   \n",
       "2         1829.0            Dr._Jekyll_and_Mr._Hyde_(1931) 1931-01-01   \n",
       "3         1566.0                       Frankenstein_(1931) 1931-01-01   \n",
       "4          730.0                       White_Zombie_(1932) 1932-01-01   \n",
       "..           ...                                       ...        ...   \n",
       "156       6466.0        Mamma_Mia!_Here_We_Go_Again_(2018) 2018-01-01   \n",
       "157       4026.0               Mary_Poppins_Returns_(2018) 2018-01-01   \n",
       "158       1210.0                          Bumblebee_(2018) 2018-01-01   \n",
       "159       1146.0                      Black_Panther_(2018) 2018-01-01   \n",
       "160        860.0  Scary_Stories_to_Tell_in_the_Dark_(2019) 2019-01-01   \n",
       "\n",
       "        revenue  runtime  \n",
       "0             0      113  \n",
       "1             0       93  \n",
       "2       1300000       98  \n",
       "3      12000000       71  \n",
       "4             0       67  \n",
       "..          ...      ...  \n",
       "156   395044706      113  \n",
       "157   348807090      131  \n",
       "158   467989645      114  \n",
       "159  1346739107      134  \n",
       "160    95438172      108  \n",
       "\n",
       "[161 rows x 32 columns]"
      ]
     },
     "execution_count": 792,
     "metadata": {},
     "output_type": "execute_result"
    }
   ],
   "source": [
    "df_evo"
   ]
  },
  {
   "cell_type": "code",
   "execution_count": null,
   "id": "945de3ea",
   "metadata": {},
   "outputs": [],
   "source": [
    "plot_race_timeline(df_evo,plot_type=\"bar\",step=10)"
   ]
  },
  {
   "cell_type": "code",
   "execution_count": 806,
   "id": "ee54d9e3",
   "metadata": {},
   "outputs": [
    {
     "data": {
      "text/plain": [
       "Index(['index', 'man_screentime', 'woman_screentime', 'only_men', 'only_women',\n",
       "       'asian_screentime', 'black_screentime', 'indian_screentime',\n",
       "       'latino_hispanic_screentime', 'middle_eastern_screentime',\n",
       "       'white_screentime', 'women_of_color', 'total_frames', 'total_seconds',\n",
       "       'total_faces', 'total_men', 'total_women', 'total_women_of_color',\n",
       "       'only_men_count', 'only_women_count', 'total_Man', 'total_Woman',\n",
       "       'total_asian', 'total_black', 'total_indian', 'total_latino_hispanic',\n",
       "       'total_middle_eastern', 'total_white', 'title', 'year', 'revenue',\n",
       "       'runtime'],\n",
       "      dtype='object')"
      ]
     },
     "execution_count": 806,
     "metadata": {},
     "output_type": "execute_result"
    }
   ],
   "source": [
    "df_evo.columns"
   ]
  },
  {
   "cell_type": "code",
   "execution_count": 809,
   "id": "c8f5caab",
   "metadata": {},
   "outputs": [],
   "source": [
    "df_evo[\"non_white_count\"] = df_evo[['total_asian', 'total_black', 'total_indian', 'total_latino_hispanic',\n",
    "       'total_middle_eastern']].sum(axis=1)"
   ]
  },
  {
   "cell_type": "code",
   "execution_count": 813,
   "id": "3f90a343",
   "metadata": {},
   "outputs": [],
   "source": [
    "df_evo[\"non_white_count_percent\"] = df_evo[\"non_white_count\"] / df_evo[\"total_white\"]"
   ]
  },
  {
   "cell_type": "code",
   "execution_count": 810,
   "id": "31ef3d0a",
   "metadata": {},
   "outputs": [
    {
     "data": {
      "text/html": [
       "<div>\n",
       "<style scoped>\n",
       "    .dataframe tbody tr th:only-of-type {\n",
       "        vertical-align: middle;\n",
       "    }\n",
       "\n",
       "    .dataframe tbody tr th {\n",
       "        vertical-align: top;\n",
       "    }\n",
       "\n",
       "    .dataframe thead th {\n",
       "        text-align: right;\n",
       "    }\n",
       "</style>\n",
       "<table border=\"1\" class=\"dataframe\">\n",
       "  <thead>\n",
       "    <tr style=\"text-align: right;\">\n",
       "      <th></th>\n",
       "      <th>index</th>\n",
       "      <th>man_screentime</th>\n",
       "      <th>woman_screentime</th>\n",
       "      <th>only_men</th>\n",
       "      <th>only_women</th>\n",
       "      <th>asian_screentime</th>\n",
       "      <th>black_screentime</th>\n",
       "      <th>indian_screentime</th>\n",
       "      <th>latino_hispanic_screentime</th>\n",
       "      <th>middle_eastern_screentime</th>\n",
       "      <th>...</th>\n",
       "      <th>total_black</th>\n",
       "      <th>total_indian</th>\n",
       "      <th>total_latino_hispanic</th>\n",
       "      <th>total_middle_eastern</th>\n",
       "      <th>total_white</th>\n",
       "      <th>title</th>\n",
       "      <th>year</th>\n",
       "      <th>revenue</th>\n",
       "      <th>runtime</th>\n",
       "      <th>non_white_count</th>\n",
       "    </tr>\n",
       "  </thead>\n",
       "  <tbody>\n",
       "    <tr>\n",
       "      <th>0</th>\n",
       "      <td>0</td>\n",
       "      <td>94.101509</td>\n",
       "      <td>5.898491</td>\n",
       "      <td>91.476710</td>\n",
       "      <td>5.946482</td>\n",
       "      <td>4.183813</td>\n",
       "      <td>0.411523</td>\n",
       "      <td>2.057613</td>\n",
       "      <td>2.263374</td>\n",
       "      <td>4.595336</td>\n",
       "      <td>...</td>\n",
       "      <td>6.0</td>\n",
       "      <td>30.0</td>\n",
       "      <td>33.0</td>\n",
       "      <td>67.0</td>\n",
       "      <td>1261.0</td>\n",
       "      <td>The_Hunchback_of_Notre_Dame_(1923)</td>\n",
       "      <td>1923-01-01</td>\n",
       "      <td>0</td>\n",
       "      <td>113</td>\n",
       "      <td>197.0</td>\n",
       "    </tr>\n",
       "    <tr>\n",
       "      <th>1</th>\n",
       "      <td>0</td>\n",
       "      <td>96.304719</td>\n",
       "      <td>3.695281</td>\n",
       "      <td>90.707965</td>\n",
       "      <td>6.342183</td>\n",
       "      <td>2.103468</td>\n",
       "      <td>7.220011</td>\n",
       "      <td>2.615122</td>\n",
       "      <td>4.206936</td>\n",
       "      <td>2.728823</td>\n",
       "      <td>...</td>\n",
       "      <td>127.0</td>\n",
       "      <td>46.0</td>\n",
       "      <td>74.0</td>\n",
       "      <td>48.0</td>\n",
       "      <td>1427.0</td>\n",
       "      <td>The_Lost_World_(1925)</td>\n",
       "      <td>1925-01-01</td>\n",
       "      <td>0</td>\n",
       "      <td>93</td>\n",
       "      <td>332.0</td>\n",
       "    </tr>\n",
       "    <tr>\n",
       "      <th>2</th>\n",
       "      <td>0</td>\n",
       "      <td>90.578735</td>\n",
       "      <td>9.421265</td>\n",
       "      <td>87.899942</td>\n",
       "      <td>8.260617</td>\n",
       "      <td>2.781516</td>\n",
       "      <td>2.198295</td>\n",
       "      <td>3.095559</td>\n",
       "      <td>4.665769</td>\n",
       "      <td>5.204127</td>\n",
       "      <td>...</td>\n",
       "      <td>49.0</td>\n",
       "      <td>69.0</td>\n",
       "      <td>104.0</td>\n",
       "      <td>116.0</td>\n",
       "      <td>1829.0</td>\n",
       "      <td>Dr._Jekyll_and_Mr._Hyde_(1931)</td>\n",
       "      <td>1931-01-01</td>\n",
       "      <td>1300000</td>\n",
       "      <td>98</td>\n",
       "      <td>400.0</td>\n",
       "    </tr>\n",
       "    <tr>\n",
       "      <th>3</th>\n",
       "      <td>0</td>\n",
       "      <td>93.626943</td>\n",
       "      <td>6.373057</td>\n",
       "      <td>90.096618</td>\n",
       "      <td>6.843800</td>\n",
       "      <td>3.056995</td>\n",
       "      <td>1.036269</td>\n",
       "      <td>2.020725</td>\n",
       "      <td>4.455959</td>\n",
       "      <td>8.290155</td>\n",
       "      <td>...</td>\n",
       "      <td>20.0</td>\n",
       "      <td>39.0</td>\n",
       "      <td>86.0</td>\n",
       "      <td>160.0</td>\n",
       "      <td>1566.0</td>\n",
       "      <td>Frankenstein_(1931)</td>\n",
       "      <td>1931-01-01</td>\n",
       "      <td>12000000</td>\n",
       "      <td>71</td>\n",
       "      <td>364.0</td>\n",
       "    </tr>\n",
       "    <tr>\n",
       "      <th>4</th>\n",
       "      <td>0</td>\n",
       "      <td>82.366864</td>\n",
       "      <td>17.633136</td>\n",
       "      <td>79.891304</td>\n",
       "      <td>13.179348</td>\n",
       "      <td>1.775148</td>\n",
       "      <td>2.366864</td>\n",
       "      <td>2.958580</td>\n",
       "      <td>5.325444</td>\n",
       "      <td>1.183432</td>\n",
       "      <td>...</td>\n",
       "      <td>20.0</td>\n",
       "      <td>25.0</td>\n",
       "      <td>45.0</td>\n",
       "      <td>10.0</td>\n",
       "      <td>730.0</td>\n",
       "      <td>White_Zombie_(1932)</td>\n",
       "      <td>1932-01-01</td>\n",
       "      <td>0</td>\n",
       "      <td>67</td>\n",
       "      <td>115.0</td>\n",
       "    </tr>\n",
       "    <tr>\n",
       "      <th>...</th>\n",
       "      <td>...</td>\n",
       "      <td>...</td>\n",
       "      <td>...</td>\n",
       "      <td>...</td>\n",
       "      <td>...</td>\n",
       "      <td>...</td>\n",
       "      <td>...</td>\n",
       "      <td>...</td>\n",
       "      <td>...</td>\n",
       "      <td>...</td>\n",
       "      <td>...</td>\n",
       "      <td>...</td>\n",
       "      <td>...</td>\n",
       "      <td>...</td>\n",
       "      <td>...</td>\n",
       "      <td>...</td>\n",
       "      <td>...</td>\n",
       "      <td>...</td>\n",
       "      <td>...</td>\n",
       "      <td>...</td>\n",
       "      <td>...</td>\n",
       "    </tr>\n",
       "    <tr>\n",
       "      <th>156</th>\n",
       "      <td>0</td>\n",
       "      <td>84.794397</td>\n",
       "      <td>15.205603</td>\n",
       "      <td>66.019726</td>\n",
       "      <td>16.958320</td>\n",
       "      <td>5.772707</td>\n",
       "      <td>3.886127</td>\n",
       "      <td>3.648893</td>\n",
       "      <td>8.269318</td>\n",
       "      <td>5.377316</td>\n",
       "      <td>...</td>\n",
       "      <td>344.0</td>\n",
       "      <td>323.0</td>\n",
       "      <td>732.0</td>\n",
       "      <td>476.0</td>\n",
       "      <td>6466.0</td>\n",
       "      <td>Mamma_Mia!_Here_We_Go_Again_(2018)</td>\n",
       "      <td>2018-01-01</td>\n",
       "      <td>395044706</td>\n",
       "      <td>113</td>\n",
       "      <td>2386.0</td>\n",
       "    </tr>\n",
       "    <tr>\n",
       "      <th>157</th>\n",
       "      <td>0</td>\n",
       "      <td>83.738356</td>\n",
       "      <td>16.261644</td>\n",
       "      <td>74.544818</td>\n",
       "      <td>12.745098</td>\n",
       "      <td>6.156339</td>\n",
       "      <td>2.187120</td>\n",
       "      <td>1.964358</td>\n",
       "      <td>5.629810</td>\n",
       "      <td>2.531389</td>\n",
       "      <td>...</td>\n",
       "      <td>108.0</td>\n",
       "      <td>97.0</td>\n",
       "      <td>278.0</td>\n",
       "      <td>125.0</td>\n",
       "      <td>4026.0</td>\n",
       "      <td>Mary_Poppins_Returns_(2018)</td>\n",
       "      <td>2018-01-01</td>\n",
       "      <td>348807090</td>\n",
       "      <td>131</td>\n",
       "      <td>912.0</td>\n",
       "    </tr>\n",
       "    <tr>\n",
       "      <th>158</th>\n",
       "      <td>0</td>\n",
       "      <td>80.009255</td>\n",
       "      <td>19.990745</td>\n",
       "      <td>72.528202</td>\n",
       "      <td>21.101526</td>\n",
       "      <td>18.695049</td>\n",
       "      <td>4.488663</td>\n",
       "      <td>2.591393</td>\n",
       "      <td>15.085609</td>\n",
       "      <td>3.146691</td>\n",
       "      <td>...</td>\n",
       "      <td>97.0</td>\n",
       "      <td>56.0</td>\n",
       "      <td>326.0</td>\n",
       "      <td>68.0</td>\n",
       "      <td>1210.0</td>\n",
       "      <td>Bumblebee_(2018)</td>\n",
       "      <td>2018-01-01</td>\n",
       "      <td>467989645</td>\n",
       "      <td>114</td>\n",
       "      <td>951.0</td>\n",
       "    </tr>\n",
       "    <tr>\n",
       "      <th>159</th>\n",
       "      <td>0</td>\n",
       "      <td>95.707633</td>\n",
       "      <td>4.292367</td>\n",
       "      <td>93.356401</td>\n",
       "      <td>2.076125</td>\n",
       "      <td>7.410407</td>\n",
       "      <td>59.769184</td>\n",
       "      <td>3.158534</td>\n",
       "      <td>4.656813</td>\n",
       "      <td>1.801984</td>\n",
       "      <td>...</td>\n",
       "      <td>2952.0</td>\n",
       "      <td>156.0</td>\n",
       "      <td>230.0</td>\n",
       "      <td>89.0</td>\n",
       "      <td>1146.0</td>\n",
       "      <td>Black_Panther_(2018)</td>\n",
       "      <td>2018-01-01</td>\n",
       "      <td>1346739107</td>\n",
       "      <td>134</td>\n",
       "      <td>3793.0</td>\n",
       "    </tr>\n",
       "    <tr>\n",
       "      <th>160</th>\n",
       "      <td>0</td>\n",
       "      <td>93.146853</td>\n",
       "      <td>6.853147</td>\n",
       "      <td>91.218638</td>\n",
       "      <td>5.824373</td>\n",
       "      <td>13.636364</td>\n",
       "      <td>1.958042</td>\n",
       "      <td>3.986014</td>\n",
       "      <td>18.881119</td>\n",
       "      <td>1.398601</td>\n",
       "      <td>...</td>\n",
       "      <td>28.0</td>\n",
       "      <td>57.0</td>\n",
       "      <td>270.0</td>\n",
       "      <td>20.0</td>\n",
       "      <td>860.0</td>\n",
       "      <td>Scary_Stories_to_Tell_in_the_Dark_(2019)</td>\n",
       "      <td>2019-01-01</td>\n",
       "      <td>95438172</td>\n",
       "      <td>108</td>\n",
       "      <td>570.0</td>\n",
       "    </tr>\n",
       "  </tbody>\n",
       "</table>\n",
       "<p>161 rows × 33 columns</p>\n",
       "</div>"
      ],
      "text/plain": [
       "     index  man_screentime  woman_screentime   only_men  only_women  \\\n",
       "0        0       94.101509          5.898491  91.476710    5.946482   \n",
       "1        0       96.304719          3.695281  90.707965    6.342183   \n",
       "2        0       90.578735          9.421265  87.899942    8.260617   \n",
       "3        0       93.626943          6.373057  90.096618    6.843800   \n",
       "4        0       82.366864         17.633136  79.891304   13.179348   \n",
       "..     ...             ...               ...        ...         ...   \n",
       "156      0       84.794397         15.205603  66.019726   16.958320   \n",
       "157      0       83.738356         16.261644  74.544818   12.745098   \n",
       "158      0       80.009255         19.990745  72.528202   21.101526   \n",
       "159      0       95.707633          4.292367  93.356401    2.076125   \n",
       "160      0       93.146853          6.853147  91.218638    5.824373   \n",
       "\n",
       "     asian_screentime  black_screentime  indian_screentime  \\\n",
       "0            4.183813          0.411523           2.057613   \n",
       "1            2.103468          7.220011           2.615122   \n",
       "2            2.781516          2.198295           3.095559   \n",
       "3            3.056995          1.036269           2.020725   \n",
       "4            1.775148          2.366864           2.958580   \n",
       "..                ...               ...                ...   \n",
       "156          5.772707          3.886127           3.648893   \n",
       "157          6.156339          2.187120           1.964358   \n",
       "158         18.695049          4.488663           2.591393   \n",
       "159          7.410407         59.769184           3.158534   \n",
       "160         13.636364          1.958042           3.986014   \n",
       "\n",
       "     latino_hispanic_screentime  middle_eastern_screentime  ...  total_black  \\\n",
       "0                      2.263374                   4.595336  ...          6.0   \n",
       "1                      4.206936                   2.728823  ...        127.0   \n",
       "2                      4.665769                   5.204127  ...         49.0   \n",
       "3                      4.455959                   8.290155  ...         20.0   \n",
       "4                      5.325444                   1.183432  ...         20.0   \n",
       "..                          ...                        ...  ...          ...   \n",
       "156                    8.269318                   5.377316  ...        344.0   \n",
       "157                    5.629810                   2.531389  ...        108.0   \n",
       "158                   15.085609                   3.146691  ...         97.0   \n",
       "159                    4.656813                   1.801984  ...       2952.0   \n",
       "160                   18.881119                   1.398601  ...         28.0   \n",
       "\n",
       "     total_indian  total_latino_hispanic  total_middle_eastern  total_white  \\\n",
       "0            30.0                   33.0                  67.0       1261.0   \n",
       "1            46.0                   74.0                  48.0       1427.0   \n",
       "2            69.0                  104.0                 116.0       1829.0   \n",
       "3            39.0                   86.0                 160.0       1566.0   \n",
       "4            25.0                   45.0                  10.0        730.0   \n",
       "..            ...                    ...                   ...          ...   \n",
       "156         323.0                  732.0                 476.0       6466.0   \n",
       "157          97.0                  278.0                 125.0       4026.0   \n",
       "158          56.0                  326.0                  68.0       1210.0   \n",
       "159         156.0                  230.0                  89.0       1146.0   \n",
       "160          57.0                  270.0                  20.0        860.0   \n",
       "\n",
       "                                        title       year     revenue  runtime  \\\n",
       "0          The_Hunchback_of_Notre_Dame_(1923) 1923-01-01           0      113   \n",
       "1                       The_Lost_World_(1925) 1925-01-01           0       93   \n",
       "2              Dr._Jekyll_and_Mr._Hyde_(1931) 1931-01-01     1300000       98   \n",
       "3                         Frankenstein_(1931) 1931-01-01    12000000       71   \n",
       "4                         White_Zombie_(1932) 1932-01-01           0       67   \n",
       "..                                        ...        ...         ...      ...   \n",
       "156        Mamma_Mia!_Here_We_Go_Again_(2018) 2018-01-01   395044706      113   \n",
       "157               Mary_Poppins_Returns_(2018) 2018-01-01   348807090      131   \n",
       "158                          Bumblebee_(2018) 2018-01-01   467989645      114   \n",
       "159                      Black_Panther_(2018) 2018-01-01  1346739107      134   \n",
       "160  Scary_Stories_to_Tell_in_the_Dark_(2019) 2019-01-01    95438172      108   \n",
       "\n",
       "     non_white_count  \n",
       "0              197.0  \n",
       "1              332.0  \n",
       "2              400.0  \n",
       "3              364.0  \n",
       "4              115.0  \n",
       "..               ...  \n",
       "156           2386.0  \n",
       "157            912.0  \n",
       "158            951.0  \n",
       "159           3793.0  \n",
       "160            570.0  \n",
       "\n",
       "[161 rows x 33 columns]"
      ]
     },
     "execution_count": 810,
     "metadata": {},
     "output_type": "execute_result"
    }
   ],
   "source": [
    "df_evo"
   ]
  },
  {
   "cell_type": "code",
   "execution_count": 820,
   "id": "6ea25c48",
   "metadata": {},
   "outputs": [
    {
     "data": {
      "application/vnd.plotly.v1+json": {
       "config": {
        "plotlyServerURL": "https://plot.ly"
       },
       "data": [
        {
         "hovertemplate": "<b>%{hovertext}</b><br><br>POC on screen count=%{x}<br>Movie Revenue [US$]=%{y}<extra></extra>",
         "hovertext": [
          "The_Hunchback_of_Notre_Dame_(1923)",
          "The_Lost_World_(1925)",
          "Dr._Jekyll_and_Mr._Hyde_(1931)",
          "Frankenstein_(1931)",
          "White_Zombie_(1932)",
          "Son_of_Frankenstein_(1939)",
          "The_Wolf_Man_(1941)",
          "The_Mummy's_Tomb_(1942)",
          "Abbott_and_Costello_Meet_Frankenstein_(1948)",
          "Anne_of_the_Indies_(1951)",
          "Roman_Holiday_(1953)",
          "Abbott_and_Costello_Meet_the_Mummy_(1955)",
          "This_Island_Earth_(1955)",
          "Vertigo_(1958)",
          "Psycho_(1960)",
          "Cape_Fear_(1962)",
          "To_Kill_a_Mockingbird_(1962)",
          "Doctor_Zhivago_(1965)",
          "Bonnie_and_Clyde_(1967)",
          "The_Love_Bug_(1968)",
          "Willy_Wonka_&_the_Chocolate_Factory_(1971)",
          "The_Million_Dollar_Duck_(1971)",
          "The_Godfather:_Part_II_(1974)",
          "Carrie_(1976)",
          "Superman_(1978)",
          "The_Black_Hole_(1979)",
          "Superman_II_(1980)",
          "Raiders_of_the_Lost_Ark_(1981)",
          "Trading_Places_(1983)",
          "Supergirl_(1984)",
          "A_Nightmare_on_Elm_Street_(1984)",
          "Stand_by_Me_(1986)",
          "The_Princess_Bride_(1987)",
          "A_Nightmare_on_Elm_Street_3:_Dream_Warriors_(1987)",
          "Masters_of_the_Universe_(1987)",
          "Killer_Klowns_from_Outer_Space_(1988)",
          "Honey,_I_Shrunk_the_Kids_(1989)",
          "Dances_with_Wolves_(1990)",
          "The_Godfather:_Part_III_(1990)",
          "Edward_Scissorhands_(1990)",
          "Ernest_Scared_Stupid_(1991)",
          "The_Remains_of_the_Day_(1993)",
          "Pulp_Fiction_(1994)",
          "The_Jungle_Book_(1994)",
          "Ace_Ventura:_Pet_Detective_(1994)",
          "Casper_(1995)",
          "Ace_Ventura:_When_Nature_Calls_(1995)",
          "Star_Trek:_First_Contact_(1996)",
          "Bound_(1996)",
          "Homeward_Bound_II:_Lost_in_San_Francisco_(1996)",
          "Titanic_(1997)",
          "The_Night_Flier_(1997)",
          "Madeline_(1998)",
          "Halloweentown_(1998)",
          "Sleepy_Hollow_(1999)",
          "The_Ninth_Gate_(1999)",
          "102_Dalmatians_(2000)",
          "X-Men_(2000)",
          "Air_Bud_3:_World_Pup_(2001)",
          "Harry_Potter_and_the_Sorcerer's_Stone_(2001)",
          "Osmosis_Jones_(2001)",
          "Planet_of_the_Apes_(2001)",
          "Stuart_Little_2_(2002)",
          "Men_in_Black_II_(2002)",
          "Austin_Powers_in_Goldmember_(2002)",
          "Sweet_Home_Alabama_(2002)",
          "The_Haunted_Mansion_(2003)",
          "Master_and_Commander:_The_Far_Side_of_the_World_(2003)",
          "Ginger_Snaps_2:_Unleashed_(2004)",
          "Fat_Albert_(2004)",
          "Troy_(2004)",
          "The_Princess_Diaries_2:_Royal_Engagement_(2004)",
          "The_Punisher_(2004)",
          "Van_Helsing_(2004)",
          "King_Kong_(2005)",
          "Harry_Potter_and_the_Goblet_of_Fire_(2005)",
          "Elektra_(2005)",
          "Herbie_Fully_Loaded_(2005)",
          "Nanny_McPhee_(2005)",
          "The_Shaggy_Dog_(2006)",
          "Night_at_the_Museum_(2006)",
          "Underworld:_Evolution_(2006)",
          "Zoom_(2006)",
          "Abominable_(2006)",
          "300_(2006)",
          "Air_Buddies_(2006)",
          "Fantastic_4:_Rise_of_the_Silver_Surfer_(2007)",
          "Mr._Bean's_Holiday_(2007)",
          "Juno_(2007)",
          "Bridge_to_Terabithia_(2007)",
          "Sex_and_the_City_(2008)",
          "Hancock_(2008)",
          "Indiana_Jones_and_the_Kingdom_of_the_Crystal_Skull_(2008)",
          "Inkheart_(2008)",
          "Anne_of_Green_Gables:_A_New_Beginning_(2008)",
          "Nim's_Island_(2008)",
          "A_Perfect_Getaway_(2009)",
          "Hannah_Montana:_The_Movie_(2009)",
          "2012_(2009)",
          "Push_(2009)",
          "G.I._Joe:_The_Rise_of_Cobra_(2009)",
          "Chatroom_(2010)",
          "The_A-Team_(2010)",
          "Cats_&_Dogs:_The_Revenge_of_Kitty_Galore_(2010)",
          "Camp_Rock_2:_The_Final_Jam_(2010)",
          "The_Sorcerer's_Apprentice_(2010)",
          "RED_(2010)",
          "Soul_Surfer_(2011)",
          "The_Phantom_of_the_Opera_at_the_Royal_Albert_Hall_(2011)",
          "There_Be_Dragons_(2011)",
          "Diary_of_a_Wimpy_Kid:_Rodrick_Rules_(2011)",
          "My_Week_with_Marilyn_(2011)",
          "Transformers:_Dark_of_the_Moon_(2011)",
          "Hugo_(2011)",
          "Super_Shark_(2011)",
          "Harry_Potter_and_the_Deathly_Hallows:_Part_2_(2011)",
          "Underworld:_Awakening_(2012)",
          "John_Carter_(2012)",
          "Diary_of_a_Wimpy_Kid:_Dog_Days_(2012)",
          "Trouble_with_the_Curve_(2012)",
          "Lincoln_(2012)",
          "An_American_Girl:_McKenna_Shoots_for_the_Stars_(2012)",
          "Life_of_Pi_(2012)",
          "The_Expendables_2_(2012)",
          "Red_Dawn_(2012)",
          "Hansel_&_Gretel:_Witch_Hunters_(2013)",
          "Enemy_(2013)",
          "Sharknado_(2013)",
          "The_Wolf_of_Wall_Street_(2013)",
          "Walking_with_Dinosaurs_(2013)",
          "Paranormal_Movie_(2013)",
          "Beautiful_Creatures_(2013)",
          "Iron_Man_Three_(2013)_[4K]",
          "The_Lone_Ranger_(2013)",
          "Unbroken_(2014)",
          "X-Men:_Days_of_Future_Past_(2014)",
          "Need_for_Speed_(2014)",
          "Muppets_Most_Wanted_(2014)",
          "The_Inbetweeners_2_(2014)",
          "Big_Eyes_(2014)",
          "The_Giver_(2014)",
          "Teenage_Mutant_Ninja_Turtles_(2014)",
          "Pitch_Perfect_2_(2015)",
          "Avengers:_Age_of_Ultron_(2015)",
          "Fantastic_Four_(2015)",
          "Miss_Peregrine's_Home_for_Peculiar_Children_(2016)",
          "10_Cloverfield_Lane_(2016)",
          "Sausage_Party_(2016)",
          "The_Shallows_(2016)",
          "Deadpool_(2016)",
          "Suicide_Squad_(2016)",
          "Justice_League_(2017)",
          "War_for_the_Planet_of_the_Apes_(2017)",
          "Ghost_in_the_Shell_(2017)",
          "Deadpool_2_(2018)",
          "A_Quiet_Place_(2018)",
          "Mamma_Mia!_Here_We_Go_Again_(2018)",
          "Mary_Poppins_Returns_(2018)",
          "Bumblebee_(2018)",
          "Black_Panther_(2018)",
          "Scary_Stories_to_Tell_in_the_Dark_(2019)"
         ],
         "legendgroup": "",
         "marker": {
          "color": "rgb(255,185,15)",
          "symbol": "circle"
         },
         "mode": "markers",
         "name": "",
         "orientation": "v",
         "showlegend": false,
         "type": "scatter",
         "x": [
          197,
          332,
          400,
          364,
          115,
          775,
          335,
          313,
          516,
          2066,
          1467,
          839,
          1483,
          1004,
          839,
          816,
          1984,
          3539,
          953,
          1611,
          958,
          1034,
          4172,
          651,
          645,
          684,
          1282,
          1414,
          2425,
          403,
          938,
          1024,
          1051,
          899,
          581,
          437,
          638,
          2316,
          5734,
          665,
          690,
          1542,
          2579,
          988,
          1161,
          445,
          3319,
          1635,
          367,
          127,
          1275,
          496,
          1047,
          367,
          611,
          825,
          318,
          567,
          900,
          2586,
          204,
          620,
          366,
          1805,
          3853,
          765,
          2012,
          924,
          230,
          5003,
          1725,
          2331,
          885,
          797,
          1774,
          3079,
          420,
          529,
          611,
          1096,
          1181,
          111,
          875,
          331,
          2195,
          284,
          1092,
          1529,
          656,
          733,
          1089,
          1253,
          1258,
          906,
          472,
          526,
          763,
          2099,
          2441,
          1351,
          1202,
          661,
          1080,
          110,
          2202,
          740,
          655,
          1333,
          2598,
          1375,
          1893,
          431,
          1245,
          1266,
          504,
          2004,
          528,
          1285,
          1211,
          1266,
          3626,
          378,
          2187,
          1283,
          1479,
          836,
          442,
          799,
          4567,
          22,
          321,
          1731,
          2707,
          1270,
          1671,
          995,
          851,
          1345,
          821,
          1138,
          582,
          365,
          3148,
          926,
          752,
          548,
          470,
          50,
          154,
          622,
          853,
          733,
          566,
          512,
          914,
          472,
          2386,
          912,
          951,
          3793,
          570
         ],
         "xaxis": "x",
         "y": [
          0,
          0,
          1300000,
          12000000,
          0,
          0,
          0,
          0,
          4812444,
          0,
          12000000,
          0,
          1700000,
          7797728,
          32000000,
          103000000,
          13129846,
          111858363,
          50700000,
          0,
          4000000,
          0,
          102600000,
          33800000,
          300218018,
          35841901,
          190458706,
          389925971,
          90404800,
          14296438,
          57000000,
          52287414,
          30861665,
          44793222,
          17336370,
          43625095,
          222724172,
          424208848,
          136766062,
          53000000,
          0,
          23237911,
          214179088,
          43,
          107217396,
          287928194,
          212385533,
          150000000,
          7011317,
          32709423,
          2187463944,
          91549,
          30000000,
          0,
          206071502,
          58401898,
          183611771,
          296339527,
          0,
          976475550,
          13596911,
          362211740,
          169956806,
          445135288,
          296655431,
          180622424,
          182290266,
          212011111,
          0,
          48563556,
          497409852,
          134734481,
          54700105,
          300257475,
          562363449,
          895921036,
          56681566,
          66002004,
          123276807,
          87134280,
          574480841,
          111476513,
          12506188,
          1810000,
          0,
          0,
          301913131,
          232225908,
          231411584,
          137587063,
          415252786,
          629443428,
          786636033,
          62803180,
          0,
          100076342,
          22852638,
          155545279,
          791217826,
          45465299,
          302469017,
          0,
          177238796,
          112483764,
          0,
          215283742,
          71664962,
          47088990,
          0,
          0,
          72526996,
          35057696,
          1123794079,
          185770160,
          0,
          1341511219,
          160112671,
          284139100,
          76196538,
          0,
          116471580,
          0,
          609016565,
          314975955,
          44806783,
          226349749,
          3396726,
          0,
          392000000,
          126546518,
          0,
          60052138,
          1214811252,
          260502115,
          163442937,
          747862775,
          203277636,
          80383290,
          0,
          28883511,
          66980456,
          477200000,
          287506194,
          1405403694,
          167977596,
          296482446,
          108286421,
          140705322,
          119100758,
          783100000,
          746846894,
          657924295,
          488533726,
          169801921,
          786365638,
          340677200,
          395044706,
          348807090,
          467989645,
          1346739107,
          95438172
         ],
         "yaxis": "y"
        }
       ],
       "layout": {
        "legend": {
         "tracegroupgap": 0
        },
        "margin": {
         "t": 60
        },
        "template": {
         "data": {
          "bar": [
           {
            "error_x": {
             "color": "#2a3f5f"
            },
            "error_y": {
             "color": "#2a3f5f"
            },
            "marker": {
             "line": {
              "color": "#E5ECF6",
              "width": 0.5
             },
             "pattern": {
              "fillmode": "overlay",
              "size": 10,
              "solidity": 0.2
             }
            },
            "type": "bar"
           }
          ],
          "barpolar": [
           {
            "marker": {
             "line": {
              "color": "#E5ECF6",
              "width": 0.5
             },
             "pattern": {
              "fillmode": "overlay",
              "size": 10,
              "solidity": 0.2
             }
            },
            "type": "barpolar"
           }
          ],
          "carpet": [
           {
            "aaxis": {
             "endlinecolor": "#2a3f5f",
             "gridcolor": "white",
             "linecolor": "white",
             "minorgridcolor": "white",
             "startlinecolor": "#2a3f5f"
            },
            "baxis": {
             "endlinecolor": "#2a3f5f",
             "gridcolor": "white",
             "linecolor": "white",
             "minorgridcolor": "white",
             "startlinecolor": "#2a3f5f"
            },
            "type": "carpet"
           }
          ],
          "choropleth": [
           {
            "colorbar": {
             "outlinewidth": 0,
             "ticks": ""
            },
            "type": "choropleth"
           }
          ],
          "contour": [
           {
            "colorbar": {
             "outlinewidth": 0,
             "ticks": ""
            },
            "colorscale": [
             [
              0,
              "#0d0887"
             ],
             [
              0.1111111111111111,
              "#46039f"
             ],
             [
              0.2222222222222222,
              "#7201a8"
             ],
             [
              0.3333333333333333,
              "#9c179e"
             ],
             [
              0.4444444444444444,
              "#bd3786"
             ],
             [
              0.5555555555555556,
              "#d8576b"
             ],
             [
              0.6666666666666666,
              "#ed7953"
             ],
             [
              0.7777777777777778,
              "#fb9f3a"
             ],
             [
              0.8888888888888888,
              "#fdca26"
             ],
             [
              1,
              "#f0f921"
             ]
            ],
            "type": "contour"
           }
          ],
          "contourcarpet": [
           {
            "colorbar": {
             "outlinewidth": 0,
             "ticks": ""
            },
            "type": "contourcarpet"
           }
          ],
          "heatmap": [
           {
            "colorbar": {
             "outlinewidth": 0,
             "ticks": ""
            },
            "colorscale": [
             [
              0,
              "#0d0887"
             ],
             [
              0.1111111111111111,
              "#46039f"
             ],
             [
              0.2222222222222222,
              "#7201a8"
             ],
             [
              0.3333333333333333,
              "#9c179e"
             ],
             [
              0.4444444444444444,
              "#bd3786"
             ],
             [
              0.5555555555555556,
              "#d8576b"
             ],
             [
              0.6666666666666666,
              "#ed7953"
             ],
             [
              0.7777777777777778,
              "#fb9f3a"
             ],
             [
              0.8888888888888888,
              "#fdca26"
             ],
             [
              1,
              "#f0f921"
             ]
            ],
            "type": "heatmap"
           }
          ],
          "heatmapgl": [
           {
            "colorbar": {
             "outlinewidth": 0,
             "ticks": ""
            },
            "colorscale": [
             [
              0,
              "#0d0887"
             ],
             [
              0.1111111111111111,
              "#46039f"
             ],
             [
              0.2222222222222222,
              "#7201a8"
             ],
             [
              0.3333333333333333,
              "#9c179e"
             ],
             [
              0.4444444444444444,
              "#bd3786"
             ],
             [
              0.5555555555555556,
              "#d8576b"
             ],
             [
              0.6666666666666666,
              "#ed7953"
             ],
             [
              0.7777777777777778,
              "#fb9f3a"
             ],
             [
              0.8888888888888888,
              "#fdca26"
             ],
             [
              1,
              "#f0f921"
             ]
            ],
            "type": "heatmapgl"
           }
          ],
          "histogram": [
           {
            "marker": {
             "pattern": {
              "fillmode": "overlay",
              "size": 10,
              "solidity": 0.2
             }
            },
            "type": "histogram"
           }
          ],
          "histogram2d": [
           {
            "colorbar": {
             "outlinewidth": 0,
             "ticks": ""
            },
            "colorscale": [
             [
              0,
              "#0d0887"
             ],
             [
              0.1111111111111111,
              "#46039f"
             ],
             [
              0.2222222222222222,
              "#7201a8"
             ],
             [
              0.3333333333333333,
              "#9c179e"
             ],
             [
              0.4444444444444444,
              "#bd3786"
             ],
             [
              0.5555555555555556,
              "#d8576b"
             ],
             [
              0.6666666666666666,
              "#ed7953"
             ],
             [
              0.7777777777777778,
              "#fb9f3a"
             ],
             [
              0.8888888888888888,
              "#fdca26"
             ],
             [
              1,
              "#f0f921"
             ]
            ],
            "type": "histogram2d"
           }
          ],
          "histogram2dcontour": [
           {
            "colorbar": {
             "outlinewidth": 0,
             "ticks": ""
            },
            "colorscale": [
             [
              0,
              "#0d0887"
             ],
             [
              0.1111111111111111,
              "#46039f"
             ],
             [
              0.2222222222222222,
              "#7201a8"
             ],
             [
              0.3333333333333333,
              "#9c179e"
             ],
             [
              0.4444444444444444,
              "#bd3786"
             ],
             [
              0.5555555555555556,
              "#d8576b"
             ],
             [
              0.6666666666666666,
              "#ed7953"
             ],
             [
              0.7777777777777778,
              "#fb9f3a"
             ],
             [
              0.8888888888888888,
              "#fdca26"
             ],
             [
              1,
              "#f0f921"
             ]
            ],
            "type": "histogram2dcontour"
           }
          ],
          "mesh3d": [
           {
            "colorbar": {
             "outlinewidth": 0,
             "ticks": ""
            },
            "type": "mesh3d"
           }
          ],
          "parcoords": [
           {
            "line": {
             "colorbar": {
              "outlinewidth": 0,
              "ticks": ""
             }
            },
            "type": "parcoords"
           }
          ],
          "pie": [
           {
            "automargin": true,
            "type": "pie"
           }
          ],
          "scatter": [
           {
            "marker": {
             "colorbar": {
              "outlinewidth": 0,
              "ticks": ""
             }
            },
            "type": "scatter"
           }
          ],
          "scatter3d": [
           {
            "line": {
             "colorbar": {
              "outlinewidth": 0,
              "ticks": ""
             }
            },
            "marker": {
             "colorbar": {
              "outlinewidth": 0,
              "ticks": ""
             }
            },
            "type": "scatter3d"
           }
          ],
          "scattercarpet": [
           {
            "marker": {
             "colorbar": {
              "outlinewidth": 0,
              "ticks": ""
             }
            },
            "type": "scattercarpet"
           }
          ],
          "scattergeo": [
           {
            "marker": {
             "colorbar": {
              "outlinewidth": 0,
              "ticks": ""
             }
            },
            "type": "scattergeo"
           }
          ],
          "scattergl": [
           {
            "marker": {
             "colorbar": {
              "outlinewidth": 0,
              "ticks": ""
             }
            },
            "type": "scattergl"
           }
          ],
          "scattermapbox": [
           {
            "marker": {
             "colorbar": {
              "outlinewidth": 0,
              "ticks": ""
             }
            },
            "type": "scattermapbox"
           }
          ],
          "scatterpolar": [
           {
            "marker": {
             "colorbar": {
              "outlinewidth": 0,
              "ticks": ""
             }
            },
            "type": "scatterpolar"
           }
          ],
          "scatterpolargl": [
           {
            "marker": {
             "colorbar": {
              "outlinewidth": 0,
              "ticks": ""
             }
            },
            "type": "scatterpolargl"
           }
          ],
          "scatterternary": [
           {
            "marker": {
             "colorbar": {
              "outlinewidth": 0,
              "ticks": ""
             }
            },
            "type": "scatterternary"
           }
          ],
          "surface": [
           {
            "colorbar": {
             "outlinewidth": 0,
             "ticks": ""
            },
            "colorscale": [
             [
              0,
              "#0d0887"
             ],
             [
              0.1111111111111111,
              "#46039f"
             ],
             [
              0.2222222222222222,
              "#7201a8"
             ],
             [
              0.3333333333333333,
              "#9c179e"
             ],
             [
              0.4444444444444444,
              "#bd3786"
             ],
             [
              0.5555555555555556,
              "#d8576b"
             ],
             [
              0.6666666666666666,
              "#ed7953"
             ],
             [
              0.7777777777777778,
              "#fb9f3a"
             ],
             [
              0.8888888888888888,
              "#fdca26"
             ],
             [
              1,
              "#f0f921"
             ]
            ],
            "type": "surface"
           }
          ],
          "table": [
           {
            "cells": {
             "fill": {
              "color": "#EBF0F8"
             },
             "line": {
              "color": "white"
             }
            },
            "header": {
             "fill": {
              "color": "#C8D4E3"
             },
             "line": {
              "color": "white"
             }
            },
            "type": "table"
           }
          ]
         },
         "layout": {
          "annotationdefaults": {
           "arrowcolor": "#2a3f5f",
           "arrowhead": 0,
           "arrowwidth": 1
          },
          "autotypenumbers": "strict",
          "coloraxis": {
           "colorbar": {
            "outlinewidth": 0,
            "ticks": ""
           }
          },
          "colorscale": {
           "diverging": [
            [
             0,
             "#8e0152"
            ],
            [
             0.1,
             "#c51b7d"
            ],
            [
             0.2,
             "#de77ae"
            ],
            [
             0.3,
             "#f1b6da"
            ],
            [
             0.4,
             "#fde0ef"
            ],
            [
             0.5,
             "#f7f7f7"
            ],
            [
             0.6,
             "#e6f5d0"
            ],
            [
             0.7,
             "#b8e186"
            ],
            [
             0.8,
             "#7fbc41"
            ],
            [
             0.9,
             "#4d9221"
            ],
            [
             1,
             "#276419"
            ]
           ],
           "sequential": [
            [
             0,
             "#0d0887"
            ],
            [
             0.1111111111111111,
             "#46039f"
            ],
            [
             0.2222222222222222,
             "#7201a8"
            ],
            [
             0.3333333333333333,
             "#9c179e"
            ],
            [
             0.4444444444444444,
             "#bd3786"
            ],
            [
             0.5555555555555556,
             "#d8576b"
            ],
            [
             0.6666666666666666,
             "#ed7953"
            ],
            [
             0.7777777777777778,
             "#fb9f3a"
            ],
            [
             0.8888888888888888,
             "#fdca26"
            ],
            [
             1,
             "#f0f921"
            ]
           ],
           "sequentialminus": [
            [
             0,
             "#0d0887"
            ],
            [
             0.1111111111111111,
             "#46039f"
            ],
            [
             0.2222222222222222,
             "#7201a8"
            ],
            [
             0.3333333333333333,
             "#9c179e"
            ],
            [
             0.4444444444444444,
             "#bd3786"
            ],
            [
             0.5555555555555556,
             "#d8576b"
            ],
            [
             0.6666666666666666,
             "#ed7953"
            ],
            [
             0.7777777777777778,
             "#fb9f3a"
            ],
            [
             0.8888888888888888,
             "#fdca26"
            ],
            [
             1,
             "#f0f921"
            ]
           ]
          },
          "colorway": [
           "#636efa",
           "#EF553B",
           "#00cc96",
           "#ab63fa",
           "#FFA15A",
           "#19d3f3",
           "#FF6692",
           "#B6E880",
           "#FF97FF",
           "#FECB52"
          ],
          "font": {
           "color": "#2a3f5f"
          },
          "geo": {
           "bgcolor": "white",
           "lakecolor": "white",
           "landcolor": "#E5ECF6",
           "showlakes": true,
           "showland": true,
           "subunitcolor": "white"
          },
          "hoverlabel": {
           "align": "left"
          },
          "hovermode": "closest",
          "mapbox": {
           "style": "light"
          },
          "paper_bgcolor": "white",
          "plot_bgcolor": "#E5ECF6",
          "polar": {
           "angularaxis": {
            "gridcolor": "white",
            "linecolor": "white",
            "ticks": ""
           },
           "bgcolor": "#E5ECF6",
           "radialaxis": {
            "gridcolor": "white",
            "linecolor": "white",
            "ticks": ""
           }
          },
          "scene": {
           "xaxis": {
            "backgroundcolor": "#E5ECF6",
            "gridcolor": "white",
            "gridwidth": 2,
            "linecolor": "white",
            "showbackground": true,
            "ticks": "",
            "zerolinecolor": "white"
           },
           "yaxis": {
            "backgroundcolor": "#E5ECF6",
            "gridcolor": "white",
            "gridwidth": 2,
            "linecolor": "white",
            "showbackground": true,
            "ticks": "",
            "zerolinecolor": "white"
           },
           "zaxis": {
            "backgroundcolor": "#E5ECF6",
            "gridcolor": "white",
            "gridwidth": 2,
            "linecolor": "white",
            "showbackground": true,
            "ticks": "",
            "zerolinecolor": "white"
           }
          },
          "shapedefaults": {
           "line": {
            "color": "#2a3f5f"
           }
          },
          "ternary": {
           "aaxis": {
            "gridcolor": "white",
            "linecolor": "white",
            "ticks": ""
           },
           "baxis": {
            "gridcolor": "white",
            "linecolor": "white",
            "ticks": ""
           },
           "bgcolor": "#E5ECF6",
           "caxis": {
            "gridcolor": "white",
            "linecolor": "white",
            "ticks": ""
           }
          },
          "title": {
           "x": 0.05
          },
          "xaxis": {
           "automargin": true,
           "gridcolor": "white",
           "linecolor": "white",
           "ticks": "",
           "title": {
            "standoff": 15
           },
           "zerolinecolor": "white",
           "zerolinewidth": 2
          },
          "yaxis": {
           "automargin": true,
           "gridcolor": "white",
           "linecolor": "white",
           "ticks": "",
           "title": {
            "standoff": 15
           },
           "zerolinecolor": "white",
           "zerolinewidth": 2
          }
         }
        },
        "xaxis": {
         "anchor": "y",
         "domain": [
          0,
          1
         ],
         "title": {
          "text": "POC on screen count"
         }
        },
        "yaxis": {
         "anchor": "x",
         "domain": [
          0,
          1
         ],
         "title": {
          "text": "Movie Revenue [US$]"
         }
        }
       }
      },
      "text/html": [
       "<div>                            <div id=\"e5c4f2ba-2960-4230-97e4-dec0243f0de6\" class=\"plotly-graph-div\" style=\"height:525px; width:100%;\"></div>            <script type=\"text/javascript\">                require([\"plotly\"], function(Plotly) {                    window.PLOTLYENV=window.PLOTLYENV || {};                                    if (document.getElementById(\"e5c4f2ba-2960-4230-97e4-dec0243f0de6\")) {                    Plotly.newPlot(                        \"e5c4f2ba-2960-4230-97e4-dec0243f0de6\",                        [{\"hovertemplate\":\"<b>%{hovertext}</b><br><br>POC on screen count=%{x}<br>Movie Revenue [US$]=%{y}<extra></extra>\",\"hovertext\":[\"The_Hunchback_of_Notre_Dame_(1923)\",\"The_Lost_World_(1925)\",\"Dr._Jekyll_and_Mr._Hyde_(1931)\",\"Frankenstein_(1931)\",\"White_Zombie_(1932)\",\"Son_of_Frankenstein_(1939)\",\"The_Wolf_Man_(1941)\",\"The_Mummy's_Tomb_(1942)\",\"Abbott_and_Costello_Meet_Frankenstein_(1948)\",\"Anne_of_the_Indies_(1951)\",\"Roman_Holiday_(1953)\",\"Abbott_and_Costello_Meet_the_Mummy_(1955)\",\"This_Island_Earth_(1955)\",\"Vertigo_(1958)\",\"Psycho_(1960)\",\"Cape_Fear_(1962)\",\"To_Kill_a_Mockingbird_(1962)\",\"Doctor_Zhivago_(1965)\",\"Bonnie_and_Clyde_(1967)\",\"The_Love_Bug_(1968)\",\"Willy_Wonka_&_the_Chocolate_Factory_(1971)\",\"The_Million_Dollar_Duck_(1971)\",\"The_Godfather:_Part_II_(1974)\",\"Carrie_(1976)\",\"Superman_(1978)\",\"The_Black_Hole_(1979)\",\"Superman_II_(1980)\",\"Raiders_of_the_Lost_Ark_(1981)\",\"Trading_Places_(1983)\",\"Supergirl_(1984)\",\"A_Nightmare_on_Elm_Street_(1984)\",\"Stand_by_Me_(1986)\",\"The_Princess_Bride_(1987)\",\"A_Nightmare_on_Elm_Street_3:_Dream_Warriors_(1987)\",\"Masters_of_the_Universe_(1987)\",\"Killer_Klowns_from_Outer_Space_(1988)\",\"Honey,_I_Shrunk_the_Kids_(1989)\",\"Dances_with_Wolves_(1990)\",\"The_Godfather:_Part_III_(1990)\",\"Edward_Scissorhands_(1990)\",\"Ernest_Scared_Stupid_(1991)\",\"The_Remains_of_the_Day_(1993)\",\"Pulp_Fiction_(1994)\",\"The_Jungle_Book_(1994)\",\"Ace_Ventura:_Pet_Detective_(1994)\",\"Casper_(1995)\",\"Ace_Ventura:_When_Nature_Calls_(1995)\",\"Star_Trek:_First_Contact_(1996)\",\"Bound_(1996)\",\"Homeward_Bound_II:_Lost_in_San_Francisco_(1996)\",\"Titanic_(1997)\",\"The_Night_Flier_(1997)\",\"Madeline_(1998)\",\"Halloweentown_(1998)\",\"Sleepy_Hollow_(1999)\",\"The_Ninth_Gate_(1999)\",\"102_Dalmatians_(2000)\",\"X-Men_(2000)\",\"Air_Bud_3:_World_Pup_(2001)\",\"Harry_Potter_and_the_Sorcerer's_Stone_(2001)\",\"Osmosis_Jones_(2001)\",\"Planet_of_the_Apes_(2001)\",\"Stuart_Little_2_(2002)\",\"Men_in_Black_II_(2002)\",\"Austin_Powers_in_Goldmember_(2002)\",\"Sweet_Home_Alabama_(2002)\",\"The_Haunted_Mansion_(2003)\",\"Master_and_Commander:_The_Far_Side_of_the_World_(2003)\",\"Ginger_Snaps_2:_Unleashed_(2004)\",\"Fat_Albert_(2004)\",\"Troy_(2004)\",\"The_Princess_Diaries_2:_Royal_Engagement_(2004)\",\"The_Punisher_(2004)\",\"Van_Helsing_(2004)\",\"King_Kong_(2005)\",\"Harry_Potter_and_the_Goblet_of_Fire_(2005)\",\"Elektra_(2005)\",\"Herbie_Fully_Loaded_(2005)\",\"Nanny_McPhee_(2005)\",\"The_Shaggy_Dog_(2006)\",\"Night_at_the_Museum_(2006)\",\"Underworld:_Evolution_(2006)\",\"Zoom_(2006)\",\"Abominable_(2006)\",\"300_(2006)\",\"Air_Buddies_(2006)\",\"Fantastic_4:_Rise_of_the_Silver_Surfer_(2007)\",\"Mr._Bean's_Holiday_(2007)\",\"Juno_(2007)\",\"Bridge_to_Terabithia_(2007)\",\"Sex_and_the_City_(2008)\",\"Hancock_(2008)\",\"Indiana_Jones_and_the_Kingdom_of_the_Crystal_Skull_(2008)\",\"Inkheart_(2008)\",\"Anne_of_Green_Gables:_A_New_Beginning_(2008)\",\"Nim's_Island_(2008)\",\"A_Perfect_Getaway_(2009)\",\"Hannah_Montana:_The_Movie_(2009)\",\"2012_(2009)\",\"Push_(2009)\",\"G.I._Joe:_The_Rise_of_Cobra_(2009)\",\"Chatroom_(2010)\",\"The_A-Team_(2010)\",\"Cats_&_Dogs:_The_Revenge_of_Kitty_Galore_(2010)\",\"Camp_Rock_2:_The_Final_Jam_(2010)\",\"The_Sorcerer's_Apprentice_(2010)\",\"RED_(2010)\",\"Soul_Surfer_(2011)\",\"The_Phantom_of_the_Opera_at_the_Royal_Albert_Hall_(2011)\",\"There_Be_Dragons_(2011)\",\"Diary_of_a_Wimpy_Kid:_Rodrick_Rules_(2011)\",\"My_Week_with_Marilyn_(2011)\",\"Transformers:_Dark_of_the_Moon_(2011)\",\"Hugo_(2011)\",\"Super_Shark_(2011)\",\"Harry_Potter_and_the_Deathly_Hallows:_Part_2_(2011)\",\"Underworld:_Awakening_(2012)\",\"John_Carter_(2012)\",\"Diary_of_a_Wimpy_Kid:_Dog_Days_(2012)\",\"Trouble_with_the_Curve_(2012)\",\"Lincoln_(2012)\",\"An_American_Girl:_McKenna_Shoots_for_the_Stars_(2012)\",\"Life_of_Pi_(2012)\",\"The_Expendables_2_(2012)\",\"Red_Dawn_(2012)\",\"Hansel_&_Gretel:_Witch_Hunters_(2013)\",\"Enemy_(2013)\",\"Sharknado_(2013)\",\"The_Wolf_of_Wall_Street_(2013)\",\"Walking_with_Dinosaurs_(2013)\",\"Paranormal_Movie_(2013)\",\"Beautiful_Creatures_(2013)\",\"Iron_Man_Three_(2013)_[4K]\",\"The_Lone_Ranger_(2013)\",\"Unbroken_(2014)\",\"X-Men:_Days_of_Future_Past_(2014)\",\"Need_for_Speed_(2014)\",\"Muppets_Most_Wanted_(2014)\",\"The_Inbetweeners_2_(2014)\",\"Big_Eyes_(2014)\",\"The_Giver_(2014)\",\"Teenage_Mutant_Ninja_Turtles_(2014)\",\"Pitch_Perfect_2_(2015)\",\"Avengers:_Age_of_Ultron_(2015)\",\"Fantastic_Four_(2015)\",\"Miss_Peregrine's_Home_for_Peculiar_Children_(2016)\",\"10_Cloverfield_Lane_(2016)\",\"Sausage_Party_(2016)\",\"The_Shallows_(2016)\",\"Deadpool_(2016)\",\"Suicide_Squad_(2016)\",\"Justice_League_(2017)\",\"War_for_the_Planet_of_the_Apes_(2017)\",\"Ghost_in_the_Shell_(2017)\",\"Deadpool_2_(2018)\",\"A_Quiet_Place_(2018)\",\"Mamma_Mia!_Here_We_Go_Again_(2018)\",\"Mary_Poppins_Returns_(2018)\",\"Bumblebee_(2018)\",\"Black_Panther_(2018)\",\"Scary_Stories_to_Tell_in_the_Dark_(2019)\"],\"legendgroup\":\"\",\"marker\":{\"color\":\"rgb(255,185,15)\",\"symbol\":\"circle\"},\"mode\":\"markers\",\"name\":\"\",\"orientation\":\"v\",\"showlegend\":false,\"type\":\"scatter\",\"x\":[197.0,332.0,400.0,364.0,115.0,775.0,335.0,313.0,516.0,2066.0,1467.0,839.0,1483.0,1004.0,839.0,816.0,1984.0,3539.0,953.0,1611.0,958.0,1034.0,4172.0,651.0,645.0,684.0,1282.0,1414.0,2425.0,403.0,938.0,1024.0,1051.0,899.0,581.0,437.0,638.0,2316.0,5734.0,665.0,690.0,1542.0,2579.0,988.0,1161.0,445.0,3319.0,1635.0,367.0,127.0,1275.0,496.0,1047.0,367.0,611.0,825.0,318.0,567.0,900.0,2586.0,204.0,620.0,366.0,1805.0,3853.0,765.0,2012.0,924.0,230.0,5003.0,1725.0,2331.0,885.0,797.0,1774.0,3079.0,420.0,529.0,611.0,1096.0,1181.0,111.0,875.0,331.0,2195.0,284.0,1092.0,1529.0,656.0,733.0,1089.0,1253.0,1258.0,906.0,472.0,526.0,763.0,2099.0,2441.0,1351.0,1202.0,661.0,1080.0,110.0,2202.0,740.0,655.0,1333.0,2598.0,1375.0,1893.0,431.0,1245.0,1266.0,504.0,2004.0,528.0,1285.0,1211.0,1266.0,3626.0,378.0,2187.0,1283.0,1479.0,836.0,442.0,799.0,4567.0,22.0,321.0,1731.0,2707.0,1270.0,1671.0,995.0,851.0,1345.0,821.0,1138.0,582.0,365.0,3148.0,926.0,752.0,548.0,470.0,50.0,154.0,622.0,853.0,733.0,566.0,512.0,914.0,472.0,2386.0,912.0,951.0,3793.0,570.0],\"xaxis\":\"x\",\"y\":[0,0,1300000,12000000,0,0,0,0,4812444,0,12000000,0,1700000,7797728,32000000,103000000,13129846,111858363,50700000,0,4000000,0,102600000,33800000,300218018,35841901,190458706,389925971,90404800,14296438,57000000,52287414,30861665,44793222,17336370,43625095,222724172,424208848,136766062,53000000,0,23237911,214179088,43,107217396,287928194,212385533,150000000,7011317,32709423,2187463944,91549,30000000,0,206071502,58401898,183611771,296339527,0,976475550,13596911,362211740,169956806,445135288,296655431,180622424,182290266,212011111,0,48563556,497409852,134734481,54700105,300257475,562363449,895921036,56681566,66002004,123276807,87134280,574480841,111476513,12506188,1810000,0,0,301913131,232225908,231411584,137587063,415252786,629443428,786636033,62803180,0,100076342,22852638,155545279,791217826,45465299,302469017,0,177238796,112483764,0,215283742,71664962,47088990,0,0,72526996,35057696,1123794079,185770160,0,1341511219,160112671,284139100,76196538,0,116471580,0,609016565,314975955,44806783,226349749,3396726,0,392000000,126546518,0,60052138,1214811252,260502115,163442937,747862775,203277636,80383290,0,28883511,66980456,477200000,287506194,1405403694,167977596,296482446,108286421,140705322,119100758,783100000,746846894,657924295,488533726,169801921,786365638,340677200,395044706,348807090,467989645,1346739107,95438172],\"yaxis\":\"y\"}],                        {\"legend\":{\"tracegroupgap\":0},\"margin\":{\"t\":60},\"template\":{\"data\":{\"bar\":[{\"error_x\":{\"color\":\"#2a3f5f\"},\"error_y\":{\"color\":\"#2a3f5f\"},\"marker\":{\"line\":{\"color\":\"#E5ECF6\",\"width\":0.5},\"pattern\":{\"fillmode\":\"overlay\",\"size\":10,\"solidity\":0.2}},\"type\":\"bar\"}],\"barpolar\":[{\"marker\":{\"line\":{\"color\":\"#E5ECF6\",\"width\":0.5},\"pattern\":{\"fillmode\":\"overlay\",\"size\":10,\"solidity\":0.2}},\"type\":\"barpolar\"}],\"carpet\":[{\"aaxis\":{\"endlinecolor\":\"#2a3f5f\",\"gridcolor\":\"white\",\"linecolor\":\"white\",\"minorgridcolor\":\"white\",\"startlinecolor\":\"#2a3f5f\"},\"baxis\":{\"endlinecolor\":\"#2a3f5f\",\"gridcolor\":\"white\",\"linecolor\":\"white\",\"minorgridcolor\":\"white\",\"startlinecolor\":\"#2a3f5f\"},\"type\":\"carpet\"}],\"choropleth\":[{\"colorbar\":{\"outlinewidth\":0,\"ticks\":\"\"},\"type\":\"choropleth\"}],\"contour\":[{\"colorbar\":{\"outlinewidth\":0,\"ticks\":\"\"},\"colorscale\":[[0.0,\"#0d0887\"],[0.1111111111111111,\"#46039f\"],[0.2222222222222222,\"#7201a8\"],[0.3333333333333333,\"#9c179e\"],[0.4444444444444444,\"#bd3786\"],[0.5555555555555556,\"#d8576b\"],[0.6666666666666666,\"#ed7953\"],[0.7777777777777778,\"#fb9f3a\"],[0.8888888888888888,\"#fdca26\"],[1.0,\"#f0f921\"]],\"type\":\"contour\"}],\"contourcarpet\":[{\"colorbar\":{\"outlinewidth\":0,\"ticks\":\"\"},\"type\":\"contourcarpet\"}],\"heatmap\":[{\"colorbar\":{\"outlinewidth\":0,\"ticks\":\"\"},\"colorscale\":[[0.0,\"#0d0887\"],[0.1111111111111111,\"#46039f\"],[0.2222222222222222,\"#7201a8\"],[0.3333333333333333,\"#9c179e\"],[0.4444444444444444,\"#bd3786\"],[0.5555555555555556,\"#d8576b\"],[0.6666666666666666,\"#ed7953\"],[0.7777777777777778,\"#fb9f3a\"],[0.8888888888888888,\"#fdca26\"],[1.0,\"#f0f921\"]],\"type\":\"heatmap\"}],\"heatmapgl\":[{\"colorbar\":{\"outlinewidth\":0,\"ticks\":\"\"},\"colorscale\":[[0.0,\"#0d0887\"],[0.1111111111111111,\"#46039f\"],[0.2222222222222222,\"#7201a8\"],[0.3333333333333333,\"#9c179e\"],[0.4444444444444444,\"#bd3786\"],[0.5555555555555556,\"#d8576b\"],[0.6666666666666666,\"#ed7953\"],[0.7777777777777778,\"#fb9f3a\"],[0.8888888888888888,\"#fdca26\"],[1.0,\"#f0f921\"]],\"type\":\"heatmapgl\"}],\"histogram\":[{\"marker\":{\"pattern\":{\"fillmode\":\"overlay\",\"size\":10,\"solidity\":0.2}},\"type\":\"histogram\"}],\"histogram2d\":[{\"colorbar\":{\"outlinewidth\":0,\"ticks\":\"\"},\"colorscale\":[[0.0,\"#0d0887\"],[0.1111111111111111,\"#46039f\"],[0.2222222222222222,\"#7201a8\"],[0.3333333333333333,\"#9c179e\"],[0.4444444444444444,\"#bd3786\"],[0.5555555555555556,\"#d8576b\"],[0.6666666666666666,\"#ed7953\"],[0.7777777777777778,\"#fb9f3a\"],[0.8888888888888888,\"#fdca26\"],[1.0,\"#f0f921\"]],\"type\":\"histogram2d\"}],\"histogram2dcontour\":[{\"colorbar\":{\"outlinewidth\":0,\"ticks\":\"\"},\"colorscale\":[[0.0,\"#0d0887\"],[0.1111111111111111,\"#46039f\"],[0.2222222222222222,\"#7201a8\"],[0.3333333333333333,\"#9c179e\"],[0.4444444444444444,\"#bd3786\"],[0.5555555555555556,\"#d8576b\"],[0.6666666666666666,\"#ed7953\"],[0.7777777777777778,\"#fb9f3a\"],[0.8888888888888888,\"#fdca26\"],[1.0,\"#f0f921\"]],\"type\":\"histogram2dcontour\"}],\"mesh3d\":[{\"colorbar\":{\"outlinewidth\":0,\"ticks\":\"\"},\"type\":\"mesh3d\"}],\"parcoords\":[{\"line\":{\"colorbar\":{\"outlinewidth\":0,\"ticks\":\"\"}},\"type\":\"parcoords\"}],\"pie\":[{\"automargin\":true,\"type\":\"pie\"}],\"scatter\":[{\"marker\":{\"colorbar\":{\"outlinewidth\":0,\"ticks\":\"\"}},\"type\":\"scatter\"}],\"scatter3d\":[{\"line\":{\"colorbar\":{\"outlinewidth\":0,\"ticks\":\"\"}},\"marker\":{\"colorbar\":{\"outlinewidth\":0,\"ticks\":\"\"}},\"type\":\"scatter3d\"}],\"scattercarpet\":[{\"marker\":{\"colorbar\":{\"outlinewidth\":0,\"ticks\":\"\"}},\"type\":\"scattercarpet\"}],\"scattergeo\":[{\"marker\":{\"colorbar\":{\"outlinewidth\":0,\"ticks\":\"\"}},\"type\":\"scattergeo\"}],\"scattergl\":[{\"marker\":{\"colorbar\":{\"outlinewidth\":0,\"ticks\":\"\"}},\"type\":\"scattergl\"}],\"scattermapbox\":[{\"marker\":{\"colorbar\":{\"outlinewidth\":0,\"ticks\":\"\"}},\"type\":\"scattermapbox\"}],\"scatterpolar\":[{\"marker\":{\"colorbar\":{\"outlinewidth\":0,\"ticks\":\"\"}},\"type\":\"scatterpolar\"}],\"scatterpolargl\":[{\"marker\":{\"colorbar\":{\"outlinewidth\":0,\"ticks\":\"\"}},\"type\":\"scatterpolargl\"}],\"scatterternary\":[{\"marker\":{\"colorbar\":{\"outlinewidth\":0,\"ticks\":\"\"}},\"type\":\"scatterternary\"}],\"surface\":[{\"colorbar\":{\"outlinewidth\":0,\"ticks\":\"\"},\"colorscale\":[[0.0,\"#0d0887\"],[0.1111111111111111,\"#46039f\"],[0.2222222222222222,\"#7201a8\"],[0.3333333333333333,\"#9c179e\"],[0.4444444444444444,\"#bd3786\"],[0.5555555555555556,\"#d8576b\"],[0.6666666666666666,\"#ed7953\"],[0.7777777777777778,\"#fb9f3a\"],[0.8888888888888888,\"#fdca26\"],[1.0,\"#f0f921\"]],\"type\":\"surface\"}],\"table\":[{\"cells\":{\"fill\":{\"color\":\"#EBF0F8\"},\"line\":{\"color\":\"white\"}},\"header\":{\"fill\":{\"color\":\"#C8D4E3\"},\"line\":{\"color\":\"white\"}},\"type\":\"table\"}]},\"layout\":{\"annotationdefaults\":{\"arrowcolor\":\"#2a3f5f\",\"arrowhead\":0,\"arrowwidth\":1},\"autotypenumbers\":\"strict\",\"coloraxis\":{\"colorbar\":{\"outlinewidth\":0,\"ticks\":\"\"}},\"colorscale\":{\"diverging\":[[0,\"#8e0152\"],[0.1,\"#c51b7d\"],[0.2,\"#de77ae\"],[0.3,\"#f1b6da\"],[0.4,\"#fde0ef\"],[0.5,\"#f7f7f7\"],[0.6,\"#e6f5d0\"],[0.7,\"#b8e186\"],[0.8,\"#7fbc41\"],[0.9,\"#4d9221\"],[1,\"#276419\"]],\"sequential\":[[0.0,\"#0d0887\"],[0.1111111111111111,\"#46039f\"],[0.2222222222222222,\"#7201a8\"],[0.3333333333333333,\"#9c179e\"],[0.4444444444444444,\"#bd3786\"],[0.5555555555555556,\"#d8576b\"],[0.6666666666666666,\"#ed7953\"],[0.7777777777777778,\"#fb9f3a\"],[0.8888888888888888,\"#fdca26\"],[1.0,\"#f0f921\"]],\"sequentialminus\":[[0.0,\"#0d0887\"],[0.1111111111111111,\"#46039f\"],[0.2222222222222222,\"#7201a8\"],[0.3333333333333333,\"#9c179e\"],[0.4444444444444444,\"#bd3786\"],[0.5555555555555556,\"#d8576b\"],[0.6666666666666666,\"#ed7953\"],[0.7777777777777778,\"#fb9f3a\"],[0.8888888888888888,\"#fdca26\"],[1.0,\"#f0f921\"]]},\"colorway\":[\"#636efa\",\"#EF553B\",\"#00cc96\",\"#ab63fa\",\"#FFA15A\",\"#19d3f3\",\"#FF6692\",\"#B6E880\",\"#FF97FF\",\"#FECB52\"],\"font\":{\"color\":\"#2a3f5f\"},\"geo\":{\"bgcolor\":\"white\",\"lakecolor\":\"white\",\"landcolor\":\"#E5ECF6\",\"showlakes\":true,\"showland\":true,\"subunitcolor\":\"white\"},\"hoverlabel\":{\"align\":\"left\"},\"hovermode\":\"closest\",\"mapbox\":{\"style\":\"light\"},\"paper_bgcolor\":\"white\",\"plot_bgcolor\":\"#E5ECF6\",\"polar\":{\"angularaxis\":{\"gridcolor\":\"white\",\"linecolor\":\"white\",\"ticks\":\"\"},\"bgcolor\":\"#E5ECF6\",\"radialaxis\":{\"gridcolor\":\"white\",\"linecolor\":\"white\",\"ticks\":\"\"}},\"scene\":{\"xaxis\":{\"backgroundcolor\":\"#E5ECF6\",\"gridcolor\":\"white\",\"gridwidth\":2,\"linecolor\":\"white\",\"showbackground\":true,\"ticks\":\"\",\"zerolinecolor\":\"white\"},\"yaxis\":{\"backgroundcolor\":\"#E5ECF6\",\"gridcolor\":\"white\",\"gridwidth\":2,\"linecolor\":\"white\",\"showbackground\":true,\"ticks\":\"\",\"zerolinecolor\":\"white\"},\"zaxis\":{\"backgroundcolor\":\"#E5ECF6\",\"gridcolor\":\"white\",\"gridwidth\":2,\"linecolor\":\"white\",\"showbackground\":true,\"ticks\":\"\",\"zerolinecolor\":\"white\"}},\"shapedefaults\":{\"line\":{\"color\":\"#2a3f5f\"}},\"ternary\":{\"aaxis\":{\"gridcolor\":\"white\",\"linecolor\":\"white\",\"ticks\":\"\"},\"baxis\":{\"gridcolor\":\"white\",\"linecolor\":\"white\",\"ticks\":\"\"},\"bgcolor\":\"#E5ECF6\",\"caxis\":{\"gridcolor\":\"white\",\"linecolor\":\"white\",\"ticks\":\"\"}},\"title\":{\"x\":0.05},\"xaxis\":{\"automargin\":true,\"gridcolor\":\"white\",\"linecolor\":\"white\",\"ticks\":\"\",\"title\":{\"standoff\":15},\"zerolinecolor\":\"white\",\"zerolinewidth\":2},\"yaxis\":{\"automargin\":true,\"gridcolor\":\"white\",\"linecolor\":\"white\",\"ticks\":\"\",\"title\":{\"standoff\":15},\"zerolinecolor\":\"white\",\"zerolinewidth\":2}}},\"xaxis\":{\"anchor\":\"y\",\"domain\":[0.0,1.0],\"title\":{\"text\":\"POC on screen count\"}},\"yaxis\":{\"anchor\":\"x\",\"domain\":[0.0,1.0],\"title\":{\"text\":\"Movie Revenue [US$]\"}}},                        {\"responsive\": true}                    ).then(function(){\n",
       "                            \n",
       "var gd = document.getElementById('e5c4f2ba-2960-4230-97e4-dec0243f0de6');\n",
       "var x = new MutationObserver(function (mutations, observer) {{\n",
       "        var display = window.getComputedStyle(gd).display;\n",
       "        if (!display || display === 'none') {{\n",
       "            console.log([gd, 'removed!']);\n",
       "            Plotly.purge(gd);\n",
       "            observer.disconnect();\n",
       "        }}\n",
       "}});\n",
       "\n",
       "// Listen for the removal of the full notebook cells\n",
       "var notebookContainer = gd.closest('#notebook-container');\n",
       "if (notebookContainer) {{\n",
       "    x.observe(notebookContainer, {childList: true});\n",
       "}}\n",
       "\n",
       "// Listen for the clearing of the current output cell\n",
       "var outputEl = gd.closest('.output');\n",
       "if (outputEl) {{\n",
       "    x.observe(outputEl, {childList: true});\n",
       "}}\n",
       "\n",
       "                        })                };                });            </script>        </div>"
      ]
     },
     "metadata": {},
     "output_type": "display_data"
    }
   ],
   "source": [
    "px.scatter(df_evo,\n",
    "           x=\"non_white_count\",\n",
    "           y=\"revenue\",\n",
    "           hover_name=\"title\",\n",
    "           labels={\"revenue\": \"Movie Revenue [US$]\",\n",
    "                   \"non_white_count\":\"POC on screen count\"}, color_discrete_sequence=['rgb(255,185,15)']\n",
    "          )"
   ]
  },
  {
   "cell_type": "code",
   "execution_count": 923,
   "id": "412c5bfd",
   "metadata": {},
   "outputs": [],
   "source": [
    "import plotly.graph_objects as go\n",
    "import plotly.subplots as sp\n",
    "\n",
    "def overall_race_dash(df_evo):\n",
    "    \n",
    "    df_evo[\"non_white_count\"] = df_evo[['total_asian', 'total_black', 'total_indian', 'total_latino_hispanic',\n",
    "       'total_middle_eastern']].sum(axis=1)\n",
    "    \n",
    "    df_evo[\"non_white_count_percent\"] = df_evo[\"non_white_count\"] / df_evo[\"total_white\"]\n",
    "\n",
    "\n",
    "    # Create figures in Express\n",
    "    figure2 = plot_race_timeline(df_evo,plot_type=\"bar\",step=10)\n",
    "    \n",
    "    figure1 = px.scatter(df_evo,\n",
    "           x=\"non_white_count\",\n",
    "           y=\"revenue\",\n",
    "           hover_name=\"title\",\n",
    "           labels={\"revenue\": \"Movie Revenue [US$]\",\n",
    "                   \"non_white_count\":\"POC on screen count\"}, color_discrete_sequence=['rgb(255,185,15)']\n",
    "          )\n",
    "\n",
    "    # For as many traces that exist per Express figure, get the traces from each plot and store them in an array.\n",
    "    # This is essentially breaking down the Express fig into it's traces\n",
    "\n",
    "    figure1_traces = []\n",
    "    figure2_traces = []\n",
    "\n",
    "\n",
    "    for trace in range(len(figure1[\"data\"])):\n",
    "        figure1_traces.append(figure1[\"data\"][trace])\n",
    "\n",
    "    for trace in range(len(figure2[\"data\"])):\n",
    "        figure2_traces.append(figure2[\"data\"][trace])\n",
    "\n",
    "    #Create a 1x2 subplot\n",
    "    this_figure = sp.make_subplots(rows=1, cols=2, specs=[[{}, {}]]) \n",
    "\n",
    "    # Get the Express fig broken down as traces and add the traces to the proper plot within in the subplot\n",
    "    for traces in figure1_traces:\n",
    "        this_figure.append_trace(traces, row=1, col=1)\n",
    "\n",
    "    for traces in figure2_traces:\n",
    "        this_figure.append_trace(traces, row=1, col=2)\n",
    "\n",
    "\n",
    "    this_figure.update_layout(height=500, width=1100)\n",
    "    this_figure.update_layout(uniformtext_minsize=15)\n",
    "\n",
    "    this_figure.update_layout(\n",
    "        title_text=f\"Number of POC VS. revenue                                  Screenttime percentage evoultion\")\n",
    "        # Add annotations in the center of the donut pies\n",
    "\n",
    "    #the subplot as shown in the above image\n",
    "    return this_figure"
   ]
  },
  {
   "cell_type": "code",
   "execution_count": 924,
   "id": "412e71e1",
   "metadata": {},
   "outputs": [
    {
     "data": {
      "application/vnd.plotly.v1+json": {
       "config": {
        "plotlyServerURL": "https://plot.ly"
       },
       "data": [
        {
         "hovertemplate": "<b>%{hovertext}</b><br><br>POC on screen count=%{x}<br>Movie Revenue [US$]=%{y}<extra></extra>",
         "hovertext": [
          "The_Hunchback_of_Notre_Dame_(1923)",
          "The_Lost_World_(1925)",
          "Dr._Jekyll_and_Mr._Hyde_(1931)",
          "Frankenstein_(1931)",
          "White_Zombie_(1932)",
          "Son_of_Frankenstein_(1939)",
          "The_Wolf_Man_(1941)",
          "The_Mummy's_Tomb_(1942)",
          "Abbott_and_Costello_Meet_Frankenstein_(1948)",
          "Anne_of_the_Indies_(1951)",
          "Roman_Holiday_(1953)",
          "Abbott_and_Costello_Meet_the_Mummy_(1955)",
          "This_Island_Earth_(1955)",
          "Vertigo_(1958)",
          "Psycho_(1960)",
          "Cape_Fear_(1962)",
          "To_Kill_a_Mockingbird_(1962)",
          "Doctor_Zhivago_(1965)",
          "Bonnie_and_Clyde_(1967)",
          "The_Love_Bug_(1968)",
          "Willy_Wonka_&_the_Chocolate_Factory_(1971)",
          "The_Million_Dollar_Duck_(1971)",
          "The_Godfather:_Part_II_(1974)",
          "Carrie_(1976)",
          "Superman_(1978)",
          "The_Black_Hole_(1979)",
          "Superman_II_(1980)",
          "Raiders_of_the_Lost_Ark_(1981)",
          "Trading_Places_(1983)",
          "Supergirl_(1984)",
          "A_Nightmare_on_Elm_Street_(1984)",
          "Stand_by_Me_(1986)",
          "The_Princess_Bride_(1987)",
          "A_Nightmare_on_Elm_Street_3:_Dream_Warriors_(1987)",
          "Masters_of_the_Universe_(1987)",
          "Killer_Klowns_from_Outer_Space_(1988)",
          "Honey,_I_Shrunk_the_Kids_(1989)",
          "Dances_with_Wolves_(1990)",
          "The_Godfather:_Part_III_(1990)",
          "Edward_Scissorhands_(1990)",
          "Ernest_Scared_Stupid_(1991)",
          "The_Remains_of_the_Day_(1993)",
          "Pulp_Fiction_(1994)",
          "The_Jungle_Book_(1994)",
          "Ace_Ventura:_Pet_Detective_(1994)",
          "Casper_(1995)",
          "Ace_Ventura:_When_Nature_Calls_(1995)",
          "Star_Trek:_First_Contact_(1996)",
          "Bound_(1996)",
          "Homeward_Bound_II:_Lost_in_San_Francisco_(1996)",
          "Titanic_(1997)",
          "The_Night_Flier_(1997)",
          "Madeline_(1998)",
          "Halloweentown_(1998)",
          "Sleepy_Hollow_(1999)",
          "The_Ninth_Gate_(1999)",
          "102_Dalmatians_(2000)",
          "X-Men_(2000)",
          "Air_Bud_3:_World_Pup_(2001)",
          "Harry_Potter_and_the_Sorcerer's_Stone_(2001)",
          "Osmosis_Jones_(2001)",
          "Planet_of_the_Apes_(2001)",
          "Stuart_Little_2_(2002)",
          "Men_in_Black_II_(2002)",
          "Austin_Powers_in_Goldmember_(2002)",
          "Sweet_Home_Alabama_(2002)",
          "The_Haunted_Mansion_(2003)",
          "Master_and_Commander:_The_Far_Side_of_the_World_(2003)",
          "Ginger_Snaps_2:_Unleashed_(2004)",
          "Fat_Albert_(2004)",
          "Troy_(2004)",
          "The_Princess_Diaries_2:_Royal_Engagement_(2004)",
          "The_Punisher_(2004)",
          "Van_Helsing_(2004)",
          "King_Kong_(2005)",
          "Harry_Potter_and_the_Goblet_of_Fire_(2005)",
          "Elektra_(2005)",
          "Herbie_Fully_Loaded_(2005)",
          "Nanny_McPhee_(2005)",
          "The_Shaggy_Dog_(2006)",
          "Night_at_the_Museum_(2006)",
          "Underworld:_Evolution_(2006)",
          "Zoom_(2006)",
          "Abominable_(2006)",
          "300_(2006)",
          "Air_Buddies_(2006)",
          "Fantastic_4:_Rise_of_the_Silver_Surfer_(2007)",
          "Mr._Bean's_Holiday_(2007)",
          "Juno_(2007)",
          "Bridge_to_Terabithia_(2007)",
          "Sex_and_the_City_(2008)",
          "Hancock_(2008)",
          "Indiana_Jones_and_the_Kingdom_of_the_Crystal_Skull_(2008)",
          "Inkheart_(2008)",
          "Anne_of_Green_Gables:_A_New_Beginning_(2008)",
          "Nim's_Island_(2008)",
          "A_Perfect_Getaway_(2009)",
          "Hannah_Montana:_The_Movie_(2009)",
          "2012_(2009)",
          "Push_(2009)",
          "G.I._Joe:_The_Rise_of_Cobra_(2009)",
          "Chatroom_(2010)",
          "The_A-Team_(2010)",
          "Cats_&_Dogs:_The_Revenge_of_Kitty_Galore_(2010)",
          "Camp_Rock_2:_The_Final_Jam_(2010)",
          "The_Sorcerer's_Apprentice_(2010)",
          "RED_(2010)",
          "Soul_Surfer_(2011)",
          "The_Phantom_of_the_Opera_at_the_Royal_Albert_Hall_(2011)",
          "There_Be_Dragons_(2011)",
          "Diary_of_a_Wimpy_Kid:_Rodrick_Rules_(2011)",
          "My_Week_with_Marilyn_(2011)",
          "Transformers:_Dark_of_the_Moon_(2011)",
          "Hugo_(2011)",
          "Super_Shark_(2011)",
          "Harry_Potter_and_the_Deathly_Hallows:_Part_2_(2011)",
          "Underworld:_Awakening_(2012)",
          "John_Carter_(2012)",
          "Diary_of_a_Wimpy_Kid:_Dog_Days_(2012)",
          "Trouble_with_the_Curve_(2012)",
          "Lincoln_(2012)",
          "An_American_Girl:_McKenna_Shoots_for_the_Stars_(2012)",
          "Life_of_Pi_(2012)",
          "The_Expendables_2_(2012)",
          "Red_Dawn_(2012)",
          "Hansel_&_Gretel:_Witch_Hunters_(2013)",
          "Enemy_(2013)",
          "Sharknado_(2013)",
          "The_Wolf_of_Wall_Street_(2013)",
          "Walking_with_Dinosaurs_(2013)",
          "Paranormal_Movie_(2013)",
          "Beautiful_Creatures_(2013)",
          "Iron_Man_Three_(2013)_[4K]",
          "The_Lone_Ranger_(2013)",
          "Unbroken_(2014)",
          "X-Men:_Days_of_Future_Past_(2014)",
          "Need_for_Speed_(2014)",
          "Muppets_Most_Wanted_(2014)",
          "The_Inbetweeners_2_(2014)",
          "Big_Eyes_(2014)",
          "The_Giver_(2014)",
          "Teenage_Mutant_Ninja_Turtles_(2014)",
          "Pitch_Perfect_2_(2015)",
          "Avengers:_Age_of_Ultron_(2015)",
          "Fantastic_Four_(2015)",
          "Miss_Peregrine's_Home_for_Peculiar_Children_(2016)",
          "10_Cloverfield_Lane_(2016)",
          "Sausage_Party_(2016)",
          "The_Shallows_(2016)",
          "Deadpool_(2016)",
          "Suicide_Squad_(2016)",
          "Justice_League_(2017)",
          "War_for_the_Planet_of_the_Apes_(2017)",
          "Ghost_in_the_Shell_(2017)",
          "Deadpool_2_(2018)",
          "A_Quiet_Place_(2018)",
          "Mamma_Mia!_Here_We_Go_Again_(2018)",
          "Mary_Poppins_Returns_(2018)",
          "Bumblebee_(2018)",
          "Black_Panther_(2018)",
          "Scary_Stories_to_Tell_in_the_Dark_(2019)"
         ],
         "legendgroup": "",
         "marker": {
          "color": "rgb(255,185,15)",
          "symbol": "circle"
         },
         "mode": "markers",
         "name": "",
         "orientation": "v",
         "showlegend": false,
         "type": "scatter",
         "x": [
          197,
          332,
          400,
          364,
          115,
          775,
          335,
          313,
          516,
          2066,
          1467,
          839,
          1483,
          1004,
          839,
          816,
          1984,
          3539,
          953,
          1611,
          958,
          1034,
          4172,
          651,
          645,
          684,
          1282,
          1414,
          2425,
          403,
          938,
          1024,
          1051,
          899,
          581,
          437,
          638,
          2316,
          5734,
          665,
          690,
          1542,
          2579,
          988,
          1161,
          445,
          3319,
          1635,
          367,
          127,
          1275,
          496,
          1047,
          367,
          611,
          825,
          318,
          567,
          900,
          2586,
          204,
          620,
          366,
          1805,
          3853,
          765,
          2012,
          924,
          230,
          5003,
          1725,
          2331,
          885,
          797,
          1774,
          3079,
          420,
          529,
          611,
          1096,
          1181,
          111,
          875,
          331,
          2195,
          284,
          1092,
          1529,
          656,
          733,
          1089,
          1253,
          1258,
          906,
          472,
          526,
          763,
          2099,
          2441,
          1351,
          1202,
          661,
          1080,
          110,
          2202,
          740,
          655,
          1333,
          2598,
          1375,
          1893,
          431,
          1245,
          1266,
          504,
          2004,
          528,
          1285,
          1211,
          1266,
          3626,
          378,
          2187,
          1283,
          1479,
          836,
          442,
          799,
          4567,
          22,
          321,
          1731,
          2707,
          1270,
          1671,
          995,
          851,
          1345,
          821,
          1138,
          582,
          365,
          3148,
          926,
          752,
          548,
          470,
          50,
          154,
          622,
          853,
          733,
          566,
          512,
          914,
          472,
          2386,
          912,
          951,
          3793,
          570
         ],
         "xaxis": "x",
         "y": [
          0,
          0,
          1300000,
          12000000,
          0,
          0,
          0,
          0,
          4812444,
          0,
          12000000,
          0,
          1700000,
          7797728,
          32000000,
          103000000,
          13129846,
          111858363,
          50700000,
          0,
          4000000,
          0,
          102600000,
          33800000,
          300218018,
          35841901,
          190458706,
          389925971,
          90404800,
          14296438,
          57000000,
          52287414,
          30861665,
          44793222,
          17336370,
          43625095,
          222724172,
          424208848,
          136766062,
          53000000,
          0,
          23237911,
          214179088,
          43,
          107217396,
          287928194,
          212385533,
          150000000,
          7011317,
          32709423,
          2187463944,
          91549,
          30000000,
          0,
          206071502,
          58401898,
          183611771,
          296339527,
          0,
          976475550,
          13596911,
          362211740,
          169956806,
          445135288,
          296655431,
          180622424,
          182290266,
          212011111,
          0,
          48563556,
          497409852,
          134734481,
          54700105,
          300257475,
          562363449,
          895921036,
          56681566,
          66002004,
          123276807,
          87134280,
          574480841,
          111476513,
          12506188,
          1810000,
          0,
          0,
          301913131,
          232225908,
          231411584,
          137587063,
          415252786,
          629443428,
          786636033,
          62803180,
          0,
          100076342,
          22852638,
          155545279,
          791217826,
          45465299,
          302469017,
          0,
          177238796,
          112483764,
          0,
          215283742,
          71664962,
          47088990,
          0,
          0,
          72526996,
          35057696,
          1123794079,
          185770160,
          0,
          1341511219,
          160112671,
          284139100,
          76196538,
          0,
          116471580,
          0,
          609016565,
          314975955,
          44806783,
          226349749,
          3396726,
          0,
          392000000,
          126546518,
          0,
          60052138,
          1214811252,
          260502115,
          163442937,
          747862775,
          203277636,
          80383290,
          0,
          28883511,
          66980456,
          477200000,
          287506194,
          1405403694,
          167977596,
          296482446,
          108286421,
          140705322,
          119100758,
          783100000,
          746846894,
          657924295,
          488533726,
          169801921,
          786365638,
          340677200,
          395044706,
          348807090,
          467989645,
          1346739107,
          95438172
         ],
         "yaxis": "y"
        },
        {
         "alignmentgroup": "True",
         "hovertemplate": "variable=asian_screentime<br>=%{x}<br>Screentime [%]=%{y}<extra></extra>",
         "legendgroup": "asian_screentime",
         "marker": {
          "color": "#636efa",
          "opacity": 0.5,
          "pattern": {
           "shape": ""
          }
         },
         "name": "asian_screentime",
         "offsetgroup": "asian_screentime",
         "orientation": "v",
         "showlegend": true,
         "textposition": "auto",
         "type": "bar",
         "x": [
          "1960-01-01T00:00:00",
          "1980-01-01T00:00:00",
          "1990-01-01T00:00:00",
          "2000-01-01T00:00:00",
          "2010-01-01T00:00:00"
         ],
         "xaxis": "x2",
         "y": [
          3.7778495318049727,
          7.576601671309192,
          9.210025647356792,
          4.886819624852308,
          6.698524262100764
         ],
         "yaxis": "y2"
        },
        {
         "alignmentgroup": "True",
         "hovertemplate": "variable=black_screentime<br>=%{x}<br>Screentime [%]=%{y}<extra></extra>",
         "legendgroup": "black_screentime",
         "marker": {
          "color": "#EF553B",
          "opacity": 0.5,
          "pattern": {
           "shape": ""
          }
         },
         "name": "black_screentime",
         "offsetgroup": "black_screentime",
         "orientation": "v",
         "showlegend": true,
         "textposition": "auto",
         "type": "bar",
         "x": [
          "1960-01-01T00:00:00",
          "1980-01-01T00:00:00",
          "1990-01-01T00:00:00",
          "2000-01-01T00:00:00",
          "2010-01-01T00:00:00"
         ],
         "xaxis": "x2",
         "y": [
          0.7103648692282855,
          2.414113277623027,
          5.270071032661568,
          2.7601931229214562,
          5.703600490814103
         ],
         "yaxis": "y2"
        },
        {
         "alignmentgroup": "True",
         "hovertemplate": "variable=indian_screentime<br>=%{x}<br>Screentime [%]=%{y}<extra></extra>",
         "legendgroup": "indian_screentime",
         "marker": {
          "color": "#00cc96",
          "opacity": 0.5,
          "pattern": {
           "shape": ""
          }
         },
         "name": "indian_screentime",
         "offsetgroup": "indian_screentime",
         "orientation": "v",
         "showlegend": true,
         "textposition": "auto",
         "type": "bar",
         "x": [
          "1960-01-01T00:00:00",
          "1980-01-01T00:00:00",
          "1990-01-01T00:00:00",
          "2000-01-01T00:00:00",
          "2010-01-01T00:00:00"
         ],
         "xaxis": "x2",
         "y": [
          2.389409105586051,
          2.1355617455896008,
          4.536001269557588,
          1.631031788274464,
          2.551602087956208
         ],
         "yaxis": "y2"
        },
        {
         "alignmentgroup": "True",
         "hovertemplate": "variable=latino_hispanic_screentime<br>=%{x}<br>Screentime [%]=%{y}<extra></extra>",
         "legendgroup": "latino_hispanic_screentime",
         "marker": {
          "color": "#ab63fa",
          "opacity": 0.5,
          "pattern": {
           "shape": ""
          }
         },
         "name": "latino_hispanic_screentime",
         "offsetgroup": "latino_hispanic_screentime",
         "orientation": "v",
         "showlegend": true,
         "textposition": "auto",
         "type": "bar",
         "x": [
          "1960-01-01T00:00:00",
          "1980-01-01T00:00:00",
          "1990-01-01T00:00:00",
          "2000-01-01T00:00:00",
          "2010-01-01T00:00:00"
         ],
         "xaxis": "x2",
         "y": [
          14.982240878269293,
          7.205199628597956,
          11.06448524418734,
          5.189612281953426,
          7.663014976445017
         ],
         "yaxis": "y2"
        },
        {
         "alignmentgroup": "True",
         "hovertemplate": "variable=middle_eastern_screentime<br>=%{x}<br>Screentime [%]=%{y}<extra></extra>",
         "legendgroup": "middle_eastern_screentime",
         "marker": {
          "color": "#FFA15A",
          "opacity": 0.5,
          "pattern": {
           "shape": ""
          }
         },
         "name": "middle_eastern_screentime",
         "offsetgroup": "middle_eastern_screentime",
         "orientation": "v",
         "showlegend": true,
         "textposition": "auto",
         "type": "bar",
         "x": [
          "1960-01-01T00:00:00",
          "1980-01-01T00:00:00",
          "1990-01-01T00:00:00",
          "2000-01-01T00:00:00",
          "2010-01-01T00:00:00"
         ],
         "xaxis": "x2",
         "y": [
          5.230868582499193,
          4.47539461467038,
          4.874685350472506,
          3.5158771502666957,
          3.464377114950803
         ],
         "yaxis": "y2"
        },
        {
         "alignmentgroup": "True",
         "hovertemplate": "variable=white_screentime<br>=%{x}<br>Screentime [%]=%{y}<extra></extra>",
         "legendgroup": "white_screentime",
         "marker": {
          "color": "#19d3f3",
          "opacity": 0.5,
          "pattern": {
           "shape": ""
          }
         },
         "name": "white_screentime",
         "offsetgroup": "white_screentime",
         "orientation": "v",
         "showlegend": true,
         "textposition": "auto",
         "type": "bar",
         "x": [
          "1960-01-01T00:00:00",
          "1980-01-01T00:00:00",
          "1990-01-01T00:00:00",
          "2000-01-01T00:00:00",
          "2010-01-01T00:00:00"
         ],
         "xaxis": "x2",
         "y": [
          72.9092670326122,
          76.19312906220983,
          65.04473145576421,
          82.01646603173165,
          73.9188810677331
         ],
         "yaxis": "y2"
        },
        {
         "alignmentgroup": "True",
         "hovertemplate": "variable=women_of_color<br>=%{x}<br>Screentime [%]=%{y}<extra></extra>",
         "legendgroup": "women_of_color",
         "marker": {
          "color": "#FF6692",
          "opacity": 0.5,
          "pattern": {
           "shape": ""
          }
         },
         "name": "women_of_color",
         "offsetgroup": "women_of_color",
         "orientation": "v",
         "showlegend": true,
         "textposition": "auto",
         "type": "bar",
         "x": [
          "1960-01-01T00:00:00",
          "1980-01-01T00:00:00",
          "1990-01-01T00:00:00",
          "2000-01-01T00:00:00",
          "2010-01-01T00:00:00"
         ],
         "xaxis": "x2",
         "y": [
          3.923948220064725,
          0.6775067750677507,
          1.5835077150537078,
          1.3789060637841446,
          3.133156092940833
         ],
         "yaxis": "y2"
        }
       ],
       "layout": {
        "height": 500,
        "template": {
         "data": {
          "bar": [
           {
            "error_x": {
             "color": "#2a3f5f"
            },
            "error_y": {
             "color": "#2a3f5f"
            },
            "marker": {
             "line": {
              "color": "#E5ECF6",
              "width": 0.5
             },
             "pattern": {
              "fillmode": "overlay",
              "size": 10,
              "solidity": 0.2
             }
            },
            "type": "bar"
           }
          ],
          "barpolar": [
           {
            "marker": {
             "line": {
              "color": "#E5ECF6",
              "width": 0.5
             },
             "pattern": {
              "fillmode": "overlay",
              "size": 10,
              "solidity": 0.2
             }
            },
            "type": "barpolar"
           }
          ],
          "carpet": [
           {
            "aaxis": {
             "endlinecolor": "#2a3f5f",
             "gridcolor": "white",
             "linecolor": "white",
             "minorgridcolor": "white",
             "startlinecolor": "#2a3f5f"
            },
            "baxis": {
             "endlinecolor": "#2a3f5f",
             "gridcolor": "white",
             "linecolor": "white",
             "minorgridcolor": "white",
             "startlinecolor": "#2a3f5f"
            },
            "type": "carpet"
           }
          ],
          "choropleth": [
           {
            "colorbar": {
             "outlinewidth": 0,
             "ticks": ""
            },
            "type": "choropleth"
           }
          ],
          "contour": [
           {
            "colorbar": {
             "outlinewidth": 0,
             "ticks": ""
            },
            "colorscale": [
             [
              0,
              "#0d0887"
             ],
             [
              0.1111111111111111,
              "#46039f"
             ],
             [
              0.2222222222222222,
              "#7201a8"
             ],
             [
              0.3333333333333333,
              "#9c179e"
             ],
             [
              0.4444444444444444,
              "#bd3786"
             ],
             [
              0.5555555555555556,
              "#d8576b"
             ],
             [
              0.6666666666666666,
              "#ed7953"
             ],
             [
              0.7777777777777778,
              "#fb9f3a"
             ],
             [
              0.8888888888888888,
              "#fdca26"
             ],
             [
              1,
              "#f0f921"
             ]
            ],
            "type": "contour"
           }
          ],
          "contourcarpet": [
           {
            "colorbar": {
             "outlinewidth": 0,
             "ticks": ""
            },
            "type": "contourcarpet"
           }
          ],
          "heatmap": [
           {
            "colorbar": {
             "outlinewidth": 0,
             "ticks": ""
            },
            "colorscale": [
             [
              0,
              "#0d0887"
             ],
             [
              0.1111111111111111,
              "#46039f"
             ],
             [
              0.2222222222222222,
              "#7201a8"
             ],
             [
              0.3333333333333333,
              "#9c179e"
             ],
             [
              0.4444444444444444,
              "#bd3786"
             ],
             [
              0.5555555555555556,
              "#d8576b"
             ],
             [
              0.6666666666666666,
              "#ed7953"
             ],
             [
              0.7777777777777778,
              "#fb9f3a"
             ],
             [
              0.8888888888888888,
              "#fdca26"
             ],
             [
              1,
              "#f0f921"
             ]
            ],
            "type": "heatmap"
           }
          ],
          "heatmapgl": [
           {
            "colorbar": {
             "outlinewidth": 0,
             "ticks": ""
            },
            "colorscale": [
             [
              0,
              "#0d0887"
             ],
             [
              0.1111111111111111,
              "#46039f"
             ],
             [
              0.2222222222222222,
              "#7201a8"
             ],
             [
              0.3333333333333333,
              "#9c179e"
             ],
             [
              0.4444444444444444,
              "#bd3786"
             ],
             [
              0.5555555555555556,
              "#d8576b"
             ],
             [
              0.6666666666666666,
              "#ed7953"
             ],
             [
              0.7777777777777778,
              "#fb9f3a"
             ],
             [
              0.8888888888888888,
              "#fdca26"
             ],
             [
              1,
              "#f0f921"
             ]
            ],
            "type": "heatmapgl"
           }
          ],
          "histogram": [
           {
            "marker": {
             "pattern": {
              "fillmode": "overlay",
              "size": 10,
              "solidity": 0.2
             }
            },
            "type": "histogram"
           }
          ],
          "histogram2d": [
           {
            "colorbar": {
             "outlinewidth": 0,
             "ticks": ""
            },
            "colorscale": [
             [
              0,
              "#0d0887"
             ],
             [
              0.1111111111111111,
              "#46039f"
             ],
             [
              0.2222222222222222,
              "#7201a8"
             ],
             [
              0.3333333333333333,
              "#9c179e"
             ],
             [
              0.4444444444444444,
              "#bd3786"
             ],
             [
              0.5555555555555556,
              "#d8576b"
             ],
             [
              0.6666666666666666,
              "#ed7953"
             ],
             [
              0.7777777777777778,
              "#fb9f3a"
             ],
             [
              0.8888888888888888,
              "#fdca26"
             ],
             [
              1,
              "#f0f921"
             ]
            ],
            "type": "histogram2d"
           }
          ],
          "histogram2dcontour": [
           {
            "colorbar": {
             "outlinewidth": 0,
             "ticks": ""
            },
            "colorscale": [
             [
              0,
              "#0d0887"
             ],
             [
              0.1111111111111111,
              "#46039f"
             ],
             [
              0.2222222222222222,
              "#7201a8"
             ],
             [
              0.3333333333333333,
              "#9c179e"
             ],
             [
              0.4444444444444444,
              "#bd3786"
             ],
             [
              0.5555555555555556,
              "#d8576b"
             ],
             [
              0.6666666666666666,
              "#ed7953"
             ],
             [
              0.7777777777777778,
              "#fb9f3a"
             ],
             [
              0.8888888888888888,
              "#fdca26"
             ],
             [
              1,
              "#f0f921"
             ]
            ],
            "type": "histogram2dcontour"
           }
          ],
          "mesh3d": [
           {
            "colorbar": {
             "outlinewidth": 0,
             "ticks": ""
            },
            "type": "mesh3d"
           }
          ],
          "parcoords": [
           {
            "line": {
             "colorbar": {
              "outlinewidth": 0,
              "ticks": ""
             }
            },
            "type": "parcoords"
           }
          ],
          "pie": [
           {
            "automargin": true,
            "type": "pie"
           }
          ],
          "scatter": [
           {
            "marker": {
             "colorbar": {
              "outlinewidth": 0,
              "ticks": ""
             }
            },
            "type": "scatter"
           }
          ],
          "scatter3d": [
           {
            "line": {
             "colorbar": {
              "outlinewidth": 0,
              "ticks": ""
             }
            },
            "marker": {
             "colorbar": {
              "outlinewidth": 0,
              "ticks": ""
             }
            },
            "type": "scatter3d"
           }
          ],
          "scattercarpet": [
           {
            "marker": {
             "colorbar": {
              "outlinewidth": 0,
              "ticks": ""
             }
            },
            "type": "scattercarpet"
           }
          ],
          "scattergeo": [
           {
            "marker": {
             "colorbar": {
              "outlinewidth": 0,
              "ticks": ""
             }
            },
            "type": "scattergeo"
           }
          ],
          "scattergl": [
           {
            "marker": {
             "colorbar": {
              "outlinewidth": 0,
              "ticks": ""
             }
            },
            "type": "scattergl"
           }
          ],
          "scattermapbox": [
           {
            "marker": {
             "colorbar": {
              "outlinewidth": 0,
              "ticks": ""
             }
            },
            "type": "scattermapbox"
           }
          ],
          "scatterpolar": [
           {
            "marker": {
             "colorbar": {
              "outlinewidth": 0,
              "ticks": ""
             }
            },
            "type": "scatterpolar"
           }
          ],
          "scatterpolargl": [
           {
            "marker": {
             "colorbar": {
              "outlinewidth": 0,
              "ticks": ""
             }
            },
            "type": "scatterpolargl"
           }
          ],
          "scatterternary": [
           {
            "marker": {
             "colorbar": {
              "outlinewidth": 0,
              "ticks": ""
             }
            },
            "type": "scatterternary"
           }
          ],
          "surface": [
           {
            "colorbar": {
             "outlinewidth": 0,
             "ticks": ""
            },
            "colorscale": [
             [
              0,
              "#0d0887"
             ],
             [
              0.1111111111111111,
              "#46039f"
             ],
             [
              0.2222222222222222,
              "#7201a8"
             ],
             [
              0.3333333333333333,
              "#9c179e"
             ],
             [
              0.4444444444444444,
              "#bd3786"
             ],
             [
              0.5555555555555556,
              "#d8576b"
             ],
             [
              0.6666666666666666,
              "#ed7953"
             ],
             [
              0.7777777777777778,
              "#fb9f3a"
             ],
             [
              0.8888888888888888,
              "#fdca26"
             ],
             [
              1,
              "#f0f921"
             ]
            ],
            "type": "surface"
           }
          ],
          "table": [
           {
            "cells": {
             "fill": {
              "color": "#EBF0F8"
             },
             "line": {
              "color": "white"
             }
            },
            "header": {
             "fill": {
              "color": "#C8D4E3"
             },
             "line": {
              "color": "white"
             }
            },
            "type": "table"
           }
          ]
         },
         "layout": {
          "annotationdefaults": {
           "arrowcolor": "#2a3f5f",
           "arrowhead": 0,
           "arrowwidth": 1
          },
          "autotypenumbers": "strict",
          "coloraxis": {
           "colorbar": {
            "outlinewidth": 0,
            "ticks": ""
           }
          },
          "colorscale": {
           "diverging": [
            [
             0,
             "#8e0152"
            ],
            [
             0.1,
             "#c51b7d"
            ],
            [
             0.2,
             "#de77ae"
            ],
            [
             0.3,
             "#f1b6da"
            ],
            [
             0.4,
             "#fde0ef"
            ],
            [
             0.5,
             "#f7f7f7"
            ],
            [
             0.6,
             "#e6f5d0"
            ],
            [
             0.7,
             "#b8e186"
            ],
            [
             0.8,
             "#7fbc41"
            ],
            [
             0.9,
             "#4d9221"
            ],
            [
             1,
             "#276419"
            ]
           ],
           "sequential": [
            [
             0,
             "#0d0887"
            ],
            [
             0.1111111111111111,
             "#46039f"
            ],
            [
             0.2222222222222222,
             "#7201a8"
            ],
            [
             0.3333333333333333,
             "#9c179e"
            ],
            [
             0.4444444444444444,
             "#bd3786"
            ],
            [
             0.5555555555555556,
             "#d8576b"
            ],
            [
             0.6666666666666666,
             "#ed7953"
            ],
            [
             0.7777777777777778,
             "#fb9f3a"
            ],
            [
             0.8888888888888888,
             "#fdca26"
            ],
            [
             1,
             "#f0f921"
            ]
           ],
           "sequentialminus": [
            [
             0,
             "#0d0887"
            ],
            [
             0.1111111111111111,
             "#46039f"
            ],
            [
             0.2222222222222222,
             "#7201a8"
            ],
            [
             0.3333333333333333,
             "#9c179e"
            ],
            [
             0.4444444444444444,
             "#bd3786"
            ],
            [
             0.5555555555555556,
             "#d8576b"
            ],
            [
             0.6666666666666666,
             "#ed7953"
            ],
            [
             0.7777777777777778,
             "#fb9f3a"
            ],
            [
             0.8888888888888888,
             "#fdca26"
            ],
            [
             1,
             "#f0f921"
            ]
           ]
          },
          "colorway": [
           "#636efa",
           "#EF553B",
           "#00cc96",
           "#ab63fa",
           "#FFA15A",
           "#19d3f3",
           "#FF6692",
           "#B6E880",
           "#FF97FF",
           "#FECB52"
          ],
          "font": {
           "color": "#2a3f5f"
          },
          "geo": {
           "bgcolor": "white",
           "lakecolor": "white",
           "landcolor": "#E5ECF6",
           "showlakes": true,
           "showland": true,
           "subunitcolor": "white"
          },
          "hoverlabel": {
           "align": "left"
          },
          "hovermode": "closest",
          "mapbox": {
           "style": "light"
          },
          "paper_bgcolor": "white",
          "plot_bgcolor": "#E5ECF6",
          "polar": {
           "angularaxis": {
            "gridcolor": "white",
            "linecolor": "white",
            "ticks": ""
           },
           "bgcolor": "#E5ECF6",
           "radialaxis": {
            "gridcolor": "white",
            "linecolor": "white",
            "ticks": ""
           }
          },
          "scene": {
           "xaxis": {
            "backgroundcolor": "#E5ECF6",
            "gridcolor": "white",
            "gridwidth": 2,
            "linecolor": "white",
            "showbackground": true,
            "ticks": "",
            "zerolinecolor": "white"
           },
           "yaxis": {
            "backgroundcolor": "#E5ECF6",
            "gridcolor": "white",
            "gridwidth": 2,
            "linecolor": "white",
            "showbackground": true,
            "ticks": "",
            "zerolinecolor": "white"
           },
           "zaxis": {
            "backgroundcolor": "#E5ECF6",
            "gridcolor": "white",
            "gridwidth": 2,
            "linecolor": "white",
            "showbackground": true,
            "ticks": "",
            "zerolinecolor": "white"
           }
          },
          "shapedefaults": {
           "line": {
            "color": "#2a3f5f"
           }
          },
          "ternary": {
           "aaxis": {
            "gridcolor": "white",
            "linecolor": "white",
            "ticks": ""
           },
           "baxis": {
            "gridcolor": "white",
            "linecolor": "white",
            "ticks": ""
           },
           "bgcolor": "#E5ECF6",
           "caxis": {
            "gridcolor": "white",
            "linecolor": "white",
            "ticks": ""
           }
          },
          "title": {
           "x": 0.05
          },
          "xaxis": {
           "automargin": true,
           "gridcolor": "white",
           "linecolor": "white",
           "ticks": "",
           "title": {
            "standoff": 15
           },
           "zerolinecolor": "white",
           "zerolinewidth": 2
          },
          "yaxis": {
           "automargin": true,
           "gridcolor": "white",
           "linecolor": "white",
           "ticks": "",
           "title": {
            "standoff": 15
           },
           "zerolinecolor": "white",
           "zerolinewidth": 2
          }
         }
        },
        "title": {
         "text": "Number of POC VS. revenue                                  Screenttime percentage evoultion"
        },
        "uniformtext": {
         "minsize": 15
        },
        "width": 1100,
        "xaxis": {
         "anchor": "y",
         "domain": [
          0,
          0.45
         ]
        },
        "xaxis2": {
         "anchor": "y2",
         "domain": [
          0.55,
          1
         ]
        },
        "yaxis": {
         "anchor": "x",
         "domain": [
          0,
          1
         ]
        },
        "yaxis2": {
         "anchor": "x2",
         "domain": [
          0,
          1
         ]
        }
       }
      },
      "text/html": [
       "<div>                            <div id=\"d53aa6e1-04d0-432a-8723-e81f52cc378e\" class=\"plotly-graph-div\" style=\"height:500px; width:1100px;\"></div>            <script type=\"text/javascript\">                require([\"plotly\"], function(Plotly) {                    window.PLOTLYENV=window.PLOTLYENV || {};                                    if (document.getElementById(\"d53aa6e1-04d0-432a-8723-e81f52cc378e\")) {                    Plotly.newPlot(                        \"d53aa6e1-04d0-432a-8723-e81f52cc378e\",                        [{\"hovertemplate\":\"<b>%{hovertext}</b><br><br>POC on screen count=%{x}<br>Movie Revenue [US$]=%{y}<extra></extra>\",\"hovertext\":[\"The_Hunchback_of_Notre_Dame_(1923)\",\"The_Lost_World_(1925)\",\"Dr._Jekyll_and_Mr._Hyde_(1931)\",\"Frankenstein_(1931)\",\"White_Zombie_(1932)\",\"Son_of_Frankenstein_(1939)\",\"The_Wolf_Man_(1941)\",\"The_Mummy's_Tomb_(1942)\",\"Abbott_and_Costello_Meet_Frankenstein_(1948)\",\"Anne_of_the_Indies_(1951)\",\"Roman_Holiday_(1953)\",\"Abbott_and_Costello_Meet_the_Mummy_(1955)\",\"This_Island_Earth_(1955)\",\"Vertigo_(1958)\",\"Psycho_(1960)\",\"Cape_Fear_(1962)\",\"To_Kill_a_Mockingbird_(1962)\",\"Doctor_Zhivago_(1965)\",\"Bonnie_and_Clyde_(1967)\",\"The_Love_Bug_(1968)\",\"Willy_Wonka_&_the_Chocolate_Factory_(1971)\",\"The_Million_Dollar_Duck_(1971)\",\"The_Godfather:_Part_II_(1974)\",\"Carrie_(1976)\",\"Superman_(1978)\",\"The_Black_Hole_(1979)\",\"Superman_II_(1980)\",\"Raiders_of_the_Lost_Ark_(1981)\",\"Trading_Places_(1983)\",\"Supergirl_(1984)\",\"A_Nightmare_on_Elm_Street_(1984)\",\"Stand_by_Me_(1986)\",\"The_Princess_Bride_(1987)\",\"A_Nightmare_on_Elm_Street_3:_Dream_Warriors_(1987)\",\"Masters_of_the_Universe_(1987)\",\"Killer_Klowns_from_Outer_Space_(1988)\",\"Honey,_I_Shrunk_the_Kids_(1989)\",\"Dances_with_Wolves_(1990)\",\"The_Godfather:_Part_III_(1990)\",\"Edward_Scissorhands_(1990)\",\"Ernest_Scared_Stupid_(1991)\",\"The_Remains_of_the_Day_(1993)\",\"Pulp_Fiction_(1994)\",\"The_Jungle_Book_(1994)\",\"Ace_Ventura:_Pet_Detective_(1994)\",\"Casper_(1995)\",\"Ace_Ventura:_When_Nature_Calls_(1995)\",\"Star_Trek:_First_Contact_(1996)\",\"Bound_(1996)\",\"Homeward_Bound_II:_Lost_in_San_Francisco_(1996)\",\"Titanic_(1997)\",\"The_Night_Flier_(1997)\",\"Madeline_(1998)\",\"Halloweentown_(1998)\",\"Sleepy_Hollow_(1999)\",\"The_Ninth_Gate_(1999)\",\"102_Dalmatians_(2000)\",\"X-Men_(2000)\",\"Air_Bud_3:_World_Pup_(2001)\",\"Harry_Potter_and_the_Sorcerer's_Stone_(2001)\",\"Osmosis_Jones_(2001)\",\"Planet_of_the_Apes_(2001)\",\"Stuart_Little_2_(2002)\",\"Men_in_Black_II_(2002)\",\"Austin_Powers_in_Goldmember_(2002)\",\"Sweet_Home_Alabama_(2002)\",\"The_Haunted_Mansion_(2003)\",\"Master_and_Commander:_The_Far_Side_of_the_World_(2003)\",\"Ginger_Snaps_2:_Unleashed_(2004)\",\"Fat_Albert_(2004)\",\"Troy_(2004)\",\"The_Princess_Diaries_2:_Royal_Engagement_(2004)\",\"The_Punisher_(2004)\",\"Van_Helsing_(2004)\",\"King_Kong_(2005)\",\"Harry_Potter_and_the_Goblet_of_Fire_(2005)\",\"Elektra_(2005)\",\"Herbie_Fully_Loaded_(2005)\",\"Nanny_McPhee_(2005)\",\"The_Shaggy_Dog_(2006)\",\"Night_at_the_Museum_(2006)\",\"Underworld:_Evolution_(2006)\",\"Zoom_(2006)\",\"Abominable_(2006)\",\"300_(2006)\",\"Air_Buddies_(2006)\",\"Fantastic_4:_Rise_of_the_Silver_Surfer_(2007)\",\"Mr._Bean's_Holiday_(2007)\",\"Juno_(2007)\",\"Bridge_to_Terabithia_(2007)\",\"Sex_and_the_City_(2008)\",\"Hancock_(2008)\",\"Indiana_Jones_and_the_Kingdom_of_the_Crystal_Skull_(2008)\",\"Inkheart_(2008)\",\"Anne_of_Green_Gables:_A_New_Beginning_(2008)\",\"Nim's_Island_(2008)\",\"A_Perfect_Getaway_(2009)\",\"Hannah_Montana:_The_Movie_(2009)\",\"2012_(2009)\",\"Push_(2009)\",\"G.I._Joe:_The_Rise_of_Cobra_(2009)\",\"Chatroom_(2010)\",\"The_A-Team_(2010)\",\"Cats_&_Dogs:_The_Revenge_of_Kitty_Galore_(2010)\",\"Camp_Rock_2:_The_Final_Jam_(2010)\",\"The_Sorcerer's_Apprentice_(2010)\",\"RED_(2010)\",\"Soul_Surfer_(2011)\",\"The_Phantom_of_the_Opera_at_the_Royal_Albert_Hall_(2011)\",\"There_Be_Dragons_(2011)\",\"Diary_of_a_Wimpy_Kid:_Rodrick_Rules_(2011)\",\"My_Week_with_Marilyn_(2011)\",\"Transformers:_Dark_of_the_Moon_(2011)\",\"Hugo_(2011)\",\"Super_Shark_(2011)\",\"Harry_Potter_and_the_Deathly_Hallows:_Part_2_(2011)\",\"Underworld:_Awakening_(2012)\",\"John_Carter_(2012)\",\"Diary_of_a_Wimpy_Kid:_Dog_Days_(2012)\",\"Trouble_with_the_Curve_(2012)\",\"Lincoln_(2012)\",\"An_American_Girl:_McKenna_Shoots_for_the_Stars_(2012)\",\"Life_of_Pi_(2012)\",\"The_Expendables_2_(2012)\",\"Red_Dawn_(2012)\",\"Hansel_&_Gretel:_Witch_Hunters_(2013)\",\"Enemy_(2013)\",\"Sharknado_(2013)\",\"The_Wolf_of_Wall_Street_(2013)\",\"Walking_with_Dinosaurs_(2013)\",\"Paranormal_Movie_(2013)\",\"Beautiful_Creatures_(2013)\",\"Iron_Man_Three_(2013)_[4K]\",\"The_Lone_Ranger_(2013)\",\"Unbroken_(2014)\",\"X-Men:_Days_of_Future_Past_(2014)\",\"Need_for_Speed_(2014)\",\"Muppets_Most_Wanted_(2014)\",\"The_Inbetweeners_2_(2014)\",\"Big_Eyes_(2014)\",\"The_Giver_(2014)\",\"Teenage_Mutant_Ninja_Turtles_(2014)\",\"Pitch_Perfect_2_(2015)\",\"Avengers:_Age_of_Ultron_(2015)\",\"Fantastic_Four_(2015)\",\"Miss_Peregrine's_Home_for_Peculiar_Children_(2016)\",\"10_Cloverfield_Lane_(2016)\",\"Sausage_Party_(2016)\",\"The_Shallows_(2016)\",\"Deadpool_(2016)\",\"Suicide_Squad_(2016)\",\"Justice_League_(2017)\",\"War_for_the_Planet_of_the_Apes_(2017)\",\"Ghost_in_the_Shell_(2017)\",\"Deadpool_2_(2018)\",\"A_Quiet_Place_(2018)\",\"Mamma_Mia!_Here_We_Go_Again_(2018)\",\"Mary_Poppins_Returns_(2018)\",\"Bumblebee_(2018)\",\"Black_Panther_(2018)\",\"Scary_Stories_to_Tell_in_the_Dark_(2019)\"],\"legendgroup\":\"\",\"marker\":{\"color\":\"rgb(255,185,15)\",\"symbol\":\"circle\"},\"mode\":\"markers\",\"name\":\"\",\"orientation\":\"v\",\"showlegend\":false,\"type\":\"scatter\",\"x\":[197.0,332.0,400.0,364.0,115.0,775.0,335.0,313.0,516.0,2066.0,1467.0,839.0,1483.0,1004.0,839.0,816.0,1984.0,3539.0,953.0,1611.0,958.0,1034.0,4172.0,651.0,645.0,684.0,1282.0,1414.0,2425.0,403.0,938.0,1024.0,1051.0,899.0,581.0,437.0,638.0,2316.0,5734.0,665.0,690.0,1542.0,2579.0,988.0,1161.0,445.0,3319.0,1635.0,367.0,127.0,1275.0,496.0,1047.0,367.0,611.0,825.0,318.0,567.0,900.0,2586.0,204.0,620.0,366.0,1805.0,3853.0,765.0,2012.0,924.0,230.0,5003.0,1725.0,2331.0,885.0,797.0,1774.0,3079.0,420.0,529.0,611.0,1096.0,1181.0,111.0,875.0,331.0,2195.0,284.0,1092.0,1529.0,656.0,733.0,1089.0,1253.0,1258.0,906.0,472.0,526.0,763.0,2099.0,2441.0,1351.0,1202.0,661.0,1080.0,110.0,2202.0,740.0,655.0,1333.0,2598.0,1375.0,1893.0,431.0,1245.0,1266.0,504.0,2004.0,528.0,1285.0,1211.0,1266.0,3626.0,378.0,2187.0,1283.0,1479.0,836.0,442.0,799.0,4567.0,22.0,321.0,1731.0,2707.0,1270.0,1671.0,995.0,851.0,1345.0,821.0,1138.0,582.0,365.0,3148.0,926.0,752.0,548.0,470.0,50.0,154.0,622.0,853.0,733.0,566.0,512.0,914.0,472.0,2386.0,912.0,951.0,3793.0,570.0],\"xaxis\":\"x\",\"y\":[0,0,1300000,12000000,0,0,0,0,4812444,0,12000000,0,1700000,7797728,32000000,103000000,13129846,111858363,50700000,0,4000000,0,102600000,33800000,300218018,35841901,190458706,389925971,90404800,14296438,57000000,52287414,30861665,44793222,17336370,43625095,222724172,424208848,136766062,53000000,0,23237911,214179088,43,107217396,287928194,212385533,150000000,7011317,32709423,2187463944,91549,30000000,0,206071502,58401898,183611771,296339527,0,976475550,13596911,362211740,169956806,445135288,296655431,180622424,182290266,212011111,0,48563556,497409852,134734481,54700105,300257475,562363449,895921036,56681566,66002004,123276807,87134280,574480841,111476513,12506188,1810000,0,0,301913131,232225908,231411584,137587063,415252786,629443428,786636033,62803180,0,100076342,22852638,155545279,791217826,45465299,302469017,0,177238796,112483764,0,215283742,71664962,47088990,0,0,72526996,35057696,1123794079,185770160,0,1341511219,160112671,284139100,76196538,0,116471580,0,609016565,314975955,44806783,226349749,3396726,0,392000000,126546518,0,60052138,1214811252,260502115,163442937,747862775,203277636,80383290,0,28883511,66980456,477200000,287506194,1405403694,167977596,296482446,108286421,140705322,119100758,783100000,746846894,657924295,488533726,169801921,786365638,340677200,395044706,348807090,467989645,1346739107,95438172],\"yaxis\":\"y\"},{\"alignmentgroup\":\"True\",\"hovertemplate\":\"variable=asian_screentime<br>=%{x}<br>Screentime [%]=%{y}<extra></extra>\",\"legendgroup\":\"asian_screentime\",\"marker\":{\"color\":\"#636efa\",\"opacity\":0.5,\"pattern\":{\"shape\":\"\"}},\"name\":\"asian_screentime\",\"offsetgroup\":\"asian_screentime\",\"orientation\":\"v\",\"showlegend\":true,\"textposition\":\"auto\",\"type\":\"bar\",\"x\":[\"1960-01-01T00:00:00\",\"1980-01-01T00:00:00\",\"1990-01-01T00:00:00\",\"2000-01-01T00:00:00\",\"2010-01-01T00:00:00\"],\"xaxis\":\"x2\",\"y\":[3.7778495318049727,7.576601671309192,9.210025647356792,4.886819624852308,6.698524262100764],\"yaxis\":\"y2\"},{\"alignmentgroup\":\"True\",\"hovertemplate\":\"variable=black_screentime<br>=%{x}<br>Screentime [%]=%{y}<extra></extra>\",\"legendgroup\":\"black_screentime\",\"marker\":{\"color\":\"#EF553B\",\"opacity\":0.5,\"pattern\":{\"shape\":\"\"}},\"name\":\"black_screentime\",\"offsetgroup\":\"black_screentime\",\"orientation\":\"v\",\"showlegend\":true,\"textposition\":\"auto\",\"type\":\"bar\",\"x\":[\"1960-01-01T00:00:00\",\"1980-01-01T00:00:00\",\"1990-01-01T00:00:00\",\"2000-01-01T00:00:00\",\"2010-01-01T00:00:00\"],\"xaxis\":\"x2\",\"y\":[0.7103648692282855,2.414113277623027,5.270071032661568,2.7601931229214562,5.703600490814103],\"yaxis\":\"y2\"},{\"alignmentgroup\":\"True\",\"hovertemplate\":\"variable=indian_screentime<br>=%{x}<br>Screentime [%]=%{y}<extra></extra>\",\"legendgroup\":\"indian_screentime\",\"marker\":{\"color\":\"#00cc96\",\"opacity\":0.5,\"pattern\":{\"shape\":\"\"}},\"name\":\"indian_screentime\",\"offsetgroup\":\"indian_screentime\",\"orientation\":\"v\",\"showlegend\":true,\"textposition\":\"auto\",\"type\":\"bar\",\"x\":[\"1960-01-01T00:00:00\",\"1980-01-01T00:00:00\",\"1990-01-01T00:00:00\",\"2000-01-01T00:00:00\",\"2010-01-01T00:00:00\"],\"xaxis\":\"x2\",\"y\":[2.389409105586051,2.1355617455896008,4.536001269557588,1.631031788274464,2.551602087956208],\"yaxis\":\"y2\"},{\"alignmentgroup\":\"True\",\"hovertemplate\":\"variable=latino_hispanic_screentime<br>=%{x}<br>Screentime [%]=%{y}<extra></extra>\",\"legendgroup\":\"latino_hispanic_screentime\",\"marker\":{\"color\":\"#ab63fa\",\"opacity\":0.5,\"pattern\":{\"shape\":\"\"}},\"name\":\"latino_hispanic_screentime\",\"offsetgroup\":\"latino_hispanic_screentime\",\"orientation\":\"v\",\"showlegend\":true,\"textposition\":\"auto\",\"type\":\"bar\",\"x\":[\"1960-01-01T00:00:00\",\"1980-01-01T00:00:00\",\"1990-01-01T00:00:00\",\"2000-01-01T00:00:00\",\"2010-01-01T00:00:00\"],\"xaxis\":\"x2\",\"y\":[14.982240878269293,7.205199628597956,11.06448524418734,5.189612281953426,7.663014976445017],\"yaxis\":\"y2\"},{\"alignmentgroup\":\"True\",\"hovertemplate\":\"variable=middle_eastern_screentime<br>=%{x}<br>Screentime [%]=%{y}<extra></extra>\",\"legendgroup\":\"middle_eastern_screentime\",\"marker\":{\"color\":\"#FFA15A\",\"opacity\":0.5,\"pattern\":{\"shape\":\"\"}},\"name\":\"middle_eastern_screentime\",\"offsetgroup\":\"middle_eastern_screentime\",\"orientation\":\"v\",\"showlegend\":true,\"textposition\":\"auto\",\"type\":\"bar\",\"x\":[\"1960-01-01T00:00:00\",\"1980-01-01T00:00:00\",\"1990-01-01T00:00:00\",\"2000-01-01T00:00:00\",\"2010-01-01T00:00:00\"],\"xaxis\":\"x2\",\"y\":[5.230868582499193,4.47539461467038,4.874685350472506,3.5158771502666957,3.464377114950803],\"yaxis\":\"y2\"},{\"alignmentgroup\":\"True\",\"hovertemplate\":\"variable=white_screentime<br>=%{x}<br>Screentime [%]=%{y}<extra></extra>\",\"legendgroup\":\"white_screentime\",\"marker\":{\"color\":\"#19d3f3\",\"opacity\":0.5,\"pattern\":{\"shape\":\"\"}},\"name\":\"white_screentime\",\"offsetgroup\":\"white_screentime\",\"orientation\":\"v\",\"showlegend\":true,\"textposition\":\"auto\",\"type\":\"bar\",\"x\":[\"1960-01-01T00:00:00\",\"1980-01-01T00:00:00\",\"1990-01-01T00:00:00\",\"2000-01-01T00:00:00\",\"2010-01-01T00:00:00\"],\"xaxis\":\"x2\",\"y\":[72.9092670326122,76.19312906220983,65.04473145576421,82.01646603173165,73.9188810677331],\"yaxis\":\"y2\"},{\"alignmentgroup\":\"True\",\"hovertemplate\":\"variable=women_of_color<br>=%{x}<br>Screentime [%]=%{y}<extra></extra>\",\"legendgroup\":\"women_of_color\",\"marker\":{\"color\":\"#FF6692\",\"opacity\":0.5,\"pattern\":{\"shape\":\"\"}},\"name\":\"women_of_color\",\"offsetgroup\":\"women_of_color\",\"orientation\":\"v\",\"showlegend\":true,\"textposition\":\"auto\",\"type\":\"bar\",\"x\":[\"1960-01-01T00:00:00\",\"1980-01-01T00:00:00\",\"1990-01-01T00:00:00\",\"2000-01-01T00:00:00\",\"2010-01-01T00:00:00\"],\"xaxis\":\"x2\",\"y\":[3.923948220064725,0.6775067750677507,1.5835077150537078,1.3789060637841446,3.133156092940833],\"yaxis\":\"y2\"}],                        {\"height\":500,\"template\":{\"data\":{\"bar\":[{\"error_x\":{\"color\":\"#2a3f5f\"},\"error_y\":{\"color\":\"#2a3f5f\"},\"marker\":{\"line\":{\"color\":\"#E5ECF6\",\"width\":0.5},\"pattern\":{\"fillmode\":\"overlay\",\"size\":10,\"solidity\":0.2}},\"type\":\"bar\"}],\"barpolar\":[{\"marker\":{\"line\":{\"color\":\"#E5ECF6\",\"width\":0.5},\"pattern\":{\"fillmode\":\"overlay\",\"size\":10,\"solidity\":0.2}},\"type\":\"barpolar\"}],\"carpet\":[{\"aaxis\":{\"endlinecolor\":\"#2a3f5f\",\"gridcolor\":\"white\",\"linecolor\":\"white\",\"minorgridcolor\":\"white\",\"startlinecolor\":\"#2a3f5f\"},\"baxis\":{\"endlinecolor\":\"#2a3f5f\",\"gridcolor\":\"white\",\"linecolor\":\"white\",\"minorgridcolor\":\"white\",\"startlinecolor\":\"#2a3f5f\"},\"type\":\"carpet\"}],\"choropleth\":[{\"colorbar\":{\"outlinewidth\":0,\"ticks\":\"\"},\"type\":\"choropleth\"}],\"contour\":[{\"colorbar\":{\"outlinewidth\":0,\"ticks\":\"\"},\"colorscale\":[[0.0,\"#0d0887\"],[0.1111111111111111,\"#46039f\"],[0.2222222222222222,\"#7201a8\"],[0.3333333333333333,\"#9c179e\"],[0.4444444444444444,\"#bd3786\"],[0.5555555555555556,\"#d8576b\"],[0.6666666666666666,\"#ed7953\"],[0.7777777777777778,\"#fb9f3a\"],[0.8888888888888888,\"#fdca26\"],[1.0,\"#f0f921\"]],\"type\":\"contour\"}],\"contourcarpet\":[{\"colorbar\":{\"outlinewidth\":0,\"ticks\":\"\"},\"type\":\"contourcarpet\"}],\"heatmap\":[{\"colorbar\":{\"outlinewidth\":0,\"ticks\":\"\"},\"colorscale\":[[0.0,\"#0d0887\"],[0.1111111111111111,\"#46039f\"],[0.2222222222222222,\"#7201a8\"],[0.3333333333333333,\"#9c179e\"],[0.4444444444444444,\"#bd3786\"],[0.5555555555555556,\"#d8576b\"],[0.6666666666666666,\"#ed7953\"],[0.7777777777777778,\"#fb9f3a\"],[0.8888888888888888,\"#fdca26\"],[1.0,\"#f0f921\"]],\"type\":\"heatmap\"}],\"heatmapgl\":[{\"colorbar\":{\"outlinewidth\":0,\"ticks\":\"\"},\"colorscale\":[[0.0,\"#0d0887\"],[0.1111111111111111,\"#46039f\"],[0.2222222222222222,\"#7201a8\"],[0.3333333333333333,\"#9c179e\"],[0.4444444444444444,\"#bd3786\"],[0.5555555555555556,\"#d8576b\"],[0.6666666666666666,\"#ed7953\"],[0.7777777777777778,\"#fb9f3a\"],[0.8888888888888888,\"#fdca26\"],[1.0,\"#f0f921\"]],\"type\":\"heatmapgl\"}],\"histogram\":[{\"marker\":{\"pattern\":{\"fillmode\":\"overlay\",\"size\":10,\"solidity\":0.2}},\"type\":\"histogram\"}],\"histogram2d\":[{\"colorbar\":{\"outlinewidth\":0,\"ticks\":\"\"},\"colorscale\":[[0.0,\"#0d0887\"],[0.1111111111111111,\"#46039f\"],[0.2222222222222222,\"#7201a8\"],[0.3333333333333333,\"#9c179e\"],[0.4444444444444444,\"#bd3786\"],[0.5555555555555556,\"#d8576b\"],[0.6666666666666666,\"#ed7953\"],[0.7777777777777778,\"#fb9f3a\"],[0.8888888888888888,\"#fdca26\"],[1.0,\"#f0f921\"]],\"type\":\"histogram2d\"}],\"histogram2dcontour\":[{\"colorbar\":{\"outlinewidth\":0,\"ticks\":\"\"},\"colorscale\":[[0.0,\"#0d0887\"],[0.1111111111111111,\"#46039f\"],[0.2222222222222222,\"#7201a8\"],[0.3333333333333333,\"#9c179e\"],[0.4444444444444444,\"#bd3786\"],[0.5555555555555556,\"#d8576b\"],[0.6666666666666666,\"#ed7953\"],[0.7777777777777778,\"#fb9f3a\"],[0.8888888888888888,\"#fdca26\"],[1.0,\"#f0f921\"]],\"type\":\"histogram2dcontour\"}],\"mesh3d\":[{\"colorbar\":{\"outlinewidth\":0,\"ticks\":\"\"},\"type\":\"mesh3d\"}],\"parcoords\":[{\"line\":{\"colorbar\":{\"outlinewidth\":0,\"ticks\":\"\"}},\"type\":\"parcoords\"}],\"pie\":[{\"automargin\":true,\"type\":\"pie\"}],\"scatter\":[{\"marker\":{\"colorbar\":{\"outlinewidth\":0,\"ticks\":\"\"}},\"type\":\"scatter\"}],\"scatter3d\":[{\"line\":{\"colorbar\":{\"outlinewidth\":0,\"ticks\":\"\"}},\"marker\":{\"colorbar\":{\"outlinewidth\":0,\"ticks\":\"\"}},\"type\":\"scatter3d\"}],\"scattercarpet\":[{\"marker\":{\"colorbar\":{\"outlinewidth\":0,\"ticks\":\"\"}},\"type\":\"scattercarpet\"}],\"scattergeo\":[{\"marker\":{\"colorbar\":{\"outlinewidth\":0,\"ticks\":\"\"}},\"type\":\"scattergeo\"}],\"scattergl\":[{\"marker\":{\"colorbar\":{\"outlinewidth\":0,\"ticks\":\"\"}},\"type\":\"scattergl\"}],\"scattermapbox\":[{\"marker\":{\"colorbar\":{\"outlinewidth\":0,\"ticks\":\"\"}},\"type\":\"scattermapbox\"}],\"scatterpolar\":[{\"marker\":{\"colorbar\":{\"outlinewidth\":0,\"ticks\":\"\"}},\"type\":\"scatterpolar\"}],\"scatterpolargl\":[{\"marker\":{\"colorbar\":{\"outlinewidth\":0,\"ticks\":\"\"}},\"type\":\"scatterpolargl\"}],\"scatterternary\":[{\"marker\":{\"colorbar\":{\"outlinewidth\":0,\"ticks\":\"\"}},\"type\":\"scatterternary\"}],\"surface\":[{\"colorbar\":{\"outlinewidth\":0,\"ticks\":\"\"},\"colorscale\":[[0.0,\"#0d0887\"],[0.1111111111111111,\"#46039f\"],[0.2222222222222222,\"#7201a8\"],[0.3333333333333333,\"#9c179e\"],[0.4444444444444444,\"#bd3786\"],[0.5555555555555556,\"#d8576b\"],[0.6666666666666666,\"#ed7953\"],[0.7777777777777778,\"#fb9f3a\"],[0.8888888888888888,\"#fdca26\"],[1.0,\"#f0f921\"]],\"type\":\"surface\"}],\"table\":[{\"cells\":{\"fill\":{\"color\":\"#EBF0F8\"},\"line\":{\"color\":\"white\"}},\"header\":{\"fill\":{\"color\":\"#C8D4E3\"},\"line\":{\"color\":\"white\"}},\"type\":\"table\"}]},\"layout\":{\"annotationdefaults\":{\"arrowcolor\":\"#2a3f5f\",\"arrowhead\":0,\"arrowwidth\":1},\"autotypenumbers\":\"strict\",\"coloraxis\":{\"colorbar\":{\"outlinewidth\":0,\"ticks\":\"\"}},\"colorscale\":{\"diverging\":[[0,\"#8e0152\"],[0.1,\"#c51b7d\"],[0.2,\"#de77ae\"],[0.3,\"#f1b6da\"],[0.4,\"#fde0ef\"],[0.5,\"#f7f7f7\"],[0.6,\"#e6f5d0\"],[0.7,\"#b8e186\"],[0.8,\"#7fbc41\"],[0.9,\"#4d9221\"],[1,\"#276419\"]],\"sequential\":[[0.0,\"#0d0887\"],[0.1111111111111111,\"#46039f\"],[0.2222222222222222,\"#7201a8\"],[0.3333333333333333,\"#9c179e\"],[0.4444444444444444,\"#bd3786\"],[0.5555555555555556,\"#d8576b\"],[0.6666666666666666,\"#ed7953\"],[0.7777777777777778,\"#fb9f3a\"],[0.8888888888888888,\"#fdca26\"],[1.0,\"#f0f921\"]],\"sequentialminus\":[[0.0,\"#0d0887\"],[0.1111111111111111,\"#46039f\"],[0.2222222222222222,\"#7201a8\"],[0.3333333333333333,\"#9c179e\"],[0.4444444444444444,\"#bd3786\"],[0.5555555555555556,\"#d8576b\"],[0.6666666666666666,\"#ed7953\"],[0.7777777777777778,\"#fb9f3a\"],[0.8888888888888888,\"#fdca26\"],[1.0,\"#f0f921\"]]},\"colorway\":[\"#636efa\",\"#EF553B\",\"#00cc96\",\"#ab63fa\",\"#FFA15A\",\"#19d3f3\",\"#FF6692\",\"#B6E880\",\"#FF97FF\",\"#FECB52\"],\"font\":{\"color\":\"#2a3f5f\"},\"geo\":{\"bgcolor\":\"white\",\"lakecolor\":\"white\",\"landcolor\":\"#E5ECF6\",\"showlakes\":true,\"showland\":true,\"subunitcolor\":\"white\"},\"hoverlabel\":{\"align\":\"left\"},\"hovermode\":\"closest\",\"mapbox\":{\"style\":\"light\"},\"paper_bgcolor\":\"white\",\"plot_bgcolor\":\"#E5ECF6\",\"polar\":{\"angularaxis\":{\"gridcolor\":\"white\",\"linecolor\":\"white\",\"ticks\":\"\"},\"bgcolor\":\"#E5ECF6\",\"radialaxis\":{\"gridcolor\":\"white\",\"linecolor\":\"white\",\"ticks\":\"\"}},\"scene\":{\"xaxis\":{\"backgroundcolor\":\"#E5ECF6\",\"gridcolor\":\"white\",\"gridwidth\":2,\"linecolor\":\"white\",\"showbackground\":true,\"ticks\":\"\",\"zerolinecolor\":\"white\"},\"yaxis\":{\"backgroundcolor\":\"#E5ECF6\",\"gridcolor\":\"white\",\"gridwidth\":2,\"linecolor\":\"white\",\"showbackground\":true,\"ticks\":\"\",\"zerolinecolor\":\"white\"},\"zaxis\":{\"backgroundcolor\":\"#E5ECF6\",\"gridcolor\":\"white\",\"gridwidth\":2,\"linecolor\":\"white\",\"showbackground\":true,\"ticks\":\"\",\"zerolinecolor\":\"white\"}},\"shapedefaults\":{\"line\":{\"color\":\"#2a3f5f\"}},\"ternary\":{\"aaxis\":{\"gridcolor\":\"white\",\"linecolor\":\"white\",\"ticks\":\"\"},\"baxis\":{\"gridcolor\":\"white\",\"linecolor\":\"white\",\"ticks\":\"\"},\"bgcolor\":\"#E5ECF6\",\"caxis\":{\"gridcolor\":\"white\",\"linecolor\":\"white\",\"ticks\":\"\"}},\"title\":{\"x\":0.05},\"xaxis\":{\"automargin\":true,\"gridcolor\":\"white\",\"linecolor\":\"white\",\"ticks\":\"\",\"title\":{\"standoff\":15},\"zerolinecolor\":\"white\",\"zerolinewidth\":2},\"yaxis\":{\"automargin\":true,\"gridcolor\":\"white\",\"linecolor\":\"white\",\"ticks\":\"\",\"title\":{\"standoff\":15},\"zerolinecolor\":\"white\",\"zerolinewidth\":2}}},\"title\":{\"text\":\"Number of POC VS. revenue                                  Screenttime percentage evoultion\"},\"uniformtext\":{\"minsize\":15},\"width\":1100,\"xaxis\":{\"anchor\":\"y\",\"domain\":[0.0,0.45]},\"xaxis2\":{\"anchor\":\"y2\",\"domain\":[0.55,1.0]},\"yaxis\":{\"anchor\":\"x\",\"domain\":[0.0,1.0]},\"yaxis2\":{\"anchor\":\"x2\",\"domain\":[0.0,1.0]}},                        {\"responsive\": true}                    ).then(function(){\n",
       "                            \n",
       "var gd = document.getElementById('d53aa6e1-04d0-432a-8723-e81f52cc378e');\n",
       "var x = new MutationObserver(function (mutations, observer) {{\n",
       "        var display = window.getComputedStyle(gd).display;\n",
       "        if (!display || display === 'none') {{\n",
       "            console.log([gd, 'removed!']);\n",
       "            Plotly.purge(gd);\n",
       "            observer.disconnect();\n",
       "        }}\n",
       "}});\n",
       "\n",
       "// Listen for the removal of the full notebook cells\n",
       "var notebookContainer = gd.closest('#notebook-container');\n",
       "if (notebookContainer) {{\n",
       "    x.observe(notebookContainer, {childList: true});\n",
       "}}\n",
       "\n",
       "// Listen for the clearing of the current output cell\n",
       "var outputEl = gd.closest('.output');\n",
       "if (outputEl) {{\n",
       "    x.observe(outputEl, {childList: true});\n",
       "}}\n",
       "\n",
       "                        })                };                });            </script>        </div>"
      ]
     },
     "metadata": {},
     "output_type": "display_data"
    }
   ],
   "source": [
    "overall_race_dash(df_evo)"
   ]
  },
  {
   "cell_type": "code",
   "execution_count": null,
   "id": "eb072738",
   "metadata": {},
   "outputs": [],
   "source": []
  },
  {
   "cell_type": "code",
   "execution_count": 906,
   "id": "541a9ccb",
   "metadata": {},
   "outputs": [],
   "source": [
    "\n",
    "def r_screentime_donut(df):\n",
    "    x = [df['asian_screentime'].values[0],\n",
    "        df['black_screentime'].values[0],\n",
    "        df['indian_screentime'].values[0],\n",
    "        df['latino_hispanic_screentime'].values[0],\n",
    "        df['middle_eastern_screentime'].values[0],\n",
    "        df['white_screentime'].values[0]\n",
    "        ]\n",
    "    names = ['Asian', 'Black', 'Indian', 'Latino Hispanic', 'Middle Eastern', 'White']\n",
    "    fig = go.Pie(labels=names, values=x, hole=0.5)\n",
    "\n",
    "    return fig\n",
    "\n",
    "\n",
    "def woc_screentime_donut(df):\n",
    "    x = [df['women_of_color'].values[0], (100-df['women_of_color'].values[0])]\n",
    "    names = ['Women of color present', 'No women of color present']\n",
    "\n",
    "    fig = go.Pie(labels=names, values=x, hole=0.5)\n",
    "    \n",
    "    return fig\n"
   ]
  },
  {
   "cell_type": "code",
   "execution_count": 912,
   "id": "f9fd5c7a",
   "metadata": {},
   "outputs": [],
   "source": [
    "\n",
    "def race_dash(movie_stats):\n",
    "\n",
    "    fig = make_subplots(rows=1, cols=2, specs=[[{\"type\": \"domain\"}, {\"type\": \"domain\"}]])\n",
    "\n",
    "    fig1 = r_screentime_donut(df)\n",
    "    fig2 = woc_screentime_donut(df)\n",
    "\n",
    "    fig.add_trace(fig1, \n",
    "         row=1, col=1)\n",
    "\n",
    "    fig.add_trace(fig2,\n",
    "        row=1, col=2)\n",
    "    \n",
    "    return fig"
   ]
  },
  {
   "cell_type": "code",
   "execution_count": 914,
   "id": "281598e4",
   "metadata": {},
   "outputs": [
    {
     "name": "stdout",
     "output_type": "stream",
     "text": [
      "Figure({\n",
      "    'data': [{'domain': {'x': [0.0, 0.45], 'y': [0.0, 1.0]},\n",
      "              'hole': 0.5,\n",
      "              'labels': [Asian, Black, Indian, Latino Hispanic, Middle Eastern,\n",
      "                         White],\n",
      "              'type': 'pie',\n",
      "              'values': [4.183813443072702, 0.411522633744856, 2.05761316872428,\n",
      "                         2.263374485596708, 4.595336076817558, 86.48834019204389]},\n",
      "             {'domain': {'x': [0.55, 1.0], 'y': [0.0, 1.0]},\n",
      "              'hole': 0.5,\n",
      "              'labels': [Women of color present, No women of color present],\n",
      "              'type': 'pie',\n",
      "              'values': [0.1982160555004955, 99.8017839444995]}],\n",
      "    'layout': {'template': '...'}\n",
      "})\n"
     ]
    }
   ],
   "source": [
    "print(race_dash(df_one))"
   ]
  },
  {
   "cell_type": "code",
   "execution_count": 919,
   "id": "52f7bf6d",
   "metadata": {},
   "outputs": [],
   "source": [
    "def get_evolution_data():\n",
    "\n",
    "    df_stats_list = []\n",
    "\n",
    "    regex = re.compile(r'\\((\\d{4})\\)')\n",
    "\n",
    "    movie_list = get_movie_list(\"CSVs\")[1:]\n",
    "\n",
    "    for movie in tqdm(movie_list):\n",
    "        \n",
    "        movie = movie.replace(\" \",\"_\")\n",
    "\n",
    "        if movie == \"\":\n",
    "            continue\n",
    "\n",
    "        year = regex.findall(movie)[0]\n",
    "\n",
    "        df = pd.read_csv(\n",
    "            f\"gs://{BUCKET_NAME_STREAMLIT}/CSVs/{movie}/statistics\",\n",
    "            index_col=None)\n",
    "\n",
    "        df[\"title\"] = movie\n",
    "        df[\"year\"] = year\n",
    "\n",
    "        df[\"year\"] = pd.to_datetime(df[\"year\"].values)\n",
    "        df.sort_values(\"year\", inplace=True)\n",
    "        df_stats_list.append(df)\n",
    "\n",
    "    df_stats_total = pd.concat(df_stats_list, axis=0)\n",
    "    df_stats_total.sort_values(\"year\", inplace=True)\n",
    "\n",
    "    def add_revenue(column):\n",
    "\n",
    "        column = column.replace(\"_\", \" \")\n",
    "        return fetch_movie_details(column).get(\"revenue\", None)\n",
    "\n",
    "    def add_runtime(column):\n",
    "\n",
    "        column = column.replace(\"_\", \" \")\n",
    "        return fetch_movie_details(column).get(\"runtime\", None)\n",
    "\n",
    "    df_stats_total[\"revenue\"] = df_stats_total[\"title\"].apply(add_revenue)\n",
    "    df_stats_total[\"runtime\"] = df_stats_total[\"title\"].apply(add_runtime)\n",
    "\n",
    "    return df_stats_total.reset_index()"
   ]
  },
  {
   "cell_type": "code",
   "execution_count": 920,
   "id": "ce12eb51",
   "metadata": {},
   "outputs": [
    {
     "name": "stderr",
     "output_type": "stream",
     "text": [
      "100%|████████████████████████████████████| 170/170 [00:24<00:00,  6.86it/s]\n"
     ]
    },
    {
     "name": "stdout",
     "output_type": "stream",
     "text": [
      "The Cabinet of Dr. Caligari (1920)\n",
      "The Hunchback of Notre Dame (1923)\n",
      "The Lost World (1925)\n",
      "Frankenstein (1931)\n",
      "Dr. Jekyll and Mr. Hyde (1931)\n",
      "White Zombie (1932)\n",
      "Son of Frankenstein (1939)\n",
      "The Wolf Man (1941)\n",
      "The Mummy's Tomb (1942)\n",
      "Abbott and Costello Meet Frankenstein (1948)\n",
      "Anne of the Indies (1951)\n",
      "Roman Holiday (1953)\n",
      "Abbott and Costello Meet the Mummy (1955)\n",
      "This Island Earth (1955)\n",
      "Vertigo (1958)\n",
      "Psycho (1960)\n",
      "Cape Fear (1962)\n",
      "To Kill a Mockingbird (1962)\n",
      "Doctor Zhivago (1965)\n",
      "Bonnie and Clyde (1967)\n",
      "The Love Bug (1968)\n",
      "The Million Dollar Duck (1971)\n",
      "Willy Wonka & the Chocolate Factory (1971)\n",
      "The Godfather: Part II (1974)\n",
      "Carrie (1976)\n",
      "Superman (1978)\n",
      "The Black Hole (1979)\n",
      "Superman II (1980)\n",
      "Raiders of the Lost Ark (1981)\n",
      "Trading Places (1983)\n",
      "Supergirl (1984)\n",
      "A Nightmare on Elm Street (1984)\n",
      "Stand by Me (1986)\n",
      "The Princess Bride (1987)\n",
      "A Nightmare on Elm Street 3: Dream Warriors (1987)\n",
      "Masters of the Universe (1987)\n",
      "Killer Klowns from Outer Space (1988)\n",
      "Honey, I Shrunk the Kids (1989)\n",
      "Dances with Wolves (1990)\n",
      "The Godfather: Part III (1990)\n",
      "Edward Scissorhands (1990)\n",
      "Ernest Scared Stupid (1991)\n",
      "The Remains of the Day (1993)\n",
      "The Jungle Book (1994)\n",
      "Pulp Fiction (1994)\n",
      "Ace Ventura: Pet Detective (1994)\n",
      "Casper (1995)\n",
      "Ace Ventura: When Nature Calls (1995)\n",
      "Bound (1996)\n",
      "Star Trek: First Contact (1996)\n",
      "Homeward Bound II: Lost in San Francisco (1996)\n",
      "Titanic (1997)\n",
      "The Night Flier (1997)\n",
      "Batman & Robin (1997)\n",
      "Madeline (1998)\n",
      "Halloweentown (1998)\n",
      "The Ninth Gate (1999)\n",
      "Sleepy Hollow (1999)\n",
      "102 Dalmatians (2000)\n",
      "X-Men (2000)\n",
      "Air Bud 3: World Pup (2001)\n",
      "Planet of the Apes (2001)\n",
      "Harry Potter and the Sorcerer's Stone (2001)\n",
      "Osmosis Jones (2001)\n",
      "Stuart Little 2 (2002)\n",
      "Men in Black II (2002)\n",
      "Sweet Home Alabama (2002)\n",
      "Austin Powers in Goldmember (2002)\n",
      "The Haunted Mansion (2003)\n",
      "Master and Commander: The Far Side of the World (2003)\n",
      "Ginger Snaps 2: Unleashed (2004)\n",
      "Fat Albert (2004)\n",
      "Van Helsing (2004)\n",
      "The Princess Diaries 2: Royal Engagement (2004)\n",
      "The Punisher (2004)\n",
      "Troy (2004)\n",
      "Spider-Man 2 (2004)\n",
      "Harry Potter and the Goblet of Fire (2005)\n",
      "King Kong (2005)\n",
      "Nanny McPhee (2005)\n",
      "Elektra (2005)\n",
      "Herbie Fully Loaded (2005)\n",
      "Night at the Museum (2006)\n",
      "Underworld: Evolution (2006)\n",
      "The Shaggy Dog (2006)\n",
      "Zoom (2006)\n",
      "Abominable (2006)\n",
      "Air Buddies (2006)\n",
      "Fantastic 4: Rise of the Silver Surfer (2007)\n",
      "Mr. Bean's Holiday (2007)\n",
      "Death Sentence (2007)\n",
      "Juno (2007)\n",
      "Bridge to Terabithia (2007)\n",
      "Nim's Island (2008)\n",
      "Indiana Jones and the Kingdom of the Crystal Skull (2008)\n",
      "Inkheart (2008)\n",
      "Anne of Green Gables: A New Beginning (2008)\n",
      "Sex and the City (2008)\n",
      "Hancock (2008)\n",
      "G.I. Joe: The Rise of Cobra (2009)\n",
      "Hannah Montana: The Movie (2009)\n",
      "Push (2009)\n",
      "Princess Protection Program (2009)\n",
      "A Perfect Getaway (2009)\n",
      "2012 (2009)\n",
      "Camp Rock 2: The Final Jam (2010)\n",
      "Cats & Dogs: The Revenge of Kitty Galore (2010)\n",
      "RED (2010)\n",
      "Chatroom (2010)\n",
      "The A-Team (2010)\n",
      "The Sorcerer's Apprentice (2010)\n",
      "Bloomington (2010)\n",
      "There Be Dragons (2011)\n",
      "The Phantom of the Opera at the Royal Albert Hall (2011)\n",
      "Transformers: Dark of the Moon (2011)\n",
      "Diary of a Wimpy Kid: Rodrick Rules (2011)\n",
      "My Week with Marilyn (2011)\n",
      "Super Shark (2011)\n",
      "Harry Potter and the Deathly Hallows: Part 2 (2011)\n",
      "Hugo (2011)\n",
      "Soul Surfer (2011)\n",
      "An American Girl: McKenna Shoots for the Stars (2012)\n",
      "Life of Pi (2012)\n",
      "Dark Shadows (2012)\n",
      "Lincoln (2012)\n",
      "John Carter (2012)\n",
      "Diary of a Wimpy Kid: Dog Days (2012)\n",
      "Red Dawn (2012)\n",
      "Underworld: Awakening (2012)\n",
      "The Expendables 2 (2012)\n",
      "Trouble with the Curve (2012)\n",
      "The Great Gatsby (2013)\n",
      "The Wolf of Wall Street (2013)\n",
      "Saving Mr. Banks (2013)\n",
      "Walking with Dinosaurs (2013)\n",
      "Sharknado (2013)\n",
      "Paranormal Movie (2013)\n",
      "Beautiful Creatures (2013)\n",
      "The Lone Ranger (2013)\n",
      "Redemption (2013)\n",
      "Enemy (2013)\n",
      "Iron Man Three (2013) [4K]\n",
      "Hansel & Gretel: Witch Hunters (2013)\n",
      "Unbroken (2014)\n",
      "Big Eyes (2014)\n",
      "X-Men: Days of Future Past (2014)\n",
      "Need for Speed (2014)\n",
      "The Inbetweeners 2 (2014)\n",
      "Muppets Most Wanted (2014)\n",
      "Teenage Mutant Ninja Turtles (2014)\n",
      "The Giver (2014)\n",
      "Fantastic Four (2015)\n",
      "Avengers: Age of Ultron (2015)\n",
      "Pitch Perfect 2 (2015)\n",
      "Suicide Squad (2016)\n",
      "Sausage Party (2016)\n",
      "10 Cloverfield Lane (2016)\n",
      "Deadpool (2016)\n",
      "Miss Peregrine's Home for Peculiar Children (2016)\n",
      "The Shallows (2016)\n",
      "War for the Planet of the Apes (2017)\n",
      "Ghost in the Shell (2017)\n",
      "Justice League (2017)\n",
      "Mary Poppins Returns (2018)\n",
      "Mamma Mia! Here We Go Again (2018)\n",
      "Deadpool 2 (2018)\n",
      "Bumblebee (2018)\n",
      "A Quiet Place (2018)\n",
      "Black Panther (2018)\n",
      "Scary Stories to Tell in the Dark (2019)\n",
      "The Cabinet of Dr. Caligari (1920)\n",
      "The Hunchback of Notre Dame (1923)\n",
      "The Lost World (1925)\n",
      "Frankenstein (1931)\n",
      "Dr. Jekyll and Mr. Hyde (1931)\n",
      "White Zombie (1932)\n",
      "Son of Frankenstein (1939)\n",
      "The Wolf Man (1941)\n",
      "The Mummy's Tomb (1942)\n",
      "Abbott and Costello Meet Frankenstein (1948)\n",
      "Anne of the Indies (1951)\n",
      "Roman Holiday (1953)\n",
      "Abbott and Costello Meet the Mummy (1955)\n",
      "This Island Earth (1955)\n",
      "Vertigo (1958)\n",
      "Psycho (1960)\n",
      "Cape Fear (1962)\n",
      "To Kill a Mockingbird (1962)\n",
      "Doctor Zhivago (1965)\n",
      "Bonnie and Clyde (1967)\n",
      "The Love Bug (1968)\n",
      "The Million Dollar Duck (1971)\n",
      "Willy Wonka & the Chocolate Factory (1971)\n",
      "The Godfather: Part II (1974)\n",
      "Carrie (1976)\n",
      "Superman (1978)\n",
      "The Black Hole (1979)\n",
      "Superman II (1980)\n",
      "Raiders of the Lost Ark (1981)\n",
      "Trading Places (1983)\n",
      "Supergirl (1984)\n",
      "A Nightmare on Elm Street (1984)\n",
      "Stand by Me (1986)\n",
      "The Princess Bride (1987)\n",
      "A Nightmare on Elm Street 3: Dream Warriors (1987)\n",
      "Masters of the Universe (1987)\n",
      "Killer Klowns from Outer Space (1988)\n",
      "Honey, I Shrunk the Kids (1989)\n",
      "Dances with Wolves (1990)\n",
      "The Godfather: Part III (1990)\n",
      "Edward Scissorhands (1990)\n",
      "Ernest Scared Stupid (1991)\n",
      "The Remains of the Day (1993)\n",
      "The Jungle Book (1994)\n",
      "Pulp Fiction (1994)\n",
      "Ace Ventura: Pet Detective (1994)\n",
      "Casper (1995)\n",
      "Ace Ventura: When Nature Calls (1995)\n",
      "Bound (1996)\n",
      "Star Trek: First Contact (1996)\n",
      "Homeward Bound II: Lost in San Francisco (1996)\n",
      "Titanic (1997)\n",
      "The Night Flier (1997)\n",
      "Batman & Robin (1997)\n",
      "Madeline (1998)\n",
      "Halloweentown (1998)\n",
      "The Ninth Gate (1999)\n",
      "Sleepy Hollow (1999)\n",
      "102 Dalmatians (2000)\n",
      "X-Men (2000)\n",
      "Air Bud 3: World Pup (2001)\n",
      "Planet of the Apes (2001)\n",
      "Harry Potter and the Sorcerer's Stone (2001)\n",
      "Osmosis Jones (2001)\n",
      "Stuart Little 2 (2002)\n",
      "Men in Black II (2002)\n",
      "Sweet Home Alabama (2002)\n",
      "Austin Powers in Goldmember (2002)\n",
      "The Haunted Mansion (2003)\n",
      "Master and Commander: The Far Side of the World (2003)\n",
      "Ginger Snaps 2: Unleashed (2004)\n",
      "Fat Albert (2004)\n",
      "Van Helsing (2004)\n",
      "The Princess Diaries 2: Royal Engagement (2004)\n",
      "The Punisher (2004)\n",
      "Troy (2004)\n",
      "Spider-Man 2 (2004)\n",
      "Harry Potter and the Goblet of Fire (2005)\n",
      "King Kong (2005)\n",
      "Nanny McPhee (2005)\n",
      "Elektra (2005)\n",
      "Herbie Fully Loaded (2005)\n",
      "Night at the Museum (2006)\n",
      "Underworld: Evolution (2006)\n",
      "The Shaggy Dog (2006)\n",
      "Zoom (2006)\n",
      "Abominable (2006)\n",
      "Air Buddies (2006)\n",
      "Fantastic 4: Rise of the Silver Surfer (2007)\n",
      "Mr. Bean's Holiday (2007)\n",
      "Death Sentence (2007)\n",
      "Juno (2007)\n",
      "Bridge to Terabithia (2007)\n",
      "Nim's Island (2008)\n",
      "Indiana Jones and the Kingdom of the Crystal Skull (2008)\n",
      "Inkheart (2008)\n",
      "Anne of Green Gables: A New Beginning (2008)\n",
      "Sex and the City (2008)\n",
      "Hancock (2008)\n",
      "G.I. Joe: The Rise of Cobra (2009)\n",
      "Hannah Montana: The Movie (2009)\n",
      "Push (2009)\n",
      "Princess Protection Program (2009)\n",
      "A Perfect Getaway (2009)\n",
      "2012 (2009)\n",
      "Camp Rock 2: The Final Jam (2010)\n",
      "Cats & Dogs: The Revenge of Kitty Galore (2010)\n",
      "RED (2010)\n",
      "Chatroom (2010)\n",
      "The A-Team (2010)\n",
      "The Sorcerer's Apprentice (2010)\n",
      "Bloomington (2010)\n",
      "There Be Dragons (2011)\n",
      "The Phantom of the Opera at the Royal Albert Hall (2011)\n",
      "Transformers: Dark of the Moon (2011)\n",
      "Diary of a Wimpy Kid: Rodrick Rules (2011)\n",
      "My Week with Marilyn (2011)\n",
      "Super Shark (2011)\n",
      "Harry Potter and the Deathly Hallows: Part 2 (2011)\n",
      "Hugo (2011)\n",
      "Soul Surfer (2011)\n",
      "An American Girl: McKenna Shoots for the Stars (2012)\n",
      "Life of Pi (2012)\n",
      "Dark Shadows (2012)\n",
      "Lincoln (2012)\n",
      "John Carter (2012)\n",
      "Diary of a Wimpy Kid: Dog Days (2012)\n",
      "Red Dawn (2012)\n",
      "Underworld: Awakening (2012)\n",
      "The Expendables 2 (2012)\n",
      "Trouble with the Curve (2012)\n",
      "The Great Gatsby (2013)\n",
      "The Wolf of Wall Street (2013)\n",
      "Saving Mr. Banks (2013)\n",
      "Walking with Dinosaurs (2013)\n",
      "Sharknado (2013)\n",
      "Paranormal Movie (2013)\n",
      "Beautiful Creatures (2013)\n",
      "The Lone Ranger (2013)\n",
      "Redemption (2013)\n",
      "Enemy (2013)\n",
      "Iron Man Three (2013) [4K]\n",
      "Hansel & Gretel: Witch Hunters (2013)\n",
      "Unbroken (2014)\n"
     ]
    },
    {
     "name": "stdout",
     "output_type": "stream",
     "text": [
      "Big Eyes (2014)\n",
      "X-Men: Days of Future Past (2014)\n",
      "Need for Speed (2014)\n",
      "The Inbetweeners 2 (2014)\n",
      "Muppets Most Wanted (2014)\n",
      "Teenage Mutant Ninja Turtles (2014)\n",
      "The Giver (2014)\n",
      "Fantastic Four (2015)\n",
      "Avengers: Age of Ultron (2015)\n",
      "Pitch Perfect 2 (2015)\n",
      "Suicide Squad (2016)\n",
      "Sausage Party (2016)\n",
      "10 Cloverfield Lane (2016)\n",
      "Deadpool (2016)\n",
      "Miss Peregrine's Home for Peculiar Children (2016)\n",
      "The Shallows (2016)\n",
      "War for the Planet of the Apes (2017)\n",
      "Ghost in the Shell (2017)\n",
      "Justice League (2017)\n",
      "Mary Poppins Returns (2018)\n",
      "Mamma Mia! Here We Go Again (2018)\n",
      "Deadpool 2 (2018)\n",
      "Bumblebee (2018)\n",
      "A Quiet Place (2018)\n",
      "Black Panther (2018)\n",
      "Scary Stories to Tell in the Dark (2019)\n"
     ]
    },
    {
     "data": {
      "text/html": [
       "<div>\n",
       "<style scoped>\n",
       "    .dataframe tbody tr th:only-of-type {\n",
       "        vertical-align: middle;\n",
       "    }\n",
       "\n",
       "    .dataframe tbody tr th {\n",
       "        vertical-align: top;\n",
       "    }\n",
       "\n",
       "    .dataframe thead th {\n",
       "        text-align: right;\n",
       "    }\n",
       "</style>\n",
       "<table border=\"1\" class=\"dataframe\">\n",
       "  <thead>\n",
       "    <tr style=\"text-align: right;\">\n",
       "      <th></th>\n",
       "      <th>index</th>\n",
       "      <th>man_screentime</th>\n",
       "      <th>woman_screentime</th>\n",
       "      <th>only_men</th>\n",
       "      <th>only_women</th>\n",
       "      <th>asian_screentime</th>\n",
       "      <th>black_screentime</th>\n",
       "      <th>indian_screentime</th>\n",
       "      <th>latino_hispanic_screentime</th>\n",
       "      <th>middle_eastern_screentime</th>\n",
       "      <th>...</th>\n",
       "      <th>total_asian</th>\n",
       "      <th>total_black</th>\n",
       "      <th>total_indian</th>\n",
       "      <th>total_latino_hispanic</th>\n",
       "      <th>total_middle_eastern</th>\n",
       "      <th>total_white</th>\n",
       "      <th>title</th>\n",
       "      <th>year</th>\n",
       "      <th>revenue</th>\n",
       "      <th>runtime</th>\n",
       "    </tr>\n",
       "  </thead>\n",
       "  <tbody>\n",
       "    <tr>\n",
       "      <th>0</th>\n",
       "      <td>0</td>\n",
       "      <td>97.765618</td>\n",
       "      <td>2.234382</td>\n",
       "      <td>96.153846</td>\n",
       "      <td>2.354788</td>\n",
       "      <td>3.009576</td>\n",
       "      <td>1.003192</td>\n",
       "      <td>3.237574</td>\n",
       "      <td>5.882353</td>\n",
       "      <td>6.429549</td>\n",
       "      <td>...</td>\n",
       "      <td>66.0</td>\n",
       "      <td>22.0</td>\n",
       "      <td>71.0</td>\n",
       "      <td>129.0</td>\n",
       "      <td>141.0</td>\n",
       "      <td>1764.0</td>\n",
       "      <td>The_Cabinet_of_Dr._Caligari_(1920)</td>\n",
       "      <td>1920-01-01</td>\n",
       "      <td>8811</td>\n",
       "      <td>77</td>\n",
       "    </tr>\n",
       "    <tr>\n",
       "      <th>1</th>\n",
       "      <td>0</td>\n",
       "      <td>94.101509</td>\n",
       "      <td>5.898491</td>\n",
       "      <td>91.476710</td>\n",
       "      <td>5.946482</td>\n",
       "      <td>4.183813</td>\n",
       "      <td>0.411523</td>\n",
       "      <td>2.057613</td>\n",
       "      <td>2.263374</td>\n",
       "      <td>4.595336</td>\n",
       "      <td>...</td>\n",
       "      <td>61.0</td>\n",
       "      <td>6.0</td>\n",
       "      <td>30.0</td>\n",
       "      <td>33.0</td>\n",
       "      <td>67.0</td>\n",
       "      <td>1261.0</td>\n",
       "      <td>The_Hunchback_of_Notre_Dame_(1923)</td>\n",
       "      <td>1923-01-01</td>\n",
       "      <td>0</td>\n",
       "      <td>113</td>\n",
       "    </tr>\n",
       "    <tr>\n",
       "      <th>2</th>\n",
       "      <td>0</td>\n",
       "      <td>96.304719</td>\n",
       "      <td>3.695281</td>\n",
       "      <td>90.707965</td>\n",
       "      <td>6.342183</td>\n",
       "      <td>2.103468</td>\n",
       "      <td>7.220011</td>\n",
       "      <td>2.615122</td>\n",
       "      <td>4.206936</td>\n",
       "      <td>2.728823</td>\n",
       "      <td>...</td>\n",
       "      <td>37.0</td>\n",
       "      <td>127.0</td>\n",
       "      <td>46.0</td>\n",
       "      <td>74.0</td>\n",
       "      <td>48.0</td>\n",
       "      <td>1427.0</td>\n",
       "      <td>The_Lost_World_(1925)</td>\n",
       "      <td>1925-01-01</td>\n",
       "      <td>0</td>\n",
       "      <td>93</td>\n",
       "    </tr>\n",
       "    <tr>\n",
       "      <th>3</th>\n",
       "      <td>0</td>\n",
       "      <td>93.626943</td>\n",
       "      <td>6.373057</td>\n",
       "      <td>90.096618</td>\n",
       "      <td>6.843800</td>\n",
       "      <td>3.056995</td>\n",
       "      <td>1.036269</td>\n",
       "      <td>2.020725</td>\n",
       "      <td>4.455959</td>\n",
       "      <td>8.290155</td>\n",
       "      <td>...</td>\n",
       "      <td>59.0</td>\n",
       "      <td>20.0</td>\n",
       "      <td>39.0</td>\n",
       "      <td>86.0</td>\n",
       "      <td>160.0</td>\n",
       "      <td>1566.0</td>\n",
       "      <td>Frankenstein_(1931)</td>\n",
       "      <td>1931-01-01</td>\n",
       "      <td>12000000</td>\n",
       "      <td>71</td>\n",
       "    </tr>\n",
       "    <tr>\n",
       "      <th>4</th>\n",
       "      <td>0</td>\n",
       "      <td>90.578735</td>\n",
       "      <td>9.421265</td>\n",
       "      <td>87.899942</td>\n",
       "      <td>8.260617</td>\n",
       "      <td>2.781516</td>\n",
       "      <td>2.198295</td>\n",
       "      <td>3.095559</td>\n",
       "      <td>4.665769</td>\n",
       "      <td>5.204127</td>\n",
       "      <td>...</td>\n",
       "      <td>62.0</td>\n",
       "      <td>49.0</td>\n",
       "      <td>69.0</td>\n",
       "      <td>104.0</td>\n",
       "      <td>116.0</td>\n",
       "      <td>1829.0</td>\n",
       "      <td>Dr._Jekyll_and_Mr._Hyde_(1931)</td>\n",
       "      <td>1931-01-01</td>\n",
       "      <td>1300000</td>\n",
       "      <td>98</td>\n",
       "    </tr>\n",
       "    <tr>\n",
       "      <th>...</th>\n",
       "      <td>...</td>\n",
       "      <td>...</td>\n",
       "      <td>...</td>\n",
       "      <td>...</td>\n",
       "      <td>...</td>\n",
       "      <td>...</td>\n",
       "      <td>...</td>\n",
       "      <td>...</td>\n",
       "      <td>...</td>\n",
       "      <td>...</td>\n",
       "      <td>...</td>\n",
       "      <td>...</td>\n",
       "      <td>...</td>\n",
       "      <td>...</td>\n",
       "      <td>...</td>\n",
       "      <td>...</td>\n",
       "      <td>...</td>\n",
       "      <td>...</td>\n",
       "      <td>...</td>\n",
       "      <td>...</td>\n",
       "      <td>...</td>\n",
       "    </tr>\n",
       "    <tr>\n",
       "      <th>165</th>\n",
       "      <td>0</td>\n",
       "      <td>92.476230</td>\n",
       "      <td>7.523770</td>\n",
       "      <td>91.089613</td>\n",
       "      <td>6.466395</td>\n",
       "      <td>6.242249</td>\n",
       "      <td>7.730467</td>\n",
       "      <td>5.167425</td>\n",
       "      <td>12.649855</td>\n",
       "      <td>5.994212</td>\n",
       "      <td>...</td>\n",
       "      <td>151.0</td>\n",
       "      <td>187.0</td>\n",
       "      <td>125.0</td>\n",
       "      <td>306.0</td>\n",
       "      <td>145.0</td>\n",
       "      <td>1505.0</td>\n",
       "      <td>Deadpool_2_(2018)</td>\n",
       "      <td>2018-01-01</td>\n",
       "      <td>786365638</td>\n",
       "      <td>119</td>\n",
       "    </tr>\n",
       "    <tr>\n",
       "      <th>166</th>\n",
       "      <td>0</td>\n",
       "      <td>80.009255</td>\n",
       "      <td>19.990745</td>\n",
       "      <td>72.528202</td>\n",
       "      <td>21.101526</td>\n",
       "      <td>18.695049</td>\n",
       "      <td>4.488663</td>\n",
       "      <td>2.591393</td>\n",
       "      <td>15.085609</td>\n",
       "      <td>3.146691</td>\n",
       "      <td>...</td>\n",
       "      <td>404.0</td>\n",
       "      <td>97.0</td>\n",
       "      <td>56.0</td>\n",
       "      <td>326.0</td>\n",
       "      <td>68.0</td>\n",
       "      <td>1210.0</td>\n",
       "      <td>Bumblebee_(2018)</td>\n",
       "      <td>2018-01-01</td>\n",
       "      <td>467989645</td>\n",
       "      <td>114</td>\n",
       "    </tr>\n",
       "    <tr>\n",
       "      <th>167</th>\n",
       "      <td>0</td>\n",
       "      <td>91.747573</td>\n",
       "      <td>8.252427</td>\n",
       "      <td>91.101322</td>\n",
       "      <td>7.841410</td>\n",
       "      <td>12.378641</td>\n",
       "      <td>3.478964</td>\n",
       "      <td>4.692557</td>\n",
       "      <td>14.563107</td>\n",
       "      <td>3.074434</td>\n",
       "      <td>...</td>\n",
       "      <td>153.0</td>\n",
       "      <td>43.0</td>\n",
       "      <td>58.0</td>\n",
       "      <td>180.0</td>\n",
       "      <td>38.0</td>\n",
       "      <td>764.0</td>\n",
       "      <td>A_Quiet_Place_(2018)</td>\n",
       "      <td>2018-01-01</td>\n",
       "      <td>340677200</td>\n",
       "      <td>91</td>\n",
       "    </tr>\n",
       "    <tr>\n",
       "      <th>168</th>\n",
       "      <td>0</td>\n",
       "      <td>95.707633</td>\n",
       "      <td>4.292367</td>\n",
       "      <td>93.356401</td>\n",
       "      <td>2.076125</td>\n",
       "      <td>7.410407</td>\n",
       "      <td>59.769184</td>\n",
       "      <td>3.158534</td>\n",
       "      <td>4.656813</td>\n",
       "      <td>1.801984</td>\n",
       "      <td>...</td>\n",
       "      <td>366.0</td>\n",
       "      <td>2952.0</td>\n",
       "      <td>156.0</td>\n",
       "      <td>230.0</td>\n",
       "      <td>89.0</td>\n",
       "      <td>1146.0</td>\n",
       "      <td>Black_Panther_(2018)</td>\n",
       "      <td>2018-01-01</td>\n",
       "      <td>1346739107</td>\n",
       "      <td>134</td>\n",
       "    </tr>\n",
       "    <tr>\n",
       "      <th>169</th>\n",
       "      <td>0</td>\n",
       "      <td>93.146853</td>\n",
       "      <td>6.853147</td>\n",
       "      <td>91.218638</td>\n",
       "      <td>5.824373</td>\n",
       "      <td>13.636364</td>\n",
       "      <td>1.958042</td>\n",
       "      <td>3.986014</td>\n",
       "      <td>18.881119</td>\n",
       "      <td>1.398601</td>\n",
       "      <td>...</td>\n",
       "      <td>195.0</td>\n",
       "      <td>28.0</td>\n",
       "      <td>57.0</td>\n",
       "      <td>270.0</td>\n",
       "      <td>20.0</td>\n",
       "      <td>860.0</td>\n",
       "      <td>Scary_Stories_to_Tell_in_the_Dark_(2019)</td>\n",
       "      <td>2019-01-01</td>\n",
       "      <td>95438172</td>\n",
       "      <td>108</td>\n",
       "    </tr>\n",
       "  </tbody>\n",
       "</table>\n",
       "<p>170 rows × 32 columns</p>\n",
       "</div>"
      ],
      "text/plain": [
       "     index  man_screentime  woman_screentime   only_men  only_women  \\\n",
       "0        0       97.765618          2.234382  96.153846    2.354788   \n",
       "1        0       94.101509          5.898491  91.476710    5.946482   \n",
       "2        0       96.304719          3.695281  90.707965    6.342183   \n",
       "3        0       93.626943          6.373057  90.096618    6.843800   \n",
       "4        0       90.578735          9.421265  87.899942    8.260617   \n",
       "..     ...             ...               ...        ...         ...   \n",
       "165      0       92.476230          7.523770  91.089613    6.466395   \n",
       "166      0       80.009255         19.990745  72.528202   21.101526   \n",
       "167      0       91.747573          8.252427  91.101322    7.841410   \n",
       "168      0       95.707633          4.292367  93.356401    2.076125   \n",
       "169      0       93.146853          6.853147  91.218638    5.824373   \n",
       "\n",
       "     asian_screentime  black_screentime  indian_screentime  \\\n",
       "0            3.009576          1.003192           3.237574   \n",
       "1            4.183813          0.411523           2.057613   \n",
       "2            2.103468          7.220011           2.615122   \n",
       "3            3.056995          1.036269           2.020725   \n",
       "4            2.781516          2.198295           3.095559   \n",
       "..                ...               ...                ...   \n",
       "165          6.242249          7.730467           5.167425   \n",
       "166         18.695049          4.488663           2.591393   \n",
       "167         12.378641          3.478964           4.692557   \n",
       "168          7.410407         59.769184           3.158534   \n",
       "169         13.636364          1.958042           3.986014   \n",
       "\n",
       "     latino_hispanic_screentime  middle_eastern_screentime  ...  total_asian  \\\n",
       "0                      5.882353                   6.429549  ...         66.0   \n",
       "1                      2.263374                   4.595336  ...         61.0   \n",
       "2                      4.206936                   2.728823  ...         37.0   \n",
       "3                      4.455959                   8.290155  ...         59.0   \n",
       "4                      4.665769                   5.204127  ...         62.0   \n",
       "..                          ...                        ...  ...          ...   \n",
       "165                   12.649855                   5.994212  ...        151.0   \n",
       "166                   15.085609                   3.146691  ...        404.0   \n",
       "167                   14.563107                   3.074434  ...        153.0   \n",
       "168                    4.656813                   1.801984  ...        366.0   \n",
       "169                   18.881119                   1.398601  ...        195.0   \n",
       "\n",
       "     total_black  total_indian  total_latino_hispanic  total_middle_eastern  \\\n",
       "0           22.0          71.0                  129.0                 141.0   \n",
       "1            6.0          30.0                   33.0                  67.0   \n",
       "2          127.0          46.0                   74.0                  48.0   \n",
       "3           20.0          39.0                   86.0                 160.0   \n",
       "4           49.0          69.0                  104.0                 116.0   \n",
       "..           ...           ...                    ...                   ...   \n",
       "165        187.0         125.0                  306.0                 145.0   \n",
       "166         97.0          56.0                  326.0                  68.0   \n",
       "167         43.0          58.0                  180.0                  38.0   \n",
       "168       2952.0         156.0                  230.0                  89.0   \n",
       "169         28.0          57.0                  270.0                  20.0   \n",
       "\n",
       "     total_white                                     title       year  \\\n",
       "0         1764.0        The_Cabinet_of_Dr._Caligari_(1920) 1920-01-01   \n",
       "1         1261.0        The_Hunchback_of_Notre_Dame_(1923) 1923-01-01   \n",
       "2         1427.0                     The_Lost_World_(1925) 1925-01-01   \n",
       "3         1566.0                       Frankenstein_(1931) 1931-01-01   \n",
       "4         1829.0            Dr._Jekyll_and_Mr._Hyde_(1931) 1931-01-01   \n",
       "..           ...                                       ...        ...   \n",
       "165       1505.0                         Deadpool_2_(2018) 2018-01-01   \n",
       "166       1210.0                          Bumblebee_(2018) 2018-01-01   \n",
       "167        764.0                      A_Quiet_Place_(2018) 2018-01-01   \n",
       "168       1146.0                      Black_Panther_(2018) 2018-01-01   \n",
       "169        860.0  Scary_Stories_to_Tell_in_the_Dark_(2019) 2019-01-01   \n",
       "\n",
       "        revenue  runtime  \n",
       "0          8811       77  \n",
       "1             0      113  \n",
       "2             0       93  \n",
       "3      12000000       71  \n",
       "4       1300000       98  \n",
       "..          ...      ...  \n",
       "165   786365638      119  \n",
       "166   467989645      114  \n",
       "167   340677200       91  \n",
       "168  1346739107      134  \n",
       "169    95438172      108  \n",
       "\n",
       "[170 rows x 32 columns]"
      ]
     },
     "execution_count": 920,
     "metadata": {},
     "output_type": "execute_result"
    }
   ],
   "source": [
    "get_evolution_data()"
   ]
  },
  {
   "cell_type": "code",
   "execution_count": null,
   "id": "0b1390c0",
   "metadata": {},
   "outputs": [],
   "source": []
  }
 ],
 "metadata": {
  "kernelspec": {
   "display_name": "Python 3 (ipykernel)",
   "language": "python",
   "name": "python3"
  },
  "language_info": {
   "codemirror_mode": {
    "name": "ipython",
    "version": 3
   },
   "file_extension": ".py",
   "mimetype": "text/x-python",
   "name": "python",
   "nbconvert_exporter": "python",
   "pygments_lexer": "ipython3",
   "version": "3.8.12"
  },
  "toc": {
   "base_numbering": 1,
   "nav_menu": {},
   "number_sections": true,
   "sideBar": true,
   "skip_h1_title": false,
   "title_cell": "Table of Contents",
   "title_sidebar": "Contents",
   "toc_cell": false,
   "toc_position": {},
   "toc_section_display": true,
   "toc_window_display": false
  }
 },
 "nbformat": 4,
 "nbformat_minor": 5
}
