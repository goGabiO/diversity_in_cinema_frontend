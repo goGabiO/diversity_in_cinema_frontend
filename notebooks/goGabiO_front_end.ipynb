{
 "cells": [
  {
   "cell_type": "markdown",
   "id": "56c9bea5",
   "metadata": {},
   "source": [
    "# Structure for Diversity in Cinema frontend "
   ]
  },
  {
   "cell_type": "markdown",
   "id": "202f2495",
   "metadata": {},
   "source": [
    "\\ Frontend GH repo needed /\n",
    "\n",
    "*Use Docker container to:*\n",
    "- store pre-constructed statistical dataframes\n",
    "- run code for creating dashboard content\n",
    "\n",
    "*Use Streamlit site to:*\n",
    "- allow for minimal user interaction (e.g. choosing movie title)\n",
    "- display UI dashboard\n",
    "\n",
    "*Use Heroku to:*\n",
    "- deploy Streamlit site"
   ]
  },
  {
   "cell_type": "code",
   "execution_count": null,
   "id": "4ea4390f",
   "metadata": {},
   "outputs": [],
   "source": []
  },
  {
   "cell_type": "markdown",
   "id": "f485c72a",
   "metadata": {},
   "source": [
    "## Create Docker container/image"
   ]
  },
  {
   "cell_type": "code",
   "execution_count": null,
   "id": "ca60bab1",
   "metadata": {},
   "outputs": [],
   "source": []
  },
  {
   "cell_type": "markdown",
   "id": "5d171cd7",
   "metadata": {},
   "source": [
    "## Create dashboard content and UI in Streamlit"
   ]
  },
  {
   "cell_type": "code",
   "execution_count": null,
   "id": "60fe7e41",
   "metadata": {},
   "outputs": [],
   "source": []
  },
  {
   "cell_type": "markdown",
   "id": "a620531e",
   "metadata": {},
   "source": [
    "## Deploy with Heroku"
   ]
  },
  {
   "cell_type": "code",
   "execution_count": null,
   "id": "1d907e43",
   "metadata": {},
   "outputs": [],
   "source": []
  }
 ],
 "metadata": {
  "kernelspec": {
   "display_name": "Python 3 (ipykernel)",
   "language": "python",
   "name": "python3"
  },
  "language_info": {
   "codemirror_mode": {
    "name": "ipython",
    "version": 3
   },
   "file_extension": ".py",
   "mimetype": "text/x-python",
   "name": "python",
   "nbconvert_exporter": "python",
   "pygments_lexer": "ipython3",
   "version": "3.8.12"
  },
  "toc": {
   "base_numbering": 1,
   "nav_menu": {},
   "number_sections": true,
   "sideBar": true,
   "skip_h1_title": false,
   "title_cell": "Table of Contents",
   "title_sidebar": "Contents",
   "toc_cell": false,
   "toc_position": {},
   "toc_section_display": true,
   "toc_window_display": false
  }
 },
 "nbformat": 4,
 "nbformat_minor": 5
}
